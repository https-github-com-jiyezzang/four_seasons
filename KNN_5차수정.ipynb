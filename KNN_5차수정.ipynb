{
  "cells": [
    {
      "cell_type": "markdown",
      "id": "46de910d",
      "metadata": {
        "id": "46de910d"
      },
      "source": [
        "# 프로젝트: 퍼스널 컬러 진단 - KNN\n",
        "\n",
        "## 데이터\n",
        "1. Cifer10 동물데이터: http://www.cs.toronto.edu/~kriz/cifar.html  \n",
        "2. 직접 수집한 쿨톤 100장, 웜톤 100장  \n",
        "\n",
        "## 목표\n",
        "1. 우선 CS231에 나온 내용을 기반으로 cifer10 데이터셋을 KNN으로 분류하는 작업을 해보도록 하겠다!\n",
        "2. 1단계를 적용하여 우리의 퍼스널컬러 데이터를 KNN으로 분류하는 작업을 해보자!\n",
        "3. KNN + Skin Detection\n",
        "4. KNN + Face Cropped\n",
        "5. KNN + gradio"
      ]
    },
    {
      "cell_type": "markdown",
      "id": "8fc3ba3d",
      "metadata": {
        "id": "8fc3ba3d"
      },
      "source": [
        "# 1. Cifer10 분류"
      ]
    },
    {
      "cell_type": "markdown",
      "source": [
        "## (1) 라이브러리 및 데이터 풀러오기"
      ],
      "metadata": {
        "id": "oHLJejbz9WG_"
      },
      "id": "oHLJejbz9WG_"
    },
    {
      "cell_type": "code",
      "execution_count": null,
      "id": "7d5feb18",
      "metadata": {
        "id": "7d5feb18"
      },
      "outputs": [],
      "source": [
        "import tensorflow as tf\n",
        "import numpy as np"
      ]
    },
    {
      "cell_type": "code",
      "execution_count": null,
      "id": "9bab4bc2",
      "metadata": {
        "id": "9bab4bc2",
        "outputId": "3c1c0aa3-519b-4689-fa03-d3e086290815",
        "colab": {
          "base_uri": "https://localhost:8080/"
        }
      },
      "outputs": [
        {
          "output_type": "stream",
          "name": "stdout",
          "text": [
            "Downloading data from https://www.cs.toronto.edu/~kriz/cifar-10-python.tar.gz\n",
            "170498071/170498071 [==============================] - 2s 0us/step\n",
            "(50000, 32, 32, 3)\n",
            "(50000, 1)\n",
            "(10000, 32, 32, 3)\n",
            "(10000, 1)\n"
          ]
        }
      ],
      "source": [
        "# CIFAR-10 데이터셋 로드\n",
        "(Xtr, Ytr), (Xte, Yte) = tf.keras.datasets.cifar10.load_data()\n",
        "\n",
        "# 데이터 확인\n",
        "print(Xtr.shape)  # (50000, 32, 32, 3)\n",
        "print(Ytr.shape)  # (50000, 1)\n",
        "print(Xte.shape)   # (10000, 32, 32, 3)\n",
        "print(Yte.shape)   # (10000, 1)"
      ]
    },
    {
      "cell_type": "code",
      "execution_count": null,
      "id": "669c409a",
      "metadata": {
        "id": "669c409a"
      },
      "outputs": [],
      "source": [
        "#print(Xtr)"
      ]
    },
    {
      "cell_type": "code",
      "execution_count": null,
      "id": "c40844f6",
      "metadata": {
        "id": "c40844f6",
        "outputId": "5c8aa0a8-bdf7-4303-e672-d777e0ba4e6a",
        "colab": {
          "base_uri": "https://localhost:8080/"
        }
      },
      "outputs": [
        {
          "output_type": "stream",
          "name": "stdout",
          "text": [
            "[[6]\n",
            " [9]\n",
            " [9]\n",
            " ...\n",
            " [9]\n",
            " [1]\n",
            " [1]]\n"
          ]
        }
      ],
      "source": [
        "print(Ytr)"
      ]
    },
    {
      "cell_type": "markdown",
      "id": "11f2fe3d",
      "metadata": {
        "id": "11f2fe3d"
      },
      "source": [
        "## (2) 데이터 전처리"
      ]
    },
    {
      "cell_type": "code",
      "execution_count": null,
      "id": "df5e715a",
      "metadata": {
        "id": "df5e715a"
      },
      "outputs": [],
      "source": [
        "# 모든 이미지가 1차원 배열로 저장된다.\n",
        "Xtr_rows = Xtr.reshape(Xtr.shape[0], 32 * 32 * 3) # Xtr_rows는 50000 x 3072 크기의 배열.\n",
        "Xte_rows = Xte.reshape(Xte.shape[0], 32 * 32 * 3) # Xte_rows는 10000 x 3072 크기의 배열."
      ]
    },
    {
      "cell_type": "markdown",
      "id": "b9162d76",
      "metadata": {
        "id": "b9162d76"
      },
      "source": [
        "## (3) train, validation 분류하기"
      ]
    },
    {
      "cell_type": "code",
      "execution_count": null,
      "id": "024d7e50",
      "metadata": {
        "id": "024d7e50"
      },
      "outputs": [],
      "source": [
        "# Xtr_rows, Ytr, Xte_rows, Yte 는 이전과 동일하게 갖고 있다고 가정하자.\n",
        "# Xtr_rows 는 50,000 x 3072 행렬이었다.\n",
        "Xval_rows = Xtr_rows[:1000, :] # 앞의 1000 개를 검증용으로 선택한다.\n",
        "Yval = Ytr[:1000]\n",
        "Xtr_rows = Xtr_rows[1000:, :] # 뒤쪽의 49,000 개를 학습용으로 선택한다.\n",
        "Ytr = Ytr[1000:]"
      ]
    },
    {
      "cell_type": "markdown",
      "id": "5f89aa05",
      "metadata": {
        "id": "5f89aa05"
      },
      "source": [
        "## (4) KNN(최접근이웃)"
      ]
    },
    {
      "cell_type": "code",
      "execution_count": null,
      "id": "789fea4b",
      "metadata": {
        "id": "789fea4b"
      },
      "outputs": [],
      "source": [
        "class NearestNeighbor(object):\n",
        "    def __init__(self):\n",
        "        pass\n",
        "\n",
        "    def train(self, X, y):\n",
        "        \"\"\" X is N x D where each row is an example. Y is 1-dimension of size N \"\"\"\n",
        "        # nearest neighbor 분류기는 단순히 모든 학습 데이터를 기억해둔다.\n",
        "        self.Xtr = X\n",
        "        self.ytr = y\n",
        "\n",
        "    def predict(self, X, k):\n",
        "        \"\"\" X is N x D where each row is an example we wish to predict label for \"\"\"\n",
        "        num_test = X.shape[0]\n",
        "        # 출력 type과 입력 type이 갖게 되도록 확인해준다.\n",
        "        Ypred = np.zeros(num_test, dtype = self.ytr.dtype)\n",
        "\n",
        "    # loop over all test rows\n",
        "        for i in range(num_test):\n",
        "        # i번째 테스트 이미지와 가장 가까운 학습 이미지를\n",
        "        # L1 거리(절대값 차의 총합)를 이용하여 찾는다.\n",
        "            distances = np.sum(np.abs(self.Xtr - X[i,:]), axis = 1)\n",
        "            #distances = np.sqrt(np.sum(np.square(self.Xtr - X[i,:]), axis = 1))\n",
        "            #min_index = np.argmin(distances) # 가장 작은 distance를 갖는 인덱스를 찾는다.\n",
        "            #pred[i] = self.ytr[min_index] # 가장 가까운 이웃의 라벨로 예측\n",
        "\n",
        "            indices = np.argsort(distances)  # 거리가 작은 순서대로 인덱스 정렬\n",
        "            k_nearest_labels = self.ytr[indices[:k]]  # k개의 가장 가까운 이웃의 라벨\n",
        "            unique, counts = np.unique(k_nearest_labels, return_counts=True)\n",
        "            Ypred[i] = unique[np.argmax(counts)]  # 가장 많은 투표를 받은 라벨로 예측\n",
        "        return Ypred"
      ]
    },
    {
      "cell_type": "code",
      "execution_count": null,
      "id": "b37be30b",
      "metadata": {
        "id": "b37be30b",
        "outputId": "93e9aa9b-8081-4fa7-a37a-a53c99d21605"
      },
      "outputs": [
        {
          "name": "stdout",
          "output_type": "stream",
          "text": [
            "accuracy: 0.099237\n",
            "accuracy: 0.099692\n",
            "accuracy: 0.099476\n",
            "accuracy: 0.099453\n",
            "accuracy: 0.099738\n",
            "accuracy: 0.099670\n",
            "accuracy: 0.099609\n"
          ]
        }
      ],
      "source": [
        "# 검증 셋에서 가장 잘 동작하는 hyperparameter 들을 찾는다.\n",
        "validation_accuracies = []\n",
        "for k in [1, 3, 5, 10, 20, 50, 100]:\n",
        "\n",
        "    # 특정 k 값을 정해서 검증 데이터에 대해 평가할 때 사용한다.\n",
        "    nn = NearestNeighbor()\n",
        "    nn.train(Xtr_rows, Ytr)\n",
        "    # 여기서는 k를 input으로 받을 수 있도록 변형된 NearestNeighbor 클래스가 있다고 가정하자.\n",
        "    Yval_predict = nn.predict(Xval_rows, k = k)\n",
        "    acc = np.mean(Yval_predict == Yval)\n",
        "    print('accuracy: %f' % (acc,))\n",
        "\n",
        "    # 검증 셋에 대한 정확도를 저장해 놓는다.\n",
        "    validation_accuracies.append((k, acc))"
      ]
    },
    {
      "cell_type": "code",
      "execution_count": null,
      "id": "d6a907ac",
      "metadata": {
        "id": "d6a907ac",
        "outputId": "ef2ea02b-913b-44e0-e9e7-2f0e39d11520"
      },
      "outputs": [
        {
          "name": "stdout",
          "output_type": "stream",
          "text": [
            "[(1, 0.099237), (3, 0.099692), (5, 0.099476), (10, 0.099453), (20, 0.099738), (50, 0.09967), (100, 0.099609)]\n"
          ]
        }
      ],
      "source": [
        "print(validation_accuracies)"
      ]
    },
    {
      "cell_type": "markdown",
      "id": "59e5529a",
      "metadata": {
        "id": "59e5529a"
      },
      "source": [
        "-> 데이터 갯수에 비해 k값을 너무 작게 설정한 것 같아서 다시 수정해서 시도"
      ]
    },
    {
      "cell_type": "code",
      "execution_count": null,
      "id": "934bc6d0",
      "metadata": {
        "id": "934bc6d0",
        "outputId": "60ad62e4-dee1-4ee5-9332-a7d8f6290fe5"
      },
      "outputs": [
        {
          "name": "stdout",
          "output_type": "stream",
          "text": [
            "accuracy: 0.099609\n",
            "accuracy: 0.100084\n",
            "accuracy: 0.100414\n",
            "accuracy: 0.100554\n",
            "accuracy: 0.100498\n"
          ]
        }
      ],
      "source": [
        "# 검증 셋에서 가장 잘 동작하는 hyperparameter 들을 찾는다.\n",
        "validation_accuracies = []\n",
        "for k in [100, 500, 2000, 4000, 8000]:\n",
        "\n",
        "    # 특정 k 값을 정해서 검증 데이터에 대해 평가할 때 사용한다.\n",
        "    nn = NearestNeighbor()\n",
        "    nn.train(Xtr_rows, Ytr)\n",
        "    # 여기서는 k를 input으로 받을 수 있도록 변형된 NearestNeighbor 클래스가 있다고 가정하자.\n",
        "    Yval_predict = nn.predict(Xval_rows, k = k)\n",
        "    acc = np.mean(Yval_predict == Yval)\n",
        "    print('accuracy: %f' % (acc,))\n",
        "\n",
        "    # 검증 셋에 대한 정확도를 저장해 놓는다.\n",
        "    validation_accuracies.append((k, acc))"
      ]
    },
    {
      "cell_type": "code",
      "execution_count": null,
      "id": "56b24124",
      "metadata": {
        "id": "56b24124",
        "outputId": "11a488fe-50f3-457f-c8af-25c08b9d08ea"
      },
      "outputs": [
        {
          "name": "stdout",
          "output_type": "stream",
          "text": [
            "[(100, 0.099609), (500, 0.100084), (2000, 0.100414), (4000, 0.100554), (8000, 0.100498)]\n"
          ]
        }
      ],
      "source": [
        "print(validation_accuracies)"
      ]
    },
    {
      "cell_type": "markdown",
      "id": "fb70107e",
      "metadata": {
        "id": "fb70107e"
      },
      "source": [
        "# 2. 퍼스널 컬러 분류: 베이스코드\n"
      ]
    },
    {
      "cell_type": "markdown",
      "source": [
        "## (1) 라이브러리 및 데이터 불러오기"
      ],
      "metadata": {
        "id": "NrzWpuxBLIyG"
      },
      "id": "NrzWpuxBLIyG"
    },
    {
      "cell_type": "code",
      "execution_count": 33,
      "id": "c8020e33",
      "metadata": {
        "id": "c8020e33"
      },
      "outputs": [],
      "source": [
        "import tensorflow as tf\n",
        "import numpy as np\n",
        "import cv2\n",
        "import os\n",
        "import glob\n",
        "from PIL import Image"
      ]
    },
    {
      "cell_type": "code",
      "execution_count": 34,
      "id": "76374174",
      "metadata": {
        "id": "76374174"
      },
      "outputs": [],
      "source": [
        "# 파일 불러오는 함수\n",
        "def load_images_from_directory(directory_path):\n",
        "    image_paths = glob.glob(directory_path + '/*.jpg')  # 디렉토리 내의 모든 jpg 파일 경로 찾기\n",
        "    image_paths.extend(glob.glob(directory_path + '/*.jpeg'))  # 디렉토리 내의 모든 jpeg 파일 경로 추가\n",
        "\n",
        "    images = []\n",
        "    for image_path in image_paths:\n",
        "        image = Image.open(image_path)\n",
        "        image_np = np.array(image)\n",
        "        images.append(image_np)\n",
        "\n",
        "    return images"
      ]
    },
    {
      "cell_type": "markdown",
      "source": [
        "- png파일의 경우 jpg, jfif, jepg 파일과 다른 알고리즘을 사용하여 shape이 동일하지 않는 오류가 뜨는 문제가 있었음. 그래서 모든 파일을 jpg, jepg로 바꾸어 해결함"
      ],
      "metadata": {
        "id": "fjlcRQ1h9vtS"
      },
      "id": "fjlcRQ1h9vtS"
    },
    {
      "cell_type": "code",
      "source": [
        "from google.colab import drive\n",
        "drive.mount('/content/drive')"
      ],
      "metadata": {
        "colab": {
          "base_uri": "https://localhost:8080/"
        },
        "id": "UFw-OAj1eWsx",
        "outputId": "80c18592-ea54-4d7f-d5d9-2b4011dab5fb"
      },
      "id": "UFw-OAj1eWsx",
      "execution_count": 35,
      "outputs": [
        {
          "output_type": "stream",
          "name": "stdout",
          "text": [
            "Drive already mounted at /content/drive; to attempt to forcibly remount, call drive.mount(\"/content/drive\", force_remount=True).\n"
          ]
        }
      ]
    },
    {
      "cell_type": "code",
      "execution_count": 36,
      "id": "2e82a1f4",
      "metadata": {
        "id": "2e82a1f4",
        "colab": {
          "base_uri": "https://localhost:8080/"
        },
        "outputId": "46568969-30d5-4340-89f4-497f8076440a"
      },
      "outputs": [
        {
          "output_type": "stream",
          "name": "stdout",
          "text": [
            "50\n",
            "50\n",
            "100\n"
          ]
        },
        {
          "output_type": "stream",
          "name": "stderr",
          "text": [
            "<__array_function__ internals>:180: VisibleDeprecationWarning: Creating an ndarray from ragged nested sequences (which is a list-or-tuple of lists-or-tuples-or ndarrays with different lengths or shapes) is deprecated. If you meant to do this, you must specify 'dtype=object' when creating the ndarray.\n"
          ]
        }
      ],
      "source": [
        "# 모든 이미지 불러오기\n",
        "directory_path = \"/content/drive/MyDrive/four_seasons/사계절_연예인 이미지 데이터셋/prototype/쿨톤_jpg\"  # 디렉토리 경로\n",
        "directory_path2 = \"/content/drive/MyDrive/four_seasons/사계절_연예인 이미지 데이터셋/prototype/웜톤_jpg\"  # 디렉토리 경로\n",
        "images = load_images_from_directory(directory_path)\n",
        "images2 = load_images_from_directory(directory_path2)\n",
        "\n",
        "length = len(images)\n",
        "print(length)\n",
        "print(len(images2))\n",
        "\n",
        "# 이미지 리스트 합치기\n",
        "images = np.concatenate((images, images2), axis=0)\n",
        "print(len(images))"
      ]
    },
    {
      "cell_type": "markdown",
      "id": "b53b01ac",
      "metadata": {
        "id": "b53b01ac"
      },
      "source": [
        "## (2) 데이터 전처리"
      ]
    },
    {
      "cell_type": "code",
      "source": [
        "# 리사이즈할 함수\n",
        "def images_resize (images):\n",
        "  # 새로운 크기로 리사이즈할 이미지의 너비와 높이\n",
        "  new_width = 200\n",
        "  new_height = 200\n",
        "\n",
        "  resized_images = []\n",
        "  for image in images:\n",
        "    resized_image = cv2.resize(image, (new_width, new_height))\n",
        "    resized_images.append(resized_image)\n",
        "\n",
        "  # resized_images 리스트를 NumPy 배열로 변환\n",
        "  resized_images_array = np.array(resized_images)\n",
        "\n",
        "  # 변환된 NumPy 배열 출력\n",
        "  print(resized_images_array.shape)\n",
        "\n",
        "  return resized_images_array\n",
        "\n",
        "resized_images_array = images_resize(images)"
      ],
      "metadata": {
        "colab": {
          "base_uri": "https://localhost:8080/"
        },
        "id": "u_7ZCWrwrnSr",
        "outputId": "f124faea-1e31-4602-b18f-e6b29361e010"
      },
      "id": "u_7ZCWrwrnSr",
      "execution_count": 37,
      "outputs": [
        {
          "output_type": "stream",
          "name": "stdout",
          "text": [
            "(100, 200, 200, 3)\n"
          ]
        }
      ]
    },
    {
      "cell_type": "markdown",
      "source": [
        "- 이미지 파일마다 shape이 달라서 데이터셋을 하나의 numpy로 넣는 것에 문제가 있었음 그래서 cv2.resize를 이용하여 크기를 통일시키고 list로 묶여있던 파일들을 numpy로 묶음"
      ],
      "metadata": {
        "id": "Y9dFc2sC-QZl"
      },
      "id": "Y9dFc2sC-QZl"
    },
    {
      "cell_type": "code",
      "source": [
        "# 평탄화 작업\n",
        "images = resized_images_array.reshape(resized_images_array.shape[0], 200 * 200 * 3) /255"
      ],
      "metadata": {
        "id": "VdT_yCBF6omQ"
      },
      "id": "VdT_yCBF6omQ",
      "execution_count": 38,
      "outputs": []
    },
    {
      "cell_type": "code",
      "execution_count": 39,
      "id": "60e33d78",
      "metadata": {
        "colab": {
          "base_uri": "https://localhost:8080/"
        },
        "id": "60e33d78",
        "outputId": "5cc39d3b-c802-4839-9607-7c97b40367a1"
      },
      "outputs": [
        {
          "output_type": "stream",
          "name": "stdout",
          "text": [
            "100\n",
            "(100,)\n",
            "[0. 0. 0. 0. 0. 0. 0. 0. 0. 0. 0. 0. 0. 0. 0. 0. 0. 0. 0. 0. 0. 0. 0. 0.\n",
            " 0. 0. 0. 0. 0. 0. 0. 0. 0. 0. 0. 0. 0. 0. 0. 0. 0. 0. 0. 0. 0. 0. 0. 0.\n",
            " 0. 0. 1. 1. 1. 1. 1. 1. 1. 1. 1. 1. 1. 1. 1. 1. 1. 1. 1. 1. 1. 1. 1. 1.\n",
            " 1. 1. 1. 1. 1. 1. 1. 1. 1. 1. 1. 1. 1. 1. 1. 1. 1. 1. 1. 1. 1. 1. 1. 1.\n",
            " 1. 1. 1. 1.]\n"
          ]
        }
      ],
      "source": [
        "# labels에 대한 코드\n",
        "num = len(images)\n",
        "labels = np.zeros(num)\n",
        "\n",
        "# 처음 50개의 요소를 1로 변경\n",
        "# 0이 쿨톤 1이 웜톤\n",
        "labels[length:] = 1\n",
        "\n",
        "# 0이 쿨톤 1이 웜톤\n",
        "print(len(images))\n",
        "print(labels.shape)\n",
        "print(labels)"
      ]
    },
    {
      "cell_type": "markdown",
      "source": [
        "- 클래스는 0(쿨톤)과 1(웜톤) 두가지 이며 데이터가 100개이므로 라벨의 갯수도 그에 맞게 100개임 둘다 numpy array 형식으로 지정됨"
      ],
      "metadata": {
        "id": "L6zm7QauLOAm"
      },
      "id": "L6zm7QauLOAm"
    },
    {
      "cell_type": "markdown",
      "id": "6a496e53",
      "metadata": {
        "id": "6a496e53"
      },
      "source": [
        "## (3) train, val 분리하기"
      ]
    },
    {
      "cell_type": "code",
      "execution_count": 40,
      "id": "155986cb",
      "metadata": {
        "id": "155986cb",
        "colab": {
          "base_uri": "https://localhost:8080/"
        },
        "outputId": "69292fff-5f91-4fbe-8392-602886fda0ab"
      },
      "outputs": [
        {
          "output_type": "stream",
          "name": "stdout",
          "text": [
            "x_train:  (70, 120000)\n",
            "y_train:  (70,)\n",
            "x_val:  (30, 120000)\n",
            "y_val:  (30,)\n"
          ]
        }
      ],
      "source": [
        "from sklearn.model_selection import train_test_split\n",
        "\n",
        "x_train, x_val, y_train, y_val = train_test_split(images,\n",
        "                                                  labels,\n",
        "                                                  test_size=0.3,\n",
        "                                                  random_state=42)\n",
        "\n",
        "print(\"x_train: \", x_train.shape)\n",
        "print(\"y_train: \", y_train.shape)\n",
        "print(\"x_val: \", x_val.shape)\n",
        "print(\"y_val: \", y_val.shape)"
      ]
    },
    {
      "cell_type": "markdown",
      "id": "065860dd",
      "metadata": {
        "id": "065860dd"
      },
      "source": [
        "## (4) KNN(최접근이웃)"
      ]
    },
    {
      "cell_type": "code",
      "execution_count": 41,
      "id": "4c022d31",
      "metadata": {
        "id": "4c022d31"
      },
      "outputs": [],
      "source": [
        "class NearestNeighbor(object):\n",
        "    def __init__(self):\n",
        "        pass\n",
        "\n",
        "    def train(self, X, y):\n",
        "        \"\"\" X is N x D where each row is an example. Y is 1-dimension of size N \"\"\"\n",
        "        # nearest neighbor 분류기는 단순히 모든 학습 데이터를 기억해둔다.\n",
        "        self.Xtr = X\n",
        "        self.ytr = y\n",
        "\n",
        "    def predict(self, X, k):\n",
        "        \"\"\" X is N x D where each row is an example we wish to predict label for \"\"\"\n",
        "        num_test = X.shape[0]\n",
        "        # 출력 type과 입력 type이 갖게 되도록 확인해준다.\n",
        "        Ypred = np.zeros(num_test, dtype = self.ytr.dtype)\n",
        "\n",
        "    # loop over all test rows\n",
        "        for i in range(num_test):\n",
        "        # i번째 테스트 이미지와 가장 가까운 학습 이미지를\n",
        "            # L1 거리(절대값 차의 총합)를 이용하여 찾는다.\n",
        "            #distances = np.sum(np.abs(self.Xtr - X[i,:]), axis = 1)\n",
        "            # L2 거리(직선 거리)를 이용하여 찾는다.\n",
        "            distances = np.sqrt(np.sum(np.square(self.Xtr - X[i,:]), axis = 1))\n",
        "\n",
        "            indices = np.argsort(distances)  # 거리가 작은 순서대로 인덱스 정렬\n",
        "            k_nearest_labels = self.ytr[indices[:k]]  # k개의 가장 가까운 이웃의 라벨\n",
        "            unique, counts = np.unique(k_nearest_labels, return_counts=True)\n",
        "            Ypred[i] = unique[np.argmax(counts)]  # 가장 많은 투표를 받은 라벨로 예측\n",
        "        return Ypred"
      ]
    },
    {
      "cell_type": "code",
      "execution_count": 42,
      "id": "d5747c33",
      "metadata": {
        "colab": {
          "base_uri": "https://localhost:8080/"
        },
        "id": "d5747c33",
        "outputId": "07342127-585b-4fb5-a95c-41b5101a1b22"
      },
      "outputs": [
        {
          "output_type": "stream",
          "name": "stdout",
          "text": [
            "k = 1,  accuracy: 0.566667\n",
            "k = 2,  accuracy: 0.566667\n",
            "k = 3,  accuracy: 0.533333\n",
            "k = 4,  accuracy: 0.533333\n",
            "k = 5,  accuracy: 0.400000\n",
            "k = 6,  accuracy: 0.500000\n",
            "k = 7,  accuracy: 0.466667\n",
            "k = 8,  accuracy: 0.566667\n",
            "k = 9,  accuracy: 0.500000\n",
            "k = 10,  accuracy: 0.500000\n",
            "k = 11,  accuracy: 0.500000\n",
            "k = 12,  accuracy: 0.466667\n",
            "k = 13,  accuracy: 0.533333\n",
            "k = 14,  accuracy: 0.566667\n",
            "k = 15,  accuracy: 0.500000\n",
            "k = 16,  accuracy: 0.566667\n",
            "k = 17,  accuracy: 0.600000\n",
            "k = 18,  accuracy: 0.633333\n",
            "k = 19,  accuracy: 0.566667\n",
            "k = 20,  accuracy: 0.566667\n",
            "k = 21,  accuracy: 0.500000\n",
            "k = 22,  accuracy: 0.533333\n",
            "k = 23,  accuracy: 0.500000\n",
            "k = 24,  accuracy: 0.433333\n",
            "k = 25,  accuracy: 0.366667\n",
            "k = 26,  accuracy: 0.366667\n",
            "k = 27,  accuracy: 0.400000\n",
            "k = 28,  accuracy: 0.366667\n",
            "k = 29,  accuracy: 0.366667\n",
            "k = 30,  accuracy: 0.433333\n"
          ]
        }
      ],
      "source": [
        "# 검증 셋에서 가장 잘 동작하는 hyperparameter 들을 찾는다.\n",
        "validation_accuracies = []\n",
        "for k in range(1, 31):\n",
        "\n",
        "    # 특정 k 값을 정해서 검증 데이터에 대해 평가할 때 사용한다.\n",
        "    nn = NearestNeighbor()\n",
        "    nn.train(x_train, y_train)\n",
        "    # 여기서는 k를 input으로 받을 수 있도록 변형된 NearestNeighbor 클래스가 있다고 가정하자.\n",
        "    Yval_predict = nn.predict(x_val, k = k)\n",
        "    acc = np.mean(Yval_predict == y_val)\n",
        "    print('k = %d, ' % (k), 'accuracy: %f' % (acc,))\n",
        "\n",
        "    # 검증 셋에 대한 정확도를 저장해 놓는다.\n",
        "    validation_accuracies.append((k, acc))"
      ]
    },
    {
      "cell_type": "markdown",
      "source": [
        "## (5) 평가하기"
      ],
      "metadata": {
        "id": "khYPiR4qBes7"
      },
      "id": "khYPiR4qBes7"
    },
    {
      "cell_type": "code",
      "source": [
        "# test에 적용할 가장 accuracy가 높은 값과 해당 인덱스 확인하기\n",
        "max_value = max(validation_accuracies, key=lambda x: x[1])[1]\n",
        "max_index = max(validation_accuracies, key=lambda x: x[1])[0]\n",
        "\n",
        "print(\"두 번째 요소에서 가장 큰 값:\", max_value)\n",
        "print(\"두 번째 요소에서 가장 큰 값의 인덱스:\", max_index) #k"
      ],
      "metadata": {
        "colab": {
          "base_uri": "https://localhost:8080/"
        },
        "id": "9dXbsFAcyEua",
        "outputId": "d1109b86-8fa7-4824-da78-dc665fb64e62"
      },
      "id": "9dXbsFAcyEua",
      "execution_count": 43,
      "outputs": [
        {
          "output_type": "stream",
          "name": "stdout",
          "text": [
            "두 번째 요소에서 가장 큰 값: 0.6333333333333333\n",
            "두 번째 요소에서 가장 큰 값의 인덱스: 18\n"
          ]
        }
      ]
    },
    {
      "cell_type": "code",
      "source": [
        "from sklearn.metrics import confusion_matrix\n",
        "\n",
        "y_pred = nn.predict(x_val, max_index)\n",
        "cm = confusion_matrix(y_val, y_pred)\n",
        "print(cm)"
      ],
      "metadata": {
        "colab": {
          "base_uri": "https://localhost:8080/"
        },
        "id": "bRQCPv_B5320",
        "outputId": "d6d777f8-1193-443b-9b53-5ce9f45f5241"
      },
      "id": "bRQCPv_B5320",
      "execution_count": 44,
      "outputs": [
        {
          "output_type": "stream",
          "name": "stdout",
          "text": [
            "[[ 9  8]\n",
            " [ 3 10]]\n"
          ]
        }
      ]
    },
    {
      "cell_type": "code",
      "source": [
        "from sklearn.metrics import classification_report\n",
        "\n",
        "print(classification_report(y_val, y_pred))"
      ],
      "metadata": {
        "colab": {
          "base_uri": "https://localhost:8080/"
        },
        "id": "5UdPyDKr54Eh",
        "outputId": "580ca58d-c576-45bd-d725-93e84bb475ee"
      },
      "id": "5UdPyDKr54Eh",
      "execution_count": 45,
      "outputs": [
        {
          "output_type": "stream",
          "name": "stdout",
          "text": [
            "              precision    recall  f1-score   support\n",
            "\n",
            "         0.0       0.75      0.53      0.62        17\n",
            "         1.0       0.56      0.77      0.65        13\n",
            "\n",
            "    accuracy                           0.63        30\n",
            "   macro avg       0.65      0.65      0.63        30\n",
            "weighted avg       0.67      0.63      0.63        30\n",
            "\n"
          ]
        }
      ]
    },
    {
      "cell_type": "markdown",
      "source": [
        "## (6) 테스트하기"
      ],
      "metadata": {
        "id": "uO8n2SvX54aA"
      },
      "id": "uO8n2SvX54aA"
    },
    {
      "cell_type": "code",
      "source": [
        "# test 불러오기 (여러개 버전)\n",
        "test_path = \"/content/drive/MyDrive/four_seasons/사계절_연예인 이미지 데이터셋/prototype/연예인 사진 10장\"\n",
        "test_images = load_images_from_directory(test_path)\n",
        "\n",
        "# 이미지 리사이즈\n",
        "x_test = images_resize(test_images)\n",
        "\n",
        "# 평탄화 작업\n",
        "x_test = x_test.reshape(x_test.shape[0], 200 * 200 * 3) /255\n",
        "print(x_test.shape)\n",
        "\n",
        "# test\n",
        "Ytest_predict = nn.predict(x_test, k = max_index)\n",
        "print(\"예측값: \", Ytest_predict)"
      ],
      "metadata": {
        "colab": {
          "base_uri": "https://localhost:8080/"
        },
        "id": "532mdRNsz5A4",
        "outputId": "022d56fb-3831-49f8-ae75-aa1449ae4ddc"
      },
      "id": "532mdRNsz5A4",
      "execution_count": 46,
      "outputs": [
        {
          "output_type": "stream",
          "name": "stdout",
          "text": [
            "(8, 200, 200, 3)\n",
            "(8, 120000)\n",
            "예측값:  [1. 0. 1. 0. 0. 1. 0. 1.]\n"
          ]
        }
      ]
    },
    {
      "cell_type": "code",
      "source": [
        "# test 불러오기 (낱개 버전)\n",
        "test_path = \"/content/drive/MyDrive/four_seasons/사계절_연예인 이미지 데이터셋/prototype/연예인 사진 10장/01.jpg\"\n",
        "x_test = Image.open(test_path)\n",
        "x_test = np.array(x_test)\n",
        "print(x_test.shape)\n",
        "\n",
        "# 배열의 크기 변환\n",
        "x_test = x_test.reshape((1, x_test.shape[0], x_test.shape[1], 3))\n",
        "print(\"변환된 배열 크기:\", x_test.shape)\n",
        "\n",
        "# 리사이즈\n",
        "x_test = images_resize(x_test)\n",
        "\n",
        "# 평탄화 작업\n",
        "x_test = x_test.reshape(x_test.shape[0], 200 * 200 * 3) /255\n",
        "print(x_test.shape)\n",
        "\n",
        "# test\n",
        "Ytest_predict = nn.predict(x_test, k = max_index)\n",
        "print(\"예측값\", Ytest_predict)"
      ],
      "metadata": {
        "colab": {
          "base_uri": "https://localhost:8080/"
        },
        "id": "Rm9JpoQO2lRj",
        "outputId": "cf0106bf-be77-4238-e9af-e58726df28e0"
      },
      "id": "Rm9JpoQO2lRj",
      "execution_count": 47,
      "outputs": [
        {
          "output_type": "stream",
          "name": "stdout",
          "text": [
            "(600, 600, 3)\n",
            "변환된 배열 크기: (1, 600, 600, 3)\n",
            "(1, 200, 200, 3)\n",
            "(1, 120000)\n",
            "예측값 [1.]\n"
          ]
        }
      ]
    },
    {
      "cell_type": "markdown",
      "source": [
        "![결과1.PNG](data:image/png;base64,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)\n",
        "\n",
        "-> 결론적으로 베이스코드를 확인하였을 때 일반적으로 40~70%의 정확도를 보여준다."
      ],
      "metadata": {
        "id": "itLX0_E_2rVI"
      },
      "id": "itLX0_E_2rVI"
    },
    {
      "cell_type": "markdown",
      "source": [
        "- 다른 평가지표로도 확인할 필요가 있음!"
      ],
      "metadata": {
        "id": "Xxb_qAw5MQaH"
      },
      "id": "Xxb_qAw5MQaH"
    },
    {
      "cell_type": "markdown",
      "id": "343815b0",
      "metadata": {
        "id": "343815b0"
      },
      "source": [
        "# 3. 퍼스널 컬러 분류: Skin Detection + KNN\n",
        "\n",
        "- 2번 베이스코드와 겹치는 함수는 생략함\n",
        "- 원래 Skin Detection은 라벨링을 위한 작업으로만 하려고 했었는데 막상 모델과 붙여서 사용해보니 제일 성능이 좋았다..."
      ]
    },
    {
      "cell_type": "markdown",
      "source": [
        "## (1) Skin Detection 관련 함수"
      ],
      "metadata": {
        "id": "PXi8lOQDN3_B"
      },
      "id": "PXi8lOQDN3_B"
    },
    {
      "cell_type": "code",
      "execution_count": null,
      "id": "7d0d425a",
      "metadata": {
        "id": "7d0d425a"
      },
      "outputs": [],
      "source": [
        "def Skin_Detection(img_path):\n",
        "\n",
        "  #Open a simple image\n",
        "  img=cv2.imread(img_path)\n",
        "\n",
        "  #converting from gbr to YCbCr color space\n",
        "  img_YCrCb = cv2.cvtColor(img, cv2.COLOR_BGR2YCrCb)\n",
        "  #skin color range for hsv color space\n",
        "  YCrCb_mask = cv2.inRange(img_YCrCb, (0, 135, 85), (255,180,135))\n",
        "  YCrCb_mask = cv2.morphologyEx(YCrCb_mask, cv2.MORPH_OPEN, np.ones((3,3), np.uint8))\n",
        "\n",
        "  YCrCb_result = cv2.bitwise_not(YCrCb_mask)\n",
        "  YCrCb_skin_detected = cv2.bitwise_and(img, img, mask=YCrCb_mask)\n",
        "\n",
        "  return img_YCrCb, YCrCb_mask"
      ]
    },
    {
      "cell_type": "code",
      "source": [
        "# skin 좌표 추출, YCrCb 픽셀값 추출\n",
        "def coordinate_extraction(mask, img):\n",
        "  skin = np.argwhere(mask == 255) # mask의 픽셀값이 255인 skin부분의 좌표 추출\n",
        "\n",
        "  pixel_values = [] # YCbCr 픽셀값 저장을 위한 리스트\n",
        "\n",
        "  for index in skin:\n",
        "    y, x = index  #일반적으로 생각하는 가로 x, 세로 y로 표현하기 위해 위치 바꿈\n",
        "    #print(f\"x: {x}, y: {y}\") # skin 범위 좌표값 출력(스압주의)\n",
        "    pixel_value = img[y, x]\n",
        "    pixel_values.append(pixel_value)\n",
        "\n",
        "  for coord, pixel_value in zip(skin, pixel_values): # skin부분의 좌표값과 픽셀값 출력을 위한 함수\n",
        "    x, y = coord\n",
        "    #print(f\"Coordinate: ({x}, {y}), Pixel Value: {pixel_value}\")\n",
        "\n",
        "  return pixel_values"
      ],
      "metadata": {
        "id": "pu0GoPEDrVLO"
      },
      "id": "pu0GoPEDrVLO",
      "execution_count": null,
      "outputs": []
    },
    {
      "cell_type": "code",
      "source": [
        "# 픽셀의 평균값 구하기\n",
        "def pixel_means(pixel_values):\n",
        "  # 열 별로 원소들을 더하기\n",
        "  column_sums = np.sum(pixel_values, axis=0)\n",
        "\n",
        "  # pixel_values를 NumPy 배열로 변환\n",
        "  pixel_values = np.array(pixel_values)\n",
        "\n",
        "  # 열 별로 평균 계산하기\n",
        "  column_means = column_sums / pixel_values.shape[0]\n",
        "\n",
        "  return column_means"
      ],
      "metadata": {
        "id": "XzDhygJkrVZF"
      },
      "id": "XzDhygJkrVZF",
      "execution_count": null,
      "outputs": []
    },
    {
      "cell_type": "markdown",
      "source": [
        "## (2) 데이터 불러오기 및 데이터 전처리"
      ],
      "metadata": {
        "id": "9-Al0XQ3OB4h"
      },
      "id": "9-Al0XQ3OB4h"
    },
    {
      "cell_type": "code",
      "source": [
        "def get_dict(dir_path):\n",
        "  file_list = os.listdir(dir_path)\n",
        "\n",
        "  img_list = []\n",
        "  result_list = []\n",
        "\n",
        "  for file in file_list:\n",
        "    img_path = os.path.join(dir_path, file)\n",
        "    if os.path.isdir(img_path):  # 만약 디렉토리인 경우, 무시하고 다음 파일로 넘어감\n",
        "      continue\n",
        "    img_YCrCb,YCrCb_mask = Skin_Detection(img_path)\n",
        "    img_list.append([img_YCrCb, YCrCb_mask]) # 그림 show()를 위한 용도\n",
        "\n",
        "    # YCrCb\n",
        "    YCrCb_pixel_values = coordinate_extraction(YCrCb_mask, img_YCrCb)\n",
        "    YCrCb_pixel_means = pixel_means(YCrCb_pixel_values)\n",
        "    #print(YCrCb_pixel_means)\n",
        "\n",
        "    result_list.append(YCrCb_pixel_means)\n",
        "\n",
        "  # array로 변환\n",
        "  result_array = np.array(result_list)\n",
        "\n",
        "  return result_array"
      ],
      "metadata": {
        "id": "2CoUiVyZrcTO"
      },
      "id": "2CoUiVyZrcTO",
      "execution_count": null,
      "outputs": []
    },
    {
      "cell_type": "code",
      "source": [
        "path = \"/content/drive/MyDrive/four_seasons/사계절_연예인 이미지 데이터셋/prototype/쿨톤_jpg\"  # 디렉토리 경로\n",
        "path2 = \"/content/drive/MyDrive/four_seasons/사계절_연예인 이미지 데이터셋/prototype/웜톤_jpg\"  # 디렉토리 경로"
      ],
      "metadata": {
        "id": "blRR2Xbqw1yP"
      },
      "id": "blRR2Xbqw1yP",
      "execution_count": null,
      "outputs": []
    },
    {
      "cell_type": "code",
      "source": [
        "cool_result  = get_dict(path) # 1분"
      ],
      "metadata": {
        "id": "WXyqRpTircZI"
      },
      "id": "WXyqRpTircZI",
      "execution_count": null,
      "outputs": []
    },
    {
      "cell_type": "code",
      "source": [
        "warm_result  = get_dict(path2) # 1분"
      ],
      "metadata": {
        "id": "aaHc865EyluV"
      },
      "id": "aaHc865EyluV",
      "execution_count": null,
      "outputs": []
    },
    {
      "cell_type": "code",
      "source": [
        "images = np.concatenate((cool_result, warm_result), axis=0)"
      ],
      "metadata": {
        "id": "sjTnM15mrk1J"
      },
      "id": "sjTnM15mrk1J",
      "execution_count": null,
      "outputs": []
    },
    {
      "cell_type": "code",
      "source": [
        "# labels에 대한 코드\n",
        "num = len(images)\n",
        "labels = np.zeros(num)\n",
        "\n",
        "# 처음 50개의 요소를 1로 변경\n",
        "labels[length:] = 1\n",
        "\n",
        "# 0이 쿨톤 1이 웜톤\n",
        "print(len(images))\n",
        "print(labels)"
      ],
      "metadata": {
        "colab": {
          "base_uri": "https://localhost:8080/"
        },
        "id": "KzsR-mo_sOu8",
        "outputId": "9b4666e2-3180-487b-9fc5-1efc39efd469"
      },
      "id": "KzsR-mo_sOu8",
      "execution_count": null,
      "outputs": [
        {
          "output_type": "stream",
          "name": "stdout",
          "text": [
            "100\n",
            "[0. 0. 0. 0. 0. 0. 0. 0. 0. 0. 0. 0. 0. 0. 0. 0. 0. 0. 0. 0. 0. 0. 0. 0.\n",
            " 0. 0. 0. 0. 0. 0. 0. 0. 0. 0. 0. 0. 0. 0. 0. 0. 0. 0. 0. 0. 0. 0. 0. 0.\n",
            " 0. 0. 1. 1. 1. 1. 1. 1. 1. 1. 1. 1. 1. 1. 1. 1. 1. 1. 1. 1. 1. 1. 1. 1.\n",
            " 1. 1. 1. 1. 1. 1. 1. 1. 1. 1. 1. 1. 1. 1. 1. 1. 1. 1. 1. 1. 1. 1. 1. 1.\n",
            " 1. 1. 1. 1.]\n"
          ]
        }
      ]
    },
    {
      "cell_type": "markdown",
      "source": [
        "## (3) train, validation, test 데이터 분리하기"
      ],
      "metadata": {
        "id": "Ko9NbbMvOLMb"
      },
      "id": "Ko9NbbMvOLMb"
    },
    {
      "cell_type": "code",
      "source": [
        "from sklearn.model_selection import train_test_split\n",
        "\n",
        "x_train, x_val, y_train, y_val = train_test_split(images,\n",
        "                                                  labels,\n",
        "                                                  test_size=0.3,\n",
        "                                                  random_state=42)\n",
        "\n",
        "print(\"x_train: \", x_train.shape)\n",
        "print(\"y_train: \", y_train.shape)\n",
        "print(\"x_val: \", x_val.shape)\n",
        "print(\"y_val: \", y_val.shape)"
      ],
      "metadata": {
        "colab": {
          "base_uri": "https://localhost:8080/"
        },
        "id": "sUADwaoczKva",
        "outputId": "f8204c26-81e9-40ff-eb07-3913b74f1849"
      },
      "id": "sUADwaoczKva",
      "execution_count": null,
      "outputs": [
        {
          "output_type": "stream",
          "name": "stdout",
          "text": [
            "x_train:  (70, 3)\n",
            "y_train:  (70,)\n",
            "x_val:  (30, 3)\n",
            "y_val:  (30,)\n"
          ]
        }
      ]
    },
    {
      "cell_type": "markdown",
      "source": [
        "## (4) KNN 실행하기"
      ],
      "metadata": {
        "id": "Z0h9ngaCOPtw"
      },
      "id": "Z0h9ngaCOPtw"
    },
    {
      "cell_type": "code",
      "source": [
        "# 검증 셋에서 가장 잘 동작하는 hyperparameter 들을 찾는다.\n",
        "validation_accuracies = []\n",
        "for k in range(1, 31):\n",
        "\n",
        "    # 특정 k 값을 정해서 검증 데이터에 대해 평가할 때 사용한다.\n",
        "    nn = NearestNeighbor()\n",
        "    nn.train(x_train, y_train)\n",
        "    # 여기서는 k를 input으로 받을 수 있도록 변형된 NearestNeighbor 클래스가 있다고 가정하자.\n",
        "    Yval_predict = nn.predict(x_val, k = k)\n",
        "    acc = np.mean(Yval_predict == y_val)\n",
        "    print('k = %d, ' % (k), 'accuracy: %f' % (acc,))\n",
        "\n",
        "    # 검증 셋에 대한 정확도를 저장해 놓는다.\n",
        "    validation_accuracies.append((k, acc))"
      ],
      "metadata": {
        "colab": {
          "base_uri": "https://localhost:8080/"
        },
        "id": "XD6I2mwWzS7k",
        "outputId": "2ce19a46-0495-4419-c47b-bf8b2eca99a5"
      },
      "id": "XD6I2mwWzS7k",
      "execution_count": null,
      "outputs": [
        {
          "output_type": "stream",
          "name": "stdout",
          "text": [
            "k = 1,  accuracy: 0.566667\n",
            "k = 2,  accuracy: 0.633333\n",
            "k = 3,  accuracy: 0.566667\n",
            "k = 4,  accuracy: 0.600000\n",
            "k = 5,  accuracy: 0.566667\n",
            "k = 6,  accuracy: 0.566667\n",
            "k = 7,  accuracy: 0.566667\n",
            "k = 8,  accuracy: 0.566667\n",
            "k = 9,  accuracy: 0.566667\n",
            "k = 10,  accuracy: 0.533333\n",
            "k = 11,  accuracy: 0.533333\n",
            "k = 12,  accuracy: 0.600000\n",
            "k = 13,  accuracy: 0.566667\n",
            "k = 14,  accuracy: 0.600000\n",
            "k = 15,  accuracy: 0.600000\n",
            "k = 16,  accuracy: 0.566667\n",
            "k = 17,  accuracy: 0.566667\n",
            "k = 18,  accuracy: 0.533333\n",
            "k = 19,  accuracy: 0.500000\n",
            "k = 20,  accuracy: 0.533333\n",
            "k = 21,  accuracy: 0.533333\n",
            "k = 22,  accuracy: 0.566667\n",
            "k = 23,  accuracy: 0.533333\n",
            "k = 24,  accuracy: 0.533333\n",
            "k = 25,  accuracy: 0.566667\n",
            "k = 26,  accuracy: 0.566667\n",
            "k = 27,  accuracy: 0.566667\n",
            "k = 28,  accuracy: 0.500000\n",
            "k = 29,  accuracy: 0.566667\n",
            "k = 30,  accuracy: 0.566667\n"
          ]
        }
      ]
    },
    {
      "cell_type": "markdown",
      "source": [
        "## (5) 평가하기"
      ],
      "metadata": {
        "id": "HsvuuoXLOTdn"
      },
      "id": "HsvuuoXLOTdn"
    },
    {
      "cell_type": "code",
      "source": [
        "# test에 적용할 가장 accuracy가 높은 값과 해당 인덱스 확인하기\n",
        "max_value = max(validation_accuracies, key=lambda x: x[1])[1]\n",
        "max_index = max(validation_accuracies, key=lambda x: x[1])[0]\n",
        "\n",
        "print(\"두 번째 요소에서 가장 큰 값:\", max_value)\n",
        "print(\"두 번째 요소에서 가장 큰 값의 인덱스:\", max_index) #k"
      ],
      "metadata": {
        "colab": {
          "base_uri": "https://localhost:8080/"
        },
        "id": "k43BHsm_di6n",
        "outputId": "07c27122-5fd3-4785-cec5-a6a4bd47ac35"
      },
      "id": "k43BHsm_di6n",
      "execution_count": null,
      "outputs": [
        {
          "output_type": "stream",
          "name": "stdout",
          "text": [
            "두 번째 요소에서 가장 큰 값: 0.6333333333333333\n",
            "두 번째 요소에서 가장 큰 값의 인덱스: 2\n"
          ]
        }
      ]
    },
    {
      "cell_type": "code",
      "source": [
        "from sklearn.metrics import confusion_matrix\n",
        "\n",
        "y_pred = nn.predict(x_val, max_index)\n",
        "cm = confusion_matrix(y_val, y_pred)\n",
        "print(cm)"
      ],
      "metadata": {
        "colab": {
          "base_uri": "https://localhost:8080/"
        },
        "id": "I3mnRO58djAI",
        "outputId": "db615d11-dff8-478e-9ae8-3dea95dd64d3"
      },
      "id": "I3mnRO58djAI",
      "execution_count": null,
      "outputs": [
        {
          "output_type": "stream",
          "name": "stdout",
          "text": [
            "[[11  6]\n",
            " [ 5  8]]\n"
          ]
        }
      ]
    },
    {
      "cell_type": "code",
      "source": [
        "from sklearn.metrics import classification_report\n",
        "\n",
        "print(classification_report(y_val, y_pred))"
      ],
      "metadata": {
        "colab": {
          "base_uri": "https://localhost:8080/"
        },
        "id": "IvsDryzgdjFP",
        "outputId": "a2d591c5-0826-421f-e2e3-f2f2cb99dad1"
      },
      "id": "IvsDryzgdjFP",
      "execution_count": null,
      "outputs": [
        {
          "output_type": "stream",
          "name": "stdout",
          "text": [
            "              precision    recall  f1-score   support\n",
            "\n",
            "         0.0       0.69      0.65      0.67        17\n",
            "         1.0       0.57      0.62      0.59        13\n",
            "\n",
            "    accuracy                           0.63        30\n",
            "   macro avg       0.63      0.63      0.63        30\n",
            "weighted avg       0.64      0.63      0.63        30\n",
            "\n"
          ]
        }
      ]
    },
    {
      "cell_type": "markdown",
      "source": [
        "## (6) 테스트하기"
      ],
      "metadata": {
        "id": "PDqGqNRDd_jN"
      },
      "id": "PDqGqNRDd_jN"
    },
    {
      "cell_type": "code",
      "source": [
        "# test 불러오기 (여러개 버전)\n",
        "test_path = \"/content/drive/MyDrive/four_seasons/사계절_연예인 이미지 데이터셋/prototype/연예인 사진 10장\"\n",
        "x_test = get_dict(test_path)\n",
        "\n",
        "# test\n",
        "Ytest_predict = nn.predict(x_test, k = max_index)\n",
        "print(\"예측값: \", Ytest_predict)"
      ],
      "metadata": {
        "colab": {
          "base_uri": "https://localhost:8080/"
        },
        "id": "XCMUi8u7djPa",
        "outputId": "add44133-e0cb-46e8-a490-a6fd20163462"
      },
      "id": "XCMUi8u7djPa",
      "execution_count": null,
      "outputs": [
        {
          "output_type": "stream",
          "name": "stdout",
          "text": [
            "예측값:  [0. 0. 1. 0. 0. 0. 0. 0. 0. 1.]\n"
          ]
        }
      ]
    },
    {
      "cell_type": "code",
      "source": [
        "# test 불러오기 (낱개 버전)\n",
        "# 은 파업"
      ],
      "metadata": {
        "id": "VJPe9qTduDDl"
      },
      "id": "VJPe9qTduDDl",
      "execution_count": null,
      "outputs": []
    },
    {
      "cell_type": "markdown",
      "source": [
        "![image.png](data:image/png;base64,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)  "
      ],
      "metadata": {
        "id": "dFDq7BwO26um"
      },
      "id": "dFDq7BwO26um"
    },
    {
      "cell_type": "markdown",
      "source": [
        "-> 결론적으로 skin detection을 통하여 추출한 피부 픽셀들의 평균으로 확인하였을 때는 k가 15일 때 85%의 정확도까지 나왔으며 일반적으로 45%~85%사이의 값이 나온다."
      ],
      "metadata": {
        "id": "Q6g-hVS8eSns"
      },
      "id": "Q6g-hVS8eSns"
    },
    {
      "cell_type": "markdown",
      "source": [
        "# 4. 퍼스널 컬러 분류: Face_Recognition + KNN\n",
        "- 이미 face_crop된 사진을 불러와서 이용\n",
        "- 이 밑으로 정리 아직 안됨\n",
        "---\n",
        "\n"
      ],
      "metadata": {
        "id": "EPz6CCZx0XMW"
      },
      "id": "EPz6CCZx0XMW"
    },
    {
      "cell_type": "markdown",
      "source": [
        "## (1) 라이브러리 및 데이터 불러오기"
      ],
      "metadata": {
        "id": "6X0MOKutYPIY"
      },
      "id": "6X0MOKutYPIY"
    },
    {
      "cell_type": "code",
      "source": [
        "import tensorflow as tf\n",
        "import numpy as np\n",
        "import cv2\n",
        "import os\n",
        "import glob\n",
        "from PIL import Image"
      ],
      "metadata": {
        "id": "RsNxok63RBrf"
      },
      "id": "RsNxok63RBrf",
      "execution_count": 2,
      "outputs": []
    },
    {
      "cell_type": "code",
      "source": [
        "def load_images_from_directory(directory_path):\n",
        "    image_paths = glob.glob(directory_path + '/*.jpg')  # 디렉토리 내의 모든 jpg 파일 경로 찾기\n",
        "    image_paths.extend(glob.glob(directory_path + '/*.jpeg'))  # 디렉토리 내의 모든 jpeg 파일 경로 추가\n",
        "\n",
        "    images = []\n",
        "    for image_path in image_paths:\n",
        "        image = Image.open(image_path)\n",
        "        image_np = np.array(image)\n",
        "        images.append(image_np)\n",
        "\n",
        "    return images"
      ],
      "metadata": {
        "id": "TST-4pxWVql5"
      },
      "id": "TST-4pxWVql5",
      "execution_count": 3,
      "outputs": []
    },
    {
      "cell_type": "code",
      "source": [
        "from google.colab import drive\n",
        "drive.mount('/content/drive')"
      ],
      "metadata": {
        "colab": {
          "base_uri": "https://localhost:8080/"
        },
        "id": "rvak_ojDVrIG",
        "outputId": "cfc7e4f7-ca42-41ee-eb38-35f316f29f0a"
      },
      "id": "rvak_ojDVrIG",
      "execution_count": 4,
      "outputs": [
        {
          "output_type": "stream",
          "name": "stdout",
          "text": [
            "Mounted at /content/drive\n"
          ]
        }
      ]
    },
    {
      "cell_type": "code",
      "source": [
        "# 모든 이미지 불러오기\n",
        "directory_path = \"/content/drive/MyDrive/four_seasons/사계절_연예인 이미지 데이터셋/prototype/cropped_face/쿨톤\"  # 디렉토리 경로\n",
        "directory_path2 = \"/content/drive/MyDrive/four_seasons/사계절_연예인 이미지 데이터셋/prototype/cropped_face/웜톤\"  # 디렉토리 경로\n",
        "images = load_images_from_directory(directory_path)\n",
        "images2 = load_images_from_directory(directory_path2)\n",
        "\n",
        "length = len(images)\n",
        "print(length)\n",
        "print(len(images2))\n",
        "\n",
        "# 이미지 리스트 합치기\n",
        "images = np.concatenate((images, images2), axis=0)\n",
        "print(len(images))"
      ],
      "metadata": {
        "colab": {
          "base_uri": "https://localhost:8080/"
        },
        "id": "Cuu0icbxVrLT",
        "outputId": "4712f53d-6fa8-43cd-eb31-7d181bd88260"
      },
      "id": "Cuu0icbxVrLT",
      "execution_count": 5,
      "outputs": [
        {
          "output_type": "stream",
          "name": "stdout",
          "text": [
            "50\n",
            "50\n",
            "100\n"
          ]
        },
        {
          "output_type": "stream",
          "name": "stderr",
          "text": [
            "<__array_function__ internals>:180: VisibleDeprecationWarning: Creating an ndarray from ragged nested sequences (which is a list-or-tuple of lists-or-tuples-or ndarrays with different lengths or shapes) is deprecated. If you meant to do this, you must specify 'dtype=object' when creating the ndarray.\n"
          ]
        }
      ]
    },
    {
      "cell_type": "markdown",
      "source": [
        "## (2) 데이터 전처리"
      ],
      "metadata": {
        "id": "YhciLnxgYTK7"
      },
      "id": "YhciLnxgYTK7"
    },
    {
      "cell_type": "code",
      "source": [
        "# 리사이즈할 함수\n",
        "def images_resize (images):\n",
        "  # 새로운 크기로 리사이즈할 이미지의 너비와 높이\n",
        "  new_width = 200\n",
        "  new_height = 200\n",
        "\n",
        "  resized_images = []\n",
        "  for image in images:\n",
        "    resized_image = cv2.resize(image, (new_width, new_height))\n",
        "    resized_images.append(resized_image)\n",
        "\n",
        "  # resized_images 리스트를 NumPy 배열로 변환\n",
        "  resized_images_array = np.array(resized_images)\n",
        "\n",
        "  # 변환된 NumPy 배열 출력\n",
        "  print(resized_images_array.shape)\n",
        "\n",
        "  return resized_images_array\n",
        "\n",
        "resized_images_array = images_resize(images)"
      ],
      "metadata": {
        "colab": {
          "base_uri": "https://localhost:8080/"
        },
        "id": "AR-3JYmYVrNq",
        "outputId": "e8e978e7-0d05-4f0b-ae18-b5ad0a6c5e15"
      },
      "id": "AR-3JYmYVrNq",
      "execution_count": 6,
      "outputs": [
        {
          "output_type": "stream",
          "name": "stdout",
          "text": [
            "(100, 200, 200, 3)\n"
          ]
        }
      ]
    },
    {
      "cell_type": "code",
      "source": [
        "# 평탄화 작업\n",
        "images = resized_images_array.reshape(resized_images_array.shape[0], 200 * 200 * 3) /255"
      ],
      "metadata": {
        "id": "1kIYqY2dVrP3"
      },
      "id": "1kIYqY2dVrP3",
      "execution_count": 7,
      "outputs": []
    },
    {
      "cell_type": "code",
      "source": [
        "# labels에 대한 코드\n",
        "num = len(images)\n",
        "labels = np.zeros(num)\n",
        "\n",
        "# 처음 50개의 요소를 1로 변경\n",
        "# 0이 쿨톤 1이 웜톤\n",
        "labels[length:] = 1\n",
        "\n",
        "# 0이 쿨톤 1이 웜톤\n",
        "print(len(images))\n",
        "print(labels.shape)\n",
        "print(labels)"
      ],
      "metadata": {
        "colab": {
          "base_uri": "https://localhost:8080/"
        },
        "id": "O3hcY7n9VrSc",
        "outputId": "f1b73548-504c-4efa-dd64-d413835af6a0"
      },
      "id": "O3hcY7n9VrSc",
      "execution_count": 8,
      "outputs": [
        {
          "output_type": "stream",
          "name": "stdout",
          "text": [
            "100\n",
            "(100,)\n",
            "[0. 0. 0. 0. 0. 0. 0. 0. 0. 0. 0. 0. 0. 0. 0. 0. 0. 0. 0. 0. 0. 0. 0. 0.\n",
            " 0. 0. 0. 0. 0. 0. 0. 0. 0. 0. 0. 0. 0. 0. 0. 0. 0. 0. 0. 0. 0. 0. 0. 0.\n",
            " 0. 0. 1. 1. 1. 1. 1. 1. 1. 1. 1. 1. 1. 1. 1. 1. 1. 1. 1. 1. 1. 1. 1. 1.\n",
            " 1. 1. 1. 1. 1. 1. 1. 1. 1. 1. 1. 1. 1. 1. 1. 1. 1. 1. 1. 1. 1. 1. 1. 1.\n",
            " 1. 1. 1. 1.]\n"
          ]
        }
      ]
    },
    {
      "cell_type": "markdown",
      "source": [
        "## (3) train, validation, test 분리하기"
      ],
      "metadata": {
        "id": "9iOsbgdLYWSb"
      },
      "id": "9iOsbgdLYWSb"
    },
    {
      "cell_type": "code",
      "source": [
        "from sklearn.model_selection import train_test_split\n",
        "\n",
        "x_train, x_val, y_train, y_val = train_test_split(images,\n",
        "                                                  labels,\n",
        "                                                  test_size=0.3,\n",
        "                                                  random_state=42)\n",
        "\n",
        "print(\"x_train: \", x_train.shape)\n",
        "print(\"y_train: \", y_train.shape)\n",
        "print(\"x_val: \", x_val.shape)\n",
        "print(\"y_val: \", y_val.shape)"
      ],
      "metadata": {
        "id": "uu2Cj6fJVrUq",
        "colab": {
          "base_uri": "https://localhost:8080/"
        },
        "outputId": "efd9ea6e-c0a6-40d1-cddd-bd1631c52e40"
      },
      "id": "uu2Cj6fJVrUq",
      "execution_count": 9,
      "outputs": [
        {
          "output_type": "stream",
          "name": "stdout",
          "text": [
            "x_train:  (70, 120000)\n",
            "y_train:  (70,)\n",
            "x_val:  (30, 120000)\n",
            "y_val:  (30,)\n"
          ]
        }
      ]
    },
    {
      "cell_type": "markdown",
      "source": [
        "## (4) KNN"
      ],
      "metadata": {
        "id": "ndQInt6lYaUB"
      },
      "id": "ndQInt6lYaUB"
    },
    {
      "cell_type": "code",
      "source": [
        "class NearestNeighbor(object):\n",
        "    def __init__(self):\n",
        "        pass\n",
        "\n",
        "    def train(self, X, y):\n",
        "        \"\"\" X is N x D where each row is an example. Y is 1-dimension of size N \"\"\"\n",
        "        # nearest neighbor 분류기는 단순히 모든 학습 데이터를 기억해둔다.\n",
        "        self.Xtr = X\n",
        "        self.ytr = y\n",
        "\n",
        "    def predict(self, X, k):\n",
        "        \"\"\" X is N x D where each row is an example we wish to predict label for \"\"\"\n",
        "        num_test = X.shape[0]\n",
        "        # 출력 type과 입력 type이 갖게 되도록 확인해준다.\n",
        "        Ypred = np.zeros(num_test, dtype = self.ytr.dtype)\n",
        "\n",
        "    # loop over all test rows\n",
        "        for i in range(num_test):\n",
        "        # i번째 테스트 이미지와 가장 가까운 학습 이미지를\n",
        "            # L1 거리(절대값 차의 총합)를 이용하여 찾는다.\n",
        "            #distances = np.sum(np.abs(self.Xtr - X[i,:]), axis = 1)\n",
        "            # L2 거리(직선 거리)를 이용하여 찾는다.\n",
        "            distances = np.sqrt(np.sum(np.square(self.Xtr - X[i,:]), axis = 1))\n",
        "\n",
        "            indices = np.argsort(distances)  # 거리가 작은 순서대로 인덱스 정렬\n",
        "            k_nearest_labels = self.ytr[indices[:k]]  # k개의 가장 가까운 이웃의 라벨\n",
        "            unique, counts = np.unique(k_nearest_labels, return_counts=True)\n",
        "            Ypred[i] = unique[np.argmax(counts)]  # 가장 많은 투표를 받은 라벨로 예측\n",
        "        return Ypred"
      ],
      "metadata": {
        "id": "aKL-9j7RVrkX"
      },
      "id": "aKL-9j7RVrkX",
      "execution_count": 10,
      "outputs": []
    },
    {
      "cell_type": "code",
      "source": [
        "# 검증 셋에서 가장 잘 동작하는 hyperparameter 들을 찾는다.\n",
        "validation_accuracies = []\n",
        "for k in range(1, 31):\n",
        "\n",
        "    # 특정 k 값을 정해서 검증 데이터에 대해 평가할 때 사용한다.\n",
        "    nn = NearestNeighbor()\n",
        "    nn.train(x_train, y_train)\n",
        "    # 여기서는 k를 input으로 받을 수 있도록 변형된 NearestNeighbor 클래스가 있다고 가정하자.\n",
        "    Yval_predict = nn.predict(x_val, k = k)\n",
        "    acc = np.mean(Yval_predict == y_val)\n",
        "    print('k = %d, ' % (k), 'accuracy: %f' % (acc,))\n",
        "\n",
        "    # 검증 셋에 대한 정확도를 저장해 놓는다.\n",
        "    validation_accuracies.append((k, acc))"
      ],
      "metadata": {
        "colab": {
          "base_uri": "https://localhost:8080/"
        },
        "id": "uIB2aZR0Vrn2",
        "outputId": "5b1c668c-d6ce-4f10-fa16-73ca950c8950"
      },
      "id": "uIB2aZR0Vrn2",
      "execution_count": 11,
      "outputs": [
        {
          "output_type": "stream",
          "name": "stdout",
          "text": [
            "k = 1,  accuracy: 0.400000\n",
            "k = 2,  accuracy: 0.633333\n",
            "k = 3,  accuracy: 0.433333\n",
            "k = 4,  accuracy: 0.600000\n",
            "k = 5,  accuracy: 0.466667\n",
            "k = 6,  accuracy: 0.600000\n",
            "k = 7,  accuracy: 0.600000\n",
            "k = 8,  accuracy: 0.600000\n",
            "k = 9,  accuracy: 0.500000\n",
            "k = 10,  accuracy: 0.600000\n",
            "k = 11,  accuracy: 0.533333\n",
            "k = 12,  accuracy: 0.633333\n",
            "k = 13,  accuracy: 0.666667\n",
            "k = 14,  accuracy: 0.666667\n",
            "k = 15,  accuracy: 0.633333\n",
            "k = 16,  accuracy: 0.700000\n",
            "k = 17,  accuracy: 0.700000\n",
            "k = 18,  accuracy: 0.600000\n",
            "k = 19,  accuracy: 0.700000\n",
            "k = 20,  accuracy: 0.700000\n",
            "k = 21,  accuracy: 0.700000\n",
            "k = 22,  accuracy: 0.633333\n",
            "k = 23,  accuracy: 0.633333\n",
            "k = 24,  accuracy: 0.633333\n",
            "k = 25,  accuracy: 0.566667\n",
            "k = 26,  accuracy: 0.533333\n",
            "k = 27,  accuracy: 0.566667\n",
            "k = 28,  accuracy: 0.566667\n",
            "k = 29,  accuracy: 0.600000\n",
            "k = 30,  accuracy: 0.633333\n"
          ]
        }
      ]
    },
    {
      "cell_type": "markdown",
      "source": [
        "## (5) 평가하기"
      ],
      "metadata": {
        "id": "aHQIW6JsYdh-"
      },
      "id": "aHQIW6JsYdh-"
    },
    {
      "cell_type": "code",
      "source": [
        "# test에 적용할 가장 accuracy가 높은 값과 해당 인덱스 확인하기\n",
        "max_value = max(validation_accuracies, key=lambda x: x[1])[1]\n",
        "max_index = max(validation_accuracies, key=lambda x: x[1])[0]\n",
        "\n",
        "print(\"두 번째 요소에서 가장 큰 값:\", max_value)\n",
        "print(\"두 번째 요소에서 가장 큰 값의 인덱스:\", max_index) #k"
      ],
      "metadata": {
        "id": "e-Y8OQ1rtiPe",
        "colab": {
          "base_uri": "https://localhost:8080/"
        },
        "outputId": "8ff3ab44-0128-4a02-d4e0-198cd2b0cc7b"
      },
      "id": "e-Y8OQ1rtiPe",
      "execution_count": 12,
      "outputs": [
        {
          "output_type": "stream",
          "name": "stdout",
          "text": [
            "두 번째 요소에서 가장 큰 값: 0.7\n",
            "두 번째 요소에서 가장 큰 값의 인덱스: 16\n"
          ]
        }
      ]
    },
    {
      "cell_type": "code",
      "source": [
        "from sklearn.metrics import confusion_matrix\n",
        "\n",
        "y_pred = nn.predict(x_val, max_index)\n",
        "cm = confusion_matrix(y_val, y_pred)\n",
        "print(cm)"
      ],
      "metadata": {
        "id": "DMFS_nfNtiWu",
        "colab": {
          "base_uri": "https://localhost:8080/"
        },
        "outputId": "9f8460e5-2b92-46be-a50f-28c61b442fbf"
      },
      "id": "DMFS_nfNtiWu",
      "execution_count": 13,
      "outputs": [
        {
          "output_type": "stream",
          "name": "stdout",
          "text": [
            "[[10  7]\n",
            " [ 2 11]]\n"
          ]
        }
      ]
    },
    {
      "cell_type": "code",
      "source": [
        "from sklearn.metrics import classification_report\n",
        "\n",
        "print(classification_report(y_val, y_pred))"
      ],
      "metadata": {
        "id": "dk3QEOSvtidK",
        "colab": {
          "base_uri": "https://localhost:8080/"
        },
        "outputId": "ea2825d9-49e7-45f0-a6fa-f57fe91f02c2"
      },
      "id": "dk3QEOSvtidK",
      "execution_count": 14,
      "outputs": [
        {
          "output_type": "stream",
          "name": "stdout",
          "text": [
            "              precision    recall  f1-score   support\n",
            "\n",
            "         0.0       0.83      0.59      0.69        17\n",
            "         1.0       0.61      0.85      0.71        13\n",
            "\n",
            "    accuracy                           0.70        30\n",
            "   macro avg       0.72      0.72      0.70        30\n",
            "weighted avg       0.74      0.70      0.70        30\n",
            "\n"
          ]
        }
      ]
    },
    {
      "cell_type": "markdown",
      "source": [
        "## (6) 테스트하기"
      ],
      "metadata": {
        "id": "YQErczS4tptH"
      },
      "id": "YQErczS4tptH"
    },
    {
      "cell_type": "code",
      "source": [
        "# test 불러오기 (여러개 버전)\n",
        "test_path = \"/content/drive/MyDrive/four_seasons/사계절_연예인 이미지 데이터셋/prototype/연예인 사진 10장\"\n",
        "test_images = load_images_from_directory(test_path)\n",
        "\n",
        "# 이미지 리사이즈\n",
        "x_test = images_resize(test_images)\n",
        "\n",
        "# 평탄화 작업\n",
        "x_test = x_test.reshape(x_test.shape[0], 200 * 200 * 3) /255\n",
        "print(x_test.shape)\n",
        "\n",
        "# test\n",
        "Ytest_predict = nn.predict(x_test, k = max_index)\n",
        "print(\"예측값: \", Ytest_predict)"
      ],
      "metadata": {
        "id": "VSihd-7stp8W",
        "colab": {
          "base_uri": "https://localhost:8080/"
        },
        "outputId": "72cf7c6a-a2ab-43bb-8eb0-179b5bccb841"
      },
      "id": "VSihd-7stp8W",
      "execution_count": 15,
      "outputs": [
        {
          "output_type": "stream",
          "name": "stdout",
          "text": [
            "(8, 200, 200, 3)\n",
            "(8, 120000)\n",
            "예측값:  [1. 1. 1. 1. 1. 1. 1. 1.]\n"
          ]
        }
      ]
    },
    {
      "cell_type": "code",
      "source": [
        "# test 불러오기 (낱개 버전)\n",
        "test_path = \"/content/drive/MyDrive/four_seasons/사계절_연예인 이미지 데이터셋/prototype/연예인 사진 10장/01.jpg\"\n",
        "x_test = Image.open(test_path)\n",
        "x_test = np.array(x_test)\n",
        "print(x_test.shape)\n",
        "\n",
        "# 배열의 크기 변환\n",
        "x_test = x_test.reshape((1, x_test.shape[0], x_test.shape[1], 3))\n",
        "print(\"변환된 배열 크기:\", x_test.shape)\n",
        "\n",
        "# 리사이즈\n",
        "x_test = images_resize(x_test)\n",
        "\n",
        "# 평탄화 작업\n",
        "x_test = x_test.reshape(x_test.shape[0], 200 * 200 * 3) /255\n",
        "print(x_test.shape)\n",
        "\n",
        "# test\n",
        "Ytest_predict = nn.predict(x_test, k = max_index)\n",
        "print(\"예측값\", Ytest_predict)"
      ],
      "metadata": {
        "id": "UaFobDIrtqCt",
        "colab": {
          "base_uri": "https://localhost:8080/"
        },
        "outputId": "00bd5aea-a205-4b7c-9095-8ddf2d129c74"
      },
      "id": "UaFobDIrtqCt",
      "execution_count": 16,
      "outputs": [
        {
          "output_type": "stream",
          "name": "stdout",
          "text": [
            "(600, 600, 3)\n",
            "변환된 배열 크기: (1, 600, 600, 3)\n",
            "(1, 200, 200, 3)\n",
            "(1, 120000)\n",
            "예측값 [1.]\n"
          ]
        }
      ]
    },
    {
      "cell_type": "markdown",
      "source": [
        "![image.png](data:image/png;base64,iVBORw0KGgoAAAANSUhEUgAAAoIAAAFQCAYAAAAr7h+sAAAgAElEQVR4nOzdf1iUdb74/+ccuoSx0rFEwZbzdcJjC7TrgUMa1PEIa4hoklBZUJaouyrjUUMTg9JaUDwrZgZqq1hrDqbFILYiugQezzZkcSCvVDZXz/BZvuEobqKfTPCbh+8fDL9nmEHgHn68Htc11+Xc93vu+83LNzevud8/btWNGzcasDAajUydOhWhvDNnzuDn5+fsagx4EmdlSJyVIXFWhsRZGRJnZbSP8z84sS5CCCGEEMKJ7rp8+XKbDSqVyklVEUIIIYQQve306dPN/77r+I9/aX7zM+7CdKzB2mdEL9OGqST2CpA4K0PirAyJszIkzsrQhqm4UHPT2dUY8Lzd1dI1LIQQQgghJBEUQgghhBi0JBEUQgghhBikJBEUQgghhBikJBEUQgghhBikJBEUQgghhBikJBEUQgghhBikJBHss0rICFORUeHsegx0EmdlSJyVIXFWhsS5rypPV+OdftLZ1ehX7CSCZvJSVGjDrLxSsqlRpo5tVaR2rMvLwSR+XETNbWdUaJC4VUvVhXzyDiazNiWYxGKzzaLXT6eTuOxBtGEqJv56BuuLK6hXsKr9moNxLtNb/71c3Mn/i2hxvTqfPe9GE/1y62tICdetlZX2fMccjbO05276void6cFMDlOhDfPkiQ2pFFTVWS3a79pz6Ua83dWdv+bvdzwfceR47mq83Z/jUHVv/mB9x10OlXrJiCk2qJer0hVRbMnOIXJk47v6a+UcfC+CGemZHH41CnfnVm4AKiFjZjDprbaEP2a95PUvdEzdB2+tPkvaGDfqr+ST8dtQVmNkS4hWkdr2X47HGeiDv5f9RTkHD5jwis4ke0kOri5Qf62EPelRzLtlIDs2CFdLSWnP3eF4nAFpz3fMTMFnFfzLS0UsTHCD27WcORrPvFXzIUNP+MiWkv2yPQeu5kLNamWPV72fJRNye+6cfdyA6Bp2He7PnBdS+KfCTIoGSQavrCB0xxowHWvAdMxIgs1y5ez/Qw5PvbSJ8DFuALiOjED3UizG97Iw3lKqvv2Vo3EW3ePP3OXxhHh54OrSuMV1eBALX1pJ/R8yKP6+qZy05+5xNM6iezwIfyaegJGNbRQXDX4RKSSMzebDL02tyvXv9lxjeK5tl2/1fpa4r6O8aZ/lTt7TaU6rYr81IBJBAMb4EkARNdecXZFBrCKfnRfmEx7g1maz68MRPPV9KiXnnFQvIRwx3BMv6qj/X8t7ac+9o32cRS9Q43YP/PV6bcumgdCeL11tN6xADYB71EdcqLnJhZqbfJLojIr1bz2QCNZy/vNUElf5MjFMhfY5X+J2ZnPeynOjr5/LYn2KZRzDc74sbz9W5FoJe96dwRPPqdCGPUh0ejpGR781XjBSTDx+Xq031jXWrd14iI7jgOqo+iq95Wd42cq4iR8qKNAvaDvWRW+w+nN2/DkyOfNDx8HFNcXRaFOyqa3/P479jJfyWbtMRfTuIqtjmZyt6rsyaib74tV+xxAtfo/B+Zp+Mt6nj8d5wOhrcb52kSrccLVcFaU995J2cR4w+lScL3L5Ow/m+Pg0bxkQ7fnv11r+LldXcrRXT+aGq2OD5/q97v8qntNz4IdQ4t86y5fHGjDtOUzk1QRi9hW1SaSqimOZ+oaBYU8a+NOxBkwflZE09jAHm76FXDGQuCyKMu8UcvQNmI6VsdGnjOVLdBTbuctXfymf9K2bGLcmgZB7mrbWcebjGcQcuMm0189iOtbAl2nxuB70ZZ6hvNWn6yjThzJ5r4mgRcbGnyFLT+StfIqvtKqbLpQDLjHs+L2l6+6dTIKubeKJxFTKWieDl7JZ/hvLz7GnAdOx/+H9p0Zw4L0UyqxV/raR3E//y36crxWRvn4Gpyd8xvtxoQyz/4nGRNPaRJ9emvBTc8kAXlorYzTV4AL/feliD56tl/SDODf7Q7DlHA8SnZ5KQWWt/c/0FX0uznWU/VnPmWnRBN9nOZ+0Z0Xi3Ezac4/Euf5aOXnbVnL83wzoJrTc/RsQ7dmG3uka9mHUqJ46Vt/mWL77h2C0f2i7KeGdBnQ+wPh4XhvfascQLZER81n+Sgln4kIJAKjOYu0GE3MzitCNb2qYbrg/ksJcAOowHoqn6DE9/xXhbxlArGFcRCZvVYxg1+cJhES0HshqYHmMiuWWd+MeSSFhdQUJYzQtRar1pO90I+GDFEKaBsveF0HCv2+ieLEe40x/godA/akUFn2qZXtGRsugWhcNftMS8Gtft+dCWwY3D/cncomeuqQHyTgRw+5p2sayhxMw/qr1zwHDvGN486mLzDya3zG2n5sYG58Bv3/RdvxvlpDxxq8wduEiA+AekoMpxMHCPaWTFlVz2/ostj6jH8U5ILYBU6zlza1aznyezBu/DqAktYw3H9F0+lmn64Nxrq9IJ1WvZcuHUW3rI+25R9mKs7Tn7iohI6xlolnIS4d5c3q7yTjQr9uz+z/6d9w4ayw/w9I1HNW4qTxdzdPdPZnlbuPC7h6nn+iRWcP1V8op/u8iqv5WwfELZ6kqKwFSmvfXnC+iOGA+b453s3GEcko+MjNnc2i7hqvBS+uP8UIF19G2+gVrmTV8vTKLNxKTKfg2hvBWiWDV2XyKH4vlzTHtTjXah39Bz5kqCPaG8xVZ1PxK35IsOlw3AC0P/4s/iafKqZmmxZ1yymyV9Q7G6u98QBR+Ns8N/FBCRmIwxV28yPRFfmpb//99QH+O8xANfiEZbLk5g8m7s3j2kaYvMX1QH4xzfUUqcW9m4LXGSORoxz8n7blrHI6ztOc70DjRTAdw08yZLzax9jcpBK0tQufjWDvtq+25PL3tXb5H3V9us7/pfdDmCva+ONbGUU6S6T6FzV0899Pu6xr/kXicCwmTuvjp/qPbPeBVxbFE/6GOuS/NJzg8ljkjNAyrSke7rFWZqmy4ZwY2m9kVE+eBgldUZFjbP7nW5jpHw8bOZ2OyiehXVpLnm9N8gam5ZIDPDUwOi7X6uYRbAGbOnzeDVm0lyWtbNz8X67tHjdDCrbrmsmc6KWv1HPeoGWLr3EDJgWSMFfHsTu0bF/POuKr94fxFasDqEj5eIzyVrpLD+lOcbfHSBsOFMqq+B7/23W59RJ+L86VsVr+ZgftvOi6fIe25B3USZ1ukPd8htQd+IZtIuzWDyVszCdnemEj31/bsn3CTC91eQmES8TU3iW+3tcbwHI+aVrQkeZZlY8JPfcSs9jeRBrDuJYI/5LNrQwULt5ex0Nt2MfcRoXAebN54HqllHK26m7vI9eGVJDzpw+oD+YQsjWAY4D46CiZH82VyTCfrCmpwHw381MnBh3ngBdTbWKy67mYtDNc0JnluGmwOKfjhqs1fwM4EvbSLF4/+irikVHJSkwi4x/5nmtQURzNxg8F2gcl6O/HpmnFjQ+FABZdp/3OaOH/Cn4DnPXroTD2vP8W5cyNw7eybhZP1qThfymb5sgSYW8RGK8mJtGcbejjOnZP2fKfXDa9/DIYLdc03Ufpze+4K/4SbXHB2JfqZ7iWCdbVcRtuh8Z8/XwSENr/3eigCvy16jNUxzLGaZfvgNw0yTpej87EyDsAuDSHRKTz8cjI7Q0JJeNgNL20wfv9RxH9fiyF8uK3PufGw73x4Nwfjs0EEq60UGRJA0JMerC4pQvdw+y5fE8bPi5gTkdP4bfAeH3wfgQ+t/BzXT+dzBCxjIrvARUt4wmds+Y9gopNuon8rhWCbP09bSo9dcx0fylySMV5Iwq/VF4P6U4fZ7x3L+518WXC6fhRnW86czoFH4hnXhT9GiusrcW6dnET4WL1bL+25BzgQZ1ukPXdP1d+M8EjLAxb6dXtu5bqpgII9eRz64jglpZWWraMZ97gPAY+/zLMvzsF/kEzy6CndmzU80ocAHwN7Cou4fhugjpqvkkkvbLeminc8b710lcSNOvIuWGaC3a7l/OfJ7DkHoCHkyRRcd8aztrjccizgpomyoystZewYE8uC5y6SsTOTMwDeseimHuaN9FSMV5ruRdZxvSqfnXpD82ysYY8lsSVAz/INrcrdMlN2MJ2CK5a6PZtO8GexLP6oiJqmRTevlZO3LZb04XriH2sam6jlqRfa/xx11JxKZX2lJ9Mdj2w7WiJfNbLlgSxi39BRfOmOD9S77olgwQIt67cmU2yJZX21gfW7i5j77/F9d5xPs34SZ8rZsyObM9ea2mstZ44uYHHOCF57Kbbj8hB9jpPjfCmftesdSE6kPXePo3GW9tw95zJZf7SEqqY/u7frqPoqmcT3r5LwQqv49fv2DFWHFjNr5jtcGP8yGz4qb1478EJNJYc+2M6zY8pJD/FhzaFKm8eoMTzXtUfSDQLdXD7Gn4WvHeZfvtUxdboK7cuhpFfOYOPCGe3KuREQm8+fnvWkZGtA49T4+bEcuBXLU5YZx67jk8jOWol7WTwzp1uel/hGKsZ75jeX6ZwbwbPSCa9YSUahCfAg/NUKdgRcZNdrWsvaf6GsPmjCb3rrx9BpiUwoZ0urchN1Cfy3NrZlFvHoGLa8Z2BKTToxcxun9k9clUzZmHQKX41pc6Fy9Uni/Yz5UBjNhKaYnAvltWe6O4ZES2SCkS0P5BC3XumLTetnTjfOTCvY4Nm8zEHrtRG9pur501N1fGiJ5ROZRXgvzHd4wLLz9Yc4+xMy0cSHb/g27psbTPo5f9K2fcZCmxOy+hrnxbmscAZ7KszkbfHl5x2W7Ygm70pLWWnPd87xOEt77pbxsYTf1LN2meVaMT+U9V94Er/N2KGd9u/2fJJDaz5gytZc1jw/Ca/h7RbGHj4W/+fT2PYfUziwZj9nnVTL/kj1/pkjDU1vflZ9F+MapjqzPgPXpWwWv5hD+Ic5VmfMacNUmI41dNwhepTEWRkSZ2VInJUhcVaGNkzFhRprT2kAOEmm3xRqtl5l3a9sJ67XDy/G/9WxfHpmNb5W9tcYnuPRw7P5ImuOQuO2+x5vdzUNDS3teaCt7d5nVf23ngKfUPy6sDyFEEIIIQAmMWvDyxz/99ls2HeSqmttp5/WX6ukfF8iS149zrMb5lhNAoV1g+QBKsqp+TyVg0OimDPBh2FDaFkcdctVEt6ZzzhnV1AIIYToh7xmbedo4HHydn7AmgNfcP7Pf7GM9RvNuMcfJehXs0koTrM/WeTQyx3WI7Rm2nuVbIsa+HdvJBHsYe6Pzsfv0xSW78yhuNIM9/kQ/EgsC3+fT/jY/jAOQwghhOibXMdM4dm1U3j2Dj/f+ikkotFdU4b+vPnNec47sSoDhIsHwU9lEPyU1aWxhRBCCCH6DNWNGzeaRwwajUaeeOIJZ9ZHCCGEEEL0otOnTzf/u0PXsMyMcg5tmIqGUhuPLxE9RhXoInFWgMRZGRJnZUiclaEKdOlk1rDoKd7uavz8WlaOlFnDQgghhBCDlCSCQgghhBCDlCSCQgghhBCDlCSCQgghhBCDlCSCQgghhBCDlCSCQgghhBCDlCSCQgghhBCDVC8lgmbyUlQsLjZb3VtTHI02JdvyjMBuupLN4rBo8q70xMGEEEIIIQYP+4ngrVqqLuSTdzCZtSnBJNpI7npNRSrasFTKlD2r6CtqS8hMm4nvNBdUgeOYsXUfFT+2L1RHxdFVzJjzAKpAFx6ct5D0r2udUdt+r/bEUjwDXVDtKrGyV+LcU2zH2Ux2oguqwI6v1G+cUtV+TdpzL5Prs6KuH13Bo+5qvNNPdtx54y8cTV/M0xPVeLurmfLcCg58fc2h49pJBEvImDmCyYtnsHxbKntOlGD9sCVkhKnQNr88WX4CCjZ4ttqmQqu39svY2xrvTraph42XrTuYwkmq9xE7ZxUV/r/FmH+bhtLz6MNvUlHZtlh59lRCj3qS/N53NJTepmxNEGWrZ5L6TZ1z6t1fXc4l/n1PdHOt75Y49xA7cQaISm2McetX0i+Uq+KAIO25d8n1WVnVeazd4sGLOiv76k+R+bQ/O+si2f5fN7lQc5WPFw7nwBORZH5tP852EsEgdMcaMB1rwHTMSIJD5RowHbvIlskQvuZiq20NmGKD7Faot3Soi5XX9hAPp9VPtGciK+0F6pZ9SMY0fzQujVs14+OI8m1VrDaXzM0aUla8QpCmpUzKIg3JO7MxKV7v/spEdsYqPBc9j3+Hb/RInHuMnTiLHiLtuXfJ9VlZlRxKTWTU6jn43ei4t+bwBjYP387bSeG4uwK44f6rdby9eQSb382zOwxPJouIPqmudDfJV35HcoS203Lmk3qyQmIJ9Wq7XRsYRagxn5LqXqzkAGLKX0XCyJ2kTFJTa6XXRuLcM+zFWfQMac+9S67Pyqo6kMj6Udt5ZYqa639vv/caZ77Ig0d8aBdmvPyn4HvoC87Y6SHu84lgTc1Z4CyXv3d2TYSSyr/ejXlyEP52yplMufDQWDpcjrx8CCIXU4dfGtFB1W50e30wLAjBzUYRiXMPcCDOogdIe+51cn1WkOkD1m3/OdtXTsHVaoE66q3cJQTgPg+8yOWMnVuvvZQImqg6DQV/6+6N3zr++m02kE1ZpYwnGDxMmL41E6X1wFTcdpBxqrF1mzJjqoSoMda79NXA2Usy7rNTt8pJfWMb/q8mETTUViGJc7c5FOcWhqTGNq+a9jAz0rZRJH8wHSPtWQFyfVZM/Skyl+zALy0R/7ttFRqN1y8mwFcVVLX/+LlyyrgEP3V+ml5JBOtPHWaPdwQhRw5jvGWj0IlYJtqbRHItn0MfhzL3yQgOfm2kvjcqK/ogM6ZiqD28ipWVEWR92DLI+OybjxNb2O7i4aK2eaS6271c1X6tjpI9S8mZ9C7J/+zAPSqJ8x3qSpw9iElrNUkk91MSRucTGzOVzHOKVLYfk/asDLk+K6OO8oxlFPzbO8RP6rw9+774Dq9cW8eatAJqLInS9dMfsO7jSgIcOFMvJIImDh7I4qloPQnR+Xx4wsZdwcl6vrQzieTMZ5vYPy2ehLnxTD+WzkEZTzCoFA2NJnNeCB5DGt9rxseREu9P9u5syh08hqdaOuFsqftmMwmfR5A5N6jbXZUSZ9u6FeehWkLnfYJ+RgU6wxFkWKFt0p6VJdfn3lVf+g6phdN5a+kkG13Crdw9iXj9fqZUp/HMz9R4u/uwIkfN/OWzgSm439/5x+/qoTo3qypOJnN4JjkBGtx9NuG1OJm8X+iJHN3FA1Vnkb5jBGkfRDFsOCz4jZ7YvQZCX43C/Q7qVbDBE+0GO4Um6/kyOeaOji96khtu4yF00qO071TQaoPhXBmmv4P//W5oNGCsvggdSjbyHKHp9dr2T2YM+tcp+QaCJ7/ecXfh46h2QMr7t0n6hcT5znUlzraO4YbvQ0GwuRxT4nS747IGJ2nPypHrc++7xNHt6ygvhafHruu4+9AUvNPglSM3iQ+0bLtvEgu2HmfB1lblTr9DFRPwGtP52Xo0EayvSGX5e/BahiVZU4eSsLqEmPWpeKUmEXCPgwf6oYSMjckMW2NkjuUH8ApJIeGrX5Fa6M+WqZ3PVGrLg8jkBiJbb6pIRbsMco4lOXTbVChNi88vYZPNaZUjcBsCoMHnoRDM5ZWY8W97qamupIwlzB/b65Xtpxq7IGM6bDeTnfgAseP+TMOCpjv1Euc715U423G/3D2xTdqzcuT63PtGMyvrJrM6bL/EofljWeF7nAsJk+wepaq8gLPzluFn55ZiD3UN13K+WEfMssOErM0ifGTLHlefJLY8dZZFugXsr3SgY+NaEelJwRRPNLAxpHXCpyVyqZ5xnwazPL9CxgsOaBqCJ8Vh/lNxhy4G03kjTA0m4N7G99pfRhGUn4+xXdMyleoxzAol+F5FKjzgSZydqRbjyVw8HvPHx9lVGSCkPXeHXJ/7hRvH2Zt2lVeencIwO0V7KBG8yvlTVwnfXoTOp+O3Vq8QPTmL3Dj+uf0ErqrCwPkJn/F+bFDHfnF1ELo0A+O+SKdAxgsOaJqQJWxyXUV85hHMlglHZuPrxO6oIyPu+ZZvl95xpC8oJ37zbsotF5vabzaje1+DfsFspOOhh0iclXE5l9Q9xZiaFkH+0UT+jqeJL48j8xlZdqbHSHvuFrk+9zHVeezad4rrlgSrvqqAzS8s5szCd1gQaP+qYScRbP14tmDSafvYuIyKpnJawpfrWeht+4Rej2aw3VpyZ61cXKjtDFYdhO6tXUTa6fMW/Z0/CZmn0d3OJPTJxudYRhWqWfneH4kf37qcG0GLCjGMKyF+nguqwAcI/qiO+W/vIkbaSA+SOCti1HQiNAZ08yzLx8S+iOGueIr27CRqlLMrN5BIe+4euT73KWOmMcV1Hyv+VY23+1hmrTmKe8Jx9i53YKIJoLpx40ZD0xuj0ci4hqm9WNtGNcXRTPw8umcmZlzJZnFMDuHZOUS26pKuKY5m4gbDHR40ii3tjtfbtGEqGkplLn1vUwW6SJwVIHFWhsRZGRJnZagCXbhQc9PZ1RjwvN3VNDQ0p349P2u4r3APycEU4uxaCCGEEEL0XX3+EXNCCCGEEKJ3OOWOYI/erRsZw/ZjHRcNEEIIIYQQnVOZTKbmjuLz58/zxBNPOLM+QgghhBCiF50+fbr5306ZLCI6kskiypBB38qQOCtD4qwMibMyZLKIMtpPFpExgkIIIYQQg5QkgkIIIYQQg5QkgkIIIYQQg5QkgkIIIYQQg5QkgkIIIYQQg5QkgkIIIYQQg5QkgkIIIYQQg1QvJYJm8lJULC42W91bUxyNNiWbmp441ZVsFodFk3elJw4mhBBCCDF42E0Er1fns+fdaKJfVqENU6F9OZjEj0u4rkTtACpS0YalUqbU+UTfUltCZtpMfKe5oAocx4yt+6j4sX2hOiqOrmLGnAdQBbrw4LyFpH9d64za9j+X9xEd6IKqw2s9JW0KmslOtFbOhdRvnFT3fqz2xFI8A11Q7Sppt0fi3C0Ot2eQ60Z31LaJnWr2THT7S+gYPWnPPen60RU86q7GO/1kx503/sLR9MU8PVGNt7uaKc+t4MDX1xw6rp1nDZdz8IAJr+hMspfk4OoC9ddK2JMexbxbBrJjg3AFoISMsGDS23/8hCfaDa3ev2TEFBvkUMV6jpm8FE+Wn7BfMnzNRbaHePR+lYRjqvcROy+TEa+8i3HVH9G4QO253RRVgo9vS7Hy7KlElEZheO87Dmsay8QvnUnqpkKSfuHmvPr3G7PR539CzCj7JaNSvyNnmvyOdMvlXOLf90Q3F5JtFJE4d4dj7VmuG91wNhv9kDj02b9D4wJ1l4+QsvpxIn4spWieP+2jJ+25B1TnsXaLBy/qYHP7ffWnyHz6UYofz2X7f23H3bWOms/SWPxEJDV/KiD+nztvz3YSQX/mLvdvs8V1eBALX1pJ3uIMiqcHEX4fQBC6Yw3omks1Jl8Fj/WdxEqSvP7GRFbaC9QtO0/GNG3zVs34OKJaF6vNJXOzhpTcVwjStJRJWWTgwZ3ZxGyNQ4sQfYWJ7IxVeC76E/7Fr8NQZ9dnkJLrRvf4LiGl1Zdxt1HTSV70Cqnx2Rhj/Qkd4ryqDUyVHEpNZNTqI/jlr4N72u6tObyBzcO3czwpHHcA3HD/1Tre3jybKe/m8WzWHMt26+5sjOBwT7yoo/5/7+jTQthVV7qb5Cu/Izmi88ux+aSerJBYQr3abtcGRhFqzKekuhcrKUQXmfJXkTByJymT1NRKL6TTyHWj57kNHQFcpPb/OrsmA0/VgUTWj9rOK1PUXP97+73XOPNFHjziQ7vmjJf/FHwPfcEZOz3Ed5YIXrtIFW64KjDnuKbmLHCWy9/3/rlE31H+9W7Mk4Pwt1POZMqFh8Z2/Pbu5UMQuZg6/NII4SRVu9Ht9cGwIKRD15lQllw3el7tFRMEh+J/v7NrMsCYPmDd9p+zfeUUy1C89uqov2Hjs/d54EUuZ0ydn+IOUrk6yv6s58y0aILvs1XGRNVpKPibnbM7cK6/fpsNZFNWWdfNY4n+w4TpWzNRWg9MxW0Hc6caW7cpM6ZKiBpjvctfDZy9ZH3mumgtl9iIxgHcnnNmottfjPm29ZKGJMvg8GkPMyNtG0XyB9Mxt8pJfWMb/q8mEeRAd7DEuTvstWe5bvSo23WYStcTuwNyEq13qUt7vkP1p8hcsgO/tET877ZVaDRev5gAX1VQ1f7j58op4xL81PlpupwI1lekk6rXsuWFKIbZKnPqMHu8Iwg5chjjLRuFTsQyMcwyE1nfcT4XANfyOfRxKHOfjODg10bqu1pZ0U+ZMRVD7eFVrKyMIOvD72govU3ZmiDOvvk4sYXtLtIuaptHqrOR0AiLUc+TU3qbBsvL9HYCnidfwD9+G+VtCnoQk9ZSriH3UxJG5xMbM5XMc06qe79RR8mepeRMepdkO4O2Jc7d5HB7Rq4b3WQ++nRjcjfpbh5MMxGx9rdEjGlfStrznaujPGMZBf/2DvGTOr9u+L74Dq9cW8eatAJqLInS9dMfsO7jSgIcOFOXEsH6ilTi3szAa80mIkfbKmXi4IEsnorWkxCdz4cnbNwVnKzny2MNmI412JxJfOazTeyfFk/C3HimH0vnoIzbGFSKhkaTOS8ED8vAY834OFLi/cnend3xom6Dp1o64brCbUwISSl7iTUtJetEJ4PYhmoJnfcJ+hkV6AxHrCwbIZrUfbOZhM8jyJwb1PUuYYlztzjcntuR64Z9HtM+sSR4N7i6NYa6PY+jfWMfnfYDSnt2WH3pO6QWTuetpZNsdAm3cvck4vX7mVKdxjM/U+Pt7sOKHDXzl88GpuBup7ve8UTwUjar38zA/TdGtoTYHsBfVZxM5vBMFgZo8Ju5Ca+9yeRdcvgsLaqzSN8xgrTnoxg2PIIFv9GQuddwx4tQF2zwbLz72Nmrpxa5Ft3khtt4CJ30KO07b7TaYDhXZhnD44ZGA8bqizaP5DlC05sVHZiG+hDgDzkX7A3tcMP3oSAoLu/84j+omTHoX6fkm9cJnvcfrRAAACAASURBVNx6HbUHiC0EdjzuwJpqEudu6dCe5brRs9zQjAkh4a2dzD/5Aul2E25pz/Zd4uj2dZSXruPpsY3rAja+xrLiEJA2BW93NZmlrT5y3yQWbD3O8ZqbXKipIGvtHMbVm6liAl4d7tS2ZWf5mKY6ZbN8WQLMLWJjJ0lgfUUqy9+D1zKiGqcqq0NJWF1CzPpUvFKTCLjH5kfb+qGEjI3JDFtjZI7lB/AKSSHhq1+RWujPlqldmdjvQWRyA5GtN1Wkol0GOceSHLptKpSmxeeXsMnmtMoRuA0B0ODzUAjm8krM+LdNGqsrKWMJ88f2emUHLE+7X0Mt7pe7J7Y1do3FdNhuJjvxAWLH/ZmGBQ6urSpx7paW9izXjV4xxAdff8i56eB4fmnPnRjNrKybzOqw/RKH5o9lhe9xLiRMsnuUqvICzs5bhp+da7n9O4Ktk8AIHxu3KGs5X6wjZtlhQtZmET6yZY+rTxJbnjrLIt0C9lc6cCP4WhHpScEUTzS0Szq1RC7VM+7TYJbnV8h4wQFNQ/CkOMx/Ku7QBWw6b4SpwQTc2/he+8sogvLzMbZrWqZSPYZZoQTfq0iFB5baEooKPYgY72OvIMaTuXg85o+9kqI7JM7dYqU9y3WjF9yq4Gy5Bz7327ubKu1ZETeOszftKq88O8XmfI4mnSeCl/JZu95eEghwlfOnrhK+vQidT8cs3ytET84iN45/bj+Bq6owcH7CZ7zf/NSSVtRB6NIMjPsinQIZLzigaUKWsMl1FfGZRzBbJhyZja8Tu6OOjLjnW77Fe8eRvqCc+M27Kbdc1Gu/2YzufQ36BbORDp7OmYvXk15qah4cX1d9hOREHUWzMtAFtvpdvpxL6p5iTE2P9/vRRP6Op4kvjyPzGVkOpcdInLvF4fYs141uMGPYtZn8ylqa7v3V1ZaTlbaQrEmbmC/XDeVV57Fr3ymuWxKs+qoCNr+wmDML32FBoP0od5oIlhXOYE+Fmbwtvvy8w5i6aPKuNJXUEr5cz0Jv2yf0ejSD7daSO2vl4kJtZ7DqIHRv7SLSTp+36O/8Scg8je52JqFPNj5nOKpQzcr3/kj8+Nbl3AhaVIhhXAnx8xrHXgV/VMf8t3cRI23ELo9J09EULiXAstyGb5IB9ZxCyt6Y3bbLbNR0IjQGdPMsy0DEvojhrniK9uwkyoFH0wkHSZy7xeH2LNeNbvAgYqqW8j0z8bWMdw1I3Ib5Xz+l4q3n2y4fI+1ZGWOmMcV1Hyv+tXEc4aw1R3FPOM7e5Q5MNAFUN27caGh6YzQaGdcwtRdr26imOJqJn0fzZXJMp489cciVbBbH5BCenUNkqy7pmuJoJm4w3OFBo9jS7ni9TRumoqFU1izobapAF4mzAiTOypA4K0PirAxVoAsXam46uxoDnre7moaG5tTPwcki/ZB7SA6mEGfXQgghhBCi71LgIXFCCCGEEKIvcsodwR69Wzcyhu3HOi7OIIQQQgghOnfX5cuXnV0HIYQQQgjhBB0mizzxxBPOrI8QQgghhOhFp0+fbv53h65h07GG9puEAmTWsDJk9p8yJM7KkDgrQ+KsDJk1rAxvdzV+fn7N72WyiBBCCCHEICWJoBBCCCHEICWJoBBCCCHEICWJoBBCCCHEICWJoBBCCCHEICWJoBBCCCHEICWJoBBCCCHEINVLiaCZvBQVi4vNVvfWFEejTcmmpidOdSWbxWHR5F3piYMJIYQQQgwe9hPB74vYmR7M5DAV2jBPntiQSkFVnQJVs6hIRRuWSplyZxR9SW0JmWkz8Z3mgipwHDO27qPix/aF6qg4uooZcx5AFejCg/MWkv51rTNq2/9c3kd0oAuqDq/1lLQpaCY70Vo5F1K/cVLd+yNpz73L4fYMEuceIO25d1XvZ4m7Gu8Or42UNxe6xKH51so0vaZzwNT5aTo8WaQtMwWfVfAvLxWxMMENbtdy5mg881bNhww94SObypWQERZMevuPn/BEu6HV+5eMmGKDHAtAjzGTl+LJ8hP2S4avucj2EI/er5JwTPU+YudlMuKVdzGu+iMaF6g9t5uiSvDxbSlWnj2ViNIoDO99x2FNY5n4pTNJ3VRI0i/cnFf/fmM2+vxPiBllv2RU6nfkTJPfkTsi7VkhjrVniXM3SXtWSCRvn/qIWWNs7R/NrKybzLKyp2rfbKbkRRKk7fwMdhJBD8KfiW9566LBLyKFhBMP8uGXKYRHNB09CN2xBnTNBRuTr4LH+k5iJUlef2MiK+0F6padJ2NaSyvWjI8jqnWx2lwyN2tIyX2FIE1LmZRFBh7cmU3M1jjs/A4IoQBpz32KxLmbpD33fac4+vsCnl35AV52St7BGEE1bvfAX6/LrV3Re+pKd5N85XckR3R+mTCf1JMVEktou5auDYwi1JhPSXUvVlIIB0l77lskzt0j7bnvq/9zLrsur2bW1OF2y95BIniRy995MMfH5w6q1nU1NWeBs1z+XpHTiT6i/OvdmCcH4W+nnMmUCw+N7fit0suHIHIx/b2XKihEF0h77lskzt0j7bmvu8bxAxtxXzybIFf7pbuUCNZfKydv20qO/5sB3YTO+vZNVJ2Ggr/ZGaFoVx1//TYbyKasUsEJKsLJTJi+NROl9cBU3HaQcaqxdZsyY6qEqDHWu/zVwNlL1meui9ZyiY1oHFTvOWcmuv3FmG9bL2lIavy/UE17mBlp2yiSC7kDpD0ry157ljh3j7RnZeWxYkLjxI9HJ89m3a7j1Pxk5yPfH+f4vnBenDHBoTM4kAiWkBGmQhum4ufPBJA3PIE3pwfRWZJZf+owe7wjCDlyGOMtG4VOxDLRclytvuN8LgCu5XPo41DmPhnBwa+N1NuvrBgQzJiKofbwKlZWRpD14Xc0lN6mbE0QZ998nNjCdhcPF7XNI9XZSGiExajnySm9TYPlZXo7Ac+TL+Afv63VrDQAD2LSWso15H5Kwuh8YmOmknnOSXXvN6Q9K8bh9ozE+Y5Je1bMmDlsq7nJBcvrP/XLcD/+Mk8+s4OznXys6ugHHHj+ZcIdHIDpQCLYOBHEdKwBU95FEsYUsfY3wWRU2LpDZ+LggSyeitaTEJ3Phyds3BWcrOfLpuPamEl85rNN7J8WT8LceKYfS+egjCcYVIqGRpM5LwSPIY3vNePjSIn3J3t3dseLug2eapmV1hVuY0JIStlLrGkpWSc6GQc8VEvovE/Qz6hAZziCjBi2T9qz8hxuz+1InO2T9qw8V68pxL/3AZHnVnDg6DUbpSyTRKZNYZiDx+3aGEG1B34hm0ibN4L0rZmcsVKkqjiZzOGZLAzQ4DdzE157k8m71KWzNKrOIn3HCNKej2LY8AgW/EZD5l7DHS9CXbDBs/HuY2evnlrkWnSTG27jIXTSo7TvVNBqg+FcmWVsiRsaDRirL9o8kucITW9WdGAa6kOAP+RcsDe0ww3fh4KguJzuDgIZ2KQ9O1WH9ixx7h5pz051tw9+j0JBRaXV3V2ZJNLkjp4s4vWPwXChrkNXbX1FKsvfg9fionAHUIeSsNqXPetTKfuhCyf4oYSMjckMW5PBHMvaOV4hKSSwktTCrv7J8SAy2XLnsen1TgqQQs6xdtuTYxrrLZxMi88v4WytrW/wI3AbAqDB56EQzKZKOow0qa6kjCX4j+3Vig5ong4MMgbgfvlW3zlpz31BS3uWOHePtOe+wN3qZbdrk0Sa3FEiWPU3Izzi0SppquV8sY6YZYcJWZvVaqFpcPVJYstTZ1mkW8D+SgduzV8rIj0pmOKJBjaGtO7g1hK5VM+4T4NZnl8h4wUHNA3Bk+Iw/6m4QxeD6bwRpgYTcG/je+0vowjKz8fYrmmZSvUYZoUSfK8iFR5YaksoKvQgYry9lQFqMZ7MxeMxf5RZQ6C/kvbsVFbas8S5O6Q9O9X3X1ByaDQhDz/UcV91AXldmCTSpPNE8Fwm64+WUHXT8v52HVVfJZP4/lUSXohttUjhVc6fukr49iJ0Ph3TVK8QPTmL3Dj+uf0ErqrCwPkJn/F+rJUJKeogdGkGxn2RToGMFxzQNCFL2OS6ivjMI5gtE47MxteJ3VFHRtzzLV0S3nGkLygnfvNuyi0Xm9pvNqN7X4N+wWyk46Fz5uL1pJeamgdt11UfITlRR9GsDHSBrX6XL+eSuqcYU9Pjo340kb/jaeLL48h8JgS5J9g5ac/KcLg9S5y7RdqzMmoOb2TXnyupt8wSrq8qYPP8ZZQ8/w4vPt7xqlv1nx9xtAuTRJp0ngiOjyX8pp61yyzj6+aHsv4LT+K3GdslfFrCl+tZ6G37z4HXoxlst5bcWSsXF2p7kKM6CN1bu4i0+bgVMTD4k5B5Gt3tTEKfbHyOZVShmpXv/ZH48a3LuRG0qBDDuBLi57mgCnyA4I/qmP/2LmKkjdjlMWk6msKlBFiW2/BNMqCeU0jZG7Pbjv8ZNZ0IjQHdPMvyMbEvYrgrnqI9O4ly4NF0QtqzEhxuzxLnbpL2rAT3KeEMO7SCWZblY6b9Og/XBQUc2hppZRjbKY7+vpz4Z6c5PEmkierGjRsNTW+MRiPjGqZ2t+521RRHM/HzaL7siTF5V7JZHJNDeHYOka26pGuKo5m4wXCHB41iS7vj9TZtmIqGUplL39tUgS4SZwVInJUhcVaGxFkZqkAXLtTctF9QdIu3u5qGhubUz96zhvsv95AcTCHOroUQQgghRN91R5NFhBBCCCFE/+eUO4I9erduZAzbj8X00MGEEEIIIQYPlclkau4oPn/+PE888YQz6yOEEEIIIXrR6dOnm//tlMkioiOZLKIMGfStDImzMiTOypA4K0Mmiyij/WQRGSMohBBCCDFISSIohBBCCDFISSIohBBCCDFISSIohBBCCDFISSIohBBCCDFISSIohBBCCDFISSIohBBCCDFI9VIiaCYvRcXiYrPVvTXF0WhTsqnpiVNdyWZxWDR5V3riYEIIIYQQg0cXE8Fydi5ToVUy8apIRRuWSplCpxN9xOV9RAe6oOrwWk9Jm4JmshOtlXMh9Rsn1b0fqz2xFM9AF1S7StrtkTj3JIlzL3H4ugFQR8XRVcyY8wCqQBcenLeQ9K9rnVDp/qi2TexUs2ei219Cx+hJe+5J14+u4FF3Nd7pJ22UuEb5rhXMnzwWb3c1U55L5NBf6+wetwvPGq7jzEfxlE1MIbyifVpWQkZYMOntP3LCE+2GVu9fMmKKDXL8lD3CTF6KJ8tP2C8ZvuYi20M8er9KwkGz0ed/Qswo+yWjUr8jZ5r833XL5Vzi3/dENxeSbRSROPcAiXMvc+y6UZ49lYjSKAzvfcdhDdSe20380pmkbiok6RduylS1vzqbjX5IHPrs36FxgbrLR0hZ/TgRP5ZSNM+f9tGT9twDqvNYu8WDF3Ww2WqBSg7FT2HPsI28dfBtsu4Dvj/FgZJv4Z8mdHpohxPB+op03vhmPlvialn8h/Z7g9Ada0DX/L4x+Sp4rO8kVpLkCdEZE9kZq/Bc9Cf8i1+Hoc6uz0Alce4TanPJ3KwhJfcVgjSNmzTj40hZZODBndnEbI1D69wa9m2+S0jxbXnrNmo6yYteITU+G2OsP6FDnFe1gamSQ6mJjFp9BL/8dXBPxxJVH65gRd1GjmfOwatp430TeHaG/aM71jV8s4SMrUaejZ+P1606zjhceSFEf2DKX0XCyJ2kTFJTK71jvUbi3DeYT+rJCokl1Kvtdm1gFKHGfEqqnVOv/sxt6AjgIrX/19k1GXiqDiSyftR2Xpmi5vrfrRSoP87HaRdZs6JVEtgFDiSCdRj3RnE+OoM5Y+7gDN1UU3MWOMvl75U/txCDQtVudHt9MCwI6dClI3qQxLnPMJly4aGxHe/6efkQRC4ma39sRadqr5ggOBT/+51dkwHG9AHrtv+c7Sun4GqrzDcnOXA5nH95+M5OYTcRrDkxn+WX0nltaldulJuoOg0FfzPdWa2a1fHXb7OBbMoq7Q94FANNLrERjQOLPefMRLe/GPNt6yUNSZZBy9MeZkbaNorkQu6YW+WkvrEN/1eTCHKgm1LifIckzgqyd90wY6qEqDHWhwqpgbOXrK94Iay4XYepdD2xOyAn0XqXurTnO1R/iswlO/BLS8T/btvFqv6nnJpZPoysymPDC/6NE0omTmFNegFVP9k/TeeJ4KVsUrfVkbQwpku3G+tPHWaPdwQhRw5jvGWj0IlYJoap0Iap0Oo7zucC4Fo+hz4OZe6TERz82kh9F+og+rlRz5NTepsGy8v0dgKeJ1/AP34b5W0KehCT1lKuIfdTEkbnExszlcxzTqp7v1FHyZ6l5Ex6l+R/tnePSuJ85yTOinH4ugG4qG0eps7GF07Rwnz06cbkbtLdPJhmImLtb4no0Gso7fnO1VGesYyCf3uH+EmdXzeuVOXB9Y/YsO4vTPmPEr6oucmFgnfw/59FPLMsz+5SfZ0kgiby/pAMv9lE5OiuVN7EwQNZPBWtJyE6nw9P2LgrOFnPl8caMB1rsDmT+Mxnm9g/LZ6EufFMP5bOQRm3MWi5jQkhKWUvsaalZJ3oZHDVUC2h8z5BP6MCneGIleUMRJO6bzaT8HkEmXODut5VKXF2mMTZeRy+brTjqZbOe3s8pn1iSfBucHVrDHV7Hkf7xj467QeU9uyw+tJ3SC2czltLJ9nuEm7tuCvhv11N0BhL271vAs+uXIffgQ3kne78o7YTwYpslheayNvwYONdu6bXsmTAwPIYldVFoauKk8kcnsnCAA1+MzfhtTeZvEuO/BTtVGeRvmMEac9HMWx4BAt+oyFzr+GOF6Eu2ODZ9uew9uqpRa5F7xjqQ4A/5FywN+TADd+HgqC4vPOL0qBmxqB/nZJvXid4cuv1vR4gthDY8bgDa31JnO2TODtdh+uGGxoNGKsv2vyI5wiNMnUbENzQjAkh4a2dzD/5Aul2E25pz/Zd4uj2dZSXruPpsWq83ZteY1lxCEibgre7mszSxtKud0+AKeH4t78jq/UhgFOc+Z/OkzDby8f4JGE6ltRxe0Uq2mVlbMnOIXJk2131Faksfw9ey4jCHUAdSsLqEmLWp+KVmkSAlSnPVv1QQsbGZIatMTZPUPEKSSHhq1+RWujPli6NV/QgMrmByA4/A+QcSyKgC0cSfYOnQ1+PgPvlW71tjV02MR22m8lOfIDYcX+mYYGDa35KnDshce4rWq4bGnweCsFcXokZf9qMFKyupIwlzB+rfP36vSE++PpDzk0Hx/NLe+7EaGZl3WRWh+2XODR/LCt8j3MhYVLz1p9pg+DsJWxN2B7u2nmse+gRc7WcL9YRs+wwIWuzCG+VILr6JLHlqbMs0i1gf6UDN4KvFZGeFEzxRAMbQ1onfFoil+oZ92kwy/MrZLzgYFRbQlGhBxHjfewVxHgyF4/H/LFXUnSHxFkZEudusXLd0P4yiqD8fIzt/iSZSvUYZoUSfK/CdRwIblVwttwDn/vt3U2V9tzThj0yhWcv52Js3wVsqqCMSAJ+MbzTz/dQIniV86euEr69CJ1Px8zTK0RPziI3jn9uP4GrqjBwfsJnvB8b1LFfXB2ELs3AuC/SKZDxggOauXg96aWm5kHbddVHSE7UUTQrA11gqzZ2OZfUPcWYfrS8/9FE/o6niS+PI/MZWaajx0iclSFx7haHrxvecaQvKCd+827KLclg7Teb0b2vQb9gNtIx3Bkzhl2bya+speneX11tOVlpC8matIn5cn1W3n2RvPhbNzasWsfxasv/yuUCNi9ZR/2GNcyys/RfDyWCWsKX61nobfu/1evRDLZbS+6slYsLZZitAuogdG/tItIJaxoK5XhMmo6mcCkBlmUgfJMMqOcUUvbG7LZdOaOmE6ExoJtnWZ4g9kUMd8VTtGcnUQ48mk44SOKsDIlztzh83cCNoEWFGMaVED+vccxm8Ed1zH97FzHyt8UODyKmainfMxNfy3jXgMRtmP/1Uyreer7t8jHSnhXju6iAowvr+PC5nzc+Z/ilPFx1BWQt6PzxcgCqGzduNDS9MRqNjGuY2quVBagpjmbi59F8mRzTOJawO65kszgmh/B2YxZriqOZuMFwhweNsjoGsjdpw1Q0lMqaBb1NFegicVaAxFkZEmdlSJyVoQp04ULNTWdXY8DzdlfT0NCc+jn+rOH+xj0kB1OIs2shhBBCCNF39VDXsBBCCCGE6G+cckewR+/WjYxh+7GOizMIIYQQQojO3XX58mVn10EIIYQQQjhBh8kiTzzxhDPrI4QQQgghetHp0y2LDnboGjYda2i/SShAZg0rQ2b/KUPirAyJszIkzsqQWcPK8HZX4+fn1/xeJosIIYQQQgxSkggKIYQQQgxSkggKIYQQQgxSkggKIYQQQgxSkggKIYQQQgxSkggKIYQQQgxSkggKIYQQQgxSvZQImslLUbG42Gx1b01xNNqUbGp64lRXslkcFk3elZ44mBBCCCHE4GE3ESzTq9CGdXzZSvJ6XEUq2rBUypQ5m+hrakvITJuJ7zQXVIHjmLF1HxU/ti9UR8XRVcyY8wCqQBcenLeQ9K9rnVHb/kvi3Lsu7yM60AVVh9d6StoUNJOdaK2cC6nfOKnu/ZG0594l7VkZ1fsZ667mwQ6vjbh3KHyNUbtWMHby2MYy0xfj9Vklrg6cpsOTRax6yYgpNqiTAiVkhAWT3n7zCU+0G7pynN5gJi/Fk+Un7JcMX3OR7SEevV8l4ZjqfcTOy2TEK+9iXPVHNC5Qe243RZXg49tSrDx7KhGlURje+47DmsYy8UtnkrqpkKRfuDmv/v2FxFkhs9Hnf0LMKPslo1K/I2eaXIvuiLRnhUh7VkYkN099xMUxnZW5hserExh6Yx3XD77NlfvgnooPGPn0FDw3nKRy1uhOz+BYImhXELpjDeia3zcmXwWP9Z3ESpK8/sZEVtoL1C07T8Y0bfNWzfg4oloXq80lc7OGlNxXCNK0lElZZODBndnEbI1Di7BN4iwGEmnPYhAy5aJ+/1Fulr3MlfsaN/3g8zJDEvejyTvO8FlzuNbJx2WyiOiT6kp3k3zldyRHdH45Np/UkxUSS6hX2+3awChCjfmUVPdiJQcAibMYSKQ9i0Hp2iVUAC5tN9++e7hDH+/ziWBNzVngLJe/d3ZNhJLKv96NeXIQ/nbKmUy58NDYjt/evXwIIhfT33upggOExFkMJNKexaDkM4mfRn3BkG9a3/erZOjhPBqmTur0biA4mgj+IdgySeRBotNTKai0N6DWRNVpKPibyaHD21bHX7/NBrIpq6zr5rFE/2HC9K2ZKK0HpuK2g7lTja3blBlTJUSNsd7lrwbOXlJoUlO/JHFWVi6xEY0D5T3nzES3vxjzbeslDUmN/xeqaQ8zI20bRZKYOEDas7KkPSsjD/UEyySRybP5f3YdZ9hP7Yq4TuHKHxbzD68/xz9+dgn1tb/gueZl1Hd/xPfPj7V7BruJYEBsA6Zjltcfy3gr4CI7fx3A2q9sJ4P1pw6zxzuCkCOHMd6yUehELBObZiHrS6yXuZbPoY9DmftkBAe/NlJv98cRA4MZUzHUHl7FysoIsj78jobS25StCeLsm48TW9juIu2itnmkOhsXJgESZwWNep6c0ts0WF6mtxPwPPkC/vHbKG9T0IOYtJZyDbmfkjA6n9iYqWSec1Ld+w1pz4qR9qyMMXOorLnJ/1heZv0y/vf4y4x8Zgf3tyv6Y+Bqrvw+nH94biye4/xRX3+Za7+LtHs3ELraNTxEg19IBluW+7BndxZnrBYycfBAFk9F60mIzufDEzbuCk7W82VTgmljJvGZzzaxf1o8CXPjmX4snYMybmNQKRoaTea8EDyGNL7XjI8jJd6f7N3Z7S42tnmqZfafPRJn5bmNCSEpZS+xpqVkneikh2WoltB5n6CfUYHOcARZ3MQ+ac/Kk/asjB+9plD13gf8dG4F9xxtneLV4b5lOu5rKqkvNnPx/63kB58ChgfM5oHT9ntT72iMoJc2GC6UUWVl3F5VcTKZwzNZGKDBb+YmvPYmk3fpDk5SnUX6jhGkPR/FsOERLPiNhsy9hjtehLpgg6fV9RDbvHpqkWvRTW64jYfQSY/SvvNGqw2Gc2WWMTxuaDRgrL5o80ieIzS9WdF+TuLsVEN9CPCHnAv2htC44ftQEBSX093BNgObtGenkvasjLt9+P8eBZeKyuZN9x5dw707J3Djk7e5+PBwbrqO5rLuI/7+2+G4zkljlJ3u1G5MFhmB65C2W+orUln+HrwWF9W42KE6lITVvuxZn0rZD1049A8lZGxMZtiaDOZY1s7xCkkhgZWkFna16XgQmdyqe/tYA6Z3UoAUco61254cY2WRRqE8LT6/hLO1tr4vjsBtCIAGn4dCMJsq6TCip7qSMpbgb394xCAmce4LPB1Z8RXgfrlL1Tlpz32BtGeFtAqf2+kd8OJs/n532yLXZrzMT5c34mpn8e47SgTPnM6BR/wZd0/TllrOF+uIWXaYkLVZhI9sKevqk8SWp86ySLeA/XYnmQDXikhPCqZ4ooGNIa3ndGmJXKpn3KfBLM+vkPGCA5qG4ElxmP9U3KErx3TeCFODCbi38b32l1EE5edjbNe0TKV6DLNCCb5XkQr3UxJnp6otoajQg4jxPvYKYjyZi8dj/tgrObhJe3Yqac/K+P4LhhwazU8PP9SyzWU0VJvpMOr1xjVUTOB/7eTcdhLBcvbsyObMNUsf861azhxdwOKcEbz2UiwtSzBd5fypq4RvL0Ln0/GMXiF6cha5cfxz+wlcVYWB8xM+4/3YoI6PRlEHoUszMO6LdApkvOCApglZwibXVcRnHsFsmXBkNr5O7I46MuKeb+n68Y4jfUE58Zt3U265qNd+sxnd+xr0C2YjHTydkzgrw1y8nvRSU/MkhLrqIyQn6iialYEusNU183IuqXuKMTU9Du1HE/k7nia+PI7MZ0KQeyidk/asDGnPyhh+gBdBUwAAIABJREFUeCNef65kqGWW8NCqAv5x/jJcnn+Ha4+3RO9q5Dr+97Nl3P/hKe61JFnq708x5vVluDy7hh8e7vw8dhJBf0ImmvjwDd/GMXRzg0k/50/ats9YOL71f6GW8OV6Fnrb/m/1ejSD7daSO2vl4kIZZquAOgjdW7uI7PRxK6L/8ych8zS625mEPtn4vNCoQjUr3/sj8eNbl3MjaFEhhnElxM9zQRX4AMEf1TH/7V3ESBtxgMRZCR6TpqMpXEqAZbkN3yQD6jmFlL0xu+14tlHTidAY0M2zLLcR+yKGu+Ip2rOTKAce5SWkPStB2rMyrk0J5/ahFXhYlo/x+HUeDQsKuLy17Wzgn7Qvc/ngO9z+ahnuP2ss6xm7gbsez+NKpv2Zw6obN240NL0xGo2Ma5jaOz9RKzXF0Uz8PJove2JM3pVsFsfkEJ6dQ2SrLuma4mgmbjDc4UGj2NLueL1NG6aioVTWLOhtqkAXibMCJM7KkDgrQ+KsDFWgCxdqbjq7GgOet7uahobm1K+nnjXc97iH5GAKcXYthBBCCCH6rj7/iDkhhBBCCNE7mu8IPvzGbACKpvV+13CP3q0bGcP2YzE9dDAhhBBCiMHjri+//LLNBm2YyklVEapAF2dXYVCQOCtD4qwMibMyJM7K8Ha3/eg/0XPOnGl5NtxdD3iObrPTdKyhfXmhAJksogwZ9K0MibMyJM7KkDgrQyaLKMPbXY2fn1/zexkjKIQQQggxSEkiKIQQQggxSEkiKIQQQggxSEkiKIQQQggxSEkiKIQQQggxSEkiKIQQQggxSEkiKIQQQggxSPVSImgmL0XF4mKz1b01xdFoU7Kp6YlTXclmcVg0eVd64mBCCCGEEIOHg4lgHec/TyVx2YNow1RM/HUsO0/X9m7NmlSkog1LpUyZs4m+4vI+ogNdUHV4raekTUEz2YnWyrmQ+o2T6t6P1Z5YimegC6pdJe32SJy7xeH2DFBHxdFVzJjzAKpAFx6ct5D0rxW63vZ3ct1QhsRZGdX7WeKuxrvDayPl7YrWlO4n89+nM82vscyjk2ezwfAX6h04zV32i9RRpg9l0bcz2PL6WdJGusEtM8UnjNQ8HIE7ACVkhAWT3v6jJzzRbmj1/iUjptggB6rVk8zkpXiy/IT9kuFrLrI9xKP3qyQcNBt9/ifEjLJfMir1O3Kmyf9dt1zOJf59T3RzIdlGEYlzdzjWnsuzpxJRGoXhve84rIHac7uJXzqT1E2FJP3CTZmq9mty3VCGxFkZkbx96iNmjemkSHUeB/4Tgld9xIKtw3EF6v+ax4Z/DyeR47wdNbbTM9hNBOvLkln051B2bE4ioOkRgEM8CJka0apUELpjDeia3zcmXwWP9Z3ESpI8ITpjIjtjFZ6L/oR/8esw1Nn1GaRqc8ncrCEl9xWCNI2bNOPjSFlk4MGd2cRsjUPr3BoKIfqaMZHEJ7Td5PpPkbyiK8D/1f0sjFqNbycft9M1bOJgTjqhL6xsSQKFEAOOKX8VCSN3kjJJTa30QjqN+aSerJBYQr3abtcGRhFqzKek2jn1EkL0P8NGj4XL2O0e7jwRvFLC8a+iCBqn6bmadVFNzVngLJe/d1oVhBjYqnaj2+uDYUEI0vHoXCZTLjw0tuNdPy8fgsjF9Hdn1EoI0R9d/7sZRoGrnXKdJ4LmsxQQgNfd5exJD2ZymArtc77EvZvFmR86+6CJqtNQ8DdTV+vdTh1//TYbyKassq6bxxL9Ty6xEY0Diz3nzES3vxjzbeslDUmNA+tV0x5mRto2iuQPpmNulZP6xjb8X00iyIHuYIlzd9hrz2ZMlRA1xvoQFjVw9pL1lRhEa3LdUIbEWRl5rJjQMgFk3a7j1PzkyOcqOX5gB76LwzvtFgY7iWBNTQVgJOO9LIY/lc+JYw2Y/v/27j8qqute+P+b4lfAJDpGUTCXPk605kFtLTxcFZLrI9QoopEATYiQpIraahirCdpgID+agsEbUZOAmquY1AT80TCIiYgGGeuTgKZciMsf3BrssMoNjmAMWI2QGzvfPxj5McwvBA7CfF5rnbWYM/ucs/nM4fCZffbeZ3cxz9yTxfykVM59b3m75tOH2D0ujODDhyixUoYTsUyd7YJ6tgvq7M7j5gBoLODgn0J49rEwDnxZ4tDoFzFAjFpIbtktjKZFvzkB71NP4xe/1Wy0lBcxaW3ljHkfkzC6gNiYWWRe6KO69xtNlO5eSe60d0j+ub22QIlztzh8PgOu1vvhNFn5RytM5LqhDImzMsZEs7X+JhdNy5+zV+F5fBGPPbGd83Y2rdG+xvq/vcjri6fYPYwD08dcwj9sI+HjTLeHB3sR/HQKmsvJ7C+31JlIz4H9WTwelU1CVAEfnLDSKjgjmy+OGtEfNVodSXzu2Eb2zYkn4dl45h5N54D0j3Fa7mOCSUr5kFj9SrJO2OjENkRNyOKPyJ5XiUZ7GOnuZl3TmU0kfB5G5rOBXb8lLHHuFofPZzPeHnLzvivkuqEMibMy3HxmEv/u+4RfeJ79Rxqtlqs5uIJnflPNM28m4neP/f3aTATdPLyBEPzHmV18Bk9k/GQ4XN05yavRJZM5LJNl/iomzd+Iz4fJ5F+2X5FOarNI3z6ctIWRDB0WxtLfqMj8UHvHk1AXvuHd0vpoa+mpSa5F7xjii78f5F601+XAnYkPBYKugu52Thi4DGizX6b0zMsEzWg/v9cDxBYB2x9xYK4viXO3dDqf3VGpoKT2ktVNvIf3XX/tfkuuG8qQOCvjHl8mTYfCymqLb187tYHnl1TyxOFC4gMc++Joc/qYoZ5qJlHOtevA/Z3fHzW44+vmylRWvwsvZUS2zC/oEULCi6XErE/FJzUJ/3sdqhNcLyVjQzJD15UQbZo7xyc4hYS//ILUIj+2zOrKBApehCcbCW+/qjIV9SrIPZqEfxf2JO4O3vZ6vt42QlpPrGu5ZRPTab2BnMQHiB3/GcalDs75KXHulrbzWYXvQ8EYKqox4EeHnoK11ZTzHEtsTwcmbJDrhjIkzsrwtBC+5rINxM0/TNCf8h1OAsHereFxIYSPy+F4pVkD7s3znDvrRaivn2lFA1U6DTGrDhH8ahahI9uKuvkmseXx8yzXLGVftQMNwY3FpCcFoZuqZUNw+4RPTfjKbMZ/HMTqgkrpL+iMGkopLvIibIKvvYKUnMrD62E/7JUU3SFx7hYL57P6Z5EEFhRQYnap1Jdlo10QQtB9CtdxIJDrhjIkzsq4epLSg6MJnvxQh9XNZRuInduSBL4wc1iXdmmnj6Af0b+Kp/idePZdNF2Zrley751YCmdk8Wzrp/gtVae/JXRbMRrfzlmoT3A2ucvdOf65/QSuplJL1ZRjvBcb2HnIs0cgmjQt40+mUyj9BQc0g2496WX61s7xTbWHSU7UULwgA037bzp1eaTu1qH/zvT6Oz0F239JfEUcmU/IdCg9RuLcLQ6fz+PiSF9aQfymXVSYLrkNZzaheU9F9tII5MawbXLdUIbEWRn1hzaw87Nqmk2jhJtrCtm0ZBWlC9/imUfaotd89i2e+9WdJYHgwGCRodMzKEr2p+Jt/5bnDL+whvMTtHzyXBhDW0upCV2dzTLzvoTt+EzPYJul5M5SubiQdvs24xGI5vWdhNt63Iro97ymzUVVtBJ/0/QEE5O0eEQXUf5KRMdbZqPmEqbSollsmp4g9hm0g+Ip3r2DSAcefSQcJHHuFofPZ9wJXF6Ednwp8Ytb+mwG7W1iyeadxMg1zy65bihD4qwMz5mhDD34PAtM08fM+XU+bksLOfh2uOnxvgCXObI5keN1p8h8wsuh5xKbc7nwX+eNAHN2rAageM6RXvulbqvXRTH18yi+SI5p98vcoSs5rIjJJTQnl/B2t6TrdVFMfUN7hzuNZIvZ/nqberYLxjKZG6K3uQS4SpwVIHFWhsRZGRJnZbgEuHKx/mZfV2PAG+fpgdFobH1t91nD/ZVncC764L6uhRBCCCHE3cuBeQSFEEIIIcRA1Cctgj3aWjcyhm1HO0+CIYQQQgghbBv09aU7me1ZCCGEEEL0dy43btwwAkx+JQIAffrRPq2QEEIIIYToPWfPnm39uTURBCgpKWG8cVafVMrZyahhZcjoP2VInJUhcVaGxFkZMmpYGeajhmWwiBBCCCGEk5JEUAghhBDCSUkiKIQQQgjhpCQRFEIIIYRwUpIICiGEEEI4KUkEhRBCCCGclCSCQgghhBBOqpcSQQP5KS6s0Bksvluvi0KdkkN9TxzqSg4rZkeRf6UndiaEEEII4TxsJoLl2S6oZ1tf1pc39X4NK1NRz06lvPePJO5GDaVkps1n4hxXXALGM+/tPVR+Z16oicoja5kX/QAuAa48uHgZ6V829EVt+5+6PUQFuOLSaVlPaYeCBnISLZVzJfVMH9W9P5E4K0PirCy712eJc7fU7mOspwcPdlo24NmpcCOjdj7P2BljW8rMXYHPsWrcHDjMIFtv+sca0cd2Xt98Opl/ewNmTnY3rSklY3YQ6eYFT3ijfqPd61+VoI8NdKBaPclAfoo3q0/YLxm67hLbgr16v0rCMbV7iF2cyfAX3qFk7SeoXKHhwi6Kq8F3YluxipxZhJVFon33aw6pWsrEr5xP6sYikn7qbn3/wiSC7IKPiBllv2Rk6tfkzpG/kTsjcVaGxFkRDl6fQeLcPeHcPL2XS2NslWnE63dTGHLjNa4d2MyV++HeyvcZ+cuZeL9xiuoFo20ewWYiaFkDuqJURkWVEzT49rpANEeNaFrLtCRfhQ/fPYmVJHn9jZ6stKdpWlVFxhx161rVhDgi2xdryCNzk4qUvBcIVLWVSVmu5cEdOcS8HYcaIYQQPcfB67NQhj4Pj/emc7N8EVfub1l13XcRgxP3oco/zrAF0TTa2LzrfQRrc9l/JIxnHva7swoL4YCmsl0kX3mT5DDbaZzhVDZZwbGE+HRcrw6IJKSkgNLaXqykEEI4IUevz0IhjZdxAXDtuPrWPcMc2rzLieC5zzPRzVnCXJvNlD2nvv48cJ66q8ocT9wdKr7chWFGIPa+buj1efDQ2M6tfj6+BJKH/pteqqAQQjgpR6/PQiG+0/hh1EkGn2nf7lfNkEP5GGdNs9kaCF1OBCsoKb6EZlYYQ22W01NzFgr/ru/a7jtp4qu/5gA5lFcrMDBF3CX06P9qIFLthV7XcRBIakn7c8qAvhoix1i+5e8BnL9seeS6aC+P2LCWDtze0fPR7NNhuGW5pDap5bNwmTOZeWlbKZZEuwskzsqQOPcuR6/PbSTO3ZGPxxTTIJEZEfyvnccZ+oNZEbeZXPnjCn708lP8+NhlPBr/C+91i/C4Zy9XF461e4QuJYLNp3PZwRpCp9jugN98+hC7x4URfPgQJd9bKXQilqm3RyBnl1ou01jAwT+F8OxjYRz4soTmrlRW9GMG9DpoOLSWNdVhZH3wNcayW5SvC+T87x8htsgsuXP1sLqnJiv/AITJqIXklt3CaFr0mxPwPvU0fvFbqehQ0IuYtLZyxryPSRhdQGzMLDIv9FHd+xOJszIkzgroyvVZ4twtY6Kprr/J30yLIXsV/zy+iJFPbGeEWdHvAl7kyn+E8qOnxuI93g+Pa4tofDPcbmsgdCkRNA0SCQlhks1yeg7sz+LxqGwSogr44ISVVsEZ2Xxx1Ij+qNHqSOJzxzayb048Cc/GM/doOgekv5dTKR4SRebiYLxMg5JUE+JIifcjZ1eO2UXdOm8PGTXcFe5jgklK+ZBY/UqyTtiYgmeImpDFH5E9rxKN9jAyWU/XSJyVIXHuPXd0fZY4d8t3PjOpefd9frjwPPceaZ/iNeG5ZS6e66pp1hm49N/VXPctZJh/BA+ctX831fFE0MFBIjW6ZDKHZbLMX8Wk+Rvx+TCZ/MsOH6Xd8bJI3z6ctIWRDB0WxtLfqMj8UHvHk1AXvuFtc05E9WyXnpvkWnSTO+4TIGTadMxv+qrVQXCh3NT3zx2VCkpqL1ndk/dwVW9WdGAa4ou/H+RetNe1w52JDwWCroLudgJxShJnZUice5ij12fr20ucu+EeX/5nOrhWVreuuu/IOu7bMYUbH23m0uRh3HQbTZ1mL9/8YRhu0WmMsnM71eFE0JFBIs2Vqax+F16Ki2yZ7NAjhIQXJ7J7fSrl1x09EnC9lIwNyQxdl0G06Xg+wSkksIbUoq6eOl6EJ5taHm8vb6UAKeQeNVufHGNhkkahPDW+P4PzDda+Lw7HfTCACt+HgjHoq+nUE7C2mnKew89+9whhhbcjM5ECjJBW1+6QOCtD4txTHL0+2yFx7p524XM/ux2eieCbezoWaZy3iB/qNuBmZ/JuBxPBUnS5tgaJNFCl0xCz6hDBr2YROrLtHTffJLY8fp7lmqXsq3agIbixmPSkIHRTtWwIbj8WVE34ymzGfxzE6oJK6S84oKkImhaH4VNdp1sM+qoSmBWE/30tr9U/iySwoIASs1NLX5aNdkEIQfcpUuGBpaGU4iIvwib42itIyak8vB72w15JYYHEWRkS5x7m+PXZMolzt1w9yeCDo/lh8kNt61xHQ62BTr3lbzTiwhT+aSfndigRbD59iN3DbQ0S+Zaq098Suq0YjW/nMj7B2eQud+f45/YTuJpKLVVTjvFebGDnR6N4BKJJ0zL+ZDqF0l9wQFMFP8dGt7XEZx7GYBpwZCh5mdjtTWTELWy7JTEujvSlFcRv2kWFKRlsOLMJzXsqspdGIDeGbTPo1pNepm8dVNNUe5jkRA3FCzLQBLT7W67LI3W3Dv3tx0d9p6dg+y+Jr4gj84lg5Lu9bRJnZUicleHw9Vni3C3DDm3A57NqhphGCQ+pKeTHS1bhuvAtGh9pi9634a/xz2OrGPHBae4zJVkeV08z5uVVuD65juuTbR/HgUSwZZDI5McjbQwSURO6Optl46x/rD7TM9hmKbmzVC4uxPr0NB6BaF7fSbhC8xiKvuJHQuZZNLcyCXms5TmWkUUerHn3E+IntC/nTuDyIrTjS4lf7IpLwAME7W1iyeadxMg5YpfXtLmoilbib5puY2KSFo/oIspfiejY/2fUXMJUWjSLTdNAxD6DdlA8xbt3EOnAo7ycncRZGRJnpTh4fZY4d0vjzFBuHXweL9P0MV6/zse4tJC6tzuOBv5BvYi6A29x6y+r8PyXlrLesW8w6JF8rmTaHznscuPGDePtFyUlJYw3zuqd36idel0UUz+P4oue6JN3JYcVMbmE5uQS3u6WdL0uiqlvaO9wp5FsMdtfb1PPdsFYJnOd9DaXAFeJswIkzsqQOCtD4qwMlwBXLtbf7OtqDHjjPD0wGltTvzt51nD/4Bmciz64r2shhBBCCHH36vqzhoUQQgghxIDQJy2CPdpaNzKGbUdjemhnQgghhBDOw0Wv17feKK6qquLRRx/ty/oIIYQQQohedPbs2daf+2SwiOhMBosoQzp9K0PirAyJszIkzsqQwSLKMB8sIn0EhRBCCCGclCSCQgghhBBOShJBIYQQQggnJYmgEEIIIYSTkkRQCCGEEMJJSSIohBBCCOGkJBEUQgghhHBSvZQIGshPcWGFzmDx3XpdFOqUHOp74lBXclgxO4r8Kz2xMyGEEEII5+FAIthE1eepJK56EPVsF6b+eh6vHqngWu/XrUVlKurZqZQrdTxxd6jbQ1SAKy6dlvWUdihoICfRUjlXUs/0Ud37E4fjDNBE5ZG1zIt+AJcAVx5cvIz0Lxv6oNL9kMS5TzScWIl3gCsuO82jLNeNbpHzWRm1+3jO04NxnZYNVHQq3ESVNpElM8YyztODmXNXsPNUo0OHsfus4XPaEOb/OYRdL58nbaQ7XC0g/ff+LP62nJyn/HADoJSM2UGkm298whv1G+1e/6oEfWygQxXrOQbyU7xZfcJ+ydB1l9gW7NX7VRIOiiC74CNiRtkvGZn6Nblz5LO7M47FuSJnFmFlkWjf/ZpDKmi4sIv4lfNJ3VhE0k/dlalqvyZxVlRdHvHveaN5FpKtFJHrRnfI+ayMcDaf3suCMbZLnd8eStxnEWw7UE3W/XDt7Pu8Gh1O5h8LiQ+wHWfbieD3xeRvL0WzqYTgkaZ194eh+VUCGYkFnHvKD38AAtEcNaJp3bAl+Sp8+O5JrCTJE6IbGvLI3KQiJe8FAlUtq1QT4khZruXBHTnEvB2Hum9rODBInHuInpyMtXgv/xQ/3cswpK/r46TkfFbG1Xw+eHk4L3yxCr/7W1YNnbyIFxLzmblxLwv2LsLHxua2bw1fb6AOcHPtuNrNY3i36iyE6F8Mp7LJCo4lxOxqog6IJKSkgNLavqnXQCNx7hn6grUkjNxByjQPGuQuZJ+R81kZ9cf3sH/eUwSaZdU+j4QTeKyQihrb29tOBO/3I/BfQVfZ/m50E+Vf5OL5VCCT7qzOXVJffx44T91VBQ4mhLBIr8+Dh8Z2/vbu40sgeei/6YtaDTwS5x5QswvNh75olwYjNx77lpzPyvjvC/nw07GdW/3UvviTT81l29vbGSyiJvq3ufzkYBSJRyq59r2Bkr1RrD4bxfaFIab+gZboqTkLhX/XO/RLWNfEV3/NAXIor27q5r5E/5NHbFhLJ2Tv6Plo9ukw3LJcUpvU0hHZZc5k5qVtpVguMF1gL84G9NUQOcZy1woP4PxlyzMEiPYkzr3u+wpSX9mK3++SCHTgdrBcN7pDzmdl5PP8lJZBItNnRPDazuPU/9D+/cvUfAVzfEZb3NoNqKq1nQnaHzU8OpK0DRth/0SmzPcm9j/9SEtOwt/D+ibNpw+xe1wYwYcPUfK9lUInYpk62wX1bBfU2Z3HGQHQWMDBP4Xw7GNhHPiyhGa7lRUDxqiF5Jbdwmha9JsT8D71NH7xW81GS3kRk9ZWzpj3MQmjC4iNmUXmhT6qe3/icJwBV+t/9E1WEnRhInFWQBOlu1eSO+0dkn9ury1QrhvdIuezMsZEs7X+JhdNy5+zV+F5fBGPPbGd8+ZlB1mPc/MPVt8CHEgEa04sZcaqLP7lt5f4r0++5ZOwJjJ/E8SrJ6219uk5sD+Lx6OySYgq4IMTVsrNyOaLo0b0R41WRxKfO7aRfXPiSXg2nrlH0zkg/QmclvuYYJJSPiRWv5KsEzY6/QxRE7L4I7LnVaLRHka6B3WNw3E24+0hN+G6QuLc85rObCLh8zAynw3s+i1huW50i5zPynDzmUn8u+8TfuF59h9xbGoYgFH32I6z7UTwYjqrUy4Rv+kQmileuA1WMSl4I7tencfZVzTss5CY1eiSyRyWyTJ/FZPmb8Tnw2Ty7dyftqg2i/Ttw0lbGMnQYWEs/Y2KzA+1dzwJdeEb3i2tj7aWnprkWvSOIb74+0HuRXtdDtyZ+FAg6CrobucEp9Qpzu6oVFBSe8nqJt7DVcrUbSCROPcgA9rslyk98zJBM9rPa/cAsUXA9kccmCNQrhvdIuezMu7xZdJ0KKysNq1wZ+gIKP+79dvsniOG2dylzUSw/u8llD8cS5DZ/DVuvjE86V/A8b92PHBzZSqr34WX4iLxBPAIIeHFiexen0r5dZv16Oh6KRkbkhm6LoNo07F9glNIYA2pRV39E/UiPNnU8nh7eSsFSCH3qNn65JiWeou7mrf1zqkdjZBvm93RFmcVvg8FY9BX0+lSU1tNOc/hN1bZug0kEueeYHart3X5muxZwPLPMJbdIumnDuxKrhvdIuezMjxbT9NhjPvpTOq/qu7ckFVTzTmWM+kntvdlu0XQ1R0Mlyw8RaSBa40wqrVZt4EqnYaYVYcIfjWL0JFtJd18k9jy+HmWa5ayr9qBJuPGYtKTgtBN1bIhuP1YIzXhK7MZ/3EQqwsqpb+gM2oopbjIi7AJvvYKUnIqD6+H/bBXUlhgIc7qn0USWFBAidmfsL4sG+2CEILuU7iOA4HE+S4j141ukfNZGVdPUnpwNMGTH2pd5RMQjt/+QsrNZlep+WwvRxbOxN92g6DtRNDzX5egubmGV3YVUHPTtPKmHt2ueNYPTuFJ/9vNut9SdfpbQrcVo/Ht/G3KJzib3OXuHP/cfgJXU6mlasox3osN7Dwq2SMQTZqW8SfTKZT+ggOaQbee9DJ9a2fiptrDJCdqKF6Qgab9LOl1eaTu1qH/zvT6Oz0F239JfEUcmU/I9BH2OBzncXGkL60gftMuKkwX9YYzm9C8pyJ7aQRyg8c2ifNdRq4b3SLnszLqD21g52fVrYM9mmsK2bRkFaUL3+KZR9rF2XcRSQkVvPry+5w3JYPXyt7itc3D2Lw2nKF2jmO7RdAjhIS3Sgi/kUnc4pZ+dFNXLeXIfcmcSEti0uDbBdWErs5m2Tjrfz4+0zPYZim5s1QuLsR6xT0C0by+k3A7j1sR/ZvXtLmoilbib5qeYGKSFo/oIspfiaDDZASj5hKm0qJZbJoGIvYZtIPiKd69g0gHHk3n7ByOM+4ELi9CO76U+MUtfa+C9jaxZPNOYuRv0S6J811GrhvdIuezMjxnhjL04PMsME0fM+fX+bgtLeTg2+Fm3djc8Us8wjbfU7wS6sE4z7E8saOJJ7O3s8DWI0VMXG7cuGG8/aKkpITxxlk9/suYq9dFMfXzKL7oiT55V3JYEZNLaE4u4e1uSdfropj6hvYOdxrJFrP99Tb1bBeMZTKWvre5BLhKnBUgcVaGxFkZEmdluAS4crH+pv2ColvGeXpgNLamfnaeNdyPeQbnog/u61oIIYQQQty97E8oLYQQQgghBqQ+aRHs0da6kTFsOxrTQzsTQgghhHAeg+rq6vq6DkIIIYQQog90Gizy6KOP9mV9hBBCCCFELzp79mzrz51uDeuPGs1XCQXIqGFlyOg/ZUiclSFxVobEWRkyalgZ4zw9mDRpUutrGSwihBBCCOGkJBEUQgghhHBSkggKIYQQQjgpSQSFEEIIIZyUJIJCCCGEEE5KEkEhhBBCCCcliaAQQgiuxz7PAAAe3klEQVQhhJPqpUTQQH6KCyt0Bovv1uuiUKfkUN8Th7qSw4rZUeRf6YmdCSGEEEI4DwcSwQbKD2iI+7U36tkuTP11LBl/0fd+zW6rTEU9O5Vy5Y4o7gZ1e4gKcMWl07Ke0k6Fm6g8spZ50Q/gEuDKg4uXkf5lQx9Uuh9rKCUzbT4T57jiEjCeeW/vofI780IS526TOCtD4qwMiXPvqt3HWE8PHuy0bMCzU+FGRu18nrEzxraUmbsCn2PVuDlwGDuJoIHCf/dl+QU/Et68hP6okaIXQ6hKD2L1ifatfaVkzHZB3bp4s/oEFL7h3W6dC+rszv/Ce19L62SHelhZrLVgir4SQXbBLYxl7ZeXCDQrVZEzi5Aj3iS/+zXGsluUrwuk/MX5pJ5p6pNa9zu1e4iNXkul3x8oKbiFsayK7NCbVFZ3LCZx7iaJszIkzsqQOCsknJunb/K3+vbLi2Z3VBvx+t0U7q2YwvUD1fyt/iZ1m6bh+tuZeB+8bPcInR4x10FlFq+Ux7LlvSVM8mhZNXTcEjb8rpJ/+/csymck4Q9AIJqjRjStGxrIT/Gm8OFLbAv26uIv3TtC1909dRE9qCGPzE0qUvJeIFDVsko1IY6U5Voe3JFDzNtxqPu2hnc5PVlpT9O0qoqMOW2RUk2II7J9MYlzN0mclSFxVobE+a6iz8PjvencLF/ElftbVl33XcTgxH2o8o8zbEE0jTY2t9kieK4yl/rJ/vzEo+N6twkhzL2ay39e7Gblhegmw6lssoJjCfHpuF4dEElISQGltX1Tr/6iqWwXyVfeJDnM9uVY4tw9EmdlSJyVIXG+yzRexgXAtePqW/cMc2hz27eGv79kef29w/GkgnNf9/6t1Pr688B56q72+qFEP6TX58FDYzt/q/TxJZA89N/0Ra36j4ovd2GYEYifnXIS5+6ROCtD4qwMifNdxncaP4w6yeAz7dv9qhlyKB/jrGk2WwPBTiLoMzYKzpbz1U2zN2rPUw4037K2pZ6as1D49+4OKmniq7/mADmUV0t/AueTR2xYyyAR7+j5aPbpMHQ45wzoqyFyjOVb/h7A+cvS79M6Pfq/GohUe6HXdezMnVrS/m9X4tw9EmdlSJyVIXFWVj4eU0yDRGZE8L92HmfoD2ZF3GZy5Y8r+NHLT/HjY5fxaPwvvNctwuOevVxdONbuEWwmgkOnJ7DFP5vErVmcM6WUzVcKSN9VgNtk69s1nz7E7nFhBB8+RMn3VgqdiGWqvUEkjQUc/FMIzz4WxoEvS2i2++uIAWPUQnLbDRLRb07A+9TT+MVvpcK8rKuHpT0A0GT1y4oAA3odNBxay5rqMLI+aOvMff73jxBbZHaRljjfIYmzMiTOypA4K2ZMNNXtBokYslfxz+OLGPnEdkaYFf0u4EWu/EcoP3pqLN7j/fC4tojGN8PttgaC3VHDasJXFpMwVMvq37SMBp6/o5LglWuYdBZ8hqksbKPnwP4sHo/KJiGqgA9OWGkVnJHNF0eN6I8a0ceajwNtce7YRvbNiSfh2XjmHk3ngPQncFruY4JJSvmQWP1Ksk44PvWAt4d7L9ZqYCgeEkXm4mC8Bre8Vk2IIyXej5xdOZ2TbiskzvZJnJUhcVaGxFl53/nMpObd9/nhwvPce6R9iteE55a5eK6rplln4NJ/V3Pdt5Bh/hE8cNb+3VT78wh6+BK+7BCf7jWiP3qJT9cl4O/6LfWEMM6r84dYo0smc1gmy/xVTJq/EZ8Pk8m3P3q5s9os0rcPJ21hJEOHhbH0NyoyP9Te8STUnaaysbT01CTXoncM8cXfD3Iv3v5y4Y5KBSW1VvqyAt7DLX1ZES3ccZ8AIdOmY37zRq0Oggvlpj48EufukTgrQ+KsDIlzn7rHl/+ZDq7t5um578g67tsxhRsfbebS5GHcdBtNnWYv3/xhGG7RaYyyczv1jp4s0nyhmN3jwpg8xmx9ZSqr34WX4iJbJjv0CCHhxYnsXp9K+fUuHOB6KRkbkhm6LoNo0zF8glNIYA2pRV3td+hFeLKp5fH28lYKkELuUbP1yTEWJmkUdxvv1hkyVfg+FIxBX02nnia11ZTzHH72u0c4MTW+P4PzDdZaWIfjPhgkzt0lcVaGxFkZEue7Qrt2OPez2+GZCL65p2ORxnmL+KFuA25nbO/qDhJBPQdy0wl9MpZJresaqNJpiFl1iOBXswgd2VbazTeJLY+fZ7lmKfuqHbil11hMelIQuqlaNgS3H2ukJnxlNuM/DmJ1QaX0F3RGDaUUF3kRNsG3dZX6Z5EEFhRQYnZq6cuy0S4IIeg+hevYr6gImhaH4VNdp1s5+qoSmBWEvyl+EufukDgrQ+KsDIlzn7p6ksEHR/PD5Ifa1rmOhloDnXpj3mjEhSn8084deDuJYAW7/1hAjWnUcHNjBfvSf0Hm/bm81GFy5m+pOv0toduK0fh2PqJPcDa5y905/rn9BK6mUkvVlGO8FxvY+dEoHoFo0rSMP5lOofQXHNAMuvWkl+lbOxM31R4mOVFD8YIMNAHtzrFxcaQvrSB+0y4qTBebhjOb0LynIntpBHLjwTZV8HNsdFtLfOZhDKaBXYaSl4nd3kRG3MK2Wz8S526ROCtD4qwMibMyhh3agM9n1QwxjRIeUlPIj5eswnXhWzQ+0vZ/8Nvw1/jnsVWM+OA095mSLI+rpxnz8ipcn1zHdRuDe8FuIujH4/+nkvRVLf3rHn0lk/rph/gkIZKO80OqCV2dzbJx1tNOn+kZbLOU3FkqFxfCUGsFPALRvL6T8DHWCoiBwGvaXFRFK/E3TR8zMUmLR3QR5a9EmPVLcSdweRHa8aXEL3bFJeABgvY2sWTzTmLkHHGAHwmZZ9HcyiTksZbnhUYWebDm3U+In9C+nMS5eyTOypA4K0PirITGmaHcOvg8XqbpY7x+nY9xaSF1b3ccDfyDehF1B97i1l9W4fkvLWW9Y99g0CP5XMm0P3LY5caNG8bbL0pKShhvnNU7v1E79boopn4exRc90SfvSg4rYnIJzcklvN0t6XpdFFPf0N7hTiPZYra/3qae7YKxTMbS9zaXAFeJswIkzsqQOCtD4qwMlwBXLtabT1wseto4Tw+MxtbUz86zhvsxz+Bc9MF9XQshhBBCiLvXHY0aFkIIIYQQ/V+ftAj2aGvdyBi2HY3poZ0JIYQQQjgPF71e33qjuKqqikcffbQv6yOEEEIIIXrR2bNnW3/uk8EiojMZLKIM6fStDImzMiTOypA4K0MGiyjDfLCI9BEUQgghhHBSkggKIYQQQjgpSQSFEEIIIZyUJIJCCCGEEE5KEkEhhBBCCCcliaAQQgghhJOSRFAIIYQQwkn1eSJYr4tCnZJDvaU3r+SwYnYU+Vd64EA9uS8hhBBCiAHAfiL4fQM1FwvIP5DMqylBJOoMVoteO5tO4qoHUc92Yeqv57FeV0lzT9bWlspU1LNTKVfqeKJ31e0hKsAVl07Leko7FDSQk2ipnCupZ/qo7v1F3R4IcLW+xO8y26AJjqyF6Ada3l+8DL5s6JOq9ztyPitD4qyshlIy0+YzcY4rLgHjmff2Hiq/a19A4twTBl09xQO/i+DBSR486OmL+vf7GHHDvFQTI7SJjJ0xlgc9PXhw7gp8TjU69BxhO2VKyZgfRHq7NaEPWy557aSGWXvg9RfPkzbGneYrBWT8IYQXKWFLsLq1XHm2C1F/NN9ay9TZse1ep5B7NAl/B36BnmMgP8Wb1Sfslwxdd4ltwV69XyWnF0F2wUfEjLJfMjL1a3LnyGfSJaMWQtlCC2/o4bfjYZbZA8FzZkFZJLz7NaiAC7tg5XzYWAQ/dVeixv2cnM/KkDgronYPsYszGf7CO5Ss/QSVKzRc2EVxNfhO7FhU4nznBtXs419Ct2H8w1vUr8/jH4PgvrPvc89XwM/byo3YHsqwzyL4x4Fq6u9vKTMiOhzvPxZSE2D7+mwnEQxEc9SIBoBSMmYHcc5iuQr2/TGXx5fpCR3TckC3kWFofhXLv/17FiUPpxA0uKWkf6wRfbucr14XxdTPo/giOQZP25VRhCR5wuldyIOSOHi97QscDXmwSQV5L7QkgQAT4mC5FnbkwNtxfVJVIURf0JOV9jRNq6rImNN2nVBNiCOyD2s18FQzau0ieLWSryPH8oNp7T8mL+If7Ytdzefel4fT9MUq6u9vK/P/Jeaj2rgX1d5F2Lp30zN9BCsL2HFxCaH+HbNOt8lhPH41ldILPXIUIUSva4JP02FxTFvCB3AqG4JjwceseEAklBRArZJ1FEL0paayXSRfeZPkMLX9wuKOeXz2Pu6X07j+ZFsSaMmw43twnfcUN8w+jquPhGM8VohHje3j9EgiWPN1OfUzJnb6H8FgNZMehqp66/0Ke0p9/XngPHVXe/1QQgxcDYfhPW941Oy2sD4PHhrbubyPL5AH3yhSOyHEXaDiy10YZgTi19cVGeDuPfU+zJluszUPwO1CPvx0LI3mb6h9uUU+gy7b3r5HEsH6y1rwUVu4tesBrvCfly9Z3bamtgROnMdOwmpHE1/9NQfIoby6qVt7EneTPGLDWjoWe0fPR7NPh+GW5ZLapAdaOiHPmcy8tK0US2JyZyoKIOg5mNB+pQGqgTE2ukxc7v0ve/2fnM/KkDj3Lj36vxqIVHuh161lXnRLDB9cvIzUEr3FLSTOd6KaQWcu888Jo7n3kNkgkGPVuLWWu4zrV/BPn9EW92IEXGttZ4I9N32Mjd6G9besJGffF6P72J/gf81Cd9paAqdldYwL6tku1kcFNxZw8E8hPPtYGAe+LFFupLLoPaMWklt2C6Np0W9OwPvU0/jFb6WiQ0EvYtLayhnzPiZhdAGxMbPIlC4JXaSHvF0QYaWXj6uH9U2t/KMVJnI+K0PirAADeh00HFrLmuowsj74GmPZLcrXBXL+948QW9T+S6HE+c5dZtAhcNmfiOqrUL79tJq/1d+k/s1puP52Jt4HzZK7QTauz7buK6PQPIKTPCyPWKkpSmffLxLYErcG3cdaK62CkWzJMaI/akRvZSTxuWMb2TcnnoRn45l7NJ0D0l9pwHEfE0xSyofE6leSdcJGQ/kQNSGLPyJ7XiUa7WG7TeqinduDRPxU9suas/I3LiyT81kZEufeUzwkiszFwXiZBoKqJsSREu9Hzq4cs6S7HYlzl7ncE8G3q2fSaGoC/MfkRTQk+/GjzXsZ4eA+jPfYvj73SCLo5uEHX1+yPCk04DPcu/PKyzmk71fxekQIQ8fF89LoZNJ1lpuVbarNIn37cNIWRjJ0WBhLf6Mi80Ot1brYU/iGt6n10cZibQJs0buG+OLvB7kX7Z0n7kx8KBB0FdzBGeWkrAwSAcC9ZV2t9S4eDL+D5NHZyfmsDIlzD3PHfQKETJuOeWcRtToILpSjt3nrV+LsGHf+ORmMM6d16vvX8JPpcLaCwXUt5Ywj4Ed/t949558jhtk8Uo8kguPHhkB5JXWd3tFTdcIP/x+bnS43S8lYnwBx6YSOBHAn6Olsxh+IJeNsF74jXC8lY0MyQ9dlED2mZZVPcAoJrCG1qKunmBfhybdbHk3LWym0zGlotv4umerGWXm72S8DwAhppXKYtUEiAKjgoWDQV3d+q7YaeA4sjCMRjpHzWRkS556ixvdncL7B2v/q4bgPdmA3Emc7xnLrX8Hlm05DQEyGY3QDGMb3P50JX1Uz1LxITTWuLOd/fmL7SD3TIjghhGfJpeRix/XNpw+xb1wsQePa1l2rzuHVxCB0U7VsmNEuQfQIRPOShqoUfxKPVHLN3kEbi0lPMu0nuP2YaTXhK7MZ/3EQqwsUfLKJ6H0NpRQXeRE2wddeQUpO5eH1sB/2SgqTU9kWBom087NIKCig072csmxYEAL39XYFByA5n5Uhce5hKoKmxWH4VNfpFrC+qgRmBeFv83ogcXbMMG7830WQf5yRZu/cX3kSFkznpqmh72pAOMb9hQwxmzVF9dlefrRwJjdsNwj2UB/Be8NYulTN+reT0V1pGfTRXKtl/a5inv1tPJPaFW38ezGN/7ecnNhAOn1BGx3DlrcycPuLlqqbtg9ZU6mlasox3rO0H49ANGlaxp9Mp1D6C/ZLBt160sv0NJkGITTVHiY5UUPxggw07WdJr8sjdbcO/e3HGn2np2D7L4mviCPziWDkO6cj9HAoz/ogEYBxcbC0AjbtaksGz2yC91SwNEKRWvZncj4rQ+KsDFXwc2x0W0t85mEM37esM5S8TOz2JjLiFrbdMpY4d8s/5i2n2T2R+1ILGWZq1Rp67DWGpTXR/Hx02y1j30XcSKhgyMvvM9KUDN5X9haqzcO4uTa84+TTFthJBA3kp9zuG9fyqLn2fegyKttK+szK5tPHm/jgJTXq2S48mlnMuGUFaHw7ftQ+M3ayJdKvc/J22+gwfp+chL+NATAAPtMz2BYX0rkp9DaPQDSv7yR8jO39iLuT17S5qIpW4m+aBmJikhaP6CLKX4no2C9l1FzCVFo0i03TE8Q+g3ZQPMW7dxDpwCOmBC2DRP76Ejxsq5+fOywvgvGlsNgVAh6AvU2weSfI35hdcj4rQ+KsFD8SMs+iuZVJyGMtzxmOLPJgzbufEN/+roLEuZum8PVHFTT98C4j/FueMzwi34ObB/L4enL7cu7UJR7huu8p7gv14EHPsXjuaKIpezuXOk3w3JnLjRs3jLdflJSUMN44q+d/lzt1JYcVMbmE5uQSbt422kP7qtdFMfUN7R3uNJItPVE3QD3bBWOZzMHR21wCXCXOCpA4K0PirAyJszJcAly5WG/ndqDotnGeHhiNramfvWcND3yewbnoLfWPF0IIIYQY4BSZR1AIIYQQQtx97u4WwZExbDsac/ftSwghhBBiABhUV9d59j8hhBBCCDHwdRos8uijj/ZlfYQQQgghRC86e/Zs68+dbg3rjxrNVwkFyKhhZcjoP2VInJUhcVaGxFkZMmpYGeM8PZg0qW2GZxksIoQQQgjhpCQRFEIIIYRwUpIICiGEEEI4KUkEhRBCCCGclCSCQgghhBBOShJBIYQQQggnJYmgEEIIIYST6vFEsDzbBXV2aU/vVgghhBBC9DD7iWBlKurZLraXlBzqHT2iI/ub7YJ6dhT5V7r1u4n+rG4PBLhaWNa3K2SAREtlbi+zoKbPfgNl1e0hKsAVl07Lejp+LWug8sha5kU/0PJ+xHw0+0ppsHsAAzmJlvbvSuqZ3vqlBhCHPx8wnNlD6uuzmDinpYx39HzWHKmkqU8q3s9InJXh0PXZgobDMMeBcgNN7T6e8/RgXKdlAxUdCjZSpU1kyYyxLe9PjeC1nae4ZnPnlzm4xNK+by9z2a+3Xb1OTxbpxDcJ/dEku8Uc5sj+ruSwIia3544p+qkIKPgIRll73wvSrMz2f3A+FEWCT2/V7W4UQXbBR8RYjRdwPofswXFk57yJyhWa6g6T8uIjhH1XRvFiP9ztHCEy9Wty53j1ZKWdiAOfT10eWacgZOlHJLyiwh1oqs5jze9nsYTPyJ6jVqqy/ZjEWRn2rs/mDLApFZ54Abb3Zr3uVuFsPr2XBWNsFPlyDwfdFrG5OI2hg6C5tpDMJTOJu36S7NVTcLO40WgWZN1kgYV3avZEMDM/nEA7p7PDt4brdVEdb/leyWHF7GTKb79nasmL+qOjexSit1TA3sMQEdnXFbn7THyOlGBfVK4tL91HzSV5+QuUZuZQ8n3fVk0AoyJIWrqQwDGq1qTcfWwEKc+GkbNpj1nrgbhjEmflHVkDI/8AE6TN1aqfL+eFef+boaYmOrcxocS/uIqK1D2UN3d1Z6c58h+FPPlMhN32kK71Ebz6rVkTpQcAnsG56I8a0R81kvurLu1RiJ5XpoVvXoKHVX1dk37Bfchw4BIN/+jrmghrVCPV8A1y27KXSZx7Se0e2OQNS4Ph5qW+rk2/4nbvcMDAtcaubdf8WR47615kwaxhdst2LRFsbKA1Ka3XU9i1enWRO24ypll0WQMUrIfYSBjc13XpHxqu6CEoBL8RfV0TYU3Dt5dgBHZv3YvukTj3Bj2kpcOGP8CQvq5L/3PtcjX8YiYTHb4FD9DI8f0b8FwRQaDl+8kd9Eiq1Tu3hicy6v6e2pfon/IgzNQJOXo+7NOBlS6BrRp0cHAuBPspUsO7Sx6xYW0d3zX7dBhsxetWE/qy9cRuh9zEOBzpFaVNMg0ymTOZeWlbKf6mp+ruDLr4+bTSU1CwFb/YuTjjWd11EmdlOHJ9boL3noGJ78DPnT29zuf5KS0DOKbPiOC1ncep/8FG8R+aqPlsA89vgK1vLupad/erxzm+J5Rn5k1xqLjDiaCnl3/nlTPU+NALt4Z7vbVR3PVGLYSyW23L5gQ49TTEb7W93YksWLDEyQaJAKMWklt2C6Np0W9OwPvU0/jFb+3U38lw5Jctydy0e3gwTU/Yq38gzFYHZgC8iElr278x72MSRhcQGzOLzAu99DsNJF34fMzpj7xMwt9fIvOXkp7YJXFWhqPX5zOb4NNgeDawb+p5txgTzdb6m1w0LX/OXoXn8UU89sR2zpsVrdc+1TLa13s4M39Xzcy3X2NmF/+f1Rx5n/0LFxHq4Jgnlxs3bhhvvygpKWG8cVaHAuXZjrXyBa3+G9lh6pbylKCPbf/Bl5IxO4h0x+rU2a/M9zfwqGe7YCxz6Gur8/pOBxGzIOkbmGGp/18FxATAsm8g2HL/QJcAV+eJ83c61kTMoinpGzIsxquJhtpSst5exsbBf6Dk9YUOtQq237747XH84rudfJs4l/ZHcKo43ym7nw/oi5bxi8RKlrxXRNJPO7eoSJwdIHFWhvn1+btSiF8LLxRB+5ge+SUk+UPZS5124RLgysX6mwpWug/dOM4bU+fSvMnAa3Ms9eNr4lrNSfa/toKd7q/xp8xoB9s3TrMzeDoX1xh4Y57l/oHjPD0wGltTP/stgv6xxtbWPltLdpitfyGBaCxs88W6yJYk7/a6nGxCiWRLjlnZAZ4ECgcN8QU/4KKVSZFkkEhHQ3zx94Nca/HCHdWYYBJe38GSU0+TfsL+bILm2098KBB0FdiZpkpYYufzafhyPbE2khPhIImzMsyvz/8vHc6UwuJ7Os41mJQHvNzy804nfvjEPb5Mmg6FldVWCrgz1GcmS7du48nji8g64thoka4MErnN/jyCXeQfa5R/CqJ3Wez8enuQSJkMEjHjba+z8GBfJvpB7s07HCs5Qv55doelz6fpzHrClhYQkvmJJCc9ROKskNtxnvMRzLHwvo0WQWfkae+0c/Nl/HQovNEE2Evubg8SOenQIJHbujxY5FptAft2LCV21YPtngLizaNrf0Fidg7lV7u6RyEc1FAKRV4wwbfze3WHnXiQiBUNpRQXeRFmKV7tfV/J+QovfEd0tSW1gZJTeXg97IedIwhLrHw+TWfWE7K4JTlJmSat290mcVaGreuz6OzqSUoPjiZ48kO2yzVXUnVyNONHOdDCV1tIfhcGidzWpUSw5sRS5r+QzsUfLyEt9Xy727eX+OTVnTw5spz05x4k8YT1NsF6XVTXHkknnJNuPZTp20ah1R6GRA0syIAAC1+hTmY75yARE4NuPelleppM8WqqPUxyoobiBRloWuNlQLtzEwXVDa3zpDU1VJCVtoysaRtZ0i6uhqKn8Y5YScHtu8V1eaTu1qH/zvT6Oz0F239JfEUcmU8Ey3Qbdjj2+UDThU1ErZHk5E5JnBXS1euzk6s/tIGdn1XTbBol3FxTyKYlqyhd+BbPPHI7Xpc5kv4Wx79qbJ2mr/nqafavXcH+mRt44pG2uNYfXMT0qc9z3KzhrebPeznShUEit3UhESwlf2sWwQmHeGlOID73dvyw3e5V4z9nI9tWhrBvaw7nulYPITqaNheKVrZNT5CkhegieCXCQuEK2FsBYXMVr+bdwmvaXFRFK/E3TZsxMUmLR3QR5a9E0PZAOC/CZqmp2D2fiQGuuAQ8gH/iVgz/9jGV9gaKjJpLmEqLZrFp+pjYZ9AOiqd49w4iuzS/lXNy7PMxoN21loJvSkmNH+HQ83JFRxJnhXTp+iw8Z4Yy9ODzLDBNHzPn1/m4LS3k4NvheLaWGs3MBWM59044czw9GOc5lgVLtlM/J4+jDg0UOc2R/6gg/sk5DO1i/eyOGm5TSsZTQdQn3OT3/2o947/2+VKmvKPmk71JTLLwfr0uiqmfR/FFcky7AAgZNawMGf2nDImzMiTOypA4K8OpRg33oS6PGm4TSPhzS9Clz2P9kVJqrnfsWN58XU/5kTWseKeY6OdiLCaBQgghhBDi7tGlUcM+M3by6cRiDuRlkVhUwlenK019/bwYPyWIoKlRJGzdiL+9J4KciGXq7Fi7xwtdd4ltwV52ywkhhBBCiK7r8vQxbiNDiF4WQvQdHtAzOBd98B1uLIQQQggheoyLXq9vvVFcVVXFo48+2pf1EUIIIYQQvejs2bOtPw8aNaptyF9VVVWHDoRCOefOnWPSJOlZ2dskzsqQOCtD4qwMibMyJM7KMI9zlyeUFkIIIYQQA4MkgkIIIYQQTur/B23PJiYwicGOAAAAAElFTkSuQmCC)"
      ],
      "metadata": {
        "id": "x62pxVYNYqYz"
      },
      "id": "x62pxVYNYqYz"
    },
    {
      "cell_type": "markdown",
      "source": [
        "\n",
        "-> face_recognition을 이용하여 얼굴 영역만 추출한 사진으로 KNN을 실행하였을 때 최고로 10차 시도에서 70%까지 나왔으며 일반적으로 40%~65%정도 나온다."
      ],
      "metadata": {
        "id": "0NNbzzyTt6fC"
      },
      "id": "0NNbzzyTt6fC"
    },
    {
      "cell_type": "markdown",
      "source": [
        "# 5. Gradio에 KNN 결합하기\n",
        "- 2. 베이스코드 실행 후에 실행한 gradio 결과임"
      ],
      "metadata": {
        "id": "AiJI_cl0bbmk"
      },
      "id": "AiJI_cl0bbmk"
    },
    {
      "cell_type": "code",
      "source": [
        "!pip3 install gradio"
      ],
      "metadata": {
        "colab": {
          "base_uri": "https://localhost:8080/"
        },
        "id": "DEupmeYIbh4d",
        "outputId": "15f39430-b877-4304-8075-01f9d1c5c9dd"
      },
      "id": "DEupmeYIbh4d",
      "execution_count": 1,
      "outputs": [
        {
          "output_type": "stream",
          "name": "stdout",
          "text": [
            "Collecting gradio\n",
            "  Downloading gradio-3.37.0-py3-none-any.whl (19.8 MB)\n",
            "\u001b[2K     \u001b[90m━━━━━━━━━━━━━━━━━━━━━━━━━━━━━━━━━━━━━━━━\u001b[0m \u001b[32m19.8/19.8 MB\u001b[0m \u001b[31m75.0 MB/s\u001b[0m eta \u001b[36m0:00:00\u001b[0m\n",
            "\u001b[?25hCollecting aiofiles<24.0,>=22.0 (from gradio)\n",
            "  Downloading aiofiles-23.1.0-py3-none-any.whl (14 kB)\n",
            "Requirement already satisfied: aiohttp~=3.0 in /usr/local/lib/python3.10/dist-packages (from gradio) (3.8.4)\n",
            "Requirement already satisfied: altair<6.0,>=4.2.0 in /usr/local/lib/python3.10/dist-packages (from gradio) (4.2.2)\n",
            "Collecting fastapi (from gradio)\n",
            "  Downloading fastapi-0.100.0-py3-none-any.whl (65 kB)\n",
            "\u001b[2K     \u001b[90m━━━━━━━━━━━━━━━━━━━━━━━━━━━━━━━━━━━━━━━━\u001b[0m \u001b[32m65.7/65.7 kB\u001b[0m \u001b[31m7.7 MB/s\u001b[0m eta \u001b[36m0:00:00\u001b[0m\n",
            "\u001b[?25hCollecting ffmpy (from gradio)\n",
            "  Downloading ffmpy-0.3.1.tar.gz (5.5 kB)\n",
            "  Preparing metadata (setup.py) ... \u001b[?25l\u001b[?25hdone\n",
            "Collecting gradio-client>=0.2.10 (from gradio)\n",
            "  Downloading gradio_client-0.2.10-py3-none-any.whl (288 kB)\n",
            "\u001b[2K     \u001b[90m━━━━━━━━━━━━━━━━━━━━━━━━━━━━━━━━━━━━━━\u001b[0m \u001b[32m289.0/289.0 kB\u001b[0m \u001b[31m25.7 MB/s\u001b[0m eta \u001b[36m0:00:00\u001b[0m\n",
            "\u001b[?25hCollecting httpx (from gradio)\n",
            "  Downloading httpx-0.24.1-py3-none-any.whl (75 kB)\n",
            "\u001b[2K     \u001b[90m━━━━━━━━━━━━━━━━━━━━━━━━━━━━━━━━━━━━━━━━\u001b[0m \u001b[32m75.4/75.4 kB\u001b[0m \u001b[31m9.0 MB/s\u001b[0m eta \u001b[36m0:00:00\u001b[0m\n",
            "\u001b[?25hCollecting huggingface-hub>=0.14.0 (from gradio)\n",
            "  Downloading huggingface_hub-0.16.4-py3-none-any.whl (268 kB)\n",
            "\u001b[2K     \u001b[90m━━━━━━━━━━━━━━━━━━━━━━━━━━━━━━━━━━━━━━\u001b[0m \u001b[32m268.8/268.8 kB\u001b[0m \u001b[31m27.3 MB/s\u001b[0m eta \u001b[36m0:00:00\u001b[0m\n",
            "\u001b[?25hRequirement already satisfied: jinja2<4.0 in /usr/local/lib/python3.10/dist-packages (from gradio) (3.1.2)\n",
            "Requirement already satisfied: markdown-it-py[linkify]>=2.0.0 in /usr/local/lib/python3.10/dist-packages (from gradio) (3.0.0)\n",
            "Requirement already satisfied: markupsafe~=2.0 in /usr/local/lib/python3.10/dist-packages (from gradio) (2.1.3)\n",
            "Requirement already satisfied: matplotlib~=3.0 in /usr/local/lib/python3.10/dist-packages (from gradio) (3.7.1)\n",
            "Collecting mdit-py-plugins<=0.3.3 (from gradio)\n",
            "  Downloading mdit_py_plugins-0.3.3-py3-none-any.whl (50 kB)\n",
            "\u001b[2K     \u001b[90m━━━━━━━━━━━━━━━━━━━━━━━━━━━━━━━━━━━━━━━━\u001b[0m \u001b[32m50.5/50.5 kB\u001b[0m \u001b[31m5.3 MB/s\u001b[0m eta \u001b[36m0:00:00\u001b[0m\n",
            "\u001b[?25hRequirement already satisfied: numpy~=1.0 in /usr/local/lib/python3.10/dist-packages (from gradio) (1.22.4)\n",
            "Collecting orjson~=3.0 (from gradio)\n",
            "  Downloading orjson-3.9.2-cp310-cp310-manylinux_2_17_x86_64.manylinux2014_x86_64.whl (138 kB)\n",
            "\u001b[2K     \u001b[90m━━━━━━━━━━━━━━━━━━━━━━━━━━━━━━━━━━━━━━\u001b[0m \u001b[32m138.7/138.7 kB\u001b[0m \u001b[31m13.8 MB/s\u001b[0m eta \u001b[36m0:00:00\u001b[0m\n",
            "\u001b[?25hRequirement already satisfied: packaging in /usr/local/lib/python3.10/dist-packages (from gradio) (23.1)\n",
            "Requirement already satisfied: pandas<3.0,>=1.0 in /usr/local/lib/python3.10/dist-packages (from gradio) (1.5.3)\n",
            "Requirement already satisfied: pillow<11.0,>=8.0 in /usr/local/lib/python3.10/dist-packages (from gradio) (8.4.0)\n",
            "Requirement already satisfied: pydantic!=1.8,!=1.8.1,!=2.0.0,!=2.0.1,<3.0.0,>=1.7.4 in /usr/local/lib/python3.10/dist-packages (from gradio) (1.10.11)\n",
            "Collecting pydub (from gradio)\n",
            "  Downloading pydub-0.25.1-py2.py3-none-any.whl (32 kB)\n",
            "Collecting python-multipart (from gradio)\n",
            "  Downloading python_multipart-0.0.6-py3-none-any.whl (45 kB)\n",
            "\u001b[2K     \u001b[90m━━━━━━━━━━━━━━━━━━━━━━━━━━━━━━━━━━━━━━━━\u001b[0m \u001b[32m45.7/45.7 kB\u001b[0m \u001b[31m4.7 MB/s\u001b[0m eta \u001b[36m0:00:00\u001b[0m\n",
            "\u001b[?25hRequirement already satisfied: pyyaml<7.0,>=5.0 in /usr/local/lib/python3.10/dist-packages (from gradio) (6.0)\n",
            "Requirement already satisfied: requests~=2.0 in /usr/local/lib/python3.10/dist-packages (from gradio) (2.27.1)\n",
            "Collecting semantic-version~=2.0 (from gradio)\n",
            "  Downloading semantic_version-2.10.0-py2.py3-none-any.whl (15 kB)\n",
            "Requirement already satisfied: typing-extensions~=4.0 in /usr/local/lib/python3.10/dist-packages (from gradio) (4.7.1)\n",
            "Collecting uvicorn>=0.14.0 (from gradio)\n",
            "  Downloading uvicorn-0.23.0-py3-none-any.whl (59 kB)\n",
            "\u001b[2K     \u001b[90m━━━━━━━━━━━━━━━━━━━━━━━━━━━━━━━━━━━━━━━━\u001b[0m \u001b[32m59.6/59.6 kB\u001b[0m \u001b[31m6.1 MB/s\u001b[0m eta \u001b[36m0:00:00\u001b[0m\n",
            "\u001b[?25hCollecting websockets<12.0,>=10.0 (from gradio)\n",
            "  Downloading websockets-11.0.3-cp310-cp310-manylinux_2_5_x86_64.manylinux1_x86_64.manylinux_2_17_x86_64.manylinux2014_x86_64.whl (129 kB)\n",
            "\u001b[2K     \u001b[90m━━━━━━━━━━━━━━━━━━━━━━━━━━━━━━━━━━━━━━\u001b[0m \u001b[32m129.9/129.9 kB\u001b[0m \u001b[31m13.8 MB/s\u001b[0m eta \u001b[36m0:00:00\u001b[0m\n",
            "\u001b[?25hRequirement already satisfied: attrs>=17.3.0 in /usr/local/lib/python3.10/dist-packages (from aiohttp~=3.0->gradio) (23.1.0)\n",
            "Requirement already satisfied: charset-normalizer<4.0,>=2.0 in /usr/local/lib/python3.10/dist-packages (from aiohttp~=3.0->gradio) (2.0.12)\n",
            "Requirement already satisfied: multidict<7.0,>=4.5 in /usr/local/lib/python3.10/dist-packages (from aiohttp~=3.0->gradio) (6.0.4)\n",
            "Requirement already satisfied: async-timeout<5.0,>=4.0.0a3 in /usr/local/lib/python3.10/dist-packages (from aiohttp~=3.0->gradio) (4.0.2)\n",
            "Requirement already satisfied: yarl<2.0,>=1.0 in /usr/local/lib/python3.10/dist-packages (from aiohttp~=3.0->gradio) (1.9.2)\n",
            "Requirement already satisfied: frozenlist>=1.1.1 in /usr/local/lib/python3.10/dist-packages (from aiohttp~=3.0->gradio) (1.4.0)\n",
            "Requirement already satisfied: aiosignal>=1.1.2 in /usr/local/lib/python3.10/dist-packages (from aiohttp~=3.0->gradio) (1.3.1)\n",
            "Requirement already satisfied: entrypoints in /usr/local/lib/python3.10/dist-packages (from altair<6.0,>=4.2.0->gradio) (0.4)\n",
            "Requirement already satisfied: jsonschema>=3.0 in /usr/local/lib/python3.10/dist-packages (from altair<6.0,>=4.2.0->gradio) (4.3.3)\n",
            "Requirement already satisfied: toolz in /usr/local/lib/python3.10/dist-packages (from altair<6.0,>=4.2.0->gradio) (0.12.0)\n",
            "Requirement already satisfied: fsspec in /usr/local/lib/python3.10/dist-packages (from gradio-client>=0.2.10->gradio) (2023.6.0)\n",
            "Requirement already satisfied: filelock in /usr/local/lib/python3.10/dist-packages (from huggingface-hub>=0.14.0->gradio) (3.12.2)\n",
            "Requirement already satisfied: tqdm>=4.42.1 in /usr/local/lib/python3.10/dist-packages (from huggingface-hub>=0.14.0->gradio) (4.65.0)\n",
            "Requirement already satisfied: mdurl~=0.1 in /usr/local/lib/python3.10/dist-packages (from markdown-it-py[linkify]>=2.0.0->gradio) (0.1.2)\n",
            "Collecting linkify-it-py<3,>=1 (from markdown-it-py[linkify]>=2.0.0->gradio)\n",
            "  Downloading linkify_it_py-2.0.2-py3-none-any.whl (19 kB)\n",
            "Requirement already satisfied: contourpy>=1.0.1 in /usr/local/lib/python3.10/dist-packages (from matplotlib~=3.0->gradio) (1.1.0)\n",
            "Requirement already satisfied: cycler>=0.10 in /usr/local/lib/python3.10/dist-packages (from matplotlib~=3.0->gradio) (0.11.0)\n",
            "Requirement already satisfied: fonttools>=4.22.0 in /usr/local/lib/python3.10/dist-packages (from matplotlib~=3.0->gradio) (4.41.0)\n",
            "Requirement already satisfied: kiwisolver>=1.0.1 in /usr/local/lib/python3.10/dist-packages (from matplotlib~=3.0->gradio) (1.4.4)\n",
            "Requirement already satisfied: pyparsing>=2.3.1 in /usr/local/lib/python3.10/dist-packages (from matplotlib~=3.0->gradio) (3.1.0)\n",
            "Requirement already satisfied: python-dateutil>=2.7 in /usr/local/lib/python3.10/dist-packages (from matplotlib~=3.0->gradio) (2.8.2)\n",
            "INFO: pip is looking at multiple versions of mdit-py-plugins to determine which version is compatible with other requirements. This could take a while.\n",
            "Collecting mdit-py-plugins<=0.3.3 (from gradio)\n",
            "  Downloading mdit_py_plugins-0.3.2-py3-none-any.whl (50 kB)\n",
            "\u001b[2K     \u001b[90m━━━━━━━━━━━━━━━━━━━━━━━━━━━━━━━━━━━━━━━━\u001b[0m \u001b[32m50.4/50.4 kB\u001b[0m \u001b[31m5.6 MB/s\u001b[0m eta \u001b[36m0:00:00\u001b[0m\n",
            "\u001b[?25h  Downloading mdit_py_plugins-0.3.1-py3-none-any.whl (46 kB)\n",
            "\u001b[2K     \u001b[90m━━━━━━━━━━━━━━━━━━━━━━━━━━━━━━━━━━━━━━━━\u001b[0m \u001b[32m46.5/46.5 kB\u001b[0m \u001b[31m3.5 MB/s\u001b[0m eta \u001b[36m0:00:00\u001b[0m\n",
            "\u001b[?25h  Downloading mdit_py_plugins-0.3.0-py3-none-any.whl (43 kB)\n",
            "\u001b[2K     \u001b[90m━━━━━━━━━━━━━━━━━━━━━━━━━━━━━━━━━━━━━━━━\u001b[0m \u001b[32m43.7/43.7 kB\u001b[0m \u001b[31m5.1 MB/s\u001b[0m eta \u001b[36m0:00:00\u001b[0m\n",
            "\u001b[?25h  Downloading mdit_py_plugins-0.2.8-py3-none-any.whl (41 kB)\n",
            "\u001b[2K     \u001b[90m━━━━━━━━━━━━━━━━━━━━━━━━━━━━━━━━━━━━━━━━\u001b[0m \u001b[32m41.0/41.0 kB\u001b[0m \u001b[31m4.4 MB/s\u001b[0m eta \u001b[36m0:00:00\u001b[0m\n",
            "\u001b[?25h  Downloading mdit_py_plugins-0.2.7-py3-none-any.whl (41 kB)\n",
            "\u001b[2K     \u001b[90m━━━━━━━━━━━━━━━━━━━━━━━━━━━━━━━━━━━━━━━━\u001b[0m \u001b[32m41.0/41.0 kB\u001b[0m \u001b[31m3.9 MB/s\u001b[0m eta \u001b[36m0:00:00\u001b[0m\n",
            "\u001b[?25h  Downloading mdit_py_plugins-0.2.6-py3-none-any.whl (39 kB)\n",
            "  Downloading mdit_py_plugins-0.2.5-py3-none-any.whl (39 kB)\n",
            "INFO: pip is looking at multiple versions of mdit-py-plugins to determine which version is compatible with other requirements. This could take a while.\n",
            "  Downloading mdit_py_plugins-0.2.4-py3-none-any.whl (39 kB)\n",
            "  Downloading mdit_py_plugins-0.2.3-py3-none-any.whl (39 kB)\n",
            "  Downloading mdit_py_plugins-0.2.2-py3-none-any.whl (39 kB)\n",
            "  Downloading mdit_py_plugins-0.2.1-py3-none-any.whl (38 kB)\n",
            "  Downloading mdit_py_plugins-0.2.0-py3-none-any.whl (38 kB)\n",
            "INFO: This is taking longer than usual. You might need to provide the dependency resolver with stricter constraints to reduce runtime. See https://pip.pypa.io/warnings/backtracking for guidance. If you want to abort this run, press Ctrl + C.\n",
            "  Downloading mdit_py_plugins-0.1.0-py3-none-any.whl (37 kB)\n",
            "Collecting markdown-it-py[linkify]>=2.0.0 (from gradio)\n",
            "  Downloading markdown_it_py-3.0.0-py3-none-any.whl (87 kB)\n",
            "\u001b[2K     \u001b[90m━━━━━━━━━━━━━━━━━━━━━━━━━━━━━━━━━━━━━━━━\u001b[0m \u001b[32m87.5/87.5 kB\u001b[0m \u001b[31m9.6 MB/s\u001b[0m eta \u001b[36m0:00:00\u001b[0m\n",
            "\u001b[?25h  Downloading markdown_it_py-2.2.0-py3-none-any.whl (84 kB)\n",
            "\u001b[2K     \u001b[90m━━━━━━━━━━━━━━━━━━━━━━━━━━━━━━━━━━━━━━━━\u001b[0m \u001b[32m84.5/84.5 kB\u001b[0m \u001b[31m8.7 MB/s\u001b[0m eta \u001b[36m0:00:00\u001b[0m\n",
            "\u001b[?25hRequirement already satisfied: pytz>=2020.1 in /usr/local/lib/python3.10/dist-packages (from pandas<3.0,>=1.0->gradio) (2022.7.1)\n",
            "Requirement already satisfied: urllib3<1.27,>=1.21.1 in /usr/local/lib/python3.10/dist-packages (from requests~=2.0->gradio) (1.26.16)\n",
            "Requirement already satisfied: certifi>=2017.4.17 in /usr/local/lib/python3.10/dist-packages (from requests~=2.0->gradio) (2023.5.7)\n",
            "Requirement already satisfied: idna<4,>=2.5 in /usr/local/lib/python3.10/dist-packages (from requests~=2.0->gradio) (3.4)\n",
            "Requirement already satisfied: click>=7.0 in /usr/local/lib/python3.10/dist-packages (from uvicorn>=0.14.0->gradio) (8.1.4)\n",
            "Collecting h11>=0.8 (from uvicorn>=0.14.0->gradio)\n",
            "  Downloading h11-0.14.0-py3-none-any.whl (58 kB)\n",
            "\u001b[2K     \u001b[90m━━━━━━━━━━━━━━━━━━━━━━━━━━━━━━━━━━━━━━━━\u001b[0m \u001b[32m58.3/58.3 kB\u001b[0m \u001b[31m4.8 MB/s\u001b[0m eta \u001b[36m0:00:00\u001b[0m\n",
            "\u001b[?25hCollecting starlette<0.28.0,>=0.27.0 (from fastapi->gradio)\n",
            "  Downloading starlette-0.27.0-py3-none-any.whl (66 kB)\n",
            "\u001b[2K     \u001b[90m━━━━━━━━━━━━━━━━━━━━━━━━━━━━━━━━━━━━━━━━\u001b[0m \u001b[32m67.0/67.0 kB\u001b[0m \u001b[31m7.8 MB/s\u001b[0m eta \u001b[36m0:00:00\u001b[0m\n",
            "\u001b[?25hCollecting httpcore<0.18.0,>=0.15.0 (from httpx->gradio)\n",
            "  Downloading httpcore-0.17.3-py3-none-any.whl (74 kB)\n",
            "\u001b[2K     \u001b[90m━━━━━━━━━━━━━━━━━━━━━━━━━━━━━━━━━━━━━━━━\u001b[0m \u001b[32m74.5/74.5 kB\u001b[0m \u001b[31m5.3 MB/s\u001b[0m eta \u001b[36m0:00:00\u001b[0m\n",
            "\u001b[?25hRequirement already satisfied: sniffio in /usr/local/lib/python3.10/dist-packages (from httpx->gradio) (1.3.0)\n",
            "Requirement already satisfied: anyio<5.0,>=3.0 in /usr/local/lib/python3.10/dist-packages (from httpcore<0.18.0,>=0.15.0->httpx->gradio) (3.7.1)\n",
            "Requirement already satisfied: pyrsistent!=0.17.0,!=0.17.1,!=0.17.2,>=0.14.0 in /usr/local/lib/python3.10/dist-packages (from jsonschema>=3.0->altair<6.0,>=4.2.0->gradio) (0.19.3)\n",
            "Collecting uc-micro-py (from linkify-it-py<3,>=1->markdown-it-py[linkify]>=2.0.0->gradio)\n",
            "  Downloading uc_micro_py-1.0.2-py3-none-any.whl (6.2 kB)\n",
            "Requirement already satisfied: six>=1.5 in /usr/local/lib/python3.10/dist-packages (from python-dateutil>=2.7->matplotlib~=3.0->gradio) (1.16.0)\n",
            "Requirement already satisfied: exceptiongroup in /usr/local/lib/python3.10/dist-packages (from anyio<5.0,>=3.0->httpcore<0.18.0,>=0.15.0->httpx->gradio) (1.1.2)\n",
            "Building wheels for collected packages: ffmpy\n",
            "  Building wheel for ffmpy (setup.py) ... \u001b[?25l\u001b[?25hdone\n",
            "  Created wheel for ffmpy: filename=ffmpy-0.3.1-py3-none-any.whl size=5579 sha256=2ad11cf41a88956a36ed0f302bb1a2fdf7b39423b6f4fe8cbb06561443b6460f\n",
            "  Stored in directory: /root/.cache/pip/wheels/01/a6/d1/1c0828c304a4283b2c1639a09ad86f83d7c487ef34c6b4a1bf\n",
            "Successfully built ffmpy\n",
            "Installing collected packages: pydub, ffmpy, websockets, uc-micro-py, semantic-version, python-multipart, orjson, markdown-it-py, h11, aiofiles, uvicorn, starlette, mdit-py-plugins, linkify-it-py, huggingface-hub, httpcore, httpx, fastapi, gradio-client, gradio\n",
            "  Attempting uninstall: markdown-it-py\n",
            "    Found existing installation: markdown-it-py 3.0.0\n",
            "    Uninstalling markdown-it-py-3.0.0:\n",
            "      Successfully uninstalled markdown-it-py-3.0.0\n",
            "Successfully installed aiofiles-23.1.0 fastapi-0.100.0 ffmpy-0.3.1 gradio-3.37.0 gradio-client-0.2.10 h11-0.14.0 httpcore-0.17.3 httpx-0.24.1 huggingface-hub-0.16.4 linkify-it-py-2.0.2 markdown-it-py-2.2.0 mdit-py-plugins-0.3.3 orjson-3.9.2 pydub-0.25.1 python-multipart-0.0.6 semantic-version-2.10.0 starlette-0.27.0 uc-micro-py-1.0.2 uvicorn-0.23.0 websockets-11.0.3\n"
          ]
        }
      ]
    },
    {
      "cell_type": "code",
      "source": [
        "class_names = ['쿨톤', '웜톤']"
      ],
      "metadata": {
        "id": "_0SJKcJvvK2k"
      },
      "id": "_0SJKcJvvK2k",
      "execution_count": 48,
      "outputs": []
    },
    {
      "cell_type": "code",
      "source": [
        "def classify_image(image):\n",
        "  image = image.reshape((1, 200 * 200 * 3)) # shape 맞추기\n",
        "  class_index = nn.predict(image, max_index) # 모델에 적용하기\n",
        "  class_name = class_names[int(class_index[0])]\n",
        "  return class_name"
      ],
      "metadata": {
        "id": "SQS549ulbiCc"
      },
      "id": "SQS549ulbiCc",
      "execution_count": 59,
      "outputs": []
    },
    {
      "cell_type": "code",
      "source": [
        "import gradio as gr\n",
        "\n",
        "classification = gr.Interface(fn=classify_image,\n",
        "                              inputs=gr.Image(shape=(200, 200)),\n",
        "                              outputs = 'text'\n",
        "                              )\n",
        "classification.launch(share=True,\n",
        "                      server_name = \"0.0.0.0\",\n",
        "                      server_port = 8096)\n",
        "                      # auth = (\"noname\", \"passwdl\"))"
      ],
      "metadata": {
        "colab": {
          "base_uri": "https://localhost:8080/",
          "height": 613
        },
        "id": "9hdd7ABi9zJ1",
        "outputId": "66b74cd9-1127-424a-98b2-4a9294e11c3b"
      },
      "id": "9hdd7ABi9zJ1",
      "execution_count": 60,
      "outputs": [
        {
          "output_type": "stream",
          "name": "stdout",
          "text": [
            "Colab notebook detected. To show errors in colab notebook, set debug=True in launch()\n",
            "Running on public URL: https://2e67b0bd51c72a2b05.gradio.live\n",
            "\n",
            "This share link expires in 72 hours. For free permanent hosting and GPU upgrades, run `gradio deploy` from Terminal to deploy to Spaces (https://huggingface.co/spaces)\n"
          ]
        },
        {
          "output_type": "display_data",
          "data": {
            "text/plain": [
              "<IPython.core.display.HTML object>"
            ],
            "text/html": [
              "<div><iframe src=\"https://2e67b0bd51c72a2b05.gradio.live\" width=\"100%\" height=\"500\" allow=\"autoplay; camera; microphone; clipboard-read; clipboard-write;\" frameborder=\"0\" allowfullscreen></iframe></div>"
            ]
          },
          "metadata": {}
        },
        {
          "output_type": "execute_result",
          "data": {
            "text/plain": []
          },
          "metadata": {},
          "execution_count": 60
        }
      ]
    },
    {
      "cell_type": "markdown",
      "source": [
        "![image.png](data:image/png;base64,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)"
      ],
      "metadata": {
        "id": "y0Pk6XObAUPl"
      },
      "id": "y0Pk6XObAUPl"
    }
  ],
  "metadata": {
    "kernelspec": {
      "display_name": "Python 3 (ipykernel)",
      "language": "python",
      "name": "python3"
    },
    "language_info": {
      "codemirror_mode": {
        "name": "ipython",
        "version": 3
      },
      "file_extension": ".py",
      "mimetype": "text/x-python",
      "name": "python",
      "nbconvert_exporter": "python",
      "pygments_lexer": "ipython3",
      "version": "3.9.7"
    },
    "colab": {
      "provenance": []
    }
  },
  "nbformat": 4,
  "nbformat_minor": 5
}