{
  "cells": [
    {
      "cell_type": "markdown",
      "source": [
        "# 라이브러리 설치 및 함수 정의"
      ],
      "metadata": {
        "id": "OPHwc0vfMyq6"
      },
      "id": "OPHwc0vfMyq6"
    },
    {
      "cell_type": "code",
      "source": [
        "from google.colab import drive\n",
        "drive.mount('/content/drive')"
      ],
      "metadata": {
        "colab": {
          "base_uri": "https://localhost:8080/"
        },
        "id": "Tz9oWRgf7lEz",
        "outputId": "12c4d71b-901a-41f4-bb7c-26bec5d5a373"
      },
      "id": "Tz9oWRgf7lEz",
      "execution_count": 1,
      "outputs": [
        {
          "output_type": "stream",
          "name": "stdout",
          "text": [
            "Mounted at /content/drive\n"
          ]
        }
      ]
    },
    {
      "cell_type": "code",
      "execution_count": 2,
      "id": "49795075",
      "metadata": {
        "id": "49795075"
      },
      "outputs": [],
      "source": [
        "import cv2\n",
        "from matplotlib import pyplot as plt\n",
        "import numpy as np\n",
        "from PIL import Image\n",
        "import requests\n",
        "from tqdm import tqdm\n",
        "import os\n",
        "from skimage import color"
      ]
    },
    {
      "cell_type": "code",
      "source": [
        "# LAB 기준값 -> 웜/쿨 분류\n",
        "criteria_lab = {\n",
        "    'warm': np.array([63.45, 11.80, 17.11]),\n",
        "    'cool': np.array([64.80, 10.87, 15.04])\n",
        "}\n",
        "\n",
        "## RGB 기준값 -> 봄 여름이 많이 나옴(가을1, 겨울0)\n",
        "criteria_rgb = {\n",
        "    'spring': np.array([252.75, 203.5, 152]),\n",
        "    'summer': np.array([254, 229.25, 164.5]),\n",
        "    'fall': np.array([240.75, 199.25, 132.75]),\n",
        "    'winter': np.array([240, 201.5, 129.5])\n",
        "}"
      ],
      "metadata": {
        "id": "JtzX--76gFIM"
      },
      "id": "JtzX--76gFIM",
      "execution_count": 3,
      "outputs": []
    },
    {
      "cell_type": "code",
      "execution_count": null,
      "id": "5931e65e",
      "metadata": {
        "id": "5931e65e"
      },
      "outputs": [],
      "source": [
        "# 코사인 유사도 함수\n",
        "def compute_cosine_sim(v1, v2):\n",
        "    return np.dot(v1, v2) / (np.linalg.norm(v1) * np.linalg.norm(v2))\n",
        "\n",
        "# 퍼스널 컬러 분류 함수\n",
        "def classify_skin_type(pixel):\n",
        "    pixel_lab = color.rgb2lab(np.array([pixel])/255.0)\n",
        "    pixel_rgb = pixel\n",
        "    similarities_lab = np.array([compute_cosine_sim(pixel_lab[0], tone) for tone in criteria_lab.values()])\n",
        "    primary_class = ['warm', 'cool'][np.argmax(similarities_lab)]\n",
        "\n",
        "    if primary_class == 'warm':\n",
        "        secondary_class = ['spring', 'fall'][np.argmax([compute_cosine_sim(pixel_rgb, criteria_rgb['spring']),\n",
        "                                                        compute_cosine_sim(pixel_rgb, criteria_rgb['fall'])])]\n",
        "    else:\n",
        "        secondary_class = ['summer', 'winter'][np.argmax([compute_cosine_sim(pixel_rgb, criteria_rgb['summer']),\n",
        "                                                          compute_cosine_sim(pixel_rgb, criteria_rgb['winter'])])]\n",
        "    return primary_class, secondary_class"
      ]
    },
    {
      "cell_type": "code",
      "source": [
        "# color map 정의\n",
        "color_map_primary = {\n",
        "    \"warm\": [255, 0, 0], ## 빨간색\n",
        "    \"cool\": [0, 0, 255]  ## 파란색\n",
        "}\n",
        "\n",
        "color_map_secondary = {\n",
        "    \"spring\": [255, 255, 0], ## 노란색\n",
        "    \"summer\": [0, 255, 0],  ## 연두색\n",
        "    \"fall\": [255, 127, 0],  ## 주황색\n",
        "    \"winter\": [0, 255, 255] ## 하늘색\n",
        "}"
      ],
      "metadata": {
        "id": "ZT9c1_UCT-cG"
      },
      "id": "ZT9c1_UCT-cG",
      "execution_count": 10,
      "outputs": []
    },
    {
      "cell_type": "code",
      "execution_count": null,
      "id": "f5877652",
      "metadata": {
        "id": "f5877652"
      },
      "outputs": [],
      "source": [
        "# LAB + RGB 4계절 분류 함수 정의\n",
        "\n",
        "def skin_classification(directory, file_select):\n",
        "  files = [f for f in os.listdir(directory) if f.endswith(file_select)]\n",
        "  # files = files[:10]\n",
        "\n",
        "  for file in files:\n",
        "      file_path = os.path.join(directory, file)\n",
        "\n",
        "      # Load and resize the image\n",
        "      image = Image.open(file_path).resize((224, 224))\n",
        "      image_np = np.array(image)\n",
        "\n",
        "      height, width, _ = image_np.shape\n",
        "      results_primary = np.zeros_like(image_np, dtype='uint8')\n",
        "      results_secondary = np.zeros_like(image_np, dtype='uint8')\n",
        "\n",
        "      for j in tqdm(range(height)):\n",
        "          for i in range(width):\n",
        "              current_pixel = image_np[j, i]\n",
        "              primary_class, secondary_class = classify_skin_type(current_pixel)\n",
        "              results_primary[j, i] = color_map_primary[primary_class]\n",
        "              results_secondary[j, i] = color_map_secondary[secondary_class]\n",
        "\n",
        "      # Create a new figure\n",
        "      fig, ax = plt.subplots(1, 3, figsize=(15, 5))\n",
        "\n",
        "      # Add the original image to the first subplot\n",
        "      ax[0].imshow(image_np)\n",
        "      ax[0].set_title('Original')\n",
        "\n",
        "      # Add the primary classified image to the second subplot\n",
        "      ax[1].imshow(results_primary)\n",
        "      ax[1].set_title('Primary Classification')\n",
        "\n",
        "      # Add the secondary classified image to the third subplot\n",
        "      ax[2].imshow(results_secondary)\n",
        "      ax[2].set_title('Secondary Classification')\n",
        "\n",
        "      # Display the plot\n",
        "      plt.show()"
      ]
    },
    {
      "cell_type": "markdown",
      "id": "31bf964a",
      "metadata": {
        "id": "31bf964a"
      },
      "source": [
        "# 웜톤 확인"
      ]
    },
    {
      "cell_type": "code",
      "source": [
        "directory_warm = '/content/drive/MyDrive/Colab Notebooks/AIFFEL/Four_seasons/사계절_연예인 이미지 데이터셋/prototype/웜톤_jpg'\n",
        "skin_classification(directory_warm, '.jpg')"
      ],
      "metadata": {
        "id": "uZ_oJqdYOX43"
      },
      "id": "uZ_oJqdYOX43",
      "execution_count": null,
      "outputs": []
    },
    {
      "cell_type": "markdown",
      "id": "b23e483a",
      "metadata": {
        "id": "b23e483a"
      },
      "source": [
        "# 쿨톤 확인"
      ]
    },
    {
      "cell_type": "code",
      "execution_count": null,
      "id": "02ec3f61",
      "metadata": {
        "id": "02ec3f61"
      },
      "outputs": [],
      "source": [
        "directory_cool = '/content/drive/MyDrive/Colab Notebooks/AIFFEL/Four_seasons/사계절_연예인 이미지 데이터셋/prototype/쿨톤_jpg'\n",
        "skin_classification(directory_cool, '.jpg')"
      ]
    },
    {
      "cell_type": "markdown",
      "id": "34cb1b9a",
      "metadata": {
        "id": "34cb1b9a"
      },
      "source": [
        "# 일반인 이미지"
      ]
    },
    {
      "cell_type": "code",
      "execution_count": null,
      "id": "ec0d3662",
      "metadata": {
        "id": "ec0d3662"
      },
      "outputs": [],
      "source": [
        "# Specify the file path\n",
        "directory_nor = '/content/drive/MyDrive/Colab Notebooks/AIFFEL/Four_seasons/사계절_연예인 이미지 데이터셋/train data'\n",
        "skin_classification(directory_nor, '05.JPG')"
      ]
    },
    {
      "cell_type": "markdown",
      "id": "882e60c2",
      "metadata": {
        "id": "882e60c2"
      },
      "source": [
        "# 얼굴 영역의 LAB + RGB 값을 이용한 레이블링\n",
        "\n",
        "- 얼굴만 인식해서, 얼굴 전체의 픽셀 별 클래스 분류 최빈값으로 대표 색상 정하기"
      ]
    },
    {
      "cell_type": "markdown",
      "id": "2c28ee0c",
      "metadata": {
        "id": "2c28ee0c"
      },
      "source": [
        "## 2. MTCNN을 이용한 레이블 분류\n",
        "\n",
        "- MTCNN은 다른 얼굴 감지 방법보다 약간 느릴 수 있지만 정확도 측면에서 매우 잘 수행되는 경향"
      ]
    },
    {
      "cell_type": "code",
      "execution_count": 6,
      "id": "9499db5f",
      "metadata": {
        "colab": {
          "base_uri": "https://localhost:8080/"
        },
        "id": "9499db5f",
        "outputId": "63c1173c-572f-4fa2-be3f-f72d479a3556"
      },
      "outputs": [
        {
          "output_type": "stream",
          "name": "stdout",
          "text": [
            "Collecting mtcnn\n",
            "  Downloading mtcnn-0.1.1-py3-none-any.whl (2.3 MB)\n",
            "\u001b[2K     \u001b[90m━━━━━━━━━━━━━━━━━━━━━━━━━━━━━━━━━━━━━━━━\u001b[0m \u001b[32m2.3/2.3 MB\u001b[0m \u001b[31m9.3 MB/s\u001b[0m eta \u001b[36m0:00:00\u001b[0m\n",
            "\u001b[?25hRequirement already satisfied: keras>=2.0.0 in /usr/local/lib/python3.10/dist-packages (from mtcnn) (2.12.0)\n",
            "Requirement already satisfied: opencv-python>=4.1.0 in /usr/local/lib/python3.10/dist-packages (from mtcnn) (4.7.0.72)\n",
            "Requirement already satisfied: numpy>=1.21.2 in /usr/local/lib/python3.10/dist-packages (from opencv-python>=4.1.0->mtcnn) (1.22.4)\n",
            "Installing collected packages: mtcnn\n",
            "Successfully installed mtcnn-0.1.1\n"
          ]
        }
      ],
      "source": [
        "!pip install mtcnn"
      ]
    },
    {
      "cell_type": "code",
      "source": [
        "from mtcnn import MTCNN\n",
        "from matplotlib import pyplot as plt\n",
        "from PIL import Image\n",
        "import numpy as np\n",
        "import collections\n",
        "import cv2\n",
        "import os\n",
        "import shutil\n",
        "from collections import Counter"
      ],
      "metadata": {
        "id": "ELstLd_jVDgy"
      },
      "id": "ELstLd_jVDgy",
      "execution_count": 7,
      "outputs": []
    },
    {
      "cell_type": "code",
      "execution_count": null,
      "id": "cccb6a88",
      "metadata": {
        "id": "cccb6a88"
      },
      "outputs": [],
      "source": [
        "## MTCNN 적용 시각화 코드\n",
        "\n",
        "detector = MTCNN()\n",
        "\n",
        "for file in files:\n",
        "    file_path = os.path.join(directory, file)\n",
        "\n",
        "    # Load and resize the image\n",
        "    image = Image.open(file_path).resize((224, 224))\n",
        "    image_np = np.array(image)\n",
        "\n",
        "    # Detect faces in the image\n",
        "    faces = detector.detect_faces(image_np)\n",
        "\n",
        "    # Initialize the result images\n",
        "    results_primary = np.zeros_like(image_np, dtype='uint8')\n",
        "    results_secondary = np.zeros_like(image_np, dtype='uint8')\n",
        "\n",
        "    for face in faces:\n",
        "        # Get the bounding box of the face\n",
        "        x, y, width, height = face['box']\n",
        "\n",
        "        # Loop over the pixels in the face region\n",
        "        for j in range(y, y + height):\n",
        "            for i in range(x, x + width):\n",
        "                # Ensure the pixel coordinates are within the bounds of the image\n",
        "                if j < 0 or i < 0 or j >= image_np.shape[0] or i >= image_np.shape[1]:\n",
        "                    continue\n",
        "\n",
        "                current_pixel = image_np[j, i]\n",
        "                primary_class, secondary_class = classify_skin_type(current_pixel)\n",
        "                results_primary[j, i] = color_map_primary[primary_class]\n",
        "                results_secondary[j, i] = color_map_secondary[secondary_class]\n",
        "\n",
        "    # Create a new figure\n",
        "    fig, ax = plt.subplots(1, 3, figsize=(15, 5))\n",
        "\n",
        "    # Add the original image to the first subplot\n",
        "    ax[0].imshow(image_np)\n",
        "    ax[0].set_title('Original')\n",
        "\n",
        "    # Add the primary classified image to the second subplot\n",
        "    ax[1].imshow(results_primary)\n",
        "    ax[1].set_title('Primary Classification')\n",
        "\n",
        "    # Add the secondary classified image to the third subplot\n",
        "    ax[2].imshow(results_secondary)\n",
        "    ax[2].set_title('Secondary Classification')\n",
        "\n",
        "    # Display the plot\n",
        "    plt.show()"
      ]
    },
    {
      "cell_type": "code",
      "execution_count": 8,
      "id": "3c10825f",
      "metadata": {
        "id": "3c10825f"
      },
      "outputs": [],
      "source": [
        "detector = MTCNN()\n",
        "\n",
        "def classify_images(directory, file_select):\n",
        "    result_labels = []\n",
        "\n",
        "    files = [f for f in os.listdir(directory) if f.endswith(file_select)]\n",
        "    for file in files:\n",
        "        file_path = os.path.join(directory, file)\n",
        "\n",
        "        # Load and resize the image\n",
        "        image = Image.open(file_path).resize((224, 224))\n",
        "        image_np = np.array(image)\n",
        "\n",
        "        # Detect faces in the image\n",
        "        faces = detector.detect_faces(image_np)\n",
        "\n",
        "        # Initialize the result images\n",
        "        results_primary = np.zeros_like(image_np, dtype='uint8')\n",
        "        results_secondary = np.zeros_like(image_np, dtype='uint8')\n",
        "\n",
        "        # Keep track of the labels\n",
        "        labels_secondary = []\n",
        "\n",
        "        for face in faces:\n",
        "            # Get the bounding box of the face\n",
        "            x, y, width, height = face['box']\n",
        "\n",
        "            # Loop over the pixels in the face region\n",
        "            for j in range(y, y + height):\n",
        "                for i in range(x, x + width):\n",
        "                    # Ensure the pixel coordinates are within the bounds of the image\n",
        "                    if j < 0 or i < 0 or j >= image_np.shape[0] or i >= image_np.shape[1]:\n",
        "                        continue\n",
        "\n",
        "                    current_pixel = image_np[j, i]\n",
        "                    _, secondary_class = classify_skin_type(current_pixel)\n",
        "                    results_secondary[j, i] = color_map_secondary[secondary_class]\n",
        "\n",
        "                    # Record the labels\n",
        "                    labels_secondary.append(secondary_class)\n",
        "\n",
        "        # Get the most common labels\n",
        "        secondary_label = collections.Counter(labels_secondary).most_common(1)[0][0]\n",
        "\n",
        "        result_labels.append(secondary_label)\n",
        "\n",
        "    return result_labels"
      ]
    },
    {
      "cell_type": "code",
      "execution_count": null,
      "id": "f4f4b1d8",
      "metadata": {
        "id": "f4f4b1d8"
      },
      "outputs": [],
      "source": [
        "directory = '/content/drive/MyDrive/Colab Notebooks/AIFFEL/Four_seasons/사계절_연예인 이미지 데이터셋/train data/500이후 1번 레이블링_임시폴더/'\n",
        "result_labels = classify_images(directory, '02.JPG')\n",
        "result_labels"
      ]
    },
    {
      "cell_type": "markdown",
      "id": "16cdd7c5",
      "metadata": {
        "id": "16cdd7c5"
      },
      "source": [
        "### 폴더 분류"
      ]
    },
    {
      "cell_type": "code",
      "source": [
        "detector = MTCNN()\n",
        "\n",
        "def classify_images_file(directory, file_select):\n",
        "    result_labels = []\n",
        "\n",
        "    files = [f for f in os.listdir(directory) if f.endswith(file_select)]\n",
        "    for file in files:\n",
        "        file_path = os.path.join(directory, file)\n",
        "\n",
        "        # Load and resize the image\n",
        "        image = Image.open(file_path).resize((224, 224))\n",
        "        image_np = np.array(image)\n",
        "\n",
        "        # Detect faces in the image\n",
        "        faces = detector.detect_faces(image_np)\n",
        "\n",
        "        # Keep track of the labels\n",
        "        labels_primary = []\n",
        "\n",
        "        for face in faces:\n",
        "            # Get the bounding box of the face\n",
        "            x, y, width, height = face['box']\n",
        "\n",
        "            # Loop over the pixels in the face region\n",
        "            for j in range(y, y + height):\n",
        "                for i in range(x, x + width):\n",
        "                    # Ensure the pixel coordinates are within the bounds of the image\n",
        "                    if j < 0 or i < 0 or j >= image_np.shape[0] or i >= image_np.shape[1]:\n",
        "                        continue\n",
        "\n",
        "                    current_pixel = image_np[j, i]\n",
        "                    primary_class, _ = classify_skin_type(current_pixel)\n",
        "\n",
        "                    # Record the labels\n",
        "                    labels_primary.append(primary_class)\n",
        "\n",
        "        # Get the most common label\n",
        "        primary_label = collections.Counter(labels_primary).most_common(1)[0][0]\n",
        "\n",
        "        result_labels.append(primary_label)\n",
        "\n",
        "        # Create a new subfolder if it doesn't exist\n",
        "        new_folder_path = os.path.join(directory, primary_label)\n",
        "        if not os.path.exists(new_folder_path):\n",
        "            os.mkdir(new_folder_path)\n",
        "\n",
        "        # Move the file to the new subfolder\n",
        "        new_file_path = os.path.join(new_folder_path, file)\n",
        "        shutil.move(file_path, new_file_path)\n",
        "\n",
        "    return result_labels"
      ],
      "metadata": {
        "id": "PjpUyL_IY92z"
      },
      "id": "PjpUyL_IY92z",
      "execution_count": null,
      "outputs": []
    },
    {
      "cell_type": "code",
      "source": [
        "# Specify the file path\n",
        "directory = '/content/drive/MyDrive/Colab Notebooks/AIFFEL/Four_seasons/사계절_연예인 이미지 데이터셋/05_train data/'\n",
        "classify_images(directory, '05.JPG')"
      ],
      "metadata": {
        "id": "qjMACzxd_Ela"
      },
      "id": "qjMACzxd_Ela",
      "execution_count": null,
      "outputs": []
    },
    {
      "cell_type": "code",
      "source": [
        "directory = '/content/drive/MyDrive/Colab Notebooks/AIFFEL/Four_seasons/사계절_연예인 이미지 데이터셋/train data/'\n",
        "result = classify_images(directory, '05.JPG')"
      ],
      "metadata": {
        "id": "DgomN1FCbbFk"
      },
      "id": "DgomN1FCbbFk",
      "execution_count": null,
      "outputs": []
    },
    {
      "cell_type": "code",
      "source": [
        "print(len(result))"
      ],
      "metadata": {
        "colab": {
          "base_uri": "https://localhost:8080/"
        },
        "id": "NGhLXSaLbgRD",
        "outputId": "a2ff19f0-4f36-4e8c-b714-f3d8c4a02bb1"
      },
      "id": "NGhLXSaLbgRD",
      "execution_count": null,
      "outputs": [
        {
          "output_type": "stream",
          "name": "stdout",
          "text": [
            "437\n"
          ]
        }
      ]
    },
    {
      "cell_type": "code",
      "source": [
        "counter = Counter(result)\n",
        "\n",
        "print(counter['warm'])\n",
        "print(counter['cool'])"
      ],
      "metadata": {
        "colab": {
          "base_uri": "https://localhost:8080/"
        },
        "id": "f2i0yyFfNBLF",
        "outputId": "f86c6c16-5b62-4946-dc31-071462465683"
      },
      "id": "f2i0yyFfNBLF",
      "execution_count": null,
      "outputs": [
        {
          "output_type": "stream",
          "name": "stdout",
          "text": [
            "282\n",
            "155\n"
          ]
        }
      ]
    },
    {
      "cell_type": "code",
      "source": [
        "directory = '/content/drive/MyDrive/Colab Notebooks/AIFFEL/Four_seasons/사계절_연예인 이미지 데이터셋/05_train data/'\n",
        "result_1 = classify_images(directory, '01.JPG')"
      ],
      "metadata": {
        "id": "AqPEIHyGgsT0"
      },
      "id": "AqPEIHyGgsT0",
      "execution_count": null,
      "outputs": []
    },
    {
      "cell_type": "code",
      "source": [
        "print(len(result_1))"
      ],
      "metadata": {
        "colab": {
          "base_uri": "https://localhost:8080/"
        },
        "id": "_FUIy00ehZT8",
        "outputId": "469db62d-cf00-40ce-fa50-697ab01844a1"
      },
      "id": "_FUIy00ehZT8",
      "execution_count": null,
      "outputs": [
        {
          "output_type": "stream",
          "name": "stdout",
          "text": [
            "68\n"
          ]
        }
      ]
    },
    {
      "cell_type": "code",
      "source": [
        "counter = Counter(result_1)\n",
        "\n",
        "print(counter['warm'])\n",
        "print(counter['cool'])"
      ],
      "metadata": {
        "colab": {
          "base_uri": "https://localhost:8080/"
        },
        "id": "UI9gjMxMhZFX",
        "outputId": "d19c16de-79aa-44cc-b6fe-d1f4a4cd4d09"
      },
      "id": "UI9gjMxMhZFX",
      "execution_count": null,
      "outputs": [
        {
          "output_type": "stream",
          "name": "stdout",
          "text": [
            "62\n",
            "6\n"
          ]
        }
      ]
    },
    {
      "cell_type": "code",
      "source": [
        "directory = '/content/drive/MyDrive/Colab Notebooks/AIFFEL/Four_seasons/사계절_연예인 이미지 데이터셋/05_train data/'\n",
        "result_2 = classify_images(directory, '01.jpg')"
      ],
      "metadata": {
        "id": "fO1gquWYjXoO"
      },
      "id": "fO1gquWYjXoO",
      "execution_count": null,
      "outputs": []
    },
    {
      "cell_type": "code",
      "source": [
        "print(len(result_2))"
      ],
      "metadata": {
        "colab": {
          "base_uri": "https://localhost:8080/"
        },
        "id": "wo4c9CGjjV0W",
        "outputId": "e9eca6af-fdc0-4815-ef44-4b760ba9f176"
      },
      "id": "wo4c9CGjjV0W",
      "execution_count": null,
      "outputs": [
        {
          "output_type": "stream",
          "name": "stdout",
          "text": [
            "147\n"
          ]
        }
      ]
    },
    {
      "cell_type": "code",
      "source": [
        "counter = Counter(result_2)\n",
        "\n",
        "print(counter['warm'])\n",
        "print(counter['cool'])"
      ],
      "metadata": {
        "colab": {
          "base_uri": "https://localhost:8080/"
        },
        "id": "EZwTC73cjckn",
        "outputId": "09423013-cec2-463f-af8c-6ede8fad520e"
      },
      "id": "EZwTC73cjckn",
      "execution_count": null,
      "outputs": [
        {
          "output_type": "stream",
          "name": "stdout",
          "text": [
            "122\n",
            "25\n"
          ]
        }
      ]
    },
    {
      "cell_type": "code",
      "source": [
        "directory = '/content/drive/MyDrive/Colab Notebooks/AIFFEL/Four_seasons/사계절_연예인 이미지 데이터셋/train data/500이후 1번 레이블링_임시폴더/'\n",
        "result_3 = classify_images(directory, '01.JPG')"
      ],
      "metadata": {
        "id": "_FN81BFW9Dmy"
      },
      "id": "_FN81BFW9Dmy",
      "execution_count": null,
      "outputs": []
    },
    {
      "cell_type": "code",
      "source": [
        "print(len(result_3))"
      ],
      "metadata": {
        "colab": {
          "base_uri": "https://localhost:8080/"
        },
        "id": "-762VxDV9DgM",
        "outputId": "124e2cab-0ae1-4cde-d1d6-719508b7bfab"
      },
      "id": "-762VxDV9DgM",
      "execution_count": null,
      "outputs": [
        {
          "output_type": "stream",
          "name": "stdout",
          "text": [
            "263\n"
          ]
        }
      ]
    },
    {
      "cell_type": "code",
      "source": [
        "counter = Counter(result_3)\n",
        "\n",
        "print(counter['warm'])\n",
        "print(counter['cool'])"
      ],
      "metadata": {
        "colab": {
          "base_uri": "https://localhost:8080/"
        },
        "id": "lmLvKT2o9DVS",
        "outputId": "4a2db198-3361-4b0e-c3b2-50ba2f6b9ff5"
      },
      "id": "lmLvKT2o9DVS",
      "execution_count": null,
      "outputs": [
        {
          "output_type": "stream",
          "name": "stdout",
          "text": [
            "237\n",
            "26\n"
          ]
        }
      ]
    },
    {
      "cell_type": "markdown",
      "source": [
        "---\n"
      ],
      "metadata": {
        "id": "E3m9ROH9et9y"
      },
      "id": "E3m9ROH9et9y"
    },
    {
      "cell_type": "code",
      "source": [
        "directory = '/content/drive/MyDrive/Colab Notebooks/AIFFEL/Four_seasons/사계절_연예인 이미지 데이터셋/train data/500이후 1번 레이블링_임시폴더/'\n",
        "result_4 = classify_images(directory, '.JPG')"
      ],
      "metadata": {
        "id": "jKqL6-KndGp7"
      },
      "id": "jKqL6-KndGp7",
      "execution_count": null,
      "outputs": []
    },
    {
      "cell_type": "code",
      "source": [
        "print(len(result_4))\n",
        "\n",
        "counter = Counter(result_4)\n",
        "print(counter['warm'])\n",
        "print(counter['cool'])"
      ],
      "metadata": {
        "colab": {
          "base_uri": "https://localhost:8080/"
        },
        "id": "PbWL9PCpdGmX",
        "outputId": "f5250d2b-8cd9-4105-997e-f479c31859bd"
      },
      "id": "PbWL9PCpdGmX",
      "execution_count": null,
      "outputs": [
        {
          "output_type": "stream",
          "name": "stdout",
          "text": [
            "377\n",
            "258\n",
            "119\n"
          ]
        }
      ]
    },
    {
      "cell_type": "code",
      "source": [
        "directory = '/content/drive/MyDrive/Colab Notebooks/AIFFEL/Four_seasons/사계절_연예인 이미지 데이터셋/train data/500이후 1번 레이블링_임시폴더'\n",
        "result_5 = classify_images(directory, '.jpg')"
      ],
      "metadata": {
        "id": "roYwS82kjP5n"
      },
      "id": "roYwS82kjP5n",
      "execution_count": null,
      "outputs": []
    },
    {
      "cell_type": "code",
      "source": [
        "print(len(result_5))\n",
        "\n",
        "counter = Counter(result_5)\n",
        "print(counter['warm'])\n",
        "print(counter['cool'])"
      ],
      "metadata": {
        "colab": {
          "base_uri": "https://localhost:8080/"
        },
        "id": "-PL0Y3c1jPtA",
        "outputId": "f6d265ff-6aca-4d38-8c43-eb0f516365c1"
      },
      "id": "-PL0Y3c1jPtA",
      "execution_count": null,
      "outputs": [
        {
          "output_type": "stream",
          "name": "stdout",
          "text": [
            "157\n",
            "118\n",
            "39\n"
          ]
        }
      ]
    },
    {
      "cell_type": "code",
      "source": [
        "directory = '/content/drive/MyDrive/Colab Notebooks/AIFFEL/Four_seasons/사계절_연예인 이미지 데이터셋/train data/'\n",
        "result_6 = classify_images(directory, '.JPG')"
      ],
      "metadata": {
        "id": "gYilRNrJdGjL"
      },
      "id": "gYilRNrJdGjL",
      "execution_count": null,
      "outputs": []
    },
    {
      "cell_type": "code",
      "source": [
        "print(len(result_6))\n",
        "\n",
        "counter = Counter(result_6)\n",
        "print(counter['warm'])\n",
        "print(counter['cool'])"
      ],
      "metadata": {
        "colab": {
          "base_uri": "https://localhost:8080/"
        },
        "id": "JlV1ZtIJi72u",
        "outputId": "e255719b-04d9-4fbc-c0a4-15407197f0fc"
      },
      "id": "JlV1ZtIJi72u",
      "execution_count": null,
      "outputs": [
        {
          "output_type": "stream",
          "name": "stdout",
          "text": [
            "2057\n",
            "1881\n",
            "176\n"
          ]
        }
      ]
    },
    {
      "cell_type": "markdown",
      "source": [
        "# LAB + HSV로 웜쿨 분류"
      ],
      "metadata": {
        "id": "Y7BxMWwbBtDv"
      },
      "id": "Y7BxMWwbBtDv"
    },
    {
      "cell_type": "code",
      "source": [
        "from skimage import color\n",
        "\n",
        "criteria_hsv = {\n",
        "    'warm': {'H': list(range(0, 181))},\n",
        "    'cool': {'H': list(range(181, 361))}\n",
        "}\n",
        "\n",
        "def classify_skin_type(pixel):\n",
        "    pixel_hsv = color.rgb2hsv(np.array([pixel])/255.0) # Convert to HSV space\n",
        "    pixel_rgb = pixel\n",
        "\n",
        "    hue = pixel_hsv[0][0]*360  # Convert hue to degree\n",
        "    if hue in criteria_hsv['warm']['H']:\n",
        "        primary_class = 'warm'\n",
        "    else:\n",
        "        primary_class = 'cool'\n",
        "\n",
        "    if primary_class == 'warm':\n",
        "        secondary_class = ['spring', 'fall'][np.argmax([compute_cosine_sim(pixel_rgb, criteria_rgb['spring']),\n",
        "                                                        compute_cosine_sim(pixel_rgb, criteria_rgb['fall'])])]\n",
        "    else:\n",
        "        secondary_class = ['summer', 'winter'][np.argmax([compute_cosine_sim(pixel_rgb, criteria_rgb['summer']),\n",
        "                                                          compute_cosine_sim(pixel_rgb, criteria_rgb['winter'])])]\n",
        "    return primary_class, secondary_class"
      ],
      "metadata": {
        "id": "7-o8-02uict_"
      },
      "id": "7-o8-02uict_",
      "execution_count": null,
      "outputs": []
    },
    {
      "cell_type": "code",
      "source": [
        "detector = MTCNN()\n",
        "\n",
        "def classify_images_file(directory, file_select):\n",
        "    result_labels = []\n",
        "\n",
        "    files = [f for f in os.listdir(directory) if f.endswith(file_select)]\n",
        "    for file in files:\n",
        "        file_path = os.path.join(directory, file)\n",
        "\n",
        "        # Load and resize the image\n",
        "        image = Image.open(file_path).resize((224, 224))\n",
        "        image_np = np.array(image)\n",
        "\n",
        "        # Detect faces in the image\n",
        "        faces = detector.detect_faces(image_np)\n",
        "\n",
        "        # Keep track of the labels\n",
        "        labels_primary = []\n",
        "\n",
        "        for face in faces:\n",
        "            # Get the bounding box of the face\n",
        "            x, y, width, height = face['box']\n",
        "\n",
        "            # Loop over the pixels in the face region\n",
        "            for j in range(y, y + height):\n",
        "                for i in range(x, x + width):\n",
        "                    # Ensure the pixel coordinates are within the bounds of the image\n",
        "                    if j < 0 or i < 0 or j >= image_np.shape[0] or i >= image_np.shape[1]:\n",
        "                        continue\n",
        "\n",
        "                    current_pixel = image_np[j, i]\n",
        "                    primary_class, _ = classify_skin_type(current_pixel)\n",
        "\n",
        "                    # Record the labels\n",
        "                    labels_primary.append(primary_class)\n",
        "\n",
        "        # Get the most common label\n",
        "        primary_label = collections.Counter(labels_primary).most_common(1)[0][0]\n",
        "\n",
        "        result_labels.append(primary_label)\n",
        "\n",
        "    return result_labels"
      ],
      "metadata": {
        "id": "GBxcBvw_Zg7U"
      },
      "id": "GBxcBvw_Zg7U",
      "execution_count": null,
      "outputs": []
    },
    {
      "cell_type": "code",
      "source": [
        "directroy = '/content/drive/MyDrive/Colab Notebooks/AIFFEL/Four_seasons/사계절_연예인 이미지 데이터셋/train data/warm_1'\n",
        "result_labels = classify_images_file(directroy, '.JPG')"
      ],
      "metadata": {
        "id": "O4BjoJwdicfS"
      },
      "id": "O4BjoJwdicfS",
      "execution_count": null,
      "outputs": []
    },
    {
      "cell_type": "code",
      "source": [
        "print(len(result_labels))\n",
        "\n",
        "counter = Counter(result_labels)\n",
        "print(counter['warm'])\n",
        "print(counter['cool'])"
      ],
      "metadata": {
        "colab": {
          "base_uri": "https://localhost:8080/"
        },
        "id": "bvuqmVWxjAW0",
        "outputId": "4c3afa61-b645-4a76-c349-96de632f263b"
      },
      "id": "bvuqmVWxjAW0",
      "execution_count": null,
      "outputs": [
        {
          "output_type": "stream",
          "name": "stdout",
          "text": [
            "368\n",
            "0\n",
            "368\n"
          ]
        }
      ]
    },
    {
      "cell_type": "code",
      "source": [
        "directroy = '/content/drive/MyDrive/Colab Notebooks/AIFFEL/Four_seasons/사계절_연예인 이미지 데이터셋/train data/cool_1'\n",
        "result_labels = classify_images_file(directroy, '.JPG')"
      ],
      "metadata": {
        "id": "J-3c9ZsxsDDT"
      },
      "id": "J-3c9ZsxsDDT",
      "execution_count": null,
      "outputs": []
    },
    {
      "cell_type": "code",
      "source": [
        "print(len(result_labels))\n",
        "\n",
        "counter = Counter(result_labels)\n",
        "print(counter['warm'])\n",
        "print(counter['cool'])"
      ],
      "metadata": {
        "colab": {
          "base_uri": "https://localhost:8080/"
        },
        "id": "7F63gMrzsGCH",
        "outputId": "ecae48fc-b82e-4c28-f455-ea4f9c59867e"
      },
      "id": "7F63gMrzsGCH",
      "execution_count": null,
      "outputs": [
        {
          "output_type": "stream",
          "name": "stdout",
          "text": [
            "161\n",
            "0\n",
            "161\n"
          ]
        }
      ]
    },
    {
      "cell_type": "code",
      "source": [
        "## hsv + lab 모두를 고려한 warm cool 분류\n",
        "from skimage import color\n",
        "\n",
        "def classify_skin_type(pixel):\n",
        "    pixel_lab = color.rgb2lab(np.array([pixel])/255.0) # Convert to LAB space\n",
        "    pixel_hsv = color.rgb2hsv(np.array([pixel])/255.0) # Convert to HSV space\n",
        "    pixel_rgb = pixel\n",
        "\n",
        "    similarities_lab = np.array([compute_cosine_sim(pixel_lab[0], tone) for tone in criteria_lab.values()])\n",
        "    primary_class_lab = ['warm', 'cool'][np.argmax(similarities_lab)]\n",
        "\n",
        "    hue = pixel_hsv[0][0]*360  # Convert hue to degree\n",
        "    primary_class_hsv = 'warm' if hue in criteria_hsv['warm']['H'] else 'cool'\n",
        "\n",
        "    # Voting system\n",
        "    primary_class = primary_class_lab if primary_class_lab == primary_class_hsv else 'unclear'\n",
        "\n",
        "    # ... proceed with secondary classification, which could also incorporate a similar voting system.\n",
        "    return primary_class"
      ],
      "metadata": {
        "id": "pToC21QWjAS_"
      },
      "id": "pToC21QWjAS_",
      "execution_count": null,
      "outputs": []
    },
    {
      "cell_type": "code",
      "source": [
        "detector = MTCNN()\n",
        "\n",
        "def classify_images_file(directory, file_select):\n",
        "    result_labels = []\n",
        "\n",
        "    files = [f for f in os.listdir(directory) if f.endswith(file_select)]\n",
        "    for file in files:\n",
        "        file_path = os.path.join(directory, file)\n",
        "\n",
        "        # Load and resize the image\n",
        "        image = Image.open(file_path).resize((224, 224))\n",
        "        image_np = np.array(image)\n",
        "\n",
        "        # Detect faces in the image\n",
        "        faces = detector.detect_faces(image_np)\n",
        "\n",
        "        # Keep track of the labels\n",
        "        labels_primary = []\n",
        "\n",
        "        for face in faces:\n",
        "            # Get the bounding box of the face\n",
        "            x, y, width, height = face['box']\n",
        "\n",
        "            # Loop over the pixels in the face region\n",
        "            for j in range(y, y + height):\n",
        "                for i in range(x, x + width):\n",
        "                    # Ensure the pixel coordinates are within the bounds of the image\n",
        "                    if j < 0 or i < 0 or j >= image_np.shape[0] or i >= image_np.shape[1]:\n",
        "                        continue\n",
        "\n",
        "                    current_pixel = image_np[j, i]\n",
        "                    primary_class = classify_skin_type(current_pixel)\n",
        "\n",
        "                    # Record the labels\n",
        "                    labels_primary.append(primary_class)\n",
        "\n",
        "        # Get the most common label\n",
        "        primary_label = collections.Counter(labels_primary).most_common(1)[0][0]\n",
        "\n",
        "        result_labels.append(primary_label)\n",
        "\n",
        "    return result_labels"
      ],
      "metadata": {
        "id": "turtfiVGjuyP"
      },
      "id": "turtfiVGjuyP",
      "execution_count": null,
      "outputs": []
    },
    {
      "cell_type": "code",
      "source": [
        "directory = '/content/drive/MyDrive/Colab Notebooks/AIFFEL/Four_seasons/사계절_연예인 이미지 데이터셋/train data/warm_1'\n",
        "result_labels = classify_images_file(directory, '.JPG')"
      ],
      "metadata": {
        "id": "-Wu1I2N4riX2"
      },
      "id": "-Wu1I2N4riX2",
      "execution_count": null,
      "outputs": []
    },
    {
      "cell_type": "code",
      "source": [
        "print(len(result_labels))\n",
        "\n",
        "counter = Counter(result_labels)\n",
        "print(counter['warm'])\n",
        "print(counter['cool'])\n",
        "print(counter['unclear'])"
      ],
      "metadata": {
        "colab": {
          "base_uri": "https://localhost:8080/"
        },
        "id": "gG3VhAuhrx2f",
        "outputId": "1e61ea46-3926-4562-fd6b-8bc75b513ef3"
      },
      "id": "gG3VhAuhrx2f",
      "execution_count": null,
      "outputs": [
        {
          "output_type": "stream",
          "name": "stdout",
          "text": [
            "368\n",
            "0\n",
            "0\n",
            "368\n"
          ]
        }
      ]
    },
    {
      "cell_type": "code",
      "source": [
        "directory = '/content/drive/MyDrive/Colab Notebooks/AIFFEL/Four_seasons/사계절_연예인 이미지 데이터셋/train data/cool_1'\n",
        "result_labels = classify_images_file(directory, '.JPG')"
      ],
      "metadata": {
        "id": "IHova2j5sLuz"
      },
      "id": "IHova2j5sLuz",
      "execution_count": null,
      "outputs": []
    },
    {
      "cell_type": "code",
      "source": [
        "print(len(result_labels))\n",
        "\n",
        "counter = Counter(result_labels)\n",
        "print(counter['warm'])\n",
        "print(counter['cool'])"
      ],
      "metadata": {
        "colab": {
          "base_uri": "https://localhost:8080/"
        },
        "id": "tBUfm5yjsLrm",
        "outputId": "05013fbe-1f76-4e39-f92d-4e706f12fa52"
      },
      "id": "tBUfm5yjsLrm",
      "execution_count": null,
      "outputs": [
        {
          "output_type": "stream",
          "name": "stdout",
          "text": [
            "161\n",
            "0\n",
            "145\n"
          ]
        }
      ]
    },
    {
      "cell_type": "markdown",
      "source": [
        "- 분류 결과 LAB이 가장 잘 분류가 되기 때문에 예정대로웜쿨 분류만 LAB을 이용해서 폴더 분류를 진행하기로 결정함"
      ],
      "metadata": {
        "id": "iQ8igGwk5FOD"
      },
      "id": "iQ8igGwk5FOD"
    },
    {
      "cell_type": "markdown",
      "source": [
        "# 유클리드 거리로 유사도를 구해 퍼스널 컬러 분류"
      ],
      "metadata": {
        "id": "Sft9dMbwewGW"
      },
      "id": "Sft9dMbwewGW"
    },
    {
      "cell_type": "code",
      "source": [
        "def compute_euclidean_dist(v1, v2):\n",
        "    return np.linalg.norm(v1-v2)"
      ],
      "metadata": {
        "id": "-2fCosMRe9d1"
      },
      "id": "-2fCosMRe9d1",
      "execution_count": 4,
      "outputs": []
    },
    {
      "cell_type": "code",
      "source": [
        "# Personal color classification function\n",
        "def classify_skin_type(pixel):\n",
        "    pixel_lab = color.rgb2lab(np.array([pixel])/255.0)\n",
        "    pixel_rgb = pixel\n",
        "    distances_lab = np.array([compute_euclidean_dist(pixel_lab[0], tone) for tone in criteria_lab.values()])\n",
        "    primary_class = ['warm', 'cool'][np.argmin(distances_lab)]\n",
        "\n",
        "    if primary_class == 'warm':\n",
        "        secondary_class = ['spring', 'fall'][np.argmin([compute_euclidean_dist(pixel_rgb, criteria_rgb['spring']),\n",
        "                                                        compute_euclidean_dist(pixel_rgb, criteria_rgb['fall'])])]\n",
        "    else:\n",
        "        secondary_class = ['summer', 'winter'][np.argmin([compute_euclidean_dist(pixel_rgb, criteria_rgb['summer']),\n",
        "                                                          compute_euclidean_dist(pixel_rgb, criteria_rgb['winter'])])]\n",
        "    return primary_class, secondary_class\n"
      ],
      "metadata": {
        "id": "0dZ9HRX5fH2n"
      },
      "id": "0dZ9HRX5fH2n",
      "execution_count": 5,
      "outputs": []
    },
    {
      "cell_type": "code",
      "source": [
        "directory_celeb = '/content/drive/MyDrive/Colab Notebooks/AIFFEL/Four_seasons/사계절_연예인 이미지 데이터셋/Recommendation system/연예인사진'\n",
        "skin_classification(directory_celeb, '.jpg')"
      ],
      "metadata": {
        "id": "_j_i95NNfiQw"
      },
      "id": "_j_i95NNfiQw",
      "execution_count": null,
      "outputs": []
    },
    {
      "cell_type": "code",
      "source": [
        "directory_normal = '/content/drive/MyDrive/Colab Notebooks/AIFFEL/Four_seasons/사계절_연예인 이미지 데이터셋/prototype/라벨링용일반인100장'\n",
        "skin_classification(directory_normal, '.JPG')"
      ],
      "metadata": {
        "id": "a-xNdWQyhWku"
      },
      "id": "a-xNdWQyhWku",
      "execution_count": null,
      "outputs": []
    },
    {
      "cell_type": "code",
      "source": [
        "detector = MTCNN()\n",
        "\n",
        "def classify_images_file(directory, file_select):\n",
        "    result_labels = []\n",
        "\n",
        "    files = [f for f in os.listdir(directory) if f.endswith(file_select)]\n",
        "    for file in files:\n",
        "        file_path = os.path.join(directory, file)\n",
        "\n",
        "        # Load and resize the image\n",
        "        image = Image.open(file_path).resize((224, 224))\n",
        "        image_np = np.array(image)\n",
        "\n",
        "        # Detect faces in the image\n",
        "        faces = detector.detect_faces(image_np)\n",
        "\n",
        "        # Keep track of the labels\n",
        "        labels_primary = []\n",
        "\n",
        "        for face in faces:\n",
        "            # Get the bounding box of the face\n",
        "            x, y, width, height = face['box']\n",
        "\n",
        "            # Loop over the pixels in the face region\n",
        "            for j in range(y, y + height):\n",
        "                for i in range(x, x + width):\n",
        "                    # Ensure the pixel coordinates are within the bounds of the image\n",
        "                    if j < 0 or i < 0 or j >= image_np.shape[0] or i >= image_np.shape[1]:\n",
        "                        continue\n",
        "\n",
        "                    current_pixel = image_np[j, i]\n",
        "                    primary_class, _ = classify_skin_type(current_pixel)\n",
        "\n",
        "                    # Record the labels\n",
        "                    labels_primary.append(primary_class)\n",
        "\n",
        "        # Get the most common label\n",
        "        primary_label = collections.Counter(labels_primary).most_common(1)[0][0]\n",
        "\n",
        "        result_labels.append(primary_label)\n",
        "\n",
        "    return result_labels"
      ],
      "metadata": {
        "id": "790Y9O75LjIR"
      },
      "id": "790Y9O75LjIR",
      "execution_count": 11,
      "outputs": []
    },
    {
      "cell_type": "code",
      "source": [
        "directory = '/content/drive/MyDrive/Colab Notebooks/AIFFEL/Four_seasons/사계절_연예인 이미지 데이터셋/train data/warm_1'\n",
        "result_labels = classify_images_file(directory, '.JPG')\n",
        "result_labels"
      ],
      "metadata": {
        "id": "JYjLTLl1Kmen"
      },
      "id": "JYjLTLl1Kmen",
      "execution_count": null,
      "outputs": []
    },
    {
      "cell_type": "code",
      "source": [
        "print(len(result_labels))\n",
        "\n",
        "counter = Counter(result_labels)\n",
        "print(counter['warm'])\n",
        "print(counter['cool'])"
      ],
      "metadata": {
        "colab": {
          "base_uri": "https://localhost:8080/"
        },
        "id": "YflqFv6JKuO_",
        "outputId": "a148867b-cb9e-4497-f4ef-02632511b0af"
      },
      "id": "YflqFv6JKuO_",
      "execution_count": 13,
      "outputs": [
        {
          "output_type": "stream",
          "name": "stdout",
          "text": [
            "618\n",
            "618\n",
            "0\n"
          ]
        }
      ]
    },
    {
      "cell_type": "code",
      "source": [
        "directory = '/content/drive/MyDrive/Colab Notebooks/AIFFEL/Four_seasons/사계절_연예인 이미지 데이터셋/train data/warm_2'\n",
        "result_labels = classify_images_file(directory, '.JPG')\n",
        "result_labels"
      ],
      "metadata": {
        "id": "9KQ3JyYtStXh"
      },
      "id": "9KQ3JyYtStXh",
      "execution_count": null,
      "outputs": []
    },
    {
      "cell_type": "code",
      "source": [
        "print(len(result_labels))\n",
        "\n",
        "counter = Counter(result_labels)\n",
        "print(counter['warm'])\n",
        "print(counter['cool'])"
      ],
      "metadata": {
        "colab": {
          "base_uri": "https://localhost:8080/"
        },
        "id": "ZiFsjmlsStpn",
        "outputId": "86e360ad-12de-4485-f2d2-1f49567abf6b"
      },
      "id": "ZiFsjmlsStpn",
      "execution_count": 15,
      "outputs": [
        {
          "output_type": "stream",
          "name": "stdout",
          "text": [
            "2187\n",
            "2185\n",
            "2\n"
          ]
        }
      ]
    },
    {
      "cell_type": "code",
      "source": [
        "directory = '/content/drive/MyDrive/Colab Notebooks/AIFFEL/Four_seasons/사계절_연예인 이미지 데이터셋/train data/cool_1'\n",
        "result_labels = classify_images_file(directory, '.JPG')\n",
        "result_labels"
      ],
      "metadata": {
        "id": "Aqw0eTKruenb"
      },
      "id": "Aqw0eTKruenb",
      "execution_count": null,
      "outputs": []
    },
    {
      "cell_type": "code",
      "source": [
        "print(len(result_labels))\n",
        "\n",
        "counter = Counter(result_labels)\n",
        "print(counter['warm'])\n",
        "print(counter['cool'])"
      ],
      "metadata": {
        "colab": {
          "base_uri": "https://localhost:8080/"
        },
        "id": "Mg3xUPu4ueat",
        "outputId": "0c1b9ff3-0864-4ffb-de39-e76c90a10dd8"
      },
      "id": "Mg3xUPu4ueat",
      "execution_count": 17,
      "outputs": [
        {
          "output_type": "stream",
          "name": "stdout",
          "text": [
            "213\n",
            "88\n",
            "125\n"
          ]
        }
      ]
    }
  ],
  "metadata": {
    "kernelspec": {
      "display_name": "Python 3",
      "name": "python3"
    },
    "language_info": {
      "codemirror_mode": {
        "name": "ipython",
        "version": 3
      },
      "file_extension": ".py",
      "mimetype": "text/x-python",
      "name": "python",
      "nbconvert_exporter": "python",
      "pygments_lexer": "ipython3",
      "version": "3.9.7"
    },
    "colab": {
      "provenance": [],
      "gpuType": "T4"
    }
  },
  "nbformat": 4,
  "nbformat_minor": 5
}
