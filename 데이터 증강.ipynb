{
 "cells": [
  {
   "cell_type": "code",
   "execution_count": 3,
   "id": "166d71e8",
   "metadata": {},
   "outputs": [
    {
     "name": "stdout",
     "output_type": "stream",
     "text": [
      "0\n",
      "증강되지 않은 이미지 파일들:\n"
     ]
    }
   ],
   "source": [
    "import os\n",
    "from keras.preprocessing.image import ImageDataGenerator, array_to_img, img_to_array, load_img\n",
    "\n",
    "# ImageDataGenerator를 사용하여 데이터 증강 설정 (이전에 설정한대로 사용)\n",
    "datagen = ImageDataGenerator(\n",
    "    rotation_range=20,\n",
    "    width_shift_range=0.2,\n",
    "    height_shift_range=0.2,\n",
    "    zoom_range=0.2,\n",
    "    horizontal_flip=True,\n",
    "    fill_mode='nearest'\n",
    ")\n",
    "\n",
    "\n",
    "# 원본 이미지 디렉토리\n",
    "image_directory = os.getenv(\"HOME\") + \"/aiffel/project/first-repository/aiffelthon/content/drive/MyDrive/사계절_연예인 이미지 데이터셋/train data/cool_1\"\n",
    "\n",
    "# 증강된 이미지가 저장된 디렉토리\n",
    "augmented_directory = './cool_1_데이터증강3번_4'\n",
    "\n",
    "# 원본 이미지 파일들의 경로를 가져옴\n",
    "original_files = set([f for f in os.listdir(image_directory) if os.path.isfile(os.path.join(image_directory, f))])\n",
    "\n",
    "# 증강된 이미지 파일들의 경로를 가져옴\n",
    "# augmented_files = set([f for f in os.listdir(augmented_directory) if os.path.isfile(os.path.join(augmented_directory, f))])\n",
    "\n",
    "augmented_files = set()\n",
    "\n",
    "for f in os.listdir(augmented_directory):\n",
    "    full_path = os.path.join(augmented_directory, f)\n",
    "    if os.path.isfile(full_path):\n",
    "        augmented_files.add(f)\n",
    "\n",
    "print(len(augmented_files))\n",
    "# print(augmented_files)\n",
    "\n",
    "\n",
    "# 원본 이미지 중 증강된 이미지 파일들을 기록할 리스트\n",
    "augmented_list = []\n",
    "\n",
    "# 각 이미지 파일에 대해 데이터 증강을 적용\n",
    "for image_file in original_files:\n",
    "    img_path = os.path.join(image_directory, image_file)\n",
    "    img = load_img(img_path)\n",
    "    x = img_to_array(img)\n",
    "    x = x.reshape((1,) + x.shape)\n",
    "\n",
    "    augment_count = 1\n",
    "    for batch in datagen.flow(x, batch_size=1, save_to_dir=augmented_directory, save_prefix='aug', save_format='JPG'):\n",
    "        augment_count += 1\n",
    "        if augment_count > 3:  # 각 이미지에 대해 3개의 증강된 이미지를 생성\n",
    "            break\n",
    "    augmented_list.append(image_file)\n",
    "\n",
    "# 원본 이미지 중 증강되지 않은 이미지 파일들을 찾음\n",
    "not_augmented = original_files - set(augmented_list)\n",
    "\n",
    "print(\"증강되지 않은 이미지 파일들:\")\n",
    "for file in not_augmented:\n",
    "    print(file)\n"
   ]
  },
  {
   "cell_type": "code",
   "execution_count": 4,
   "id": "f68799b0",
   "metadata": {},
   "outputs": [
    {
     "data": {
      "text/plain": [
       "695"
      ]
     },
     "execution_count": 4,
     "metadata": {},
     "output_type": "execute_result"
    }
   ],
   "source": [
    "dir_path_c = os.getenv('HOME')+'/aiffel/project/first-repository/aiffelthon/cool_1_데이터증강3번_4' # 디렉토리 경로\n",
    "file_list_c = os.listdir(dir_path_c)\n",
    "len(file_list_c)"
   ]
  }
 ],
 "metadata": {
  "kernelspec": {
   "display_name": "Python 3 (ipykernel)",
   "language": "python",
   "name": "python3"
  },
  "language_info": {
   "codemirror_mode": {
    "name": "ipython",
    "version": 3
   },
   "file_extension": ".py",
   "mimetype": "text/x-python",
   "name": "python",
   "nbconvert_exporter": "python",
   "pygments_lexer": "ipython3",
   "version": "3.9.7"
  }
 },
 "nbformat": 4,
 "nbformat_minor": 5
}
