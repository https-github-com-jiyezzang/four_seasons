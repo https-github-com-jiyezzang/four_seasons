{
 "cells": [
  {
   "cell_type": "markdown",
   "metadata": {
    "id": "8AVfKtODAaL6"
   },
   "source": [
    "# 프로젝트: 퍼스널 컬러 진단 - VGG16\n",
    "\n",
    "## 데이터\n",
    "1. 유명인 웜톤 100장, 쿨톤 100장  \n",
    "2. 일반인 웜톤 490장, 쿨톤 186장  \n",
    "\n",
    "## 목표: VGG16 아키텍처에 퍼스널컬러 적용하기  \n",
    "참고 링크:https://eremo2002.tistory.com/55   \n",
    "\n",
    "## 모델 환경\n",
    "1. VGG16의 마지막 Dense layer 부분은 추가 수정함  \n",
    "2. 이진 분류이지만 웜/쿨 확률 출력을 위하여 softmax(마지막 layer 2개) 사용  \n",
    "3. 2번에 따라서 컴파일은 optimazir = adam, loss = sparse_categorical_corssentropy, metrics = accuracy  "
   ]
  },
  {
   "cell_type": "markdown",
   "metadata": {
    "id": "QKkxomUDLD7B"
   },
   "source": [
    "## (1) 라이브러리 및 데이터 불러오기"
   ]
  },
  {
   "cell_type": "code",
   "execution_count": 1,
   "metadata": {
    "executionInfo": {
     "elapsed": 8847,
     "status": "ok",
     "timestamp": 1690358071355,
     "user": {
      "displayName": "장수빈",
      "userId": "11804786027693854134"
     },
     "user_tz": -540
    },
    "id": "1ryUcA_jHSbt"
   },
   "outputs": [],
   "source": [
    "import tensorflow as tf\n",
    "from tensorflow.keras import layers, models\n",
    "from tensorflow.keras.applications import vgg16\n",
    "\n",
    "import numpy as np\n",
    "import cv2\n",
    "import os\n",
    "import glob\n",
    "from PIL import Image\n",
    "import random"
   ]
  },
  {
   "cell_type": "code",
   "execution_count": 30,
   "metadata": {},
   "outputs": [
    {
     "name": "stdout",
     "output_type": "stream",
     "text": [
      "학습데이터(x_train)의 이미지 개수는 978 입니다.\n",
      "x_train shape: (978, 224, 224, 3)\n",
      "y_train shape: (978,)\n"
     ]
    }
   ],
   "source": [
    "# 1번: warm_1 238 + cool_1 238 = 476\n",
    "# 2번: warm_1 238 + warm_2 336 + cool_1 238 + cool_2 336 = 1148\n",
    "# 3번: warm_1 740 + cool_1 238 = 978\n",
    "# 4번: warm_1 740 + cool_1 238 + warm_2 2307 + cool_2 336 = 3621\n",
    "\n",
    "def load_data(img_path, number_of_data=978):  \n",
    "    # 웜톤 : 0, 쿨톤 : 1\n",
    "    img_size=224\n",
    "    color=3\n",
    "    #이미지 데이터와 라벨(웜톤 : 0, 쿨톤 : 1) 데이터를 담을 행렬(matrix) 영역을 생성합니다.\n",
    "    imgs=np.zeros(number_of_data*img_size*img_size*color,dtype=np.int32).reshape(number_of_data,img_size,img_size,color)\n",
    "    labels=np.zeros(number_of_data,dtype=np.int32)\n",
    "\n",
    "    idx=0    \n",
    "    \n",
    "    warm1_files = list(glob.iglob(img_path + '/warm_1/*.jpg')) + list(glob.iglob(img_path + '/warm_1/*.JPG'))\n",
    "#     warm2_files = list(glob.iglob(img_path + '/warm_2/*.jpg')) + list(glob.iglob(img_path + '/warm_2/*.JPG'))\n",
    "\n",
    "    # 각 디렉토리에서 무작위로 선택\n",
    "    warm1_files = random.sample(warm1_files, 740)\n",
    "#     warm2_files = random.sample(warm2_files, 336)\n",
    "\n",
    "    # 두 리스트를 합침\n",
    "    warm_files = warm1_files \n",
    "#     + warm2_files\n",
    "\n",
    "    for file in warm_files:\n",
    "        img = Image.open(file)  # 이미지 열기\n",
    "        img = img.resize((img_size, img_size))  # 이미지 크기 조정\n",
    "        img = np.array(img, dtype=np.int32)\n",
    "        imgs[idx,:,:,:]=img    # 데이터 영역에 이미지 행렬을 복사\n",
    "        labels[idx]=0   # 웜톤 : 0\n",
    "        idx=idx+1\n",
    "\n",
    "                \n",
    "    cool_files = (list(glob.iglob(img_path + '/cool_1/*.jpg')) + list(glob.iglob(img_path + '/cool_1/*.JPG')))\n",
    "#               + list(glob.iglob(img_path + '/cool_2/*.jpg')) + list(glob.iglob(img_path + '/cool_2/*.JPG')))\n",
    "    \n",
    "    for file in cool_files:\n",
    "        img = Image.open(file)  # 이미지 열기\n",
    "        img = img.resize((img_size, img_size))  # 이미지 크기 조정\n",
    "        img = np.array(img, dtype=np.int32)\n",
    "        imgs[idx,:,:,:]=img    # 데이터 영역에 이미지 행렬을 복사\n",
    "        labels[idx]=1   # 쿨톤 : 1\n",
    "        idx=idx+1  \n",
    "    \n",
    "    print(\"학습데이터(x_train)의 이미지 개수는\", idx,\"입니다.\")\n",
    "    return imgs, labels\n",
    "\n",
    "image_dir_path = os.getenv(\"HOME\") + \"/aiffel/project/first-repository/data/DataSet_final/content/drive/MyDrive/사계절_연예인 이미지 데이터셋/train data\"\n",
    "(x_train, y_train)=load_data(image_dir_path)\n",
    "\n",
    "print(\"x_train shape: {}\".format(x_train.shape))\n",
    "print(\"y_train shape: {}\".format(y_train.shape))"
   ]
  },
  {
   "cell_type": "code",
   "execution_count": 13,
   "metadata": {},
   "outputs": [
    {
     "name": "stdout",
     "output_type": "stream",
     "text": [
      "Found 3621 images belonging to 4 classes.\n"
     ]
    },
    {
     "ename": "NameError",
     "evalue": "name 'input_shape' is not defined",
     "output_type": "error",
     "traceback": [
      "\u001b[0;31m---------------------------------------------------------------------------\u001b[0m",
      "\u001b[0;31mNameError\u001b[0m                                 Traceback (most recent call last)",
      "\u001b[0;32m/tmp/ipykernel_1691/3073881934.py\u001b[0m in \u001b[0;36m<module>\u001b[0;34m\u001b[0m\n\u001b[1;32m     33\u001b[0m \u001b[0;34m\u001b[0m\u001b[0m\n\u001b[1;32m     34\u001b[0m \u001b[0;31m#3. model 생성 후,\u001b[0m\u001b[0;34m\u001b[0m\u001b[0;34m\u001b[0m\u001b[0m\n\u001b[0;32m---> 35\u001b[0;31m \u001b[0minputs\u001b[0m \u001b[0;34m=\u001b[0m \u001b[0mlayers\u001b[0m\u001b[0;34m.\u001b[0m\u001b[0mInput\u001b[0m\u001b[0;34m(\u001b[0m\u001b[0minput_shape\u001b[0m\u001b[0;34m)\u001b[0m\u001b[0;34m\u001b[0m\u001b[0;34m\u001b[0m\u001b[0m\n\u001b[0m\u001b[1;32m     36\u001b[0m \u001b[0mnet\u001b[0m \u001b[0;34m=\u001b[0m \u001b[0mlayers\u001b[0m\u001b[0;34m.\u001b[0m\u001b[0mConv2D\u001b[0m\u001b[0;34m(\u001b[0m\u001b[0;36m32\u001b[0m\u001b[0;34m,\u001b[0m \u001b[0;36m3\u001b[0m\u001b[0;34m,\u001b[0m \u001b[0mpadding\u001b[0m \u001b[0;34m=\u001b[0m \u001b[0;34m'SAME'\u001b[0m\u001b[0;34m)\u001b[0m\u001b[0;34m(\u001b[0m\u001b[0minputs\u001b[0m\u001b[0;34m)\u001b[0m\u001b[0;34m\u001b[0m\u001b[0;34m\u001b[0m\u001b[0m\n\u001b[1;32m     37\u001b[0m \u001b[0mnet\u001b[0m \u001b[0;34m=\u001b[0m \u001b[0mlayers\u001b[0m\u001b[0;34m.\u001b[0m\u001b[0mActivation\u001b[0m\u001b[0;34m(\u001b[0m\u001b[0;34m'relu'\u001b[0m\u001b[0;34m)\u001b[0m\u001b[0;34m(\u001b[0m\u001b[0mnet\u001b[0m\u001b[0;34m)\u001b[0m\u001b[0;34m\u001b[0m\u001b[0;34m\u001b[0m\u001b[0m\n",
      "\u001b[0;31mNameError\u001b[0m: name 'input_shape' is not defined"
     ]
    }
   ],
   "source": [
    "# 0. 필요한 함수 import\n",
    "import os\n",
    "from glob import glob\n",
    "import tensorflow as tf\n",
    "import numpy as np\n",
    "import tensorflow as tf\n",
    "from tensorflow.keras import layers\n",
    "\n",
    "#1. 데이터 파일 경로찾기\n",
    "train_dir = '/aiffel/aiffel/project/first-repository/data/DataSet_final/content/drive/MyDrive/사계절_연예인 이미지 데이터셋/train data'\n",
    "\n",
    "#2. Set Data Generator\n",
    "\n",
    "# Corrected import statement\n",
    "import tensorflow.keras.preprocessing.image\n",
    "from tensorflow.keras.preprocessing.image import ImageDataGenerator\n",
    "\n",
    "#datagenerator 생성\n",
    "train_datagenerator = ImageDataGenerator(\n",
    "\trescale = 1./255.,\n",
    "    width_shift_range = 0.3,\n",
    "    zoom_range = 0.7,\n",
    "    horizontal_flip = True\n",
    ")\n",
    "\n",
    "#train_datagenerator을 train image에 적용\n",
    "train_result = train_datagenerator.flow_from_directory(\n",
    "\ttrain_dir, \n",
    "    batch_size = 42,\n",
    "    class_mode='sparse',  # binary_crossentropy 손실 함수를 사용하므로 binary 형태로 라벨을 불러와야 합니다.\n",
    "    seed = 42\n",
    ")\n",
    "\n",
    "#3. model 생성 후, \n",
    "inputs = layers.Input(input_shape)\n",
    "net = layers.Conv2D(32, 3, padding = 'SAME')(inputs)\n",
    "net = layers.Activation('relu')(net)\n",
    "net = layers.Conv2D(32, 3, padding = 'SAME')(net)\n",
    "net = layers.Activation('relu')(net)\n",
    "net = layers.MaxPooling2D(pool_size = 2)(net)\n",
    "net = layers.Dropout(dropout_rate)(net)\n",
    "\n",
    "net = layers.Conv2D(64, 3, padding = 'SAME')(net)\n",
    "net = layers.Activation('relu')(net)\n",
    "net = layers.Conv2D(64, 3, padding = 'SAME')(net)\n",
    "net = layers.Activation('relu')(net)\n",
    "net = layers.MaxPooling2D(pool_size = 2)(net)\n",
    "net = layers.Dropout(dropout_rate)(net)\n",
    "\n",
    "net = layers.Flatten()(net)\n",
    "net = layers.Dense(512)(net)\n",
    "net = layers.Activation('relu')(net)\n",
    "net = layers.Dense(num_classes)(net)\n",
    "net = layers.Activation('softmax')(net)\n",
    "\n",
    "model = tf.keras.Model(inputs = inputs, outputs = net, name = 'Basic_CNN')\n",
    "\n",
    "model.compile(optimizer = tf.keras.optimizers.Adam(0.0001), #Optimization\n",
    "             loss = 'spars_categorical_crossentropy', #Loss function\n",
    "             metrics = ['accuracy']) #Metrics/Accuracy\n",
    "#4. Training\n",
    "model.fit_generator(\n",
    "    train_generator, \n",
    "    steps_per_epoch = len(train_generator), \n",
    "    epochs = 10)\n",
    "#steps_per_epoch : 한 epoch에 몇 개의 묶음의 이미지(batch)가 epoch에 돌아갈지\n"
   ]
  },
  {
   "cell_type": "markdown",
   "metadata": {
    "id": "JuqZO6xjLPEW"
   },
   "source": [
    "## (2) 데이터 전처리"
   ]
  },
  {
   "cell_type": "code",
   "execution_count": 31,
   "metadata": {
    "colab": {
     "base_uri": "https://localhost:8080/"
    },
    "executionInfo": {
     "elapsed": 23,
     "status": "ok",
     "timestamp": 1690361115987,
     "user": {
      "displayName": "장수빈",
      "userId": "11804786027693854134"
     },
     "user_tz": -540
    },
    "id": "nduCOt1YHSoj",
    "outputId": "b9c21304-a6c6-4641-f3da-3cdc44046328"
   },
   "outputs": [],
   "source": [
    "x_train = x_train / 255.0 #정규화"
   ]
  },
  {
   "cell_type": "markdown",
   "metadata": {
    "id": "dbzMvdvQLR45"
   },
   "source": [
    "## (3) train, val 분리하기"
   ]
  },
  {
   "cell_type": "code",
   "execution_count": 32,
   "metadata": {
    "colab": {
     "base_uri": "https://localhost:8080/"
    },
    "executionInfo": {
     "elapsed": 55,
     "status": "ok",
     "timestamp": 1690361121698,
     "user": {
      "displayName": "장수빈",
      "userId": "11804786027693854134"
     },
     "user_tz": -540
    },
    "id": "oyOgLqgEIidF",
    "outputId": "18cf4f86-ac22-45b3-de2a-e03edc83a971"
   },
   "outputs": [
    {
     "name": "stdout",
     "output_type": "stream",
     "text": [
      "x_train:  (684, 224, 224, 3)\n",
      "y_train:  (684,)\n",
      "x_val:  (294, 224, 224, 3)\n",
      "y_val:  (294,)\n"
     ]
    }
   ],
   "source": [
    "from sklearn.model_selection import train_test_split\n",
    "\n",
    "x_train, x_val, y_train, y_val = train_test_split(x_train,\n",
    "                                                  y_train,\n",
    "                                                  test_size=0.3,\n",
    "                                                  random_state=42)\n",
    "\n",
    "print(\"x_train: \", x_train.shape)\n",
    "print(\"y_train: \", y_train.shape)\n",
    "print(\"x_val: \", x_val.shape)\n",
    "print(\"y_val: \", y_val.shape)"
   ]
  },
  {
   "cell_type": "code",
   "execution_count": 33,
   "metadata": {},
   "outputs": [],
   "source": [
    "# from keras.preprocessing.image import ImageDataGenerator\n",
    "\n",
    "# # 이미지 증강을 위한 ImageDataGenerator 생성\n",
    "# datagen = ImageDataGenerator(\n",
    "#     rescale=1./255, \n",
    "#     rotation_range=20,\n",
    "#     width_shift_range=0.2,\n",
    "#     height_shift_range=0.2,\n",
    "#     zoom_range=0.2,\n",
    "#     horizontal_flip=True,\n",
    "#     fill_mode='nearest'\n",
    "# )\n",
    "\n",
    "# # 증강할 데이터 수 적기\n",
    "# augmented_size = 4000\n",
    "\n",
    "# # 원래 데이터셋으로부터 이미지 증강 적용하여 증강된 이미지를 생성하고 추가\n",
    "# augmented_images = []\n",
    "# augmented_labels = []\n",
    "\n",
    "# # 이미지 증강 적용하여 증강된 이미지를 생성하고 추가\n",
    "# for i in range(augmented_size):\n",
    "#     for x_batch, y_batch in datagen.flow(x_train, y_train, batch_size=len(x_train)):\n",
    "#         augmented_images.append(x_batch)\n",
    "#         augmented_labels.append(y_batch)\n",
    "        \n",
    "\n",
    "# # 증강된 이미지들을 원래 데이터셋에 추가\n",
    "# x_train_augmented = np.concatenate([x_train] + augmented_images, axis=0)\n",
    "# y_train_augmented = np.concatenate([y_train] + augmented_labels, axis=0)\n",
    "\n",
    "# # 최종 증강된 데이터셋의 개수 확인\n",
    "# print(\"최종 증강된 데이터셋 개수:\", len(x_train_augmented))\n",
    "# print(len(augmented_images))"
   ]
  },
  {
   "cell_type": "code",
   "execution_count": 34,
   "metadata": {
    "executionInfo": {
     "elapsed": 3,
     "status": "ok",
     "timestamp": 1690361122476,
     "user": {
      "displayName": "장수빈",
      "userId": "11804786027693854134"
     },
     "user_tz": -540
    },
    "id": "60cskZPQIif3"
   },
   "outputs": [],
   "source": [
    "# 데이터를 텐서로 변환(데이터 증강 시 없어도 되는 코드)\n",
    "# x_train = tf.convert_to_tensor(x_train, dtype=tf.float32)\n",
    "# x_val = tf.convert_to_tensor(x_val, dtype=tf.float32)\n",
    "# y_train = tf.convert_to_tensor(y_train, dtype=tf.int32)\n",
    "# y_val = tf.convert_to_tensor(y_val, dtype=tf.int32)"
   ]
  },
  {
   "cell_type": "markdown",
   "metadata": {
    "id": "7dzDlNR0LViM"
   },
   "source": [
    "## (4) 모델 정의 및 컴파일"
   ]
  },
  {
   "cell_type": "code",
   "execution_count": 51,
   "metadata": {
    "executionInfo": {
     "elapsed": 4571,
     "status": "ok",
     "timestamp": 1690361256475,
     "user": {
      "displayName": "장수빈",
      "userId": "11804786027693854134"
     },
     "user_tz": -540
    },
    "id": "QK2JsubkIiiP",
    "scrolled": false
   },
   "outputs": [
    {
     "name": "stdout",
     "output_type": "stream",
     "text": [
      "Model: \"model_4\"\n",
      "_________________________________________________________________\n",
      "Layer (type)                 Output Shape              Param #   \n",
      "=================================================================\n",
      "input_5 (InputLayer)         [(None, 224, 224, 3)]     0         \n",
      "_________________________________________________________________\n",
      "block1_conv1 (Conv2D)        (None, 224, 224, 64)      1792      \n",
      "_________________________________________________________________\n",
      "block1_conv2 (Conv2D)        (None, 224, 224, 64)      36928     \n",
      "_________________________________________________________________\n",
      "block1_pool (MaxPooling2D)   (None, 112, 112, 64)      0         \n",
      "_________________________________________________________________\n",
      "block2_conv1 (Conv2D)        (None, 112, 112, 128)     73856     \n",
      "_________________________________________________________________\n",
      "block2_conv2 (Conv2D)        (None, 112, 112, 128)     147584    \n",
      "_________________________________________________________________\n",
      "block2_pool (MaxPooling2D)   (None, 56, 56, 128)       0         \n",
      "_________________________________________________________________\n",
      "block3_conv1 (Conv2D)        (None, 56, 56, 256)       295168    \n",
      "_________________________________________________________________\n",
      "block3_conv2 (Conv2D)        (None, 56, 56, 256)       590080    \n",
      "_________________________________________________________________\n",
      "block3_conv3 (Conv2D)        (None, 56, 56, 256)       590080    \n",
      "_________________________________________________________________\n",
      "block3_pool (MaxPooling2D)   (None, 28, 28, 256)       0         \n",
      "_________________________________________________________________\n",
      "block4_conv1 (Conv2D)        (None, 28, 28, 512)       1180160   \n",
      "_________________________________________________________________\n",
      "block4_conv2 (Conv2D)        (None, 28, 28, 512)       2359808   \n",
      "_________________________________________________________________\n",
      "block4_conv3 (Conv2D)        (None, 28, 28, 512)       2359808   \n",
      "_________________________________________________________________\n",
      "block4_pool (MaxPooling2D)   (None, 14, 14, 512)       0         \n",
      "_________________________________________________________________\n",
      "block5_conv1 (Conv2D)        (None, 14, 14, 512)       2359808   \n",
      "_________________________________________________________________\n",
      "block5_conv2 (Conv2D)        (None, 14, 14, 512)       2359808   \n",
      "_________________________________________________________________\n",
      "block5_conv3 (Conv2D)        (None, 14, 14, 512)       2359808   \n",
      "_________________________________________________________________\n",
      "block5_pool (MaxPooling2D)   (None, 7, 7, 512)         0         \n",
      "_________________________________________________________________\n",
      "flatten_4 (Flatten)          (None, 25088)             0         \n",
      "_________________________________________________________________\n",
      "dense_20 (Dense)             (None, 1024)              25691136  \n",
      "_________________________________________________________________\n",
      "dense_21 (Dense)             (None, 514)               526850    \n",
      "_________________________________________________________________\n",
      "dense_22 (Dense)             (None, 64)                32960     \n",
      "_________________________________________________________________\n",
      "dense_23 (Dense)             (None, 32)                2080      \n",
      "_________________________________________________________________\n",
      "dense_24 (Dense)             (None, 2)                 66        \n",
      "=================================================================\n",
      "Total params: 40,967,780\n",
      "Trainable params: 40,967,780\n",
      "Non-trainable params: 0\n",
      "_________________________________________________________________\n"
     ]
    }
   ],
   "source": [
    "from keras.models import Model\n",
    "from keras import Input\n",
    "from keras import optimizers, initializers, regularizers, metrics\n",
    "from tensorflow.keras.layers import Dense, GlobalAveragePooling2D, Flatten\n",
    "from tensorflow.keras.applications import VGG16\n",
    "\n",
    "# VGG16 모델 가져오기\n",
    "vgg_model = VGG16(include_top=False, input_shape=(224, 224, 3))\n",
    "\n",
    "x = Flatten()(vgg_model.output) \n",
    "x = Dense(1024, activation='relu')(x)\n",
    "x = Dense(514, activation='relu')(x)\n",
    "x = Dense(64, activation='relu')(x)\n",
    "x = Dense(32, activation='relu')(x)\n",
    "output = Dense(2, activation='softmax')(x)\n",
    "\n",
    "# 새로운 모델 정의\n",
    "model = tf.keras.models.Model(inputs=vgg_model.input, outputs=output)\n",
    "model.summary()"
   ]
  },
  {
   "cell_type": "code",
   "execution_count": 52,
   "metadata": {
    "executionInfo": {
     "elapsed": 16,
     "status": "ok",
     "timestamp": 1690361256476,
     "user": {
      "displayName": "장수빈",
      "userId": "11804786027693854134"
     },
     "user_tz": -540
    },
    "id": "7TeFqbJ-Iiky"
   },
   "outputs": [],
   "source": [
    "learning_rate = 0.0001\n",
    "\n",
    "adam = tf.keras.optimizers.Adam(learning_rate=learning_rate)\n",
    "early_stopping_callback = tf.keras.callbacks.EarlyStopping(\n",
    "    monitor='val_loss',\n",
    "    patience=10,\n",
    "    verbose=1,\n",
    "    restore_best_weights=True,\n",
    ")\n",
    "\n",
    "model_checkpoint_callback = tf.keras.callbacks.ModelCheckpoint(\n",
    "    './check/VGG16(아키텍처)/3번/3-1/model_{epoch:02d}.h5',\n",
    "    monitor='val_loss',\n",
    "    verbose=1,\n",
    "    save_best_only=True,\n",
    "    save_weights_only=False,\n",
    "    mode='min',\n",
    "    save_freq='epoch',    \n",
    ")\n",
    "# 모델 컴파일\n",
    "model.compile(optimizer= adam,\n",
    "              loss='sparse_categorical_crossentropy', \n",
    "              metrics=['accuracy'])"
   ]
  },
  {
   "cell_type": "markdown",
   "metadata": {
    "id": "cgKOImX7LZSh"
   },
   "source": [
    "## (5) 모델 학습하기"
   ]
  },
  {
   "cell_type": "code",
   "execution_count": 53,
   "metadata": {
    "colab": {
     "base_uri": "https://localhost:8080/"
    },
    "executionInfo": {
     "elapsed": 423314,
     "status": "ok",
     "timestamp": 1690361687293,
     "user": {
      "displayName": "장수빈",
      "userId": "11804786027693854134"
     },
     "user_tz": -540
    },
    "id": "PJRmMrcwASla",
    "outputId": "a8cb0384-ec19-4008-d07d-aeefd60ffed6"
   },
   "outputs": [
    {
     "name": "stdout",
     "output_type": "stream",
     "text": [
      "Epoch 1/50\n",
      "11/11 [==============================] - 53s 3s/step - loss: 0.5993 - accuracy: 0.7602 - val_loss: 0.5814 - val_accuracy: 0.7483\n",
      "\n",
      "Epoch 00001: val_loss improved from inf to 0.58137, saving model to ./check/VGG16(아키텍처)/3번/3-1/model_01.h5\n",
      "Epoch 2/50\n",
      "11/11 [==============================] - 10s 926ms/step - loss: 0.5325 - accuracy: 0.7602 - val_loss: 0.4729 - val_accuracy: 0.7483\n",
      "\n",
      "Epoch 00002: val_loss improved from 0.58137 to 0.47294, saving model to ./check/VGG16(아키텍처)/3번/3-1/model_02.h5\n",
      "Epoch 3/50\n",
      "11/11 [==============================] - 10s 927ms/step - loss: 0.4112 - accuracy: 0.7982 - val_loss: 0.3847 - val_accuracy: 0.8265\n",
      "\n",
      "Epoch 00003: val_loss improved from 0.47294 to 0.38470, saving model to ./check/VGG16(아키텍처)/3번/3-1/model_03.h5\n",
      "Epoch 4/50\n",
      "11/11 [==============================] - 10s 944ms/step - loss: 0.3829 - accuracy: 0.8158 - val_loss: 0.4029 - val_accuracy: 0.8061\n",
      "\n",
      "Epoch 00004: val_loss did not improve from 0.38470\n",
      "Epoch 5/50\n",
      "11/11 [==============================] - 10s 959ms/step - loss: 0.3552 - accuracy: 0.8319 - val_loss: 0.3197 - val_accuracy: 0.8741\n",
      "\n",
      "Epoch 00005: val_loss improved from 0.38470 to 0.31966, saving model to ./check/VGG16(아키텍처)/3번/3-1/model_05.h5\n",
      "Epoch 6/50\n",
      "11/11 [==============================] - 10s 958ms/step - loss: 0.3063 - accuracy: 0.8553 - val_loss: 0.3244 - val_accuracy: 0.8571\n",
      "\n",
      "Epoch 00006: val_loss did not improve from 0.31966\n",
      "Epoch 7/50\n",
      "11/11 [==============================] - 10s 954ms/step - loss: 0.3081 - accuracy: 0.8640 - val_loss: 0.4128 - val_accuracy: 0.8435\n",
      "\n",
      "Epoch 00007: val_loss did not improve from 0.31966\n",
      "Epoch 8/50\n",
      "11/11 [==============================] - 10s 947ms/step - loss: 0.2781 - accuracy: 0.8743 - val_loss: 0.2482 - val_accuracy: 0.9048\n",
      "\n",
      "Epoch 00008: val_loss improved from 0.31966 to 0.24821, saving model to ./check/VGG16(아키텍처)/3번/3-1/model_08.h5\n",
      "Epoch 9/50\n",
      "11/11 [==============================] - 10s 939ms/step - loss: 0.2493 - accuracy: 0.8743 - val_loss: 0.3815 - val_accuracy: 0.8163\n",
      "\n",
      "Epoch 00009: val_loss did not improve from 0.24821\n",
      "Epoch 10/50\n",
      "11/11 [==============================] - 10s 936ms/step - loss: 0.2238 - accuracy: 0.8947 - val_loss: 0.2361 - val_accuracy: 0.9116\n",
      "\n",
      "Epoch 00010: val_loss improved from 0.24821 to 0.23605, saving model to ./check/VGG16(아키텍처)/3번/3-1/model_10.h5\n",
      "Epoch 11/50\n",
      "11/11 [==============================] - 10s 949ms/step - loss: 0.1671 - accuracy: 0.9474 - val_loss: 0.2390 - val_accuracy: 0.9082\n",
      "\n",
      "Epoch 00011: val_loss did not improve from 0.23605\n",
      "Epoch 12/50\n",
      "11/11 [==============================] - 10s 948ms/step - loss: 0.1364 - accuracy: 0.9430 - val_loss: 0.2616 - val_accuracy: 0.8878\n",
      "\n",
      "Epoch 00012: val_loss did not improve from 0.23605\n",
      "Epoch 13/50\n",
      "11/11 [==============================] - 10s 952ms/step - loss: 0.1172 - accuracy: 0.9518 - val_loss: 0.3234 - val_accuracy: 0.8639\n",
      "\n",
      "Epoch 00013: val_loss did not improve from 0.23605\n",
      "Epoch 14/50\n",
      "11/11 [==============================] - 10s 953ms/step - loss: 0.1555 - accuracy: 0.9269 - val_loss: 0.3493 - val_accuracy: 0.8810\n",
      "\n",
      "Epoch 00014: val_loss did not improve from 0.23605\n",
      "Epoch 15/50\n",
      "11/11 [==============================] - 10s 948ms/step - loss: 0.0936 - accuracy: 0.9591 - val_loss: 0.4860 - val_accuracy: 0.8537\n",
      "\n",
      "Epoch 00015: val_loss did not improve from 0.23605\n",
      "Epoch 16/50\n",
      "11/11 [==============================] - 10s 946ms/step - loss: 0.1069 - accuracy: 0.9576 - val_loss: 0.3484 - val_accuracy: 0.8673\n",
      "\n",
      "Epoch 00016: val_loss did not improve from 0.23605\n",
      "Epoch 17/50\n",
      "11/11 [==============================] - 10s 944ms/step - loss: 0.0562 - accuracy: 0.9722 - val_loss: 0.4804 - val_accuracy: 0.8946\n",
      "\n",
      "Epoch 00017: val_loss did not improve from 0.23605\n",
      "Epoch 18/50\n",
      "11/11 [==============================] - 10s 947ms/step - loss: 0.0803 - accuracy: 0.9649 - val_loss: 0.5217 - val_accuracy: 0.8469\n",
      "\n",
      "Epoch 00018: val_loss did not improve from 0.23605\n",
      "Epoch 19/50\n",
      "11/11 [==============================] - 10s 945ms/step - loss: 0.0564 - accuracy: 0.9781 - val_loss: 0.4163 - val_accuracy: 0.8844\n",
      "\n",
      "Epoch 00019: val_loss did not improve from 0.23605\n",
      "Epoch 20/50\n",
      "11/11 [==============================] - 10s 949ms/step - loss: 0.0331 - accuracy: 0.9927 - val_loss: 0.4940 - val_accuracy: 0.8912\n",
      "\n",
      "Epoch 00020: val_loss did not improve from 0.23605\n",
      "Restoring model weights from the end of the best epoch.\n",
      "Epoch 00020: early stopping\n"
     ]
    }
   ],
   "source": [
    "history = model.fit(x_train, y_train,\n",
    "                    batch_size=64,\n",
    "                    epochs=50,\n",
    "                    validation_data=(x_val, y_val),\n",
    "                   callbacks=[model_checkpoint_callback, early_stopping_callback])"
   ]
  },
  {
   "cell_type": "markdown",
   "metadata": {
    "id": "eMj_vDU5LgcK"
   },
   "source": [
    "## (6) 예측하기"
   ]
  },
  {
   "cell_type": "code",
   "execution_count": 54,
   "metadata": {},
   "outputs": [
    {
     "data": {
      "image/png": "[encoded data removed]",
      "text/plain": [
       "<Figure size 432x288 with 1 Axes>"
      ]
     },
     "metadata": {
      "needs_background": "light"
     },
     "output_type": "display_data"
    },
    {
     "data": {
      "image/png": "[encoded data removed]",
      "text/plain": [
       "<Figure size 432x288 with 1 Axes>"
      ]
     },
     "metadata": {
      "needs_background": "light"
     },
     "output_type": "display_data"
    }
   ],
   "source": [
    "import matplotlib.pyplot as plt\n",
    "\n",
    "# 정확도 시각화\n",
    "plt.plot(history.history['accuracy'])\n",
    "plt.plot(history.history['val_accuracy'])\n",
    "plt.title('Model accuracy')\n",
    "plt.xlabel('Epoch')\n",
    "plt.ylabel('Accuracy')\n",
    "plt.legend(['Train', 'Validation'], loc='upper left')\n",
    "plt.show()\n",
    "\n",
    "# 손실값 시각화\n",
    "plt.plot(history.history['loss'])\n",
    "plt.plot(history.history['val_loss'])\n",
    "plt.title('Model loss')\n",
    "plt.xlabel('Epoch')\n",
    "plt.ylabel('Loss')\n",
    "plt.legend(['Train', 'Validation'], loc='upper left')\n",
    "plt.show()"
   ]
  },
  {
   "cell_type": "code",
   "execution_count": 55,
   "metadata": {},
   "outputs": [],
   "source": [
    "# checkpoint로 저장한 모델 불러올 때\n",
    "from tensorflow.keras.models import load_model\n",
    "\n",
    "# 체크포인트 파일의 경로를 지정합니다.\n",
    "checkpoint_filepath = './check/VGG16(아키텍처)/3번/3-1/model_10.h5'\n",
    "\n",
    "# 체크포인트에 저장된 모델을 로드합니다.\n",
    "model = load_model(checkpoint_filepath)\n",
    "\n",
    "pred = model.predict(x_val)\n",
    "pred_class = np.argmax(pred, axis=1)"
   ]
  },
  {
   "cell_type": "code",
   "execution_count": 56,
   "metadata": {},
   "outputs": [
    {
     "data": {
      "image/png": "[encoded data removed]",
      "text/plain": [
       "<Figure size 360x360 with 2 Axes>"
      ]
     },
     "metadata": {
      "needs_background": "light"
     },
     "output_type": "display_data"
    }
   ],
   "source": [
    "from sklearn.metrics import confusion_matrix\n",
    "import seaborn as sns\n",
    "import matplotlib.pyplot as plt\n",
    "\n",
    "# confusion matrix 생성\n",
    "cm = confusion_matrix(y_val, pred_class)\n",
    "\n",
    "# confusion matrix 출력\n",
    "plt.figure(figsize=(5,5))\n",
    "sns.heatmap(cm, annot=True, fmt=\"d\")\n",
    "plt.title('Confusion matrix')\n",
    "plt.ylabel('Actual label')\n",
    "plt.xlabel('Predicted label')\n",
    "plt.show()"
   ]
  },
  {
   "cell_type": "code",
   "execution_count": 57,
   "metadata": {
    "colab": {
     "base_uri": "https://localhost:8080/"
    },
    "executionInfo": {
     "elapsed": 32,
     "status": "ok",
     "timestamp": 1690361718871,
     "user": {
      "displayName": "장수빈",
      "userId": "11804786027693854134"
     },
     "user_tz": -540
    },
    "id": "Wtr35C-CATKt",
    "outputId": "8dd8d144-26b0-4f7c-b53a-bd76f51974c7"
   },
   "outputs": [
    {
     "name": "stdout",
     "output_type": "stream",
     "text": [
      "[0 0 0 1 0 0 1 0 0 0 1 0 0 0 1 0 0 0 0 0 0 0 1 0 0 0 0 1 0 0 0 0 0 0 1 0 1\n",
      " 1 1 0 0 0 0 0 0 0 0 0 0 0 1 0 0 1 0 0 0 0 0 0 0 0 0 0 0 1 0 0 1 1 0 0 0 0\n",
      " 0 0 1 1 0 0 0 0 0 0 1 0 0 0 0 1 0 0 0 1 0 1 0 1 1 0 0 0 0 1 1 0 0 0 0 1 0\n",
      " 0 0 1 0 0 1 1 0 1 0 0 0 0 0 0 0 0 0 0 1 0 0 1 0 0 1 0 0 0 0 0 1 1 0 0 1 0\n",
      " 0 0 0 0 0 0 1 1 0 0 0 0 1 1 0 0 0 0 0 0 0 0 0 1 0 0 0 0 0 0 0 1 0 0 0 1 0\n",
      " 0 1 0 0 0 1 0 0 0 1 1 1 1 0 0 0 0 0 0 0 0 0 0 0 1 0 1 1 0 0 0 1 0 0 0 0 0\n",
      " 1 0 1 0 0 1 0 0 1 0 0 0 0 0 0 0 1 0 1 1 0 0 0 0 0 0 0 0 0 0 0 0 0 0 0 0 0\n",
      " 0 1 0 0 0 1 0 1 0 0 0 0 0 1 0 0 0 0 0 1 0 1 0 1 0 1 0 1 0 1 0 0 1 0 1]\n",
      "[0 0 0 1 0 0 1 0 0 0 1 0 0 0 1 0 0 0 1 0 0 0 1 0 0 0 1 1 0 0 0 0 0 0 0 0 1\n",
      " 1 1 0 0 0 0 0 0 0 0 0 0 0 1 0 0 1 0 0 1 0 0 0 0 0 0 0 0 0 0 0 0 1 0 0 0 0\n",
      " 0 0 1 1 0 0 0 1 0 0 1 0 1 0 0 0 0 0 0 1 0 1 0 1 0 0 0 0 0 1 1 0 0 0 0 1 0\n",
      " 0 0 1 0 1 1 1 1 1 0 0 0 0 0 0 0 0 0 0 1 0 0 0 0 0 1 0 0 0 0 0 1 1 0 0 1 0\n",
      " 0 0 0 0 0 0 1 1 0 0 0 0 1 1 0 0 0 0 0 0 0 0 1 1 0 0 0 0 0 0 0 1 0 0 1 1 0\n",
      " 0 1 0 0 0 1 0 1 0 1 1 1 1 0 0 0 0 0 0 0 0 0 0 0 0 0 1 1 0 0 0 1 0 0 0 0 0\n",
      " 1 0 0 0 0 0 0 0 1 0 0 0 0 0 1 0 1 0 1 1 0 0 0 0 0 0 0 0 0 0 0 0 0 0 0 0 0\n",
      " 0 1 0 0 0 1 0 1 0 0 0 0 0 1 0 1 0 0 0 1 0 1 0 0 0 0 0 1 1 1 1 0 1 0 0]\n",
      "[[9.90075529e-01 9.92447697e-03]\n",
      " [9.97110844e-01 2.88914028e-03]\n",
      " [9.51075435e-01 4.89245653e-02]\n",
      " [1.57975599e-01 8.42024386e-01]\n",
      " [6.66054428e-01 3.33945602e-01]\n",
      " [9.96810257e-01 3.18967667e-03]\n",
      " [3.40844721e-01 6.59155309e-01]\n",
      " [8.74319792e-01 1.25680193e-01]\n",
      " [6.79702520e-01 3.20297450e-01]\n",
      " [9.82035279e-01 1.79647543e-02]\n",
      " [9.07236934e-02 9.09276366e-01]\n",
      " [9.96391118e-01 3.60890641e-03]\n",
      " [9.97757614e-01 2.24239635e-03]\n",
      " [8.35647225e-01 1.64352804e-01]\n",
      " [8.74457359e-02 9.12554324e-01]\n",
      " [9.93889928e-01 6.11011172e-03]\n",
      " [9.90634441e-01 9.36563686e-03]\n",
      " [9.77344096e-01 2.26558987e-02]\n",
      " [7.46354997e-01 2.53644943e-01]\n",
      " [9.96289372e-01 3.71065200e-03]\n",
      " [9.93225038e-01 6.77498896e-03]\n",
      " [5.11824787e-01 4.88175213e-01]\n",
      " [4.60113227e-01 5.39886773e-01]\n",
      " [7.65162230e-01 2.34837830e-01]\n",
      " [6.84549212e-01 3.15450758e-01]\n",
      " [8.85026991e-01 1.14972956e-01]\n",
      " [7.98591197e-01 2.01408774e-01]\n",
      " [3.32632542e-01 6.67367458e-01]\n",
      " [9.96790707e-01 3.20932991e-03]\n",
      " [9.96874928e-01 3.12502356e-03]\n",
      " [6.65057182e-01 3.34942788e-01]\n",
      " [9.94163096e-01 5.83690545e-03]\n",
      " [9.84876394e-01 1.51235806e-02]\n",
      " [9.96135235e-01 3.86481709e-03]\n",
      " [2.03446224e-01 7.96553731e-01]\n",
      " [8.85251224e-01 1.14748798e-01]\n",
      " [2.35416472e-01 7.64583528e-01]\n",
      " [1.23512700e-01 8.76487374e-01]\n",
      " [3.14953357e-01 6.85046613e-01]\n",
      " [7.91188896e-01 2.08811119e-01]\n",
      " [5.02249479e-01 4.97750551e-01]\n",
      " [9.85256195e-01 1.47438031e-02]\n",
      " [9.74486172e-01 2.55137812e-02]\n",
      " [8.49136531e-01 1.50863409e-01]\n",
      " [9.95145261e-01 4.85468004e-03]\n",
      " [8.89573812e-01 1.10426225e-01]\n",
      " [9.98932540e-01 1.06748578e-03]\n",
      " [9.96703088e-01 3.29692732e-03]\n",
      " [9.85442281e-01 1.45576997e-02]\n",
      " [9.74730313e-01 2.52697393e-02]\n",
      " [6.81750178e-02 9.31824982e-01]\n",
      " [9.96510088e-01 3.48986872e-03]\n",
      " [9.95877028e-01 4.12296597e-03]\n",
      " [9.33554173e-02 9.06644642e-01]\n",
      " [9.81982172e-01 1.80178117e-02]\n",
      " [9.63583350e-01 3.64166573e-02]\n",
      " [9.81008768e-01 1.89912822e-02]\n",
      " [9.92526770e-01 7.47326342e-03]\n",
      " [9.85489547e-01 1.45104732e-02]\n",
      " [9.93077397e-01 6.92265900e-03]\n",
      " [9.93852615e-01 6.14734041e-03]\n",
      " [7.66511023e-01 2.33488977e-01]\n",
      " [9.94240284e-01 5.75971138e-03]\n",
      " [9.98971701e-01 1.02827942e-03]\n",
      " [9.78578508e-01 2.14214940e-02]\n",
      " [2.09669948e-01 7.90330112e-01]\n",
      " [9.95718300e-01 4.28174250e-03]\n",
      " [9.73886430e-01 2.61135437e-02]\n",
      " [1.14403449e-01 8.85596573e-01]\n",
      " [9.44770053e-02 9.05522943e-01]\n",
      " [9.89939034e-01 1.00609949e-02]\n",
      " [8.43469858e-01 1.56530172e-01]\n",
      " [9.37314749e-01 6.26852661e-02]\n",
      " [9.93732750e-01 6.26722025e-03]\n",
      " [9.97717023e-01 2.28303578e-03]\n",
      " [9.97880220e-01 2.11983710e-03]\n",
      " [3.00435632e-01 6.99564397e-01]\n",
      " [3.52987319e-01 6.47012651e-01]\n",
      " [9.86793101e-01 1.32068917e-02]\n",
      " [9.91850674e-01 8.14936217e-03]\n",
      " [9.77729142e-01 2.22709198e-02]\n",
      " [9.62272763e-01 3.77272069e-02]\n",
      " [8.55480313e-01 1.44519731e-01]\n",
      " [9.95426714e-01 4.57327580e-03]\n",
      " [6.47794157e-02 9.35220599e-01]\n",
      " [8.37327480e-01 1.62672535e-01]\n",
      " [8.79311025e-01 1.20688930e-01]\n",
      " [9.98282790e-01 1.71718991e-03]\n",
      " [9.94997501e-01 5.00244601e-03]\n",
      " [2.37388417e-01 7.62611568e-01]\n",
      " [9.92817521e-01 7.18244584e-03]\n",
      " [9.95744765e-01 4.25524125e-03]\n",
      " [9.93123472e-01 6.87658694e-03]\n",
      " [1.00891039e-01 8.99109006e-01]\n",
      " [9.79612052e-01 2.03878954e-02]\n",
      " [6.74717948e-02 9.32528198e-01]\n",
      " [5.44091523e-01 4.55908507e-01]\n",
      " [9.58059654e-02 9.04194057e-01]\n",
      " [4.02696192e-01 5.97303808e-01]\n",
      " [9.72498298e-01 2.75017302e-02]\n",
      " [9.30396378e-01 6.96036369e-02]\n",
      " [9.87290442e-01 1.27095450e-02]\n",
      " [9.28108156e-01 7.18918219e-02]\n",
      " [1.49862319e-01 8.50137711e-01]\n",
      " [1.06702209e-01 8.93297851e-01]\n",
      " [9.84688222e-01 1.53117748e-02]\n",
      " [9.75028872e-01 2.49711052e-02]\n",
      " [9.91563559e-01 8.43637623e-03]\n",
      " [9.94658649e-01 5.34135522e-03]\n",
      " [3.10814325e-02 9.68918562e-01]\n",
      " [9.79044378e-01 2.09556296e-02]\n",
      " [5.71873069e-01 4.28126901e-01]\n",
      " [9.92616594e-01 7.38332374e-03]\n",
      " [1.40293464e-01 8.59706521e-01]\n",
      " [9.90508080e-01 9.49187111e-03]\n",
      " [7.33693659e-01 2.66306370e-01]\n",
      " [3.98731157e-02 9.60126817e-01]\n",
      " [2.22173125e-01 7.77826905e-01]\n",
      " [5.71397483e-01 4.28602517e-01]\n",
      " [3.44203442e-01 6.55796587e-01]\n",
      " [9.94776368e-01 5.22358343e-03]\n",
      " [9.30015206e-01 6.99847564e-02]\n",
      " [9.80346143e-01 1.96539108e-02]\n",
      " [8.02115858e-01 1.97884127e-01]\n",
      " [9.91319597e-01 8.68041255e-03]\n",
      " [6.27555072e-01 3.72444868e-01]\n",
      " [7.48313189e-01 2.51686811e-01]\n",
      " [9.98473704e-01 1.52628846e-03]\n",
      " [9.78339672e-01 2.16603242e-02]\n",
      " [9.98041630e-01 1.95833039e-03]\n",
      " [1.90163672e-01 8.09836328e-01]\n",
      " [8.86863172e-01 1.13136806e-01]\n",
      " [9.97832716e-01 2.16726167e-03]\n",
      " [4.78442520e-01 5.21557510e-01]\n",
      " [9.81405973e-01 1.85940545e-02]\n",
      " [9.96744514e-01 3.25550581e-03]\n",
      " [1.63873211e-01 8.36126804e-01]\n",
      " [9.99358237e-01 6.41811173e-04]\n",
      " [9.98331249e-01 1.66876067e-03]\n",
      " [6.76061511e-01 3.23938519e-01]\n",
      " [9.73649979e-01 2.63500400e-02]\n",
      " [9.96244848e-01 3.75511404e-03]\n",
      " [1.57355428e-01 8.42644632e-01]\n",
      " [8.90125856e-02 9.10987437e-01]\n",
      " [7.77445257e-01 2.22554773e-01]\n",
      " [9.93118525e-01 6.88150898e-03]\n",
      " [4.71907675e-01 5.28092325e-01]\n",
      " [9.73496318e-01 2.65036840e-02]\n",
      " [9.97866452e-01 2.13355245e-03]\n",
      " [9.98083830e-01 1.91614521e-03]\n",
      " [9.94967639e-01 5.03239501e-03]\n",
      " [9.93329823e-01 6.67009642e-03]\n",
      " [9.94906425e-01 5.09366253e-03]\n",
      " [9.96697307e-01 3.30274575e-03]\n",
      " [6.23471178e-02 9.37652826e-01]\n",
      " [3.96270640e-02 9.60372925e-01]\n",
      " [9.87403274e-01 1.25967767e-02]\n",
      " [9.97921526e-01 2.07849173e-03]\n",
      " [9.98685658e-01 1.31433399e-03]\n",
      " [9.96160865e-01 3.83911910e-03]\n",
      " [1.65431827e-01 8.34568202e-01]\n",
      " [5.81708699e-02 9.41829085e-01]\n",
      " [9.94101346e-01 5.89858741e-03]\n",
      " [9.66870606e-01 3.31293717e-02]\n",
      " [7.55638003e-01 2.44362041e-01]\n",
      " [8.86785030e-01 1.13214917e-01]\n",
      " [9.65374053e-01 3.46259549e-02]\n",
      " [9.99191463e-01 8.08520708e-04]\n",
      " [9.98583913e-01 1.41608634e-03]\n",
      " [8.82910728e-01 1.17089324e-01]\n",
      " [9.23488855e-01 7.65111148e-02]\n",
      " [4.62591410e-01 5.37408590e-01]\n",
      " [8.33069623e-01 1.66930318e-01]\n",
      " [8.89527023e-01 1.10473037e-01]\n",
      " [9.86051917e-01 1.39480485e-02]\n",
      " [9.99131382e-01 8.68648698e-04]\n",
      " [9.83079553e-01 1.69204734e-02]\n",
      " [9.94784772e-01 5.21525228e-03]\n",
      " [9.98668432e-01 1.33154891e-03]\n",
      " [2.07573563e-01 7.92426407e-01]\n",
      " [9.96264517e-01 3.73551436e-03]\n",
      " [9.57046032e-01 4.29539531e-02]\n",
      " [6.78652346e-01 3.21347654e-01]\n",
      " [5.20633794e-02 9.47936654e-01]\n",
      " [9.88364220e-01 1.16357626e-02]\n",
      " [9.96999562e-01 3.00039793e-03]\n",
      " [2.47725829e-01 7.52274215e-01]\n",
      " [6.15527213e-01 3.84472817e-01]\n",
      " [9.41658139e-01 5.83418459e-02]\n",
      " [9.64116931e-01 3.58830132e-02]\n",
      " [6.88077211e-02 9.31192219e-01]\n",
      " [9.97231424e-01 2.76856986e-03]\n",
      " [5.69656074e-01 4.30343986e-01]\n",
      " [9.97817874e-01 2.18214747e-03]\n",
      " [4.57821846e-01 5.42178154e-01]\n",
      " [3.99130195e-01 6.00869775e-01]\n",
      " [2.19987333e-02 9.78001237e-01]\n",
      " [1.02093808e-01 8.97906244e-01]\n",
      " [9.77968991e-01 2.20309906e-02]\n",
      " [9.63599503e-01 3.64005081e-02]\n",
      " [9.60940957e-01 3.90591063e-02]\n",
      " [9.89485323e-01 1.05146887e-02]\n",
      " [6.70222878e-01 3.29777122e-01]\n",
      " [9.90979731e-01 9.02027171e-03]\n",
      " [7.67714977e-01 2.32285053e-01]\n",
      " [9.91656184e-01 8.34377948e-03]\n",
      " [9.48619902e-01 5.13800569e-02]\n",
      " [8.98477018e-01 1.01522982e-01]\n",
      " [9.90463078e-01 9.53689218e-03]\n",
      " [4.30211514e-01 5.69788456e-01]\n",
      " [9.99072194e-01 9.27739311e-04]\n",
      " [2.76161581e-01 7.23838449e-01]\n",
      " [4.00483124e-02 9.59951699e-01]\n",
      " [9.97737288e-01 2.26275320e-03]\n",
      " [7.01130629e-01 2.98869342e-01]\n",
      " [9.96490419e-01 3.50960880e-03]\n",
      " [1.58478692e-01 8.41521382e-01]\n",
      " [9.95840192e-01 4.15981514e-03]\n",
      " [9.83341396e-01 1.66586265e-02]\n",
      " [9.99389172e-01 6.10842952e-04]\n",
      " [9.85147417e-01 1.48525722e-02]\n",
      " [9.97194767e-01 2.80522439e-03]\n",
      " [8.28458294e-02 9.17154193e-01]\n",
      " [9.97188270e-01 2.81174132e-03]\n",
      " [3.17249417e-01 6.82750583e-01]\n",
      " [9.70544159e-01 2.94558350e-02]\n",
      " [9.94480968e-01 5.51906973e-03]\n",
      " [3.05277973e-01 6.94722056e-01]\n",
      " [9.97345865e-01 2.65411823e-03]\n",
      " [9.14292216e-01 8.57078210e-02]\n",
      " [1.47193164e-01 8.52806807e-01]\n",
      " [9.98636425e-01 1.36351876e-03]\n",
      " [9.93281126e-01 6.71887025e-03]\n",
      " [9.94465888e-01 5.53418044e-03]\n",
      " [9.97568905e-01 2.43110373e-03]\n",
      " [6.84729218e-01 3.15270782e-01]\n",
      " [5.53758740e-01 4.46241230e-01]\n",
      " [9.97250855e-01 2.74911453e-03]\n",
      " [1.29174516e-01 8.70825469e-01]\n",
      " [9.74162877e-01 2.58371327e-02]\n",
      " [8.91606584e-02 9.10839319e-01]\n",
      " [1.79942161e-01 8.20057869e-01]\n",
      " [9.99123991e-01 8.76057311e-04]\n",
      " [9.96861339e-01 3.13867396e-03]\n",
      " [9.81213033e-01 1.87870078e-02]\n",
      " [9.96616900e-01 3.38316243e-03]\n",
      " [9.96640325e-01 3.35970637e-03]\n",
      " [9.97165382e-01 2.83458037e-03]\n",
      " [9.58137393e-01 4.18626219e-02]\n",
      " [9.89415407e-01 1.05845816e-02]\n",
      " [9.80896473e-01 1.91035271e-02]\n",
      " [9.72211361e-01 2.77886130e-02]\n",
      " [9.98079538e-01 1.92049833e-03]\n",
      " [9.98643935e-01 1.35612348e-03]\n",
      " [5.75388074e-01 4.24611956e-01]\n",
      " [7.85837233e-01 2.14162827e-01]\n",
      " [9.93179679e-01 6.82037510e-03]\n",
      " [9.89711106e-01 1.02889426e-02]\n",
      " [6.96107447e-01 3.03892553e-01]\n",
      " [9.60643828e-01 3.93561199e-02]\n",
      " [2.70275801e-01 7.29724169e-01]\n",
      " [9.43537295e-01 5.64627461e-02]\n",
      " [9.75000143e-01 2.49998569e-02]\n",
      " [9.90979731e-01 9.02027171e-03]\n",
      " [1.59858540e-01 8.40141416e-01]\n",
      " [9.73742068e-01 2.62578800e-02]\n",
      " [3.24481666e-01 6.75518394e-01]\n",
      " [9.97931242e-01 2.06870539e-03]\n",
      " [9.96272683e-01 3.72732640e-03]\n",
      " [9.98414874e-01 1.58507144e-03]\n",
      " [9.98137593e-01 1.86244259e-03]\n",
      " [9.81166065e-01 1.88339502e-02]\n",
      " [3.97164553e-01 6.02835417e-01]\n",
      " [9.69178677e-01 3.08212414e-02]\n",
      " [5.01221240e-01 4.98778760e-01]\n",
      " [9.90193665e-01 9.80626047e-03]\n",
      " [9.83630538e-01 1.63694769e-02]\n",
      " [9.83552039e-01 1.64479446e-02]\n",
      " [6.97285607e-02 9.30271387e-01]\n",
      " [9.86968100e-01 1.30319241e-02]\n",
      " [6.08619750e-02 9.39137995e-01]\n",
      " [5.99541962e-01 4.00457978e-01]\n",
      " [1.63764790e-01 8.36235166e-01]\n",
      " [7.01577783e-01 2.98422188e-01]\n",
      " [3.07298034e-01 6.92701995e-01]\n",
      " [9.87218499e-01 1.27814421e-02]\n",
      " [2.42172718e-01 7.57827222e-01]\n",
      " [9.80101824e-01 1.98982209e-02]\n",
      " [1.95785597e-01 8.04214358e-01]\n",
      " [6.60238445e-01 3.39761525e-01]\n",
      " [6.54558361e-01 3.45441639e-01]\n",
      " [4.67278026e-02 9.53272164e-01]\n",
      " [9.90149975e-01 9.85008385e-03]\n",
      " [3.03716779e-01 6.96283221e-01]]\n"
     ]
    }
   ],
   "source": [
    "print(pred_class)\n",
    "print(y_val)\n",
    "print(pred)"
   ]
  },
  {
   "cell_type": "code",
   "execution_count": 58,
   "metadata": {
    "colab": {
     "base_uri": "https://localhost:8080/"
    },
    "executionInfo": {
     "elapsed": 30,
     "status": "ok",
     "timestamp": 1690361718872,
     "user": {
      "displayName": "장수빈",
      "userId": "11804786027693854134"
     },
     "user_tz": -540
    },
    "id": "1Ui06FtGATM_",
    "outputId": "a5dfb3ad-2402-415d-bc4e-9411a0a7afbc"
   },
   "outputs": [
    {
     "name": "stdout",
     "output_type": "stream",
     "text": [
      "accuracy: 0.911565\n"
     ]
    }
   ],
   "source": [
    "acc = np.mean(pred_class == y_val)\n",
    "print('accuracy: %f' % (acc,))"
   ]
  },
  {
   "cell_type": "code",
   "execution_count": 59,
   "metadata": {
    "scrolled": false
   },
   "outputs": [
    {
     "name": "stdout",
     "output_type": "stream",
     "text": [
      "              precision    recall  f1-score   support\n",
      "\n",
      "           0       0.94      0.95      0.94       220\n",
      "           1       0.83      0.81      0.82        74\n",
      "\n",
      "    accuracy                           0.91       294\n",
      "   macro avg       0.89      0.88      0.88       294\n",
      "weighted avg       0.91      0.91      0.91       294\n",
      "\n"
     ]
    }
   ],
   "source": [
    "from sklearn.metrics import classification_report\n",
    "\n",
    "print(classification_report(y_val, pred_class))"
   ]
  },
  {
   "cell_type": "markdown",
   "metadata": {},
   "source": [
    "### - 아키텍처를 간소화시키고 learning_rate를 조절하니 값이 다양하게 나오고 정확도가 0.3 -> 0.6까지 올랐다  \n",
    "- 유명인 100장 시도  \n",
    "1차 시도: 0.63(77)  \n",
    "2차 시도: 40(99)  \n",
    "3차 시도: 0.37(33)  \n",
    "4차 시도: 0.53(316)  \n",
    "- 데이터를 바꾸니까 0.6 -> 0.9까지 올랐다  \n",
    "- 알반인 200장 시도  \n",
    "1차 시도: 0.92(316)  \n",
    "2차 시도: 0.65(99)  \n",
    "3차 시도: 0.82(1004)  \n",
    "4차 시도: 0.75(42)  \n",
    "- 다시 VGG16의 본래 아키텍처로 다시 시도 (learning rate는 그대로 1e-6)  \n",
    "1차 시도: 0.52(42)  \n",
    "2차 시도: 0.35(55)  \n",
    "3차 시도: 0.47(1004)  \n",
    "4차 시도: 0.45(316)  \n",
    " -> 다시 기울기를 잃는 모습을 확인할 수 있다 그러므로 깊이를 축소시키는게 답이었다  \n",
    " -> 원핫인코딩으로 바꾸고 이진분류 손실함수로 바꾸고 softmax를 sigmoid로 바꾸었지만 기존의 아키텍처로는 예측값이 계속 0 혹은 1로만 나오는 것을 알 수 있다.  \n",
    " \n",
    "- 기존의 아키텍처에서도 데이터량을 늘리고 옵티마이저의 learning rate를 변경하였을 때 잘 작동하는 것을 확인할 수 있었다.   "
   ]
  },
  {
   "cell_type": "markdown",
   "metadata": {
    "id": "z-sJuwJKLjJ4"
   },
   "source": [
    "## (7) TEST"
   ]
  },
  {
   "cell_type": "code",
   "execution_count": null,
   "metadata": {},
   "outputs": [],
   "source": [
    "def load_data(img_path, number_of_data=100):  \n",
    "    # 웜톤 : 0, 쿨톤 : 1\n",
    "    img_size=224\n",
    "    color=3\n",
    "    #이미지 데이터와 라벨(웜톤 : 0, 쿨톤 : 1) 데이터를 담을 행렬(matrix) 영역을 생성합니다.\n",
    "    imgs=np.zeros(number_of_data*img_size*img_size*color,dtype=np.int32).reshape(number_of_data,img_size,img_size,color)\n",
    "    labels=np.zeros(number_of_data,dtype=np.int32)\n",
    "\n",
    "    idx=0    \n",
    "    \n",
    "    warm_files = list(glob.iglob(img_path + '/warm/*.jpg')) + list(glob.iglob(img_path + '/warm/*.JPG'))\n",
    "    \n",
    "    for file in warm_files:\n",
    "        img = Image.open(file)  # 이미지 열기\n",
    "        img = img.resize((img_size, img_size))  # 이미지 크기 조정\n",
    "        img = np.array(img, dtype=np.int32)\n",
    "        imgs[idx,:,:,:]=img    # 데이터 영역에 이미지 행렬을 복사\n",
    "        labels[idx]=0   # 웜톤 : 0\n",
    "        idx=idx+1\n",
    "\n",
    "                \n",
    "    cool_files = (list(glob.iglob(img_path + '/cool/*.jpg')) + list(glob.iglob(img_path + '/cool/*.JPG')))\n",
    "    \n",
    "    for file in cool_files:\n",
    "        img = Image.open(file)  # 이미지 열기\n",
    "        img = img.resize((img_size, img_size))  # 이미지 크기 조정\n",
    "        img = np.array(img, dtype=np.int32)\n",
    "        imgs[idx,:,:,:]=img    # 데이터 영역에 이미지 행렬을 복사\n",
    "        labels[idx]=1   # 쿨톤 : 1\n",
    "        idx=idx+1  \n",
    "    \n",
    "    print(\"평가데이터(x_test)의 이미지 개수는\", idx,\"입니다.\")\n",
    "    return imgs, labels\n",
    "\n",
    "image_dir_path = os.getenv(\"HOME\") + \"/aiffel/project/first-repository/data/DataSet_final/content/drive/MyDrive/사계절_연예인 이미지 데이터셋\"\n",
    "(x_test, y_test)=load_data(image_dir_path)\n",
    "\n",
    "print(\"x_test shape: {}\".format(x_test.shape))\n",
    "print(\"y_test shape: {}\".format(y_test.shape))"
   ]
  },
  {
   "cell_type": "code",
   "execution_count": null,
   "metadata": {},
   "outputs": [],
   "source": [
    "# checkpoint로 저장한 모델 불러올 때\n",
    "from tensorflow.keras.models import load_model\n",
    "\n",
    "# 체크포인트 파일의 경로를 지정합니다.\n",
    "checkpoint_filepath = './check/VGG16(아키텍처)/2번/1-1/model_.h5'\n",
    "\n",
    "# 체크포인트에 저장된 모델을 로드합니다.\n",
    "model = load_model(checkpoint_filepath)\n",
    "\n",
    "pred = model.predict(x_test)\n",
    "pred_class = np.argmax(pred, axis=1)\n",
    "print(pred_class)"
   ]
  },
  {
   "cell_type": "code",
   "execution_count": null,
   "metadata": {},
   "outputs": [],
   "source": [
    "acc = np.mean(pred_class == y_test)\n",
    "print('accuracy: %f' % (acc,))"
   ]
  },
  {
   "cell_type": "code",
   "execution_count": 2,
   "metadata": {},
   "outputs": [
    {
     "ename": "SyntaxError",
     "evalue": "invalid syntax (1116953333.py, line 3)",
     "output_type": "error",
     "traceback": [
      "\u001b[0;36m  File \u001b[0;32m\"/tmp/ipykernel_1691/1116953333.py\"\u001b[0;36m, line \u001b[0;32m3\u001b[0m\n\u001b[0;31m    1. 자동레이블링 vs 모델예측 -> 정확도 웜 쿨 -> lab vs 딥러닝 90% ->얘는 이미 높게 나올 것임\u001b[0m\n\u001b[0m       ^\u001b[0m\n\u001b[0;31mSyntaxError\u001b[0m\u001b[0;31m:\u001b[0m invalid syntax\n"
     ]
    }
   ],
   "source": [
    "자동레이블링vs수동레이블링vs모델예측\n",
    "\n",
    "1. 자동레이블링 vs 모델예측 -> 정확도 웜 쿨 -> lab vs 딥러닝 90% ->얘는 이미 높게 나올 것임\n",
    "2. 수동레이블링 vs 모델예측 -> 정확도 쿨 쿨 -> 사람 vs 딥러닝 80%(기도메타, 중요)\n",
    "3. 자동레이블링 vs 수동레이블링 -> 정확도 웜 쿨 -> lab vs 사람 -> 자동레이블링을 한 것의 신뢰도 주장(기도메타)\n",
    "80%\n",
    "\n",
    "1.어떤 조명이 있든 고유의 색을 본다! \n",
    "= 조명을 없앤다고 가정하고 조명이 어둡든 밝든 같은 사람에 대해 같은 톤!! \n",
    "(우리의 초기 레이블링)\n",
    "\n",
    "2. 특정한 상황에서만 촬영된 사진!\n",
    "= 조명색이 달라짐에 따라 같은 사람이 쿨톤이 될수도 웜톤이 될 수도 있다!!\n",
    "(오늘 우리 한 레이블링) -> 사용자에게 설정해야함 \"빛이 고른 곳에서 찍은 사진을 업로드 해주세요~\""
   ]
  },
  {
   "cell_type": "code",
   "execution_count": 33,
   "metadata": {
    "executionInfo": {
     "elapsed": 7,
     "status": "ok",
     "timestamp": 1690361728334,
     "user": {
      "displayName": "장수빈",
      "userId": "11804786027693854134"
     },
     "user_tz": -540
    },
    "id": "8cNAWpvBATPM"
   },
   "outputs": [],
   "source": [
    "class_name = [\"웜톤\", \"쿨톤\"]"
   ]
  },
  {
   "cell_type": "code",
   "execution_count": 53,
   "metadata": {
    "colab": {
     "base_uri": "https://localhost:8080/"
    },
    "executionInfo": {
     "elapsed": 1361,
     "status": "ok",
     "timestamp": 1690361729690,
     "user": {
      "displayName": "장수빈",
      "userId": "11804786027693854134"
     },
     "user_tz": -540
    },
    "id": "lG_fD_tAATRn",
    "outputId": "330b5d35-d89e-409b-e816-bab63c4a5480"
   },
   "outputs": [
    {
     "name": "stdout",
     "output_type": "stream",
     "text": [
      "(275, 183, 3)\n",
      "변환된 배열 크기: (1, 275, 183, 3)\n",
      "(1, 224, 224, 3)\n",
      "당신은 쿨톤 입니다~!\n",
      "웜톤일 확률:  [0.005]\n",
      "쿨톤일 확률:  [0.995]\n"
     ]
    }
   ],
   "source": [
    "# test 불러오기 (낱개 버전)\n",
    "test_path = \"/aiffel/aiffel/project/first-repository/data/four_seasons/TEST/박은빈.jpg\"\n",
    "x_test = Image.open(test_path)\n",
    "x_test = np.array(x_test)\n",
    "print(x_test.shape)\n",
    "\n",
    "# 배열의 크기 변환\n",
    "x_test = x_test.reshape((1, x_test.shape[0], x_test.shape[1], 3))\n",
    "print(\"변환된 배열 크기:\", x_test.shape)\n",
    "\n",
    "# 전처리(resize, 정규화)\n",
    "x_test = preprocess_image(x_test)\n",
    "print(x_test.shape)\n",
    "\n",
    "# 만약 앱구현과 연결된다면 저장된 모델을 다시 돌릴 필요없이 저장된 최적의 모델을 사용하도록 수정해야함\n",
    "# test\n",
    "pred = model.predict(x_test)\n",
    "pred_class = np.argmax(pred, axis=1)\n",
    "print(\"당신은\", class_name[int(pred_class)], \"입니다~!\")\n",
    "print(\"웜톤일 확률: \", np.round(pred[:, 0], 3))\n",
    "print(\"쿨톤일 확률: \", np.round(pred[:, 1], 3))"
   ]
  },
  {
   "cell_type": "code",
   "execution_count": 159,
   "metadata": {
    "id": "a4hWOcheATT1"
   },
   "outputs": [],
   "source": [
    "# 박은빈 쿨톤, 강혜원 웜톤 맞춤!!"
   ]
  }
 ],
 "metadata": {
  "colab": {
   "authorship_tag": "ABX9TyNwglgcePeCxDirb6VuAD1F",
   "collapsed_sections": [
    "ZwsAoPOlKD1W",
    "ETU0Hu45KHYb"
   ],
   "provenance": []
  },
  "kernelspec": {
   "display_name": "Python 3 (ipykernel)",
   "language": "python",
   "name": "python3"
  },
  "language_info": {
   "codemirror_mode": {
    "name": "ipython",
    "version": 3
   },
   "file_extension": ".py",
   "mimetype": "text/x-python",
   "name": "python",
   "nbconvert_exporter": "python",
   "pygments_lexer": "ipython3",
   "version": "3.9.7"
  }
 },
 "nbformat": 4,
 "nbformat_minor": 1
}
