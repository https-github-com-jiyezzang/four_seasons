{
  "nbformat": 4,
  "nbformat_minor": 0,
  "metadata": {
    "colab": {
      "provenance": []
    },
    "kernelspec": {
      "name": "python3",
      "display_name": "Python 3"
    },
    "language_info": {
      "name": "python"
    }
  },
  "cells": [
    {
      "cell_type": "code",
      "execution_count": 1,
      "metadata": {
        "colab": {
          "base_uri": "https://localhost:8080/"
        },
        "id": "qQI7aooe4aa_",
        "outputId": "b6019999-025a-4b91-c960-50902e19bf93"
      },
      "outputs": [
        {
          "output_type": "stream",
          "name": "stdout",
          "text": [
            "Mounted at /content/drive\n"
          ]
        }
      ],
      "source": [
        "from google.colab import drive\n",
        "drive.mount('/content/drive')"
      ]
    },
    {
      "cell_type": "code",
      "source": [
        "# 압축하는 기본 코드\n",
        "# 코드에서 앞이 압축 후 폴더의 이름과 저장 경로\n",
        "# 뒤가 현재 압축할 폴더의 경로와 현재 폴더 이름\n",
        "\n",
        "# !zip -r \"/content/my_folder.zip\" \"/content/drive/MyDrive/my_folder\""
      ],
      "metadata": {
        "id": "Jtv9GEkY4jhv"
      },
      "execution_count": null,
      "outputs": []
    },
    {
      "cell_type": "code",
      "source": [
        "!zip -r \"/content/drive/MyDrive/사계절_연예인 이미지 데이터셋/일반인100장.zip\" \"/content/drive/MyDrive/사계절_연예인 이미지 데이터셋/prototype/라벨링용일반인100장\"\n"
      ],
      "metadata": {
        "colab": {
          "base_uri": "https://localhost:8080/"
        },
        "id": "zfTWRJrj5ukf",
        "outputId": "231d9a2c-83eb-4eb4-c3a1-6f73f87c168a"
      },
      "execution_count": 3,
      "outputs": [
        {
          "output_type": "stream",
          "name": "stdout",
          "text": [
            "updating: content/drive/MyDrive/사계절_연예인 이미지 데이터셋/prototype/라벨링용일반인100장/ (stored 0%)\n",
            "updating: content/drive/MyDrive/사계절_연예인 이미지 데이터셋/prototype/라벨링용일반인100장/F0299_IND_M_48_0_01.JPG (deflated 0%)\n",
            "updating: content/drive/MyDrive/사계절_연예인 이미지 데이터셋/prototype/라벨링용일반인100장/F0299_IND_M_48_0_02.JPG (deflated 0%)\n",
            "updating: content/drive/MyDrive/사계절_연예인 이미지 데이터셋/prototype/라벨링용일반인100장/F0299_IND_M_48_0_03.JPG (deflated 3%)\n",
            "updating: content/drive/MyDrive/사계절_연예인 이미지 데이터셋/prototype/라벨링용일반인100장/F0299_IND_M_48_0_04.JPG (deflated 0%)\n",
            "updating: content/drive/MyDrive/사계절_연예인 이미지 데이터셋/prototype/라벨링용일반인100장/F0299_IND_M_48_0_05.JPG (deflated 0%)\n",
            "updating: content/drive/MyDrive/사계절_연예인 이미지 데이터셋/prototype/라벨링용일반인100장/F0282_IND_M_43_0_01.JPG (deflated 0%)\n",
            "updating: content/drive/MyDrive/사계절_연예인 이미지 데이터셋/prototype/라벨링용일반인100장/F0282_IND_M_43_0_02.JPG (deflated 0%)\n",
            "updating: content/drive/MyDrive/사계절_연예인 이미지 데이터셋/prototype/라벨링용일반인100장/F0282_IND_M_43_0_03.JPG (deflated 0%)\n",
            "updating: content/drive/MyDrive/사계절_연예인 이미지 데이터셋/prototype/라벨링용일반인100장/F0282_IND_M_43_0_04.JPG (deflated 0%)\n",
            "updating: content/drive/MyDrive/사계절_연예인 이미지 데이터셋/prototype/라벨링용일반인100장/F0282_IND_M_43_0_05.JPG (deflated 0%)\n",
            "updating: content/drive/MyDrive/사계절_연예인 이미지 데이터셋/prototype/라벨링용일반인100장/F0283_IND_D_17_0_01.JPG\n",
            "\n",
            "\n",
            "zip error: Interrupted (aborting)\n"
          ]
        }
      ]
    }
  ]
}
