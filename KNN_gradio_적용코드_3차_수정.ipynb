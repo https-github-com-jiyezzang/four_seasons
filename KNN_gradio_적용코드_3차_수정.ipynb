{
  "cells": [
    {
      "cell_type": "code",
      "source": [
        "from google.colab import drive\n",
        "drive.mount('/content/drive')"
      ],
      "metadata": {
        "id": "OWk6DIEDU218",
        "colab": {
          "base_uri": "https://localhost:8080/"
        },
        "outputId": "c1f49a6e-6519-4523-894b-27ecf6ceda4e"
      },
      "id": "OWk6DIEDU218",
      "execution_count": 2,
      "outputs": [
        {
          "output_type": "stream",
          "name": "stdout",
          "text": [
            "Mounted at /content/drive\n"
          ]
        }
      ]
    },
    {
      "cell_type": "markdown",
      "id": "5016afcb",
      "metadata": {
        "id": "5016afcb"
      },
      "source": [
        "## 라이브러리 설치"
      ]
    },
    {
      "cell_type": "code",
      "execution_count": null,
      "id": "8e5f21d6",
      "metadata": {
        "scrolled": true,
        "id": "8e5f21d6"
      },
      "outputs": [],
      "source": [
        "!pip3 install gradio"
      ]
    },
    {
      "cell_type": "markdown",
      "id": "91933702",
      "metadata": {
        "id": "91933702"
      },
      "source": [
        "# gradio 구현(1) : Hello!"
      ]
    },
    {
      "cell_type": "code",
      "execution_count": 3,
      "id": "d6c13a98",
      "metadata": {
        "colab": {
          "base_uri": "https://localhost:8080/",
          "height": 618
        },
        "id": "d6c13a98",
        "outputId": "78f409fd-7b72-4893-81bc-d96ea8c279ad"
      },
      "outputs": [
        {
          "output_type": "stream",
          "name": "stdout",
          "text": [
            "Colab notebook detected. To show errors in colab notebook, set debug=True in launch()\n",
            "Note: opening Chrome Inspector may crash demo inside Colab notebooks.\n",
            "\n",
            "To create a public link, set `share=True` in `launch()`.\n"
          ]
        },
        {
          "output_type": "display_data",
          "data": {
            "text/plain": [
              "<IPython.core.display.Javascript object>"
            ],
            "application/javascript": [
              "(async (port, path, width, height, cache, element) => {\n",
              "                        if (!google.colab.kernel.accessAllowed && !cache) {\n",
              "                            return;\n",
              "                        }\n",
              "                        element.appendChild(document.createTextNode(''));\n",
              "                        const url = await google.colab.kernel.proxyPort(port, {cache});\n",
              "\n",
              "                        const external_link = document.createElement('div');\n",
              "                        external_link.innerHTML = `\n",
              "                            <div style=\"font-family: monospace; margin-bottom: 0.5rem\">\n",
              "                                Running on <a href=${new URL(path, url).toString()} target=\"_blank\">\n",
              "                                    https://localhost:${port}${path}\n",
              "                                </a>\n",
              "                            </div>\n",
              "                        `;\n",
              "                        element.appendChild(external_link);\n",
              "\n",
              "                        const iframe = document.createElement('iframe');\n",
              "                        iframe.src = new URL(path, url).toString();\n",
              "                        iframe.height = height;\n",
              "                        iframe.allow = \"autoplay; camera; microphone; clipboard-read; clipboard-write;\"\n",
              "                        iframe.width = width;\n",
              "                        iframe.style.border = 0;\n",
              "                        element.appendChild(iframe);\n",
              "                    })(700, \"/\", \"100%\", 500, false, window.element)"
            ]
          },
          "metadata": {}
        },
        {
          "output_type": "execute_result",
          "data": {
            "text/plain": []
          },
          "metadata": {},
          "execution_count": 3
        }
      ],
      "source": [
        "import gradio as gr\n",
        "\n",
        "def greet(name):\n",
        "    return \"Hello \" + name + \"!\"\n",
        "\n",
        "demo = gr.Interface(fn=greet,\n",
        "                    allow_flagging='manual',\n",
        "                    inputs = \"text\",\n",
        "                    outputs = \"text\")\n",
        "\n",
        "demo.launch(server_name = \"0.0.0.0\",\n",
        "            server_port = 700,\n",
        "            # auth = (\"noname\", \"passwdl\"),\n",
        "            # share=True\n",
        "            )"
      ]
    },
    {
      "cell_type": "markdown",
      "id": "676e20d8",
      "metadata": {
        "id": "676e20d8"
      },
      "source": [
        "- launch()에서 share=True로 지정하면 외부에 공유 가능\n",
        "- server_name = \"0.0.0.0\"로 지정해야 외부 공유 가능\n",
        "- auth = (\"noname\", \"passwdl\") 사용자 및 비밀번호 설정"
      ]
    },
    {
      "cell_type": "markdown",
      "id": "dd0b1ff1",
      "metadata": {
        "id": "dd0b1ff1"
      },
      "source": [
        "# gradio 구현(2) : 분류 모델"
      ]
    },
    {
      "cell_type": "code",
      "execution_count": 55,
      "id": "46195a40",
      "metadata": {
        "colab": {
          "base_uri": "https://localhost:8080/"
        },
        "id": "46195a40",
        "outputId": "4c102dad-5463-4d64-8c7d-68296f133dea"
      },
      "outputs": [
        {
          "output_type": "stream",
          "name": "stdout",
          "text": [
            "Downloading data from https://storage.googleapis.com/tensorflow/keras-applications/mobilenet_v2/mobilenet_v2_weights_tf_dim_ordering_tf_kernels_1.0_224.h5\n",
            "14536120/14536120 [==============================] - 0s 0us/step\n"
          ]
        }
      ],
      "source": [
        "import tensorflow as tf\n",
        "\n",
        "inception_net = tf.keras.applications.MobileNetV2()"
      ]
    },
    {
      "cell_type": "markdown",
      "source": [
        "- top5 기능이 모델에 구현되어 있기 때문에 gradio에서도 실행가능한 것"
      ],
      "metadata": {
        "id": "zm_P6-lb0oDi"
      },
      "id": "zm_P6-lb0oDi"
    },
    {
      "cell_type": "code",
      "execution_count": 57,
      "id": "e8e2773f",
      "metadata": {
        "id": "e8e2773f"
      },
      "outputs": [],
      "source": [
        "import requests\n",
        "\n",
        "response = requests.get(\"https://git.io/JJkYN\") # html 코드\n",
        "labels = response.text.split(\"\\n\")\n",
        "\n",
        "def classify_image(inp):\n",
        "    inp = inp.reshape((-1, 224, 224, 3))\n",
        "    inp = tf.keras.applications.mobilenet_v2.preprocess_input(inp)\n",
        "    prediction = inception_net.predict(inp).flatten()\n",
        "    confidences = {labels[i]: float(prediction[i]) for i in range(1000)}\n",
        "    return confidences"
      ]
    },
    {
      "cell_type": "code",
      "source": [
        "classify_image('/content/drive/MyDrive/Colab Notebooks/AIFFEL/Data/sticker_app/images/cat.jpg')"
      ],
      "metadata": {
        "id": "kHeKC2qv2fwo"
      },
      "id": "kHeKC2qv2fwo",
      "execution_count": null,
      "outputs": []
    },
    {
      "cell_type": "markdown",
      "source": [
        "- 왜 함수로는 안나오는데 gradio에서는 실행이 되는거지..?\n"
      ],
      "metadata": {
        "id": "ApspO48IxX6M"
      },
      "id": "ApspO48IxX6M"
    },
    {
      "cell_type": "code",
      "execution_count": 59,
      "id": "91fd3dd0",
      "metadata": {
        "colab": {
          "base_uri": "https://localhost:8080/",
          "height": 618
        },
        "id": "91fd3dd0",
        "outputId": "16ea9c01-11be-41b7-da30-0f86c76194cb"
      },
      "outputs": [
        {
          "output_type": "stream",
          "name": "stdout",
          "text": [
            "Colab notebook detected. To show errors in colab notebook, set debug=True in launch()\n",
            "Note: opening Chrome Inspector may crash demo inside Colab notebooks.\n",
            "\n",
            "To create a public link, set `share=True` in `launch()`.\n"
          ]
        },
        {
          "output_type": "display_data",
          "data": {
            "text/plain": [
              "<IPython.core.display.Javascript object>"
            ],
            "application/javascript": [
              "(async (port, path, width, height, cache, element) => {\n",
              "                        if (!google.colab.kernel.accessAllowed && !cache) {\n",
              "                            return;\n",
              "                        }\n",
              "                        element.appendChild(document.createTextNode(''));\n",
              "                        const url = await google.colab.kernel.proxyPort(port, {cache});\n",
              "\n",
              "                        const external_link = document.createElement('div');\n",
              "                        external_link.innerHTML = `\n",
              "                            <div style=\"font-family: monospace; margin-bottom: 0.5rem\">\n",
              "                                Running on <a href=${new URL(path, url).toString()} target=\"_blank\">\n",
              "                                    https://localhost:${port}${path}\n",
              "                                </a>\n",
              "                            </div>\n",
              "                        `;\n",
              "                        element.appendChild(external_link);\n",
              "\n",
              "                        const iframe = document.createElement('iframe');\n",
              "                        iframe.src = new URL(path, url).toString();\n",
              "                        iframe.height = height;\n",
              "                        iframe.allow = \"autoplay; camera; microphone; clipboard-read; clipboard-write;\"\n",
              "                        iframe.width = width;\n",
              "                        iframe.style.border = 0;\n",
              "                        element.appendChild(iframe);\n",
              "                    })(600, \"/\", \"100%\", 500, false, window.element)"
            ]
          },
          "metadata": {}
        },
        {
          "output_type": "execute_result",
          "data": {
            "text/plain": []
          },
          "metadata": {},
          "execution_count": 59
        }
      ],
      "source": [
        "import gradio as gr\n",
        "\n",
        "classification = gr.Interface(fn=classify_image,\n",
        "                              inputs = gr.Image(shape=(224,224)),\n",
        "                              outputs = gr.Label(num_top_classes=3))\n",
        "\n",
        "classification.launch(server_name = \"0.0.0.0\",\n",
        "                      server_port = 600\n",
        "                      # auth = (\"noname\", \"passwdl\"),\n",
        "                      # share = True\n",
        "                      )"
      ]
    },
    {
      "cell_type": "code",
      "source": [
        "import requests\n",
        "import tensorflow as tf\n",
        "import numpy as np\n",
        "from PIL import Image\n",
        "\n",
        "response = requests.get(\"https://git.io/JJkYN\")  # HTML 코드\n",
        "labels = response.text.split(\"\\n\")\n",
        "\n",
        "def classify_image(inp):\n",
        "    img = Image.open(inp)\n",
        "    img = img.resize((224, 224))  # MobileNetV2 입력 크기에 맞게 이미지 크기 조정\n",
        "    img_array = np.array(img)\n",
        "    inp = img_array.reshape((-1, 224, 224, 3))\n",
        "    inp = tf.keras.applications.mobilenet_v2.preprocess_input(inp)\n",
        "    prediction = tf.keras.applications.mobilenet_v2.MobileNetV2().predict(inp).flatten()\n",
        "    confidences = {labels[i]: float(prediction[i]) for i in range(1000)}\n",
        "    return confidences"
      ],
      "metadata": {
        "id": "cRN8LuIN2Qks"
      },
      "id": "cRN8LuIN2Qks",
      "execution_count": 60,
      "outputs": []
    },
    {
      "cell_type": "code",
      "source": [
        "classify_image('/content/drive/MyDrive/Colab Notebooks/AIFFEL/Data/sticker_app/images/cat.jpg')"
      ],
      "metadata": {
        "colab": {
          "base_uri": "https://localhost:8080/"
        },
        "id": "MhyDVJP6vN9t",
        "outputId": "ea86b150-ac17-45de-c290-c52f64009ec3"
      },
      "id": "MhyDVJP6vN9t",
      "execution_count": 61,
      "outputs": [
        {
          "output_type": "stream",
          "name": "stdout",
          "text": [
            "1/1 [==============================] - 1s 590ms/step\n"
          ]
        },
        {
          "output_type": "execute_result",
          "data": {
            "text/plain": [
              "{'tench': 0.00020820528152398765,\n",
              " 'goldfish': 0.0007009489927440882,\n",
              " 'great white shark': 5.722572313970886e-05,\n",
              " 'tiger shark': 3.634079621406272e-05,\n",
              " 'hammerhead': 0.0005608099745586514,\n",
              " 'electric ray': 0.0004292774829082191,\n",
              " 'stingray': 0.00012624514056369662,\n",
              " 'cock': 0.003503028303384781,\n",
              " 'hen': 0.001235193107277155,\n",
              " 'ostrich': 0.00017952021153178066,\n",
              " 'brambling': 0.0008998192497529089,\n",
              " 'goldfinch': 0.00019810773665085435,\n",
              " 'house finch': 0.0002113116643158719,\n",
              " 'junco': 0.0002486702869646251,\n",
              " 'indigo bunting': 6.891202792758122e-05,\n",
              " 'robin': 0.0010080952197313309,\n",
              " 'bulbul': 0.0001071556907845661,\n",
              " 'jay': 0.000292979326331988,\n",
              " 'magpie': 0.0001229345944011584,\n",
              " 'chickadee': 0.0007819643942639232,\n",
              " 'water ouzel': 0.0004768903600051999,\n",
              " 'kite': 0.00014926434960216284,\n",
              " 'bald eagle': 0.0003359929542057216,\n",
              " 'vulture': 0.0005709544057026505,\n",
              " 'great grey owl': 8.334019366884604e-05,\n",
              " 'European fire salamander': 0.0010667478200048208,\n",
              " 'common newt': 0.0005034207133576274,\n",
              " 'eft': 0.0006689841975457966,\n",
              " 'spotted salamander': 0.00044019005144946277,\n",
              " 'axolotl': 0.00056627974845469,\n",
              " 'bullfrog': 9.884541213978082e-05,\n",
              " 'tree frog': 0.0005450199823826551,\n",
              " 'tailed frog': 8.571179205318913e-05,\n",
              " 'loggerhead': 0.00013942568330094218,\n",
              " 'leatherback turtle': 0.00025443200138397515,\n",
              " 'mud turtle': 0.0001639889378566295,\n",
              " 'terrapin': 6.551429396495223e-05,\n",
              " 'box turtle': 0.00040082246414385736,\n",
              " 'banded gecko': 0.0011566347675397992,\n",
              " 'common iguana': 0.0004228505422361195,\n",
              " 'American chameleon': 0.0004510732542257756,\n",
              " 'whiptail': 0.0007889806292951107,\n",
              " 'agama': 0.0016643506241962314,\n",
              " 'frilled lizard': 0.00015370818437077105,\n",
              " 'alligator lizard': 0.0004544619005173445,\n",
              " 'Gila monster': 0.0004557007923722267,\n",
              " 'green lizard': 0.00042795820627361536,\n",
              " 'African chameleon': 0.00027444385341368616,\n",
              " 'Komodo dragon': 0.00010404135537100956,\n",
              " 'African crocodile': 0.0001931426377268508,\n",
              " 'American alligator': 0.00010732166992966086,\n",
              " 'triceratops': 7.096733315847814e-05,\n",
              " 'thunder snake': 0.0006618394399993122,\n",
              " 'ringneck snake': 0.000277550658211112,\n",
              " 'hognose snake': 0.0008336734608747065,\n",
              " 'green snake': 0.0001163622218882665,\n",
              " 'king snake': 0.00029469712171703577,\n",
              " 'garter snake': 0.0007821184117347002,\n",
              " 'water snake': 0.00027572462568059564,\n",
              " 'vine snake': 0.0007884255610406399,\n",
              " 'night snake': 0.001783957821317017,\n",
              " 'boa constrictor': 0.0004921791842207313,\n",
              " 'rock python': 0.00045866231084801257,\n",
              " 'Indian cobra': 0.00042147745261900127,\n",
              " 'green mamba': 7.742573507130146e-05,\n",
              " 'sea snake': 0.00038243026938289404,\n",
              " 'horned viper': 0.0008052957127802074,\n",
              " 'diamondback': 0.0001517716736998409,\n",
              " 'sidewinder': 0.00015496565902139992,\n",
              " 'trilobite': 6.931518146302551e-05,\n",
              " 'harvestman': 0.0002934156800620258,\n",
              " 'scorpion': 0.0006157848401926458,\n",
              " 'black and gold garden spider': 0.00021423249563667923,\n",
              " 'barn spider': 0.00011552991782082245,\n",
              " 'garden spider': 0.0007145194103941321,\n",
              " 'black widow': 0.0005630041123367846,\n",
              " 'tarantula': 0.0002617211430333555,\n",
              " 'wolf spider': 0.0004442767531145364,\n",
              " 'tick': 0.0005644739721901715,\n",
              " 'centipede': 0.0011388701386749744,\n",
              " 'black grouse': 0.0011983172735199332,\n",
              " 'ptarmigan': 0.003275724360719323,\n",
              " 'ruffed grouse': 0.00012033701204927638,\n",
              " 'prairie chicken': 0.0006829289486631751,\n",
              " 'peacock': 0.0004483648226596415,\n",
              " 'quail': 0.000429297739174217,\n",
              " 'partridge': 0.00040111137786880136,\n",
              " 'African grey': 3.685360206873156e-05,\n",
              " 'macaw': 0.00014455144992098212,\n",
              " 'sulphur-crested cockatoo': 0.012924155220389366,\n",
              " 'lorikeet': 0.000313831988023594,\n",
              " 'coucal': 0.001147072878666222,\n",
              " 'bee eater': 0.00018138404993806034,\n",
              " 'hornbill': 0.0005261165206320584,\n",
              " 'hummingbird': 0.00032784792711026967,\n",
              " 'jacamar': 0.00022448621166404337,\n",
              " 'toucan': 8.753126894589514e-05,\n",
              " 'drake': 0.00015018534031696618,\n",
              " 'red-breasted merganser': 8.735356095712632e-05,\n",
              " 'goose': 0.00024436842068098485,\n",
              " 'black swan': 0.00013980148651171476,\n",
              " 'tusker': 0.00015233860176522285,\n",
              " 'echidna': 0.00025698376703076065,\n",
              " 'platypus': 0.00022733739751856774,\n",
              " 'wallaby': 0.029802894219756126,\n",
              " 'koala': 0.0003937966248486191,\n",
              " 'wombat': 0.00011543323489604518,\n",
              " 'jellyfish': 0.00031570420833304524,\n",
              " 'sea anemone': 0.00172136549372226,\n",
              " 'brain coral': 0.0005291149136610329,\n",
              " 'flatworm': 0.0025280588306486607,\n",
              " 'nematode': 0.00013174016203265637,\n",
              " 'conch': 0.00026455166516825557,\n",
              " 'snail': 0.0007337858551181853,\n",
              " 'slug': 0.0058939410373568535,\n",
              " 'sea slug': 0.018529310822486877,\n",
              " 'chiton': 0.000793806801084429,\n",
              " 'chambered nautilus': 0.0001121308741858229,\n",
              " 'Dungeness crab': 7.162259862525389e-05,\n",
              " 'rock crab': 0.00431551830843091,\n",
              " 'fiddler crab': 0.00032174537773244083,\n",
              " 'king crab': 0.0017260758904740214,\n",
              " 'American lobster': 0.00036246757372282445,\n",
              " 'spiny lobster': 0.0002661919570527971,\n",
              " 'crayfish': 0.001579505275003612,\n",
              " 'hermit crab': 0.0006520855240523815,\n",
              " 'isopod': 0.0008903479902073741,\n",
              " 'white stork': 0.0007691604550927877,\n",
              " 'black stork': 0.0005403342074714601,\n",
              " 'spoonbill': 0.00048173568211495876,\n",
              " 'flamingo': 0.00018563542107585818,\n",
              " 'little blue heron': 0.000257382431300357,\n",
              " 'American egret': 0.001991232857108116,\n",
              " 'bittern': 0.0007223261636681855,\n",
              " 'crane': 0.0002440981043037027,\n",
              " 'limpkin': 0.00016322929877787828,\n",
              " 'European gallinule': 2.5881818146444857e-05,\n",
              " 'American coot': 6.229184509720653e-05,\n",
              " 'bustard': 0.00036782832466997206,\n",
              " 'ruddy turnstone': 0.0003497729485388845,\n",
              " 'red-backed sandpiper': 0.0004352602700237185,\n",
              " 'redshank': 0.00017953888163901865,\n",
              " 'dowitcher': 0.00027466355822980404,\n",
              " 'oystercatcher': 0.0002155835391022265,\n",
              " 'pelican': 0.0011826591799035668,\n",
              " 'king penguin': 0.009296054020524025,\n",
              " 'albatross': 0.0003571788256522268,\n",
              " 'grey whale': 0.0001880723430076614,\n",
              " 'killer whale': 0.00033333932515233755,\n",
              " 'dugong': 0.0006771533517166972,\n",
              " 'sea lion': 8.123705629259348e-05,\n",
              " 'Chihuahua': 0.0024556471034884453,\n",
              " 'Japanese spaniel': 0.000624017498921603,\n",
              " 'Maltese dog': 0.00016669381875544786,\n",
              " 'Pekinese': 0.0010761227458715439,\n",
              " 'Shih-Tzu': 0.0001379185850964859,\n",
              " 'Blenheim spaniel': 0.0007712951046414673,\n",
              " 'papillon': 0.00044611727935262024,\n",
              " 'toy terrier': 0.00030431870254687965,\n",
              " 'Rhodesian ridgeback': 0.00010397916776128113,\n",
              " 'Afghan hound': 0.00012132160918554291,\n",
              " 'basset': 0.00013765624316874892,\n",
              " 'beagle': 0.0006477363640442491,\n",
              " 'bloodhound': 0.0001414614962413907,\n",
              " 'bluetick': 0.000122258992632851,\n",
              " 'black-and-tan coonhound': 3.605699384934269e-05,\n",
              " 'Walker hound': 0.00017215147090610117,\n",
              " 'English foxhound': 0.00042089258204214275,\n",
              " 'redbone': 6.042520544724539e-05,\n",
              " 'borzoi': 0.016359155997633934,\n",
              " 'Irish wolfhound': 0.0009709969162940979,\n",
              " 'Italian greyhound': 0.0001147667717305012,\n",
              " 'whippet': 0.0004745858022943139,\n",
              " 'Ibizan hound': 0.05815254524350166,\n",
              " 'Norwegian elkhound': 0.001481754588894546,\n",
              " 'otterhound': 0.00011843651736853644,\n",
              " 'Saluki': 0.0006654469761997461,\n",
              " 'Scottish deerhound': 0.00030506562325172126,\n",
              " 'Weimaraner': 8.93239994184114e-05,\n",
              " 'Staffordshire bullterrier': 0.00014009128790348768,\n",
              " 'American Staffordshire terrier': 0.00048271362902596593,\n",
              " 'Bedlington terrier': 0.0003240127698518336,\n",
              " 'Border terrier': 0.00010313678649254143,\n",
              " 'Kerry blue terrier': 0.0006035563419573009,\n",
              " 'Irish terrier': 0.001082647475413978,\n",
              " 'Norfolk terrier': 0.0003377488465048373,\n",
              " 'Norwich terrier': 0.0006134001305326819,\n",
              " 'Yorkshire terrier': 5.0195492804050446e-05,\n",
              " 'wire-haired fox terrier': 0.002239248948171735,\n",
              " 'Lakeland terrier': 0.00030490377685055137,\n",
              " 'Sealyham terrier': 0.00035869303974322975,\n",
              " 'Airedale': 0.00015292782336473465,\n",
              " 'cairn': 0.0011143493466079235,\n",
              " 'Australian terrier': 0.00011971010098932311,\n",
              " 'Dandie Dinmont': 0.00032151673804037273,\n",
              " 'Boston bull': 0.00016335348482243717,\n",
              " 'miniature schnauzer': 7.63215939514339e-05,\n",
              " 'giant schnauzer': 0.0013622795231640339,\n",
              " 'standard schnauzer': 0.000550940923858434,\n",
              " 'Scotch terrier': 0.0007104683318175375,\n",
              " 'Tibetan terrier': 5.3678264521295205e-05,\n",
              " 'silky terrier': 0.00024347769794985652,\n",
              " 'soft-coated wheaten terrier': 0.001693290425464511,\n",
              " 'West Highland white terrier': 0.00339320907369256,\n",
              " 'Lhasa': 0.00036733021261170506,\n",
              " 'flat-coated retriever': 0.00032723037293180823,\n",
              " 'curly-coated retriever': 0.000109073196654208,\n",
              " 'golden retriever': 0.0032852841541171074,\n",
              " 'Labrador retriever': 0.010452133603394032,\n",
              " 'Chesapeake Bay retriever': 8.152324880938977e-05,\n",
              " 'German short-haired pointer': 4.476308458833955e-05,\n",
              " 'vizsla': 0.0001678553962847218,\n",
              " 'English setter': 0.0001353857951471582,\n",
              " 'Irish setter': 8.751135464990512e-05,\n",
              " 'Gordon setter': 0.00039529171772301197,\n",
              " 'Brittany spaniel': 0.0026032128371298313,\n",
              " 'clumber': 0.0012592454440891743,\n",
              " 'English springer': 0.00043296298827044666,\n",
              " 'Welsh springer spaniel': 0.0007403002819046378,\n",
              " 'cocker spaniel': 8.468070882372558e-05,\n",
              " 'Sussex spaniel': 0.00011610404180828482,\n",
              " 'Irish water spaniel': 4.3839427235070616e-05,\n",
              " 'kuvasz': 0.006256908178329468,\n",
              " 'schipperke': 0.0004680985875893384,\n",
              " 'groenendael': 0.00025343813467770815,\n",
              " 'malinois': 0.0006099060992710292,\n",
              " 'briard': 0.00019187685393262655,\n",
              " 'kelpie': 7.020415068836883e-05,\n",
              " 'komondor': 6.164649676065892e-05,\n",
              " 'Old English sheepdog': 5.5302709370153025e-05,\n",
              " 'Shetland sheepdog': 0.0007803589687682688,\n",
              " 'collie': 0.015560263767838478,\n",
              " 'Border collie': 0.0008821521769277751,\n",
              " 'Bouvier des Flandres': 0.00022630450257565826,\n",
              " 'Rottweiler': 0.0001901730865938589,\n",
              " 'German shepherd': 0.0009086214122362435,\n",
              " 'Doberman': 0.00033733906457200646,\n",
              " 'miniature pinscher': 5.831954695167951e-05,\n",
              " 'Greater Swiss Mountain dog': 0.0008176523842848837,\n",
              " 'Bernese mountain dog': 0.00028784602181985974,\n",
              " 'Appenzeller': 0.0011761398054659367,\n",
              " 'EntleBucher': 0.0010710112983360887,\n",
              " 'boxer': 0.0005125724710524082,\n",
              " 'bull mastiff': 0.00044492207234725356,\n",
              " 'Tibetan mastiff': 0.00011689286475302652,\n",
              " 'French bulldog': 0.0007563155959360301,\n",
              " 'Great Dane': 0.00013881987251807004,\n",
              " 'Saint Bernard': 0.008381792344152927,\n",
              " 'Eskimo dog': 0.03216288238763809,\n",
              " 'malamute': 0.0008021860267035663,\n",
              " 'Siberian husky': 0.013110172003507614,\n",
              " 'dalmatian': 0.00011230547534069046,\n",
              " 'affenpinscher': 0.0001744028995744884,\n",
              " 'basenji': 0.0016282277647405863,\n",
              " 'pug': 0.0009680354269221425,\n",
              " 'Leonberg': 0.004985602106899023,\n",
              " 'Newfoundland': 0.00013559615763369948,\n",
              " 'Great Pyrenees': 0.0015069316141307354,\n",
              " 'Samoyed': 0.003388969926163554,\n",
              " 'Pomeranian': 0.005490008741617203,\n",
              " 'chow': 0.004591176752001047,\n",
              " 'keeshond': 0.00015789638564456254,\n",
              " 'Brabancon griffon': 0.0010173175251111388,\n",
              " 'Pembroke': 0.016666214913129807,\n",
              " 'Cardigan': 0.0049210889264941216,\n",
              " 'toy poodle': 0.00020892592146992683,\n",
              " 'miniature poodle': 0.0005879974341951311,\n",
              " 'standard poodle': 0.0003809396584983915,\n",
              " 'Mexican hairless': 6.785008008591831e-05,\n",
              " 'timber wolf': 0.0032815777231007814,\n",
              " 'white wolf': 0.03341393172740936,\n",
              " 'red wolf': 0.0003126013034489006,\n",
              " 'coyote': 0.0011195288971066475,\n",
              " 'dingo': 0.0063234008848667145,\n",
              " 'dhole': 0.0012644256930798292,\n",
              " 'African hunting dog': 3.1115076126297936e-05,\n",
              " 'hyena': 6.895764818182215e-05,\n",
              " 'red fox': 0.039125096052885056,\n",
              " 'kit fox': 0.018682830035686493,\n",
              " 'Arctic fox': 0.03538411483168602,\n",
              " 'grey fox': 0.002543466631323099,\n",
              " 'tabby': 0.0004043056978844106,\n",
              " 'tiger cat': 0.001577392453327775,\n",
              " 'Persian cat': 0.003363769967108965,\n",
              " 'Siamese cat': 0.017857370898127556,\n",
              " 'Egyptian cat': 0.0029611962381750345,\n",
              " 'cougar': 0.0007048759143799543,\n",
              " 'lynx': 0.0008575557731091976,\n",
              " 'leopard': 0.0005834724870510399,\n",
              " 'snow leopard': 0.00011350788554409519,\n",
              " 'jaguar': 0.00016187132860068232,\n",
              " 'lion': 0.0004908253904432058,\n",
              " 'tiger': 0.0006549537065438926,\n",
              " 'cheetah': 0.0002120402205036953,\n",
              " 'brown bear': 0.00017607308109290898,\n",
              " 'American black bear': 0.0004954450414516032,\n",
              " 'ice bear': 0.02946208417415619,\n",
              " 'sloth bear': 7.314452523132786e-05,\n",
              " 'mongoose': 0.001246138708665967,\n",
              " 'meerkat': 0.0008632680401206017,\n",
              " 'tiger beetle': 0.0005781616200692952,\n",
              " 'ladybug': 0.0003893722896464169,\n",
              " 'ground beetle': 0.0005995954852551222,\n",
              " 'long-horned beetle': 0.00038702975143678486,\n",
              " 'leaf beetle': 0.00020521208352874964,\n",
              " 'dung beetle': 0.0003443931054789573,\n",
              " 'rhinoceros beetle': 0.0005531233618967235,\n",
              " 'weevil': 0.0003781302075367421,\n",
              " 'fly': 0.00018377136439085007,\n",
              " 'bee': 0.0002743130607996136,\n",
              " 'ant': 0.003465792862698436,\n",
              " 'grasshopper': 0.0010181183461099863,\n",
              " 'cricket': 0.00045228449744172394,\n",
              " 'walking stick': 0.00025191938038915396,\n",
              " 'cockroach': 0.00011152341903652996,\n",
              " 'mantis': 0.0008404732798226178,\n",
              " 'cicada': 0.00063650484662503,\n",
              " 'leafhopper': 0.00019431294640526175,\n",
              " 'lacewing': 0.0007072464213706553,\n",
              " 'dragonfly': 0.00019053631694987416,\n",
              " 'damselfly': 0.00017541674606036395,\n",
              " 'admiral': 0.0006244029500521719,\n",
              " 'ringlet': 0.0006054599652998149,\n",
              " 'monarch': 0.0007480119820684195,\n",
              " 'cabbage butterfly': 0.000515950086992234,\n",
              " 'sulphur butterfly': 0.00033509699278511107,\n",
              " 'lycaenid': 0.0004738194984383881,\n",
              " 'starfish': 0.0005911198095418513,\n",
              " 'sea urchin': 0.0008053582860156894,\n",
              " 'sea cucumber': 0.0008659776067361236,\n",
              " 'wood rabbit': 0.0005548954359255731,\n",
              " 'hare': 0.012064248323440552,\n",
              " 'Angora': 0.0029862297233194113,\n",
              " 'hamster': 0.0036633668933063745,\n",
              " 'porcupine': 0.0001231209607794881,\n",
              " 'fox squirrel': 0.001757568446919322,\n",
              " 'marmot': 0.0027342503890395164,\n",
              " 'beaver': 0.00027906952891498804,\n",
              " 'guinea pig': 0.00024003324506338686,\n",
              " 'sorrel': 0.00028274994110688567,\n",
              " 'zebra': 9.878434502752498e-05,\n",
              " 'hog': 0.00024951001978479326,\n",
              " 'wild boar': 0.00010149389709113166,\n",
              " 'warthog': 3.691862730192952e-05,\n",
              " 'hippopotamus': 1.9934546799049713e-05,\n",
              " 'ox': 0.00010669100447557867,\n",
              " 'water buffalo': 7.45675788493827e-05,\n",
              " 'bison': 0.00020638869318645447,\n",
              " 'ram': 0.000615142984315753,\n",
              " 'bighorn': 0.00010920679051196203,\n",
              " 'ibex': 0.0018897650297731161,\n",
              " 'hartebeest': 0.0006317939260043204,\n",
              " 'impala': 0.00021625790395773947,\n",
              " 'gazelle': 0.0007802343461662531,\n",
              " 'Arabian camel': 0.00013774962280876935,\n",
              " 'llama': 0.0037407055497169495,\n",
              " 'weasel': 0.0348050519824028,\n",
              " 'mink': 0.000995164504274726,\n",
              " 'polecat': 0.00016428469098173082,\n",
              " 'black-footed ferret': 0.0019682692363858223,\n",
              " 'otter': 7.692624058108777e-05,\n",
              " 'skunk': 0.00028394622495397925,\n",
              " 'badger': 0.001010777777992189,\n",
              " 'armadillo': 0.00016367067291866988,\n",
              " 'three-toed sloth': 4.685038948082365e-05,\n",
              " 'orangutan': 2.5433701011934318e-05,\n",
              " 'gorilla': 5.335006062523462e-05,\n",
              " 'chimpanzee': 7.780070882290602e-05,\n",
              " 'gibbon': 0.002379472367465496,\n",
              " 'siamang': 0.00043390251812525094,\n",
              " 'guenon': 0.0007003132486715913,\n",
              " 'patas': 0.010475164279341698,\n",
              " 'baboon': 0.00012375747610349208,\n",
              " 'macaque': 0.0013503426453098655,\n",
              " 'langur': 0.0001719514693832025,\n",
              " 'colobus': 0.0005240411264821887,\n",
              " 'proboscis monkey': 0.003132059471681714,\n",
              " 'marmoset': 0.0006441444274969399,\n",
              " 'capuchin': 0.00039816772914491594,\n",
              " 'howler monkey': 0.00023425306426361203,\n",
              " 'titi': 0.0004742459859699011,\n",
              " 'spider monkey': 0.00026116662775166333,\n",
              " 'squirrel monkey': 0.0008179398137144744,\n",
              " 'Madagascar cat': 0.0007137498469091952,\n",
              " 'indri': 0.0020832903683185577,\n",
              " 'Indian elephant': 0.00013502062938641757,\n",
              " 'African elephant': 0.0002670501417014748,\n",
              " 'lesser panda': 0.0005050963955000043,\n",
              " 'giant panda': 9.311889880336821e-05,\n",
              " 'barracouta': 0.00015868678747210652,\n",
              " 'eel': 0.0005774640012532473,\n",
              " 'coho': 0.0004627320449799299,\n",
              " 'rock beauty': 0.00017606191977392882,\n",
              " 'anemone fish': 0.0006170563865453005,\n",
              " 'sturgeon': 0.0001861619675764814,\n",
              " 'gar': 0.0005593206151388586,\n",
              " 'lionfish': 0.0008821652154438198,\n",
              " 'puffer': 0.0004047358233947307,\n",
              " 'abacus': 0.0001581537799211219,\n",
              " 'abaya': 0.00027696893084794283,\n",
              " 'academic gown': 0.0003303768753539771,\n",
              " 'accordion': 0.00016805625637061894,\n",
              " 'acoustic guitar': 0.00043082653428427875,\n",
              " 'aircraft carrier': 5.680522008333355e-05,\n",
              " 'airliner': 0.00024343255790881813,\n",
              " 'airship': 0.00024011294590309262,\n",
              " 'altar': 0.0007194929639808834,\n",
              " 'ambulance': 0.0006710595916956663,\n",
              " 'amphibian': 0.00022618808725383133,\n",
              " 'analog clock': 3.005256803589873e-05,\n",
              " 'apiary': 0.0002156122209271416,\n",
              " 'apron': 4.705163519247435e-05,\n",
              " 'ashcan': 0.000286306458292529,\n",
              " 'assault rifle': 0.0003225427935831249,\n",
              " 'backpack': 0.0005393478204496205,\n",
              " 'bakery': 5.809876893181354e-05,\n",
              " 'balance beam': 0.0003042007447220385,\n",
              " 'balloon': 0.0019696205854415894,\n",
              " 'ballpoint': 0.000344083207892254,\n",
              " 'Band Aid': 0.0006744979764334857,\n",
              " 'banjo': 0.0008496472728438675,\n",
              " 'bannister': 0.00042344737448729575,\n",
              " 'barbell': 0.0003792640345636755,\n",
              " 'barber chair': 0.0009419714915566146,\n",
              " 'barbershop': 0.00012609695841092616,\n",
              " 'barn': 7.424751674989238e-05,\n",
              " 'barometer': 0.00018681235087569803,\n",
              " 'barrel': 0.00047963132965378463,\n",
              " 'barrow': 0.0010297633707523346,\n",
              " 'baseball': 0.00017231408855877817,\n",
              " 'basketball': 0.0002872909535653889,\n",
              " 'bassinet': 0.000716935086529702,\n",
              " 'bassoon': 7.373574771918356e-05,\n",
              " 'bathing cap': 5.9972386225126684e-05,\n",
              " 'bath towel': 0.0007032993016764522,\n",
              " 'bathtub': 0.00045827668509446084,\n",
              " 'beach wagon': 0.00041100874659605324,\n",
              " 'beacon': 0.00024964651674963534,\n",
              " 'beaker': 0.00020904002303723246,\n",
              " 'bearskin': 0.00013852304255124182,\n",
              " 'beer bottle': 0.0027219539042562246,\n",
              " 'beer glass': 0.000460777897387743,\n",
              " 'bell cote': 0.00044894780148752034,\n",
              " 'bib': 0.0001307121419813484,\n",
              " 'bicycle-built-for-two': 0.0001394639111822471,\n",
              " 'bikini': 0.0005212824908085167,\n",
              " 'binder': 0.0003490615345072001,\n",
              " 'binoculars': 0.00011561446444829926,\n",
              " 'birdhouse': 0.00017019486404024065,\n",
              " 'boathouse': 0.00018702360102906823,\n",
              " 'bobsled': 0.0011464792769402266,\n",
              " 'bolo tie': 0.0003139427280984819,\n",
              " 'bonnet': 0.0002660700411070138,\n",
              " 'bookcase': 0.00022131591686047614,\n",
              " 'bookshop': 0.00024736698833294213,\n",
              " 'bottlecap': 0.000899655744433403,\n",
              " 'bow': 0.003443155437707901,\n",
              " 'bow tie': 0.0004895926686003804,\n",
              " 'brass': 0.000207894277991727,\n",
              " 'brassiere': 0.000498235400300473,\n",
              " 'breakwater': 0.0007565313135273755,\n",
              " 'breastplate': 6.126118387328461e-05,\n",
              " 'broom': 0.0002572433149907738,\n",
              " 'bucket': 0.001376692089252174,\n",
              " 'buckle': 0.00011188961798325181,\n",
              " 'bulletproof vest': 0.0001261284196516499,\n",
              " 'bullet train': 0.0005665149656124413,\n",
              " 'butcher shop': 0.0006071805255487561,\n",
              " 'cab': 0.0001946858683368191,\n",
              " 'caldron': 0.0005267234519124031,\n",
              " 'candle': 0.0006628017290495336,\n",
              " 'cannon': 0.00018711572920437902,\n",
              " 'canoe': 0.00013018336903769523,\n",
              " 'can opener': 0.0003563352220226079,\n",
              " 'cardigan': 0.0001355706190224737,\n",
              " 'car mirror': 0.0015330362366512418,\n",
              " 'carousel': 0.000675734132528305,\n",
              " \"carpenter's kit\": 0.00029514331254176795,\n",
              " 'carton': 0.0011187222553417087,\n",
              " 'car wheel': 0.0003550250257831067,\n",
              " 'cash machine': 0.000450232153525576,\n",
              " 'cassette': 0.00017808911798056215,\n",
              " 'cassette player': 0.0002264550857944414,\n",
              " 'castle': 0.0004721676523331553,\n",
              " 'catamaran': 7.983863179106265e-05,\n",
              " 'CD player': 4.836840889765881e-05,\n",
              " 'cello': 0.001389596494846046,\n",
              " 'cellular telephone': 3.292561450507492e-05,\n",
              " 'chain': 0.00031723937718197703,\n",
              " 'chainlink fence': 0.0003189130802638829,\n",
              " 'chain mail': 0.0002741127391345799,\n",
              " 'chain saw': 0.00014620732690673321,\n",
              " 'chest': 0.00032540690153837204,\n",
              " 'chiffonier': 7.451046258211136e-05,\n",
              " 'chime': 0.0010491033317521214,\n",
              " 'china cabinet': 8.143971354002133e-05,\n",
              " 'Christmas stocking': 0.000428065744927153,\n",
              " 'church': 0.00039339554496109486,\n",
              " 'cinema': 0.0008150634239427745,\n",
              " 'cleaver': 3.964344796258956e-05,\n",
              " 'cliff dwelling': 7.487303082598373e-05,\n",
              " 'cloak': 0.0004424353828653693,\n",
              " 'clog': 0.0002205947384936735,\n",
              " 'cocktail shaker': 0.0003267799038439989,\n",
              " 'coffee mug': 0.00037871862878091633,\n",
              " 'coffeepot': 0.0002312584692845121,\n",
              " 'coil': 0.0006204020464792848,\n",
              " 'combination lock': 2.9102195185259916e-05,\n",
              " 'computer keyboard': 0.0008481419063173234,\n",
              " 'confectionery': 0.0002713889698497951,\n",
              " 'container ship': 0.00017895775090437382,\n",
              " 'convertible': 0.00044798164162784815,\n",
              " 'corkscrew': 0.0006752465269528329,\n",
              " 'cornet': 0.0003499538288451731,\n",
              " 'cowboy boot': 0.00022947740217205137,\n",
              " 'cowboy hat': 0.0005727934185415506,\n",
              " 'cradle': 0.0007202491397038102,\n",
              " 'crash helmet': 0.00024536228738725185,\n",
              " 'crate': 0.0002507621538825333,\n",
              " 'crib': 0.00013295130338519812,\n",
              " 'Crock Pot': 0.0003239662619307637,\n",
              " 'croquet ball': 0.00012118076847400516,\n",
              " 'crutch': 0.00022417471336666495,\n",
              " 'cuirass': 7.90002741268836e-05,\n",
              " 'dam': 0.00046041904715821147,\n",
              " 'desk': 0.00014388780982699245,\n",
              " 'desktop computer': 0.00010660551924956962,\n",
              " 'dial telephone': 4.323288158047944e-05,\n",
              " 'diaper': 0.00017756457964424044,\n",
              " 'digital clock': 4.054928649566136e-05,\n",
              " 'digital watch': 0.00010170885798288509,\n",
              " 'dining table': 0.00011343716323608533,\n",
              " 'dishrag': 0.0002688649983610958,\n",
              " 'dishwasher': 0.0006064415210857987,\n",
              " 'disk brake': 0.0005279769538901746,\n",
              " 'dock': 0.0016852349508553743,\n",
              " 'dogsled': 0.0011617549462243915,\n",
              " 'dome': 0.0005837209755554795,\n",
              " 'doormat': 0.007329787593334913,\n",
              " 'drilling platform': 9.595384472049773e-05,\n",
              " 'drum': 0.00015924795297905803,\n",
              " 'drumstick': 0.00022126684780232608,\n",
              " 'dumbbell': 0.00025339124840684235,\n",
              " 'Dutch oven': 0.0005845181294716895,\n",
              " 'electric fan': 0.0008378486963920295,\n",
              " 'electric guitar': 0.0003229244612157345,\n",
              " 'electric locomotive': 0.00020266514911781996,\n",
              " 'entertainment center': 0.0005995234241709113,\n",
              " 'envelope': 0.00011171789810759947,\n",
              " 'espresso maker': 5.3061368816997856e-05,\n",
              " 'face powder': 9.395127563038841e-05,\n",
              " 'feather boa': 0.0004484420351218432,\n",
              " 'file': 0.0002585904730949551,\n",
              " 'fireboat': 0.00016172074538189918,\n",
              " 'fire engine': 0.00010511407890589908,\n",
              " 'fire screen': 0.0002486964804120362,\n",
              " 'flagpole': 0.00024630464031361043,\n",
              " 'flute': 0.00021582853514701128,\n",
              " 'folding chair': 0.0002455670037306845,\n",
              " 'football helmet': 0.0004893629811704159,\n",
              " 'forklift': 0.0002789968566503376,\n",
              " 'fountain': 0.00011988769983872771,\n",
              " 'fountain pen': 0.0004738436546176672,\n",
              " 'four-poster': 0.00017577344260644168,\n",
              " 'freight car': 0.00017338340694550425,\n",
              " 'French horn': 0.0002562817244324833,\n",
              " 'frying pan': 0.00013104433310218155,\n",
              " 'fur coat': 0.0025098316837102175,\n",
              " 'garbage truck': 0.001482561812736094,\n",
              " 'gasmask': 0.0011161707807332277,\n",
              " 'gas pump': 8.312757563544437e-05,\n",
              " 'goblet': 0.00025139909121207893,\n",
              " 'go-kart': 6.301701068878174e-05,\n",
              " 'golf ball': 0.00015772315964568406,\n",
              " 'golfcart': 0.00024006346939131618,\n",
              " 'gondola': 0.00022820201411377639,\n",
              " 'gong': 0.0006884302711114287,\n",
              " 'gown': 0.0004162132681813091,\n",
              " 'grand piano': 0.00047509389696642756,\n",
              " 'greenhouse': 0.00024304261023644358,\n",
              " 'grille': 0.0002170954248867929,\n",
              " 'grocery store': 0.00034330750349909067,\n",
              " 'guillotine': 0.00016519521886948496,\n",
              " 'hair slide': 0.0002896880905609578,\n",
              " 'hair spray': 0.00010702383588068187,\n",
              " 'half track': 0.000607092515565455,\n",
              " 'hammer': 0.0006207091500982642,\n",
              " 'hamper': 0.00017600097635295242,\n",
              " 'hand blower': 0.0001762068859534338,\n",
              " 'hand-held computer': 0.00015636080934200436,\n",
              " 'handkerchief': 0.00016314595995936543,\n",
              " 'hard disc': 0.00011909088789252564,\n",
              " 'harmonica': 7.717574771959335e-05,\n",
              " 'harp': 0.0006522046169266105,\n",
              " 'harvester': 0.0002864066627807915,\n",
              " 'hatchet': 0.0005294970469549298,\n",
              " 'holster': 0.0012815400259569287,\n",
              " 'home theater': 0.00021298942738212645,\n",
              " 'honeycomb': 0.0005708163371309638,\n",
              " 'hook': 0.0005126147298142314,\n",
              " 'hoopskirt': 0.0010131355375051498,\n",
              " 'horizontal bar': 0.00034241093089804053,\n",
              " 'horse cart': 0.00014010084851179272,\n",
              " 'hourglass': 0.000132683664560318,\n",
              " 'iPod': 0.00010961858788505197,\n",
              " 'iron': 0.0005463754059746861,\n",
              " \"jack-o'-lantern\": 0.00043149408884346485,\n",
              " 'jean': 0.0006283499533310533,\n",
              " 'jeep': 9.900455916067585e-05,\n",
              " 'jersey': 0.00012960343156009912,\n",
              " 'jigsaw puzzle': 4.8266665544360876e-05,\n",
              " 'jinrikisha': 0.0001652241189731285,\n",
              " 'joystick': 6.518713053083047e-05,\n",
              " 'kimono': 0.000800803245510906,\n",
              " 'knee pad': 0.0001836390874814242,\n",
              " 'knot': 0.00016286481695715338,\n",
              " 'lab coat': 0.0026277543511241674,\n",
              " 'ladle': 0.0002867951989173889,\n",
              " 'lampshade': 0.000352570234099403,\n",
              " 'laptop': 5.633435648633167e-05,\n",
              " 'lawn mower': 8.28471384011209e-05,\n",
              " 'lens cap': 0.0012296821223571897,\n",
              " 'letter opener': 0.0003045166959054768,\n",
              " 'library': 0.0005853777984157205,\n",
              " 'lifeboat': 0.001161182881332934,\n",
              " 'lighter': 0.0004962276434525847,\n",
              " 'limousine': 0.00012612600403372198,\n",
              " 'liner': 0.00042177882278338075,\n",
              " 'lipstick': 1.3581235180026852e-05,\n",
              " 'Loafer': 0.000877697893884033,\n",
              " 'lotion': 0.000817248597741127,\n",
              " 'loudspeaker': 0.000316781981382519,\n",
              " 'loupe': 0.00014580978313460946,\n",
              " 'lumbermill': 0.0012038435088470578,\n",
              " 'magnetic compass': 0.00037312443600967526,\n",
              " 'mailbag': 0.00043987511890009046,\n",
              " 'mailbox': 8.849108417052776e-05,\n",
              " 'maillot': 6.996473530307412e-05,\n",
              " 'manhole cover': 0.00015538372099399567,\n",
              " 'maraca': 0.00014247007493395358,\n",
              " 'marimba': 0.00017191350343637168,\n",
              " 'mask': 0.000225018200580962,\n",
              " 'matchstick': 0.0007983756950125098,\n",
              " 'maypole': 0.00021209694386925548,\n",
              " 'maze': 0.00015806601732037961,\n",
              " 'measuring cup': 0.00011844957043649629,\n",
              " 'medicine chest': 9.716230852063745e-05,\n",
              " 'megalith': 0.0003738592495210469,\n",
              " 'microphone': 7.927305705379695e-05,\n",
              " 'microwave': 0.00020040110393892974,\n",
              " 'military uniform': 9.273613977711648e-05,\n",
              " 'milk can': 0.00014650545199401677,\n",
              " 'minibus': 7.381043542409316e-05,\n",
              " 'miniskirt': 0.00025603899848647416,\n",
              " 'minivan': 0.00015782374248374254,\n",
              " 'missile': 0.0005066595622338355,\n",
              " 'mitten': 0.00024522884632460773,\n",
              " 'mixing bowl': 0.00040039114537648857,\n",
              " 'mobile home': 0.0002755374589469284,\n",
              " 'Model T': 0.00022735570382792503,\n",
              " 'modem': 7.697284308960661e-05,\n",
              " 'monastery': 0.0004308312782086432,\n",
              " 'monitor': 0.0015177219174802303,\n",
              " 'moped': 0.0004199617833364755,\n",
              " 'mortar': 5.209755909163505e-05,\n",
              " 'mortarboard': 0.00034231331665068865,\n",
              " 'mosque': 0.00021752585598733276,\n",
              " 'mosquito net': 0.00010368655784986913,\n",
              " 'motor scooter': 0.0008649664814583957,\n",
              " 'mountain bike': 0.0007070791907608509,\n",
              " 'mountain tent': 0.0007729758508503437,\n",
              " 'mouse': 0.000307601410895586,\n",
              " 'mousetrap': 0.00020062005205545574,\n",
              " 'moving van': 0.000802771479357034,\n",
              " 'muzzle': 0.0035203176084905863,\n",
              " 'nail': 0.0012814514338970184,\n",
              " 'neck brace': 0.0018118440639227629,\n",
              " 'necklace': 0.000957196403760463,\n",
              " 'nipple': 0.0001899454218801111,\n",
              " 'notebook': 0.0006211127620190382,\n",
              " 'obelisk': 0.00011156208347529173,\n",
              " 'oboe': 8.386613626498729e-05,\n",
              " 'ocarina': 2.640374623297248e-05,\n",
              " 'odometer': 0.00016160371887963265,\n",
              " 'oil filter': 6.691730231977999e-05,\n",
              " 'organ': 0.00015959581651259214,\n",
              " 'oscilloscope': 6.900817970745265e-05,\n",
              " 'overskirt': 0.00018851937784347683,\n",
              " 'oxcart': 0.00032916106283664703,\n",
              " 'oxygen mask': 0.0005464384448714554,\n",
              " 'packet': 7.148561417125165e-05,\n",
              " 'paddle': 0.0002008877054322511,\n",
              " 'paddlewheel': 0.0003165805246680975,\n",
              " 'padlock': 0.00022313182125799358,\n",
              " 'paintbrush': 0.00020356559252832085,\n",
              " 'pajama': 2.136942021024879e-05,\n",
              " 'palace': 0.0001255230890819803,\n",
              " 'panpipe': 0.0004912192234769464,\n",
              " 'paper towel': 0.00045211438555270433,\n",
              " 'parachute': 0.000819493958260864,\n",
              " 'parallel bars': 0.00015338316734414548,\n",
              " 'park bench': 0.00017456180648878217,\n",
              " 'parking meter': 0.00015424223965965211,\n",
              " 'passenger car': 0.00021288057905621827,\n",
              " 'patio': 0.00013189075980335474,\n",
              " 'pay-phone': 0.00018835252558346838,\n",
              " 'pedestal': 0.00036861581611447036,\n",
              " 'pencil box': 0.00017178723646793514,\n",
              " 'pencil sharpener': 0.00019422234618104994,\n",
              " 'perfume': 0.00042828256846405566,\n",
              " 'Petri dish': 6.385817687259987e-05,\n",
              " 'photocopier': 0.0002712417335715145,\n",
              " 'pick': 0.00023717661679256707,\n",
              " 'pickelhaube': 0.00018095350242219865,\n",
              " 'picket fence': 0.00022537933546118438,\n",
              " 'pickup': 0.0002219714951934293,\n",
              " 'pier': 4.385560896480456e-05,\n",
              " 'piggy bank': 5.710859113605693e-05,\n",
              " 'pill bottle': 0.00018385611474514008,\n",
              " 'pillow': 7.452637510141358e-05,\n",
              " 'ping-pong ball': 0.0005597659037448466,\n",
              " 'pinwheel': 0.0007901752833276987,\n",
              " 'pirate': 0.00021177406597416848,\n",
              " 'pitcher': 6.383735308190808e-05,\n",
              " 'plane': 0.0006119280587881804,\n",
              " 'planetarium': 0.00025810004444792867,\n",
              " 'plastic bag': 0.0010418538004159927,\n",
              " 'plate rack': 0.0001238518743775785,\n",
              " 'plow': 0.00012146690278314054,\n",
              " 'plunger': 0.00026315826107747853,\n",
              " 'Polaroid camera': 7.956704212119803e-05,\n",
              " 'pole': 0.00046245125122368336,\n",
              " 'police van': 0.00018168399401474744,\n",
              " 'poncho': 0.0005249465466476977,\n",
              " 'pool table': 0.00030187718220986426,\n",
              " 'pop bottle': 0.0009175954037345946,\n",
              " 'pot': 0.00042157070129178464,\n",
              " \"potter's wheel\": 6.768196180928499e-05,\n",
              " 'power drill': 9.83456993708387e-05,\n",
              " 'prayer rug': 0.0003402060247026384,\n",
              " 'printer': 0.0006321368855424225,\n",
              " 'prison': 2.4244232918135822e-05,\n",
              " 'projectile': 0.0008285989752039313,\n",
              " 'projector': 0.0002928508329205215,\n",
              " 'puck': 0.00015620229532942176,\n",
              " 'punching bag': 0.0007754670223221183,\n",
              " 'purse': 0.0002706569794099778,\n",
              " 'quill': 0.00040698194061405957,\n",
              " 'quilt': 0.00020858617790509015,\n",
              " 'racer': 0.00011677120346575975,\n",
              " 'racket': 0.00022789547801949084,\n",
              " 'radiator': 0.00035683391615748405,\n",
              " 'radio': 0.0001346258504781872,\n",
              " 'radio telescope': 0.000432817469118163,\n",
              " 'rain barrel': 0.0005529745831154287,\n",
              " 'recreational vehicle': 0.00021381795522756875,\n",
              " 'reel': 0.00038228859193623066,\n",
              " 'reflex camera': 0.0001634561049286276,\n",
              " 'refrigerator': 0.0005980526912026107,\n",
              " 'remote control': 0.00034302950371056795,\n",
              " 'restaurant': 0.00014302475028671324,\n",
              " 'revolver': 0.000772923172917217,\n",
              " 'rifle': 0.0005741190398111939,\n",
              " 'rocking chair': 0.0005571338697336614,\n",
              " 'rotisserie': 0.000311980489641428,\n",
              " 'rubber eraser': 6.202807708177716e-05,\n",
              " 'rugby ball': 0.0005013167974539101,\n",
              " 'rule': 0.00021345121785998344,\n",
              " 'running shoe': 0.00041822358616627753,\n",
              " 'safe': 0.00026006298139691353,\n",
              " 'safety pin': 0.0007386000943370163,\n",
              " 'saltshaker': 5.2373387006809935e-05,\n",
              " 'sandal': 0.00014222612662706524,\n",
              " 'sarong': 0.000306169968098402,\n",
              " 'sax': 0.0002463608980178833,\n",
              " 'scabbard': 0.00022843285114504397,\n",
              " 'scale': 0.0007140599773265421,\n",
              " 'school bus': 0.00017981244309339672,\n",
              " 'schooner': 0.001393995014950633,\n",
              " 'scoreboard': 0.00015087865176610649,\n",
              " 'screen': 0.0006447192863561213,\n",
              " 'screw': 3.918708171113394e-05,\n",
              " 'screwdriver': 0.00018557984731160104,\n",
              " 'seat belt': 0.0003534219285938889,\n",
              " 'sewing machine': 0.00045643842895515263,\n",
              " 'shield': 0.0006752487970516086,\n",
              " 'shoe shop': 0.0001204666041303426,\n",
              " 'shoji': 0.0006210606079548597,\n",
              " 'shopping basket': 0.0003958766465075314,\n",
              " 'shopping cart': 0.0004668612382374704,\n",
              " 'shovel': 0.00011951822671107948,\n",
              " 'shower cap': 0.00032630792702548206,\n",
              " 'shower curtain': 9.718565706862137e-05,\n",
              " 'ski': 0.0012510588858276606,\n",
              " 'ski mask': 0.00031761007267050445,\n",
              " 'sleeping bag': 0.00041321475873701274,\n",
              " 'slide rule': 0.0001639248221181333,\n",
              " 'sliding door': 0.00012946853530593216,\n",
              " 'slot': 0.00026924203848466277,\n",
              " 'snorkel': 0.00022812663519289345,\n",
              " 'snowmobile': 0.001537852338515222,\n",
              " 'snowplow': 0.0010349760996177793,\n",
              " 'soap dispenser': 9.292567847296596e-05,\n",
              " 'soccer ball': 0.00023873800819274038,\n",
              " 'sock': 0.00012836653331760317,\n",
              " 'solar dish': 0.00025136672775261104,\n",
              " 'sombrero': 0.00033041893038898706,\n",
              " 'soup bowl': 0.0005235556163825095,\n",
              " 'space bar': 0.00041580680408515036,\n",
              " 'space heater': 0.0012860724236816168,\n",
              " 'space shuttle': 0.0003630465071182698,\n",
              " 'spatula': 8.279449684778228e-05,\n",
              " 'speedboat': 8.991917275125161e-05,\n",
              " 'spider web': 0.00024537305580452085,\n",
              " 'spindle': 0.00014458810619544238,\n",
              " 'sports car': 0.0001460326457163319,\n",
              " 'spotlight': 0.00024313267203979194,\n",
              " 'stage': 0.0006800406845286489,\n",
              " 'steam locomotive': 0.0002936334640253335,\n",
              " 'steel arch bridge': 0.00020269956439733505,\n",
              " 'steel drum': 9.720429079607129e-05,\n",
              " 'stethoscope': 0.00013901136117056012,\n",
              " 'stole': 0.00010666786693036556,\n",
              " 'stone wall': 0.0012168498942628503,\n",
              " 'stopwatch': 9.311960457125679e-05,\n",
              " 'stove': 9.979743481380865e-05,\n",
              " 'strainer': 0.00022785061446484178,\n",
              " 'streetcar': 0.00030638070893473923,\n",
              " 'stretcher': 0.0002692442503757775,\n",
              " 'studio couch': 0.00038126276922412217,\n",
              " 'stupa': 0.0005570061621256173,\n",
              " 'submarine': 0.0004243426083121449,\n",
              " 'suit': 0.0007056191097944975,\n",
              " 'sundial': 0.00036439794348552823,\n",
              " 'sunglass': 0.001898114220239222,\n",
              " 'sunglasses': 0.0009486747439950705,\n",
              " 'sunscreen': 0.0010927804978564382,\n",
              " 'suspension bridge': 0.00024738055071793497,\n",
              " 'swab': 0.0005779769853688776,\n",
              " 'sweatshirt': 0.0006196709000505507,\n",
              " 'swimming trunks': 0.000636900425888598,\n",
              " 'swing': 0.0004897663602605462,\n",
              " 'switch': 5.680939648300409e-05,\n",
              " 'syringe': 0.0001982467365451157,\n",
              " 'table lamp': 0.000301390013191849,\n",
              " 'tank': 0.00048132947995327413,\n",
              " 'tape player': 0.000354465824784711,\n",
              " 'teapot': 8.263767085736617e-05,\n",
              " 'teddy': 0.0004154869238846004,\n",
              " 'television': 0.0005983116570860147,\n",
              " 'tennis ball': 0.0018654194427654147,\n",
              " 'thatch': 0.00021639357146341354,\n",
              " 'theater curtain': 0.00037917360896244645,\n",
              " 'thimble': 0.00012996119039598852,\n",
              " 'thresher': 0.00021294901671353728,\n",
              " 'throne': 4.9216199840884656e-05,\n",
              " 'tile roof': 0.0006109647220000625,\n",
              " 'toaster': 0.00010623837442835793,\n",
              " 'tobacco shop': 0.00023748815874569118,\n",
              " 'toilet seat': 0.0002263528440380469,\n",
              " 'torch': 0.007746015675365925,\n",
              " 'totem pole': 0.00026816604076884687,\n",
              " 'tow truck': 0.0012002979638054967,\n",
              " 'toyshop': 0.0008454821072518826,\n",
              " 'tractor': 0.00010167899017687887,\n",
              " 'trailer truck': 0.0005365883698686957,\n",
              " 'tray': 0.00018836106755770743,\n",
              " 'trench coat': 0.0007152986945584416,\n",
              " 'tricycle': 0.0002857912622857839,\n",
              " 'trimaran': 0.000245942355832085,\n",
              " 'tripod': 0.0006408708286471665,\n",
              " 'triumphal arch': 6.259993824642152e-05,\n",
              " 'trolleybus': 0.00013174857303965837,\n",
              " 'trombone': 0.00013531680451706052,\n",
              " 'tub': 0.0021701946388930082,\n",
              " 'turnstile': 7.545475818915293e-05,\n",
              " 'typewriter keyboard': 0.0006154137663543224,\n",
              " 'umbrella': 0.00027241554926149547,\n",
              " 'unicycle': 0.002420770702883601,\n",
              " 'upright': 0.00021767953876405954,\n",
              " 'vacuum': 0.0006326392758637667,\n",
              " 'vase': 0.0006053831893950701,\n",
              " 'vault': 0.0009208587580360472,\n",
              " 'velvet': 0.0002318172191735357,\n",
              " 'vending machine': 0.00021406023006420583,\n",
              " 'vestment': 0.0010860052425414324,\n",
              " 'viaduct': 0.00017877385835163295,\n",
              " 'violin': 0.0024464521557092667,\n",
              " 'volleyball': 0.0006354688666760921,\n",
              " 'waffle iron': 0.0001276970433536917,\n",
              " 'wall clock': 0.0001694352540653199,\n",
              " 'wallet': 0.00022613794135395437,\n",
              " 'wardrobe': 0.0002946733729913831,\n",
              " 'warplane': 0.00021151854889467359,\n",
              " 'washbasin': 0.00026461019297130406,\n",
              " 'washer': 0.0008567538461647928,\n",
              " 'water bottle': 0.0003648856654763222,\n",
              " 'water jug': 0.00018483228632248938,\n",
              " 'water tower': 6.504460907308385e-05,\n",
              " 'whiskey jug': 0.0004154851194471121,\n",
              " 'whistle': 0.00018320983508601785,\n",
              " 'wig': 0.0001380535395583138,\n",
              " 'window screen': 0.0006167745450511575,\n",
              " 'window shade': 0.00032077691867016256,\n",
              " 'Windsor tie': 0.0011482376139611006,\n",
              " 'wine bottle': 0.0009707617573440075,\n",
              " 'wing': 0.00010949555871775374,\n",
              " 'wok': 0.0002411526074865833,\n",
              " 'wooden spoon': 2.602187669253908e-05,\n",
              " 'wool': 0.0003560045443009585,\n",
              " 'worm fence': 0.00036671539419330657,\n",
              " 'wreck': 0.00024137199216056615,\n",
              " 'yawl': 0.0018864594167098403,\n",
              " 'yurt': 0.00013747926277574152,\n",
              " 'web site': 0.000409903732361272,\n",
              " 'comic book': 6.816129462094977e-05,\n",
              " 'crossword puzzle': 6.620995554840192e-05,\n",
              " 'street sign': 0.00013122710515744984,\n",
              " 'traffic light': 0.00044794532004743814,\n",
              " 'book jacket': 0.0010243719443678856,\n",
              " 'menu': 0.00011320551129756495,\n",
              " 'plate': 8.603864262113348e-05,\n",
              " 'guacamole': 0.0005275657749734819,\n",
              " 'consomme': 0.0003866936604026705,\n",
              " 'hot pot': 0.00011909280874533579,\n",
              " 'trifle': 0.00019339669961482286,\n",
              " 'ice cream': 0.00037600265932269394,\n",
              " 'ice lolly': 6.960698374314234e-05,\n",
              " 'French loaf': 0.0005241363542154431,\n",
              " 'bagel': 0.00019229123427066952,\n",
              " 'pretzel': 0.0010349248768761754,\n",
              " 'cheeseburger': 0.00014491430192720145,\n",
              " 'hotdog': 0.003982244990766048,\n",
              " 'mashed potato': 0.0002559306158218533,\n",
              " 'head cabbage': 5.076972593087703e-05,\n",
              " 'broccoli': 0.00012953090481460094,\n",
              " 'cauliflower': 0.00023846770636737347,\n",
              " 'zucchini': 0.00032113000634126365,\n",
              " 'spaghetti squash': 3.2500076486030594e-05,\n",
              " 'acorn squash': 6.249525176826864e-05,\n",
              " 'butternut squash': 0.0001489177084295079,\n",
              " 'cucumber': 4.057681144331582e-05,\n",
              " 'artichoke': 0.00012644226080738008,\n",
              " 'bell pepper': 8.562172297388315e-05,\n",
              " 'cardoon': 0.00013529662101063877,\n",
              " 'mushroom': 0.0004889594274573028,\n",
              " 'Granny Smith': 0.0004489657876547426,\n",
              " 'strawberry': 5.192628304939717e-05,\n",
              " 'orange': 0.0004254005616530776,\n",
              " 'lemon': 0.0002264067152282223,\n",
              " 'fig': 0.00012875314860139042,\n",
              " 'pineapple': 0.0002286819799337536,\n",
              " 'banana': 0.00010712610674090683,\n",
              " 'jackfruit': 0.0003414771636016667,\n",
              " 'custard apple': 5.7483430282445624e-05,\n",
              " 'pomegranate': 0.00014704183558933437,\n",
              " 'hay': 0.0003933670523110777,\n",
              " 'carbonara': 0.00017121878045145422,\n",
              " 'chocolate sauce': 0.00040328368777409196,\n",
              " 'dough': 7.284693128895015e-05,\n",
              " 'meat loaf': 9.040661825565621e-05,\n",
              " 'pizza': 0.0005936547531746328,\n",
              " 'potpie': 0.0006079601007513702,\n",
              " 'burrito': 0.00013691338244825602,\n",
              " 'red wine': 0.00017375676543451846,\n",
              " 'espresso': 0.00039541011210530996,\n",
              " 'cup': 0.0002753736625891179,\n",
              " 'eggnog': 0.0005493999342434108,\n",
              " 'alp': 0.0004362094041425735,\n",
              " 'bubble': 0.000469741178676486,\n",
              " 'cliff': 0.000614840944763273,\n",
              " 'coral reef': 0.00028401718009263277,\n",
              " 'geyser': 0.0003032294334843755,\n",
              " 'lakeside': 0.00037180163781158626,\n",
              " 'promontory': 0.0006378985708579421,\n",
              " 'sandbar': 6.130849214969203e-05,\n",
              " 'seashore': 0.00017371981812175363,\n",
              " 'valley': 0.0002264562644995749,\n",
              " 'volcano': 0.00025771046057343483,\n",
              " 'ballplayer': 0.00015787672600708902,\n",
              " 'groom': 0.0006509847589768469,\n",
              " 'scuba diver': 0.00019703336874954402,\n",
              " 'rapeseed': 0.00015797508240211755,\n",
              " 'daisy': 0.0007575080380775034,\n",
              " \"yellow lady's slipper\": 0.000753315631300211,\n",
              " 'corn': 0.0006279947701841593,\n",
              " 'acorn': 0.00021578356972895563,\n",
              " 'hip': 0.0005212158430367708,\n",
              " 'buckeye': 0.00018933728279080242,\n",
              " 'coral fungus': 0.004501686431467533,\n",
              " 'agaric': 0.0004958049976266921,\n",
              " 'gyromitra': 0.0012089497176930308,\n",
              " 'stinkhorn': 0.0007331657106988132,\n",
              " 'earthstar': 0.0006054620025679469,\n",
              " 'hen-of-the-woods': 0.0005381047958508134,\n",
              " 'bolete': 7.646500307600945e-05,\n",
              " 'ear': 0.0005462998524308205,\n",
              " 'toilet tissue': 0.00031549460254609585}"
            ]
          },
          "metadata": {},
          "execution_count": 61
        }
      ]
    },
    {
      "cell_type": "markdown",
      "source": [
        "- output 값을 드디어 확인할 수 있다. 그런데 왜 샴고양이가 0.01785737089812755 값이 나오는데 위에서는 13%라고 했을까?"
      ],
      "metadata": {
        "id": "RCmACqoY6D2w"
      },
      "id": "RCmACqoY6D2w"
    },
    {
      "cell_type": "code",
      "source": [
        "classification = gr.Interface(fn=classify_image,\n",
        "                              inputs = gr.Image(shape=(224,224)),\n",
        "                              outputs = gr.Label(num_top_classes=5))\n",
        "\n",
        "classification.launch()"
      ],
      "metadata": {
        "colab": {
          "base_uri": "https://localhost:8080/",
          "height": 618
        },
        "id": "SQ9kPy0g4Sw2",
        "outputId": "670fd5db-cfe0-4576-d8c1-19f4bd456859"
      },
      "id": "SQ9kPy0g4Sw2",
      "execution_count": 62,
      "outputs": [
        {
          "output_type": "stream",
          "name": "stdout",
          "text": [
            "Colab notebook detected. To show errors in colab notebook, set debug=True in launch()\n",
            "Note: opening Chrome Inspector may crash demo inside Colab notebooks.\n",
            "\n",
            "To create a public link, set `share=True` in `launch()`.\n"
          ]
        },
        {
          "output_type": "display_data",
          "data": {
            "text/plain": [
              "<IPython.core.display.Javascript object>"
            ],
            "application/javascript": [
              "(async (port, path, width, height, cache, element) => {\n",
              "                        if (!google.colab.kernel.accessAllowed && !cache) {\n",
              "                            return;\n",
              "                        }\n",
              "                        element.appendChild(document.createTextNode(''));\n",
              "                        const url = await google.colab.kernel.proxyPort(port, {cache});\n",
              "\n",
              "                        const external_link = document.createElement('div');\n",
              "                        external_link.innerHTML = `\n",
              "                            <div style=\"font-family: monospace; margin-bottom: 0.5rem\">\n",
              "                                Running on <a href=${new URL(path, url).toString()} target=\"_blank\">\n",
              "                                    https://localhost:${port}${path}\n",
              "                                </a>\n",
              "                            </div>\n",
              "                        `;\n",
              "                        element.appendChild(external_link);\n",
              "\n",
              "                        const iframe = document.createElement('iframe');\n",
              "                        iframe.src = new URL(path, url).toString();\n",
              "                        iframe.height = height;\n",
              "                        iframe.allow = \"autoplay; camera; microphone; clipboard-read; clipboard-write;\"\n",
              "                        iframe.width = width;\n",
              "                        iframe.style.border = 0;\n",
              "                        element.appendChild(iframe);\n",
              "                    })(7862, \"/\", \"100%\", 500, false, window.element)"
            ]
          },
          "metadata": {}
        },
        {
          "output_type": "execute_result",
          "data": {
            "text/plain": []
          },
          "metadata": {},
          "execution_count": 62
        }
      ]
    },
    {
      "cell_type": "markdown",
      "source": [
        "- Unexpected end of JSON input 오류가 여기서도 발생했다. 결국 gradio와 코드로 값을 확인하는 함수로 요구하는 것이 서로 다르다는 것 같다."
      ],
      "metadata": {
        "id": "aH-cEGyX4jFP"
      },
      "id": "aH-cEGyX4jFP"
    },
    {
      "cell_type": "markdown",
      "source": [
        "# cifar10으로 시험 코드"
      ],
      "metadata": {
        "id": "4Pgi1ut117xB"
      },
      "id": "4Pgi1ut117xB"
    },
    {
      "cell_type": "code",
      "execution_count": null,
      "id": "81c189fb",
      "metadata": {
        "colab": {
          "base_uri": "https://localhost:8080/"
        },
        "id": "81c189fb",
        "outputId": "2da5bbb5-0712-4668-fb03-29394e6f5cf5"
      },
      "outputs": [
        {
          "output_type": "stream",
          "name": "stdout",
          "text": [
            "Downloading data from https://www.cs.toronto.edu/~kriz/cifar-10-python.tar.gz\n",
            "170498071/170498071 [==============================] - 2s 0us/step\n",
            "Epoch 1/40\n",
            "74/74 [==============================] - 36s 473ms/step - loss: 2.4578 - accuracy: 0.2354 - val_loss: 6.6257 - val_accuracy: 0.1426\n",
            "Epoch 2/40\n",
            "74/74 [==============================] - 35s 468ms/step - loss: 2.0762 - accuracy: 0.3089 - val_loss: 3.5605 - val_accuracy: 0.2335\n",
            "Epoch 3/40\n",
            "74/74 [==============================] - 35s 471ms/step - loss: 1.9017 - accuracy: 0.3467 - val_loss: 1.9820 - val_accuracy: 0.3050\n",
            "Epoch 4/40\n",
            "74/74 [==============================] - 35s 470ms/step - loss: 1.7887 - accuracy: 0.3739 - val_loss: 1.8091 - val_accuracy: 0.3538\n",
            "Epoch 5/40\n",
            "74/74 [==============================] - 32s 439ms/step - loss: 1.7203 - accuracy: 0.3960 - val_loss: 1.7812 - val_accuracy: 0.3682\n",
            "Epoch 6/40\n",
            "74/74 [==============================] - 34s 454ms/step - loss: 1.6731 - accuracy: 0.4113 - val_loss: 1.7431 - val_accuracy: 0.3920\n",
            "Epoch 7/40\n",
            "74/74 [==============================] - 33s 444ms/step - loss: 1.6345 - accuracy: 0.4222 - val_loss: 1.8034 - val_accuracy: 0.3747\n",
            "Epoch 8/40\n",
            "74/74 [==============================] - 34s 457ms/step - loss: 1.6162 - accuracy: 0.4283 - val_loss: 1.6994 - val_accuracy: 0.3861\n",
            "Epoch 9/40\n",
            "74/74 [==============================] - 33s 447ms/step - loss: 1.5947 - accuracy: 0.4366 - val_loss: 1.7607 - val_accuracy: 0.3996\n",
            "Epoch 10/40\n",
            "74/74 [==============================] - 32s 434ms/step - loss: 1.5756 - accuracy: 0.4390 - val_loss: 1.6721 - val_accuracy: 0.4148\n",
            "Epoch 11/40\n",
            "74/74 [==============================] - 33s 452ms/step - loss: 1.5675 - accuracy: 0.4438 - val_loss: 1.6770 - val_accuracy: 0.4204\n",
            "Epoch 12/40\n",
            "74/74 [==============================] - 35s 472ms/step - loss: 1.5656 - accuracy: 0.4431 - val_loss: 1.6937 - val_accuracy: 0.3956\n",
            "Epoch 13/40\n",
            "74/74 [==============================] - 33s 454ms/step - loss: 1.5621 - accuracy: 0.4446 - val_loss: 1.6818 - val_accuracy: 0.4018\n"
          ]
        }
      ],
      "source": [
        "# cifar10으로 예상 모형 만들기\n",
        "\n",
        "import gradio as gr\n",
        "import numpy as np\n",
        "import tensorflow as tf\n",
        "from tensorflow import keras\n",
        "from tensorflow.keras import layers\n",
        "from tensorflow.keras import callbacks\n",
        "from tensorflow.keras.datasets import cifar10\n",
        "from tensorflow.keras.utils import to_categorical\n",
        "from sklearn.model_selection import train_test_split\n",
        "\n",
        "def classify_image(image):\n",
        "    # Preprocess the image\n",
        "    image = image.reshape((1, 32 * 32 * 3)) / 255.0\n",
        "\n",
        "    # Load the trained model\n",
        "    model = keras.models.load_model('keras_cifar10_model.h5')\n",
        "\n",
        "    # Perform prediction\n",
        "    prediction = model.predict(image)\n",
        "    class_index = np.argmax(prediction)\n",
        "    class_name = class_names[class_index]\n",
        "\n",
        "    return class_name\n",
        "\n",
        "# Load CIFAR-10 dataset and split into train, validation, and test sets\n",
        "(x_train_full, y_train_full), (x_test, y_test) = cifar10.load_data()\n",
        "x_train, x_val, y_train, y_val = train_test_split(x_train_full,\n",
        "                                                  y_train_full,\n",
        "                                                  test_size=0.25,\n",
        "                                                  random_state=42)\n",
        "\n",
        "class_names = ['airplane', 'automobile', 'bird', 'cat', 'deer',\n",
        "               'dog', 'frog', 'horse', 'ship', 'truck']\n",
        "\n",
        "# Preprocess the data\n",
        "x_train = x_train.reshape(x_train.shape[0], 32 * 32 * 3)\n",
        "x_val = x_val.reshape(x_val.shape[0], 32 * 32 * 3)\n",
        "x_test = x_test.reshape(x_test.shape[0], 32 * 32 * 3)\n",
        "\n",
        "x_train = x_train / 255.\n",
        "x_val = x_val / 255.\n",
        "x_test = x_test / 255.\n",
        "\n",
        "y_train = to_categorical(y_train)\n",
        "y_val = to_categorical(y_val)\n",
        "y_test = to_categorical(y_test)\n",
        "\n",
        "# Define the model architecture\n",
        "model = keras.models.Sequential()\n",
        "model.add(layers.Input(shape=(3072,)))\n",
        "model.add(layers.Dense(2048, activation='relu'))\n",
        "model.add(layers.BatchNormalization())\n",
        "model.add(layers.Activation('relu'))\n",
        "model.add(layers.Dropout(0.5))\n",
        "model.add(layers.Dense(1024, activation='relu'))\n",
        "model.add(layers.BatchNormalization())\n",
        "model.add(layers.Activation('relu'))\n",
        "model.add(layers.Dropout(0.5))\n",
        "model.add(layers.Dense(512, activation='relu'))\n",
        "model.add(layers.BatchNormalization())\n",
        "model.add(layers.Activation('relu'))\n",
        "model.add(layers.Dropout(0.5))\n",
        "model.add(layers.Dense(10, activation='softmax', name='output'))\n",
        "\n",
        "model.compile(optimizer='rmsprop',\n",
        "              loss='categorical_crossentropy',\n",
        "              metrics=['accuracy'])\n",
        "\n",
        "# Define callbacks\n",
        "check_point_cb = callbacks.ModelCheckpoint('keras_cifar10_model.h5', save_best_only=True)\n",
        "early_stopping_cb = callbacks.EarlyStopping(patience=3,\n",
        "                                            monitor='val_loss',\n",
        "                                            restore_best_weights=True)\n",
        "\n",
        "# Train the model\n",
        "history = model.fit(x_train,\n",
        "                    y_train,\n",
        "                    epochs=40,\n",
        "                    batch_size=512,\n",
        "                    validation_data=(x_val, y_val),\n",
        "                    callbacks=[check_point_cb, early_stopping_cb])"
      ]
    },
    {
      "cell_type": "code",
      "source": [
        "# Define the Gradio interface\n",
        "iface = gr.Interface(fn=classify_image,\n",
        "                     inputs=gr.inputs.Image(shape=(32, 32)),\n",
        "                     outputs=gr.outputs.Label(num_top_classes=2))\n",
        "\n",
        "# Launch the interface\n",
        "iface.launch(share=True,\n",
        "             server_name = \"0.0.0.0\",\n",
        "             server_port = 300)\n",
        "            #  auth = (\"noname\", \"passwdl\"))"
      ],
      "metadata": {
        "colab": {
          "base_uri": "https://localhost:8080/",
          "height": 759
        },
        "id": "FaQMCTP7yMHg",
        "outputId": "83b218aa-d117-4cde-eb9f-67df9b7447b3"
      },
      "id": "FaQMCTP7yMHg",
      "execution_count": null,
      "outputs": [
        {
          "output_type": "stream",
          "name": "stderr",
          "text": [
            "<ipython-input-8-efccfe3798c5>:3: GradioDeprecationWarning: Usage of gradio.inputs is deprecated, and will not be supported in the future, please import your component from gradio.components\n",
            "  inputs=gr.inputs.Image(shape=(32, 32)),\n",
            "<ipython-input-8-efccfe3798c5>:3: GradioDeprecationWarning: `optional` parameter is deprecated, and it has no effect\n",
            "  inputs=gr.inputs.Image(shape=(32, 32)),\n",
            "<ipython-input-8-efccfe3798c5>:4: GradioDeprecationWarning: Usage of gradio.outputs is deprecated, and will not be supported in the future, please import your components from gradio.components\n",
            "  outputs=gr.outputs.Label(num_top_classes=2))\n",
            "<ipython-input-8-efccfe3798c5>:4: GradioUnusedKwargWarning: You have unused kwarg parameters in Label, please remove them: {'type': 'auto'}\n",
            "  outputs=gr.outputs.Label(num_top_classes=2))\n"
          ]
        },
        {
          "output_type": "stream",
          "name": "stdout",
          "text": [
            "Colab notebook detected. To show errors in colab notebook, set debug=True in launch()\n",
            "Running on public URL: https://0950c8587530685a44.gradio.live\n",
            "\n",
            "This share link expires in 72 hours. For free permanent hosting and GPU upgrades, run `gradio deploy` from Terminal to deploy to Spaces (https://huggingface.co/spaces)\n"
          ]
        },
        {
          "output_type": "display_data",
          "data": {
            "text/plain": [
              "<IPython.core.display.HTML object>"
            ],
            "text/html": [
              "<div><iframe src=\"https://0950c8587530685a44.gradio.live\" width=\"100%\" height=\"500\" allow=\"autoplay; camera; microphone; clipboard-read; clipboard-write;\" frameborder=\"0\" allowfullscreen></iframe></div>"
            ]
          },
          "metadata": {}
        },
        {
          "output_type": "execute_result",
          "data": {
            "text/plain": []
          },
          "metadata": {},
          "execution_count": 8
        }
      ]
    },
    {
      "cell_type": "markdown",
      "id": "8f6f4aab",
      "metadata": {
        "id": "8f6f4aab"
      },
      "source": [
        "- 위에서는 cifar10의 딥러닝 학습 분류 모델을 이용한 것을 gradio로 구현한 코드이다.\n",
        "    퍼스널 컬러 분류 코드가 만들어지면 위와 같이 구현할 수 있을 것이다."
      ]
    },
    {
      "cell_type": "markdown",
      "id": "553c1e70",
      "metadata": {
        "id": "553c1e70"
      },
      "source": [
        "- 퍼스널 컬러의(구현한다면) 퍼센테이지(%)를 확인할 수 있게 하기 위해 label의 top2를 나타내게 하고 싶은데 데모에선 됐는데 위에선 표시가 안 됐다. 다시 코드를 살펴보고 수정해야 할 것 같음"
      ]
    },
    {
      "cell_type": "markdown",
      "source": [
        "---\n",
        "- 분류모델(2)에서 알아낸 가설에 따르면 CIFAR10코드도 오류가 나야하는데 여기선 왜 정상작동하지?"
      ],
      "metadata": {
        "id": "2ZKFbKoH5Is1"
      },
      "id": "2ZKFbKoH5Is1"
    },
    {
      "cell_type": "markdown",
      "id": "8a44baba",
      "metadata": {
        "id": "8a44baba"
      },
      "source": [
        "# 1.수빈님 코드로 구현한 KNN 앱 구현"
      ]
    },
    {
      "cell_type": "markdown",
      "id": "f5876083",
      "metadata": {
        "id": "f5876083"
      },
      "source": [
        "## KNN 적용 퍼컬 앱 구현(1)"
      ]
    },
    {
      "cell_type": "code",
      "source": [
        "# 라이브러리 블러오기\n",
        "\n",
        "import tensorflow as tf\n",
        "import numpy as np\n",
        "import glob\n",
        "from PIL import Image"
      ],
      "metadata": {
        "id": "jlnqXtRI2I5b"
      },
      "id": "jlnqXtRI2I5b",
      "execution_count": null,
      "outputs": []
    },
    {
      "cell_type": "code",
      "source": [
        "# 데이터 불러오기\n",
        "\n",
        "def load_images_from_directory(directory_path):\n",
        "    image_paths = glob.glob(directory_path + '/*.jpg')  # 디렉토리 내의 모든 jpg 파일 경로 찾기\n",
        "    image_paths.extend(glob.glob(directory_path + '/*.jpeg'))\n",
        "\n",
        "    images = []\n",
        "    for image_path in image_paths:\n",
        "        image = Image.open(image_path)\n",
        "        image_np = np.array(image)\n",
        "        images.append(image_np)\n",
        "\n",
        "    return images"
      ],
      "metadata": {
        "id": "6z8G1UMV2TZd"
      },
      "id": "6z8G1UMV2TZd",
      "execution_count": null,
      "outputs": []
    },
    {
      "cell_type": "code",
      "source": [
        "# %cd /content/drive/MyDrive/Colab Notebooks/AIFFEL/Data/four_seasons/웜\n",
        "\n",
        "# !unzip -qq \"/content/drive/MyDrive/Colab Notebooks/AIFFEL/Four_seasons/사계절_연예인 이미지 데이터셋/prototype/웜톤/웜톤_jpg.zip\""
      ],
      "metadata": {
        "id": "xStbZGCwCOQo"
      },
      "id": "xStbZGCwCOQo",
      "execution_count": null,
      "outputs": []
    },
    {
      "cell_type": "code",
      "source": [
        "# %cd /content/drive/MyDrive/Colab Notebooks/AIFFEL/Data/four_seasons/쿨\n",
        "\n",
        "# !unzip -qq \"/content/drive/MyDrive/Colab Notebooks/AIFFEL/Four_seasons/사계절_연예인 이미지 데이터셋/prototype/쿨톤/쿨톤_jpg.zip\""
      ],
      "metadata": {
        "id": "lXP6a5wcCy4V"
      },
      "id": "lXP6a5wcCy4V",
      "execution_count": null,
      "outputs": []
    },
    {
      "cell_type": "code",
      "source": [
        "# 모든 이미지 불러오기\n",
        "directory_path = \"/content/drive/MyDrive/Colab Notebooks/AIFFEL/Data/four_seasons/쿨\"  # 디렉토리 경로\n",
        "directory_path2 = \"/content/drive/MyDrive/Colab Notebooks/AIFFEL/Data/four_seasons/웜\"  # 디렉토리 경로\n",
        "images = load_images_from_directory(directory_path)\n",
        "images2 = load_images_from_directory(directory_path2)\n",
        "\n",
        "length = len(images)\n",
        "print(length)\n",
        "print(len(images2))"
      ],
      "metadata": {
        "colab": {
          "base_uri": "https://localhost:8080/"
        },
        "id": "OJlVTs4M2TTI",
        "outputId": "9454d844-3a84-4516-d092-37de95100a95"
      },
      "id": "OJlVTs4M2TTI",
      "execution_count": null,
      "outputs": [
        {
          "output_type": "stream",
          "name": "stdout",
          "text": [
            "50\n",
            "50\n"
          ]
        }
      ]
    },
    {
      "cell_type": "code",
      "source": [
        "# 이미지 리스트 합치기\n",
        "\n",
        "images = np.concatenate((images, images2), axis=0)\n",
        "print(len(images))"
      ],
      "metadata": {
        "colab": {
          "base_uri": "https://localhost:8080/"
        },
        "id": "y9M1l52ZDVJ2",
        "outputId": "47784d75-0032-4019-e82e-da95171156a3"
      },
      "id": "y9M1l52ZDVJ2",
      "execution_count": null,
      "outputs": [
        {
          "output_type": "stream",
          "name": "stdout",
          "text": [
            "100\n"
          ]
        },
        {
          "output_type": "stream",
          "name": "stderr",
          "text": [
            "<__array_function__ internals>:180: VisibleDeprecationWarning: Creating an ndarray from ragged nested sequences (which is a list-or-tuple of lists-or-tuples-or ndarrays with different lengths or shapes) is deprecated. If you meant to do this, you must specify 'dtype=object' when creating the ndarray.\n"
          ]
        }
      ]
    },
    {
      "cell_type": "code",
      "source": [
        "# 데이터 전처리\n",
        "\n",
        "import numpy as np\n",
        "import cv2\n",
        "\n",
        "# 새로운 크기로 리사이즈할 이미지의 너비와 높이\n",
        "new_width = 200\n",
        "new_height = 200\n",
        "\n",
        "resized_images = []\n",
        "for image in images:\n",
        "    resized_image = cv2.resize(image, (new_width, new_height))\n",
        "    resized_images.append(resized_image)"
      ],
      "metadata": {
        "id": "_KvLirha2cux"
      },
      "id": "_KvLirha2cux",
      "execution_count": null,
      "outputs": []
    },
    {
      "cell_type": "code",
      "source": [
        "# resized_images 리스트를 NumPy 배열로 변환\n",
        "resized_images_array = np.array(resized_images)\n",
        "\n",
        "# 변환된 NumPy 배열 출력\n",
        "print(resized_images_array.shape)"
      ],
      "metadata": {
        "colab": {
          "base_uri": "https://localhost:8080/"
        },
        "id": "TGQVe-8y6NC_",
        "outputId": "678ed40d-b690-4804-9ddc-3fd0cb821a40"
      },
      "id": "TGQVe-8y6NC_",
      "execution_count": null,
      "outputs": [
        {
          "output_type": "stream",
          "name": "stdout",
          "text": [
            "(100, 200, 200, 3)\n"
          ]
        }
      ]
    },
    {
      "cell_type": "code",
      "source": [
        "images = resized_images_array.reshape(resized_images_array.shape[0], 200 * 200 * 3)"
      ],
      "metadata": {
        "id": "Kc3akT0O2qlE"
      },
      "id": "Kc3akT0O2qlE",
      "execution_count": null,
      "outputs": []
    },
    {
      "cell_type": "code",
      "source": [
        "# labels에 대한 코드\n",
        "num = len(images)\n",
        "labels = np.zeros(num)\n",
        "\n",
        "# 웜, 쿨의 데이터를 0과 1로 나눠 표시되도록\n",
        "labels[length:] = 1\n",
        "\n",
        "# 0이 쿨톤 1이 웜톤\n",
        "print(len(images))\n",
        "print(labels)"
      ],
      "metadata": {
        "colab": {
          "base_uri": "https://localhost:8080/"
        },
        "id": "PFgexRSm7Lyq",
        "outputId": "b9305f54-4e20-4479-f3b4-8ed1bcb42d56"
      },
      "id": "PFgexRSm7Lyq",
      "execution_count": null,
      "outputs": [
        {
          "output_type": "stream",
          "name": "stdout",
          "text": [
            "100\n",
            "[0. 0. 0. 0. 0. 0. 0. 0. 0. 0. 0. 0. 0. 0. 0. 0. 0. 0. 0. 0. 0. 0. 0. 0.\n",
            " 0. 0. 0. 0. 0. 0. 0. 0. 0. 0. 0. 0. 0. 0. 0. 0. 0. 0. 0. 0. 0. 0. 0. 0.\n",
            " 0. 0. 1. 1. 1. 1. 1. 1. 1. 1. 1. 1. 1. 1. 1. 1. 1. 1. 1. 1. 1. 1. 1. 1.\n",
            " 1. 1. 1. 1. 1. 1. 1. 1. 1. 1. 1. 1. 1. 1. 1. 1. 1. 1. 1. 1. 1. 1. 1. 1.\n",
            " 1. 1. 1. 1.]\n"
          ]
        }
      ]
    },
    {
      "cell_type": "code",
      "source": [
        "train_ratio = 0.7  # 훈련 세트 비율\n",
        "val_ratio = 0.2    # 검증 세트 비율\n",
        "train_data, train_labels, val_data, val_labels, test_data, test_labels = split_data(images, labels, train_ratio, val_ratio)\n",
        "print(\"train: \", train_data.shape)\n",
        "print(\"val: \", val_data.shape)\n",
        "print(\"test: \", test_data.shape)"
      ],
      "metadata": {
        "colab": {
          "base_uri": "https://localhost:8080/"
        },
        "id": "viEfOUkz2qe7",
        "outputId": "9b0059a9-ae0e-4a0d-be8f-2c5622dd3d5c"
      },
      "id": "viEfOUkz2qe7",
      "execution_count": null,
      "outputs": [
        {
          "output_type": "stream",
          "name": "stdout",
          "text": [
            "총 데이터 갯수:  100\n",
            "총 라벨 갯수:  100\n",
            "train:  (70, 120000)\n",
            "val:  (20, 120000)\n",
            "test:  (10, 120000)\n"
          ]
        }
      ]
    },
    {
      "cell_type": "markdown",
      "source": [
        "- 여기서 라벨 개수가 2개가 나와야하는거 아닌가?"
      ],
      "metadata": {
        "id": "wu3HJqoeElIV"
      },
      "id": "wu3HJqoeElIV"
    },
    {
      "cell_type": "code",
      "source": [
        "# 검증 셋에서 가장 잘 동작하는 hyperparameter 들을 찾는다.\n",
        "validation_accuracies = []\n",
        "for k in [1, 3, 5, 10, 20, 25, 30]:\n",
        "\n",
        "    # 특정 k 값을 정해서 검증 데이터에 대해 평가할 때 사용한다.\n",
        "    nn = NearestNeighbor()\n",
        "    nn.train(train_data, train_labels)\n",
        "    # 여기서는 k를 input으로 받을 수 있도록 변형된 NearestNeighbor 클래스가 있다고 가정하자.\n",
        "    Yval_predict = nn.predict(val_data, k = k)\n",
        "    acc = np.mean(Yval_predict == val_labels)\n",
        "    print('accuracy: %f' % (acc,))\n",
        "\n",
        "    # 검증 셋에 대한 정확도를 저장해 놓는다.\n",
        "    validation_accuracies.append((k, acc))"
      ],
      "metadata": {
        "colab": {
          "base_uri": "https://localhost:8080/"
        },
        "id": "9DQ0-8WB2qZP",
        "outputId": "1809b7db-1a2f-4d1c-c0f7-7551cf140e3c"
      },
      "id": "9DQ0-8WB2qZP",
      "execution_count": null,
      "outputs": [
        {
          "output_type": "stream",
          "name": "stdout",
          "text": [
            "accuracy: 0.600000\n",
            "accuracy: 0.550000\n",
            "accuracy: 0.400000\n",
            "accuracy: 0.400000\n",
            "accuracy: 0.600000\n",
            "accuracy: 0.500000\n",
            "accuracy: 0.550000\n"
          ]
        }
      ]
    },
    {
      "cell_type": "code",
      "source": [
        "class_names = ['웜톤', '쿨톤']\n",
        "\n",
        "# def personal_color(ima):\n",
        "  # img =\n",
        "\n",
        "def classify_image(image):\n",
        "    # Preprocess the image\n",
        "    image = image.reshape((1, 32 * 32 * 3)) / 255.0\n",
        "\n",
        "    # Load the trained model\n",
        "    model = keras.models.load_model('keras_cifar10_model.h5')\n",
        "\n",
        "    # Perform prediction\n",
        "    prediction = model.predict(image)\n",
        "    class_index = np.argmax(prediction)\n",
        "    class_name = class_names[class_index]\n",
        "\n",
        "    return class_name"
      ],
      "metadata": {
        "id": "_kxLbz6x78RI"
      },
      "id": "_kxLbz6x78RI",
      "execution_count": null,
      "outputs": []
    },
    {
      "cell_type": "code",
      "execution_count": null,
      "id": "5f7a13d1",
      "metadata": {
        "id": "5f7a13d1"
      },
      "outputs": [],
      "source": [
        "# KNN 퍼스널 컬러 분류 함수 만들기\n",
        "\n",
        "def personal_color(img):\n",
        "    nn = NearestNeighbor()\n",
        "    X_train = train_data  # Training data features\n",
        "    y_train = train_labels  # Training data labels\n",
        "    nn.train(X_train, y_train)\n",
        "\n",
        "    prediction = nn.predict(img, k = 5)\n",
        "    return prediction"
      ]
    },
    {
      "cell_type": "code",
      "execution_count": null,
      "id": "4a8c41a5",
      "metadata": {
        "colab": {
          "base_uri": "https://localhost:8080/",
          "height": 759
        },
        "id": "4a8c41a5",
        "outputId": "664eafd5-4d0e-4ade-87a4-fbae407415fd"
      },
      "outputs": [
        {
          "output_type": "stream",
          "name": "stderr",
          "text": [
            "<ipython-input-27-73227275436d>:7: GradioDeprecationWarning: Usage of gradio.inputs is deprecated, and will not be supported in the future, please import your component from gradio.components\n",
            "  inputs=gr.inputs.Image(shape=(200, 200)),\n",
            "<ipython-input-27-73227275436d>:7: GradioDeprecationWarning: `optional` parameter is deprecated, and it has no effect\n",
            "  inputs=gr.inputs.Image(shape=(200, 200)),\n",
            "<ipython-input-27-73227275436d>:8: GradioDeprecationWarning: Usage of gradio.outputs is deprecated, and will not be supported in the future, please import your components from gradio.components\n",
            "  outputs=gr.outputs.Label(num_top_classes=2))\n",
            "<ipython-input-27-73227275436d>:8: GradioUnusedKwargWarning: You have unused kwarg parameters in Label, please remove them: {'type': 'auto'}\n",
            "  outputs=gr.outputs.Label(num_top_classes=2))\n"
          ]
        },
        {
          "output_type": "stream",
          "name": "stdout",
          "text": [
            "Colab notebook detected. To show errors in colab notebook, set debug=True in launch()\n",
            "Running on public URL: https://5b5480191a0b24c172.gradio.live\n",
            "\n",
            "This share link expires in 72 hours. For free permanent hosting and GPU upgrades, run `gradio deploy` from Terminal to deploy to Spaces (https://huggingface.co/spaces)\n"
          ]
        },
        {
          "output_type": "display_data",
          "data": {
            "text/plain": [
              "<IPython.core.display.HTML object>"
            ],
            "text/html": [
              "<div><iframe src=\"https://5b5480191a0b24c172.gradio.live\" width=\"100%\" height=\"500\" allow=\"autoplay; camera; microphone; clipboard-read; clipboard-write;\" frameborder=\"0\" allowfullscreen></iframe></div>"
            ]
          },
          "metadata": {}
        },
        {
          "output_type": "execute_result",
          "data": {
            "text/plain": []
          },
          "metadata": {},
          "execution_count": 27
        }
      ],
      "source": [
        "# gradio로 시각화? 웹 구현\n",
        "import gradio as gr\n",
        "\n",
        "classification = gr.Interface(fn=personal_color,\n",
        "                              # inputs=\"image\",\n",
        "                              # outputs=\"label\",\n",
        "                              inputs=gr.inputs.Image(shape=(200, 200)),\n",
        "                              outputs=gr.outputs.Label(num_top_classes=2))\n",
        "\n",
        "\n",
        "classification.launch(share=True,\n",
        "                      server_name = \"0.0.0.0\",\n",
        "                      server_port = 8081)\n",
        "                      # auth = (\"noname\", \"passwdl\"))"
      ]
    },
    {
      "cell_type": "code",
      "source": [
        "def personal_color(img):\n",
        "    # Preprocess the new image if needed\n",
        "\n",
        "    # Load the pre-trained model or create a new instance of NearestNeighbor\n",
        "    nn = NearestNeighbor()\n",
        "\n",
        "    # Load the training data\n",
        "    X_train = train_data  # Training data features\n",
        "    y_train = train_labels  # Training data labels\n",
        "\n",
        "    # Train the model\n",
        "    nn.train(X_train, y_train)\n",
        "\n",
        "    # Convert the new image to the appropriate format (e.g., N x D)\n",
        "    X_test = img # Preprocess the new image to match the training data format\n",
        "\n",
        "    # Set the value of k for k-nearest neighbors\n",
        "    k = 5  # Define the value of k\n",
        "\n",
        "    # Predict the label of the new image\n",
        "    predicted_label = nn.predict(X_test, k)\n",
        "\n",
        "    # Return the predicted label\n",
        "    return predicted_label\n"
      ],
      "metadata": {
        "id": "NtK0cHowz7CH"
      },
      "id": "NtK0cHowz7CH",
      "execution_count": null,
      "outputs": []
    },
    {
      "cell_type": "code",
      "source": [
        "img_1 = '/content/drive/MyDrive/Colab Notebooks/AIFFEL/Data/sticker_app/images/서현진1.jpg'\n",
        "personal_color(img_1) ## 시도해보았으나 에러뜸."
      ],
      "metadata": {
        "id": "0fecAEpo3SZz"
      },
      "id": "0fecAEpo3SZz",
      "execution_count": null,
      "outputs": []
    },
    {
      "cell_type": "code",
      "source": [
        "import gradio as gr\n",
        "\n",
        "classification = gr.Interface(fn=personal_color,\n",
        "                              inputs=gr.inputs.Image(shape=(200, 200)),\n",
        "                              outputs=gr.outputs.Label(num_top_classes=2))"
      ],
      "metadata": {
        "colab": {
          "base_uri": "https://localhost:8080/"
        },
        "id": "0_qWEtwoz6z9",
        "outputId": "866bb8a2-6e21-4b2d-ef9c-a4dcc5a9ee92"
      },
      "id": "0_qWEtwoz6z9",
      "execution_count": null,
      "outputs": [
        {
          "output_type": "stream",
          "name": "stderr",
          "text": [
            "<ipython-input-30-444224c19c17>:4: GradioDeprecationWarning: Usage of gradio.inputs is deprecated, and will not be supported in the future, please import your component from gradio.components\n",
            "  inputs=gr.inputs.Image(shape=(200, 200)),\n",
            "<ipython-input-30-444224c19c17>:4: GradioDeprecationWarning: `optional` parameter is deprecated, and it has no effect\n",
            "  inputs=gr.inputs.Image(shape=(200, 200)),\n",
            "<ipython-input-30-444224c19c17>:5: GradioDeprecationWarning: Usage of gradio.outputs is deprecated, and will not be supported in the future, please import your components from gradio.components\n",
            "  outputs=gr.outputs.Label(num_top_classes=2))\n",
            "<ipython-input-30-444224c19c17>:5: GradioUnusedKwargWarning: You have unused kwarg parameters in Label, please remove them: {'type': 'auto'}\n",
            "  outputs=gr.outputs.Label(num_top_classes=2))\n"
          ]
        }
      ]
    },
    {
      "cell_type": "code",
      "source": [
        "# classification.launch(share=True)"
      ],
      "metadata": {
        "id": "fiqdS7j3z6wu"
      },
      "id": "fiqdS7j3z6wu",
      "execution_count": null,
      "outputs": []
    },
    {
      "cell_type": "markdown",
      "source": [
        "## KNN : Skin detection을 적용한 앱 구현(2)"
      ],
      "metadata": {
        "id": "byGXeSzV5umd"
      },
      "id": "byGXeSzV5umd"
    },
    {
      "cell_type": "code",
      "source": [
        "import tensorflow as tf\n",
        "import numpy as np\n",
        "import cv2\n",
        "import os\n",
        "import glob\n",
        "from PIL import Image"
      ],
      "metadata": {
        "id": "ro6fgQld53U6"
      },
      "id": "ro6fgQld53U6",
      "execution_count": null,
      "outputs": []
    },
    {
      "cell_type": "code",
      "source": [
        "def Skin_Detection(img_path):\n",
        "\n",
        "  #Open a simple image\n",
        "  img=cv2.imread(img_path)\n",
        "\n",
        "  #converting from gbr to YCbCr color space\n",
        "  img_YCrCb = cv2.cvtColor(img, cv2.COLOR_BGR2YCrCb)\n",
        "  #skin color range for hsv color space\n",
        "  YCrCb_mask = cv2.inRange(img_YCrCb, (0, 135, 85), (255,180,135))\n",
        "  YCrCb_mask = cv2.morphologyEx(YCrCb_mask, cv2.MORPH_OPEN, np.ones((3,3), np.uint8))\n",
        "\n",
        "  YCrCb_result = cv2.bitwise_not(YCrCb_mask)\n",
        "  YCrCb_skin_detected = cv2.bitwise_and(img, img, mask=YCrCb_mask)  # img와 YCrCb_mask를 입력으로 사용하여 원본 이미지에서 피부 픽셀만 추출\n",
        "\n",
        "  return img_YCrCb, YCrCb_mask"
      ],
      "metadata": {
        "id": "8CglCJUP53Sh"
      },
      "id": "8CglCJUP53Sh",
      "execution_count": null,
      "outputs": []
    },
    {
      "cell_type": "code",
      "source": [
        "# skin 좌표 추출, YCrCb 픽셀값 추출\n",
        "def coordinate_extraction(mask, img):\n",
        "  skin = np.argwhere(mask == 255) # mask의 픽셀값이 255인 skin부분의 좌표 추출 : (rgb로 따지는 거야? ybbcr말고?)\n",
        "\n",
        "  pixel_values = [] # YCbCr 픽셀값 저장을 위한 리스트\n",
        "\n",
        "  for index in skin:\n",
        "    y, x = index  #일반적으로 생각하는 가로 x, 세로 y로 표현하기 위해 위치 바꿈\n",
        "    #print(f\"x: {x}, y: {y}\") # skin 범위 좌표값 출력(스압주의)\n",
        "    pixel_value = img[y, x]\n",
        "    pixel_values.append(pixel_value)\n",
        "\n",
        "  for coord, pixel_value in zip(skin, pixel_values): # skin부분의 좌표값과 픽셀값 출력을 위한 함수\n",
        "    x, y = coord\n",
        "    # print(f\"Coordinate: ({x}, {y}), Pixel Value: {pixel_value}\")\n",
        "\n",
        "  return pixel_values"
      ],
      "metadata": {
        "id": "WXNJievc53Pq"
      },
      "id": "WXNJievc53Pq",
      "execution_count": null,
      "outputs": []
    },
    {
      "cell_type": "code",
      "source": [
        "# 픽셀의 평균값 구하기\n",
        "def pixel_means(pixel_values):\n",
        "  # 열 별로 원소들을 더하기\n",
        "  column_sums = np.sum(pixel_values, axis=0)\n",
        "\n",
        "  # pixel_values를 NumPy 배열로 변환\n",
        "  pixel_values = np.array(pixel_values)\n",
        "\n",
        "  # 열 별로 평균 계산하기\n",
        "  column_means = column_sums / pixel_values.shape[0]\n",
        "\n",
        "  return column_means"
      ],
      "metadata": {
        "id": "sa8Tf8AB53Nv"
      },
      "id": "sa8Tf8AB53Nv",
      "execution_count": null,
      "outputs": []
    },
    {
      "cell_type": "code",
      "source": [
        "def get_dict(dir_path):\n",
        "  file_list = os.listdir(dir_path)\n",
        "\n",
        "  img_list = []\n",
        "  result_list = []\n",
        "\n",
        "  for file in file_list:\n",
        "    img_path = os.path.join(dir_path, file)\n",
        "    if os.path.isdir(img_path):  # 만약 디렉토리인 경우, 무시하고 다음 파일로 넘어감\n",
        "      continue\n",
        "    file_name = file\n",
        "    file_name = os.path.splitext(file_name)[0] # 파일 이름과 확장자 분리\n",
        "    img_YCrCb,YCrCb_mask = Skin_Detection(img_path)\n",
        "    img_list.append([img_YCrCb, YCrCb_mask]) # 그림 show()를 위한 용도\n",
        "\n",
        "    # YCrCb\n",
        "    YCrCb_pixel_values = coordinate_extraction(YCrCb_mask, img_YCrCb)\n",
        "    YCrCb_pixel_means = pixel_means(YCrCb_pixel_values)\n",
        "    #print(YCrCb_pixel_means)\n",
        "\n",
        "    result_list.append(YCrCb_pixel_means)\n",
        "\n",
        "  return result_list"
      ],
      "metadata": {
        "id": "v01PwN5B53Kq"
      },
      "id": "v01PwN5B53Kq",
      "execution_count": null,
      "outputs": []
    },
    {
      "cell_type": "code",
      "source": [
        "path = \"/content/drive/MyDrive/Colab Notebooks/AIFFEL/Data/four_seasons/쿨\"  # 디렉토리 경로\n",
        "path2 = \"/content/drive/MyDrive/Colab Notebooks/AIFFEL/Data/four_seasons/웜\"  # 디렉토리 경로"
      ],
      "metadata": {
        "id": "xre4wdg853FF"
      },
      "id": "xre4wdg853FF",
      "execution_count": null,
      "outputs": []
    },
    {
      "cell_type": "code",
      "source": [
        "cool_result  = get_dict(path) # 1분"
      ],
      "metadata": {
        "id": "h1chKc8w53Cj"
      },
      "id": "h1chKc8w53Cj",
      "execution_count": null,
      "outputs": []
    },
    {
      "cell_type": "code",
      "source": [
        "warm_result  = get_dict(path2) # 1분"
      ],
      "metadata": {
        "id": "cvLXt6Wb6JoW"
      },
      "id": "cvLXt6Wb6JoW",
      "execution_count": null,
      "outputs": []
    },
    {
      "cell_type": "code",
      "source": [
        "images = np.concatenate((cool_result, warm_result), axis=0)\n",
        "print(images) #스압 조큼 있음"
      ],
      "metadata": {
        "id": "Fc3Ojm3z6Jla"
      },
      "id": "Fc3Ojm3z6Jla",
      "execution_count": null,
      "outputs": []
    },
    {
      "cell_type": "code",
      "source": [
        "# labels에 대한 코드\n",
        "num = len(images)\n",
        "labels = np.zeros(num)\n",
        "\n",
        "# 처음 50개의 요소를 1로 변경\n",
        "labels[50:] = 1\n",
        "\n",
        "# 0이 쿨톤 1이 웜톤\n",
        "print(len(images))\n",
        "print(labels)"
      ],
      "metadata": {
        "colab": {
          "base_uri": "https://localhost:8080/"
        },
        "id": "v3nmTYSf6Jik",
        "outputId": "8f42b239-ab57-4cad-c5f0-18afe4748d87"
      },
      "id": "v3nmTYSf6Jik",
      "execution_count": null,
      "outputs": [
        {
          "output_type": "stream",
          "name": "stdout",
          "text": [
            "100\n",
            "[0. 0. 0. 0. 0. 0. 0. 0. 0. 0. 0. 0. 0. 0. 0. 0. 0. 0. 0. 0. 0. 0. 0. 0.\n",
            " 0. 0. 0. 0. 0. 0. 0. 0. 0. 0. 0. 0. 0. 0. 0. 0. 0. 0. 0. 0. 0. 0. 0. 0.\n",
            " 0. 0. 1. 1. 1. 1. 1. 1. 1. 1. 1. 1. 1. 1. 1. 1. 1. 1. 1. 1. 1. 1. 1. 1.\n",
            " 1. 1. 1. 1. 1. 1. 1. 1. 1. 1. 1. 1. 1. 1. 1. 1. 1. 1. 1. 1. 1. 1. 1. 1.\n",
            " 1. 1. 1. 1.]\n"
          ]
        }
      ]
    },
    {
      "cell_type": "code",
      "source": [
        "# train, val, test 분리\n",
        "\n",
        "def split_data(data, labels, train_ratio, val_ratio):\n",
        "    # 데이터 개수 확인\n",
        "    num_examples = len(data)\n",
        "    num_lables = len(labels)\n",
        "    print(\"총 데이터 갯수: \", len(data))\n",
        "    print(\"총 라벨 갯수: \", len(labels))\n",
        "\n",
        "    # 인덱스를 섞은 배열 생성\n",
        "    shuffled_indices = np.random.permutation(num)\n",
        "\n",
        "    # 훈련 세트, 검증 세트, 테스트 세트 크기 계산\n",
        "    train_size = int(num_examples * train_ratio)\n",
        "    val_size = int(num_examples * val_ratio)\n",
        "    test_size = num_examples - train_size - val_size\n",
        "\n",
        "    # 데이터와 레이블을 분할하여 저장할 변수 초기화\n",
        "    train_data = np.zeros((train_size, *data.shape[1:]))\n",
        "    train_labels = np.zeros((train_size, *labels.shape[1:]))\n",
        "    val_data = np.zeros((val_size, *data.shape[1:]))\n",
        "    val_labels = np.zeros((val_size, *labels.shape[1:]))\n",
        "    test_data = np.zeros((test_size, *data.shape[1:]))\n",
        "    test_labels = np.zeros((test_size, *labels.shape[1:]))\n",
        "\n",
        "    # 데이터와 레이블을 섞은 인덱스를 기반으로 분할\n",
        "    train_indices = shuffled_indices[:train_size]\n",
        "    val_indices = shuffled_indices[train_size:train_size+val_size]\n",
        "    test_indices = shuffled_indices[train_size+val_size:]\n",
        "\n",
        "    train_data = data[train_indices]\n",
        "    train_labels = labels[train_indices]\n",
        "    val_data = data[val_indices]\n",
        "    val_labels = labels[val_indices]\n",
        "    test_data = data[test_indices]\n",
        "    test_labels = labels[test_indices]\n",
        "\n",
        "    return train_data, train_labels, val_data, val_labels, test_data, test_labels"
      ],
      "metadata": {
        "id": "t0cCY-Z32qh-"
      },
      "id": "t0cCY-Z32qh-",
      "execution_count": null,
      "outputs": []
    },
    {
      "cell_type": "code",
      "source": [
        "train_ratio = 0.7  # 훈련 세트 비율\n",
        "val_ratio = 0.2    # 검증 세트 비율\n",
        "train_data, train_labels, val_data, val_labels, test_data, test_labels = split_data(images, labels, train_ratio, val_ratio)\n",
        "print(\"train: \", train_data.shape)\n",
        "print(\"val: \", val_data.shape)\n",
        "print(\"test: \", test_data.shape)"
      ],
      "metadata": {
        "colab": {
          "base_uri": "https://localhost:8080/"
        },
        "id": "IYtlqNBA6Jew",
        "outputId": "b4fd1236-4089-483d-b1a4-21dec34e0054"
      },
      "id": "IYtlqNBA6Jew",
      "execution_count": null,
      "outputs": [
        {
          "output_type": "stream",
          "name": "stdout",
          "text": [
            "총 데이터 갯수:  100\n",
            "총 라벨 갯수:  100\n",
            "train:  (70, 3)\n",
            "val:  (20, 3)\n",
            "test:  (10, 3)\n"
          ]
        }
      ]
    },
    {
      "cell_type": "code",
      "source": [
        "class NearestNeighbor(object):\n",
        "    def __init__(self):\n",
        "        pass\n",
        "\n",
        "    def train(self, X, y):\n",
        "        \"\"\" X is N x D where each row is an example. Y is 1-dimension of size N \"\"\"\n",
        "        # nearest neighbor 분류기는 단순히 모든 학습 데이터를 기억해둔다.\n",
        "        self.Xtr = X\n",
        "        self.ytr = y\n",
        "\n",
        "    def predict(self, X, k):\n",
        "        \"\"\" X is N x D where each row is an example we wish to predict label for \"\"\"\n",
        "        num_test = X.shape[0]\n",
        "        # 출력 type과 입력 type이 같게 되도록 확인해준다.\n",
        "        Ypred = np.zeros(num_test, dtype = self.ytr.dtype)\n",
        "\n",
        "    # loop over all test rows\n",
        "        for i in range(num_test):\n",
        "        # i번째 테스트 이미지와 가장 가까운 학습 이미지를\n",
        "        # L1 거리(절대값 차의 총합)를 이용하여 찾는다.\n",
        "            distances = np.sum(np.abs(self.Xtr - X[i,:]), axis = 1)\n",
        "            #distances = np.sqrt(np.sum(np.square(self.Xtr - X[i,:]), axis = 1))\n",
        "            #min_index = np.argmin(distances) # 가장 작은 distance를 갖는 인덱스를 찾는다.\n",
        "            #pred[i] = self.ytr[min_index] # 가장 가까운 이웃의 라벨로 예측\n",
        "\n",
        "            indices = np.argsort(distances)  # 거리가 작은 순서대로 인덱스 정렬\n",
        "            k_nearest_labels = self.ytr[indices[:k]]  # k개의 가장 가까운 이웃의 라벨\n",
        "            unique, counts = np.unique(k_nearest_labels, return_counts=True)\n",
        "            Ypred[i] = unique[np.argmax(counts)]  # 가장 많은 투표를 받은 라벨로 예측\n",
        "        return Ypred"
      ],
      "metadata": {
        "id": "AD97VPpb2qcV"
      },
      "id": "AD97VPpb2qcV",
      "execution_count": null,
      "outputs": []
    },
    {
      "cell_type": "code",
      "source": [
        "# 검증 셋에서 가장 잘 동작하는 hyperparameter 들을 찾는다.\n",
        "validation_accuracies = []\n",
        "for k in [5, 10, 20, 25, 30]:\n",
        "\n",
        "    # 특정 k 값을 정해서 검증 데이터에 대해 평가할 때 사용한다.\n",
        "    nn = NearestNeighbor()\n",
        "    nn.train(train_data, train_labels)\n",
        "    # 여기서는 k를 input으로 받을 수 있도록 변형된 NearestNeighbor 클래스가 있다고 가정하자.\n",
        "    Yval_predict = nn.predict(val_data, k = k)\n",
        "    acc = np.mean(Yval_predict == val_labels)\n",
        "    print('accuracy: %f' % (acc,))\n",
        "\n",
        "    # 검증 셋에 대한 정확도를 저장해 놓는다.\n",
        "    validation_accuracies.append((k, acc))"
      ],
      "metadata": {
        "colab": {
          "base_uri": "https://localhost:8080/"
        },
        "id": "YcBIR3Er6JbB",
        "outputId": "e2dba708-bb6b-47f1-88eb-725390543d43"
      },
      "id": "YcBIR3Er6JbB",
      "execution_count": null,
      "outputs": [
        {
          "output_type": "stream",
          "name": "stdout",
          "text": [
            "accuracy: 0.650000\n",
            "accuracy: 0.650000\n",
            "accuracy: 0.550000\n",
            "accuracy: 0.450000\n",
            "accuracy: 0.450000\n"
          ]
        }
      ]
    },
    {
      "cell_type": "code",
      "source": [
        "# 이제 본격적인 최고 25개 85% / 정확도 45%~85%정도 나오는듯\n",
        "print(validation_accuracies)"
      ],
      "metadata": {
        "colab": {
          "base_uri": "https://localhost:8080/"
        },
        "id": "v2_cHHAj6JVd",
        "outputId": "1622db95-c879-4d8b-ad94-0b6372e72b29"
      },
      "id": "v2_cHHAj6JVd",
      "execution_count": null,
      "outputs": [
        {
          "output_type": "stream",
          "name": "stdout",
          "text": [
            "[(5, 0.65), (10, 0.65), (20, 0.55), (25, 0.45), (30, 0.45)]\n"
          ]
        }
      ]
    },
    {
      "cell_type": "code",
      "source": [
        "print(k)"
      ],
      "metadata": {
        "colab": {
          "base_uri": "https://localhost:8080/"
        },
        "id": "HXMq0IQOJOXc",
        "outputId": "2055112a-4517-4618-c5c5-05a43924a017"
      },
      "id": "HXMq0IQOJOXc",
      "execution_count": null,
      "outputs": [
        {
          "output_type": "stream",
          "name": "stdout",
          "text": [
            "30\n"
          ]
        }
      ]
    },
    {
      "cell_type": "markdown",
      "source": [
        "- k가 마지막 숫자인30으로 설정되어 있기 때문에 밑에서는 위에서 본 최고 성능을 내는 숫자로 다시 지정해주어야 한다"
      ],
      "metadata": {
        "id": "TqOsdo6OW-mf"
      },
      "id": "TqOsdo6OW-mf"
    },
    {
      "cell_type": "code",
      "source": [
        "Ytest_predict = nn.predict(test_data, k = 10)\n",
        "print(Ytest_predict)\n",
        "print(test_labels)"
      ],
      "metadata": {
        "colab": {
          "base_uri": "https://localhost:8080/"
        },
        "id": "ee1Qx19u6Ro4",
        "outputId": "07abdc2e-b2b2-4c40-c50e-59a2f45e648d"
      },
      "id": "ee1Qx19u6Ro4",
      "execution_count": null,
      "outputs": [
        {
          "output_type": "stream",
          "name": "stdout",
          "text": [
            "[1. 0. 1. 0. 0. 1. 1. 0. 0. 0.]\n",
            "[1. 1. 0. 0. 1. 1. 0. 0. 1. 0.]\n"
          ]
        }
      ]
    },
    {
      "cell_type": "code",
      "source": [
        "def personal_color_app(img):\n",
        "  Ytest_predict = nn.predict(img, k = k)\n",
        "  return test_labels"
      ],
      "metadata": {
        "id": "c74UHC41LE2M"
      },
      "id": "c74UHC41LE2M",
      "execution_count": null,
      "outputs": []
    },
    {
      "cell_type": "code",
      "source": [
        "img = /content/drive/MyDrive/Colab Notebooks/AIFFEL/Data/four_seasons/웜/공효진.jpg\n",
        "personal_color_app(img)"
      ],
      "metadata": {
        "colab": {
          "base_uri": "https://localhost:8080/",
          "height": 136
        },
        "id": "vqtwjOLOL37i",
        "outputId": "876f526e-842c-4dcd-bc2e-ac1a1b5937e9"
      },
      "id": "vqtwjOLOL37i",
      "execution_count": null,
      "outputs": [
        {
          "output_type": "error",
          "ename": "SyntaxError",
          "evalue": "ignored",
          "traceback": [
            "\u001b[0;36m  File \u001b[0;32m\"<ipython-input-50-2af00c052df0>\"\u001b[0;36m, line \u001b[0;32m1\u001b[0m\n\u001b[0;31m    img = /content/drive/MyDrive/Colab Notebooks/AIFFEL/Data/four_seasons/웜/공효진.jpg\u001b[0m\n\u001b[0m          ^\u001b[0m\n\u001b[0;31mSyntaxError\u001b[0m\u001b[0;31m:\u001b[0m invalid syntax\n"
          ]
        }
      ]
    },
    {
      "cell_type": "markdown",
      "source": [
        "- FAIL. 다시..."
      ],
      "metadata": {
        "id": "MnJZ7O_jXMvh"
      },
      "id": "MnJZ7O_jXMvh"
    },
    {
      "cell_type": "code",
      "source": [
        "import gradio as gr\n",
        "\n",
        "classification = gr.Interface(fn=personal_color_app,\n",
        "                              inputs='image',\n",
        "                              outputs='label')"
      ],
      "metadata": {
        "id": "2kf_1bpKJ3A1"
      },
      "id": "2kf_1bpKJ3A1",
      "execution_count": null,
      "outputs": []
    },
    {
      "cell_type": "code",
      "source": [
        "# classification.launch(share=True)"
      ],
      "metadata": {
        "id": "inPTygt76Ri2"
      },
      "id": "inPTygt76Ri2",
      "execution_count": null,
      "outputs": []
    },
    {
      "cell_type": "markdown",
      "source": [
        "# 2.  KNN 모델 및 앱 구현\n",
        "\n",
        "1. KNN 모델 구현\n",
        "2. 클래스 이름 정해서 나누기\n",
        "3. 각 클래스가 반환되도록 함수 만들기\n",
        "4. gradio에 연결"
      ],
      "metadata": {
        "id": "ceNyynuMMRG5"
      },
      "id": "ceNyynuMMRG5"
    },
    {
      "cell_type": "markdown",
      "source": [
        "## 라이브러리 불러오기 및 데이터 로드"
      ],
      "metadata": {
        "id": "qDMeo107NyJf"
      },
      "id": "qDMeo107NyJf"
    },
    {
      "cell_type": "code",
      "source": [
        "# 라이브러리 불러오기\n",
        "\n",
        "import tensorflow as tf\n",
        "import numpy as np\n",
        "import cv2\n",
        "import os\n",
        "import glob\n",
        "from PIL import Image"
      ],
      "metadata": {
        "id": "IOhOnAkBMZJ9"
      },
      "id": "IOhOnAkBMZJ9",
      "execution_count": 3,
      "outputs": []
    },
    {
      "cell_type": "code",
      "source": [
        "def load_images_from_directory(directory_path):\n",
        "    image_paths = glob.glob(directory_path + '/*.jpg')  # 디렉토리 내의 모든 jpg 파일 경로 찾기\n",
        "    #image_paths.extend(glob.glob(directory_path + '/)*.png')  # 디렉토리 내의 모든 png 파일 경로 추가 오류남\n",
        "    image_paths.extend(glob.glob(directory_path + '/*.jpeg'))  # 디렉토리 내의 모든 jpeg 파일 경로 추가\n",
        "    # image_paths.extend(glob.glob(directory_path + '/*.jfif'))  # 디렉토리 내의 모든 jfif 파일 경로 추가\n",
        "\n",
        "    images = []\n",
        "    for image_path in image_paths:\n",
        "        image = Image.open(image_path)\n",
        "        image_np = np.array(image)\n",
        "        images.append(image_np)\n",
        "\n",
        "    return images"
      ],
      "metadata": {
        "id": "rExEInEjMZDr"
      },
      "id": "rExEInEjMZDr",
      "execution_count": 32,
      "outputs": []
    },
    {
      "cell_type": "code",
      "source": [
        "# 모든 이미지 불러오기\n",
        "directory_path = \"/content/drive/MyDrive/Colab Notebooks/AIFFEL/Data/four_seasons/쿨\"  # 디렉토리 경로\n",
        "directory_path2 = \"/content/drive/MyDrive/Colab Notebooks/AIFFEL/Data/four_seasons/웜\"  # 디렉토리 경로\n",
        "images = load_images_from_directory(directory_path)\n",
        "images2 = load_images_from_directory(directory_path2)\n",
        "\n",
        "length = len(images)\n",
        "print(length)\n",
        "print(len(images2))\n",
        "\n",
        "# 이미지 리스트 합치기\n",
        "images = np.concatenate((images, images2), axis=0)\n",
        "print(len(images))"
      ],
      "metadata": {
        "colab": {
          "base_uri": "https://localhost:8080/"
        },
        "id": "d0u5vLPKMZAU",
        "outputId": "a999f72d-438d-4c45-f202-02129e3a4f60"
      },
      "id": "d0u5vLPKMZAU",
      "execution_count": 33,
      "outputs": [
        {
          "output_type": "stream",
          "name": "stdout",
          "text": [
            "50\n",
            "50\n",
            "100\n"
          ]
        },
        {
          "output_type": "stream",
          "name": "stderr",
          "text": [
            "<__array_function__ internals>:180: VisibleDeprecationWarning: Creating an ndarray from ragged nested sequences (which is a list-or-tuple of lists-or-tuples-or ndarrays with different lengths or shapes) is deprecated. If you meant to do this, you must specify 'dtype=object' when creating the ndarray.\n"
          ]
        }
      ]
    },
    {
      "cell_type": "markdown",
      "source": [
        "## 데이터 전처리 및 train, val, test 데이터 나누기"
      ],
      "metadata": {
        "id": "qs2IyPkgN1J7"
      },
      "id": "qs2IyPkgN1J7"
    },
    {
      "cell_type": "code",
      "source": [
        "# 새로운 크기로 리사이즈할 이미지의 너비와 높이\n",
        "new_width = 32\n",
        "new_height = 32\n",
        "\n",
        "resized_images = []\n",
        "for image in images:\n",
        "    resized_image = cv2.resize(image, (new_width, new_height))\n",
        "    resized_images.append(resized_image)\n",
        "\n",
        "# 결과 출력\n",
        "#for resized_image in resized_images:\n",
        "#    print(resized_image.shape)\n",
        "\n",
        "# resized_images 리스트를 NumPy 배열로 변환\n",
        "resized_images_array = np.array(resized_images)\n",
        "\n",
        "# 변환된 NumPy 배열 출력\n",
        "print(resized_images_array.shape)"
      ],
      "metadata": {
        "colab": {
          "base_uri": "https://localhost:8080/"
        },
        "id": "niQ5gDsL_tP3",
        "outputId": "37662232-390d-4e47-a809-8fe3b36f7237"
      },
      "id": "niQ5gDsL_tP3",
      "execution_count": 34,
      "outputs": [
        {
          "output_type": "stream",
          "name": "stdout",
          "text": [
            "(100, 32, 32, 3)\n"
          ]
        }
      ]
    },
    {
      "cell_type": "code",
      "source": [
        "# 평탄화 및 정규화\n",
        "images = resized_images_array.reshape(resized_images_array.shape[0], 32 * 32 * 3)\n",
        "images = images / 255"
      ],
      "metadata": {
        "id": "zlfyNfT__tJr"
      },
      "id": "zlfyNfT__tJr",
      "execution_count": 35,
      "outputs": []
    },
    {
      "cell_type": "markdown",
      "source": [
        "- 평탄화를 어디서 하는 지가 중요한 것일까..?"
      ],
      "metadata": {
        "id": "NIOFGY4vX3wj"
      },
      "id": "NIOFGY4vX3wj"
    },
    {
      "cell_type": "code",
      "source": [
        "# labels에 대한 코드\n",
        "num = len(images)\n",
        "labels = np.zeros(num)\n",
        "\n",
        "# 처음 50개의 요소를 1로 변경\n",
        "labels[length:] = 1\n",
        "\n",
        "# 0이 쿨톤 1이 웜톤\n",
        "print(len(images))\n",
        "print(labels)"
      ],
      "metadata": {
        "colab": {
          "base_uri": "https://localhost:8080/"
        },
        "id": "ZtfcbhUc_tDl",
        "outputId": "21cfb27e-4086-4dc7-935c-010fb1cbab56"
      },
      "id": "ZtfcbhUc_tDl",
      "execution_count": 36,
      "outputs": [
        {
          "output_type": "stream",
          "name": "stdout",
          "text": [
            "100\n",
            "[0. 0. 0. 0. 0. 0. 0. 0. 0. 0. 0. 0. 0. 0. 0. 0. 0. 0. 0. 0. 0. 0. 0. 0.\n",
            " 0. 0. 0. 0. 0. 0. 0. 0. 0. 0. 0. 0. 0. 0. 0. 0. 0. 0. 0. 0. 0. 0. 0. 0.\n",
            " 0. 0. 1. 1. 1. 1. 1. 1. 1. 1. 1. 1. 1. 1. 1. 1. 1. 1. 1. 1. 1. 1. 1. 1.\n",
            " 1. 1. 1. 1. 1. 1. 1. 1. 1. 1. 1. 1. 1. 1. 1. 1. 1. 1. 1. 1. 1. 1. 1. 1.\n",
            " 1. 1. 1. 1.]\n"
          ]
        }
      ]
    },
    {
      "cell_type": "code",
      "source": [
        "labels = np.reshape(labels, (-1, 1))\n",
        "labels = labels.astype(int)\n",
        "print(labels)"
      ],
      "metadata": {
        "colab": {
          "base_uri": "https://localhost:8080/"
        },
        "id": "DPP_Ty9DHeYs",
        "outputId": "9979acb9-ff8a-4e6a-91b0-c2583c9254fb"
      },
      "id": "DPP_Ty9DHeYs",
      "execution_count": 37,
      "outputs": [
        {
          "output_type": "stream",
          "name": "stdout",
          "text": [
            "[[0]\n",
            " [0]\n",
            " [0]\n",
            " [0]\n",
            " [0]\n",
            " [0]\n",
            " [0]\n",
            " [0]\n",
            " [0]\n",
            " [0]\n",
            " [0]\n",
            " [0]\n",
            " [0]\n",
            " [0]\n",
            " [0]\n",
            " [0]\n",
            " [0]\n",
            " [0]\n",
            " [0]\n",
            " [0]\n",
            " [0]\n",
            " [0]\n",
            " [0]\n",
            " [0]\n",
            " [0]\n",
            " [0]\n",
            " [0]\n",
            " [0]\n",
            " [0]\n",
            " [0]\n",
            " [0]\n",
            " [0]\n",
            " [0]\n",
            " [0]\n",
            " [0]\n",
            " [0]\n",
            " [0]\n",
            " [0]\n",
            " [0]\n",
            " [0]\n",
            " [0]\n",
            " [0]\n",
            " [0]\n",
            " [0]\n",
            " [0]\n",
            " [0]\n",
            " [0]\n",
            " [0]\n",
            " [0]\n",
            " [0]\n",
            " [1]\n",
            " [1]\n",
            " [1]\n",
            " [1]\n",
            " [1]\n",
            " [1]\n",
            " [1]\n",
            " [1]\n",
            " [1]\n",
            " [1]\n",
            " [1]\n",
            " [1]\n",
            " [1]\n",
            " [1]\n",
            " [1]\n",
            " [1]\n",
            " [1]\n",
            " [1]\n",
            " [1]\n",
            " [1]\n",
            " [1]\n",
            " [1]\n",
            " [1]\n",
            " [1]\n",
            " [1]\n",
            " [1]\n",
            " [1]\n",
            " [1]\n",
            " [1]\n",
            " [1]\n",
            " [1]\n",
            " [1]\n",
            " [1]\n",
            " [1]\n",
            " [1]\n",
            " [1]\n",
            " [1]\n",
            " [1]\n",
            " [1]\n",
            " [1]\n",
            " [1]\n",
            " [1]\n",
            " [1]\n",
            " [1]\n",
            " [1]\n",
            " [1]\n",
            " [1]\n",
            " [1]\n",
            " [1]\n",
            " [1]]\n"
          ]
        }
      ]
    },
    {
      "cell_type": "code",
      "source": [
        "from sklearn.model_selection import train_test_split\n",
        "\n",
        "full_train_data, test_data, full_train_labels, test_labels = train_test_split(images,\n",
        "                                                                              labels,\n",
        "                                                                              test_size = 0.15,\n",
        "                                                                              random_state = 42)\n",
        "\n",
        "train_data, val_data, train_labels, val_labels = train_test_split(full_train_data,\n",
        "                                                                  full_train_labels,\n",
        "                                                                  test_size = 0.2,\n",
        "                                                                  random_state = 42)\n",
        "\n",
        "print(\"전체 학습 데이터 : {} 레이블: {}\".format(full_train_data.shape, full_train_labels.shape))\n",
        "print(\"학습 데이터 :  {} 레이블: {}\".format(train_data.shape, train_labels.shape))\n",
        "print(\"검증 데이터 : {} 레이블: {}\".format(val_data.shape, val_labels.shape))\n",
        "print(\"테스트 데이터 : {} 레이블: {}\".format(test_data.shape, test_labels.shape))"
      ],
      "metadata": {
        "colab": {
          "base_uri": "https://localhost:8080/"
        },
        "id": "0IJ7_Et7-RYC",
        "outputId": "867258f2-5489-48b3-aec2-eea0eddbff6c"
      },
      "id": "0IJ7_Et7-RYC",
      "execution_count": 38,
      "outputs": [
        {
          "output_type": "stream",
          "name": "stdout",
          "text": [
            "전체 학습 데이터 : (85, 3072) 레이블: (85, 1)\n",
            "학습 데이터 :  (68, 3072) 레이블: (68, 1)\n",
            "검증 데이터 : (17, 3072) 레이블: (17, 1)\n",
            "테스트 데이터 : (15, 3072) 레이블: (15, 1)\n"
          ]
        }
      ]
    },
    {
      "cell_type": "code",
      "source": [
        "class_names = ['쿨톤', '웜톤']"
      ],
      "metadata": {
        "id": "zVdWUOqlO1zw"
      },
      "id": "zVdWUOqlO1zw",
      "execution_count": 39,
      "outputs": []
    },
    {
      "cell_type": "code",
      "source": [
        "print(full_train_labels[:10])"
      ],
      "metadata": {
        "id": "9qhiBOBbO7RZ",
        "colab": {
          "base_uri": "https://localhost:8080/"
        },
        "outputId": "b429a669-5a50-42cd-ecd9-64df0ae2a6c3"
      },
      "id": "9qhiBOBbO7RZ",
      "execution_count": 40,
      "outputs": [
        {
          "output_type": "stream",
          "name": "stdout",
          "text": [
            "[[0]\n",
            " [1]\n",
            " [1]\n",
            " [0]\n",
            " [0]\n",
            " [1]\n",
            " [1]\n",
            " [0]\n",
            " [0]\n",
            " [1]]\n"
          ]
        }
      ]
    },
    {
      "cell_type": "code",
      "source": [
        "print(full_train_data[0])"
      ],
      "metadata": {
        "colab": {
          "base_uri": "https://localhost:8080/"
        },
        "id": "oxbMf_uOWHVn",
        "outputId": "b7e96858-49d9-47ca-e7a6-162d38e77620"
      },
      "id": "oxbMf_uOWHVn",
      "execution_count": 41,
      "outputs": [
        {
          "output_type": "stream",
          "name": "stdout",
          "text": [
            "[0.57254902 0.55294118 0.52941176 ... 0.84313725 0.90980392 0.9372549 ]\n"
          ]
        }
      ]
    },
    {
      "cell_type": "code",
      "source": [
        "from tensorflow.keras import utils\n",
        "from keras.utils import to_categorical\n",
        "\n",
        "# 라벨을 원핫인코딩 형태로 변환 - 클래스 부여를 위해서\n",
        "train_labels = utils.to_categorical(train_labels)\n",
        "val_labels = utils.to_categorical(val_labels)\n",
        "test_labels = utils.to_categorical(test_labels)"
      ],
      "metadata": {
        "id": "wXIGVjpMJ_XR"
      },
      "id": "wXIGVjpMJ_XR",
      "execution_count": 43,
      "outputs": []
    },
    {
      "cell_type": "code",
      "source": [
        "print(train_labels.shape)\n",
        "print(val_labels.shape)\n",
        "print(test_labels.shape)"
      ],
      "metadata": {
        "colab": {
          "base_uri": "https://localhost:8080/"
        },
        "id": "ep3HJAopKTzx",
        "outputId": "8cb933f3-d90e-4640-aef0-9259176eaf3d"
      },
      "id": "ep3HJAopKTzx",
      "execution_count": 44,
      "outputs": [
        {
          "output_type": "stream",
          "name": "stdout",
          "text": [
            "(68, 2)\n",
            "(17, 2)\n",
            "(15, 2)\n"
          ]
        }
      ]
    },
    {
      "cell_type": "markdown",
      "source": [
        "## 모델 학습 : KNN"
      ],
      "metadata": {
        "id": "C_CXfr1-N1AL"
      },
      "id": "C_CXfr1-N1AL"
    },
    {
      "cell_type": "code",
      "source": [
        "from sklearn.neighbors import KNeighborsClassifier\n",
        "\n",
        "# 모델 학습\n",
        "knn = KNeighborsClassifier(n_neighbors=5)  # Specify the number of neighbors\n",
        "knn.fit(train_data, train_labels)\n",
        "\n",
        "# 밸리데이션 데이터 예측\n",
        "val_predictions = knn.predict(val_data)\n",
        "\n",
        "# 테스트 데이터 예측\n",
        "test_predictions = knn.predict(test_data)\n",
        "\n",
        "# 정확도 평가\n",
        "val_accuracy = knn.score(val_data, val_labels)\n",
        "test_accuracy = knn.score(test_data, test_labels)\n",
        "\n",
        "print(\"Validation Accuracy:\", val_accuracy)\n",
        "print(\"Test Accuracy:\", test_accuracy)\n"
      ],
      "metadata": {
        "id": "PnAgBi5QMY8-",
        "colab": {
          "base_uri": "https://localhost:8080/"
        },
        "outputId": "13e2c572-53ea-419b-df2b-57db49d4e0bf"
      },
      "id": "PnAgBi5QMY8-",
      "execution_count": 45,
      "outputs": [
        {
          "output_type": "stream",
          "name": "stdout",
          "text": [
            "Validation Accuracy: 0.35294117647058826\n",
            "Test Accuracy: 0.5333333333333333\n"
          ]
        }
      ]
    },
    {
      "cell_type": "markdown",
      "source": [
        "(수빈 피드백)\n",
        "- 정확도 평가에 대한 코드 수정하기\n",
        "- 정확도 내부 확인하기"
      ],
      "metadata": {
        "id": "KUx4B5ONJJGi"
      },
      "id": "KUx4B5ONJJGi"
    },
    {
      "cell_type": "code",
      "source": [
        "print(test_predictions)"
      ],
      "metadata": {
        "colab": {
          "base_uri": "https://localhost:8080/"
        },
        "id": "8f5LTrVwLc1-",
        "outputId": "8a95d224-3b23-4c3d-97d3-7cd2bb0e5c21"
      },
      "id": "8f5LTrVwLc1-",
      "execution_count": 46,
      "outputs": [
        {
          "output_type": "stream",
          "name": "stdout",
          "text": [
            "[[0. 1.]\n",
            " [1. 0.]\n",
            " [1. 0.]\n",
            " [1. 0.]\n",
            " [0. 1.]\n",
            " [1. 0.]\n",
            " [0. 1.]\n",
            " [0. 1.]\n",
            " [1. 0.]\n",
            " [0. 1.]\n",
            " [1. 0.]\n",
            " [0. 1.]\n",
            " [0. 1.]\n",
            " [0. 1.]\n",
            " [0. 1.]]\n"
          ]
        }
      ]
    },
    {
      "cell_type": "code",
      "source": [
        "print(test_labels)"
      ],
      "metadata": {
        "colab": {
          "base_uri": "https://localhost:8080/"
        },
        "id": "Pe20IposKfcs",
        "outputId": "b0831d9c-8ecb-4155-9aae-f9263d9f4290"
      },
      "id": "Pe20IposKfcs",
      "execution_count": 47,
      "outputs": [
        {
          "output_type": "stream",
          "name": "stdout",
          "text": [
            "[[0. 1.]\n",
            " [0. 1.]\n",
            " [0. 1.]\n",
            " [1. 0.]\n",
            " [1. 0.]\n",
            " [1. 0.]\n",
            " [1. 0.]\n",
            " [0. 1.]\n",
            " [1. 0.]\n",
            " [1. 0.]\n",
            " [1. 0.]\n",
            " [1. 0.]\n",
            " [0. 1.]\n",
            " [1. 0.]\n",
            " [0. 1.]]\n"
          ]
        }
      ]
    },
    {
      "cell_type": "code",
      "source": [
        "from sklearn.metrics import classification_report\n",
        "\n",
        "print(classification_report(test_predictions, test_labels))"
      ],
      "metadata": {
        "colab": {
          "base_uri": "https://localhost:8080/"
        },
        "id": "aZPvbkdiMCbH",
        "outputId": "f4bb0399-30c8-44c9-84bb-9b3db1fe25f6"
      },
      "id": "aZPvbkdiMCbH",
      "execution_count": 49,
      "outputs": [
        {
          "output_type": "stream",
          "name": "stdout",
          "text": [
            "              precision    recall  f1-score   support\n",
            "\n",
            "           0       0.44      0.67      0.53         6\n",
            "           1       0.67      0.44      0.53         9\n",
            "\n",
            "   micro avg       0.53      0.53      0.53        15\n",
            "   macro avg       0.56      0.56      0.53        15\n",
            "weighted avg       0.58      0.53      0.53        15\n",
            " samples avg       0.53      0.53      0.53        15\n",
            "\n"
          ]
        }
      ]
    },
    {
      "cell_type": "code",
      "source": [
        "def classify_image(image):\n",
        "    image = cv2.imread(image)\n",
        "    image = cv2.resize(image, (32, 32))\n",
        "    image = image.reshape((1, 32 * 32 * 3)) / 255.0\n",
        "\n",
        "    prediction = knn.predict(image)\n",
        "    class_index = np.argmax(prediction)\n",
        "    class_name = class_names[class_index]\n",
        "\n",
        "    return class_name"
      ],
      "metadata": {
        "id": "7tPanzy8PL0z"
      },
      "id": "7tPanzy8PL0z",
      "execution_count": 50,
      "outputs": []
    },
    {
      "cell_type": "code",
      "source": [
        "## 함수 작동이 잘 되는지 확인\n",
        "\n",
        "img1= '/content/drive/MyDrive/Colab Notebooks/AIFFEL/Data/sticker_app/images/서현진1.jpg'\n",
        "img2 = '/content/drive/MyDrive/Colab Notebooks/AIFFEL/Data/sticker_app/images/서현진2.jpg'\n",
        "img3 = '/content/drive/MyDrive/Colab Notebooks/AIFFEL/Data/sticker_app/images/서현진3.jpg'\n",
        "img4 = '/content/drive/MyDrive/Colab Notebooks/AIFFEL/Data/sticker_app/images/서현진4.jpg'\n",
        "img5 = '/content/drive/MyDrive/Colab Notebooks/AIFFEL/Data/sticker_app/images/서현진5.jpg'\n",
        "img6 = '/content/drive/MyDrive/Colab Notebooks/AIFFEL/Data/sticker_app/images/내사진1.jpg'\n",
        "print(classify_image(img1))\n",
        "print(classify_image(img2))\n",
        "print(classify_image(img3))\n",
        "print(classify_image(img4))\n",
        "print(classify_image(img5))\n",
        "print(classify_image(img6))"
      ],
      "metadata": {
        "colab": {
          "base_uri": "https://localhost:8080/"
        },
        "id": "SlblejOOMesF",
        "outputId": "2ec54913-fad9-49f6-ad91-1531c113d491"
      },
      "id": "SlblejOOMesF",
      "execution_count": 51,
      "outputs": [
        {
          "output_type": "stream",
          "name": "stdout",
          "text": [
            "웜톤\n",
            "웜톤\n",
            "웜톤\n",
            "쿨톤\n",
            "쿨톤\n",
            "웜톤\n"
          ]
        }
      ]
    },
    {
      "cell_type": "markdown",
      "source": [
        "- 헉 드디어.. 결과는 나왔는데..."
      ],
      "metadata": {
        "id": "qdnyAottX5G2"
      },
      "id": "qdnyAottX5G2"
    },
    {
      "cell_type": "code",
      "source": [
        "import gradio as gr\n",
        "\n",
        "classification = gr.Interface(fn=classify_image,\n",
        "                              inputs=gr.inputs.Image(shape=(32, 32)),\n",
        "                              # inputs = 'image',\n",
        "                              outputs=gr.outputs.Label(num_top_classes=1)\n",
        "                              # outputs = 'label'\n",
        "                              )"
      ],
      "metadata": {
        "id": "r8nXIbMxMY1m",
        "colab": {
          "base_uri": "https://localhost:8080/"
        },
        "outputId": "400a2f97-ca36-45d8-c7a4-ab35fef8ae10"
      },
      "id": "r8nXIbMxMY1m",
      "execution_count": 52,
      "outputs": [
        {
          "output_type": "stream",
          "name": "stderr",
          "text": [
            "<ipython-input-52-5dc484f2c367>:4: GradioDeprecationWarning: Usage of gradio.inputs is deprecated, and will not be supported in the future, please import your component from gradio.components\n",
            "  inputs=gr.inputs.Image(shape=(32, 32)),\n",
            "<ipython-input-52-5dc484f2c367>:4: GradioDeprecationWarning: `optional` parameter is deprecated, and it has no effect\n",
            "  inputs=gr.inputs.Image(shape=(32, 32)),\n",
            "<ipython-input-52-5dc484f2c367>:6: GradioDeprecationWarning: Usage of gradio.outputs is deprecated, and will not be supported in the future, please import your components from gradio.components\n",
            "  outputs=gr.outputs.Label(num_top_classes=1)\n",
            "<ipython-input-52-5dc484f2c367>:6: GradioUnusedKwargWarning: You have unused kwarg parameters in Label, please remove them: {'type': 'auto'}\n",
            "  outputs=gr.outputs.Label(num_top_classes=1)\n"
          ]
        }
      ]
    },
    {
      "cell_type": "code",
      "source": [
        "classification.launch()"
      ],
      "metadata": {
        "id": "zNAOZZG7MYx0",
        "colab": {
          "base_uri": "https://localhost:8080/",
          "height": 618
        },
        "outputId": "94f903a9-8c1b-4579-bf94-047cb3ef352c"
      },
      "id": "zNAOZZG7MYx0",
      "execution_count": 53,
      "outputs": [
        {
          "output_type": "stream",
          "name": "stdout",
          "text": [
            "Colab notebook detected. To show errors in colab notebook, set debug=True in launch()\n",
            "Note: opening Chrome Inspector may crash demo inside Colab notebooks.\n",
            "\n",
            "To create a public link, set `share=True` in `launch()`.\n"
          ]
        },
        {
          "output_type": "display_data",
          "data": {
            "text/plain": [
              "<IPython.core.display.Javascript object>"
            ],
            "application/javascript": [
              "(async (port, path, width, height, cache, element) => {\n",
              "                        if (!google.colab.kernel.accessAllowed && !cache) {\n",
              "                            return;\n",
              "                        }\n",
              "                        element.appendChild(document.createTextNode(''));\n",
              "                        const url = await google.colab.kernel.proxyPort(port, {cache});\n",
              "\n",
              "                        const external_link = document.createElement('div');\n",
              "                        external_link.innerHTML = `\n",
              "                            <div style=\"font-family: monospace; margin-bottom: 0.5rem\">\n",
              "                                Running on <a href=${new URL(path, url).toString()} target=\"_blank\">\n",
              "                                    https://localhost:${port}${path}\n",
              "                                </a>\n",
              "                            </div>\n",
              "                        `;\n",
              "                        element.appendChild(external_link);\n",
              "\n",
              "                        const iframe = document.createElement('iframe');\n",
              "                        iframe.src = new URL(path, url).toString();\n",
              "                        iframe.height = height;\n",
              "                        iframe.allow = \"autoplay; camera; microphone; clipboard-read; clipboard-write;\"\n",
              "                        iframe.width = width;\n",
              "                        iframe.style.border = 0;\n",
              "                        element.appendChild(iframe);\n",
              "                    })(7860, \"/\", \"100%\", 500, false, window.element)"
            ]
          },
          "metadata": {}
        },
        {
          "output_type": "execute_result",
          "data": {
            "text/plain": []
          },
          "metadata": {},
          "execution_count": 53
        }
      ]
    },
    {
      "cell_type": "markdown",
      "source": [
        "- 왜 안돼................."
      ],
      "metadata": {
        "id": "kEs9qJ1GnBo6"
      },
      "id": "kEs9qJ1GnBo6"
    },
    {
      "cell_type": "code",
      "source": [
        "# Define Gradio interface\n",
        "inputs = gr.inputs.Image()\n",
        "outputs = gr.outputs.Textbox()\n",
        "\n",
        "gr.Interface(fn=classify_image, inputs=inputs, outputs=outputs).launch()"
      ],
      "metadata": {
        "colab": {
          "base_uri": "https://localhost:8080/",
          "height": 748
        },
        "id": "dGYqUBFFFdbA",
        "outputId": "fafd17b1-f984-4a91-c8c5-9f9a27263cb7"
      },
      "id": "dGYqUBFFFdbA",
      "execution_count": 54,
      "outputs": [
        {
          "output_type": "stream",
          "name": "stderr",
          "text": [
            "<ipython-input-54-1620b580edc8>:2: GradioDeprecationWarning: Usage of gradio.inputs is deprecated, and will not be supported in the future, please import your component from gradio.components\n",
            "  inputs = gr.inputs.Image()\n",
            "<ipython-input-54-1620b580edc8>:2: GradioDeprecationWarning: `optional` parameter is deprecated, and it has no effect\n",
            "  inputs = gr.inputs.Image()\n",
            "<ipython-input-54-1620b580edc8>:3: GradioDeprecationWarning: Usage of gradio.outputs is deprecated, and will not be supported in the future, please import your components from gradio.components\n",
            "  outputs = gr.outputs.Textbox()\n"
          ]
        },
        {
          "output_type": "stream",
          "name": "stdout",
          "text": [
            "Colab notebook detected. To show errors in colab notebook, set debug=True in launch()\n",
            "Note: opening Chrome Inspector may crash demo inside Colab notebooks.\n",
            "\n",
            "To create a public link, set `share=True` in `launch()`.\n"
          ]
        },
        {
          "output_type": "display_data",
          "data": {
            "text/plain": [
              "<IPython.core.display.Javascript object>"
            ],
            "application/javascript": [
              "(async (port, path, width, height, cache, element) => {\n",
              "                        if (!google.colab.kernel.accessAllowed && !cache) {\n",
              "                            return;\n",
              "                        }\n",
              "                        element.appendChild(document.createTextNode(''));\n",
              "                        const url = await google.colab.kernel.proxyPort(port, {cache});\n",
              "\n",
              "                        const external_link = document.createElement('div');\n",
              "                        external_link.innerHTML = `\n",
              "                            <div style=\"font-family: monospace; margin-bottom: 0.5rem\">\n",
              "                                Running on <a href=${new URL(path, url).toString()} target=\"_blank\">\n",
              "                                    https://localhost:${port}${path}\n",
              "                                </a>\n",
              "                            </div>\n",
              "                        `;\n",
              "                        element.appendChild(external_link);\n",
              "\n",
              "                        const iframe = document.createElement('iframe');\n",
              "                        iframe.src = new URL(path, url).toString();\n",
              "                        iframe.height = height;\n",
              "                        iframe.allow = \"autoplay; camera; microphone; clipboard-read; clipboard-write;\"\n",
              "                        iframe.width = width;\n",
              "                        iframe.style.border = 0;\n",
              "                        element.appendChild(iframe);\n",
              "                    })(7861, \"/\", \"100%\", 500, false, window.element)"
            ]
          },
          "metadata": {}
        },
        {
          "output_type": "execute_result",
          "data": {
            "text/plain": []
          },
          "metadata": {},
          "execution_count": 54
        }
      ]
    },
    {
      "cell_type": "markdown",
      "source": [
        "- outputs타입을 텍스트박스로 바꿔보아도 결과 반환이 안 된다. 왤까...\n",
        "- Unexpected end of JSON input라는 에러문구가 동일하게 뜬다"
      ],
      "metadata": {
        "id": "tEu3j3tPFrA-"
      },
      "id": "tEu3j3tPFrA-"
    },
    {
      "cell_type": "markdown",
      "source": [
        "## skin detection 포함"
      ],
      "metadata": {
        "id": "08cNLBcnnJOJ"
      },
      "id": "08cNLBcnnJOJ"
    },
    {
      "cell_type": "code",
      "source": [
        "def Skin_Detection(img_path):\n",
        "\n",
        "  #Open a simple image\n",
        "  img=cv2.imread(img_path)\n",
        "\n",
        "  #converting from gbr to YCbCr color space\n",
        "  img_YCrCb = cv2.cvtColor(img, cv2.COLOR_BGR2YCrCb)\n",
        "  #skin color range for hsv color space\n",
        "  YCrCb_mask = cv2.inRange(img_YCrCb, (0, 135, 85), (255,180,135))\n",
        "  YCrCb_mask = cv2.morphologyEx(YCrCb_mask, cv2.MORPH_OPEN, np.ones((3,3), np.uint8))\n",
        "\n",
        "  YCrCb_result = cv2.bitwise_not(YCrCb_mask)\n",
        "  YCrCb_skin_detected = cv2.bitwise_and(img, img, mask=YCrCb_mask)\n",
        "\n",
        "  return img_YCrCb, YCrCb_mask"
      ],
      "metadata": {
        "id": "gYObaVtnnJB9"
      },
      "id": "gYObaVtnnJB9",
      "execution_count": null,
      "outputs": []
    },
    {
      "cell_type": "code",
      "source": [
        "# skin 좌표 추출, YCrCb 픽셀값 추출\n",
        "def coordinate_extraction(mask, img):\n",
        "  skin = np.argwhere(mask == 255) # mask의 픽셀값이 255인 skin부분의 좌표 추출\n",
        "\n",
        "  pixel_values = [] # YCbCr 픽셀값 저장을 위한 리스트\n",
        "\n",
        "  for index in skin:\n",
        "    y, x = index  #일반적으로 생각하는 가로 x, 세로 y로 표현하기 위해 위치 바꿈\n",
        "    #print(f\"x: {x}, y: {y}\") # skin 범위 좌표값 출력(스압주의)\n",
        "    pixel_value = img[y, x]\n",
        "    pixel_values.append(pixel_value)\n",
        "\n",
        "  for coord, pixel_value in zip(skin, pixel_values): # skin부분의 좌표값과 픽셀값 출력을 위한 함수\n",
        "    x, y = coord\n",
        "    #print(f\"Coordinate: ({x}, {y}), Pixel Value: {pixel_value}\")\n",
        "\n",
        "  return pixel_values"
      ],
      "metadata": {
        "id": "UodjAP18nI_e"
      },
      "id": "UodjAP18nI_e",
      "execution_count": null,
      "outputs": []
    },
    {
      "cell_type": "code",
      "source": [
        "# 픽셀의 평균값 구하기\n",
        "def pixel_means(pixel_values):\n",
        "  # 열 별로 원소들을 더하기\n",
        "  column_sums = np.sum(pixel_values, axis=0)\n",
        "\n",
        "  # pixel_values를 NumPy 배열로 변환\n",
        "  pixel_values = np.array(pixel_values)\n",
        "\n",
        "  # 열 별로 평균 계산하기\n",
        "  column_means = column_sums / pixel_values.shape[0]\n",
        "\n",
        "  return column_means"
      ],
      "metadata": {
        "id": "r_LYlR-HnI8O"
      },
      "id": "r_LYlR-HnI8O",
      "execution_count": null,
      "outputs": []
    },
    {
      "cell_type": "code",
      "source": [
        "def get_dict(dir_path):\n",
        "  file_list = os.listdir(dir_path)\n",
        "\n",
        "  img_list = []\n",
        "  result_list = []\n",
        "\n",
        "  for file in file_list:\n",
        "    img_path = os.path.join(dir_path, file)\n",
        "    if os.path.isdir(img_path):  # 만약 디렉토리인 경우, 무시하고 다음 파일로 넘어감\n",
        "      continue\n",
        "    file_name = file\n",
        "    file_name = os.path.splitext(file_name)[0] # 파일 이름과 확장자 분리\n",
        "    img_YCrCb,YCrCb_mask = Skin_Detection(img_path)\n",
        "    img_list.append([img_YCrCb, YCrCb_mask]) # 그림 show()를 위한 용도\n",
        "\n",
        "    # YCrCb\n",
        "    YCrCb_pixel_values = coordinate_extraction(YCrCb_mask, img_YCrCb)\n",
        "    YCrCb_pixel_means = pixel_means(YCrCb_pixel_values)\n",
        "    #print(YCrCb_pixel_means)\n",
        "\n",
        "    result_list.append(YCrCb_pixel_means)\n",
        "\n",
        "  return result_list"
      ],
      "metadata": {
        "id": "H2LpJ-6DnI6G"
      },
      "id": "H2LpJ-6DnI6G",
      "execution_count": null,
      "outputs": []
    },
    {
      "cell_type": "code",
      "source": [
        "path = \"/content/drive/MyDrive/Colab Notebooks/AIFFEL/Data/four_seasons/쿨\"  # 디렉토리 경로\n",
        "path2 = \"/content/drive/MyDrive/Colab Notebooks/AIFFEL/Data/four_seasons/웜\" # 디렉토리 경로"
      ],
      "metadata": {
        "id": "Kl8qW0-1nI3s"
      },
      "id": "Kl8qW0-1nI3s",
      "execution_count": null,
      "outputs": []
    },
    {
      "cell_type": "code",
      "source": [
        "cool_result  = get_dict(path) # 1분"
      ],
      "metadata": {
        "id": "5HPXlJWvnI0P"
      },
      "id": "5HPXlJWvnI0P",
      "execution_count": null,
      "outputs": []
    },
    {
      "cell_type": "code",
      "source": [
        "warm_result  = get_dict(path2) # 1분"
      ],
      "metadata": {
        "id": "48hVoYwunIyF"
      },
      "id": "48hVoYwunIyF",
      "execution_count": null,
      "outputs": []
    },
    {
      "cell_type": "code",
      "source": [
        "images = np.concatenate((cool_result, warm_result), axis=0)\n",
        "#print(images) #스압 조큼 있음"
      ],
      "metadata": {
        "id": "rTKYqtPLnIsF"
      },
      "id": "rTKYqtPLnIsF",
      "execution_count": null,
      "outputs": []
    },
    {
      "cell_type": "code",
      "source": [
        "# labels에 대한 코드\n",
        "num = len(images)\n",
        "labels = np.zeros(num)\n",
        "\n",
        "# 처음 50개의 요소를 1로 변경\n",
        "labels[length:] = 1\n",
        "\n",
        "# 0이 쿨톤 1이 웜톤\n",
        "print(len(images))\n",
        "print(labels)"
      ],
      "metadata": {
        "id": "VbDjHSjbGKub"
      },
      "id": "VbDjHSjbGKub",
      "execution_count": null,
      "outputs": []
    },
    {
      "cell_type": "code",
      "source": [
        "train_ratio = 0.7  # 훈련 세트 비율\n",
        "val_ratio = 0.2    # 검증 세트 비율\n",
        "train_data, train_labels, val_data, val_labels, test_data, test_labels = split_data(images, labels, train_ratio, val_ratio)\n",
        "print(\"train: \", train_data.shape)\n",
        "print(\"val: \", val_data.shape)\n",
        "print(\"test: \", test_data.shape)"
      ],
      "metadata": {
        "id": "lKzj23U7GKrZ"
      },
      "id": "lKzj23U7GKrZ",
      "execution_count": null,
      "outputs": []
    },
    {
      "cell_type": "code",
      "source": [
        "# 검증 셋에서 가장 잘 동작하는 hyperparameter 들을 찾는다.\n",
        "validation_accuracies = []\n",
        "for k in [5, 10, 20, 25, 30]:\n",
        "\n",
        "    # 특정 k 값을 정해서 검증 데이터에 대해 평가할 때 사용한다.\n",
        "    nn = NearestNeighbor()\n",
        "    nn.train(train_data, train_labels)\n",
        "    # 여기서는 k를 input으로 받을 수 있도록 변형된 NearestNeighbor 클래스가 있다고 가정하자.\n",
        "    Yval_predict = nn.predict(val_data, k = k)\n",
        "    acc = np.mean(Yval_predict == val_labels)\n",
        "    print('accuracy: %f' % (acc,))\n",
        "\n",
        "    # 검증 셋에 대한 정확도를 저장해 놓는다.\n",
        "    validation_accuracies.append((k, acc))"
      ],
      "metadata": {
        "id": "-1BpGtAbGKnU"
      },
      "id": "-1BpGtAbGKnU",
      "execution_count": null,
      "outputs": []
    },
    {
      "cell_type": "code",
      "source": [],
      "metadata": {
        "id": "rNLUDRQDGKk2"
      },
      "id": "rNLUDRQDGKk2",
      "execution_count": null,
      "outputs": []
    },
    {
      "cell_type": "code",
      "source": [],
      "metadata": {
        "id": "hsJXG7HoGKi2"
      },
      "id": "hsJXG7HoGKi2",
      "execution_count": null,
      "outputs": []
    },
    {
      "cell_type": "code",
      "source": [],
      "metadata": {
        "id": "DZxZV3ApGKgg"
      },
      "id": "DZxZV3ApGKgg",
      "execution_count": null,
      "outputs": []
    },
    {
      "cell_type": "code",
      "source": [],
      "metadata": {
        "id": "mwTmBbZJGKcf"
      },
      "id": "mwTmBbZJGKcf",
      "execution_count": null,
      "outputs": []
    },
    {
      "cell_type": "markdown",
      "id": "a60ed55a",
      "metadata": {
        "id": "a60ed55a"
      },
      "source": [
        "# Reference\n",
        "\n",
        "- 분류 모델 공식 홈페이지 데모 버전 (https://www.gradio.app/guides/image-classification-in-tensorflow)\n",
        "- 코드로 압축 풀기 (https://zeuskwon-ds.tistory.com/52)\n",
        "- 모폴로지 연산 (https://bkshin.tistory.com/entry/OpenCV-19-%EB%AA%A8%ED%8F%B4%EB%A1%9C%EC%A7%80Morphology-%EC%97%B0%EC%82%B0-%EC%B9%A8%EC%8B%9D-%ED%8C%BD%EC%B0%BD-%EC%97%B4%EB%A6%BC-%EB%8B%AB%ED%9E%98-%EA%B7%B8%EB%A0%88%EB%94%94%EC%96%B8%ED%8A%B8-%ED%83%91%ED%96%87-%EB%B8%94%EB%9E%99%ED%96%87)"
      ]
    }
  ],
  "metadata": {
    "kernelspec": {
      "display_name": "Python 3 (ipykernel)",
      "language": "python",
      "name": "python3"
    },
    "language_info": {
      "codemirror_mode": {
        "name": "ipython",
        "version": 3
      },
      "file_extension": ".py",
      "mimetype": "text/x-python",
      "name": "python",
      "nbconvert_exporter": "python",
      "pygments_lexer": "ipython3",
      "version": "3.9.7"
    },
    "colab": {
      "provenance": []
    }
  },
  "nbformat": 4,
  "nbformat_minor": 5
}