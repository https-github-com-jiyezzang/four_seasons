{
 "cells": [
  {
   "cell_type": "markdown",
   "id": "287f71b0",
   "metadata": {},
   "source": [
    "# ResNet"
   ]
  },
  {
   "cell_type": "markdown",
   "id": "728933a5",
   "metadata": {},
   "source": [
    "# 1번_웜:쿨 비율 동일하게 \n",
    "warm_1 238장 + cool_1 238장 \"총 476장\" "
   ]
  },
  {
   "cell_type": "code",
   "execution_count": null,
   "id": "062b37ad",
   "metadata": {},
   "outputs": [],
   "source": [
    "# 1-1-1"
   ]
  },
  {
   "cell_type": "markdown",
   "id": "07bc0655",
   "metadata": {},
   "source": [
    "## batch_size=16, epochs=30, learning rate=0.0001(네번째자리)"
   ]
  },
  {
   "cell_type": "markdown",
   "id": "357327d6",
   "metadata": {},
   "source": [
    "## (1) 라이브러리 및 데이터 불러오기"
   ]
  },
  {
   "cell_type": "code",
   "execution_count": 1,
   "id": "bd89997d",
   "metadata": {},
   "outputs": [],
   "source": [
    "import tensorflow as tf\n",
    "from tensorflow.keras import layers, models\n",
    "from tensorflow.keras.applications import vgg16\n",
    "\n",
    "import numpy as np\n",
    "import cv2\n",
    "import os\n",
    "import glob\n",
    "from PIL import Image"
   ]
  },
  {
   "cell_type": "markdown",
   "id": "ccf55433",
   "metadata": {},
   "source": [
    "## 데이터 불러오고, 웜톤 0, 쿨톤 1로 레이블링"
   ]
  },
  {
   "cell_type": "code",
   "execution_count": 2,
   "id": "57ac3571",
   "metadata": {},
   "outputs": [],
   "source": [
    "import random"
   ]
  },
  {
   "cell_type": "code",
   "execution_count": 3,
   "id": "7669147d",
   "metadata": {},
   "outputs": [
    {
     "name": "stdout",
     "output_type": "stream",
     "text": [
      "학습데이터(x_train)의 이미지 개수는 476 입니다.\n",
      "x_train shape: (476, 224, 224, 3)\n",
      "y_train shape: (476,)\n"
     ]
    }
   ],
   "source": [
    "def load_data(img_path, number_of_data=476):  # warm_1 238 + cool_1 238\n",
    "    # 웜톤 : 0, 쿨톤 : 1\n",
    "    img_size=224\n",
    "    color=3\n",
    "    #이미지 데이터와 라벨(웜톤 : 0, 쿨톤 : 1) 데이터를 담을 행렬(matrix) 영역을 생성합니다.\n",
    "    imgs=np.zeros(number_of_data*img_size*img_size*color,dtype=np.int32).reshape(number_of_data,img_size,img_size,color)\n",
    "    labels=np.zeros(number_of_data,dtype=np.int32)\n",
    "\n",
    "    idx=0\n",
    "    warm_files = list(glob.iglob(img_path + '/warm_1/*.jpg')) + list(glob.iglob(img_path + '/warm_1/*.JPG'))     \n",
    "    # 리스트에서 무작위로 238개 선택\n",
    "    warm_files = random.sample(warm_files, 238)\n",
    "    for file in warm_files:\n",
    "        img = Image.open(file)  # 이미지 열기\n",
    "        img = img.resize((img_size, img_size))  # 이미지 크기 조정\n",
    "        img = np.array(img, dtype=np.int32)\n",
    "        imgs[idx,:,:,:]=img    # 데이터 영역에 이미지 행렬을 복사\n",
    "        labels[idx]=0   # 웜톤 : 0\n",
    "        idx=idx+1\n",
    "\n",
    "    cool_files = list(glob.iglob(img_path + '/cool_1/*.jpg')) + list(glob.iglob(img_path + '/cool_1/*.JPG')) \n",
    "    for file in cool_files:\n",
    "        img = Image.open(file)  # 이미지 열기\n",
    "        img = img.resize((img_size, img_size))  # 이미지 크기 조정\n",
    "        img = np.array(img, dtype=np.int32)\n",
    "        imgs[idx,:,:,:]=img    # 데이터 영역에 이미지 행렬을 복사\n",
    "        labels[idx]=1   # 쿨톤 : 1\n",
    "        idx=idx+1  \n",
    "    \n",
    "    print(\"학습데이터(x_train)의 이미지 개수는\", idx,\"입니다.\")\n",
    "    return imgs, labels\n",
    "\n",
    "image_dir_path = os.getenv(\"HOME\") + \"/aiffel/project/first-repository/aiffelthon/content/drive/MyDrive/사계절_연예인 이미지 데이터셋/train data\"\n",
    "(x_train, y_train)=load_data(image_dir_path)\n",
    "\n",
    "print(\"x_train shape: {}\".format(x_train.shape))\n",
    "print(\"y_train shape: {}\".format(y_train.shape))"
   ]
  },
  {
   "cell_type": "markdown",
   "id": "0eaeb0a1",
   "metadata": {},
   "source": [
    "## 정규화"
   ]
  },
  {
   "cell_type": "code",
   "execution_count": 4,
   "id": "4b000bf0",
   "metadata": {},
   "outputs": [],
   "source": [
    "x_train = x_train / 255.0"
   ]
  },
  {
   "cell_type": "markdown",
   "id": "445ff6d8",
   "metadata": {},
   "source": [
    "## (3) train, val 분리하기"
   ]
  },
  {
   "cell_type": "code",
   "execution_count": 5,
   "id": "98d54d53",
   "metadata": {},
   "outputs": [
    {
     "name": "stdout",
     "output_type": "stream",
     "text": [
      "x_train:  (333, 224, 224, 3)\n",
      "y_train:  (333,)\n",
      "x_val:  (143, 224, 224, 3)\n",
      "y_val:  (143,)\n"
     ]
    }
   ],
   "source": [
    "from sklearn.model_selection import train_test_split\n",
    "\n",
    "x_train, x_val, y_train, y_val = train_test_split(x_train,\n",
    "                                                  y_train,\n",
    "                                                  test_size=0.3,\n",
    "                                                  random_state=42)\n",
    "\n",
    "print(\"x_train: \", x_train.shape)\n",
    "print(\"y_train: \", y_train.shape)\n",
    "print(\"x_val: \", x_val.shape)\n",
    "print(\"y_val: \", y_val.shape)"
   ]
  },
  {
   "cell_type": "code",
   "execution_count": 39,
   "id": "c88146d2",
   "metadata": {},
   "outputs": [],
   "source": [
    "# 1-1-2"
   ]
  },
  {
   "cell_type": "markdown",
   "id": "8beefcd6",
   "metadata": {},
   "source": [
    "## 정규화, random_state=42, batch_size=16, epochs=50, learning rate=0.0001(네번째자리),"
   ]
  },
  {
   "cell_type": "markdown",
   "id": "30efd827",
   "metadata": {},
   "source": [
    "## 데이터 바로 사용해도 되는지 확인"
   ]
  },
  {
   "cell_type": "code",
   "execution_count": 40,
   "id": "bd7d647a",
   "metadata": {
    "scrolled": true
   },
   "outputs": [
    {
     "name": "stdout",
     "output_type": "stream",
     "text": [
      "x_train:  (333, 224, 224, 3)\n",
      "y_train:  (333,)\n",
      "x_val:  (143, 224, 224, 3)\n",
      "y_val:  (143,)\n"
     ]
    }
   ],
   "source": [
    "print(\"x_train: \", x_train.shape)\n",
    "print(\"y_train: \", y_train.shape)\n",
    "print(\"x_val: \", x_val.shape)\n",
    "print(\"y_val: \", y_val.shape)"
   ]
  },
  {
   "cell_type": "markdown",
   "id": "d487b265",
   "metadata": {},
   "source": [
    "## (4) 모델 정의 및 컴파일"
   ]
  },
  {
   "cell_type": "code",
   "execution_count": 8,
   "id": "401466c9",
   "metadata": {},
   "outputs": [
    {
     "name": "stdout",
     "output_type": "stream",
     "text": [
      "Downloading data from https://storage.googleapis.com/tensorflow/keras-applications/resnet/resnet50_weights_tf_dim_ordering_tf_kernels_notop.h5\n",
      "94773248/94765736 [==============================] - 0s 0us/step\n",
      "94781440/94765736 [==============================] - 0s 0us/step\n"
     ]
    }
   ],
   "source": [
    "# ResNet-50 모델 불러오기\n",
    "resnet50 = ResNet50(weights='imagenet', include_top=False, input_shape=(224, 224, 3))\n",
    "\n",
    "x = GlobalAveragePooling2D()(resnet50.output) \n",
    "x = Dense(1024, activation='relu')(x)\n",
    "x = Dense(512, activation='relu')(x)\n",
    "output = Dense(2, activation='softmax')(x)\n",
    "\n",
    "# 새로운 모델 정의\n",
    "model = tf.keras.models.Model(inputs=resnet50.input, outputs=output)"
   ]
  },
  {
   "cell_type": "code",
   "execution_count": 9,
   "id": "5054e178",
   "metadata": {},
   "outputs": [],
   "source": [
    "learning_rate = 0.0001\n",
    "adam = tf.keras.optimizers.Adam(learning_rate=learning_rate)\n",
    "\n",
    "# 모델 컴파일\n",
    "model.compile(optimizer= adam,\n",
    "              loss='sparse_categorical_crossentropy', \n",
    "              metrics=['accuracy'])"
   ]
  },
  {
   "cell_type": "code",
   "execution_count": 10,
   "id": "8c5d7331",
   "metadata": {},
   "outputs": [],
   "source": [
    "# early stopping, checkpoint\n",
    "early_stopping_callback = tf.keras.callbacks.EarlyStopping(\n",
    "    monitor='val_loss',\n",
    "    patience=10,\n",
    "    verbose=1,\n",
    "    restore_best_weights=True,\n",
    ")\n",
    "\n",
    "model_checkpoint_callback = tf.keras.callbacks.ModelCheckpoint(\n",
    "    './check/ResNet/1번/1-2-2/model_{epoch:02d}.h5',\n",
    "    monitor='val_loss',\n",
    "    verbose=1,\n",
    "    save_best_only=True,\n",
    "    save_weights_only=False,\n",
    "    mode='min',\n",
    "    save_freq='epoch',    \n",
    ")"
   ]
  },
  {
   "cell_type": "markdown",
   "id": "b67ea6ad",
   "metadata": {},
   "source": [
    "## (5) 모델 학습하기"
   ]
  },
  {
   "cell_type": "code",
   "execution_count": 11,
   "id": "e18b32fc",
   "metadata": {},
   "outputs": [
    {
     "name": "stdout",
     "output_type": "stream",
     "text": [
      "Epoch 1/50\n",
      "21/21 [==============================] - 56s 338ms/step - loss: 0.4542 - accuracy: 0.7838 - val_loss: 0.7687 - val_accuracy: 0.5245\n",
      "\n",
      "Epoch 00001: val_loss improved from inf to 0.76870, saving model to ./check/ResNet/1번/1-2-2/model_01.h5\n"
     ]
    },
    {
     "name": "stderr",
     "output_type": "stream",
     "text": [
      "/opt/conda/lib/python3.9/site-packages/keras/utils/generic_utils.py:494: CustomMaskWarning: Custom mask layers require a config and must override get_config. When loading, the custom mask layer must be passed to the custom_objects argument.\n",
      "  warnings.warn('Custom mask layers require a config and must override '\n"
     ]
    },
    {
     "name": "stdout",
     "output_type": "stream",
     "text": [
      "Epoch 2/50\n",
      "21/21 [==============================] - 4s 184ms/step - loss: 0.1005 - accuracy: 0.9640 - val_loss: 0.8372 - val_accuracy: 0.5245\n",
      "\n",
      "Epoch 00002: val_loss did not improve from 0.76870\n",
      "Epoch 3/50\n",
      "21/21 [==============================] - 4s 185ms/step - loss: 0.0378 - accuracy: 0.9850 - val_loss: 0.9510 - val_accuracy: 0.5245\n",
      "\n",
      "Epoch 00003: val_loss did not improve from 0.76870\n",
      "Epoch 4/50\n",
      "21/21 [==============================] - 4s 186ms/step - loss: 0.0290 - accuracy: 0.9880 - val_loss: 1.1017 - val_accuracy: 0.5245\n",
      "\n",
      "Epoch 00004: val_loss did not improve from 0.76870\n",
      "Epoch 5/50\n",
      "21/21 [==============================] - 4s 185ms/step - loss: 0.0150 - accuracy: 0.9940 - val_loss: 1.1654 - val_accuracy: 0.5245\n",
      "\n",
      "Epoch 00005: val_loss did not improve from 0.76870\n",
      "Epoch 6/50\n",
      "21/21 [==============================] - 4s 185ms/step - loss: 0.0041 - accuracy: 1.0000 - val_loss: 2.4738 - val_accuracy: 0.5245\n",
      "\n",
      "Epoch 00006: val_loss did not improve from 0.76870\n",
      "Epoch 7/50\n",
      "21/21 [==============================] - 4s 187ms/step - loss: 0.0014 - accuracy: 1.0000 - val_loss: 3.1212 - val_accuracy: 0.5245\n",
      "\n",
      "Epoch 00007: val_loss did not improve from 0.76870\n",
      "Epoch 8/50\n",
      "21/21 [==============================] - 4s 187ms/step - loss: 0.0011 - accuracy: 1.0000 - val_loss: 3.2190 - val_accuracy: 0.5245\n",
      "\n",
      "Epoch 00008: val_loss did not improve from 0.76870\n",
      "Epoch 9/50\n",
      "21/21 [==============================] - 4s 187ms/step - loss: 3.4974e-04 - accuracy: 1.0000 - val_loss: 3.0566 - val_accuracy: 0.5245\n",
      "\n",
      "Epoch 00009: val_loss did not improve from 0.76870\n",
      "Epoch 10/50\n",
      "21/21 [==============================] - 4s 187ms/step - loss: 1.9796e-04 - accuracy: 1.0000 - val_loss: 2.9564 - val_accuracy: 0.5245\n",
      "\n",
      "Epoch 00010: val_loss did not improve from 0.76870\n",
      "Epoch 11/50\n",
      "21/21 [==============================] - 4s 188ms/step - loss: 9.1415e-04 - accuracy: 1.0000 - val_loss: 2.7777 - val_accuracy: 0.5245\n",
      "\n",
      "Epoch 00011: val_loss did not improve from 0.76870\n",
      "Restoring model weights from the end of the best epoch.\n",
      "Epoch 00011: early stopping\n"
     ]
    }
   ],
   "source": [
    "# early stopping과 checkpoint가 적용된 model.fit\n",
    "history = model.fit(\n",
    "    x_train, y_train, \n",
    "    batch_size=16, \n",
    "    epochs=50, \n",
    "    validation_data=(x_val, y_val), \n",
    "    callbacks=[model_checkpoint_callback, early_stopping_callback]\n",
    ")"
   ]
  },
  {
   "cell_type": "markdown",
   "id": "e585d0b2",
   "metadata": {},
   "source": [
    "## (6) 예측하기"
   ]
  },
  {
   "cell_type": "code",
   "execution_count": 12,
   "id": "589c5259",
   "metadata": {},
   "outputs": [],
   "source": [
    "pred = model.predict(x_val)\n",
    "pred_class = np.argmax(pred, axis=1)"
   ]
  },
  {
   "cell_type": "code",
   "execution_count": 13,
   "id": "34c55518",
   "metadata": {},
   "outputs": [
    {
     "name": "stdout",
     "output_type": "stream",
     "text": [
      "[0 0 0 0 0 0 0 0 0 0 0 0 0 0 0 0 0 0 0 0 0 0 0 0 0 0 0 0 0 0 0 0 0 0 0 0 0\n",
      " 0 0 0 0 0 0 0 0 0 0 0 0 0 0 0 0 0 0 0 0 0 0 0 0 0 0 0 0 0 0 0 0 0 0 0 0 0\n",
      " 0 0 0 0 0 0 0 0 0 0 0 0 0 0 0 0 0 0 0 0 0 0 0 0 0 0 0 0 0 0 0 0 0 0 0 0 0\n",
      " 0 0 0 0 0 0 0 0 0 0 0 0 0 0 0 0 0 0 0 0 0 0 0 0 0 0 0 0 0 0 0 0]\n",
      "[1 0 0 0 0 0 1 0 1 0 1 1 1 1 0 1 0 0 1 0 1 1 0 1 0 1 0 0 1 0 1 0 1 0 0 0 0\n",
      " 1 0 0 0 1 0 1 0 1 1 0 1 1 1 0 1 0 0 0 0 1 1 0 0 0 0 1 0 1 0 1 1 1 1 1 1 1\n",
      " 1 0 1 1 0 1 1 0 0 1 1 0 0 1 0 1 1 0 0 1 1 1 0 0 1 1 0 1 0 0 1 0 0 0 0 1 0\n",
      " 1 0 0 0 1 0 0 0 1 0 1 1 0 0 1 1 1 0 1 0 1 1 0 0 0 0 1 1 0 1 0 0]\n",
      "[[0.7009481  0.29905188]\n",
      " [0.7132241  0.2867759 ]\n",
      " [0.7141526  0.28584743]\n",
      " [0.7096471  0.29035288]\n",
      " [0.7150188  0.2849812 ]\n",
      " [0.7057851  0.2942149 ]\n",
      " [0.70950824 0.29049176]\n",
      " [0.71261406 0.28738594]\n",
      " [0.7056262  0.2943738 ]\n",
      " [0.7118828  0.28811717]\n",
      " [0.6976975  0.30230245]\n",
      " [0.7112481  0.28875193]\n",
      " [0.70720625 0.29279378]\n",
      " [0.7172737  0.28272623]\n",
      " [0.7092413  0.29075876]\n",
      " [0.7147102  0.28528976]\n",
      " [0.70673764 0.2932624 ]\n",
      " [0.7177417  0.28225827]\n",
      " [0.717666   0.28233406]\n",
      " [0.71429646 0.2857036 ]\n",
      " [0.7185807  0.28141925]\n",
      " [0.71330607 0.28669396]\n",
      " [0.71039194 0.28960803]\n",
      " [0.70308983 0.29691017]\n",
      " [0.71664697 0.28335303]\n",
      " [0.70922315 0.29077685]\n",
      " [0.71671665 0.28328332]\n",
      " [0.7050078  0.2949922 ]\n",
      " [0.7101174  0.28988266]\n",
      " [0.7253205  0.2746795 ]\n",
      " [0.71361125 0.28638875]\n",
      " [0.7095639  0.29043612]\n",
      " [0.7124851  0.28751498]\n",
      " [0.71786714 0.28213283]\n",
      " [0.7029766  0.29702342]\n",
      " [0.73065096 0.26934904]\n",
      " [0.7004714  0.2995286 ]\n",
      " [0.7080593  0.29194066]\n",
      " [0.7138384  0.28616157]\n",
      " [0.6951042  0.30489582]\n",
      " [0.71410275 0.28589725]\n",
      " [0.708393   0.291607  ]\n",
      " [0.7187398  0.28126016]\n",
      " [0.7133948  0.28660518]\n",
      " [0.71115386 0.28884614]\n",
      " [0.7172312  0.28276876]\n",
      " [0.71026504 0.28973493]\n",
      " [0.70478195 0.295218  ]\n",
      " [0.71430284 0.28569716]\n",
      " [0.70449346 0.29550657]\n",
      " [0.7083164  0.29168364]\n",
      " [0.7033453  0.2966547 ]\n",
      " [0.70863396 0.29136604]\n",
      " [0.71799606 0.28200394]\n",
      " [0.7141311  0.2858689 ]\n",
      " [0.70783746 0.29216257]\n",
      " [0.7078124  0.2921875 ]\n",
      " [0.7111465  0.28885347]\n",
      " [0.7112878  0.28871226]\n",
      " [0.7135187  0.28648132]\n",
      " [0.70429045 0.29570955]\n",
      " [0.71221006 0.28778994]\n",
      " [0.7138475  0.28615248]\n",
      " [0.7022887  0.29771128]\n",
      " [0.7114155  0.2885844 ]\n",
      " [0.70517915 0.29482085]\n",
      " [0.7032378  0.2967623 ]\n",
      " [0.70696586 0.2930341 ]\n",
      " [0.7115745  0.28842548]\n",
      " [0.7121376  0.28786245]\n",
      " [0.70829237 0.2917076 ]\n",
      " [0.7173072  0.28269276]\n",
      " [0.7113798  0.28862014]\n",
      " [0.713806   0.286194  ]\n",
      " [0.7083872  0.2916128 ]\n",
      " [0.70752615 0.29247382]\n",
      " [0.70726234 0.29273763]\n",
      " [0.7036912  0.29630885]\n",
      " [0.71551543 0.28448454]\n",
      " [0.7132641  0.28673592]\n",
      " [0.7249877  0.2750123 ]\n",
      " [0.70748544 0.29251453]\n",
      " [0.70641613 0.29358393]\n",
      " [0.71696675 0.28303322]\n",
      " [0.7146097  0.28539032]\n",
      " [0.7089173  0.29108268]\n",
      " [0.7133737  0.28662625]\n",
      " [0.71394193 0.28605804]\n",
      " [0.7130895  0.28691047]\n",
      " [0.7117253  0.28827474]\n",
      " [0.7081002  0.29189983]\n",
      " [0.7104786  0.28952137]\n",
      " [0.71265376 0.28734627]\n",
      " [0.70691895 0.29308105]\n",
      " [0.7031177  0.29688227]\n",
      " [0.72425723 0.2757428 ]\n",
      " [0.7176902  0.28230977]\n",
      " [0.7072203  0.29277968]\n",
      " [0.7080692  0.29193076]\n",
      " [0.71130997 0.28869006]\n",
      " [0.7125256  0.2874744 ]\n",
      " [0.7108359  0.28916416]\n",
      " [0.71678966 0.2832103 ]\n",
      " [0.7055393  0.29446074]\n",
      " [0.7088852  0.2911148 ]\n",
      " [0.7126951  0.28730494]\n",
      " [0.7095103  0.29048964]\n",
      " [0.70802444 0.29197553]\n",
      " [0.7044066  0.2955934 ]\n",
      " [0.71092415 0.28907582]\n",
      " [0.71907926 0.28092077]\n",
      " [0.7112894  0.28871056]\n",
      " [0.7105467  0.28945336]\n",
      " [0.7087332  0.29126677]\n",
      " [0.7124664  0.28753358]\n",
      " [0.70534575 0.29465425]\n",
      " [0.704882   0.29511797]\n",
      " [0.70309275 0.2969073 ]\n",
      " [0.7129706  0.28702945]\n",
      " [0.71338737 0.2866126 ]\n",
      " [0.7080002  0.2919998 ]\n",
      " [0.7091985  0.2908015 ]\n",
      " [0.71673524 0.28326476]\n",
      " [0.7039177  0.29608232]\n",
      " [0.70301276 0.2969872 ]\n",
      " [0.70790035 0.29209962]\n",
      " [0.7112878  0.28871226]\n",
      " [0.7128599  0.28714   ]\n",
      " [0.7094355  0.29056448]\n",
      " [0.7064909  0.29350907]\n",
      " [0.70965505 0.29034492]\n",
      " [0.7092183  0.29078168]\n",
      " [0.70770866 0.29229137]\n",
      " [0.7068984  0.29310158]\n",
      " [0.7065793  0.29342067]\n",
      " [0.7112655  0.28873447]\n",
      " [0.7078093  0.29219067]\n",
      " [0.7104345  0.2895655 ]\n",
      " [0.7044883  0.29551178]\n",
      " [0.7047219  0.29527807]\n",
      " [0.71338737 0.28661266]\n",
      " [0.71650445 0.28349558]\n",
      " [0.7146249  0.28537512]]\n"
     ]
    }
   ],
   "source": [
    "print(pred_class)\n",
    "print(y_val)\n",
    "print(pred)"
   ]
  },
  {
   "cell_type": "code",
   "execution_count": 14,
   "id": "6280d260",
   "metadata": {},
   "outputs": [
    {
     "name": "stdout",
     "output_type": "stream",
     "text": [
      "accuracy: 0.524476\n"
     ]
    }
   ],
   "source": [
    "acc = np.mean(pred_class == y_val)\n",
    "print('accuracy: %f' % (acc,))"
   ]
  },
  {
   "cell_type": "markdown",
   "id": "7456ac1b",
   "metadata": {},
   "source": [
    "## loss, accuracy 시각화"
   ]
  },
  {
   "cell_type": "code",
   "execution_count": 15,
   "id": "766c523f",
   "metadata": {},
   "outputs": [
    {
     "data": {
      "image/png": "[encoded data removed]",
      "text/plain": [
       "<Figure size 432x288 with 1 Axes>"
      ]
     },
     "metadata": {
      "needs_background": "light"
     },
     "output_type": "display_data"
    },
    {
     "data": {
      "image/png": "[encoded data removed]",
      "text/plain": [
       "<Figure size 432x288 with 1 Axes>"
      ]
     },
     "metadata": {
      "needs_background": "light"
     },
     "output_type": "display_data"
    }
   ],
   "source": [
    "import matplotlib.pyplot as plt\n",
    "\n",
    "# 정확도 시각화\n",
    "plt.plot(history.history['accuracy'])\n",
    "plt.plot(history.history['val_accuracy'])\n",
    "plt.title('Model accuracy')\n",
    "plt.xlabel('Epochs')\n",
    "plt.ylabel('Accuracy')\n",
    "plt.legend(['Train', 'Validation'], loc='upper left')\n",
    "plt.show()\n",
    "\n",
    "# 손실값 시각화\n",
    "plt.plot(history.history['loss'])\n",
    "plt.plot(history.history['val_loss'])\n",
    "plt.title('Model loss')\n",
    "plt.xlabel('Epochs')\n",
    "plt.ylabel('Loss')\n",
    "plt.legend(['Train', 'Validation'], loc='upper left')\n",
    "plt.show()"
   ]
  },
  {
   "cell_type": "markdown",
   "id": "67abbd73",
   "metadata": {},
   "source": [
    "## confusion_matrix"
   ]
  },
  {
   "cell_type": "code",
   "execution_count": 16,
   "id": "cb580736",
   "metadata": {},
   "outputs": [
    {
     "data": {
      "image/png": "[encoded data removed]",
      "text/plain": [
       "<Figure size 360x360 with 2 Axes>"
      ]
     },
     "metadata": {
      "needs_background": "light"
     },
     "output_type": "display_data"
    }
   ],
   "source": [
    "from sklearn.metrics import confusion_matrix\n",
    "import seaborn as sns\n",
    "\n",
    "# confusion matrix 생성\n",
    "cm = confusion_matrix(y_val, pred_class)\n",
    "\n",
    "# confusion matrix 출력\n",
    "plt.figure(figsize=(5,5))\n",
    "sns.heatmap(cm, annot=True, fmt=\"d\")\n",
    "plt.title('Confusion matrix')\n",
    "plt.ylabel('Actual label')\n",
    "plt.xlabel('Predicted label')\n",
    "plt.show()"
   ]
  },
  {
   "cell_type": "markdown",
   "id": "ee1df7d3",
   "metadata": {},
   "source": [
    "## classification_report"
   ]
  },
  {
   "cell_type": "code",
   "execution_count": 17,
   "id": "66c74375",
   "metadata": {},
   "outputs": [
    {
     "name": "stdout",
     "output_type": "stream",
     "text": [
      "              precision    recall  f1-score   support\n",
      "\n",
      "           0       0.52      1.00      0.69        75\n",
      "           1       0.00      0.00      0.00        68\n",
      "\n",
      "    accuracy                           0.52       143\n",
      "   macro avg       0.26      0.50      0.34       143\n",
      "weighted avg       0.28      0.52      0.36       143\n",
      "\n"
     ]
    },
    {
     "name": "stderr",
     "output_type": "stream",
     "text": [
      "/opt/conda/lib/python3.9/site-packages/sklearn/metrics/_classification.py:1308: UndefinedMetricWarning: Precision and F-score are ill-defined and being set to 0.0 in labels with no predicted samples. Use `zero_division` parameter to control this behavior.\n",
      "  _warn_prf(average, modifier, msg_start, len(result))\n",
      "/opt/conda/lib/python3.9/site-packages/sklearn/metrics/_classification.py:1308: UndefinedMetricWarning: Precision and F-score are ill-defined and being set to 0.0 in labels with no predicted samples. Use `zero_division` parameter to control this behavior.\n",
      "  _warn_prf(average, modifier, msg_start, len(result))\n",
      "/opt/conda/lib/python3.9/site-packages/sklearn/metrics/_classification.py:1308: UndefinedMetricWarning: Precision and F-score are ill-defined and being set to 0.0 in labels with no predicted samples. Use `zero_division` parameter to control this behavior.\n",
      "  _warn_prf(average, modifier, msg_start, len(result))\n"
     ]
    }
   ],
   "source": [
    "from sklearn.metrics import classification_report\n",
    "\n",
    "print(classification_report(y_val, pred_class))"
   ]
  },
  {
   "cell_type": "code",
   "execution_count": null,
   "id": "c040ded2",
   "metadata": {},
   "outputs": [],
   "source": []
  },
  {
   "cell_type": "code",
   "execution_count": null,
   "id": "ed6caa90",
   "metadata": {},
   "outputs": [],
   "source": []
  },
  {
   "cell_type": "code",
   "execution_count": null,
   "id": "7fc7a731",
   "metadata": {},
   "outputs": [],
   "source": []
  },
  {
   "cell_type": "code",
   "execution_count": null,
   "id": "d8c990d4",
   "metadata": {},
   "outputs": [],
   "source": []
  }
 ],
 "metadata": {
  "kernelspec": {
   "display_name": "Python 3 (ipykernel)",
   "language": "python",
   "name": "python3"
  },
  "language_info": {
   "codemirror_mode": {
    "name": "ipython",
    "version": 3
   },
   "file_extension": ".py",
   "mimetype": "text/x-python",
   "name": "python",
   "nbconvert_exporter": "python",
   "pygments_lexer": "ipython3",
   "version": "3.9.7"
  }
 },
 "nbformat": 4,
 "nbformat_minor": 5
}
