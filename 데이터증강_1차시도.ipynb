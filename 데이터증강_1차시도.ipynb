{
 "cells": [
  {
   "cell_type": "code",
   "execution_count": 1,
   "id": "36b76503",
   "metadata": {},
   "outputs": [
    {
     "name": "stdout",
     "output_type": "stream",
     "text": [
      "/aiffel/aiffel/project/first-repository/Team_Project\r\n"
     ]
    }
   ],
   "source": [
    "!pwd"
   ]
  },
  {
   "cell_type": "code",
   "execution_count": 68,
   "id": "142e297c",
   "metadata": {},
   "outputs": [
    {
     "name": "stdout",
     "output_type": "stream",
     "text": [
      "mkdir: cannot create directory ‘./cool_1_데이터증강5배’: File exists\r\n"
     ]
    },
    {
     "name": "stderr",
     "output_type": "stream",
     "text": [
      "/tmp/ipykernel_259/67315381.py:26: DeprecationWarning: Sampling from a set deprecated\n",
      "since Python 3.9 and will be removed in a subsequent version.\n",
      "  original_files = random.sample(original_files, 238)\n"
     ]
    },
    {
     "name": "stdout",
     "output_type": "stream",
     "text": [
      "원래 파일 갯수:  238\n"
     ]
    }
   ],
   "source": [
    "# 데이터증강\n",
    "import os\n",
    "import random\n",
    "from keras.preprocessing.image import ImageDataGenerator, array_to_img, img_to_array, load_img\n",
    "\n",
    "# ImageDataGenerator를 사용하여 데이터 증강 설정 (이전에 설정한대로 사용)\n",
    "datagen = ImageDataGenerator(\n",
    "    rotation_range=20,\n",
    "    width_shift_range=0.2,\n",
    "    height_shift_range=0.2,\n",
    "    zoom_range=0.2,\n",
    "    horizontal_flip=True,\n",
    "    fill_mode='nearest'\n",
    ")\n",
    "\n",
    "\n",
    "# 원본 이미지 디렉토리\n",
    "image_directory = os.getenv(\"HOME\") + \"/aiffel/project/first-repository/data/DataSet_final/content/drive/MyDrive/사계절_연예인 이미지 데이터셋/train data/cool_1\"\n",
    "\n",
    "# 증강된 이미지가 저장된 디렉토리\n",
    "!mkdir ./cool_1_데이터증강5배\n",
    "augmented_directory = './cool_1_데이터증강5배'\n",
    "\n",
    "# 원본 이미지 파일들의 경로를 가져옴\n",
    "original_files = set([f for f in os.listdir(image_directory) if os.path.isfile(os.path.join(image_directory, f))])\n",
    "original_files = random.sample(original_files, 238)\n",
    "\n",
    "# 증강 수행, 파일 저장\n",
    "for image_file in original_files:\n",
    "    img_path = os.path.join(image_directory, image_file)\n",
    "    img = load_img(img_path)\n",
    "    img = img.resize((224, 224))  # 이미지 크기 조정\n",
    "    x = img_to_array(img)\n",
    "    x = x.reshape((1,) + x.shape)\n",
    "\n",
    "    for i in range(5):  # 각 이미지에 대해 3번의 증강을 수행\n",
    "        augmented_img = next(datagen.flow(x, batch_size=1))\n",
    "        save_path = os.path.join(augmented_directory, f'aug_{image_file[:-4]}_{i+1}.jpg')\n",
    "        array_to_img(augmented_img[0]).save(save_path)\n",
    "    \n",
    "    augmented_list.extend([f'aug_image_{i+1}.jpg']) \n",
    "\n",
    "# 확인하기\n",
    "print(\"원래 파일 갯수: \", len(original_files))"
   ]
  },
  {
   "cell_type": "code",
   "execution_count": 57,
   "id": "1df52aa4",
   "metadata": {},
   "outputs": [
    {
     "data": {
      "text/plain": [
       "476"
      ]
     },
     "execution_count": 57,
     "metadata": {},
     "output_type": "execute_result"
    }
   ],
   "source": [
    "238 + 238"
   ]
  },
  {
   "cell_type": "code",
   "execution_count": 58,
   "id": "78b3977a",
   "metadata": {},
   "outputs": [
    {
     "data": {
      "text/plain": [
       "714"
      ]
     },
     "execution_count": 58,
     "metadata": {},
     "output_type": "execute_result"
    }
   ],
   "source": [
    "238 * 3\n",
    "# 714 1번 완료"
   ]
  },
  {
   "cell_type": "code",
   "execution_count": 63,
   "id": "6318d226",
   "metadata": {},
   "outputs": [
    {
     "data": {
      "text/plain": [
       "574"
      ]
     },
     "execution_count": 63,
     "metadata": {},
     "output_type": "execute_result"
    }
   ],
   "source": [
    "238 + 336"
   ]
  },
  {
   "cell_type": "code",
   "execution_count": 65,
   "id": "563f2da2",
   "metadata": {},
   "outputs": [
    {
     "data": {
      "text/plain": [
       "2870"
      ]
     },
     "execution_count": 65,
     "metadata": {},
     "output_type": "execute_result"
    }
   ],
   "source": [
    "238 * 5 + 336 * 5"
   ]
  },
  {
   "cell_type": "code",
   "execution_count": 64,
   "id": "ae003e65",
   "metadata": {},
   "outputs": [
    {
     "data": {
      "text/plain": [
       "2870"
      ]
     },
     "execution_count": 64,
     "metadata": {},
     "output_type": "execute_result"
    }
   ],
   "source": [
    "574 * 5\n",
    "# 2870 2번 완료"
   ]
  }
 ],
 "metadata": {
  "kernelspec": {
   "display_name": "Python 3 (ipykernel)",
   "language": "python",
   "name": "python3"
  },
  "language_info": {
   "codemirror_mode": {
    "name": "ipython",
    "version": 3
   },
   "file_extension": ".py",
   "mimetype": "text/x-python",
   "name": "python",
   "nbconvert_exporter": "python",
   "pygments_lexer": "ipython3",
   "version": "3.9.7"
  }
 },
 "nbformat": 4,
 "nbformat_minor": 5
}
