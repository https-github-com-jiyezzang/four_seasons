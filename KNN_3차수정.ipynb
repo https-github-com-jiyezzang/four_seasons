{
  "cells": [
    {
      "cell_type": "markdown",
      "id": "46de910d",
      "metadata": {
        "id": "46de910d"
      },
      "source": [
        "# 프로젝트: 퍼스널 컬러 진단 - KNN 베이스코드\n",
        "\n",
        "## 데이터\n",
        "1. Cifer10 동물데이터: http://www.cs.toronto.edu/~kriz/cifar.html  \n",
        "2. 직접 수집한 쿨톤 100장, 웜톤 100장  \n",
        "\n",
        "## 목표\n",
        "1. 우선 CS231에 나온 내용을 기반으로 cifer10 데이터셋을 KNN으로 분류하는 작업을 해보도록 하겠다!\n",
        "2. 1단계를 적용하여 우리의 퍼스널컬러 데이터를 KNN으로 분류하는 작업을 해보자!\n",
        "3. KNN + Skin Detection\n",
        "4. KNN + Face Cropped\n",
        "5. KNN + gradio"
      ]
    },
    {
      "cell_type": "markdown",
      "id": "8fc3ba3d",
      "metadata": {
        "id": "8fc3ba3d"
      },
      "source": [
        "# 1. Cifer10 분류"
      ]
    },
    {
      "cell_type": "markdown",
      "source": [
        "## (1) 라이브러리 및 데이터 풀러오기"
      ],
      "metadata": {
        "id": "oHLJejbz9WG_"
      },
      "id": "oHLJejbz9WG_"
    },
    {
      "cell_type": "code",
      "execution_count": null,
      "id": "7d5feb18",
      "metadata": {
        "id": "7d5feb18"
      },
      "outputs": [],
      "source": [
        "import tensorflow as tf\n",
        "import numpy as np"
      ]
    },
    {
      "cell_type": "code",
      "execution_count": null,
      "id": "9bab4bc2",
      "metadata": {
        "id": "9bab4bc2",
        "outputId": "8ae1eb07-a152-4ae6-e516-daebed9936af",
        "colab": {
          "base_uri": "https://localhost:8080/"
        }
      },
      "outputs": [
        {
          "output_type": "stream",
          "name": "stdout",
          "text": [
            "Downloading data from https://www.cs.toronto.edu/~kriz/cifar-10-python.tar.gz\n",
            "170498071/170498071 [==============================] - 4s 0us/step\n",
            "(50000, 32, 32, 3)\n",
            "(50000, 1)\n",
            "(10000, 32, 32, 3)\n",
            "(10000, 1)\n"
          ]
        }
      ],
      "source": [
        "# CIFAR-10 데이터셋 로드\n",
        "(Xtr, Ytr), (Xte, Yte) = tf.keras.datasets.cifar10.load_data()\n",
        "\n",
        "# 데이터 확인\n",
        "print(Xtr.shape)  # (50000, 32, 32, 3)\n",
        "print(Ytr.shape)  # (50000, 1)\n",
        "print(Xte.shape)   # (10000, 32, 32, 3)\n",
        "print(Yte.shape)   # (10000, 1)"
      ]
    },
    {
      "cell_type": "code",
      "execution_count": null,
      "id": "669c409a",
      "metadata": {
        "id": "669c409a"
      },
      "outputs": [],
      "source": [
        "#print(Xtr)"
      ]
    },
    {
      "cell_type": "code",
      "execution_count": null,
      "id": "c40844f6",
      "metadata": {
        "id": "c40844f6",
        "outputId": "3db7903d-fcff-4552-d1b0-b162e0c3d5aa"
      },
      "outputs": [
        {
          "name": "stdout",
          "output_type": "stream",
          "text": [
            "[[6]\n",
            " [9]\n",
            " [9]\n",
            " ...\n",
            " [9]\n",
            " [1]\n",
            " [1]]\n"
          ]
        }
      ],
      "source": [
        "print(Ytr)"
      ]
    },
    {
      "cell_type": "markdown",
      "id": "11f2fe3d",
      "metadata": {
        "id": "11f2fe3d"
      },
      "source": [
        "## (2) 데이터 전처리"
      ]
    },
    {
      "cell_type": "code",
      "execution_count": null,
      "id": "df5e715a",
      "metadata": {
        "id": "df5e715a"
      },
      "outputs": [],
      "source": [
        "# 모든 이미지가 1차원 배열로 저장된다.\n",
        "Xtr_rows = Xtr.reshape(Xtr.shape[0], 32 * 32 * 3) # Xtr_rows는 50000 x 3072 크기의 배열.\n",
        "Xte_rows = Xte.reshape(Xte.shape[0], 32 * 32 * 3) # Xte_rows는 10000 x 3072 크기의 배열."
      ]
    },
    {
      "cell_type": "markdown",
      "id": "b9162d76",
      "metadata": {
        "id": "b9162d76"
      },
      "source": [
        "## (3) train, validation 분류하기"
      ]
    },
    {
      "cell_type": "code",
      "execution_count": null,
      "id": "024d7e50",
      "metadata": {
        "id": "024d7e50"
      },
      "outputs": [],
      "source": [
        "# Xtr_rows, Ytr, Xte_rows, Yte 는 이전과 동일하게 갖고 있다고 가정하자.\n",
        "# Xtr_rows 는 50,000 x 3072 행렬이었다.\n",
        "Xval_rows = Xtr_rows[:1000, :] # 앞의 1000 개를 검증용으로 선택한다.\n",
        "Yval = Ytr[:1000]\n",
        "Xtr_rows = Xtr_rows[1000:, :] # 뒤쪽의 49,000 개를 학습용으로 선택한다.\n",
        "Ytr = Ytr[1000:]"
      ]
    },
    {
      "cell_type": "markdown",
      "id": "5f89aa05",
      "metadata": {
        "id": "5f89aa05"
      },
      "source": [
        "## (4) KNN(최접근이웃)"
      ]
    },
    {
      "cell_type": "code",
      "execution_count": null,
      "id": "789fea4b",
      "metadata": {
        "id": "789fea4b"
      },
      "outputs": [],
      "source": [
        "class NearestNeighbor(object):\n",
        "    def __init__(self):\n",
        "        pass\n",
        "\n",
        "    def train(self, X, y):\n",
        "        \"\"\" X is N x D where each row is an example. Y is 1-dimension of size N \"\"\"\n",
        "        # nearest neighbor 분류기는 단순히 모든 학습 데이터를 기억해둔다.\n",
        "        self.Xtr = X\n",
        "        self.ytr = y\n",
        "\n",
        "    def predict(self, X, k):\n",
        "        \"\"\" X is N x D where each row is an example we wish to predict label for \"\"\"\n",
        "        num_test = X.shape[0]\n",
        "        # 출력 type과 입력 type이 갖게 되도록 확인해준다.\n",
        "        Ypred = np.zeros(num_test, dtype = self.ytr.dtype)\n",
        "\n",
        "    # loop over all test rows\n",
        "        for i in range(num_test):\n",
        "        # i번째 테스트 이미지와 가장 가까운 학습 이미지를\n",
        "        # L1 거리(절대값 차의 총합)를 이용하여 찾는다.\n",
        "            distances = np.sum(np.abs(self.Xtr - X[i,:]), axis = 1)\n",
        "            #distances = np.sqrt(np.sum(np.square(self.Xtr - X[i,:]), axis = 1))\n",
        "            #min_index = np.argmin(distances) # 가장 작은 distance를 갖는 인덱스를 찾는다.\n",
        "            #pred[i] = self.ytr[min_index] # 가장 가까운 이웃의 라벨로 예측\n",
        "\n",
        "            indices = np.argsort(distances)  # 거리가 작은 순서대로 인덱스 정렬\n",
        "            k_nearest_labels = self.ytr[indices[:k]]  # k개의 가장 가까운 이웃의 라벨\n",
        "            unique, counts = np.unique(k_nearest_labels, return_counts=True)\n",
        "            Ypred[i] = unique[np.argmax(counts)]  # 가장 많은 투표를 받은 라벨로 예측\n",
        "        return Ypred"
      ]
    },
    {
      "cell_type": "code",
      "execution_count": null,
      "id": "b37be30b",
      "metadata": {
        "id": "b37be30b",
        "outputId": "93e9aa9b-8081-4fa7-a37a-a53c99d21605"
      },
      "outputs": [
        {
          "name": "stdout",
          "output_type": "stream",
          "text": [
            "accuracy: 0.099237\n",
            "accuracy: 0.099692\n",
            "accuracy: 0.099476\n",
            "accuracy: 0.099453\n",
            "accuracy: 0.099738\n",
            "accuracy: 0.099670\n",
            "accuracy: 0.099609\n"
          ]
        }
      ],
      "source": [
        "# 검증 셋에서 가장 잘 동작하는 hyperparameter 들을 찾는다.\n",
        "validation_accuracies = []\n",
        "for k in [1, 3, 5, 10, 20, 50, 100]:\n",
        "\n",
        "    # 특정 k 값을 정해서 검증 데이터에 대해 평가할 때 사용한다.\n",
        "    nn = NearestNeighbor()\n",
        "    nn.train(Xtr_rows, Ytr)\n",
        "    # 여기서는 k를 input으로 받을 수 있도록 변형된 NearestNeighbor 클래스가 있다고 가정하자.\n",
        "    Yval_predict = nn.predict(Xval_rows, k = k)\n",
        "    acc = np.mean(Yval_predict == Yval)\n",
        "    print('accuracy: %f' % (acc,))\n",
        "\n",
        "    # 검증 셋에 대한 정확도를 저장해 놓는다.\n",
        "    validation_accuracies.append((k, acc))"
      ]
    },
    {
      "cell_type": "code",
      "execution_count": null,
      "id": "d6a907ac",
      "metadata": {
        "id": "d6a907ac",
        "outputId": "ef2ea02b-913b-44e0-e9e7-2f0e39d11520"
      },
      "outputs": [
        {
          "name": "stdout",
          "output_type": "stream",
          "text": [
            "[(1, 0.099237), (3, 0.099692), (5, 0.099476), (10, 0.099453), (20, 0.099738), (50, 0.09967), (100, 0.099609)]\n"
          ]
        }
      ],
      "source": [
        "print(validation_accuracies)"
      ]
    },
    {
      "cell_type": "markdown",
      "id": "59e5529a",
      "metadata": {
        "id": "59e5529a"
      },
      "source": [
        "-> 데이터 갯수에 비해 k값을 너무 작게 설정한 것 같아서 다시 수정해서 시도"
      ]
    },
    {
      "cell_type": "code",
      "execution_count": null,
      "id": "934bc6d0",
      "metadata": {
        "id": "934bc6d0",
        "outputId": "60ad62e4-dee1-4ee5-9332-a7d8f6290fe5"
      },
      "outputs": [
        {
          "name": "stdout",
          "output_type": "stream",
          "text": [
            "accuracy: 0.099609\n",
            "accuracy: 0.100084\n",
            "accuracy: 0.100414\n",
            "accuracy: 0.100554\n",
            "accuracy: 0.100498\n"
          ]
        }
      ],
      "source": [
        "# 검증 셋에서 가장 잘 동작하는 hyperparameter 들을 찾는다.\n",
        "validation_accuracies = []\n",
        "for k in [100, 500, 2000, 4000, 8000]:\n",
        "\n",
        "    # 특정 k 값을 정해서 검증 데이터에 대해 평가할 때 사용한다.\n",
        "    nn = NearestNeighbor()\n",
        "    nn.train(Xtr_rows, Ytr)\n",
        "    # 여기서는 k를 input으로 받을 수 있도록 변형된 NearestNeighbor 클래스가 있다고 가정하자.\n",
        "    Yval_predict = nn.predict(Xval_rows, k = k)\n",
        "    acc = np.mean(Yval_predict == Yval)\n",
        "    print('accuracy: %f' % (acc,))\n",
        "\n",
        "    # 검증 셋에 대한 정확도를 저장해 놓는다.\n",
        "    validation_accuracies.append((k, acc))"
      ]
    },
    {
      "cell_type": "code",
      "execution_count": null,
      "id": "56b24124",
      "metadata": {
        "id": "56b24124",
        "outputId": "11a488fe-50f3-457f-c8af-25c08b9d08ea"
      },
      "outputs": [
        {
          "name": "stdout",
          "output_type": "stream",
          "text": [
            "[(100, 0.099609), (500, 0.100084), (2000, 0.100414), (4000, 0.100554), (8000, 0.100498)]\n"
          ]
        }
      ],
      "source": [
        "print(validation_accuracies)"
      ]
    },
    {
      "cell_type": "markdown",
      "id": "fb70107e",
      "metadata": {
        "id": "fb70107e"
      },
      "source": [
        "# 2. 퍼스널 컬러 분류: 베이스코드\n"
      ]
    },
    {
      "cell_type": "markdown",
      "source": [
        "## (1) 라이브러리 및 데이터 불러오기"
      ],
      "metadata": {
        "id": "NrzWpuxBLIyG"
      },
      "id": "NrzWpuxBLIyG"
    },
    {
      "cell_type": "code",
      "execution_count": null,
      "id": "c8020e33",
      "metadata": {
        "id": "c8020e33"
      },
      "outputs": [],
      "source": [
        "import tensorflow as tf\n",
        "import numpy as np\n",
        "import cv2\n",
        "import os\n",
        "import glob\n",
        "from PIL import Image"
      ]
    },
    {
      "cell_type": "code",
      "execution_count": null,
      "id": "76374174",
      "metadata": {
        "id": "76374174"
      },
      "outputs": [],
      "source": [
        "def load_images_from_directory(directory_path):\n",
        "    image_paths = glob.glob(directory_path + '/*.jpg')  # 디렉토리 내의 모든 jpg 파일 경로 찾기\n",
        "    image_paths.extend(glob.glob(directory_path + '/*.jpeg'))  # 디렉토리 내의 모든 jpeg 파일 경로 추가\n",
        "\n",
        "    images = []\n",
        "    for image_path in image_paths:\n",
        "        image = Image.open(image_path)\n",
        "        image_np = np.array(image)\n",
        "        images.append(image_np)\n",
        "\n",
        "    return images"
      ]
    },
    {
      "cell_type": "markdown",
      "source": [
        "- png파일의 경우 jpg, jfif, jepg 파일과 다른 알고리즘을 사용하여 shape이 동일하지 않는 오류가 뜨는 문제가 있었음. 그래서 모든 파일을 jpg, jepg로 바꾸어 해결함"
      ],
      "metadata": {
        "id": "fjlcRQ1h9vtS"
      },
      "id": "fjlcRQ1h9vtS"
    },
    {
      "cell_type": "code",
      "source": [
        "from google.colab import drive\n",
        "drive.mount('/content/drive')"
      ],
      "metadata": {
        "colab": {
          "base_uri": "https://localhost:8080/"
        },
        "id": "UFw-OAj1eWsx",
        "outputId": "fae15d2e-3ccd-4e93-bb8a-bc36bd4ebe45"
      },
      "id": "UFw-OAj1eWsx",
      "execution_count": null,
      "outputs": [
        {
          "output_type": "stream",
          "name": "stdout",
          "text": [
            "Mounted at /content/drive\n"
          ]
        }
      ]
    },
    {
      "cell_type": "code",
      "execution_count": null,
      "id": "2e82a1f4",
      "metadata": {
        "id": "2e82a1f4",
        "colab": {
          "base_uri": "https://localhost:8080/"
        },
        "outputId": "1a39dbb3-66a4-46f7-bfd4-9226e8d41641"
      },
      "outputs": [
        {
          "output_type": "stream",
          "name": "stdout",
          "text": [
            "50\n",
            "50\n",
            "100\n"
          ]
        }
      ],
      "source": [
        "# 모든 이미지 불러오기\n",
        "directory_path = \"/content/drive/MyDrive/four_seasons/사계절_연예인 이미지 데이터셋/prototype/쿨톤_jpg\"  # 디렉토리 경로\n",
        "directory_path2 = \"/content/drive/MyDrive/four_seasons/사계절_연예인 이미지 데이터셋/prototype/웜톤_jpg\"  # 디렉토리 경로\n",
        "images = load_images_from_directory(directory_path)\n",
        "images2 = load_images_from_directory(directory_path2)\n",
        "\n",
        "length = len(images)\n",
        "print(length)\n",
        "print(len(images2))\n",
        "\n",
        "# 이미지 리스트 합치기\n",
        "images = np.concatenate((images, images2), axis=0)\n",
        "print(len(images))"
      ]
    },
    {
      "cell_type": "markdown",
      "id": "b53b01ac",
      "metadata": {
        "id": "b53b01ac"
      },
      "source": [
        "## (2) 데이터 전처리"
      ]
    },
    {
      "cell_type": "code",
      "source": [
        "# 새로운 크기로 리사이즈할 이미지의 너비와 높이\n",
        "new_width = 200\n",
        "new_height = 200\n",
        "\n",
        "resized_images = []\n",
        "for image in images:\n",
        "    resized_image = cv2.resize(image, (new_width, new_height))\n",
        "    resized_images.append(resized_image)\n",
        "\n",
        "# resized_images 리스트를 NumPy 배열로 변환\n",
        "resized_images_array = np.array(resized_images)\n",
        "\n",
        "# 변환된 NumPy 배열 출력\n",
        "print(resized_images_array.shape)"
      ],
      "metadata": {
        "colab": {
          "base_uri": "https://localhost:8080/"
        },
        "id": "u_7ZCWrwrnSr",
        "outputId": "8096497a-b278-418b-c43c-f906e0e91f23"
      },
      "id": "u_7ZCWrwrnSr",
      "execution_count": null,
      "outputs": [
        {
          "output_type": "stream",
          "name": "stdout",
          "text": [
            "(100, 200, 200, 3)\n"
          ]
        }
      ]
    },
    {
      "cell_type": "markdown",
      "source": [
        "- 이미지 파일마다 shape이 달라서 데이터셋을 하나의 numpy로 넣는 것에 문제가 있었음 그래서 cv2.resize를 이용하여 크기를 통일시키고 list로 묶여있던 파일들을 numpy로 묶음"
      ],
      "metadata": {
        "id": "Y9dFc2sC-QZl"
      },
      "id": "Y9dFc2sC-QZl"
    },
    {
      "cell_type": "code",
      "source": [
        "# 평탄화 작업\n",
        "images = resized_images_array.reshape(resized_images_array.shape[0], 200 * 200 * 3)"
      ],
      "metadata": {
        "id": "VdT_yCBF6omQ"
      },
      "id": "VdT_yCBF6omQ",
      "execution_count": null,
      "outputs": []
    },
    {
      "cell_type": "code",
      "execution_count": null,
      "id": "60e33d78",
      "metadata": {
        "colab": {
          "base_uri": "https://localhost:8080/"
        },
        "id": "60e33d78",
        "outputId": "57bd618a-d4f7-4579-81bd-b02af939a81f"
      },
      "outputs": [
        {
          "output_type": "stream",
          "name": "stdout",
          "text": [
            "100\n",
            "(100,)\n",
            "[0. 0. 0. 0. 0. 0. 0. 0. 0. 0. 0. 0. 0. 0. 0. 0. 0. 0. 0. 0. 0. 0. 0. 0.\n",
            " 0. 0. 0. 0. 0. 0. 0. 0. 0. 0. 0. 0. 0. 0. 0. 0. 0. 0. 0. 0. 0. 0. 0. 0.\n",
            " 0. 0. 1. 1. 1. 1. 1. 1. 1. 1. 1. 1. 1. 1. 1. 1. 1. 1. 1. 1. 1. 1. 1. 1.\n",
            " 1. 1. 1. 1. 1. 1. 1. 1. 1. 1. 1. 1. 1. 1. 1. 1. 1. 1. 1. 1. 1. 1. 1. 1.\n",
            " 1. 1. 1. 1.]\n"
          ]
        }
      ],
      "source": [
        "# labels에 대한 코드\n",
        "num = len(images)\n",
        "labels = np.zeros(num)\n",
        "\n",
        "# 처음 50개의 요소를 1로 변경\n",
        "# 0이 쿨톤 1이 웜톤\n",
        "labels[length:] = 1\n",
        "\n",
        "# 0이 쿨톤 1이 웜톤\n",
        "print(len(images))\n",
        "print(labels.shape)\n",
        "print(labels)"
      ]
    },
    {
      "cell_type": "markdown",
      "source": [
        "- 클래스는 0(쿨톤)과 1(웜톤) 두가지 이며 데이터가 100개이므로 라벨의 갯수도 그에 맞게 100개임 둘다 numpy array 형식으로 지정됨"
      ],
      "metadata": {
        "id": "L6zm7QauLOAm"
      },
      "id": "L6zm7QauLOAm"
    },
    {
      "cell_type": "markdown",
      "id": "6a496e53",
      "metadata": {
        "id": "6a496e53"
      },
      "source": [
        "## (3) train, val, test 분리하기"
      ]
    },
    {
      "cell_type": "code",
      "execution_count": null,
      "id": "155986cb",
      "metadata": {
        "id": "155986cb"
      },
      "outputs": [],
      "source": [
        "def split_data(data, labels, train_ratio, val_ratio):\n",
        "    # 데이터 개수 확인\n",
        "    num_examples = len(data)\n",
        "    num_lables = len(labels)\n",
        "    print(\"총 데이터 갯수: \", len(data))\n",
        "    print(\"총 라벨 갯수: \", len(labels))\n",
        "\n",
        "    # 인덱스를 섞은 배열 생성\n",
        "    shuffled_indices = np.random.permutation(num)\n",
        "\n",
        "    # 훈련 세트, 검증 세트, 테스트 세트 크기 계산\n",
        "    train_size = int(num_examples * train_ratio)\n",
        "    val_size = int(num_examples * val_ratio)\n",
        "    test_size = num_examples - train_size - val_size\n",
        "\n",
        "    # 데이터와 레이블을 분할하여 저장할 변수 초기화\n",
        "    train_data = np.zeros((train_size, *data.shape[1:]))\n",
        "    train_labels = np.zeros((train_size, *labels.shape[1:]))\n",
        "    val_data = np.zeros((val_size, *data.shape[1:]))\n",
        "    val_labels = np.zeros((val_size, *labels.shape[1:]))\n",
        "    test_data = np.zeros((test_size, *data.shape[1:]))\n",
        "    test_labels = np.zeros((test_size, *labels.shape[1:]))\n",
        "\n",
        "    # 데이터와 레이블을 섞은 인덱스를 기반으로 분할\n",
        "    train_indices = shuffled_indices[:train_size]\n",
        "    val_indices = shuffled_indices[train_size:train_size+val_size]\n",
        "    test_indices = shuffled_indices[train_size+val_size:]\n",
        "\n",
        "    train_data = data[train_indices]\n",
        "    train_labels = labels[train_indices]\n",
        "    val_data = data[val_indices]\n",
        "    val_labels = labels[val_indices]\n",
        "    test_data = data[test_indices]\n",
        "    test_labels = labels[test_indices]\n",
        "\n",
        "    return train_data, train_labels, val_data, val_labels, test_data, test_labels"
      ]
    },
    {
      "cell_type": "code",
      "execution_count": null,
      "id": "74286a64",
      "metadata": {
        "colab": {
          "base_uri": "https://localhost:8080/"
        },
        "id": "74286a64",
        "outputId": "b3c64715-3fb0-4684-e0a8-03f3f0e22a66"
      },
      "outputs": [
        {
          "output_type": "stream",
          "name": "stdout",
          "text": [
            "총 데이터 갯수:  100\n",
            "총 라벨 갯수:  100\n",
            "train:  (70, 120000)\n",
            "val:  (20, 120000)\n",
            "test:  (10, 120000)\n"
          ]
        }
      ],
      "source": [
        "train_ratio = 0.7  # 훈련 세트 비율\n",
        "val_ratio = 0.2    # 검증 세트 비율\n",
        "train_data, train_labels, val_data, val_labels, test_data, test_labels = split_data(images, labels, train_ratio, val_ratio)\n",
        "print(\"train: \", train_data.shape)\n",
        "print(\"val: \", val_data.shape)\n",
        "print(\"test: \", test_data.shape)"
      ]
    },
    {
      "cell_type": "markdown",
      "id": "065860dd",
      "metadata": {
        "id": "065860dd"
      },
      "source": [
        "## (4) KNN(최접근이웃)"
      ]
    },
    {
      "cell_type": "code",
      "execution_count": null,
      "id": "4c022d31",
      "metadata": {
        "id": "4c022d31"
      },
      "outputs": [],
      "source": [
        "class NearestNeighbor(object):\n",
        "    def __init__(self):\n",
        "        pass\n",
        "\n",
        "    def train(self, X, y):\n",
        "        \"\"\" X is N x D where each row is an example. Y is 1-dimension of size N \"\"\"\n",
        "        # nearest neighbor 분류기는 단순히 모든 학습 데이터를 기억해둔다.\n",
        "        self.Xtr = X\n",
        "        self.ytr = y\n",
        "\n",
        "    def predict(self, X, k):\n",
        "        \"\"\" X is N x D where each row is an example we wish to predict label for \"\"\"\n",
        "        num_test = X.shape[0]\n",
        "        # 출력 type과 입력 type이 갖게 되도록 확인해준다.\n",
        "        Ypred = np.zeros(num_test, dtype = self.ytr.dtype)\n",
        "\n",
        "    # loop over all test rows\n",
        "        for i in range(num_test):\n",
        "        # i번째 테스트 이미지와 가장 가까운 학습 이미지를\n",
        "            # L1 거리(절대값 차의 총합)를 이용하여 찾는다.\n",
        "            #distances = np.sum(np.abs(self.Xtr - X[i,:]), axis = 1)\n",
        "            # L2 거리(직선 거리)를 이용하여 찾는다.\n",
        "            distances = np.sqrt(np.sum(np.square(self.Xtr - X[i,:]), axis = 1))\n",
        "\n",
        "            indices = np.argsort(distances)  # 거리가 작은 순서대로 인덱스 정렬\n",
        "            k_nearest_labels = self.ytr[indices[:k]]  # k개의 가장 가까운 이웃의 라벨\n",
        "            unique, counts = np.unique(k_nearest_labels, return_counts=True)\n",
        "            Ypred[i] = unique[np.argmax(counts)]  # 가장 많은 투표를 받은 라벨로 예측\n",
        "        return Ypred"
      ]
    },
    {
      "cell_type": "code",
      "execution_count": null,
      "id": "d5747c33",
      "metadata": {
        "colab": {
          "base_uri": "https://localhost:8080/"
        },
        "id": "d5747c33",
        "outputId": "87328db0-86e2-459f-82c5-1245652f5426"
      },
      "outputs": [
        {
          "output_type": "stream",
          "name": "stdout",
          "text": [
            "accuracy: 0.500000\n",
            "accuracy: 0.550000\n",
            "accuracy: 0.400000\n",
            "accuracy: 0.400000\n",
            "accuracy: 0.400000\n"
          ]
        }
      ],
      "source": [
        "# 검증 셋에서 가장 잘 동작하는 hyperparameter 들을 찾는다.\n",
        "validation_accuracies = []\n",
        "for k in [10, 15, 20, 25, 30]:\n",
        "\n",
        "    # 특정 k 값을 정해서 검증 데이터에 대해 평가할 때 사용한다.\n",
        "    nn = NearestNeighbor()\n",
        "    nn.train(train_data, train_labels)\n",
        "    # 여기서는 k를 input으로 받을 수 있도록 변형된 NearestNeighbor 클래스가 있다고 가정하자.\n",
        "    Yval_predict = nn.predict(val_data, k = k)\n",
        "    acc = np.mean(Yval_predict == val_labels)\n",
        "    print('accuracy: %f' % (acc,))\n",
        "\n",
        "    # 검증 셋에 대한 정확도를 저장해 놓는다.\n",
        "    validation_accuracies.append((k, acc))"
      ]
    },
    {
      "cell_type": "markdown",
      "source": [
        "## (5) 평가하기"
      ],
      "metadata": {
        "id": "khYPiR4qBes7"
      },
      "id": "khYPiR4qBes7"
    },
    {
      "cell_type": "code",
      "source": [
        "print(validation_accuracies)"
      ],
      "metadata": {
        "colab": {
          "base_uri": "https://localhost:8080/"
        },
        "id": "UhnmiADN-eNo",
        "outputId": "3a349435-fa48-40ca-dfd2-eeb42f623667"
      },
      "id": "UhnmiADN-eNo",
      "execution_count": null,
      "outputs": [
        {
          "output_type": "stream",
          "name": "stdout",
          "text": [
            "[(10, 0.45), (15, 0.5), (20, 0.6), (25, 0.45), (30, 0.45)]\n"
          ]
        }
      ]
    },
    {
      "cell_type": "code",
      "source": [
        "Ytest_predict = nn.predict(test_data, k = k)\n",
        "print(Ytest_predict)\n",
        "print(test_labels)"
      ],
      "metadata": {
        "colab": {
          "base_uri": "https://localhost:8080/"
        },
        "id": "j5kFGTj-38Dc",
        "outputId": "ca838edd-3ddd-456d-864c-c138f569d725"
      },
      "id": "j5kFGTj-38Dc",
      "execution_count": null,
      "outputs": [
        {
          "output_type": "stream",
          "name": "stdout",
          "text": [
            "[1. 0. 1. 0. 0. 0. 0. 0. 0. 1.]\n",
            "[0. 0. 1. 1. 1. 0. 0. 1. 0. 0.]\n"
          ]
        }
      ]
    },
    {
      "cell_type": "code",
      "source": [
        "acc = np.mean(Ytest_predict == test_labels)\n",
        "print(Ytest_predict == test_labels)\n",
        "print('accuracy: %f' % (acc,))"
      ],
      "metadata": {
        "colab": {
          "base_uri": "https://localhost:8080/"
        },
        "id": "4FBvOw3aGv9i",
        "outputId": "a460a144-9d8c-4585-9b36-55a5b30944a1"
      },
      "id": "4FBvOw3aGv9i",
      "execution_count": null,
      "outputs": [
        {
          "output_type": "stream",
          "name": "stdout",
          "text": [
            "[False  True  True False False  True  True False  True False]\n",
            "accuracy: 0.500000\n"
          ]
        }
      ]
    },
    {
      "cell_type": "markdown",
      "source": [
        "![결과1.PNG](data:image/png;base64,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)\n",
        "\n",
        "-> 결론적으로 베이스코드를 확인하였을 때 일반적으로 40~70%의 정확도를 보여준다."
      ],
      "metadata": {
        "id": "itLX0_E_2rVI"
      },
      "id": "itLX0_E_2rVI"
    },
    {
      "cell_type": "markdown",
      "source": [
        "- 다른 평가지표로도 확인할 필요가 있음!"
      ],
      "metadata": {
        "id": "Xxb_qAw5MQaH"
      },
      "id": "Xxb_qAw5MQaH"
    },
    {
      "cell_type": "markdown",
      "id": "343815b0",
      "metadata": {
        "id": "343815b0"
      },
      "source": [
        "# 3. 퍼스널 컬러 분류: Skin Detection + KNN\n",
        "\n",
        "- 2번 베이스코드와 겹치는 함수는 생략함"
      ]
    },
    {
      "cell_type": "markdown",
      "source": [
        "## (1) Skin Detection 관련 함수"
      ],
      "metadata": {
        "id": "PXi8lOQDN3_B"
      },
      "id": "PXi8lOQDN3_B"
    },
    {
      "cell_type": "code",
      "execution_count": null,
      "id": "7d0d425a",
      "metadata": {
        "id": "7d0d425a"
      },
      "outputs": [],
      "source": [
        "def Skin_Detection(img_path):\n",
        "\n",
        "  #Open a simple image\n",
        "  img=cv2.imread(img_path)\n",
        "\n",
        "  #converting from gbr to YCbCr color space\n",
        "  img_YCrCb = cv2.cvtColor(img, cv2.COLOR_BGR2YCrCb)\n",
        "  #skin color range for hsv color space\n",
        "  YCrCb_mask = cv2.inRange(img_YCrCb, (0, 135, 85), (255,180,135))\n",
        "  YCrCb_mask = cv2.morphologyEx(YCrCb_mask, cv2.MORPH_OPEN, np.ones((3,3), np.uint8))\n",
        "\n",
        "  YCrCb_result = cv2.bitwise_not(YCrCb_mask)\n",
        "  YCrCb_skin_detected = cv2.bitwise_and(img, img, mask=YCrCb_mask)\n",
        "\n",
        "  return img_YCrCb, YCrCb_mask"
      ]
    },
    {
      "cell_type": "code",
      "source": [
        "# skin 좌표 추출, YCrCb 픽셀값 추출\n",
        "def coordinate_extraction(mask, img):\n",
        "  skin = np.argwhere(mask == 255) # mask의 픽셀값이 255인 skin부분의 좌표 추출\n",
        "\n",
        "  pixel_values = [] # YCbCr 픽셀값 저장을 위한 리스트\n",
        "\n",
        "  for index in skin:\n",
        "    y, x = index  #일반적으로 생각하는 가로 x, 세로 y로 표현하기 위해 위치 바꿈\n",
        "    #print(f\"x: {x}, y: {y}\") # skin 범위 좌표값 출력(스압주의)\n",
        "    pixel_value = img[y, x]\n",
        "    pixel_values.append(pixel_value)\n",
        "\n",
        "  for coord, pixel_value in zip(skin, pixel_values): # skin부분의 좌표값과 픽셀값 출력을 위한 함수\n",
        "    x, y = coord\n",
        "    #print(f\"Coordinate: ({x}, {y}), Pixel Value: {pixel_value}\")\n",
        "\n",
        "  return pixel_values"
      ],
      "metadata": {
        "id": "pu0GoPEDrVLO"
      },
      "id": "pu0GoPEDrVLO",
      "execution_count": null,
      "outputs": []
    },
    {
      "cell_type": "code",
      "source": [
        "# 픽셀의 평균값 구하기\n",
        "def pixel_means(pixel_values):\n",
        "  # 열 별로 원소들을 더하기\n",
        "  column_sums = np.sum(pixel_values, axis=0)\n",
        "\n",
        "  # pixel_values를 NumPy 배열로 변환\n",
        "  pixel_values = np.array(pixel_values)\n",
        "\n",
        "  # 열 별로 평균 계산하기\n",
        "  column_means = column_sums / pixel_values.shape[0]\n",
        "\n",
        "  return column_means"
      ],
      "metadata": {
        "id": "XzDhygJkrVZF"
      },
      "id": "XzDhygJkrVZF",
      "execution_count": null,
      "outputs": []
    },
    {
      "cell_type": "markdown",
      "source": [
        "## (2) 데이터 불러오기 및 데이터 전처리"
      ],
      "metadata": {
        "id": "9-Al0XQ3OB4h"
      },
      "id": "9-Al0XQ3OB4h"
    },
    {
      "cell_type": "code",
      "source": [
        "def get_dict(dir_path):\n",
        "  file_list = os.listdir(dir_path)\n",
        "\n",
        "  img_list = []\n",
        "  result_list = []\n",
        "\n",
        "  for file in file_list:\n",
        "    img_path = os.path.join(dir_path, file)\n",
        "    if os.path.isdir(img_path):  # 만약 디렉토리인 경우, 무시하고 다음 파일로 넘어감\n",
        "      continue\n",
        "    img_YCrCb,YCrCb_mask = Skin_Detection(img_path)\n",
        "    img_list.append([img_YCrCb, YCrCb_mask]) # 그림 show()를 위한 용도\n",
        "\n",
        "    # YCrCb\n",
        "    YCrCb_pixel_values = coordinate_extraction(YCrCb_mask, img_YCrCb)\n",
        "    YCrCb_pixel_means = pixel_means(YCrCb_pixel_values)\n",
        "    #print(YCrCb_pixel_means)\n",
        "\n",
        "    result_list.append(YCrCb_pixel_means)\n",
        "\n",
        "  return result_list"
      ],
      "metadata": {
        "id": "2CoUiVyZrcTO"
      },
      "id": "2CoUiVyZrcTO",
      "execution_count": null,
      "outputs": []
    },
    {
      "cell_type": "code",
      "source": [
        "path = \"/content/drive/MyDrive/four_seasons/사계절_연예인 이미지 데이터셋/prototype/쿨톤_jpg\"  # 디렉토리 경로\n",
        "path2 = \"/content/drive/MyDrive/four_seasons/사계절_연예인 이미지 데이터셋/prototype/웜톤_jpg\"  # 디렉토리 경로"
      ],
      "metadata": {
        "id": "blRR2Xbqw1yP"
      },
      "id": "blRR2Xbqw1yP",
      "execution_count": null,
      "outputs": []
    },
    {
      "cell_type": "code",
      "source": [
        "cool_result  = get_dict(path) # 1분"
      ],
      "metadata": {
        "id": "WXyqRpTircZI"
      },
      "id": "WXyqRpTircZI",
      "execution_count": null,
      "outputs": []
    },
    {
      "cell_type": "code",
      "source": [
        "warm_result  = get_dict(path2) # 1분"
      ],
      "metadata": {
        "id": "aaHc865EyluV"
      },
      "id": "aaHc865EyluV",
      "execution_count": null,
      "outputs": []
    },
    {
      "cell_type": "code",
      "source": [
        "images = np.concatenate((cool_result, warm_result), axis=0)"
      ],
      "metadata": {
        "id": "sjTnM15mrk1J"
      },
      "id": "sjTnM15mrk1J",
      "execution_count": null,
      "outputs": []
    },
    {
      "cell_type": "code",
      "source": [
        "# labels에 대한 코드\n",
        "num = len(images)\n",
        "labels = np.zeros(num)\n",
        "\n",
        "# 처음 50개의 요소를 1로 변경\n",
        "labels[length:] = 1\n",
        "\n",
        "# 0이 쿨톤 1이 웜톤\n",
        "print(len(images))\n",
        "print(labels)"
      ],
      "metadata": {
        "colab": {
          "base_uri": "https://localhost:8080/"
        },
        "id": "KzsR-mo_sOu8",
        "outputId": "e201b432-5ea1-47c3-d600-a7ce1e1774c5"
      },
      "id": "KzsR-mo_sOu8",
      "execution_count": null,
      "outputs": [
        {
          "output_type": "stream",
          "name": "stdout",
          "text": [
            "100\n",
            "[0. 0. 0. 0. 0. 0. 0. 0. 0. 0. 0. 0. 0. 0. 0. 0. 0. 0. 0. 0. 0. 0. 0. 0.\n",
            " 0. 0. 0. 0. 0. 0. 0. 0. 0. 0. 0. 0. 0. 0. 0. 0. 0. 0. 0. 0. 0. 0. 0. 0.\n",
            " 0. 0. 1. 1. 1. 1. 1. 1. 1. 1. 1. 1. 1. 1. 1. 1. 1. 1. 1. 1. 1. 1. 1. 1.\n",
            " 1. 1. 1. 1. 1. 1. 1. 1. 1. 1. 1. 1. 1. 1. 1. 1. 1. 1. 1. 1. 1. 1. 1. 1.\n",
            " 1. 1. 1. 1.]\n"
          ]
        }
      ]
    },
    {
      "cell_type": "markdown",
      "source": [
        "## (3) train, validation, test 데이터 분리하기"
      ],
      "metadata": {
        "id": "Ko9NbbMvOLMb"
      },
      "id": "Ko9NbbMvOLMb"
    },
    {
      "cell_type": "code",
      "source": [
        "train_ratio = 0.7  # 훈련 세트 비율\n",
        "val_ratio = 0.2    # 검증 세트 비율\n",
        "train_data, train_labels, val_data, val_labels, test_data, test_labels = split_data(images, labels, train_ratio, val_ratio)\n",
        "print(\"train: \", train_data.shape)\n",
        "print(\"val: \", val_data.shape)\n",
        "print(\"test: \", test_data.shape)"
      ],
      "metadata": {
        "colab": {
          "base_uri": "https://localhost:8080/"
        },
        "id": "sUADwaoczKva",
        "outputId": "18eb4e31-ef85-4f56-ec7c-9f160e218334"
      },
      "id": "sUADwaoczKva",
      "execution_count": null,
      "outputs": [
        {
          "output_type": "stream",
          "name": "stdout",
          "text": [
            "총 데이터 갯수:  100\n",
            "총 라벨 갯수:  100\n",
            "train:  (70, 3)\n",
            "val:  (20, 3)\n",
            "test:  (10, 3)\n"
          ]
        }
      ]
    },
    {
      "cell_type": "markdown",
      "source": [
        "## (4) KNN 실행하기"
      ],
      "metadata": {
        "id": "Z0h9ngaCOPtw"
      },
      "id": "Z0h9ngaCOPtw"
    },
    {
      "cell_type": "code",
      "source": [
        "# 검증 셋에서 가장 잘 동작하는 hyperparameter 들을 찾는다.\n",
        "validation_accuracies = []\n",
        "for k in [10, 15, 20, 25, 30]:\n",
        "\n",
        "    # 특정 k 값을 정해서 검증 데이터에 대해 평가할 때 사용한다.\n",
        "    nn = NearestNeighbor()\n",
        "    nn.train(train_data, train_labels)\n",
        "    # 여기서는 k를 input으로 받을 수 있도록 변형된 NearestNeighbor 클래스가 있다고 가정하자.\n",
        "    Yval_predict = nn.predict(val_data, k = k)\n",
        "    acc = np.mean(Yval_predict == val_labels)\n",
        "    print('accuracy: %f' % (acc,))\n",
        "\n",
        "    # 검증 셋에 대한 정확도를 저장해 놓는다.\n",
        "    validation_accuracies.append((k, acc))"
      ],
      "metadata": {
        "colab": {
          "base_uri": "https://localhost:8080/"
        },
        "id": "XD6I2mwWzS7k",
        "outputId": "ab61b11d-1ccc-4ba6-818e-c017fe7d172c"
      },
      "id": "XD6I2mwWzS7k",
      "execution_count": null,
      "outputs": [
        {
          "output_type": "stream",
          "name": "stdout",
          "text": [
            "accuracy: 0.550000\n",
            "accuracy: 0.650000\n",
            "accuracy: 0.600000\n",
            "accuracy: 0.600000\n",
            "accuracy: 0.400000\n"
          ]
        }
      ]
    },
    {
      "cell_type": "markdown",
      "source": [
        "## (5) 평가하기"
      ],
      "metadata": {
        "id": "HsvuuoXLOTdn"
      },
      "id": "HsvuuoXLOTdn"
    },
    {
      "cell_type": "code",
      "source": [
        "# 이제 본격적인 최고 25개 85% / 정확도 45%~85%정도 나오는듯\n",
        "print(validation_accuracies)"
      ],
      "metadata": {
        "colab": {
          "base_uri": "https://localhost:8080/"
        },
        "id": "CJLP-O7ozY5S",
        "outputId": "9cfe9f05-338d-43b1-bcf8-7c5a2903ebaf"
      },
      "id": "CJLP-O7ozY5S",
      "execution_count": null,
      "outputs": [
        {
          "output_type": "stream",
          "name": "stdout",
          "text": [
            "[(10, 0.55), (15, 0.65), (20, 0.6), (25, 0.6), (30, 0.4)]\n"
          ]
        }
      ]
    },
    {
      "cell_type": "code",
      "source": [
        "Ytest_predict = nn.predict(test_data, k = k)\n",
        "print(Ytest_predict)\n",
        "print(test_labels)"
      ],
      "metadata": {
        "colab": {
          "base_uri": "https://localhost:8080/"
        },
        "id": "Hekn2dEkzdVH",
        "outputId": "d64d314e-f078-47e8-8a1e-cdee88c585c8"
      },
      "id": "Hekn2dEkzdVH",
      "execution_count": null,
      "outputs": [
        {
          "output_type": "stream",
          "name": "stdout",
          "text": [
            "[0. 0. 0. 0. 1. 0. 1. 0. 0. 0.]\n",
            "[0. 0. 1. 1. 0. 1. 1. 0. 0. 0.]\n"
          ]
        }
      ]
    },
    {
      "cell_type": "markdown",
      "source": [
        "![image.png](data:image/png;base64,iVBORw0KGgoAAAANSUhEUgAAAn0AAAFLCAYAAACjuDrgAAAgAElEQVR4nOzdfVhVZb74//cePAI9yDZFwQ7ncotjB7HpwJdRob4eN6OAaJIwZUKZok4aOFpoaVBmBxS/SVmBD6NYY4IPExuxRARle/wVZOMX8vKBk+lsruGnophhT0K/cfbvDzYC+wE2sFk8fV7Xtf5g7XutdfPhZvHhXvd9L1VRUZFx6tSpCCGEEEKIvuns2bMMADAUGru7Lv2SJkQlsVeAxFkZEmdlSJyVIXFWhiZExaWa291djT7P290VX19fftXdFRFCCCGEEF1Pkj4hhBBCiH5Akj4hhBBCiH5Akj4hhBBCiH5Akj4hhBBCiH5Akj4hhBBCiH5Akj4hhBBCiH6gE0lfKekhKtIrHFcZITFVhsRZGRJnZUiclSFx7qnK01zxTjvZ3dXoFWwkfbVU/TWDNa+PZXyICk2IJ1NfX0FeVV07T19H2Z9HMX5tNlUdqFyNPgpNiKrlNi+ImLQV7Purge87cM7u1xCTxX8+2t0VadsvtVRdyifvQBJrkoNYpa+2WfT7s2msWjYKTYiK8X+Yzjp9BfUKVrVXszPOZVkqy9+HEBVLWvm5iCbfX8ln1/tRRM1rupes+kup1fuItOeOszfO0p476WYx29OCmNT4N3p9CgU2/kb3uvZ8agPe7q6tbwv2UePI87m74u3+NAevdOU31v0GWO6qoywrnOXVC9iSUMZaNxegju+vlbDvaD41MZG4K1rFZHIKE/Fv/PJ2LVWVOXy0M4gp++PZ+mYi/q4dOO2PpWzfloXXc+mEDXVgdZv5viKNdUc1JCxVOmaOUEr6jCDSmu0Je9R6ye+/iGfKHnjzlfOkjnCh/kY+6f8VzCuUsEmrUaS2vZf9cQbguRIMMYFdXak+qJwD+w14RWWQ/UIOzk5Qf6uUXWmRzP9FR3ZMIM6mktKeO8P+OAPSnjusmoJjFfyv54pZlOACd2o5dySO+SsXQHpWi79pvbI9B7zCpZpXlD3flX288Eiu467ZQ1n29F3K4PU/+7P2hQX4urmYdrowaHgwi9qd8Lng/9zf+HJNNF4OqCwArmq8fBbw6lslJLqns/h9nf3ZfnN1BsqOXO3S/3bqq0vYd8v8P6+GmGx9bkoXXtkRAokvNGIoNGIoLCHBZrly9v05hyee20jYiIb24jw0nPjnYijZlknJL0rVt7eyN86ic/yYuzwOrZcHzk4Ne5zdAln03Arq/5yO/mZjOWnPnWNvnEXneBD2ZBz+Q01/o53U+IYnkzAym4++NDQr17vbc43u6ZaPba/s4wX3Nyhv/MzUQ/f71G6rYq9jmfT9Usc51Lh1pPdMURoins8g+GgyBy51d136sYp8tl9aQJi/S4vdzuPCeeJmCqUXuqleQtjDzRMv6qj/p+lrac9dwzzOogu44nIffPN9bdOuvtCer31nNjSgITlxj9zLpZrbXKq5zceruqNivZNl0ufmgZZMduV34Jn/tXzWLFMRtbP47g+pLEuFJqu0qcyNbJaERJF3o46L+hXEzuvEmEG3ICZPKSfvdHnL/bdK2fX+dKY+rUITMoqotDRKmv2HWZalQhMdQwE6lkebxpI0r2MbxzeVK2ff9saxK55MXZ9G2S1oHPA7fr0OTsSYxkU2DQAuy1Ix5+g5+75HKzHtSaoul1EzaaxlT+5ADb6PwsWaXjI+p4fHuc/oaXG+dZUqXHA23QmlPXcRszj3GT0qzle5ftmD2T4+d/f0ifb87a2mXORKJUe69GIuOFsZ9NaXWP4KjljA2qTplG0ay9RkG8mONbeKSVs3nbOPHOOD2GAGtVG8bH88BQ+sYMuHRgyHy3l1ZAnLVya3s7vZg2EPwrlvv2tqFDd0rFoWSZl3MjlZRgyFZWzwKWP5C/HobzUU8Y8xYsjOIoxINmWbHq01jiux43gArmWz/Plwjtwfx9Y/GTEUXuXTRT7oT5TT+Mjuy9WRMCmLL02P7+J9aJ92xhRsTH5pviVnd+xxuK3rXdOBl8bKY39XcIL/e+2qA6/WRXpBnO/6c5DpGqOISkuhoLK27WN6ih4X5zrKPsviXGgUQQ+YriftWZE43yXt2SFxrr9VTt7mFRz/Tx3xjzT16vWJ9mxD1zze9WHYMEedq2eymtN6TdpBUWYwaVuTiHl6I0GRaax9JprR99k4y+1S0l//HSV2N34dVd5/Y+0jHg1fOnmgfSqJuXunU3ohmaBx7fwurlXzPeBOHSUH4yh+NIv/J9zPNGBYzejwDN6sGMyOzxPQhrc2cNXe4w3sey+GqifKyH7a7+7AZOeh4SQ83s6629LumDZw1+Zg0DqoDvZq5T+jmjvtnfGtsF4UZ/8YI4YY0xe/1HLu8yRe/4M/pSllrP2tWtnKtFcPjHN9RRopWRo2fRTZsj7Snh3KVpylPXdWKekhTZPAtM8dYu00s4ky0Kvbs/u/+VnunDmSf8X0eDeyYVd5miu/7+zFTL2Iizp7nh7OZme7s1c0r6b8jS/fTcb3UgJTF/6O9AorDeTHUtJXBaFvV+MPJvRhs+TrvsG408HuZk3jfzLllO6tZnZgsFnDV+Ol8aPkUkUbXfB2Hn+znNK/BvPUJD/LXzBH6FBMeyZfV5e2C3WX3hzngWp8telsWu7Drp2Z2DlYoHv0wDjXV6QQuzYdr9UbiRhu/3HSntvH7jhLe+6AZpPA8q6SMKKYNc8HWf87bUNPbc/laaYlVKa9AQfnMdHd+tfPfFTZyllOkmHXMi3Nzs0b/L7x6z667l+bT6/dfRbw6ltRhGWFE7U2Gf9dyQQNbPq8dH8SJRVx7ExpT+NX4zKw7VJtM/DNGQgLNSWQNwxcBApeUpFurfik2tbHKdp7/LUK8lCjdcj3YKljMe0ezq5+cPEqNWB1ZrfXYE+lq2S33hRnW7w0QXCpjKqb4Gv+6KyH6HFxvpbNK2vTcX/ecskKac8O1EqcbZH23EGuHvhqN5L6y3QmvZeBdksCvvTe9uyXcJtLnV7KYAJxNbeJM9tbo3uaiYYXuZQwoWGHaamWsNN7mTmis9fs+ewcsqjGPyKJuX+eTtmlZIKajU0LfG4Hzx75HbGJKeSkJOJv6xFwV7ik46PKOBL8TY+Jh2oYDSS824Hxc+053s2DIIA7HbiGHToT0xp9VMMEElsmZfFlUrTD1g0cPTIY9ldwHfObioGLJ/zwn+PhoCs5Xm+Kc+sG49xF/4A4Qo+K87Vsli9LgLnFbLCSiEh7tsHBcW6dtOeO3je8/i0ILtXd7dzoze25PfwSbiOLeNjH/nkqdbVcJ5ixbmb7nTSEJRxj0/8JIirxNllvJhNkXqYr/FhK+nsbGf18Cdq71/PBNxTSz5YT72NlLIA1LRI3O48f4c9k74Xk/V8DEa2OEWw4f7tHTXQipkqPNXMeE8xckii5lIivd9P++tOH2Ocdwwfeto/tdr0ozracO5sDv42zPd62J+gpcW6eiIT7WB2aIe3ZAeyIsy3Snjun6u8l8Num9XR7dXtu5ntDAQW78jj4xXFKTzU+0h3O6Md88H9sHk89Oxu/Pj4Bw1Esx/RdyGDdkWIu3mxKVepvlZO3P51zTyQwzWr3p4aIl0vY9GAmMa/Ho7/WdRWu/9FAmT6FJfEJ1Dxl/thAjfbxZJy3x7FGX873jQndbQNlR1awq/maREM1+D6go+ArQweO92PuH5O5tSmmRbnvq3SkfdK0fIy7hz/un+dQ0qF4KBfTTrkvnIULNax7Lwn9jYY2U39Fx7qdxcz9Yxy+3Vy9tvWSOFPOrq3ZnGtc7PuXWs4dWciSnMG8+lyM4xY/7zLdHOdr+axZZ0ciIu25c+yNs7TnzrmQwbojpVTdNn19p46qvyax6oPvSHimWfx6fXuGqoNLmDnjXS6Nmcf6veV31+a7VFPJwQ+38NSIctK0Pqw+aHt8X43u6fa9tq0Ps0z6vKMIG1jKjvX+d9+7OyM5g6pHMvn0hfBWxjBoiEgoYdODOcSuc+QvQRJRd6e0ezJj7QrybvgQ/24Jax+17GVzHpNIduYK3MvimDGtcQ3AFEruW8ATY5qXDGTuy8nU7xnVYp0+e4939knkgz81LzeK5QV1RGib9RD6xLHpuToynm25Tp/9uiqm9qgmL7kx7g0zxArWe95dWqD59+I1JYuiJ+r46FUNmhAVUzOK8V6UT7xPzxwkbKk3xNkP7XgDH70+tuGzuUGkXfAjdfMxFo2ROLel7Oh0dlVUk7dpLP9usVRGFHk3mspKe+44++Ms7blTxsQQdjuLNctM94oFwaz7wpO4zSUW7bR3t+eTHFz9IZPfy2X1nAl4uZktMu02Er85qWz+P5PZv3of57uplr2JqqioyDja2NNfCdY3aUJUGAqN3V2NPk/irAyJszIkzsqQOCtDE6LiUs1tG5+eJMN3MjXvfccbv7OdpH5/aAl+L4/kk3OvMNbK5zW6p5l4aBZfZM5WaJx1z+Pt7orRaLS9ZIsQQgghRPeZwMz18zj+x1ms33OSKrN32dffqqR8zypeePk4T62fbTXhEy318ReOCCGEEKK38pq5hSMBx8nb/iGr93/Bxc/+xzQ2bzijH5tI4O9mkaBPbXsix8F5THSf1+b1QrdVsjmyHYt39jKS9AkhhBCix3IeMZmn1kzmqQ4e3/ztHf2dPN4VQgghhOgHVEVFRcapU6d2dz2EEEIIIUQXOXv2bMPjXZmh1D00ISqMp7rotR7iLlWAk8RZARJnZUiclSFxVoYqwKmV2bvCUbzdXfH19ZXHu0IIIYQQ/YEkfUIIIYQQ/YAkfUIIIYQQ/YAkfUIIIYQQ/YAkfUIIIYQQ/YAkfUIIIYQQ/YAkfUIIIYQQ/YADk75q8pJVLNFXW/20Rh+FJjnb9M68TrqRzZKQKPJuOOJkQgghhBB9n/Wk75daqi7lk3cgiTXJQayykch1mYoUNCEplCl7VdHdru8hKsAJlcW2jtIWBavJXmWtnBMpZ7qp7r1RbSkZqTMYG+qEKmA009/bQ8XPzQtInDvF7vYMUEfFkZVMn/0gqgAnRs1fRNpXtd1Q6d6v9sRSPAOcUO2wjLLE2XEkzl3kyj5ecHfF22LbQLlF4Tou6laxYNJIvN1dmTxtCTtO3mr19AMsd5WSPiOItGZ7wh61dmgp6SEtywFwwhPN+mZfP1eCISaw1Uo4XjV5yZ4sP9F2ybDVV9mi9ej6Kgk7zSIr/2Oih7VdMjLlMjmh8rPrkCt7iJmfweCX3qdk5aeonaD2wk6KK8FnbMuiEufOsK89l2dPIfxUJLptlzmkbvhZxC2dQcrGoyQ+7KJMVfuC67nEfeBJ/FxIsvKxxNlBJM5dLIJ3Tu9l5ojWS53fGkbsZ7PYcqCSzAfg+7MfsmZ2BBl/LiAuwHqcrSR9gcQXGokHGhO7c1YPbV4OGhOtgkd7ThIlCZ0Q1hjITH2GumUXSQ/V3N2rHhNLZDfWqt+qzSXjbTXJuS8RqG7YpR4TS/JiHaO2ZxP9Xiya1s8gADCQnb4Sz8VF+Olfg3vMPpY4O4jEuUe4mcdHrw3mpS+X4fdAw65B4+bx0qo8Jm/cy8y98/CycphM5BCin6k7tZOkG2+RFC633p6g+mQWmdoYgs3u0JqASIJL8im90j316m0M+StJGLqd5Amu1Fp5kihxdgyJc89Qc3wP+6c/TaDZbdzrsQgCjxVQXmX9uB6Z9NXUnAfOc/1md9dEiL6n/KudVE8KxK+7KyIAMBhy4aGRlr0fXj4Ekovh2+6oVS9TtZP43T7oFmqx9fBQ4uwAEuce4/+9kAcPj7TszdP44E8eVdesH+fApM9A1Vko+Luhk+ep45uvs4FsyirrHFEx0avkEhPeMODdc/YM4vfpqb5jvaQusWGQsCp0HNNTN1MsNxM7GDB8XU2kxgODvuVA65QS67+7EufOaKs9V2OohMgR1oehuALnryk8ka63+aWclNc34/dyIoHmjxrvkjh3msRZQXm8+EjDBI6Jk2bxxo7j1Pyj+efXqPoGQr2GWz3aGbh4xXrW57Ckr/70IXZ5h6M9fIiSX2wUOhHD+BAVmhAVmixrM36AW/kc/Eswcx8P58BXJdQ7qoKi5xs2h5xTdzCaNsM7CXiefAa/uM1ms5Y8iE5tKmfM/YSE4fnERE8h40I31b3XqMagh9pDK1lRGU7mR5cxnrpD2epAzq99jJijzW/IEudOsbs9A06uNk9TZ+OfHgFQR+mupeRMeJ+k/7BjgoDEuYMkzooZMZvNNbe5ZNr+O2sZ7sfn8fiTWzlvXnaA7TjX/8P6fgclfQYO7M/kiagsEqLy+eiEjd6+SVl8WWjEUGi0OaP33LGN7AuNI2FuHNMK0zggz//7LZcRWhKTdxNjWErmiVam+9+jIXj+x2RNryBedxhZGKBtxfdEkTFfi8fAhq/VY2JJjvMje2e2lWUBTCTOnWJ3ezbj6SqzHW2pO/M2CZ+HkzE30ObjRntJnG2TOHcfZ6/JxG37kIgLL7L/SOvLsTQ37F7rcXZI0lelTyLDLYNF/mp8Z2zEa3cSeTaeJ7fqSiZpWweTOieSQW7hLHxeTcZuXYcXdC5Y79nQq9ja5qgFo0XXuMcHfz/IudTWsAEXxj4UCPpyOjvAoG9zwWUMBE+YiPkDGI0mCC6UtTHmRuLcKRbt2QW1GkquXLV5iOdgtTJ163Wq0WW9RumZ1wia1HwdxAeJOQpsfazZmpIS546TOHe7e33wnQgFFZWmHS4MGgJlf7f9qNx9iJvV/Z1O+uorUli+DV6NjcQdwDWYhFfGsmtdCmU/tuNEP5aSviGJQavTmW1am8ZLm0wCK0g52t4/Lx5EJJl6FBu3d5OBZHIKzfYnRTfUW/Rons52Fhwi/0W2ToPPb+C8tWl3AAzGZaAdp5E4d0pTe1bj85CWakMlFrfvK5WU8QJ+I5WtW+9hNvzg7naZrCnA4s8wnrpD4sMgce4MiXNP4X73tuuG98OTqfmm0rLTqqqScyzG99fWz9GJpK+Wi/p4opcdQrsmk7ChTZ84+ySy6YnzLI5fyL5KOx5j3ComLTEI/XgdG7TN5/xoiFiaxehPglieXyHj+/qj2lKKj3oQPsanrYKUnMzF41E/2irZv6kJmhBLdZHe4jGu4WIJTAnC//7Wjpc4d4qV9qz5TSSB+fmUmN0qDaey0M0MJqjVn4ewl8RZGRLnLnDzC0oPDkc77qG7u7wCIvDbX0CZ2SonVZ/t5cicyfhb7+jrTNL3HRdPf0fYlmLifSz/6/fSZpGz2IXjn7edrFVV6Lj4yDE+iAnEokPHNZD4VB2jv0ijQMb39WnV+nWknTLcHehbd+UwSaviKZ6ZTnzz1cWv55KyS4+h8ZVhPxvI3/p74spjyXjS9lICooFa+wIbnVcSl3GYatOkq+qS14jZWkd67Jymx74S506xuz17x5K2sJy4t3dSbvpDWXvmbeI/UJO1cBbyMMxBJM7KkDh3Ss2hDez4rPLuRIz6qgLeXrCM0jnv8uxjze4bPvNITChnzWsfct6U+H1/6l3eeMeNd1ZGMMjG+a0kfdXkJTeOeWt4zVrzsXHpFY3lNIQtz2KRt+1bv9fEdLZYS+SslYsNtllJXAOJf3MHEW28kkT0bh4TpqE+uhR/0xIXYxN1uM4+Stnrs1qOPxs2jXC1jvj5pqVEYp5FNyCO4l3bibTj9W3Cj4SMs8TfySD48Yb37kYedWXFtk+JG9OsmMS5U+xuz7gQuPgoutGlxM1vGCsVtLeOBe/sIFrueQ4kcVaGxLkz3CeHMejgi8w0LdkS+oc8nBcWcPC9CLOhaC74rTrCFp+TvB7mirf7SJ7cXsdTWVuZae1VHCaqoqIi42jjlC7+NqBGH8X4z6P40hFj6G5ksyQ6h7DsHCKaPVau0Ucxfr2ugyeNZJPZ+bqaJkSF8ZTMX+9qqgAnibMCJM7KkDgrQ+KsDFWAE5dqbnd3Nfo8b3dXjEajtXfv9l7u2hwM2u6uhRBCCCFEz9MjX8MmhBBCCCEcS7GePof2wg2NZkthtINOJoQQQgjR96mKioqMU6dO7e56CCGEEEKILnL27NmGnj5DobG769IvyUQOZciAbGVInJUhcVaGxFkZMpFDGd7urvj6+sqYPiGEEEKI/kCSPiGEEEKIfkCSPiGEEEKIfkCSPiGEEEKIfkCSPiGEEEKIfkCSPiGEEEKIfkCSPiGEEEKIfsCBSV81eckqluirrX5ao49Ck5xNjSMudSObJSFR5N1wxMmEEEIIIfo+q0nf91fy2fV+FFHzVGhCVGjmBbHqL6V8r1StKlLQhKRQptT1RPe7vgcCnGxvcTvNDqiDIyth9oMNn89fBF/VdkvVe63aUjJSZzA21AlVwGimv7eHip/NC9VRcWQl02c/iCrAiVHzF5EmcW6btGfltdmeq8le5YQqwHJLOdNdle6F5L6hiAE3T/Lgy7MY5evKKHcfNGv3MeSn5iWu4bnAlVHulpvXKdvntZL0lXNgvwGvJzLIzjRiKDTyP++m4X0mkvlZpdTfLVdKeogpKQxRoQnxZPkJKFjv2WyfCk1WqcOCYL+GXscW9bCx2eqZFAobNgdO3bGyXYQgINTsxc3ZU+CIJ2y73FBudSC8MgPO1HVL9XudK3uImb2SCr//oiT/DsZTF8kKu01FZcti5dlTCD7iSdK2yxhP3aFsdSBlr8wgReLcOmnPyrKzPQNEpjS05eZb4sPKV7lXkvuGIgZU7eNf//crDJj4BjWnb/O3mgpuRN3mX76xLPvPbZX8reZ2i60qoJVzW+7yY+5yvxZ7nN0CWfTcCvKWpKOfFkjYAwCBxBcaib9bqpq8ZE8KHr3KFq1Hx75TBwtb3XPqIjroQi6UxMKbmqZ9tbnwthpyXwK1ad+YWFisg+3Z8F5st1S19zCQmfoMdcsukh7aFFf1mFgimxerzSXjbTXJuS8RqG4qk7xYx6jt2US/F4sG0S7SnruAne1ZdJLcN5RRybCV82BNBZcjR/IP094fxs3jBwec3f4xfW6eeFFH/T8dcFUh7FIHRWkwP7rpjyHAySzQxoCXWfGASCjJhytK1rH3qTu1k6Qbb5EU3vqtt/pkFpnaGILN4qwJiCS4JJ9SiXM7SXvuCva2Z9E5ct9QhutnH+JyLZUfn2pK+BzJ/qTv1lWqcMFZgfm+NTXngfNcv9n11xI9WO1h+MATppo9CjPkwkMjLct7+QC58K0iteu1yr/aSfWkQPzaKGcwxdniFu/lQyC5GCTO7SPtuUvY255F58h9Qxn3nfwQQifSVSMg7Uzh6ij7LItzoVEEPWCrjIGqs1Dwd0Mnq1THN19nA9mUVcrz/36tPB+CXoAxzXdWQyUwopXH9tdknKZtBgxfVxOp8cCgbznQOqWk+e9uNYZKiLQRZ1fgvMS5faQ9dwF723MTXWJDGVXoOKanbqZYkhA7yH1DGZUMOHONf44Zzn2HVjFy0siGyRnTluB1rBJnK0f86nlTGV8/Rr68lWHXW7+CXUlffUUaKVkaNj0TySBbZU4fYpd3ONrDhyj5xUahEzGMb2uCx618Dv4lmLmPh3Pgq5JmE0dE/2KA3J0wy8aoHCdX24fe6Zoa9Q3VGPRQe2glKyrDyfyoaaD1+bWPEXPU7IbcSpzrJM7tIO25a7SnPXsQndpsAkfuJyQMzycmegoZF7rtG+gl5L6hjGsMOASq/atQfxPGd0UNkzRq3pqA0x8n43nwWrOyw7ma2TR54/KXufw84gj3aafx4FnbV2gz6auvSCF2bTpeqzcSMdxWKQMH9mfyRFQWCVH5fHTCRm/fpCy+LGyYEWyICbRa5NyxjewLjSNhbhzTCtM4IM//+6fGAe9+6rbLmnN1cXx9+pjie6LImK/FY2DD1+oxsSTH+ZG9M5tyO8/hKXG2n7TnLtWh9nyPhuD5H5M1vYJ43eEue5zWl8h9Qxmqe2fx3fLJ3DJ17f0wbh61SX786p29DLFxTP29I7m+fA8/PVWB864C7rNRrvWk71o2r6xNx/35EjZpbQ/erNInkeGWwSJ/Nb4zNuK1O4m8azaL23Ylk7Stg0mdE8kgt3AWPq8mY7euwws6WywfY21z1ILRwoFsDHgHwKVh35Wrtg8f3IE/rP2GCy5jIHjCRMwfwGg0QXChzDTmxgW1GkpaibOnxNlO0p67jr3t2fbxYx8KBH05nR2Y1LfJfUMZLvxzHBgnT+CW2Se1v54IZ8sZ2OrjWxfqHp4Ih05jq6/VdtJ3LZvlyxJgbjEbWkn46itSWL4NXo2NxB3ANZiEV8aya10KZT+2VjkzP5aSviGJQavTmT2iYZeXNpkEVpBytL2/jh5EJJl6FBu3d5OBZHIKzfYnRTfUW/Qctga8A6CGh7RgsLIA15VK4AWwMiZeNNLg8xs4X2urX2MwLgMB1Pg8pKXaUInFCJwrlZTxAn4SZ/tIe+5C9rbnNgyR3qfWyX1DGSO581tQfWue8jUajNHawD5zw1ywtdCK9aSvecIX7mN18CDUclEfT/SyQ2jXZBI2tOkTZ59ENj1xnsXxC9lXaUen+a1i0hKD0I/XmSWYGiKWZjH6kyCW51fI+L7+4mSWlQHvzfwmEvLzsXgecyoLZgbD/V1dwd5MTdCEWKqL9BaPYwwXS2BKEP6m+Gl+E0lgfj4lZnE2nMpCNzOYIImzfaQ9dyH727N1tZSczMXjUT98urCWvZ/cN5Thxk//OQ/yjjPU7JMHKr6AmRO57dba8bdwPZ4HUx7B4iUpJpZJ37V81qxrK+ED+I6Lp78jbEsx8T6W/yV5abPIWezC8c/bTtaqKnRcfOQYH8QEWl7PNZD4VB2jv0ijQMb39QMGOJRre8A7gHcsLCyHt3c2/aE88zZ8oIaFsxSpZW+m1r7ARueVxGUcpto06aq65DVittaRHjun6fGNdyxpC8uJe3sn5aY41555m/gP1GQtnGX5pFJYIe25q9ndnq/nkrJLj6Hxr+HPBvK3/p648lgyntQifX2tk/uGMn6Yvph6l1Xcn1Gik/EAACAASURBVFKAmyl5GnTsDdxS66h/cXbTY98reXilH0dtejWb80+VDE99mnu+mMfP8ydz28b5LZK+sqPT2VVRTd6msfy7xRi4KPJuNJbUELY8i0Xetn9VvCams8VaImetXGywzZnBuAYS/+YOIka0cSLR+13Iha9fhUdbuzW4wOKjMLoU5jtBwIOwtw7e2QHSRuzgR0LGWeLvZBD8eMP7MyOPurJi26fEteiNciFw8VF0o0uJm++EKuBBgvbWseCdHURLnO0j7VkBdrbnYdMIV+uIn29asiXmWXQD4ijetZ3IYd1W+V5E7hvKeITLH5dT949tDPFveO/ukDxXbh/I5fK4ZsVGhHJ7SB7qaQ1LtjyonYfrvyzmVtEWqluJs6qoqMg42jily7+NGn0U4z+P4ktHjKG7kc2S6BzCsnOIaNYHWqOPYvx6XQdPGskms/N1NU2ICuMpmb/e1VQBThJnBUiclSFxVobEWRmqACcu1djqlxKO4u3uitFotPbu3d7LXZuDwdpYaSGEEEKIfk6Bl6oJIYQQQojuplhPn0N74YZGs6Uw2kEnE0IIIYTo+6SnTwghhBCiH1AVFRUZp06d2t31EEIIIYQQXeTs2bMNj3cNhcburku/JLN3lSGz8JQhcVaGxFkZEmdlyOxdZXi7u+Lr6yuPd4UQQggh+gNJ+oQQQggh+gFJ+oQQQggh+gFJ+oQQQggh+gFJ+oQQQggh+gFJ+oQQQggh+gFJ+oQQQggh+gEHJn3V5CWrWKKvtvppjT4KTXI2NY641I1sloREkXfDEScTQgghhOj7rCd9N4vZnhbEpBAVmhBPpq5PoaCqTrlaVaSgCUmhTLkrip6ktpSM1BmMDXVCFTCa6e/toeLn5gWqyV7lhCrAcks5012V7oXajDNAHRVHVjJ99oOoApwYNX8RaV/Vdkdtey+JszIkzl3r+h6irNxzVQHrKG1RUO7PjjDg5kkefHkWo3xdGeXug2btPob8ZF6qjiG6VYycNJJR7q6MmrYEr5O3Gt66YYOVpK+agmMV/K/nijlRaMRwuIJNj5zn9ZULKGjRs1ZKeogKzd3Nk+UnoGC9Z7N9KjRZpZaX6HINvY4t6mFjs9UzKbrJlT3EzF5Jhd9/UZJ/B+Opi2SF3aai0rJoZMpljKfutNgSH1a+yr2SnXEuz55C8BFPkrY1xLpsdSBlr8wg5YyC/wT2ZhJnZUicFTKLrPw7ZvfdVwm0UlLuzx03oGof//q/X2HAxDeoOX2bv9VUcCPqNv/yTctyQ7aG4abz5KcDlfyt5jY1b03AKTYCz1O227OVhNCDsCfjmr50UuMbnkzCiVF89GUyYeEa0weBxBcaib9bsJq8ZE8KHr3KFq1HJ75dxwlb3XPqIuxhIDP1GeqWXSQ9VHN3r3pMLJHdWKu+x8441+aS8baa5NyXCFQ3lUlerGPU9myi34tFg7BN4qwMibPoSyoZtnIerKngcuRI/mHa+8O4efzQvNjNPO57bTB1Xy6j5oGmMv+yKg/1xr2o987DWh+2nWP6XHG5D775XrrBRdepO7WTpBtvkRQut96uZG+cq09mkamNIdir5X5NQCTBJfmUXunCSvYBEmdlSJxFX+L62Ye4XEvlx6eaEj5r3I7vwWn60/xk1uxvPhaB8VgBrlXWj7Mz6bvK9csezPbxsa94J9XUnAfOc/2mIpcTPUT5VzupnhSIX3dXpI+zN84GQy48NNKy98PLh0ByMXzbRRXsIyTOypA4i77kvpMfQuhEq710zTlfyIOHR3LL/AOND3fIY8A168e1mfTV3yonb/MKjv+njvhHXFopaaDqLBT83dDWKdtQxzdfZwPZlFXKOIv+w4Dh62oiNR4Y9C0HWqeUWG9TusSGMqrQcUxP3Uyx3LTtYG+cqzFUQuQI68MjXIHz12Q8rG0SZ2VInJWVS0x4w6QMz9kziN+np/qO9ZJyf+6ISgacucY/xwznvkNmEzSOVeJ8t9w1nL6Bf3oNt3oWI+B0xXrWZyPpa5qk8e9P+pPnlsDaaYHNLmip/vQhdnmHoz18iJJfbBQ6EcP4tiZ43Mrn4F+Cmft4OAe+KqG+lWuKvqQagx5qD61kRWU4mR81DbQ+v/YxYo42vyF7EJ3abIBw7ickDM8nJnoKGRe67RvoJdoTZ8DJ1eaZ6mzc7AVInJUicVbMsDnkNJuUYXgnAc+Tz+AXt5nyFgXl/txx1xhwCFT7V6H+JozvippN0PjjZDwPmiVyA2y3Z1vPhm0kfQ2TNAyFRgx5V0kYUcya54NIr7DV82bgwP5MnojKIiEqn49O2Ojtm5TFl43njbE23wfOHdvIvtA4EubGMa0wjQMyzqJfKb4nioz5WjwGNnytHhNLcpwf2TuzzW4szdyjIXj+x2RNryBed7jNbnHRwTib8XRtredfgMRZKRJn5bmM0JKYvJsYw1IyT7Ry15X7c7up7p3Fd8snc8vU0/bDuHnUJvnxq3f2MsTOcxjvtd6e2x7T5+qBr3YjqfMHk/ZeBuesFKnSJ5HhlsEifzW+MzbitTuJPBvPk1t1JZO0rYNJnRPJILdwFj6vJmO3rsMLOlssH2Ntc9SC0aKTXHAZA8ETJmL+AEajCYILZW2MuXFh7EOBoC+nswMM+jZ74+yCWg0lV67aPJPnYHVXVrSXkzgrQ+Lcre7xwd8Pci61ddeV+7N9XPjnODBOnmAxVq/21xPhbDkDrzeUMw6BX/3d9pCEfw5xs7rf7jdyeP1bEFyqs3jcWl+RwvJt8GpsJO4ArsEkvDKWXetSKPvR3rMDP5aSviGJQavTmT3CdE1tMgmsIOVoe5uJBxFJph7Fxu3dZCCZnEKz/UnRDfUW3UyDz2/gfK2t/wMH4zLQjtMMkf/WW2dvnNX4PKSl2lCJxW3lSiVlvIDfyC6taC8ncVaGxLkn8Gxt7Fdzcn9uw0ju/BZU31pMzzAZjNEZwI1fHp4M31QyyLxIVSVOLOb/+7X1M9id9FX9vQR+69EsQarloj6e6GWH0K7JJGxoU1lnn0Q2PXGexfEL2VdpR2furWLSEoPQj9exQdt8bpWGiKVZjP4kiOX5FTK+r09TEzQhluoivcXjGMPFEpgShP/9rR1fS8nJXDwe9UOZOea9lf1x1vwmksD8fErMfoUNp7LQzQwmqNWfR38ncVaGxLlb1ZZSfNSD8DFt3XXl/mwfN376z3mQd5yhZp88UPEFzJzIbVMH3s2ACIz7C7jHbJUT9Wd7+dWcyfxkvaPPStJ3IYN1R0qpum36+k4dVX9NYtUH35HwTAxNSxx9x8XT3xG2pZh4H8vs3UubRc5iF45/3nayVlWh4+Ijx/ggxspkEddA4lN1jP4ijQIZ39enqbUvsNF5JXEZh6k2TQaqLnmNmK11pMfOaXp8cz2XlF16DI2vWPrZQP7W3xNXHkvGk1rkf8nW2R1n71jSFpYT9/ZOyk1/KGvPvE38B2qyFs5CHoa1TuKsDImzMqr160g7Zbg74aXuymGSVsVTPDOd+IBmd125P3fKD9MXU++yivtTCnAzJU+Djr2BW2od9S/Obnrs6zOPnxLKuee1DxlqSvzuP/Uu6nfcuL0youVCzs1YJn1jYgi7ncWaZabxcAuCWfeFJ3GbS8ySOw1hy7NY5G37R+g1MZ0t1hI5a+Vigy27KRu5BhL/5g4iRrRxItHL+ZGQcZb4OxkEP97w/szIo66s2PYpcWOaFRs2jXC1jvj5piUBYp5FNyCO4l3biRzWbZXvReyMMy4ELj6KbnQpcfOdUAU8SNDeOha8s4No+V20g8RZGRJnJXhMmIb66FL8TUu2jE3U4Tr7KGWvz2o5nlLuz530CJc/LqfuH9sY4t/w3t0hea7cPpDL5XHNy7lwfdURfvQ5yf1hroxyH4n79jrqsrZy1cvWuUFVVFRkHG2c0tXfBTX6KMZ/HsWXjhhDdyObJdE5hGXnENGsD7RGH8X49boOnjSSTWbn62qaEBXGU7JOQFdTBThJnBUgcVaGxFkZEmdlqAKcuFRzu+2ColO83V0xGo3W3r3be7lrczBou7sWQgghhBA9j90TOYQQQgghRO+lWE+fQ3vhhkazpTDaQScTQgghhOj7VEVFRcapU6d2dz2EEEIIIUQXOXv2bENPn6HQ2N116ZdkIocyZEC2MiTOypA4K0PirAyZyKEMb3dXfH19ZUyfEEIIIUR/IEmfEEIIIUQ/IEmfEEIIIUQ/IEmfEEIIIUQ/IEmfEEIIIUQ/IEmfEEIIIUQ/IEmfEEIIIUQ/4MCkr5q8ZBVL9NVWP63RR6FJzqbGEZe6kc2SkCjybjjiZEIIIYQQfZ8dSV8525ep0CiZZFWkoAlJoUyhy4ke4PoeCHCyvcXtbFa4GlbZKHem276D3qW2FFJnQKgTBIyGN9fBFfNCEucOk/asnOt7iApwQmWxraO0RcFqsldZK+dEisS53WpPLMUzwAnVjlKzTyTOjjDg5kkefHkWo3xdGeXug2btPob81PjpNTwXuDLK3dY2jREGG+dt/bJ1nNsbR9n4ZMIqzFOwUtJDgkgzP+SEJ5r1zb5+rgRDTKC936eDVJOX7MnyE22XDFt9lS1aj66vkmjdsDlwao6VDwzwx9EwxcqLm1MuQ6j87Nqt9jDMXgiLP4WVn4JTLeTGw/xn4KPdMMysvMS5/aQ9K2wWWfkfE23edq2ITLlMjsS5c67nEveBJ/FzIclGEYlzxw2o2se/hm3B+F/vUrMulx8GwP1nP+Teb4D/ABjO1UzrbzFR75nFA3kR/Kyxce7WLlxfkcbrZxawKbaWJX82/zSQ+EIj8Xe/bki0Ch7tOUmUJHR9wIVcKImFN220YNF++jT4zUaY5WfaoYZZ/wVHR0P5Rkk8upK0Z9HrGchOX4nn4iL89K/BPd1dn76mkmEr58GaCi5HjuQfpr0/jJvHD20ee5p7/1TAnRUfUmujhO3Hu7dLSX+vhKfiFuD1Sx3n2l9zITqpDorSYH40qLu7Ln1IbQU4me90hfu7ozL9ibRn0fsZ8leSMHQ7yRNcqbWVWYgOc/3sQ1yupfLjU00Jn/3H5uJ8/RVuT3GzWcZG0ldHye5ILkalM3tEO6/qADU154HzXL+p/LVFD1J7GD7whKlWHoWJjns4FspLaPGv4BU9HJ0GY6WXr8tIexa9XdVO4nf7oFuoxaW769JH3XfyQwidaLOnzrZbuO3fAEtmcdPZdimrSV/NiQUsv5bGq1Pa8wjCQNVZKPi7jdGDdqvjm6+zgWzKKus6eS7Rq5XnQ9ALMMbG54kPNgx2Dx0HqZvhW0Vr13sFJMLTFbDqNfi2Di7tgcTXIPV98LJSXuLsGNKeu1AuMeENkwU8Z88gfp+e6jvWS+oSH2yYWBA6jumpmymWONvnl3JSXt+M38uJBNrxSFfi3BGVDDhzjX+OGc59h1YxctLIhokZ05bgdaySVnI5uHkc5z1h1E1/pNUeQsuk71o2KZvrSFwUbfX+b0v96UPs8g5He/gQJb/YKHQihvEhKjQhKjRZ5jN+TG7lc/Avwcx9PJwDX5VQ3446iL7EALk7YVaklc88IPUOnDJtuZ/A8HyIngIXFK9oL+QC8z+GoHIIvRdmp8CsT8DinzyJs+NIe+4yw+aQc+oORtNmeCcBz5PP4Be3mfIWBT2ITm0qZ8z9hITh+cRETyFD4tyGOkp3LSVnwvsk/UdbfXwS5467xoBDoNq/CvU3YXxXVMnfam5T89YEnP44Gc+D12weqT7yIU5z5vFDG311Zkmfgbw/J8HzG4kY3p6KGjiwP5MnorJIiMrnoxM2evsmZfFloRFDodHmjN5zxzayLzSOhLlxTCtM44DFMhKiX2gc8O5nx+CnezQNScz0CtAd7vq69XY/l8JiX7gWA0d/gvz3oeRxeOlt+LmV4yTOHSftWTEuI7QkJu8mxrCUzBOtPCS7R0Pw/I/Jml5BvO5wBx6n9R91Z94m4fNwMuYGtv+xrsS53VT3zuK75ZO5Zera+2HcPGqT/PjVO3sZYvUI0wSO0MltTvZomfRVZLP8qIG89aMaeuMat2VJgI7l0SqrCyxX6ZPIcMtgkb8a3xkb8dqdRJ7thNS2K5mkbR1M6pxIBrmFs/B5NRm7dR1e0LlgvWfL78Pa5qgFo4UDdWTAuws8FAj68raL9mu18N7vYexuWDkH1C4wTAupRXBfGnygb+N4iXP7SXtW3D0++PtBzqW2hhu5MNYU584OTOq7qtFlvUbpmdcImtR83b0HiTkKbH3MjjX4JM72ceGf48A4eQK3zD6p/fVEOFvOwOuWR9kzgaNRyyVbfBIxFCZalqpIQbOsjE3ZOUQMbflRfUUKy7fBq+mRuAO4BpPwSinR61LwSknE/74269Dgx1LSNyQxaHXJ3ckjXtpkEv76O1KO+rGpXeMLPYhIMhJh8T1ATmEi/u04k+gGjQPeszsw4H2IDC9uXQV8XA07zGOrgenREFcKcXbEXeJsP2nP3caz1UFQzUicW9HwuDbaYn812aseJGb0ZxgX2rkWr8S5DSO581tQfWue8jUajNGiTTdO4Pii1QkcjTrxGrZaLurjiV52CO2aTMKaJYPOPolseuI8i+MXsq/Sjs7cW8WkJQahH69jg7Z5cqchYmkWoz8JYnl+hYzv6y9OZrU+4N2qWjiZC4/6tV20X3OBIcB3Vn4vf66FMW3dlCXO7SbtWXm1pRQf9SB8jE9bBSk5mYvHo360VVJ0hsTZPm789J/zIO84Zv1rPFDxBcycyG3zzrwrBbjYMYGjUSeSvu+4ePo7wrYUE+9j+YfCS5tFzmIXjn/edrJWVaHj4iPH+CAm0HJ2imsg8ak6Rn+RRoGM7+sHDHAo18aAd5PrubBL3zT+7GcDbP09lMfCk7IcRuv8IG4WpMbDhcbErw4u7ITUfIht9v+8xNkBpD13tWr9OtJOGagzzdatu3KYpFXxFM9MJz6g2d+m67mk7NJjaBbn/K2/J648lownZQkSh5E4d8oP0xdT77KK+1MKcDMlT4OOvYFbah31L862eOyr/u+9/MqOCRyNOpH0aQhbnsUib9s/Qq+J6WyxlshZKxcbzCBbBVwDiX9zBxHdsGagUNiFXPj6VXi0lcFPw6aBWgfzTUtcxDwLA+Jg13bLV4gJSzN3w6qxsD7A9I7XcbCzAt45B1OardMnce48ac9dzmPCNNRHl+JvWrJlbKIO19lHKXt9Fi1WnRw2jXC1jvj5pqVEYp5FNyCO4l3biZQ4O47EuZMe4fLH5dT9YxtD/Bveuzskz5XbB3K5PM687Gnu/VM5/3gq1I63dTRQFRUVGUcbpzi40pZq9FGM/zyKL5OiG8b+dcaNbJZE5xBmNsawRh/F+PW6Dp400uqYxa6kCVFhPGVjMSnhMKoAJ4mzAiTOypA4K0PirAxVgBOXaqy/R1Y4jre7K0ajsfV37/Y27tocDPI0RAghhBDCQice7wohhBBCiN5CsZ4+h/bCDY1mS6HlBHIhhBBCCGGd9PQJIYQQQvQDqqKiIuPUqVO7ux5CCCGEEKKLnD17tuHxrqHQ2N116Zdk9q4yZBaeMiTOypA4K0PirAyZvasMb3dXfH195fGuEEIIIUR/IEmfEEIIIUQ/IEmfEEIIIUQ/IEmfEEIIIUQ/IEmfEEIIIUQ/IEmfEEIIIUQ/IEmfEEIIIUQ/4MCkr5q8ZBVL9NVWP63RR6FJzqbGEZe6kc2SkCjybjjiZEIIIYQQfZ/VpK8sS4UmxHKzldA5XEUKmpAUypS5mugpru8hKsAJlcW2jtIWBavJXmWtnBMpZ7qp7r2JxFkZEmdl1ZaSkTqDsaFOqAJGM/29PVT83LyAxLlTpD0r48o+XnB3xdti20D53ULXOLjAWpnGbRr7DdZPP8DmhZ8rwRAT2ErNSkkPCSLNfPcJTzTr23OerlBNXrIny0+0XTJs9VW2aD26vkrCTrPIyv+Y6GFtl4xMuUxOqPzsOkbirAyJsyKu7CFmfgaDX3qfkpWfonaC2gs7Ka4En7Eti0qcO0PaszIieOf0XmaOsPX5cGZm3mamlU+q9sxicl4EgRrrR9pO+toUSHyhkfi7XzckWgWP9pwkShI6IYTo6wxkpj5D3bKLpIc2/aVTj4klshtrJYTyTnPkTwU8teJDvGyU6ETSJ4QQQnSvulM7SbrxFvnhNro2hOgn6j/LZcf1V3hnipvNMj0y6aupOQ/A9ZvAA91bFyGEED1X+Vc7qZ70MX7dXREhutUtju/fgPuSLwh0tl3K9uzdPweZJnCMIiothYLK2jYuaKDqLBT83cboQbvV8c3X2UA2ZZV1nTyX6H1yiQlvGPTrOXsG8fv0VN+xXlKX+GDDAOHQcUxP3Uzxt8rWtHeTOCtD4ty1DBi+riZS44FBv5LpsxtiOGr+IlJKrP8tkjh3hrRnZeTx4iMNkzImTprFGzuOU/OPNg65eZzje8J4dvojrRazmvT5xxgxFJq2T8t40/8q2//gz5q/2k786k8fYpd3ONrDhyj5xUahEzGMb5wNnFVqvcytfA7+JZi5j4dz4KsS6lutvuhThs0h59QdjKbN8E4CniefwS9uc7NZSwAeRKc2lTPmfkLC8HxioqeQcaGb6t6bSJyVIXFWQDUGPdQeWsmKynAyP7qM8dQdylYHcn7tY8Qcbb7ihMS5U6Q9K2PEbDbX3OaSafvvrGW4H5/H409u5Xwrh1Ud+ZD9c+YR1sYoh7bX6RuoxlebzqblPuzamck5q4UMHNifyRNRWSRE5fPRCRu9fZOy+LIxmbQxo/fcsY3sC40jYW4c0wrTOHClzRqKPsplhJbE5N3EGJaSeaKVnuZ7NATP/5is6RXE6w7TVp+0aEnirAyJc9cpvieKjPlaPAY2fK0eE0tynB/ZO7PNEpJmJM6dIu1ZGc5ek4nb9iERF15k/5FbNkqZJnCETmZQG+eze3FmL00QXCqj6qblZ1X6JDLcMljkr8Z3xka8dieRd83eMzdzJZO0rYNJnRPJILdwFj6vJmO3rsMLOhes97S63mCLzVELRouucY8P/n6Qc6mtYQMujH0oEPTldHaAQb8kcVaGxNnBXHAZA8ETJmK+ToNGEwQXyjC0+lhR4twp0p6Vca8PvhOhoKLS6seNEzhmtjKBo1E7J3IMxnmg2cUqUli+DV5Nj8QdwDWYhFdKiV6XgldKIv732XnqH0tJ35DEoNUlzDatTeOlTSbhr78j5agfm6a0Z2aWBxFJRiKa76pIQbMMcgoT8W/HmUTP4NnKwNQWhrh0aT36OomzMiTOjqLB5zewsdZW/9FgXAba+Kg5iXOnSHtWhrvV8Nk3gaOR3T19587mwG/9GH03iavloj6e6GWH0K7JJGxoU1lnn0Q2PXGexfEL2dfmBBDgVjFpiUHox+vYoG2e3GmIWJrF6E+CWJ5fIeP7+qPaUoqPehA+xqetgpSczMXjUT/aKimskDgrQ+LsYGqCJsRSXaS3eIxruFgCU4Lwv7+14yXOnSLtWRk3v6D04HC04x6y/OxKAXl2TOBoZCXpK2fX1mzO3TLNnP2llnNHFrIkZzCvPhfTbMG/77h4+jvCthQT72OZfnpps8hZ7MLxz9tO1qoqdFx85BgfxARikai6BhKfqmP0F2kUyPi+Pq1av460UwbqTLPB6q4cJmlVPMUz04kPaNbGrueSskuPofEVSz8byN/6e+LKY8l4Uov8L9k6ibMyJM7KUGtfYKPzSuIyDlNtmkRYXfIaMVvrSI+d0/TYV+LcKdKelVFzaAM7Pquk3jRbt76qgLcXLKN0zrs8+5hl9Kr+ey9H7JjA0chK0ueHdryBj14f2zDmbW4QaRf8SN18jEVjml9QQ9jyLBZ52/4Rek1MZ4u1RM5audhg2wMQXQOJf3MHETZfSSL6Ao8J01AfXYq/aUmAsYk6XGcfpez1WS3H6wybRrhaR/x805IAMc+iGxBH8a7tRNrxeqD+TuKsDImzUvxIyDhL/J0Mgh9veO9u5FFXVmz7lLgxzYpJnDtF2rMy3CeHMejgi8w0LdkS+oc8nBcWcPC9iIYhdC2c5sifyol7KrTNCRyNVEVFRcbRximOrbUVNfooxn8exZdJ0VYq3k43slkSnUNYdg4RzR4r1+ijGL9e18GTRrLJ7HxdTROiwnjKxiJHwmFUAU4SZwVInJUhcVaGxFkZqgAnLtXc7u5q9Hne7q4Yjcae+UaOjnLX5mDQdncthBBCCCF6HrsncgghhBBCiN5rwB8K3qI4tOsf7zq0F25oNFsKox10MiGEEEKIvk+lSQgxGtIKu7seQgghhBCii5w9e7ZhTJ+h0NjddemXZCKHMmRAtjIkzsqQOCtD4qwMmcihDG93V3x9fWVMnxBCCCFEfyBJnxBCCCFEPyBJnxBCCCFEPyBJnxBCCCFEPyBJnxBCCCFEPyBJnxBCCCFEPyBJnxBCCCFEP+DApK+avGQVS/TVVj+t0UehSc6mxhGXupHNkpAo8m444mRCCCGEEH1fK0lfHRc/T2HVslFoQlSM/0MM28/WKlOrihQ0ISmUKXM10VNc30NUgBMqi20dpS0KVpO9ylo5J1LOdFPde6PaUjJSZzA21AlVwGimv7eHip/NC9VRcWQl02c/iCrAiVHzF5H2lUL3gT6m9sRSPAOcUO0oNftE2nOn2H3fAGnPnSBxVsaVfbzg7oq3xbaBcrOiNaf2kfHHaYT6NpSZOGkW63X/Q30rpx9gfXcdZVnBLP56OpteO0/qUBf4pRr9iRJqxoXjDkAp6SFBpJkfesITzfpmXz9XgiEmsH3fdKdVk5fsyfITbZcMW32VLVqPrq+SsNMssvI/JnpY2yUjUy6TEyo/uw65soeY+RkMful9SlZ+itoJai/spLgSfMY2FSvPnkL4qUh02y5zSN1QJm7pDFI2HiXxYZfuq39vcz2XuA88iZ8LSTaKSHvuDPvuG9KeO0virIwI3jm9l5kjWilyJY/9/w1BE3TqFAAAIABJREFUK/ey8D03nIH6b/JY/8cwVnGcdyJHWj3MatJXX5bE4s+C2fp2Iv6upp0DPdBOCW9WKpD4QiPxd79uSLQKHu05SZQkdEJYYyAz9Rnqll0kPVRzd696TCyRzYvV5pLxtprk3JcIVDeVSV6sY9T2bKLfi0WDaJuB7PSVeC4uwk//GtzT3fXpp6Q9K0PirIwREcQltNzl/OsIXoovwO/lfSyKfIWxVg6z8njXwIGcNIKfWdGU8Akh+oy6UztJuvEWSeGt33qrT2aRqY0h2Kvlfk1AJMEl+ZRe6cJK9iGG/JUkDN1O8gRXauUJV7eR9qwMiXP3GjR8JFzH5iNey6TvRinH/xpJ4Gh119asFTU154HzXL/ZbVUQos8q/2on1ZMC8WujnMGQCw+NtPyv3MuHQHIxfNtFFexLqnYSv9sH3UIt8lCre0l7VobEuXt9/201DANnG59bJn3V5ynAH697y9mVFsSkEBWap8cS+34m535s7VIGqs5Cwd8NnaxyHd98nQ1kU1ZZ18lzid4nl5jwhgHCnrNnEL9PT/Ud6yV1iQ2DhFWh45ieupliuZnYwYDh62oiNR4Y9C0HWqeUNP/drcZQCZEjrA+PcAXOX7M+U1+Y/FJOyuub8Xs5kUA7HulKe+6Mtu4b0p4dQ+KsjDxefKRpcsYbO45T8w97jqvk+P6tjF0SZvXRLlhJ+mpqKoAS0rdl4vZEPicKjRh2FfPsvZnMSEzh3C/WT1R/+hC7vMPRHj5EiY0ynIhhfIgKTYgKTZblfB8AbuVz8C/BzH08nANflbQ6C0X0McPmkHPqDkbTZngnAc+Tz+AXt9ls1pIH0alN5Yy5n5AwPJ+Y6ClkXOimuvca1Rj0UHtoJSsqw8n86DLGU3coWx3I+bWPEXPU7IbsZHuMR52NZFwA1FG6ayk5E94n6T/a6uOT9twpdt83kPbcGRJnZYyYzeaa21wybf+dtQz34/N4/MmtnG/j0CrdG6z72yu8Of8Rm2VsLNlyFf/wjUR4mx7xDvRA+0wy8deS2F9mbVCKgQP7M3kiKouEqHw+OmGjt29SFl8WGjEUGm3O6D13bCP7QuNImBvHtMI0Dsjz/37LZYSWxOTdxBiWknmilcFQ92gInv8xWdMriNcdRoZNta34nigy5mvxGNjwtXpMLMlxfmTvzLa8gdvg6SoPLG2pO/M2CZ+HkzE3sP2PdaU9d4rd9w0z0p7bR+KsDGevycRt+5CICy+y/8gtm+WqDi7h2ecrefatVfjda/t8Fkmfs6snEIy/t9kPZuBYRo+Dw5WWCV2VPokMtwwW+avxnbERr91J5F2z+3tqciWTtK2DSZ0TySC3cBY+ryZjt67DCzoXrPds6FVsbXPUgtGia9zjg78f5Fxqa9iAC2MfCgR9OZ0dYNC3ueAyBoInTMT8AYxGEwQXykxjblxQq6HkylWbZ/Ic3H3jfnu2anRZr1F65jWCJjVfz+xBYo4CWx+zYw0+ac+dYnHfkPbcJSTOyrjXB9+JUFBRafXj709u4MUFFTx5uIC4gNaTaoukb5C7Bl+u8r2N8XvDBrb8ur4iheXb4NXYyIb1+1yDSXhlLLvWpVDW6hhAMz+Wkr4hiUGr05ltWpvGS5tMAitIOdre254HEUmmHsXG7d1kIJmcQrP9SdGmdQdFT+Zpa1SquSHyX2TrNPj8Bs7bnEY6GJeBAGp8HtJSbajEYgTOlUrKeAE/68tACfPHtXe3y2RNARZ/hvHUHRIftuNU0p47pem+Ie25K0mcleFu5XZQf2oDsTMOE/SXvDYTPrD2eNc7mAjvbI5XmP1RuH2ec2c9CPNpnPNXy0V9PNHLDqFdk0nY0Kaizj6JbHriPIvjF7Kv0o5u31vFpCUGoR+vY4O2+ZwfDRFLsxj9SRDL8ytkfF9/VFtK8VEPwsf4tFWQkpO5eDzqR1sl+zc1QRNiqS7SWzzGNVwsgSlB+N/f8LXmN5EE/v/t3X9UlHXe//Enh06AbTZWGNjyPU14641a3vBlVaj1y7AqiCYBFQnVLoitOuPtD/SbBpVboHgn+CNQOwl1m2C6MYQlohDjuhtoyw15UthcvYdzc8LJcQv7VkJnPfP9Y0YdYAYGhAuB9+OcOSeu+czn+szLq4sP1/X5fK6yMqo7/S9srC1EvyCc0LsVafAIJcfzLXFw3pDjeQBIzsr49iQ1hx5AM2Vih83ttZtJnGvt8K0Ou8elqhyM6Qsk/rdaqt7ScuCC7V/th0YOvJVI+cx8Xrjxb/sd509/R+SuKnQBXXuXfppCipd4cvyznjtrzY16zk/9lHcTQ7pOM/YKQZelZ/zJbMplfN+wZjJsJLvWeGOgb1vLEdLX6ahakIvO/i+YSyVk7jVgvP7IsJ+MlO1+Cm19MnlPy9IYPVFplrHFYy3avCOYbJOuTNWvkLi7jdzkhTdv+/onk51SjzangHrbqaD1yxx076ooTIlBbtL0Ezmeb4nL5w05nm+J5KwM8+HN7PlLE+222brtzeXkLFpBzcLtPP/4zZzbz2xn2W971+EDJxM5Rs/IpTI9iPodQdbn7q5eQ8MEPZ8si2L0jVJqIlcWsrjz2D87fjNy2eWoI+eoXHK4Xd2deIWge30P0d09kkQMeT7T56KqXE6QbUmASWl6vOIrqXs1puP4s7FziVLp0SXZlrhIfB79HVqq9r5DrAuPbxOBpOadQXctj/AnrM/dja30Ys3bn6CdYF/Ok5AllejH16BNso5JC/2gjUVb95Ag/y/2Hzmeb4nL5w05nm+J5KwM77BIRh9axQLbki0RL5bikVLOoR3RdkPRvuHo1nUcv3SKvKd9XHpO73Vu6tQ5lqqIowP+RcyGOKZ9Fsfn/TGG7nIRSxOKiSwqJtrutrLZEMe0Tfo+VhrLtk71DTT1HDcstTJ/faC5BbtLzgqQnJUhOStDclaGW7A7F8xXB7sZw56/txcWi8Xxs3eHKm9NMUbNYLdCCCGEEOL242SdPiGEEEIIMZwodqWvX6/C3Z/ArmMJ/VSZEEIIIcTwJ1f6hBBCCCFGADd16hyLMfvYYLdDCCGEEEIMkDNnzuBWUVFhGW+ZNdhtGZFk9q4yZBaeMiRnZUjOypCclSGzd5Vxffau3N4VQgghhBgBpNMnhBBCCDECSKdPCCGEEGIEkE6fEEIIIcQIIJ0+IYQQQogRQDp9QgghhBAjgHT6hBBCCCFGgH7s9JkozXBjqcHk8F2zIQ51RhHm/tjV5SKWzomj9HJ/VCaEEEIIMfx16fTVFbqhnuP8tbGubeBb1ZiJek4mdQO/J3E7ubSfuGB33Lq8NlLToaCJonWOyrmT+eUgtX0okZyVITkrw+WcAdpoPLqWefEP4hbszsNJi8n+onUQGj0EyfGsjJYDLPP2wr/LazP13X3u23I2TO653B2dNwQlWjAmdi3YfjqdX2+CsCmeti015M4JJbtzwRO+qDfZ/fzbaoyJId01dQCYKM3wZeWJnktGrr/ILo3PwDdJuCiGwrIPSRjbc8nYzK8pjpB/u76RnJUhOSvDtZzri2YRVRuL/u2vOayC1nMFaJfPJ3NLJWmPeHb/YYEcz0qJZuvpD1gwztXy33D0lSy8k1dAVvclu3T6HGvFUJnJ2Lg6Qu+8vi0E3TELuhtlrB2t8sdun06UdOiEEEIA0FpCXo6KjJLVhKism1QTkslYoufhd4pI2JGMenBbKESfNOtfYtPYDbw/pZScHsq6NqavpZiDR6N4/rHAW2+dEEIIoTDTqULyNYmE+3Xcrg6OJby6jJqWwWmXELek+QCbXvFh05owPH+82GNxlzp9Zz/LwxCxiLkuX2q8NWZzA9DApW+V2Z8QQojhzWgsgYkPdb2a5xdACCUY/zEYrRLiVjRxcO1WxhdsIOQu1z7hQqevnuqqi+hmRTG623JGms9A+f8YXduzU238/asioIi6JgUmjYjbTAmJUdZBv77x89EdMGC65rikPs06GNstYgrzsnZSJSftXpCclSE5K6OnnE0YmyB2nOPhPl5AwzeOV54Q9uR4VkYpq6ZaJ3DMmBnDhj3HMf+zc5k2Grb9jvf/bTva6a6PR+2x09d+uph3WEPk1O4rbT99mL3+UWiOHKb6ZyeFTiQy7fpM4MKu86oAuFLGoT+G88ITUXz0RTXtPTVQDB9jF1Jcew2L7WXcmorvqecI1O7sNBvJh4Ssm+UsJR+T+kAZiQmzyDs3SG0fSiRnZUjOynA5Z8Ddy2k1bU46L8JGjmdljItnp/kqF2yvPxWuwPv473ji6d002BVrr93Oq6VhvL58Oh69qL6HTp9tAkd4OJO7LWfko4P5PBlXSGpcGe+fcHK1b2Yhnx+zYDxmcTqj9+ynWzgQoSX1BS1zj2XzkYyzGLE8x2lIy9hHonE5+Se6WVZhlJrwpA8pnNeITn8EWYChdyRnZUjOynA55058vWT2bm/I8awMD78wtG+/R/S5VRw8esW68cdT7HnlCJo31xHo4m3d67rv9Lk4gaPZkE7ePXksDlIxef4W/PalU/pN7xpi3V8+2bvHkLUwltH3RJHyexV5+/R9XtC5fJNvt2sOque49d+C0WJgjAogKBCKL/Q0bMCTSRNDwFDPrQ4wGJEkZ2VIzsrokrMnKhVUtzgf6O47RqVM24YTOZ6VcVcAk2dAeWMTAOajW8mpPUXO3DEd1vKb8ftSYANPeXvhn33KYVXdLtlincCRzrZuJnC0N2ay8m14OTcWbwCvcFJfqiFhYyZ+mWkE/cLFL/VDDbmb0xm9vpp42/78NBmk/vU3ZFYGsm1WbybT+xCdbiHaflNjJuoVUHwsjaBe1CRuD76uXr++T/5avxWSszIkZ2XczFlFwEQNpvomTATSYWRfSxN1LGPRQ8q3b7iQ41kZ3rb4vGM/4EJs1/fN+meZ8ftAPjS/hLNLdd1c6avBUNzdBI5Wzht0JKw4jOa1fCLvv/mOR0Aa255sYIkuhQNNLlzMvVJFdloohml6NmvsO3dqopcXMv7jUFaWNcr4vpGotYaqSh+iJgT0VJDqUyX4PBZITyWFA5KzMiRnZTjIWf1oLCFlZVR3+pVkrC1EvyCc0LsVbuNwIMezMr49Sc2hB9BMmXjLVTnt9LWfPszeMd1N4PiO86e/I3JXFbqArmX8NIUUL/Hk+Gc9d9aaG/Wcn/op7yaGdB2Q6BWCLkvP+JPZlMv4vmHNZNhIdq3xxoDqtpYjpK/TUbUgF12w3TF2qYTMvQaMP9l+/slI2e6n0NYnk/e0BvlbsnuSszIkZ2W4nLN/Mtkp9WhzCqi3dfxav8xB966KwpQY5OZu9+R4Vob58Gb2/KWJdtts3fbmcnIWraBm4Xaef/zW03PS6bNO4JjyZGw3EzjURK4sZLG/80b4zchll6OOnKNyyeHOl4TxCkH3+h6iFVonUAwOn+lzUVUuJ8i2JMCkND1e8ZXUvRrT8XbM2LlEqfTokmxLAiQ+j/4OLVV73yHWhccDjXSSszIkZ2W4nDOehCypRD++Bm2SO27BDxL6QRuLtu4hQX639EiOZ2V4h0Uy+tAqFtiWbIl4sRSPlHIO7Yi2DqG7RW4VFRWW8ZZZ/VBV98yGOKZ9Fsfn6Qm33vDLRSxNKCayqJhou9vKZkMc0zbp+1hpLNs61TfQ1HPcsNTKOgEDzS3YXXJWgOSsDMlZGZKzMtyC3blgvjrYzRj2/L29sFgsrj57d2jw1hRj1Ax2K4QQQgghbj+uPXtXCCGEEEIMaYpd6evXq3D3J7DrWEI/VSaEEEIIMfy5VVRUWGbPnj3Y7RBCCCGEEAPkzJkz1it9xmOWwW7LiCQTOZQhA7KVITkrQ3JWhuSsDJnIoQx/by8mT54sY/qEEEIIIUYC6fQJIYQQQowA0ukTQgghhBgBpNMnhBBCCDECSKdPCCGEEGIEkE6fEEIIIcQIIJ0+IYQQQogRoB87fSZKM9xYajA5fNdsiEOdUYS5P3Z1uYilc+IovdwflQkhhBBCDH9OOn1tnP8sk3UrHkY9x41pL87jtaP1fK9UqxozUc/JpE6p/YnbS2sNeVnzmRThjlvweObt2E/jT50LtdF4dC3z4h/ELdidh5MWk/1F62C0dmi5tB+C3Z2/tAWdPtAGR9dC/IPW95MWg+Tsmkv7iQt2x63LayM1HQqaKFrnqJw7mV8OUtuHEslZGZKzMloOsMzbC/8ur83Udy774984mr2Up6ZZy4Q9u4qDX1zptnqHz949qw9n/p/CKXilgaz7PeHbMrL/EETSd3UUPRuIBwA15M4JJbvzh0/4ot5k9/NvqzEmhvTqO986E6UZvqw80XPJyPUX2aXxGfgmCde07CcxKY8xq9+ieu0nqNyh9VwBVU0QMOlmsfqiWUTVxqJ/+2sOq6xltMvnk7mlkrRHPAev/be7sQuhdqGDN4zw7+NhVqcHZBfNgtpYePtrUAHnCmD5fNhSCZKzC2IoLPuQhLE9l4zN/JriCDkX9Y3krAzJWRnRbD39AQvGdVOk/TR5T83A8HgJu/68C2+PNsyfZrF0djTminK0/+b4/Ny10/dzFaW7a9DlVKO537bt3ih0v00ld10ZZ58NJAiAEHTHLOhufNDa0Sp/7PbpREmHbqgxkp/1HG0rzpMbob6xVTUhmVj7Yq0l5OWoyChZTYjqZpmMJXoefqeIhB3JqBG9cq4EqpPhdbvkWksgRwUlq60dPoAJybBED+8UwY7kQWmqEEKMdObDm8i5ZxfH0yLxBsAT799sYGtODGFvlfJMfrxte0ddb+/+0MolwMO942YPrzH93mgh7LXVFpB++U3So7rvsplOFZKvSSTcr+N2dXAs4dVl1LQMYCOHpTaoyIakhJudO4BThaBJhE45ExwL1WUgOQshxCC4wtmTpfCrgC6nZ7/AMCYdOslZJ3d5u3b67g0k5FdgaLS/e9xG3efFeD8bwuR+a7RzZnMD0MClbxXYmbht1H9RgGlmCIE9lDMaS2DiQ12v5vkFEEIJxn8MUAOHq9Yj8K4vzO50a9eWcxd+AUAJSM5CCDEI2mj/0clb9/rgRwlnjY7fdjCRQ038vxfzL4fiWHe0ke9/NlH9QRwrz8Sxe2G4bTyfI0aaz0D5/zjZk8va+PtXRUARdU1tt1iXGDqMGL8yEav2wWjoOEEjs9r+mDJhbILYcY5v23sBDd84nkEunKgvg9BlMMF+owmaACc5AyA5u6CExCjrIHbf+PnoDhgwXXNcUp9mPebdIqYwL2snVdKp7gXJWRmSszJKWTXVOjljxswYNuw5jvmf9u8/gN8jU+GvjTR3+mT7uXrq+Ab+iUOOZ+8+EEvW5i1wcBJT5/uS+F+BZKWnEeTlvIntpw+z1z8KzZHDVP/spNCJRKbNcUM9xw11YY3jMlfKOPTHcF54IoqPvqim3fkuxbBiwmiA1sNrWdMURf77X2OpvUbd+hAa/vA4iZWdOhjuzg/GNicnIeGIEUoKICbW8dvd5Izk3L2xCymuvYbF9jJuTcX31HMEand2moXnQ0LWzXKWko9JfaCMxIRZ5J0bpLYPJZKzMiRnZYyLZ6f5Khdsrz8VrsD7+O944undNNgVm/T8dlZf2cD6rHLMto7S92feY8Mfm2zzLhxz2OlrPpHCzBX5/PLfL/K3T77jk6g28n4fymsnnV3FM/LRwXyejCskNa6M9084KTezkM+PWTAeszid0Xv20y0ciNCS+oKWucey+UjGDY0oVaPiyEvS4HOn9WfVhGQytIEUFRR1na7uhK+XzCp12fUJHIGqnst2Jjn3iuc4DWkZ+0g0Lif/RDfL3oxSE570IYXzGtHpjyAL5PSO5KwMyVkZHn5haN9+j+hzqzh41G6g3l3T0RYeIKwli6d/6YW/dwCrir1YtDIGCMP7Psf1de30XchmZcZFtDmH0U31weNOFZM1Wyh4bR5nXtVxwEEnrNmQTt49eSwOUjF5/hb89qVT+k0fvl1LPtm7x5C1MJbR90SR8nsVefv0fV7QuXyTr/WqYnev/lowWtwiTzwnQPj0GXS+oahWh8K5OttYPU9UKqhuuei0Jt8xfejAjEhOJnAA4Gnd1k3OSM69NyqAoEAovtDTMBhPJk0MAUM9tzpgZkSSnJUhOSvjrgAmz4DyxqaO2++dTsqO4xw3X+WCuZH81+IZ326iman4OVnupUunz/w/1dQ9lkhopw94BCTwTFAZx7/qeJutvTGTlW/Dy8mx1unBXuGkvjSJvRszqfuhF1/qhxpyN6czen0u8bZ9+2kySGUNmZW9PUx8iE63XVG8/tqeAWRQfKzT9vQEh9OahdLUBDwKDa3O/g4cg+edACoCJmowGZvoMqKspYk6lhHoYO6BcMDZBA4AVDBRA8amrm+1NAHLQHLuM1/ng6M7uk+upt4KyVkZkrMyvF2Ir7m+nIakMCY7+TfpeqXP3RNMFx08faOV76/A2Bu3dFo5b9CRsOIwmtfyibz/ZkmPgDS2PdnAEl0KB5pcuJh7pYrstFAM0/Rs1tjPyVQTvbyQ8R+HsrKsUcb3DWsqQqcnY6owdLmNazxfDbNCCbrb+rP60VhCysqo7nRoGWsL0S8IJ/RuRRo89J0qdDCBw86jsVBWRpf7MbWFsCAcJOfea62hqtKHqAkBPRWk+lQJPo8F0lNJ4YDkrAzJWRnfnqTm0ANopkzsvtyPx9mX9R2rnwljtJMiXTp93r9ahO7qGl4tKKP5qm3jVSOGAi0b78zgmaDrt3S+4/zp74jcVYUuoGv3009TSPEST45/1nNnrblRz/mpn/JuYkjX2cFeIeiy9Iw/mU25jO8b1lSaZWzxWIs27wgm22QgU/UrJO5uIzd54c3bvv7JZKfUo80poN7WIWn9MgfduyoKU2K63qkUDhjhcInzCRwA/smQUg85BTc7fl/mwLsqSIlRpJVDmcmwkexa442JRW0tR0hfp6NqQS66YLtz5qUSMvcaMF5/1OBPRsp2P4W2Ppm8pzXItZHuSc7KkJyVYT68mT1/aaLdNvu2vbmcnEUrqFm4necft0uvpZQ9+0/zfbtdueeWcnbxdlKCnafc9UqfVzip26uJ/jGP5CTruLdpK1I4enc6J7LSmHzn9YJqIlcWstjfeeV+M3LZ5agj56hccrjTnileIehe30N0d48kEcNAIKl5Z9BdyyP8Cetzd2MrvVjz9idoO1yN8iRkSSX68TVok9xxC36Q0A/aWLR1DwlyjLjmXAl89TI81l0X2ROWVML4Gkhyh+AH4YM22LoHJOce+Uyfi6pyOUG2JS4mpenxiq+k7tWYjuNWx84lSqVHl2Rb4iLxefR3aKna+w6xLjzuaqSTnJUhOSvDOyyS0YdWscC2ZEvEi6V4pJRzaEd0x6Fo4yII89jPql974e/9EAvWH8U79Tj7Vk7vts/lVlFRYRlvmTXAXwPMhjimfRbH5/0xhu5yEUsTioksKiba7ray2RDHtE36PlYay7ZO9Q009Rw3LLWy7sVAcwt2l5wVIDkrQ3JWhuSsDLdgdy6Yr/ZcUNwSf28vLBaLg2fvDmHemmKMjsakCyGEEEKMcI4XZxZCCCGEEMOKYlf6+vUq3P0J7DqW0E+VCSGEEEIMf3KlTwghhBBiBHCrqKiwzJ49e7DbIYQQQgghBsiZM2est3eNxyyD3ZYRSWbvKkNm4SlDclaG5KwMyVkZMntXGf7eXkyePFlu7wohhBBCjATS6RNCCCGEGAGk0yeEEEIIMQJIp08IIYQQYgSQTp8QQgghxAggnT4hhBBCiBFAOn1CCCGEECNAP3b6TJRmuLHUYHL4rtkQhzqjCHN/7OpyEUvnxFF6uT8qE0IIIYQY/px0+lqp+0hH8ou+qOe4Me3FRHL/alSuVY2ZqOdkUqfcHsXtpLWGvKz5TIpwxy14PPN27Kfxp86F2mg8upZ58Q/iFuzOw0mLyf6idTBaO3RJzsqQnJXRY84mita54xbc9ZX55WA1egi5tJ84B9m5BW+kpkthOZ77rOUAy7y98O/y2kx957I//o2j2Ut5apq1TNizqzj4xZVuq3fQ6TNR/h8BLDkXSOqbFzEes1D5Ujjns0NZecL+Kl4NuXPcUN94+bLyBJRv8rXb5oa6sOvhMPCsVx07tMPJy9mVSTFIWvaTGL+WxsA3qC67hqX2PIWRV2ls6lisvmgW4Ud9SX/7ayy116hbH0LdS/PJ/LJtcNo91EjOypCcleFizgCxmdaM7V9pjyjf5KEphsKya53ye5mQTqXkeL5V0Ww9fZULZvvXSwTaF2k/Td5TgbzTFs2uP1/lgvk7/rj4Hg7OjibvC+c539FlS2M+r9Ylsu3dRUz2sm4a7b+Izf+3kV//Rz51M9MIAiAE3TELuhsfNFGa4Uv5YxfZpfHpj299yyLX3z5tEa4wkp/1HG0rzpMbob6xVTUhmVj7Yq0l5OWoyChZTYjqZpmMJXoefqeIhB3JqBHOSc7KkJyV4WLOQhlyPCvCfHgTOffs4nhaJN4AeOL9mw1szYkh7K1SnsmPt23vqMuVvrONxZinBPEvXh23e0wIZ+63xfzXhQFovRBAW20B6ZffJD2q+1OC6VQh+ZpEwv06blcHxxJeXUZNywA2chiQnJUhOSvD1ZyFMuR4VsIVzp4shV8F0Clm/ALDmHToJGed3OXtenv354uOS/5iDN7Uc/brgb8dajY3AA1c+nbAdyVuI/VfFGCaGdLxErYDRmMJTHyo61+LfgGEUILxHwPUwGFCclaG5KwMV3MWypDjWQlttP/o5K17ffCjhLNOpmF06fT5PRQHZ+r4+9VOb7Q0UAe0X3PWCCPNZ6D8f251wkcbf/+qCCiirknu/48cRoxfmYhV+2A0dBwAnFltf0yZMDZB7DjHt+29gIZvZJymc5KzMiRnZbia8036NGsZt4gpzMvaSZV0QnqhhMQo6wQO3/j56A4YMHXoE8jx3D9KWTXVOjljxswYNuw5jvmf9u8/gN8jU+GvjTR3+mQB8p8wAAAenUlEQVT7uXrq+Ab+iUNdOn2jZ6SyLaiQdTvzb1webL9cRnZBGR5TnDex/fRh9vpHoTlymOqfnRQ6kci0niZ4XCnj0B/DeeGJKD76opp257sUw4oJowFaD69lTVMU+e/fHADc8IfHSazsdKJw93JcDdDm9A8TITkrRXJWRm9y9iEhy24CQsnHpD5QRmLCLPLODdoXGDrGLqTYbgKHcWsqvqeeI1C7s+usUjme+25cPDvtJnD8qXAF3sd/xxNP76bBrtik57ez+soG1meVY7Z1lL4/8x4b/thkm3fhmIPZu2qil1eROlrPyt9bZ+XOf6cRzfI1TD4DfveoHFRj5KOD+TwZV0hqXBnvn3BytW9mIZ8fs2A8ZsGY2Hm+j9XZT7dwIEJL6gta5h7L5iO5/z+iVI2KIy9Jg8+d1p9VE5LJ0AZSVFDU9cTihK+X54C1b7iQnJUhOSujTzmPUhOe9CGF8xrR6Y8gC4r0juc4DWkZ+0g0Lif/hOvpyfHcOx5+YWjffo/oc6s4eNRuoN5d09EWHiCsJYunf+mFv3cAq4q9WLQyBgjD+z7H9Tlep88rgOjFh6n4wILx2EUq1qcS5P4dZsLx9+n6D9ZsSCfvnjwWB6mYPH8LfvvSKf2mD9+uJZ/s3WPIWhjL6HuiSPm9irx9+j4v6Nxl+RhHr/5aMFrcIk88J0D49Bl0vjGgVofCuTrbWBBPVCqobnEy9hTwHePoDxNhJTkrQ3JWhqs5O//8pIkhYKhHwZVoh49RAQQFQvGF6+nJ8Twg7gpg8gwo77wG0b3TSdlxnOPmq1wwN5L/Wjzj2000MxW/cY6rcvmJHO3nqtjrH8WUThW1N2ay8m14OTnWOj3YK5zUlyaxd2MmdT/04kv9UEPu5nRGr88l3rYPP00Gqawhs7K3/zv6EJ1uu6J4/bU9A8ig+Fin7ekJDqc1C6WpCXgUGlqd/cU4Bs87AVQETNRgMjbRZWRISxN1LCPwoQFt6BAnOStDclaGqzn34D65+nQrfD2u/5cczwPJ24XDtLm+nIakMCZ7OH7fxU6fkY+Ks4l8JpHJN7a1ct6gI2HFYTSv5RN5/83SHgFpbHuygSW6FA40uXDZ90oV2WmhGKbp2ayxn/OjJnp5IeM/DmVlWaOM7xvWVIROT8ZUYehyO8Z4vhpmhRJ0t/Vn9aOxhJSVUd3p0DLWFqJfEE7o3Yo0eIiSnJUhOSvD9Zwda6X6VAk+jwUSMICtHLZaa6iq9CFqws305HgeAN+epObQA2imTOy+3I/H2Zf1HaufCWO0kyIOOn317P3PMppts3fbr9RzIPs35N1bzMsdFjr+jvOnvyNyVxW6gK7dTz9NIcVLPDn+Wc+dteZGPeenfsq7iSF06Zx6haDL0jP+ZDblMr5vWFNplrHFYy3avCOYbJOBTNWvkLi7jdzkhTdv3/gnk51SjzangHrbiaX1yxx076ooTIlBbh50T3JWhuSsDJdzvlRC5l4DxuuPZvvJSNnup9DWJ5P3tAa51tc9k2Ej2bXGGxMx2lqOkL5OR9WCXHTBdunJ8XxLzIc3s+cvTbTbZt+2N5eTs2gFNQu38/zjdjm3lLJn/2m+b7cr99xSzi7eTkqw86PZQacvkCf/dyPZK6zj4Wa/mod5xmE+SY3ttAigmsiVhSz2d16534xcdjnqyDkqlxzutGeKVwi61/cQ7eQetRguAknNO4PuWh7hT1ifnxlb6cWatz9BO8G+nCchSyrRj69Bm+SOW/CDhH7QxqKte0iQY8QFkrMyJGdluJjz2LlEqfTokmxLtiQ+j/4OLVV73yF27KA1fsjwmT4XVeVygmxLtkxK0+MVX0ndqzGdxlPK8XwrvMMiGX1oFQtsS7ZEvFiKR0o5h3ZEdxyKNi6CMI/9rPq1F/7eD7Fg/VG8U4+zb+X0bvtcbhUVFZbxllkD/DXAbIhj2mdxfN4fY+guF7E0oZjIomKi7W4rmw1xTNuk72OlsWzrVN9AU89xw1Ir89cHmluwu+SsAMlZGZKzMiRnZbgFu3PB3HlhYNHf/L29sFgsDp69O4R5a4oxaga7FUIIIYQQtx+XZ+8KIYQQQoihS7Erff16Fe7+BHYdS+inyoQQQgghhj+3iooKy+zZswe7HUIIIYQQYoCcOXPGeqXPeMwy2G0ZkWQihzJkQLYyJGdlSM7KkJyVIRM5lOHv7cXkyZNlTJ8QQgghxEggnT4hhBBCiBFAOn1CCCGEECOAdPqEEEIIIUYA6fQJIYQQQowA0ukTQgghhBgBpNMnhBBCCDECDEqnz2yIQ51RhNnRm5eLWDonjtLL/bCj/qxLCCGEEGIIc9zp+7mV5gtllH6UzmsZoawzmJxW8P2ZbNateBj1HDemvTiPjYZG2geqtZ01ZqKek0mdUvsTA+vSfuKC3XHr8tpITYeCJorWOSrnTuaXg9T2oai1hrys+UyKcMcteDzzduyn8Sf7ApJzv+gxZ4A2Go+uZV78g7gFu/Nw0mKyv2gdjNYOXZKzolpPLMc32B23PTUO3pWc+6zlAMu8vfDv8tpMvcMPXKF+zyoWzXwIf28vwp5dx6G/tzmt3sGzd2vInR9Ktt2WyMccf/j7kzpm7YfXX2oga5wn7ZfLyH0jnJeoZptGfaNcXaEbcf/Z+dN6ps1JtPs5g+JjaQQ5bepAMFGa4cvKEz2XjFx/kV0an4Fv0ogXQ2HZhySM7blkbObXFEfIv0mftOwnMSmPMavfonrtJ6jcofVcAVVNEDCpY1HJ+Ra4mHN90SyiamPRv/01h1XWMtrl88ncUknaI56D1/6hQnJW1qUStO/6onsB0h28LTnfqmi2nv6ABeN6KtfEIW0Ye0dv5vWPtpJ/L/DtaQ7WfAX/MtXhJxx0+kLQHbOgA6CG3DmhnHX40XoO/GcxTy42EjnO+o/ocX8Uut8m8uv/yKf6sQxC77SWDEq0YLTr35kNcUz7LI7P0xPw7uk7KUA6dGJkMZKf9RxtK86TG3HzjzPVhGRiB7FVw4+LObeWkJejIqNkNSGqm2Uyluh5+J0iEnYko0Y4Jzkry0hR7lp8l1QQaHgFRnV6W3JWTPP7q1jVtpnjefH4Xd9471Semef8M30f09dYxjsXFhEZ1LHX7jEliie/zaTmXJ9rFkIMoLbaAtIvv0l6lJx6B5KrOZtOFZKvSSTcr+N2dXAs4dVl1LQMYCOHAclZWcaytaTe/w4Z071odXDHVnJWSPtx/ph1kfWr7Dp8Luhzp6/56zrMMyd13dmdaiY/BufNzscB9hezuQFo4NK3A74rIYaN+i8KMM0MIXCwGzLMuZqz0VgCEx/qevXDL4AQSjD+Y4AaOExIzgpqLkC3LwB9igZnN2klZ4V8eYqDlyL531N697E+d/rM3+jBT+3g9qwXuMN/fXPR6WebW6rhRAPNfd05AG38/asioIi6JueDFsVQU0JilHWygG/8fHQHDJiuOS6pT7MOEnaLmMK8rJ1UycnEBUaMX5mIVftgNHQcaJ1ZbXT4Ccm5L1zN2YSxCWLHOR5e4gU0fDPwf0APXZKzYn6uJ/PVnQT+3zRCOt/SvUFy7h+lrJpqncAxY2YMG/Ycx/zPjiWa/7se84IA7m8uZdNzgczw9sJ/Whjrs8tp/qfjWuFWl2xxMCLwOvM1Jx2xn6swfByE5lf5GE4766zpWZnghnqOm/PZuVfKOPTHcF54IoqPvqhWbsawGDhjF1Jcew2L7WXcmorvqecI1O7sNGvJh4Ssm+UsJR+T+kAZiQmzyJNhBT0wYTRA6+G1rGmKIv/9r7HUXqNufQgNf3icxEr7E7Lk3He9yRlw93JaU5uTP3oESM5KaaNm73KKp79F+r+5MBFDcu67cfHsNF/lgu31p8IVeB//HU88vZsGu2KXm0vh+w/YtOFvhP1HDSfNV7lQvp3A/17C0ytKHS+JxwCu0zfZy/GB0VyZzYHfpLIteQ2Gj/VOrvbFsq3IgvGYBaOTGb1nP93CgQgtqS9omXssm49knMCw4zlOQ1rGPhKNy8k/0c10/1FqwpM+pHBeIzr9EWRhgJ5VjYojL0mDj22ylWpCMhnaQIoKipwsC4Dk3Ad9yrkTXyfnUnGT5Dyw2r7MIfWzKPJeCHF6W9dVknPvePiFoX37PaLPreLg0Ssd3zzuQeQbLxFim0zLvVN5Zs0GJh/cROkZx/X1udPn4RUIX1902pv0G+PbdeM3RWQfVPF6TDij/bW8/EA62QbHt5S61ZJP9u4xZC2MZfQ9UaT8XkXePr3TtvSkfJOv7apiNy9ni0mLgTUqgKBAKL7Q03HiyaSJIWCopw9H1AjiiecECJ8+g843YNTqUDhX18OYG8nZNa7m7IlKBdUtzofD+I5RDWRDhzjJeeCZ0Be+Qs2XrxA60369zgdJrAR2P263dqfkPCDuCmDyDChvbLqxyeOuqRAWSWDnZV3UAQRxmrP//Y3Dqvrc6Rv/UDjUNXKpyztGzp8IJOh/dfpf8GoNuRtTITmbyPsBPAl9rpDxHyWSe6YX1wx+qCF3czqj1+cSb/uyfpoMUllDZmVvfw35EJ1+/Yqi7bU9A+uagZ223ybLy4xUvh4uFrxP/orsnpqAR6HB0bQ7AMbgeacL1UjOPXA1ZxUBEzWYjE10GenU0kQdywh8aEAbOsRJzgOv0zCPG6+vKZwFLPkLltprpD0CkvPA8rY77f5SHQIN3/D/nJS9x8PxObrvV/omhPMCxVRf6Li9/fRhDvgnEup/c9v3TUW8ti4UwzQ9m2fadQa9QtC9rON8RhDrjjbyfU87vVJFdpqtHo393CA10csLGf9xKCvLFHwiiBh4rTVUVfoQNSGgp4JUnyrB57FAeio5sqkInZ6MqcLQ5baX8Xw1zAol6O7uPi85u8b1nNWPxhJSVkZ1p36LsbYQ/YJwQrv99xjpJOfbjeQ8AL49Sc2hB9BMmXhj0+hfhfHMpRKqO9/GNTZSRzRBj9zjsKq+j+n7RRQpKWo27kjHcNk6IaO9Rc/Ggipe+Hctk+2KXvmfKq78nzqKEkPocsHmgQS2bc/F4696zl/tfpfNjXrOT/2Udx3V4xWCLkvP+JPZlMv4viHJZNhIdq3xxkDftpYjpK/TUbUgF12w3V8tl0rI3GvAeP0RSz8ZKdv9FNr6ZPKedr6UgLBSaZaxxWMt2rwjmH62bjNVv0Li7jZykxfevE0mOd8Sl3P2TyY7pR5tTgH1tl+UrV/moHtXRWFKDHIzrHuS821Gcr4l5sOb2fOXJtptM3Dbm8vJWbSCmoXbef5xu7PuvdE8/4Ynm9Zu4HiLbVLspXJylm2gfdN6p0/zcNDpM1GacX0sm/VxbPZj3nIbb5b0m1VIxZNtvP+yGvUcN2bnVeG/uAxdQMdfB34z97AtNrBrR+26B6L4Q3oaQc4n/FjrmZHLruRwRjsr4BWC7vU9RPf46BJxO/KZPhdV5XKCbEu2TErT4xVfSd2rMR3H64ydS5RKjy7JtpRI4vPo79BStfcdYl14fJsIJDXvDLpreYQ/YX1OaWylF2ve/gTtBLtikvMtcjFnPAlZUol+fA3aJOtYqdAP2li0dQ8Jci5zgeR8e5Gcb4V3WCSjD61igW3JlogXS/FIKefQjuguQ8wmLSnn6OI23n/2X63P3f1tKR66cvJTHD+CDcCtoqLCMt4ya2C/RW9cLmJpQjGRRcVE3z8wdZkNcUzbpO9jpbFs64+2Aeo5blhqZf76QHMLdpecFSA5K0NyVobkrAy3YHcumHu4zSdumb+3FxaLpbuV9oYvb00xRs1gt0IIIYQQQjkDtk6fEEIIIYS4fdx+V/ruT2DXsYTbry4hhBBCiCFMrvQJIYQQQowAbhUVFZbZs2cPdjuEEEIIIcQAOXPmjPX2rvGYZbDbMiLJ7F1lyCw8ZUjOypCclSE5K0Nm7yrD39uLyZMny+1dIYQQQoiRQDp9QgghhBAjgHT6hBBCCCFGAOn0CSGEEEKMANLpE0IIIYQYAaTTJ4QQQggxAkinTwghhBBiBOiXTl9doRvqwpr+qEoIIYQQQgwAx52+xkzUc9y6f2UUYXZ1L67UN8cN9Zw4Si/323cTg621BrLmQ4Q7BI+HHfvhp05lfmqEHXZlXs+B1p4qNsE6dwh28PpygL7L7azHnFvh6FqIf9CaUcx8OODKH2mSMwCX9hMX7I5bl9dGuqTYWkNe1nwmRbjjFjye0Nc3UtbS0w5MFK1zVL87mZKz45yhS9bzduynsfP5pQPJGehdzj81UrTD/njOocaF87PkDLQcYJm3F/5dXpup77GM7fX0ezR3t48f/8bR7KU8Nc1aPuzZVRz84kq3zbrD4daANIzH0vryNR1zpb7LRSxNKO6/fYrB1bIfkvJg9Vuw9hNwB84VQBMw6XqhetDOh9kfQtknQCsc0sGqjZD3MozqYR+ZX0OEz0B+i9ufKzk3FMGdyVD0pvX9S0fgpcfhp1pICux5H5IzEENh2YckjO2mSOsRdPEpfLfkE6rXfoLKvZXGEh3hSc+R9/4+Yrv7LBCb+TXFknPPOQO07CcxKY8xq9+yZQ2t5wqoaoKASd1/VHIG13KuJ1s7n6rZH1Jd9gkqWqk/pCNq1Ub0eS8T0sP5WXIGiGbr6Q9YMM7J2+Pi2WmOd/BGEwefDeBodBh+zqpuP03eUzMwPF7Crj/vwtujDfOnWSydHY25ohztv3k6/Fi3t3fNhriOt20vF7F0Tjp119+zXaGL+8/uahEjjxGynoMV70NEoLWjATAh2a7DBxh2wt1vQEKItYy7CmLegLtfgUrjILR7qHEx50nLQBNw8/2xc2HJasgrgp8VbvIwZjRkk/foFjJiAlG5A6gIiHmDjPH7Kaw3DXbzhhEj+VnP0bbifXIjrmcNqgnJxPbQ4ROuazXsZM3db5CbEGLN2F1FYMwbZNz9Chlyfh5YZ0p5/9Pf8UzEQ06LmA9vIueeXWxNi8TbA8AT799sYGvOGHLeKnV6J7bnMX3ffsf3HTZ4AeCtKcZ4zILxmIXi37r4RcTIUFsAl9+EKHU3hUxwtAAiNZ22q0GjgT+fHMgWDg8u5ezEqDHARfh//d6qEau1tRHcr58hr/PC6+5BatAw1VZbQPrlN0nvy3EvXGSi7GgBsZEaOqasJlyjoezPJ5Fu30Bpo6Z0K+aV8YTd66zMFc6eLIVfBXS5EugXGMakQyc56+Qub8+dviuttF//b7ORctda3UeeeMh84qHviwKYGdJDISNUAn4OTtzqEDDIKaVHLuXsxGUjhIbDff3bpJEs4JFkfOqrqbMf89RioLhyLlGTRvptrv5T/0UBppkhuDAwQfSZkYZKCHJwflbbzs9y7XqAfHuUQ9t8SIkOw8NpoTbaf3Ty1r0++FHCWSe/QvvcxRqY27uTGOu0ZyuGBiN8ZQK1DxjsJg8kLYZqu6PwUhMQ47jT4e4FNMA/ethVmq3uiCmQtbPn8sOKizl3dq0NajfCbmBdsmu7GtE5X1dCYpR1MLpv/Hx0BwyYrnUs4Rmchv7ZRnTrXqHsH220XtiPLu0VxmS9xSKnA3Nu0qc9aB3wHjGFeVk7qZKcHeRsxPiViVi1D0bDWubFWzN7OGkxmd0d93YkZ+gx50tNNBKDupvz88UecpOcAUpZNdU6yWLGzBg27DmO+Z/df+L7mnIO/mYJEVO6K/UAfo9Mhb82dpno0X6unjq+ASf76bbT5+0T1HXjTDV+DMDt3QG/iiiUYQIDcHgtNEXB+19D7TVYHwJ/eBwqO/196HgqEdAG15y95wNZ16z11l6Dko/hgTJImAXn+u2L3OZ6mfPRp6wdt+l3QZYRXnsDnA0uvkFyBmDsQoprr2GxvYxbU/E99RyB2p03Z+EB4ElI0ocUh9YzL+IuxsRn8l3Mx+TO6uk2pA8JWTfrt5R8TOoDZSQmzCJPcu6UswmjAVoPr2VNUxT573+NpfYadetDaPjD4yR2Pu47kJyBXhzPdHt+buvm/Cw5Y5ukcZULttefClfgffx3PPH0bhqcfqiJ8vff45nnY5xP4LCZ9Px2Vl/ZwPqscsy227Hfn3mPDX9swkHP7QaHnb66QtsSKivS4UQi0+Y4/jmxrLu/rGrIdWmZFru6SSfu+s+y7t/QNioOkjRwp+3nCcmgDYSCIhcr8O08OKqbfakh6UOY1wj6I31o7BDmas4RH9o6bz/CjgTY+zi8ur+X+xrBOdvxHKchLWMficbl5J+wu5f7Uw2ZSyaj/SaRusofuVr2FkHVT6BenUN9t0uJdDJKTXjShxTOa0SnP9LzCkbDlNOcgapRceQlafCxHfeqCclkaAMpKijq2nFxRnIGus/ZOV9UvTg/S87g4ReG9u33iD63ioNHnQy4s03gCAu5p+cK75qOtvAAYS1ZPP1LL/y9A1hV7MWilTFAGN5Ohu447PQFJVpuXMXr7lXY7UDaEHQOPvP5+lj4bfXNbUWFRBLLtqJOZRP7OFZJDDJPmABMn9H1LXUonKuz3h70UgE14HRdRl/o1QB4T5gYAgaXT/lDnIs5O/rcOA28/g6ceg5cPsnbfX5E5ezEqACCAqH4wvU/fFsp2/EUuZP2UbV2IYEqTzzHakjNqiD7F9lEvWugrVc78GSSLecRPbq1S86eeE6A8Okz6DxKUm077o29uo0oOQNdc/ZS4UsNxm7Oz2N6eX6WnIG7Apg8A8obmxy86coEjk7unU7KjuMcN1/lgrmR/NfiGd9uopmp+Dm5k9Mv0yaCEqWTJq5Tw6NAq7POxBjrVam7/xWmm6DFwe2Y5jp4qo/DtO9zvDbR8ONizs7cGQCBwNXedUVuGDE5d8/3xkjrRuo/NLFopoaOyaiJnZeA6d0a169A2ZOcAfuc1QQ8Cg3dHPee3R33zkjOgF3Od/8rgdNNNDg4Pxtt5+eAvuxAcgbA21EMLk3g6FlzfTkNSWFMdlKJS52+71vKOPBOCokrHra7JevL7LW/YV1hEXXf3kILxTCjgunJUGHo+tb5apgVaruCp7bOPK3ufBvfCOUlML23f0S0wqkSeGykzOlzNWcnfm6Eeh+4T9XL/Y60nJ1oraGq0oeoCdd/9XnCfWD6rmtnpO2nVpjgSe9+3bVSfaoEn8f6+Mt1uOiSs4rQ6cmYKgxdOtFG23Ef1KsrUJIz4CBnNaEzQyiqrul0O9ZIVXkJi6aH0Lszh+QMwLcnqTn0AJopE7u8ZT6+34UJHD348Tj7sr5j9TNhjHZSpMdOX/OJFOavzubC/1pEVmaD3S3Yi3zy2h6eub+O7GUPs+6E84u2ZkNc7x7bJoY2zTLwWAt5R24u/lv9Cuxug+SFN8s98Sb8TQcl9dZJG9daoWg5qPaBxu6UUvkcxCy/+Xi2SyWw13DzUWM/GWH3U1CfDE93XvdvGHMpZxPsyYEmu1N3az1kLYbpWyDYrisiOTtkMmwku9Z4Y+B6W8sR0tfpqFqQi+5GfoEkaGM4nKUj/1yr7VZuG63nCtBmlZGQnHBjiRFT5XP4xiynzC7nzL0GjHY5l+1+Cm19MnlPd75yOHy5ljOoNMvY4rEWbd4RTLbj3lT9Com728hNXnjjtq/k7JirOQc88SZpf9OhLamn1XZ+rilaTqZqH2l252fJ2THz4c3s+UsT7bZZtO3N5eQsWkHNwu08/3jnFJowHCztdgKH+dDvmDFtFcevX2RrKWXP/tN8325X/3NLObt4OynBzlPuodNXQ+nOfDSph3k5IgS/X3SsyOMXaoIitrBreTgHdhZxtvvKxIgRCHln4FoePGF7HmylF7z9iXUc2nWjQmDnh/DlcpjuDlGPw0+LYN1CpzUD1idKqPSQZFtKJPF5uEMLe9+Bnh7fNKy4krMPzFLD3vm25+Y+COt2wq8/htclZ1f4TJ+LqnI5QbYlLial6fGKr6Tu1ZgO48rUC/ZRtW4SNZuC8Qp2xy14ClEFjYRvPUvhrG7W6Rs7lyiVHl2SbYmLxOfR36Glau87PT66bThxNWcIJDXvDLpreYQ/YX0mbGylF2ve/gTtBCeVg+Rs43LOo0LI2PkhQV8uJ2i6O25Rj5P70yIOr1tIt/PRJWcAvMMiGX1oFQtsS7ZEvFiKR0o5h3ZE49258JlS3v/yJRbMcmECx3XjIgjz2M+qX3vh7/0QC9YfxTv1OPtWTu/29rBbRUWFZbxllpO3a8h9NhRz6lX+8CvnPcfvP0th6ltqPvkgjckO3jcb4pj2WRyfpyd0/bIjmHqOG5Zap/PeRT9xC3aXnBUgOStDclaG5KwMt2B3LpivDnYzhj1/by8sFktPV/pCiF62CEP2PDYeraH5h46Dvtt/MFJ3dA1L36oiflmCww6fEEIIIYQYfE6XXrzOb+YeKiZV8VFJPusqq/n76Ubb2Dwfxk8NJXRaHKk7txDU0xTjE4lMm5PYY4Mi119kl0YeWSSEEEII0Z967PQBeNwfTvzicOL7uBNvTTHGkTPuWwghhBDituNWUVFhmT179mC3QwghhBBCDJAzZ87w/wF8mP4dzWTzyQAAAABJRU5ErkJggg==)  \n",
        "\n",
        "\n",
        "-> 결론적으로 skin detection을 통하여 추출한 피부 픽셀들의 평균으로 확인하였을 때는 k가 15일 때 85%의 정확도까지 나왔으며 일반적으로 45%~85%사이의 값이 나온다.\n",
        "- 다른 평가지표와도 비교할 필요가 있다."
      ],
      "metadata": {
        "id": "dFDq7BwO26um"
      },
      "id": "dFDq7BwO26um"
    },
    {
      "cell_type": "markdown",
      "source": [
        "# 4. 퍼스널 컬러 분류: Face_Recognition + KNN"
      ],
      "metadata": {
        "id": "EPz6CCZx0XMW"
      },
      "id": "EPz6CCZx0XMW"
    },
    {
      "cell_type": "markdown",
      "source": [
        "## (1) 라이브러리 및 데이터 불러오기"
      ],
      "metadata": {
        "id": "6X0MOKutYPIY"
      },
      "id": "6X0MOKutYPIY"
    },
    {
      "cell_type": "code",
      "source": [
        "import tensorflow as tf\n",
        "import numpy as np\n",
        "import cv2\n",
        "import os\n",
        "import glob\n",
        "from PIL import Image"
      ],
      "metadata": {
        "id": "RsNxok63RBrf"
      },
      "id": "RsNxok63RBrf",
      "execution_count": 118,
      "outputs": []
    },
    {
      "cell_type": "code",
      "source": [
        "def load_images_from_directory(directory_path):\n",
        "    image_paths = glob.glob(directory_path + '/*.jpg')  # 디렉토리 내의 모든 jpg 파일 경로 찾기\n",
        "    image_paths.extend(glob.glob(directory_path + '/*.jpeg'))  # 디렉토리 내의 모든 jpeg 파일 경로 추가\n",
        "\n",
        "    images = []\n",
        "    for image_path in image_paths:\n",
        "        image = Image.open(image_path)\n",
        "        image_np = np.array(image)\n",
        "        images.append(image_np)\n",
        "\n",
        "    return images"
      ],
      "metadata": {
        "id": "TST-4pxWVql5"
      },
      "id": "TST-4pxWVql5",
      "execution_count": 119,
      "outputs": []
    },
    {
      "cell_type": "code",
      "source": [
        "from google.colab import drive\n",
        "drive.mount('/content/drive')"
      ],
      "metadata": {
        "colab": {
          "base_uri": "https://localhost:8080/"
        },
        "id": "rvak_ojDVrIG",
        "outputId": "24511aa0-61a3-42ca-cf77-fe9fb07759ae"
      },
      "id": "rvak_ojDVrIG",
      "execution_count": 120,
      "outputs": [
        {
          "output_type": "stream",
          "name": "stdout",
          "text": [
            "Drive already mounted at /content/drive; to attempt to forcibly remount, call drive.mount(\"/content/drive\", force_remount=True).\n"
          ]
        }
      ]
    },
    {
      "cell_type": "code",
      "source": [
        "# 모든 이미지 불러오기\n",
        "directory_path = \"/content/drive/MyDrive/four_seasons/사계절_연예인 이미지 데이터셋/prototype/cropped_face/쿨톤\"  # 디렉토리 경로\n",
        "directory_path2 = \"/content/drive/MyDrive/four_seasons/사계절_연예인 이미지 데이터셋/prototype/cropped_face/웜톤\"  # 디렉토리 경로\n",
        "images = load_images_from_directory(directory_path)\n",
        "images2 = load_images_from_directory(directory_path2)\n",
        "\n",
        "length = len(images)\n",
        "print(length)\n",
        "print(len(images2))\n",
        "\n",
        "# 이미지 리스트 합치기\n",
        "images = np.concatenate((images, images2), axis=0)\n",
        "print(len(images))"
      ],
      "metadata": {
        "colab": {
          "base_uri": "https://localhost:8080/"
        },
        "id": "Cuu0icbxVrLT",
        "outputId": "8ae6c696-b580-446b-cbb0-aa30c5ec3171"
      },
      "id": "Cuu0icbxVrLT",
      "execution_count": 121,
      "outputs": [
        {
          "output_type": "stream",
          "name": "stdout",
          "text": [
            "50\n",
            "50\n",
            "100\n"
          ]
        },
        {
          "output_type": "stream",
          "name": "stderr",
          "text": [
            "<__array_function__ internals>:180: VisibleDeprecationWarning: Creating an ndarray from ragged nested sequences (which is a list-or-tuple of lists-or-tuples-or ndarrays with different lengths or shapes) is deprecated. If you meant to do this, you must specify 'dtype=object' when creating the ndarray.\n"
          ]
        }
      ]
    },
    {
      "cell_type": "markdown",
      "source": [
        "## (2) 데이터 전처리"
      ],
      "metadata": {
        "id": "YhciLnxgYTK7"
      },
      "id": "YhciLnxgYTK7"
    },
    {
      "cell_type": "code",
      "source": [
        "# 새로운 크기로 리사이즈할 이미지의 너비와 높이\n",
        "new_width = 200\n",
        "new_height = 200\n",
        "\n",
        "resized_images = []\n",
        "for image in images:\n",
        "    resized_image = cv2.resize(image, (new_width, new_height))\n",
        "    resized_images.append(resized_image)\n",
        "\n",
        "# resized_images 리스트를 NumPy 배열로 변환\n",
        "resized_images_array = np.array(resized_images)\n",
        "\n",
        "# 변환된 NumPy 배열 출력\n",
        "print(resized_images_array.shape)"
      ],
      "metadata": {
        "colab": {
          "base_uri": "https://localhost:8080/"
        },
        "id": "AR-3JYmYVrNq",
        "outputId": "2719aa27-ba0c-4f3e-8c36-9d60c7b7770b"
      },
      "id": "AR-3JYmYVrNq",
      "execution_count": 122,
      "outputs": [
        {
          "output_type": "stream",
          "name": "stdout",
          "text": [
            "(100, 200, 200, 3)\n"
          ]
        }
      ]
    },
    {
      "cell_type": "code",
      "source": [
        "# 평탄화 작업\n",
        "images = resized_images_array.reshape(resized_images_array.shape[0], 200 * 200 * 3)"
      ],
      "metadata": {
        "id": "1kIYqY2dVrP3"
      },
      "id": "1kIYqY2dVrP3",
      "execution_count": 123,
      "outputs": []
    },
    {
      "cell_type": "code",
      "source": [
        "# labels에 대한 코드\n",
        "num = len(images)\n",
        "labels = np.zeros(num)\n",
        "\n",
        "# 처음 50개의 요소를 1로 변경\n",
        "# 0이 쿨톤 1이 웜톤\n",
        "labels[length:] = 1\n",
        "\n",
        "# 0이 쿨톤 1이 웜톤\n",
        "print(len(images))\n",
        "print(labels.shape)\n",
        "print(labels)"
      ],
      "metadata": {
        "colab": {
          "base_uri": "https://localhost:8080/"
        },
        "id": "O3hcY7n9VrSc",
        "outputId": "16014d89-f2a8-4b6d-bc49-aed7eea7fdc9"
      },
      "id": "O3hcY7n9VrSc",
      "execution_count": 124,
      "outputs": [
        {
          "output_type": "stream",
          "name": "stdout",
          "text": [
            "100\n",
            "(100,)\n",
            "[0. 0. 0. 0. 0. 0. 0. 0. 0. 0. 0. 0. 0. 0. 0. 0. 0. 0. 0. 0. 0. 0. 0. 0.\n",
            " 0. 0. 0. 0. 0. 0. 0. 0. 0. 0. 0. 0. 0. 0. 0. 0. 0. 0. 0. 0. 0. 0. 0. 0.\n",
            " 0. 0. 1. 1. 1. 1. 1. 1. 1. 1. 1. 1. 1. 1. 1. 1. 1. 1. 1. 1. 1. 1. 1. 1.\n",
            " 1. 1. 1. 1. 1. 1. 1. 1. 1. 1. 1. 1. 1. 1. 1. 1. 1. 1. 1. 1. 1. 1. 1. 1.\n",
            " 1. 1. 1. 1.]\n"
          ]
        }
      ]
    },
    {
      "cell_type": "markdown",
      "source": [
        "## (3) train, validation, test 분리하기"
      ],
      "metadata": {
        "id": "9iOsbgdLYWSb"
      },
      "id": "9iOsbgdLYWSb"
    },
    {
      "cell_type": "code",
      "source": [
        "def split_data(data, labels, train_ratio, val_ratio):\n",
        "    # 데이터 개수 확인\n",
        "    num_examples = len(data)\n",
        "    num_lables = len(labels)\n",
        "    print(\"총 데이터 갯수: \", len(data))\n",
        "    print(\"총 라벨 갯수: \", len(labels))\n",
        "\n",
        "    # 인덱스를 섞은 배열 생성\n",
        "    shuffled_indices = np.random.permutation(num)\n",
        "\n",
        "    # 훈련 세트, 검증 세트, 테스트 세트 크기 계산\n",
        "    train_size = int(num_examples * train_ratio)\n",
        "    val_size = int(num_examples * val_ratio)\n",
        "    test_size = num_examples - train_size - val_size\n",
        "\n",
        "    # 데이터와 레이블을 분할하여 저장할 변수 초기화\n",
        "    train_data = np.zeros((train_size, *data.shape[1:]))\n",
        "    train_labels = np.zeros((train_size, *labels.shape[1:]))\n",
        "    val_data = np.zeros((val_size, *data.shape[1:]))\n",
        "    val_labels = np.zeros((val_size, *labels.shape[1:]))\n",
        "    test_data = np.zeros((test_size, *data.shape[1:]))\n",
        "    test_labels = np.zeros((test_size, *labels.shape[1:]))\n",
        "\n",
        "    # 데이터와 레이블을 섞은 인덱스를 기반으로 분할\n",
        "    train_indices = shuffled_indices[:train_size]\n",
        "    val_indices = shuffled_indices[train_size:train_size+val_size]\n",
        "    test_indices = shuffled_indices[train_size+val_size:]\n",
        "\n",
        "    train_data = data[train_indices]\n",
        "    train_labels = labels[train_indices]\n",
        "    val_data = data[val_indices]\n",
        "    val_labels = labels[val_indices]\n",
        "    test_data = data[test_indices]\n",
        "    test_labels = labels[test_indices]\n",
        "\n",
        "    return train_data, train_labels, val_data, val_labels, test_data, test_labels"
      ],
      "metadata": {
        "id": "uu2Cj6fJVrUq"
      },
      "id": "uu2Cj6fJVrUq",
      "execution_count": 125,
      "outputs": []
    },
    {
      "cell_type": "code",
      "source": [
        "train_ratio = 0.7  # 훈련 세트 비율\n",
        "val_ratio = 0.2    # 검증 세트 비율\n",
        "train_data, train_labels, val_data, val_labels, test_data, test_labels = split_data(images, labels, train_ratio, val_ratio)\n",
        "print(\"train: \", train_data.shape)\n",
        "print(\"val: \", val_data.shape)\n",
        "print(\"test: \", test_data.shape)"
      ],
      "metadata": {
        "colab": {
          "base_uri": "https://localhost:8080/"
        },
        "id": "bL-3p4XvVrYR",
        "outputId": "4e4cd6ee-3797-44b6-bb52-73806a35af11"
      },
      "id": "bL-3p4XvVrYR",
      "execution_count": 157,
      "outputs": [
        {
          "output_type": "stream",
          "name": "stdout",
          "text": [
            "총 데이터 갯수:  100\n",
            "총 라벨 갯수:  100\n",
            "train:  (70, 120000)\n",
            "val:  (20, 120000)\n",
            "test:  (10, 120000)\n"
          ]
        }
      ]
    },
    {
      "cell_type": "markdown",
      "source": [
        "# (4) KNN"
      ],
      "metadata": {
        "id": "ndQInt6lYaUB"
      },
      "id": "ndQInt6lYaUB"
    },
    {
      "cell_type": "code",
      "source": [
        "class NearestNeighbor(object):\n",
        "    def __init__(self):\n",
        "        pass\n",
        "\n",
        "    def train(self, X, y):\n",
        "        \"\"\" X is N x D where each row is an example. Y is 1-dimension of size N \"\"\"\n",
        "        # nearest neighbor 분류기는 단순히 모든 학습 데이터를 기억해둔다.\n",
        "        self.Xtr = X\n",
        "        self.ytr = y\n",
        "\n",
        "    def predict(self, X, k):\n",
        "        \"\"\" X is N x D where each row is an example we wish to predict label for \"\"\"\n",
        "        num_test = X.shape[0]\n",
        "        # 출력 type과 입력 type이 갖게 되도록 확인해준다.\n",
        "        Ypred = np.zeros(num_test, dtype = self.ytr.dtype)\n",
        "\n",
        "    # loop over all test rows\n",
        "        for i in range(num_test):\n",
        "        # i번째 테스트 이미지와 가장 가까운 학습 이미지를\n",
        "            # L1 거리(절대값 차의 총합)를 이용하여 찾는다.\n",
        "            #distances = np.sum(np.abs(self.Xtr - X[i,:]), axis = 1)\n",
        "            # L2 거리(직선 거리)를 이용하여 찾는다.\n",
        "            distances = np.sqrt(np.sum(np.square(self.Xtr - X[i,:]), axis = 1))\n",
        "\n",
        "            indices = np.argsort(distances)  # 거리가 작은 순서대로 인덱스 정렬\n",
        "            k_nearest_labels = self.ytr[indices[:k]]  # k개의 가장 가까운 이웃의 라벨\n",
        "            unique, counts = np.unique(k_nearest_labels, return_counts=True)\n",
        "            Ypred[i] = unique[np.argmax(counts)]  # 가장 많은 투표를 받은 라벨로 예측\n",
        "        return Ypred"
      ],
      "metadata": {
        "id": "aKL-9j7RVrkX"
      },
      "id": "aKL-9j7RVrkX",
      "execution_count": 127,
      "outputs": []
    },
    {
      "cell_type": "code",
      "source": [
        "# 검증 셋에서 가장 잘 동작하는 hyperparameter 들을 찾는다.\n",
        "validation_accuracies = []\n",
        "for k in [10, 15, 20, 25, 30]:\n",
        "\n",
        "    # 특정 k 값을 정해서 검증 데이터에 대해 평가할 때 사용한다.\n",
        "    nn = NearestNeighbor()\n",
        "    nn.train(train_data, train_labels)\n",
        "    # 여기서는 k를 input으로 받을 수 있도록 변형된 NearestNeighbor 클래스가 있다고 가정하자.\n",
        "    Yval_predict = nn.predict(val_data, k = k)\n",
        "    acc = np.mean(Yval_predict == val_labels)\n",
        "    print('accuracy: %f' % (acc,))\n",
        "\n",
        "    # 검증 셋에 대한 정확도를 저장해 놓는다.\n",
        "    validation_accuracies.append((k, acc))"
      ],
      "metadata": {
        "colab": {
          "base_uri": "https://localhost:8080/"
        },
        "id": "uIB2aZR0Vrn2",
        "outputId": "ca1e7251-8c79-4c26-ab75-39a03f0d8796"
      },
      "id": "uIB2aZR0Vrn2",
      "execution_count": 158,
      "outputs": [
        {
          "output_type": "stream",
          "name": "stdout",
          "text": [
            "accuracy: 0.450000\n",
            "accuracy: 0.450000\n",
            "accuracy: 0.400000\n",
            "accuracy: 0.450000\n",
            "accuracy: 0.450000\n"
          ]
        }
      ]
    },
    {
      "cell_type": "markdown",
      "source": [
        "## (5) 평가하기"
      ],
      "metadata": {
        "id": "aHQIW6JsYdh-"
      },
      "id": "aHQIW6JsYdh-"
    },
    {
      "cell_type": "code",
      "source": [
        "print(validation_accuracies)"
      ],
      "metadata": {
        "colab": {
          "base_uri": "https://localhost:8080/"
        },
        "id": "yE1tPssFWLEj",
        "outputId": "48913a6c-c28f-4699-ec72-e943ca01f62e"
      },
      "id": "yE1tPssFWLEj",
      "execution_count": 152,
      "outputs": [
        {
          "output_type": "stream",
          "name": "stdout",
          "text": [
            "[(10, 0.55), (15, 0.7), (20, 0.55), (25, 0.55), (30, 0.65)]\n"
          ]
        }
      ]
    },
    {
      "cell_type": "code",
      "source": [
        "Ytest_predict = nn.predict(test_data, k = 15)\n",
        "print(Ytest_predict)\n",
        "print(test_labels)"
      ],
      "metadata": {
        "colab": {
          "base_uri": "https://localhost:8080/"
        },
        "id": "xvTUdn_LWLJF",
        "outputId": "97915e44-ecd2-40c6-c8f0-c10cecee1b9b"
      },
      "id": "xvTUdn_LWLJF",
      "execution_count": 160,
      "outputs": [
        {
          "output_type": "stream",
          "name": "stdout",
          "text": [
            "[1. 1. 0. 0. 1. 1. 1. 1. 0. 1.]\n",
            "[0. 0. 1. 0. 0. 1. 0. 1. 0. 0.]\n"
          ]
        }
      ]
    },
    {
      "cell_type": "code",
      "source": [
        "acc = np.mean(Ytest_predict == test_labels)\n",
        "print(Ytest_predict == test_labels)\n",
        "print('accuracy: %f' % (acc,))"
      ],
      "metadata": {
        "colab": {
          "base_uri": "https://localhost:8080/"
        },
        "id": "61HAo0WAWLRS",
        "outputId": "d7195e13-3b2a-4bcb-cbda-a5d442464867"
      },
      "id": "61HAo0WAWLRS",
      "execution_count": 155,
      "outputs": [
        {
          "output_type": "stream",
          "name": "stdout",
          "text": [
            "[ True False False  True  True False  True  True False False]\n",
            "accuracy: 0.500000\n"
          ]
        }
      ]
    },
    {
      "cell_type": "markdown",
      "source": [
        "![image.png](data:image/png;base64,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)\n",
        "\n",
        "-> face_recognition을 이용하여 얼굴 영역만 추출한 사진으로 KNN을 실행하였을 때 최고로 10차 시도에서 70%까지 나왔으며 일반적으로 40%~65%정도 나온다.\n",
        "- 다른 평가지표와도 비교할 필요성 있음"
      ],
      "metadata": {
        "id": "x62pxVYNYqYz"
      },
      "id": "x62pxVYNYqYz"
    },
    {
      "cell_type": "markdown",
      "source": [
        "# 5. Gradio에 KNN 결합하기"
      ],
      "metadata": {
        "id": "AiJI_cl0bbmk"
      },
      "id": "AiJI_cl0bbmk"
    },
    {
      "cell_type": "code",
      "source": [
        "!pip3 install gradio"
      ],
      "metadata": {
        "colab": {
          "base_uri": "https://localhost:8080/"
        },
        "id": "DEupmeYIbh4d",
        "outputId": "a71cbcfb-29af-4e30-bd08-ab920262c875"
      },
      "id": "DEupmeYIbh4d",
      "execution_count": 156,
      "outputs": [
        {
          "output_type": "stream",
          "name": "stdout",
          "text": [
            "Collecting gradio\n",
            "  Downloading gradio-3.36.1-py3-none-any.whl (19.8 MB)\n",
            "\u001b[2K     \u001b[90m━━━━━━━━━━━━━━━━━━━━━━━━━━━━━━━━━━━━━━━━\u001b[0m \u001b[32m19.8/19.8 MB\u001b[0m \u001b[31m39.7 MB/s\u001b[0m eta \u001b[36m0:00:00\u001b[0m\n",
            "\u001b[?25hCollecting aiofiles (from gradio)\n",
            "  Downloading aiofiles-23.1.0-py3-none-any.whl (14 kB)\n",
            "Requirement already satisfied: aiohttp in /usr/local/lib/python3.10/dist-packages (from gradio) (3.8.4)\n",
            "Requirement already satisfied: altair>=4.2.0 in /usr/local/lib/python3.10/dist-packages (from gradio) (4.2.2)\n",
            "Collecting fastapi (from gradio)\n",
            "  Downloading fastapi-0.100.0-py3-none-any.whl (65 kB)\n",
            "\u001b[2K     \u001b[90m━━━━━━━━━━━━━━━━━━━━━━━━━━━━━━━━━━━━━━━━\u001b[0m \u001b[32m65.7/65.7 kB\u001b[0m \u001b[31m6.9 MB/s\u001b[0m eta \u001b[36m0:00:00\u001b[0m\n",
            "\u001b[?25hCollecting ffmpy (from gradio)\n",
            "  Downloading ffmpy-0.3.0.tar.gz (4.8 kB)\n",
            "  Preparing metadata (setup.py) ... \u001b[?25l\u001b[?25hdone\n",
            "Collecting gradio-client>=0.2.7 (from gradio)\n",
            "  Downloading gradio_client-0.2.9-py3-none-any.whl (288 kB)\n",
            "\u001b[2K     \u001b[90m━━━━━━━━━━━━━━━━━━━━━━━━━━━━━━━━━━━━━━\u001b[0m \u001b[32m288.8/288.8 kB\u001b[0m \u001b[31m27.4 MB/s\u001b[0m eta \u001b[36m0:00:00\u001b[0m\n",
            "\u001b[?25hCollecting httpx (from gradio)\n",
            "  Downloading httpx-0.24.1-py3-none-any.whl (75 kB)\n",
            "\u001b[2K     \u001b[90m━━━━━━━━━━━━━━━━━━━━━━━━━━━━━━━━━━━━━━━━\u001b[0m \u001b[32m75.4/75.4 kB\u001b[0m \u001b[31m8.0 MB/s\u001b[0m eta \u001b[36m0:00:00\u001b[0m\n",
            "\u001b[?25hCollecting huggingface-hub>=0.14.0 (from gradio)\n",
            "  Downloading huggingface_hub-0.16.4-py3-none-any.whl (268 kB)\n",
            "\u001b[2K     \u001b[90m━━━━━━━━━━━━━━━━━━━━━━━━━━━━━━━━━━━━━━\u001b[0m \u001b[32m268.8/268.8 kB\u001b[0m \u001b[31m28.4 MB/s\u001b[0m eta \u001b[36m0:00:00\u001b[0m\n",
            "\u001b[?25hRequirement already satisfied: jinja2 in /usr/local/lib/python3.10/dist-packages (from gradio) (3.1.2)\n",
            "Requirement already satisfied: markdown-it-py[linkify]>=2.0.0 in /usr/local/lib/python3.10/dist-packages (from gradio) (3.0.0)\n",
            "Requirement already satisfied: markupsafe in /usr/local/lib/python3.10/dist-packages (from gradio) (2.1.3)\n",
            "Requirement already satisfied: matplotlib in /usr/local/lib/python3.10/dist-packages (from gradio) (3.7.1)\n",
            "Collecting mdit-py-plugins<=0.3.3 (from gradio)\n",
            "  Downloading mdit_py_plugins-0.3.3-py3-none-any.whl (50 kB)\n",
            "\u001b[2K     \u001b[90m━━━━━━━━━━━━━━━━━━━━━━━━━━━━━━━━━━━━━━━━\u001b[0m \u001b[32m50.5/50.5 kB\u001b[0m \u001b[31m6.1 MB/s\u001b[0m eta \u001b[36m0:00:00\u001b[0m\n",
            "\u001b[?25hRequirement already satisfied: numpy in /usr/local/lib/python3.10/dist-packages (from gradio) (1.22.4)\n",
            "Collecting orjson (from gradio)\n",
            "  Downloading orjson-3.9.2-cp310-cp310-manylinux_2_17_x86_64.manylinux2014_x86_64.whl (138 kB)\n",
            "\u001b[2K     \u001b[90m━━━━━━━━━━━━━━━━━━━━━━━━━━━━━━━━━━━━━━\u001b[0m \u001b[32m138.7/138.7 kB\u001b[0m \u001b[31m16.5 MB/s\u001b[0m eta \u001b[36m0:00:00\u001b[0m\n",
            "\u001b[?25hRequirement already satisfied: pandas in /usr/local/lib/python3.10/dist-packages (from gradio) (1.5.3)\n",
            "Requirement already satisfied: pillow in /usr/local/lib/python3.10/dist-packages (from gradio) (8.4.0)\n",
            "Requirement already satisfied: pydantic in /usr/local/lib/python3.10/dist-packages (from gradio) (1.10.11)\n",
            "Collecting pydub (from gradio)\n",
            "  Downloading pydub-0.25.1-py2.py3-none-any.whl (32 kB)\n",
            "Requirement already satisfied: pygments>=2.12.0 in /usr/local/lib/python3.10/dist-packages (from gradio) (2.14.0)\n",
            "Collecting python-multipart (from gradio)\n",
            "  Downloading python_multipart-0.0.6-py3-none-any.whl (45 kB)\n",
            "\u001b[2K     \u001b[90m━━━━━━━━━━━━━━━━━━━━━━━━━━━━━━━━━━━━━━━━\u001b[0m \u001b[32m45.7/45.7 kB\u001b[0m \u001b[31m5.3 MB/s\u001b[0m eta \u001b[36m0:00:00\u001b[0m\n",
            "\u001b[?25hRequirement already satisfied: pyyaml in /usr/local/lib/python3.10/dist-packages (from gradio) (6.0)\n",
            "Requirement already satisfied: requests in /usr/local/lib/python3.10/dist-packages (from gradio) (2.27.1)\n",
            "Collecting semantic-version (from gradio)\n",
            "  Downloading semantic_version-2.10.0-py2.py3-none-any.whl (15 kB)\n",
            "Collecting uvicorn>=0.14.0 (from gradio)\n",
            "  Downloading uvicorn-0.22.0-py3-none-any.whl (58 kB)\n",
            "\u001b[2K     \u001b[90m━━━━━━━━━━━━━━━━━━━━━━━━━━━━━━━━━━━━━━━━\u001b[0m \u001b[32m58.3/58.3 kB\u001b[0m \u001b[31m6.4 MB/s\u001b[0m eta \u001b[36m0:00:00\u001b[0m\n",
            "\u001b[?25hCollecting websockets>=10.0 (from gradio)\n",
            "  Downloading websockets-11.0.3-cp310-cp310-manylinux_2_5_x86_64.manylinux1_x86_64.manylinux_2_17_x86_64.manylinux2014_x86_64.whl (129 kB)\n",
            "\u001b[2K     \u001b[90m━━━━━━━━━━━━━━━━━━━━━━━━━━━━━━━━━━━━━━\u001b[0m \u001b[32m129.9/129.9 kB\u001b[0m \u001b[31m12.5 MB/s\u001b[0m eta \u001b[36m0:00:00\u001b[0m\n",
            "\u001b[?25hRequirement already satisfied: entrypoints in /usr/local/lib/python3.10/dist-packages (from altair>=4.2.0->gradio) (0.4)\n",
            "Requirement already satisfied: jsonschema>=3.0 in /usr/local/lib/python3.10/dist-packages (from altair>=4.2.0->gradio) (4.3.3)\n",
            "Requirement already satisfied: toolz in /usr/local/lib/python3.10/dist-packages (from altair>=4.2.0->gradio) (0.12.0)\n",
            "Requirement already satisfied: fsspec in /usr/local/lib/python3.10/dist-packages (from gradio-client>=0.2.7->gradio) (2023.6.0)\n",
            "Requirement already satisfied: packaging in /usr/local/lib/python3.10/dist-packages (from gradio-client>=0.2.7->gradio) (23.1)\n",
            "Requirement already satisfied: typing-extensions in /usr/local/lib/python3.10/dist-packages (from gradio-client>=0.2.7->gradio) (4.7.1)\n",
            "Requirement already satisfied: filelock in /usr/local/lib/python3.10/dist-packages (from huggingface-hub>=0.14.0->gradio) (3.12.2)\n",
            "Requirement already satisfied: tqdm>=4.42.1 in /usr/local/lib/python3.10/dist-packages (from huggingface-hub>=0.14.0->gradio) (4.65.0)\n",
            "Requirement already satisfied: mdurl~=0.1 in /usr/local/lib/python3.10/dist-packages (from markdown-it-py[linkify]>=2.0.0->gradio) (0.1.2)\n",
            "Collecting linkify-it-py<3,>=1 (from markdown-it-py[linkify]>=2.0.0->gradio)\n",
            "  Downloading linkify_it_py-2.0.2-py3-none-any.whl (19 kB)\n",
            "INFO: pip is looking at multiple versions of mdit-py-plugins to determine which version is compatible with other requirements. This could take a while.\n",
            "Collecting mdit-py-plugins<=0.3.3 (from gradio)\n",
            "  Downloading mdit_py_plugins-0.3.2-py3-none-any.whl (50 kB)\n",
            "\u001b[2K     \u001b[90m━━━━━━━━━━━━━━━━━━━━━━━━━━━━━━━━━━━━━━━━\u001b[0m \u001b[32m50.4/50.4 kB\u001b[0m \u001b[31m5.3 MB/s\u001b[0m eta \u001b[36m0:00:00\u001b[0m\n",
            "\u001b[?25h  Downloading mdit_py_plugins-0.3.1-py3-none-any.whl (46 kB)\n",
            "\u001b[2K     \u001b[90m━━━━━━━━━━━━━━━━━━━━━━━━━━━━━━━━━━━━━━━━\u001b[0m \u001b[32m46.5/46.5 kB\u001b[0m \u001b[31m3.2 MB/s\u001b[0m eta \u001b[36m0:00:00\u001b[0m\n",
            "\u001b[?25h  Downloading mdit_py_plugins-0.3.0-py3-none-any.whl (43 kB)\n",
            "\u001b[2K     \u001b[90m━━━━━━━━━━━━━━━━━━━━━━━━━━━━━━━━━━━━━━━━\u001b[0m \u001b[32m43.7/43.7 kB\u001b[0m \u001b[31m4.5 MB/s\u001b[0m eta \u001b[36m0:00:00\u001b[0m\n",
            "\u001b[?25h  Downloading mdit_py_plugins-0.2.8-py3-none-any.whl (41 kB)\n",
            "\u001b[2K     \u001b[90m━━━━━━━━━━━━━━━━━━━━━━━━━━━━━━━━━━━━━━━━\u001b[0m \u001b[32m41.0/41.0 kB\u001b[0m \u001b[31m3.8 MB/s\u001b[0m eta \u001b[36m0:00:00\u001b[0m\n",
            "\u001b[?25h  Downloading mdit_py_plugins-0.2.7-py3-none-any.whl (41 kB)\n",
            "\u001b[2K     \u001b[90m━━━━━━━━━━━━━━━━━━━━━━━━━━━━━━━━━━━━━━━━\u001b[0m \u001b[32m41.0/41.0 kB\u001b[0m \u001b[31m4.2 MB/s\u001b[0m eta \u001b[36m0:00:00\u001b[0m\n",
            "\u001b[?25h  Downloading mdit_py_plugins-0.2.6-py3-none-any.whl (39 kB)\n",
            "  Downloading mdit_py_plugins-0.2.5-py3-none-any.whl (39 kB)\n",
            "INFO: pip is looking at multiple versions of mdit-py-plugins to determine which version is compatible with other requirements. This could take a while.\n",
            "  Downloading mdit_py_plugins-0.2.4-py3-none-any.whl (39 kB)\n",
            "  Downloading mdit_py_plugins-0.2.3-py3-none-any.whl (39 kB)\n",
            "  Downloading mdit_py_plugins-0.2.2-py3-none-any.whl (39 kB)\n",
            "  Downloading mdit_py_plugins-0.2.1-py3-none-any.whl (38 kB)\n",
            "  Downloading mdit_py_plugins-0.2.0-py3-none-any.whl (38 kB)\n",
            "INFO: This is taking longer than usual. You might need to provide the dependency resolver with stricter constraints to reduce runtime. See https://pip.pypa.io/warnings/backtracking for guidance. If you want to abort this run, press Ctrl + C.\n",
            "  Downloading mdit_py_plugins-0.1.0-py3-none-any.whl (37 kB)\n",
            "Collecting markdown-it-py[linkify]>=2.0.0 (from gradio)\n",
            "  Downloading markdown_it_py-3.0.0-py3-none-any.whl (87 kB)\n",
            "\u001b[2K     \u001b[90m━━━━━━━━━━━━━━━━━━━━━━━━━━━━━━━━━━━━━━━━\u001b[0m \u001b[32m87.5/87.5 kB\u001b[0m \u001b[31m10.0 MB/s\u001b[0m eta \u001b[36m0:00:00\u001b[0m\n",
            "\u001b[?25h  Downloading markdown_it_py-2.2.0-py3-none-any.whl (84 kB)\n",
            "\u001b[2K     \u001b[90m━━━━━━━━━━━━━━━━━━━━━━━━━━━━━━━━━━━━━━━━\u001b[0m \u001b[32m84.5/84.5 kB\u001b[0m \u001b[31m9.9 MB/s\u001b[0m eta \u001b[36m0:00:00\u001b[0m\n",
            "\u001b[?25hRequirement already satisfied: python-dateutil>=2.8.1 in /usr/local/lib/python3.10/dist-packages (from pandas->gradio) (2.8.2)\n",
            "Requirement already satisfied: pytz>=2020.1 in /usr/local/lib/python3.10/dist-packages (from pandas->gradio) (2022.7.1)\n",
            "Requirement already satisfied: click>=7.0 in /usr/local/lib/python3.10/dist-packages (from uvicorn>=0.14.0->gradio) (8.1.4)\n",
            "Collecting h11>=0.8 (from uvicorn>=0.14.0->gradio)\n",
            "  Downloading h11-0.14.0-py3-none-any.whl (58 kB)\n",
            "\u001b[2K     \u001b[90m━━━━━━━━━━━━━━━━━━━━━━━━━━━━━━━━━━━━━━━━\u001b[0m \u001b[32m58.3/58.3 kB\u001b[0m \u001b[31m6.7 MB/s\u001b[0m eta \u001b[36m0:00:00\u001b[0m\n",
            "\u001b[?25hRequirement already satisfied: attrs>=17.3.0 in /usr/local/lib/python3.10/dist-packages (from aiohttp->gradio) (23.1.0)\n",
            "Requirement already satisfied: charset-normalizer<4.0,>=2.0 in /usr/local/lib/python3.10/dist-packages (from aiohttp->gradio) (2.0.12)\n",
            "Requirement already satisfied: multidict<7.0,>=4.5 in /usr/local/lib/python3.10/dist-packages (from aiohttp->gradio) (6.0.4)\n",
            "Requirement already satisfied: async-timeout<5.0,>=4.0.0a3 in /usr/local/lib/python3.10/dist-packages (from aiohttp->gradio) (4.0.2)\n",
            "Requirement already satisfied: yarl<2.0,>=1.0 in /usr/local/lib/python3.10/dist-packages (from aiohttp->gradio) (1.9.2)\n",
            "Requirement already satisfied: frozenlist>=1.1.1 in /usr/local/lib/python3.10/dist-packages (from aiohttp->gradio) (1.3.3)\n",
            "Requirement already satisfied: aiosignal>=1.1.2 in /usr/local/lib/python3.10/dist-packages (from aiohttp->gradio) (1.3.1)\n",
            "Collecting starlette<0.28.0,>=0.27.0 (from fastapi->gradio)\n",
            "  Downloading starlette-0.27.0-py3-none-any.whl (66 kB)\n",
            "\u001b[2K     \u001b[90m━━━━━━━━━━━━━━━━━━━━━━━━━━━━━━━━━━━━━━━━\u001b[0m \u001b[32m67.0/67.0 kB\u001b[0m \u001b[31m6.9 MB/s\u001b[0m eta \u001b[36m0:00:00\u001b[0m\n",
            "\u001b[?25hRequirement already satisfied: certifi in /usr/local/lib/python3.10/dist-packages (from httpx->gradio) (2023.5.7)\n",
            "Collecting httpcore<0.18.0,>=0.15.0 (from httpx->gradio)\n",
            "  Downloading httpcore-0.17.3-py3-none-any.whl (74 kB)\n",
            "\u001b[2K     \u001b[90m━━━━━━━━━━━━━━━━━━━━━━━━━━━━━━━━━━━━━━━━\u001b[0m \u001b[32m74.5/74.5 kB\u001b[0m \u001b[31m7.4 MB/s\u001b[0m eta \u001b[36m0:00:00\u001b[0m\n",
            "\u001b[?25hRequirement already satisfied: idna in /usr/local/lib/python3.10/dist-packages (from httpx->gradio) (3.4)\n",
            "Requirement already satisfied: sniffio in /usr/local/lib/python3.10/dist-packages (from httpx->gradio) (1.3.0)\n",
            "Requirement already satisfied: contourpy>=1.0.1 in /usr/local/lib/python3.10/dist-packages (from matplotlib->gradio) (1.1.0)\n",
            "Requirement already satisfied: cycler>=0.10 in /usr/local/lib/python3.10/dist-packages (from matplotlib->gradio) (0.11.0)\n",
            "Requirement already satisfied: fonttools>=4.22.0 in /usr/local/lib/python3.10/dist-packages (from matplotlib->gradio) (4.40.0)\n",
            "Requirement already satisfied: kiwisolver>=1.0.1 in /usr/local/lib/python3.10/dist-packages (from matplotlib->gradio) (1.4.4)\n",
            "Requirement already satisfied: pyparsing>=2.3.1 in /usr/local/lib/python3.10/dist-packages (from matplotlib->gradio) (3.1.0)\n",
            "Requirement already satisfied: urllib3<1.27,>=1.21.1 in /usr/local/lib/python3.10/dist-packages (from requests->gradio) (1.26.16)\n",
            "Requirement already satisfied: anyio<5.0,>=3.0 in /usr/local/lib/python3.10/dist-packages (from httpcore<0.18.0,>=0.15.0->httpx->gradio) (3.7.1)\n",
            "Requirement already satisfied: pyrsistent!=0.17.0,!=0.17.1,!=0.17.2,>=0.14.0 in /usr/local/lib/python3.10/dist-packages (from jsonschema>=3.0->altair>=4.2.0->gradio) (0.19.3)\n",
            "Collecting uc-micro-py (from linkify-it-py<3,>=1->markdown-it-py[linkify]>=2.0.0->gradio)\n",
            "  Downloading uc_micro_py-1.0.2-py3-none-any.whl (6.2 kB)\n",
            "Requirement already satisfied: six>=1.5 in /usr/local/lib/python3.10/dist-packages (from python-dateutil>=2.8.1->pandas->gradio) (1.16.0)\n",
            "Requirement already satisfied: exceptiongroup in /usr/local/lib/python3.10/dist-packages (from anyio<5.0,>=3.0->httpcore<0.18.0,>=0.15.0->httpx->gradio) (1.1.2)\n",
            "Building wheels for collected packages: ffmpy\n",
            "  Building wheel for ffmpy (setup.py) ... \u001b[?25l\u001b[?25hdone\n",
            "  Created wheel for ffmpy: filename=ffmpy-0.3.0-py3-none-any.whl size=4694 sha256=ee225fc315b178ae5b911d5e346a342c0dd1d32b39dd6f631c4d7a893428d2d3\n",
            "  Stored in directory: /root/.cache/pip/wheels/0c/c2/0e/3b9c6845c6a4e35beb90910cc70d9ac9ab5d47402bd62af0df\n",
            "Successfully built ffmpy\n",
            "Installing collected packages: pydub, ffmpy, websockets, uc-micro-py, semantic-version, python-multipart, orjson, markdown-it-py, h11, aiofiles, uvicorn, starlette, mdit-py-plugins, linkify-it-py, huggingface-hub, httpcore, httpx, fastapi, gradio-client, gradio\n",
            "  Attempting uninstall: markdown-it-py\n",
            "    Found existing installation: markdown-it-py 3.0.0\n",
            "    Uninstalling markdown-it-py-3.0.0:\n",
            "      Successfully uninstalled markdown-it-py-3.0.0\n",
            "Successfully installed aiofiles-23.1.0 fastapi-0.100.0 ffmpy-0.3.0 gradio-3.36.1 gradio-client-0.2.9 h11-0.14.0 httpcore-0.17.3 httpx-0.24.1 huggingface-hub-0.16.4 linkify-it-py-2.0.2 markdown-it-py-2.2.0 mdit-py-plugins-0.3.3 orjson-3.9.2 pydub-0.25.1 python-multipart-0.0.6 semantic-version-2.10.0 starlette-0.27.0 uc-micro-py-1.0.2 uvicorn-0.22.0 websockets-11.0.3\n"
          ]
        }
      ]
    },
    {
      "cell_type": "code",
      "source": [
        "# 라이브러리 블러오기\n",
        "\n",
        "import tensorflow as tf\n",
        "import numpy as np\n",
        "import glob\n",
        "from PIL import Image"
      ],
      "metadata": {
        "id": "Zop6QdWrbh7y"
      },
      "id": "Zop6QdWrbh7y",
      "execution_count": null,
      "outputs": []
    },
    {
      "cell_type": "code",
      "source": [
        "# 데이터 불러오기\n",
        "\n",
        "def load_images_from_directory(directory_path):\n",
        "    image_paths = glob.glob(directory_path + '/*.jpg')  # 디렉토리 내의 모든 jpg 파일 경로 찾기\n",
        "    image_paths.extend(glob.glob(directory_path + '/*.jpeg'))\n",
        "\n",
        "    images = []\n",
        "    for image_path in image_paths:\n",
        "        image = Image.open(image_path)\n",
        "        image_np = np.array(image)\n",
        "        images.append(image_np)\n",
        "\n",
        "    return images"
      ],
      "metadata": {
        "id": "ec-RX2CQbh_T"
      },
      "id": "ec-RX2CQbh_T",
      "execution_count": null,
      "outputs": []
    },
    {
      "cell_type": "code",
      "source": [],
      "metadata": {
        "id": "SQS549ulbiCc"
      },
      "id": "SQS549ulbiCc",
      "execution_count": null,
      "outputs": []
    }
  ],
  "metadata": {
    "kernelspec": {
      "display_name": "Python 3 (ipykernel)",
      "language": "python",
      "name": "python3"
    },
    "language_info": {
      "codemirror_mode": {
        "name": "ipython",
        "version": 3
      },
      "file_extension": ".py",
      "mimetype": "text/x-python",
      "name": "python",
      "nbconvert_exporter": "python",
      "pygments_lexer": "ipython3",
      "version": "3.9.7"
    },
    "colab": {
      "provenance": []
    }
  },
  "nbformat": 4,
  "nbformat_minor": 5
}