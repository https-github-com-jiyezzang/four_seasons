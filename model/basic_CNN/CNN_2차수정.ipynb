{
  "nbformat": 4,
  "nbformat_minor": 0,
  "metadata": {
    "colab": {
      "provenance": []
    },
    "kernelspec": {
      "name": "python3",
      "display_name": "Python 3"
    },
    "language_info": {
      "name": "python"
    }
  },
  "cells": [
    {
      "cell_type": "markdown",
      "source": [
        "# 프로젝트: 퍼스널 컬러 진단 - CNN\n",
        "\n",
        "## 데이터\n",
        "1. 직접 수집한 쿨톤 100장, 웜톤 100장  \n",
        "\n",
        "## 목표\n",
        "1. ColorAutoEncoder을 이용한 쿨톤과 웜톤 분류 (제거됨)\n",
        "2. 간단한 CNN 분류"
      ],
      "metadata": {
        "id": "t6vCdgL69vv7"
      }
    },
    {
      "cell_type": "markdown",
      "source": [
        "# 2.  간단한 CNN 모델"
      ],
      "metadata": {
        "id": "0rDGbmtwHGVH"
      }
    },
    {
      "cell_type": "markdown",
      "source": [
        "## (1) 라이브러리 및 데이터 불러오기"
      ],
      "metadata": {
        "id": "rgkQZhfKKWQ9"
      }
    },
    {
      "cell_type": "code",
      "source": [
        "import tensorflow as tf\n",
        "from tensorflow.keras import layers, models\n",
        "\n",
        "import numpy as np\n",
        "import cv2\n",
        "import os\n",
        "import glob\n",
        "from PIL import Image"
      ],
      "metadata": {
        "id": "XHVBkO-NJpCV"
      },
      "execution_count": 32,
      "outputs": []
    },
    {
      "cell_type": "code",
      "source": [
        "# 파일 불러오는 함수\n",
        "def load_images_from_directory(directory_path):\n",
        "    image_paths = glob.glob(directory_path + '/*.jpg')  # 디렉토리 내의 모든 jpg 파일 경로 찾기\n",
        "    image_paths.extend(glob.glob(directory_path + '/*.jpeg'))  # 디렉토리 내의 모든 jpeg 파일 경로 추가\n",
        "\n",
        "    images = []\n",
        "    for image_path in image_paths:\n",
        "        image = Image.open(image_path)\n",
        "        image_np = np.array(image)\n",
        "        images.append(image_np)\n",
        "\n",
        "    return images"
      ],
      "metadata": {
        "id": "Ir9VfiI_JpD0"
      },
      "execution_count": 33,
      "outputs": []
    },
    {
      "cell_type": "code",
      "source": [
        "from google.colab import drive\n",
        "drive.mount('/content/drive')"
      ],
      "metadata": {
        "colab": {
          "base_uri": "https://localhost:8080/"
        },
        "id": "mSKjU-iUJ3DO",
        "outputId": "e46bfa9b-4f6b-45c3-f9e7-d3454b4d40f7"
      },
      "execution_count": 34,
      "outputs": [
        {
          "output_type": "stream",
          "name": "stdout",
          "text": [
            "Drive already mounted at /content/drive; to attempt to forcibly remount, call drive.mount(\"/content/drive\", force_remount=True).\n"
          ]
        }
      ]
    },
    {
      "cell_type": "code",
      "source": [
        "# 모든 이미지 불러오기\n",
        "directory_path = \"/content/drive/MyDrive/four_seasons/사계절_연예인 이미지 데이터셋/prototype/웜톤_jpg\"  # 디렉토리 경로\n",
        "directory_path2 = \"/content/drive/MyDrive/four_seasons/사계절_연예인 이미지 데이터셋/prototype/쿨톤_jpg\"  # 디렉토리 경로\n",
        "images = load_images_from_directory(directory_path)\n",
        "images2 = load_images_from_directory(directory_path2)\n",
        "\n",
        "length = len(images)\n",
        "print(length)\n",
        "print(len(images2))\n",
        "\n",
        "# 이미지 리스트 합치기\n",
        "images = np.concatenate((images, images2), axis=0)\n",
        "print(len(images))"
      ],
      "metadata": {
        "colab": {
          "base_uri": "https://localhost:8080/"
        },
        "id": "FHPog5DTKA1F",
        "outputId": "d7e0ad91-9f3b-46a5-aec8-484b0c427fa5"
      },
      "execution_count": 52,
      "outputs": [
        {
          "output_type": "stream",
          "name": "stdout",
          "text": [
            "50\n",
            "50\n",
            "100\n"
          ]
        },
        {
          "output_type": "stream",
          "name": "stderr",
          "text": [
            "<__array_function__ internals>:180: VisibleDeprecationWarning: Creating an ndarray from ragged nested sequences (which is a list-or-tuple of lists-or-tuples-or ndarrays with different lengths or shapes) is deprecated. If you meant to do this, you must specify 'dtype=object' when creating the ndarray.\n"
          ]
        }
      ]
    },
    {
      "cell_type": "markdown",
      "source": [
        "## (2) 데이터 전처리"
      ],
      "metadata": {
        "id": "G6dy562HKZ-a"
      }
    },
    {
      "cell_type": "code",
      "source": [
        "def preprocess_image(image):\n",
        "    # 이미지 크기 조절\n",
        "    image = tf.image.resize(image, (224, 224))\n",
        "    # 이미지를 [0, 1] 범위로 정규화\n",
        "    image = image / 255.0\n",
        "    return image\n",
        "\n",
        "images = np.array([preprocess_image(image) for image in images])\n",
        "print(images.shape)"
      ],
      "metadata": {
        "id": "mA2LfLUyL018",
        "colab": {
          "base_uri": "https://localhost:8080/"
        },
        "outputId": "89d104f3-5960-4889-917d-e6397a4d82bf"
      },
      "execution_count": 53,
      "outputs": [
        {
          "output_type": "stream",
          "name": "stdout",
          "text": [
            "(100, 224, 224, 3)\n"
          ]
        }
      ]
    },
    {
      "cell_type": "markdown",
      "source": [
        "- KNN과 다르게 평탄화 작업을 제거하였고 리사이즈 함수가 다르다"
      ],
      "metadata": {
        "id": "Ugoaj5u7KiNC"
      }
    },
    {
      "cell_type": "code",
      "source": [
        "# labels에 대한 코드\n",
        "num = len(images)\n",
        "labels = np.zeros(num)\n",
        "\n",
        "# 뒤쪽의 50개의 요소를 1로 변경\n",
        "labels[length:] = 1\n",
        "\n",
        "# 0이 웜톤 1이 쿨톤\n",
        "print(len(images))\n",
        "print(labels.shape)\n",
        "print(labels)"
      ],
      "metadata": {
        "colab": {
          "base_uri": "https://localhost:8080/"
        },
        "id": "UEBZKFc5KOqQ",
        "outputId": "ec83176e-c943-4b19-c18d-e742554bf8d3"
      },
      "execution_count": 54,
      "outputs": [
        {
          "output_type": "stream",
          "name": "stdout",
          "text": [
            "100\n",
            "(100,)\n",
            "[0. 0. 0. 0. 0. 0. 0. 0. 0. 0. 0. 0. 0. 0. 0. 0. 0. 0. 0. 0. 0. 0. 0. 0.\n",
            " 0. 0. 0. 0. 0. 0. 0. 0. 0. 0. 0. 0. 0. 0. 0. 0. 0. 0. 0. 0. 0. 0. 0. 0.\n",
            " 0. 0. 1. 1. 1. 1. 1. 1. 1. 1. 1. 1. 1. 1. 1. 1. 1. 1. 1. 1. 1. 1. 1. 1.\n",
            " 1. 1. 1. 1. 1. 1. 1. 1. 1. 1. 1. 1. 1. 1. 1. 1. 1. 1. 1. 1. 1. 1. 1. 1.\n",
            " 1. 1. 1. 1.]\n"
          ]
        }
      ]
    },
    {
      "cell_type": "markdown",
      "source": [
        "## (3) train, validation 분리하기"
      ],
      "metadata": {
        "id": "YSie7SPhKfe6"
      }
    },
    {
      "cell_type": "code",
      "source": [
        "from sklearn.model_selection import train_test_split\n",
        "\n",
        "x_train, x_val, y_train, y_val = train_test_split(images,\n",
        "                                                  labels,\n",
        "                                                  test_size=0.3,\n",
        "                                                  random_state=42)\n",
        "\n",
        "print(\"x_train: \", x_train.shape)\n",
        "print(\"y_train: \", y_train.shape)\n",
        "print(\"x_val: \", x_val.shape)\n",
        "print(\"y_val: \", y_val.shape)"
      ],
      "metadata": {
        "colab": {
          "base_uri": "https://localhost:8080/"
        },
        "id": "TV5P6ANhKOsF",
        "outputId": "8174377d-cb6f-491c-9a08-6fce27648029"
      },
      "execution_count": 55,
      "outputs": [
        {
          "output_type": "stream",
          "name": "stdout",
          "text": [
            "x_train:  (70, 224, 224, 3)\n",
            "y_train:  (70,)\n",
            "x_val:  (30, 224, 224, 3)\n",
            "y_val:  (30,)\n"
          ]
        }
      ]
    },
    {
      "cell_type": "code",
      "source": [
        "# 데이터를 텐서로 변환\n",
        "x_train = tf.convert_to_tensor(x_train, dtype=tf.float32)\n",
        "x_val = tf.convert_to_tensor(x_val, dtype=tf.float32)\n",
        "y_train = tf.convert_to_tensor(y_train, dtype=tf.int32)\n",
        "y_val = tf.convert_to_tensor(y_val, dtype=tf.int32)"
      ],
      "metadata": {
        "id": "5LfVRKY3MLdB"
      },
      "execution_count": 56,
      "outputs": []
    },
    {
      "cell_type": "markdown",
      "source": [
        "## (4) 모델 정의 및 컴파일"
      ],
      "metadata": {
        "id": "a3A0HOIVKj6L"
      }
    },
    {
      "cell_type": "code",
      "source": [
        "# 모델 정의\n",
        "model = models.Sequential([\n",
        "    layers.Conv2D(16, (3, 3), activation='relu', input_shape=(224, 224, 3)),\n",
        "    layers.MaxPooling2D((2, 2)),\n",
        "    layers.Conv2D(32, (3, 3), activation='relu'),\n",
        "    layers.MaxPooling2D((2, 2)),\n",
        "    layers.Flatten(),\n",
        "    layers.Dense(64, activation='relu'),\n",
        "    layers.Dense(2, activation='softmax')  # 두 개의 클래스로 분류 예시\n",
        "])\n",
        "\n",
        "# 모델 컴파일\n",
        "model.compile(optimizer='adam',\n",
        "              loss='sparse_categorical_crossentropy',\n",
        "              metrics=['accuracy'])\n"
      ],
      "metadata": {
        "id": "uybd4th2KqiE"
      },
      "execution_count": 57,
      "outputs": []
    },
    {
      "cell_type": "markdown",
      "source": [
        "## (5) 모델 학습하기"
      ],
      "metadata": {
        "id": "FxBYK1YeK2xr"
      }
    },
    {
      "cell_type": "code",
      "source": [
        "# 모델 학습\n",
        "num_epochs = 10\n",
        "model.fit(x_train, y_train, epochs=num_epochs, batch_size=32)\n",
        "\n",
        "print(\"Training finished!\")"
      ],
      "metadata": {
        "colab": {
          "base_uri": "https://localhost:8080/"
        },
        "id": "ZYMeZCP0Kqjm",
        "outputId": "51749ea3-d123-4168-afc0-8eb514c4ef4f"
      },
      "execution_count": 58,
      "outputs": [
        {
          "output_type": "stream",
          "name": "stdout",
          "text": [
            "Epoch 1/10\n",
            "3/3 [==============================] - 4s 795ms/step - loss: 4.7132 - accuracy: 0.5286\n",
            "Epoch 2/10\n",
            "3/3 [==============================] - 4s 958ms/step - loss: 1.9564 - accuracy: 0.4429\n",
            "Epoch 3/10\n",
            "3/3 [==============================] - 3s 780ms/step - loss: 1.1681 - accuracy: 0.5571\n",
            "Epoch 4/10\n",
            "3/3 [==============================] - 4s 1s/step - loss: 0.6597 - accuracy: 0.6143\n",
            "Epoch 5/10\n",
            "3/3 [==============================] - 3s 789ms/step - loss: 0.5342 - accuracy: 0.7000\n",
            "Epoch 6/10\n",
            "3/3 [==============================] - 3s 761ms/step - loss: 0.3618 - accuracy: 0.8571\n",
            "Epoch 7/10\n",
            "3/3 [==============================] - 3s 777ms/step - loss: 0.2917 - accuracy: 0.9000\n",
            "Epoch 8/10\n",
            "3/3 [==============================] - 3s 983ms/step - loss: 0.2522 - accuracy: 0.9000\n",
            "Epoch 9/10\n",
            "3/3 [==============================] - 5s 1s/step - loss: 0.2203 - accuracy: 0.9571\n",
            "Epoch 10/10\n",
            "3/3 [==============================] - 3s 751ms/step - loss: 0.1380 - accuracy: 1.0000\n",
            "Training finished!\n"
          ]
        }
      ]
    },
    {
      "cell_type": "markdown",
      "source": [
        "## (6) 예측하기"
      ],
      "metadata": {
        "id": "eg_WAHG6KrDT"
      }
    },
    {
      "cell_type": "code",
      "source": [
        "pred = model.predict(x_val)\n",
        "pred_class = np.argmax(pred, axis=1)\n",
        "y_val = np.array(y_val)"
      ],
      "metadata": {
        "colab": {
          "base_uri": "https://localhost:8080/"
        },
        "id": "HeeUmy9wI8-v",
        "outputId": "587bc44d-cdfb-4154-ad74-d9e3edba6c3d"
      },
      "execution_count": 59,
      "outputs": [
        {
          "output_type": "stream",
          "name": "stdout",
          "text": [
            "1/1 [==============================] - 1s 766ms/step\n"
          ]
        }
      ]
    },
    {
      "cell_type": "code",
      "source": [
        "print(pred_class)\n",
        "print(y_val)"
      ],
      "metadata": {
        "colab": {
          "base_uri": "https://localhost:8080/"
        },
        "id": "-NE5MLKtSRc0",
        "outputId": "0e5f775b-c87d-4467-8833-dd7256bf0ddf"
      },
      "execution_count": 60,
      "outputs": [
        {
          "output_type": "stream",
          "name": "stdout",
          "text": [
            "[1 1 1 1 1 1 0 1 1 1 1 1 1 1 1 1 1 1 1 1 1 1 1 1 1 1 1 1 1 1]\n",
            "[1 1 1 0 0 0 0 1 0 0 0 0 1 0 1 0 1 1 0 0 1 1 0 0 1 0 0 1 0 1]\n"
          ]
        }
      ]
    },
    {
      "cell_type": "code",
      "source": [
        "acc = np.mean(pred_class == y_val)\n",
        "print('accuracy: %f' % (acc,))"
      ],
      "metadata": {
        "colab": {
          "base_uri": "https://localhost:8080/"
        },
        "id": "Dqy0xemCOih6",
        "outputId": "9e44cbe5-b078-4025-c0d4-f0d37704767e"
      },
      "execution_count": 61,
      "outputs": [
        {
          "output_type": "stream",
          "name": "stdout",
          "text": [
            "accuracy: 0.466667\n"
          ]
        }
      ]
    },
    {
      "cell_type": "markdown",
      "source": [
        "ramdom_state를 변화시키면서 train, val 나누는 코드부터 반복 시도함  \n",
        "1차 시도: 0.56  \n",
        "2차 시도: 0.53  \n",
        "3차 시도: 0.33  \n",
        "4차 시도: 0.40  \n",
        "5차 시도: 0.40"
      ],
      "metadata": {
        "id": "ATmgJDy7TqYo"
      }
    },
    {
      "cell_type": "markdown",
      "source": [
        "## (7) TEST"
      ],
      "metadata": {
        "id": "77asKjP261rr"
      }
    },
    {
      "cell_type": "code",
      "source": [
        "class_name = [\"웜톤\", \"쿨톤\"]"
      ],
      "metadata": {
        "id": "KGNv2DQS9Tub"
      },
      "execution_count": 62,
      "outputs": []
    },
    {
      "cell_type": "code",
      "source": [
        "# test 불러오기 (낱개 버전)\n",
        "test_path = \"/content/drive/MyDrive/four_seasons/사계절_연예인 이미지 데이터셋/prototype/연예인 사진 10장/01.jpg\"\n",
        "x_test = Image.open(test_path)\n",
        "x_test = np.array(x_test)\n",
        "print(x_test.shape)\n",
        "\n",
        "# 배열의 크기 변환\n",
        "x_test = x_test.reshape((1, x_test.shape[0], x_test.shape[1], 3))\n",
        "print(\"변환된 배열 크기:\", x_test.shape)\n",
        "\n",
        "# 전처리(resize, 정규화)\n",
        "x_test = preprocess_image(x_test)\n",
        "print(x_test.shape)\n",
        "\n",
        "# 만약 앱구현과 연결된다면 저장된 모델을 다시 돌릴 필요없이 저장된 최적의 모델을 사용하도록 수정해야함\n",
        "# test\n",
        "pred = model.predict(x_test)\n",
        "pred_class = np.argmax(pred, axis=1)\n",
        "print(\"당신은\", class_name[int(pred_class)], \"입니다~!\")\n",
        "print(\"웜톤일 확률: \", np.round(pred[:, 0],3))\n",
        "print(\"쿨톤일 확률: \", np.round(pred[:, 1],3))"
      ],
      "metadata": {
        "id": "iHVUZPKmUUvI",
        "colab": {
          "base_uri": "https://localhost:8080/"
        },
        "outputId": "71c157e0-fb51-4eee-bf21-50314582ce30"
      },
      "execution_count": 63,
      "outputs": [
        {
          "output_type": "stream",
          "name": "stdout",
          "text": [
            "(600, 600, 3)\n",
            "변환된 배열 크기: (1, 600, 600, 3)\n",
            "(1, 224, 224, 3)\n",
            "1/1 [==============================] - 0s 68ms/step\n",
            "당신은 쿨톤 입니다~!\n",
            "웜톤일 확률:  [0.148]\n",
            "쿨톤일 확률:  [0.852]\n"
          ]
        }
      ]
    },
    {
      "cell_type": "code",
      "source": [],
      "metadata": {
        "id": "fx3yIuGmTHcq"
      },
      "execution_count": null,
      "outputs": []
    }
  ]
}
