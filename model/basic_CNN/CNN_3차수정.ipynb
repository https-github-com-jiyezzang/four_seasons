{
 "cells": [
  {
   "cell_type": "markdown",
   "metadata": {
    "id": "t6vCdgL69vv7"
   },
   "source": [
    "# 프로젝트: 퍼스널 컬러 진단 - CNN\n",
    "\n",
    "## 데이터\n",
    "1. 유명인 웜톤 100장, 쿨톤 100장  \n",
    "2. 일반인 웜톤 490장, 쿨톤 186장  \n",
    "\n",
    "## 목표: 간단한 CNN 분류"
   ]
  },
  {
   "cell_type": "markdown",
   "metadata": {
    "id": "rgkQZhfKKWQ9"
   },
   "source": [
    "## (1) 라이브러리 및 데이터 불러오기"
   ]
  },
  {
   "cell_type": "code",
   "execution_count": 1,
   "metadata": {
    "id": "XHVBkO-NJpCV"
   },
   "outputs": [],
   "source": [
    "import tensorflow as tf\n",
    "from tensorflow.keras import layers, models\n",
    "\n",
    "import numpy as np\n",
    "import cv2\n",
    "import os\n",
    "import glob\n",
    "from PIL import Image"
   ]
  },
  {
   "cell_type": "code",
   "execution_count": 2,
   "metadata": {
    "id": "Ir9VfiI_JpD0"
   },
   "outputs": [],
   "source": [
    "# 파일 불러오는 함수\n",
    "def load_images_from_directory(directory_path):\n",
    "    image_paths = glob.glob(directory_path + '/*.jpg')  # 디렉토리 내의 모든 jpg 파일 경로 찾기\n",
    "    image_paths.extend(glob.glob(directory_path + '/*.jpeg'))  # 디렉토리 내의 모든 jpeg 파일 경로 추가\n",
    "    image_paths.extend(glob.glob(directory_path + '/*.JPG'))  # 디렉토리 내의 모든 JPG 파일 경로 추가\n",
    "\n",
    "    images = []\n",
    "    i = 0\n",
    "    for image_path in image_paths:\n",
    "        if i == 150:\n",
    "            break\n",
    "        image = Image.open(image_path)\n",
    "        image_np = np.array(image)\n",
    "        images.append(image_np)\n",
    "        i += 1\n",
    "\n",
    "    return images"
   ]
  },
  {
   "cell_type": "code",
   "execution_count": 3,
   "metadata": {
    "colab": {
     "base_uri": "https://localhost:8080/"
    },
    "id": "FHPog5DTKA1F",
    "outputId": "d7e0ad91-9f3b-46a5-aec8-484b0c427fa5"
   },
   "outputs": [],
   "source": [
    "# 모든 이미지 불러오기\n",
    "directory_path = \"/aiffel/aiffel/project/first-repository/data/four_seasons/train_warm_1\"  # 디렉토리 경로\n",
    "images = load_images_from_directory(directory_path)"
   ]
  },
  {
   "cell_type": "code",
   "execution_count": null,
   "metadata": {},
   "outputs": [],
   "source": [
    "directory_path2 = \"/aiffel/aiffel/project/first-repository/data/four_seasons/train_cool_1/cool_1\"  # 디렉토리 경로\n",
    "images2 = load_images_from_directory(directory_path2)"
   ]
  },
  {
   "cell_type": "code",
   "execution_count": null,
   "metadata": {},
   "outputs": [],
   "source": [
    "length = len(images)\n",
    "print(length)\n",
    "print(len(images2))\n",
    "\n",
    "# 이미지 리스트 합치기\n",
    "images = np.concatenate((images, images2), axis=0)\n",
    "print(len(images))"
   ]
  },
  {
   "cell_type": "markdown",
   "metadata": {
    "id": "G6dy562HKZ-a"
   },
   "source": [
    "## (2) 데이터 전처리"
   ]
  },
  {
   "cell_type": "code",
   "execution_count": null,
   "metadata": {
    "colab": {
     "base_uri": "https://localhost:8080/"
    },
    "id": "mA2LfLUyL018",
    "outputId": "89d104f3-5960-4889-917d-e6397a4d82bf"
   },
   "outputs": [],
   "source": [
    "def preprocess_image(image):\n",
    "    # 이미지 크기 조절\n",
    "    image = tf.image.resize(image, (224, 224))\n",
    "    # 이미지를 [0, 1] 범위로 정규화\n",
    "    image = image / 255.0\n",
    "    return image\n",
    "\n",
    "images = np.array([preprocess_image(image) for image in images])\n",
    "print(images.shape)"
   ]
  },
  {
   "cell_type": "markdown",
   "metadata": {
    "id": "Ugoaj5u7KiNC"
   },
   "source": [
    "- KNN과 다르게 평탄화 작업을 제거하였고 리사이즈 함수가 다르다"
   ]
  },
  {
   "cell_type": "code",
   "execution_count": null,
   "metadata": {
    "colab": {
     "base_uri": "https://localhost:8080/"
    },
    "id": "UEBZKFc5KOqQ",
    "outputId": "ec83176e-c943-4b19-c18d-e742554bf8d3"
   },
   "outputs": [],
   "source": [
    "# labels에 대한 코드\n",
    "num = len(images)\n",
    "labels = np.zeros(num)\n",
    "\n",
    "# 뒤쪽의 50개의 요소를 1로 변경\n",
    "labels[length:] = 1\n",
    "\n",
    "# 0이 웜톤 1이 쿨톤\n",
    "print(len(images))\n",
    "print(labels.shape)\n",
    "print(labels)"
   ]
  },
  {
   "cell_type": "markdown",
   "metadata": {
    "id": "YSie7SPhKfe6"
   },
   "source": [
    "## (3) train, validation 분리하기"
   ]
  },
  {
   "cell_type": "code",
   "execution_count": null,
   "metadata": {
    "colab": {
     "base_uri": "https://localhost:8080/"
    },
    "id": "TV5P6ANhKOsF",
    "outputId": "8174377d-cb6f-491c-9a08-6fce27648029"
   },
   "outputs": [],
   "source": [
    "from sklearn.model_selection import train_test_split\n",
    "\n",
    "x_train, x_val, y_train, y_val = train_test_split(images,\n",
    "                                                  labels,\n",
    "                                                  test_size=0.3,\n",
    "                                                  random_state=55)\n",
    "\n",
    "print(\"x_train: \", x_train.shape)\n",
    "print(\"y_train: \", y_train.shape)\n",
    "print(\"x_val: \", x_val.shape)\n",
    "print(\"y_val: \", y_val.shape)"
   ]
  },
  {
   "cell_type": "code",
   "execution_count": null,
   "metadata": {
    "id": "5LfVRKY3MLdB"
   },
   "outputs": [],
   "source": [
    "# 데이터를 텐서로 변환\n",
    "x_train = tf.convert_to_tensor(x_train, dtype=tf.float32)\n",
    "x_val = tf.convert_to_tensor(x_val, dtype=tf.float32)\n",
    "y_train = tf.convert_to_tensor(y_train, dtype=tf.int32)\n",
    "y_val = tf.convert_to_tensor(y_val, dtype=tf.int32)"
   ]
  },
  {
   "cell_type": "markdown",
   "metadata": {
    "id": "a3A0HOIVKj6L"
   },
   "source": [
    "## (4) 모델 정의 및 컴파일"
   ]
  },
  {
   "cell_type": "code",
   "execution_count": null,
   "metadata": {
    "id": "uybd4th2KqiE"
   },
   "outputs": [],
   "source": [
    "# 모델 정의\n",
    "model = models.Sequential([\n",
    "    layers.Conv2D(16, (3, 3), activation='relu', input_shape=(224, 224, 3)),\n",
    "    layers.MaxPooling2D((2, 2)),\n",
    "    layers.Conv2D(32, (3, 3), activation='relu'),\n",
    "    layers.MaxPooling2D((2, 2)),\n",
    "    layers.Flatten(),\n",
    "    layers.Dense(64, activation='relu'),\n",
    "    layers.Dense(2, activation='softmax')  # 두 개의 클래스로 분류\n",
    "])\n",
    "\n",
    "# 모델 컴파일\n",
    "model.compile(optimizer='adam',\n",
    "              loss='sparse_categorical_crossentropy',\n",
    "              metrics=['accuracy'])\n"
   ]
  },
  {
   "cell_type": "markdown",
   "metadata": {
    "id": "FxBYK1YeK2xr"
   },
   "source": [
    "## (5) 모델 학습하기"
   ]
  },
  {
   "cell_type": "code",
   "execution_count": null,
   "metadata": {
    "colab": {
     "base_uri": "https://localhost:8080/"
    },
    "id": "ZYMeZCP0Kqjm",
    "outputId": "35c379d8-0a76-40ff-ec6a-a30680ffeb99"
   },
   "outputs": [],
   "source": [
    "# 모델 학습\n",
    "num_epochs = 20\n",
    "model.fit(x_train, y_train, epochs=num_epochs, batch_size=64)\n",
    "\n",
    "print(\"Training finished!\")"
   ]
  },
  {
   "cell_type": "markdown",
   "metadata": {
    "id": "eg_WAHG6KrDT"
   },
   "source": [
    "## (6) 예측하기"
   ]
  },
  {
   "cell_type": "code",
   "execution_count": null,
   "metadata": {
    "colab": {
     "base_uri": "https://localhost:8080/"
    },
    "id": "HeeUmy9wI8-v",
    "outputId": "370bc38c-6fb9-4d4b-c439-58494f2c40cd"
   },
   "outputs": [],
   "source": [
    "pred = model.predict(x_val)\n",
    "pred_class = np.argmax(pred, axis=1)\n",
    "y_val = np.array(y_val)"
   ]
  },
  {
   "cell_type": "code",
   "execution_count": null,
   "metadata": {
    "colab": {
     "base_uri": "https://localhost:8080/"
    },
    "id": "-NE5MLKtSRc0",
    "outputId": "4dcf159d-c131-4c03-f2cb-03f18d7f4cba"
   },
   "outputs": [],
   "source": [
    "print(pred_class)\n",
    "print(y_val)"
   ]
  },
  {
   "cell_type": "code",
   "execution_count": null,
   "metadata": {
    "colab": {
     "base_uri": "https://localhost:8080/"
    },
    "id": "Dqy0xemCOih6",
    "outputId": "dcc87d53-81bf-460d-876b-61c86e5dbe28"
   },
   "outputs": [],
   "source": [
    "acc = np.mean(pred_class == y_val)\n",
    "print('accuracy: %f' % (acc,))"
   ]
  },
  {
   "cell_type": "markdown",
   "metadata": {
    "id": "ATmgJDy7TqYo"
   },
   "source": [
    "ramdom_state를 변화시키면서 train, val 나누는 코드부터 반복 시도함: 200장  \n",
    "1차 시도: 0.87(42)  \n",
    "2차 시도: 0.95(1004)  \n",
    "3차 시도: 0.85(55)  \n",
    "4차 시도: 0.88(33)  \n",
    "5차 시도: 0.83(316)  \n",
    "ramdom_state를 변화시키면서 train, val 나누는 코드부터 반복 시도함: 250장  \n",
    "1차 시도: 0.87(316)  \n",
    "2차 시도: 0.95(55)  \n",
    "3차 시도: 0.88(33)  \n",
    "4차 시도: 0.87(42)  \n",
    "5차 시도: 0.89(1004)  \n",
    "ramdom_state를 변화시키면서 train, val 나누는 코드부터 반복 시도함: 300장  \n",
    "1차 시도: 0.90(1004)    \n",
    "2차 시도: 0.90(33)  \n",
    "-이때쯤 커널 죽음-  "
   ]
  },
  {
   "cell_type": "markdown",
   "metadata": {
    "id": "77asKjP261rr"
   },
   "source": [
    "## (7) TEST"
   ]
  },
  {
   "cell_type": "code",
   "execution_count": null,
   "metadata": {
    "id": "KGNv2DQS9Tub"
   },
   "outputs": [],
   "source": [
    "class_name = [\"웜톤\", \"쿨톤\"]"
   ]
  },
  {
   "cell_type": "code",
   "execution_count": null,
   "metadata": {
    "colab": {
     "base_uri": "https://localhost:8080/"
    },
    "id": "iHVUZPKmUUvI",
    "outputId": "ef2ab9b9-2f2c-41d1-853b-2c0ce380e966"
   },
   "outputs": [],
   "source": [
    "# test 불러오기 (낱개 버전)\n",
    "test_path = \"/aiffel/aiffel/project/first-repository/data/four_seasons/TEST/박은빈.jpg\"\n",
    "x_test = Image.open(test_path)\n",
    "x_test = np.array(x_test)\n",
    "print(x_test.shape)\n",
    "\n",
    "# 배열의 크기 변환\n",
    "x_test = x_test.reshape((1, x_test.shape[0], x_test.shape[1], 3))\n",
    "print(\"변환된 배열 크기:\", x_test.shape)\n",
    "\n",
    "# 전처리(resize, 정규화)\n",
    "x_test = preprocess_image(x_test)\n",
    "print(x_test.shape)\n",
    "\n",
    "# 만약 앱구현과 연결된다면 저장된 모델을 다시 돌릴 필요없이 저장된 최적의 모델을 사용하도록 수정해야함\n",
    "# test\n",
    "pred = model.predict(x_test)\n",
    "pred_class = np.argmax(pred, axis=1)\n",
    "print(\"당신은\", class_name[int(pred_class)], \"입니다~!\")\n",
    "print(\"웜톤일 확률: \", np.round(pred[:, 0],3))\n",
    "print(\"쿨톤일 확률: \", np.round(pred[:, 1],3))"
   ]
  },
  {
   "cell_type": "code",
   "execution_count": null,
   "metadata": {
    "id": "AVH9Fp5cUIvq"
   },
   "outputs": [],
   "source": [
    "# 박은빈 겨울쿨이므로 쿨톤 맞춤!!"
   ]
  },
  {
   "cell_type": "code",
   "execution_count": null,
   "metadata": {
    "id": "LTOBwCojanZl"
   },
   "outputs": [],
   "source": []
  }
 ],
 "metadata": {
  "colab": {
   "provenance": []
  },
  "kernelspec": {
   "display_name": "Python 3 (ipykernel)",
   "language": "python",
   "name": "python3"
  },
  "language_info": {
   "codemirror_mode": {
    "name": "ipython",
    "version": 3
   },
   "file_extension": ".py",
   "mimetype": "text/x-python",
   "name": "python",
   "nbconvert_exporter": "python",
   "pygments_lexer": "ipython3",
   "version": "3.9.7"
  }
 },
 "nbformat": 4,
 "nbformat_minor": 1
}
