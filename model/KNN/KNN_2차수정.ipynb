{
  "cells": [
    {
      "cell_type": "markdown",
      "id": "46de910d",
      "metadata": {
        "id": "46de910d"
      },
      "source": [
        "# 프로젝트: 퍼스널 컬러 진단 - KNN 베이스코드\n",
        "\n",
        "## 데이터\n",
        "1. Cifer10 동물데이터: http://www.cs.toronto.edu/~kriz/cifar.html  \n",
        "2. 직접 수집한 쿨톤 100장, 웜톤 100장  \n",
        "\n",
        "## 목표\n",
        "1. 우선 CS231에 나온 내용을 기반으로 cifer10 데이터셋을 KNN으로 분류하는 작업을 해보도록 하겠다!\n",
        "2. 1단계를 적용하여 우리의 퍼스널컬러 데이터를 KNN으로 분류하는 작업을 해보자!"
      ]
    },
    {
      "cell_type": "markdown",
      "id": "8fc3ba3d",
      "metadata": {
        "id": "8fc3ba3d"
      },
      "source": [
        "# 1. Cifer10 분류\n",
        "## (1) 라이브러리 및 데이터 풀러오기"
      ]
    },
    {
      "cell_type": "code",
      "execution_count": 1,
      "id": "7d5feb18",
      "metadata": {
        "id": "7d5feb18"
      },
      "outputs": [],
      "source": [
        "import tensorflow as tf\n",
        "import numpy as np"
      ]
    },
    {
      "cell_type": "code",
      "execution_count": 2,
      "id": "9bab4bc2",
      "metadata": {
        "id": "9bab4bc2",
        "outputId": "8ae1eb07-a152-4ae6-e516-daebed9936af",
        "colab": {
          "base_uri": "https://localhost:8080/"
        }
      },
      "outputs": [
        {
          "output_type": "stream",
          "name": "stdout",
          "text": [
            "Downloading data from https://www.cs.toronto.edu/~kriz/cifar-10-python.tar.gz\n",
            "170498071/170498071 [==============================] - 4s 0us/step\n",
            "(50000, 32, 32, 3)\n",
            "(50000, 1)\n",
            "(10000, 32, 32, 3)\n",
            "(10000, 1)\n"
          ]
        }
      ],
      "source": [
        "# CIFAR-10 데이터셋 로드\n",
        "(Xtr, Ytr), (Xte, Yte) = tf.keras.datasets.cifar10.load_data()\n",
        "\n",
        "# 데이터 확인\n",
        "print(Xtr.shape)  # (50000, 32, 32, 3)\n",
        "print(Ytr.shape)  # (50000, 1)\n",
        "print(Xte.shape)   # (10000, 32, 32, 3)\n",
        "print(Yte.shape)   # (10000, 1)"
      ]
    },
    {
      "cell_type": "code",
      "execution_count": 3,
      "id": "669c409a",
      "metadata": {
        "id": "669c409a"
      },
      "outputs": [],
      "source": [
        "#print(Xtr)"
      ]
    },
    {
      "cell_type": "code",
      "execution_count": null,
      "id": "c40844f6",
      "metadata": {
        "id": "c40844f6",
        "outputId": "3db7903d-fcff-4552-d1b0-b162e0c3d5aa"
      },
      "outputs": [
        {
          "name": "stdout",
          "output_type": "stream",
          "text": [
            "[[6]\n",
            " [9]\n",
            " [9]\n",
            " ...\n",
            " [9]\n",
            " [1]\n",
            " [1]]\n"
          ]
        }
      ],
      "source": [
        "print(Ytr)"
      ]
    },
    {
      "cell_type": "markdown",
      "id": "11f2fe3d",
      "metadata": {
        "id": "11f2fe3d"
      },
      "source": [
        "## (2) 데이터 전처리"
      ]
    },
    {
      "cell_type": "code",
      "execution_count": null,
      "id": "df5e715a",
      "metadata": {
        "id": "df5e715a"
      },
      "outputs": [],
      "source": [
        "# 모든 이미지가 1차원 배열로 저장된다.\n",
        "Xtr_rows = Xtr.reshape(Xtr.shape[0], 32 * 32 * 3) # Xtr_rows는 50000 x 3072 크기의 배열.\n",
        "Xte_rows = Xte.reshape(Xte.shape[0], 32 * 32 * 3) # Xte_rows는 10000 x 3072 크기의 배열."
      ]
    },
    {
      "cell_type": "markdown",
      "id": "b9162d76",
      "metadata": {
        "id": "b9162d76"
      },
      "source": [
        "## (2) train, validation 분류하기"
      ]
    },
    {
      "cell_type": "code",
      "execution_count": null,
      "id": "024d7e50",
      "metadata": {
        "id": "024d7e50"
      },
      "outputs": [],
      "source": [
        "# Xtr_rows, Ytr, Xte_rows, Yte 는 이전과 동일하게 갖고 있다고 가정하자.\n",
        "# Xtr_rows 는 50,000 x 3072 행렬이었다.\n",
        "Xval_rows = Xtr_rows[:1000, :] # 앞의 1000 개를 검증용으로 선택한다.\n",
        "Yval = Ytr[:1000]\n",
        "Xtr_rows = Xtr_rows[1000:, :] # 뒤쪽의 49,000 개를 학습용으로 선택한다.\n",
        "Ytr = Ytr[1000:]"
      ]
    },
    {
      "cell_type": "markdown",
      "id": "5f89aa05",
      "metadata": {
        "id": "5f89aa05"
      },
      "source": [
        "## (2) KNN(최접근이웃)"
      ]
    },
    {
      "cell_type": "code",
      "execution_count": null,
      "id": "789fea4b",
      "metadata": {
        "id": "789fea4b"
      },
      "outputs": [],
      "source": [
        "class NearestNeighbor(object):\n",
        "    def __init__(self):\n",
        "        pass\n",
        "\n",
        "    def train(self, X, y):\n",
        "        \"\"\" X is N x D where each row is an example. Y is 1-dimension of size N \"\"\"\n",
        "        # nearest neighbor 분류기는 단순히 모든 학습 데이터를 기억해둔다.\n",
        "        self.Xtr = X\n",
        "        self.ytr = y\n",
        "\n",
        "    def predict(self, X, k):\n",
        "        \"\"\" X is N x D where each row is an example we wish to predict label for \"\"\"\n",
        "        num_test = X.shape[0]\n",
        "        # 출력 type과 입력 type이 갖게 되도록 확인해준다.\n",
        "        Ypred = np.zeros(num_test, dtype = self.ytr.dtype)\n",
        "\n",
        "    # loop over all test rows\n",
        "        for i in range(num_test):\n",
        "        # i번째 테스트 이미지와 가장 가까운 학습 이미지를\n",
        "        # L1 거리(절대값 차의 총합)를 이용하여 찾는다.\n",
        "            distances = np.sum(np.abs(self.Xtr - X[i,:]), axis = 1)\n",
        "            #distances = np.sqrt(np.sum(np.square(self.Xtr - X[i,:]), axis = 1))\n",
        "            #min_index = np.argmin(distances) # 가장 작은 distance를 갖는 인덱스를 찾는다.\n",
        "            #pred[i] = self.ytr[min_index] # 가장 가까운 이웃의 라벨로 예측\n",
        "\n",
        "            indices = np.argsort(distances)  # 거리가 작은 순서대로 인덱스 정렬\n",
        "            k_nearest_labels = self.ytr[indices[:k]]  # k개의 가장 가까운 이웃의 라벨\n",
        "            unique, counts = np.unique(k_nearest_labels, return_counts=True)\n",
        "            Ypred[i] = unique[np.argmax(counts)]  # 가장 많은 투표를 받은 라벨로 예측\n",
        "        return Ypred"
      ]
    },
    {
      "cell_type": "code",
      "execution_count": null,
      "id": "b37be30b",
      "metadata": {
        "id": "b37be30b",
        "outputId": "93e9aa9b-8081-4fa7-a37a-a53c99d21605"
      },
      "outputs": [
        {
          "name": "stdout",
          "output_type": "stream",
          "text": [
            "accuracy: 0.099237\n",
            "accuracy: 0.099692\n",
            "accuracy: 0.099476\n",
            "accuracy: 0.099453\n",
            "accuracy: 0.099738\n",
            "accuracy: 0.099670\n",
            "accuracy: 0.099609\n"
          ]
        }
      ],
      "source": [
        "# 검증 셋에서 가장 잘 동작하는 hyperparameter 들을 찾는다.\n",
        "validation_accuracies = []\n",
        "for k in [1, 3, 5, 10, 20, 50, 100]:\n",
        "\n",
        "    # 특정 k 값을 정해서 검증 데이터에 대해 평가할 때 사용한다.\n",
        "    nn = NearestNeighbor()\n",
        "    nn.train(Xtr_rows, Ytr)\n",
        "    # 여기서는 k를 input으로 받을 수 있도록 변형된 NearestNeighbor 클래스가 있다고 가정하자.\n",
        "    Yval_predict = nn.predict(Xval_rows, k = k)\n",
        "    acc = np.mean(Yval_predict == Yval)\n",
        "    print('accuracy: %f' % (acc,))\n",
        "\n",
        "    # 검증 셋에 대한 정확도를 저장해 놓는다.\n",
        "    validation_accuracies.append((k, acc))"
      ]
    },
    {
      "cell_type": "code",
      "execution_count": null,
      "id": "d6a907ac",
      "metadata": {
        "id": "d6a907ac",
        "outputId": "ef2ea02b-913b-44e0-e9e7-2f0e39d11520"
      },
      "outputs": [
        {
          "name": "stdout",
          "output_type": "stream",
          "text": [
            "[(1, 0.099237), (3, 0.099692), (5, 0.099476), (10, 0.099453), (20, 0.099738), (50, 0.09967), (100, 0.099609)]\n"
          ]
        }
      ],
      "source": [
        "print(validation_accuracies)"
      ]
    },
    {
      "cell_type": "markdown",
      "id": "59e5529a",
      "metadata": {
        "id": "59e5529a"
      },
      "source": [
        "-> 데이터 갯수에 비해 k값을 너무 작게 설정한 것 같아서 다시 수정해서 시도"
      ]
    },
    {
      "cell_type": "code",
      "execution_count": null,
      "id": "934bc6d0",
      "metadata": {
        "id": "934bc6d0",
        "outputId": "60ad62e4-dee1-4ee5-9332-a7d8f6290fe5"
      },
      "outputs": [
        {
          "name": "stdout",
          "output_type": "stream",
          "text": [
            "accuracy: 0.099609\n",
            "accuracy: 0.100084\n",
            "accuracy: 0.100414\n",
            "accuracy: 0.100554\n",
            "accuracy: 0.100498\n"
          ]
        }
      ],
      "source": [
        "# 검증 셋에서 가장 잘 동작하는 hyperparameter 들을 찾는다.\n",
        "validation_accuracies = []\n",
        "for k in [100, 500, 2000, 4000, 8000]:\n",
        "\n",
        "    # 특정 k 값을 정해서 검증 데이터에 대해 평가할 때 사용한다.\n",
        "    nn = NearestNeighbor()\n",
        "    nn.train(Xtr_rows, Ytr)\n",
        "    # 여기서는 k를 input으로 받을 수 있도록 변형된 NearestNeighbor 클래스가 있다고 가정하자.\n",
        "    Yval_predict = nn.predict(Xval_rows, k = k)\n",
        "    acc = np.mean(Yval_predict == Yval)\n",
        "    print('accuracy: %f' % (acc,))\n",
        "\n",
        "    # 검증 셋에 대한 정확도를 저장해 놓는다.\n",
        "    validation_accuracies.append((k, acc))"
      ]
    },
    {
      "cell_type": "code",
      "execution_count": null,
      "id": "56b24124",
      "metadata": {
        "id": "56b24124",
        "outputId": "11a488fe-50f3-457f-c8af-25c08b9d08ea"
      },
      "outputs": [
        {
          "name": "stdout",
          "output_type": "stream",
          "text": [
            "[(100, 0.099609), (500, 0.100084), (2000, 0.100414), (4000, 0.100554), (8000, 0.100498)]\n"
          ]
        }
      ],
      "source": [
        "print(validation_accuracies)"
      ]
    },
    {
      "cell_type": "markdown",
      "id": "fb70107e",
      "metadata": {
        "id": "fb70107e"
      },
      "source": [
        "# 2. 퍼스널 컬러 분류\n",
        "\n",
        "## (1) 라이브러리 및 데이터 불러오기"
      ]
    },
    {
      "cell_type": "code",
      "execution_count": 22,
      "id": "c8020e33",
      "metadata": {
        "id": "c8020e33"
      },
      "outputs": [],
      "source": [
        "import tensorflow as tf\n",
        "import numpy as np\n",
        "import cv2\n",
        "import os\n",
        "import glob\n",
        "from PIL import Image"
      ]
    },
    {
      "cell_type": "code",
      "execution_count": 2,
      "id": "76374174",
      "metadata": {
        "id": "76374174"
      },
      "outputs": [],
      "source": [
        "def load_images_from_directory(directory_path):\n",
        "    image_paths = glob.glob(directory_path + '/*.jpg')  # 디렉토리 내의 모든 jpg 파일 경로 찾기\n",
        "    #image_paths.extend(glob.glob(directory_path + '/)*.png')  # 디렉토리 내의 모든 png 파일 경로 추가 오류남\n",
        "    image_paths.extend(glob.glob(directory_path + '/*.jpeg'))  # 디렉토리 내의 모든 jpeg 파일 경로 추가\n",
        "    image_paths.extend(glob.glob(directory_path + '/*.jfif'))  # 디렉토리 내의 모든 jfif 파일 경로 추가\n",
        "\n",
        "    images = []\n",
        "    for image_path in image_paths:\n",
        "        image = Image.open(image_path)\n",
        "        image_np = np.array(image)\n",
        "        images.append(image_np)\n",
        "\n",
        "    return images"
      ]
    },
    {
      "cell_type": "code",
      "source": [
        "from google.colab import drive\n",
        "drive.mount('/content/drive')"
      ],
      "metadata": {
        "colab": {
          "base_uri": "https://localhost:8080/"
        },
        "id": "UFw-OAj1eWsx",
        "outputId": "381acd7f-b421-4f33-b315-df016607c10a"
      },
      "id": "UFw-OAj1eWsx",
      "execution_count": 3,
      "outputs": [
        {
          "output_type": "stream",
          "name": "stdout",
          "text": [
            "Mounted at /content/drive\n"
          ]
        }
      ]
    },
    {
      "cell_type": "code",
      "execution_count": 12,
      "id": "2e82a1f4",
      "metadata": {
        "id": "2e82a1f4",
        "colab": {
          "base_uri": "https://localhost:8080/"
        },
        "outputId": "7808b970-66f7-44c0-a7f3-47de44925f83"
      },
      "outputs": [
        {
          "output_type": "stream",
          "name": "stdout",
          "text": [
            "50\n",
            "50\n",
            "100\n"
          ]
        }
      ],
      "source": [
        "# 모든 이미지 불러오기\n",
        "directory_path = \"/content/drive/MyDrive/four_seasons/사계절_연예인 이미지 데이터셋/prototype/쿨톤_jpg\"  # 디렉토리 경로\n",
        "directory_path2 = \"/content/drive/MyDrive/four_seasons/사계절_연예인 이미지 데이터셋/prototype/웜톤_jpg\"  # 디렉토리 경로\n",
        "images = load_images_from_directory(directory_path)\n",
        "images2 = load_images_from_directory(directory_path2)\n",
        "\n",
        "length = len(images)\n",
        "print(length)\n",
        "print(len(images2))\n",
        "\n",
        "# 이미지 리스트 합치기\n",
        "images = np.concatenate((images, images2), axis=0)\n",
        "print(len(images))"
      ]
    },
    {
      "cell_type": "markdown",
      "id": "b53b01ac",
      "metadata": {
        "id": "b53b01ac"
      },
      "source": [
        "## (2) 데이터 전처리"
      ]
    },
    {
      "cell_type": "code",
      "source": [
        "# 새로운 크기로 리사이즈할 이미지의 너비와 높이\n",
        "new_width = 200\n",
        "new_height = 200\n",
        "\n",
        "resized_images = []\n",
        "for image in images:\n",
        "    resized_image = cv2.resize(image, (new_width, new_height))\n",
        "    resized_images.append(resized_image)\n",
        "\n",
        "# 결과 출력\n",
        "#for resized_image in resized_images:\n",
        "#    print(resized_image.shape)\n",
        "\n",
        "# resized_images 리스트를 NumPy 배열로 변환\n",
        "resized_images_array = np.array(resized_images)\n",
        "\n",
        "# 변환된 NumPy 배열 출력\n",
        "print(resized_images_array.shape)"
      ],
      "metadata": {
        "colab": {
          "base_uri": "https://localhost:8080/"
        },
        "id": "u_7ZCWrwrnSr",
        "outputId": "754b54f7-053a-487c-dbc1-57cae4b8375d"
      },
      "id": "u_7ZCWrwrnSr",
      "execution_count": 13,
      "outputs": [
        {
          "output_type": "stream",
          "name": "stdout",
          "text": [
            "(100, 200, 200, 3)\n"
          ]
        }
      ]
    },
    {
      "cell_type": "code",
      "source": [
        "# 평탄화 작업\n",
        "images = resized_images_array.reshape(resized_images_array.shape[0], 200 * 200 * 3)"
      ],
      "metadata": {
        "id": "VdT_yCBF6omQ"
      },
      "id": "VdT_yCBF6omQ",
      "execution_count": 14,
      "outputs": []
    },
    {
      "cell_type": "code",
      "execution_count": 15,
      "id": "60e33d78",
      "metadata": {
        "colab": {
          "base_uri": "https://localhost:8080/"
        },
        "id": "60e33d78",
        "outputId": "f6e17afd-5aec-43b4-8973-7e1c02bc5df8"
      },
      "outputs": [
        {
          "output_type": "stream",
          "name": "stdout",
          "text": [
            "100\n",
            "[0. 0. 0. 0. 0. 0. 0. 0. 0. 0. 0. 0. 0. 0. 0. 0. 0. 0. 0. 0. 0. 0. 0. 0.\n",
            " 0. 0. 0. 0. 0. 0. 0. 0. 0. 0. 0. 0. 0. 0. 0. 0. 0. 0. 0. 0. 0. 0. 0. 0.\n",
            " 0. 0. 1. 1. 1. 1. 1. 1. 1. 1. 1. 1. 1. 1. 1. 1. 1. 1. 1. 1. 1. 1. 1. 1.\n",
            " 1. 1. 1. 1. 1. 1. 1. 1. 1. 1. 1. 1. 1. 1. 1. 1. 1. 1. 1. 1. 1. 1. 1. 1.\n",
            " 1. 1. 1. 1.]\n"
          ]
        }
      ],
      "source": [
        "# labels에 대한 코드\n",
        "num = len(images)\n",
        "labels = np.zeros(num)\n",
        "\n",
        "# 처음 50개의 요소를 1로 변경\n",
        "labels[length:] = 1\n",
        "\n",
        "# 0이 쿨톤 1이 웜톤\n",
        "print(len(images))\n",
        "print(labels)"
      ]
    },
    {
      "cell_type": "markdown",
      "id": "6a496e53",
      "metadata": {
        "id": "6a496e53"
      },
      "source": [
        "## (3) train, val, test 분리하기"
      ]
    },
    {
      "cell_type": "code",
      "execution_count": 16,
      "id": "155986cb",
      "metadata": {
        "id": "155986cb"
      },
      "outputs": [],
      "source": [
        "def split_data(data, labels, train_ratio, val_ratio):\n",
        "    # 데이터 개수 확인\n",
        "    num_examples = len(data)\n",
        "    num_lables = len(labels)\n",
        "    print(\"총 데이터 갯수: \", len(data))\n",
        "    print(\"총 라벨 갯수: \", len(labels))\n",
        "\n",
        "    # 인덱스를 섞은 배열 생성\n",
        "    shuffled_indices = np.random.permutation(num)\n",
        "\n",
        "    # 훈련 세트, 검증 세트, 테스트 세트 크기 계산\n",
        "    train_size = int(num_examples * train_ratio)\n",
        "    val_size = int(num_examples * val_ratio)\n",
        "    test_size = num_examples - train_size - val_size\n",
        "\n",
        "    # 데이터와 레이블을 분할하여 저장할 변수 초기화\n",
        "    train_data = np.zeros((train_size, *data.shape[1:]))\n",
        "    train_labels = np.zeros((train_size, *labels.shape[1:]))\n",
        "    val_data = np.zeros((val_size, *data.shape[1:]))\n",
        "    val_labels = np.zeros((val_size, *labels.shape[1:]))\n",
        "    test_data = np.zeros((test_size, *data.shape[1:]))\n",
        "    test_labels = np.zeros((test_size, *labels.shape[1:]))\n",
        "\n",
        "    # 데이터와 레이블을 섞은 인덱스를 기반으로 분할\n",
        "    train_indices = shuffled_indices[:train_size]\n",
        "    val_indices = shuffled_indices[train_size:train_size+val_size]\n",
        "    test_indices = shuffled_indices[train_size+val_size:]\n",
        "\n",
        "    train_data = data[train_indices]\n",
        "    train_labels = labels[train_indices]\n",
        "    val_data = data[val_indices]\n",
        "    val_labels = labels[val_indices]\n",
        "    test_data = data[test_indices]\n",
        "    test_labels = labels[test_indices]\n",
        "\n",
        "    return train_data, train_labels, val_data, val_labels, test_data, test_labels"
      ]
    },
    {
      "cell_type": "code",
      "execution_count": 17,
      "id": "74286a64",
      "metadata": {
        "colab": {
          "base_uri": "https://localhost:8080/"
        },
        "id": "74286a64",
        "outputId": "f78c0153-a166-45f4-f3a6-42cfa9ec36bb"
      },
      "outputs": [
        {
          "output_type": "stream",
          "name": "stdout",
          "text": [
            "총 데이터 갯수:  100\n",
            "총 라벨 갯수:  100\n",
            "train:  (70, 120000)\n",
            "val:  (20, 120000)\n",
            "test:  (10, 120000)\n"
          ]
        }
      ],
      "source": [
        "train_ratio = 0.7  # 훈련 세트 비율\n",
        "val_ratio = 0.2    # 검증 세트 비율\n",
        "train_data, train_labels, val_data, val_labels, test_data, test_labels = split_data(images, labels, train_ratio, val_ratio)\n",
        "print(\"train: \", train_data.shape)\n",
        "print(\"val: \", val_data.shape)\n",
        "print(\"test: \", test_data.shape)"
      ]
    },
    {
      "cell_type": "markdown",
      "id": "065860dd",
      "metadata": {
        "id": "065860dd"
      },
      "source": [
        "## (4) KNN(최접근이웃)"
      ]
    },
    {
      "cell_type": "code",
      "execution_count": 18,
      "id": "4c022d31",
      "metadata": {
        "id": "4c022d31"
      },
      "outputs": [],
      "source": [
        "class NearestNeighbor(object):\n",
        "    def __init__(self):\n",
        "        pass\n",
        "\n",
        "    def train(self, X, y):\n",
        "        \"\"\" X is N x D where each row is an example. Y is 1-dimension of size N \"\"\"\n",
        "        # nearest neighbor 분류기는 단순히 모든 학습 데이터를 기억해둔다.\n",
        "        self.Xtr = X\n",
        "        self.ytr = y\n",
        "\n",
        "    def predict(self, X, k):\n",
        "        \"\"\" X is N x D where each row is an example we wish to predict label for \"\"\"\n",
        "        num_test = X.shape[0]\n",
        "        # 출력 type과 입력 type이 갖게 되도록 확인해준다.\n",
        "        Ypred = np.zeros(num_test, dtype = self.ytr.dtype)\n",
        "\n",
        "    # loop over all test rows\n",
        "        for i in range(num_test):\n",
        "        # i번째 테스트 이미지와 가장 가까운 학습 이미지를\n",
        "        # L1 거리(절대값 차의 총합)를 이용하여 찾는다.\n",
        "            #distances = np.sum(np.abs(self.Xtr - X[i,:]), axis = 1)\n",
        "            distances = np.sqrt(np.sum(np.square(self.Xtr - X[i,:]), axis = 1))\n",
        "            #min_index = np.argmin(distances) # 가장 작은 distance를 갖는 인덱스를 찾는다.\n",
        "            #pred[i] = self.ytr[min_index] # 가장 가까운 이웃의 라벨로 예측\n",
        "\n",
        "            indices = np.argsort(distances)  # 거리가 작은 순서대로 인덱스 정렬\n",
        "            k_nearest_labels = self.ytr[indices[:k]]  # k개의 가장 가까운 이웃의 라벨\n",
        "            unique, counts = np.unique(k_nearest_labels, return_counts=True)\n",
        "            Ypred[i] = unique[np.argmax(counts)]  # 가장 많은 투표를 받은 라벨로 예측\n",
        "        return Ypred"
      ]
    },
    {
      "cell_type": "code",
      "execution_count": 19,
      "id": "d5747c33",
      "metadata": {
        "colab": {
          "base_uri": "https://localhost:8080/"
        },
        "id": "d5747c33",
        "outputId": "2c05a2a5-ea95-4e19-8ba9-ae22ec85ad1c"
      },
      "outputs": [
        {
          "output_type": "stream",
          "name": "stdout",
          "text": [
            "accuracy: 0.400000\n",
            "accuracy: 0.500000\n",
            "accuracy: 0.650000\n",
            "accuracy: 0.650000\n",
            "accuracy: 0.550000\n"
          ]
        }
      ],
      "source": [
        "# 검증 셋에서 가장 잘 동작하는 hyperparameter 들을 찾는다.\n",
        "validation_accuracies = []\n",
        "for k in [5, 10, 20, 25, 30]:\n",
        "\n",
        "    # 특정 k 값을 정해서 검증 데이터에 대해 평가할 때 사용한다.\n",
        "    nn = NearestNeighbor()\n",
        "    nn.train(train_data, train_labels)\n",
        "    # 여기서는 k를 input으로 받을 수 있도록 변형된 NearestNeighbor 클래스가 있다고 가정하자.\n",
        "    Yval_predict = nn.predict(val_data, k = k)\n",
        "    acc = np.mean(Yval_predict == val_labels)\n",
        "    print('accuracy: %f' % (acc,))\n",
        "\n",
        "    # 검증 셋에 대한 정확도를 저장해 놓는다.\n",
        "    validation_accuracies.append((k, acc))"
      ]
    },
    {
      "cell_type": "code",
      "source": [
        "# 이제 본격적인 최고 10개 70%, 30개 70% 보통 40%~70% 사이 나오는듯\n",
        "print(validation_accuracies)"
      ],
      "metadata": {
        "colab": {
          "base_uri": "https://localhost:8080/"
        },
        "id": "UhnmiADN-eNo",
        "outputId": "1d39732c-6fcb-4721-c15b-ecf0da940235"
      },
      "id": "UhnmiADN-eNo",
      "execution_count": 20,
      "outputs": [
        {
          "output_type": "stream",
          "name": "stdout",
          "text": [
            "[(5, 0.4), (10, 0.5), (20, 0.65), (25, 0.65), (30, 0.55)]\n"
          ]
        }
      ]
    },
    {
      "cell_type": "code",
      "source": [
        "Ytest_predict = nn.predict(test_data, k = k)\n",
        "print(Ytest_predict)\n",
        "print(test_labels)"
      ],
      "metadata": {
        "colab": {
          "base_uri": "https://localhost:8080/"
        },
        "id": "j5kFGTj-38Dc",
        "outputId": "76604bb7-ddc5-4287-fa78-59be4a6a0e94"
      },
      "id": "j5kFGTj-38Dc",
      "execution_count": 21,
      "outputs": [
        {
          "output_type": "stream",
          "name": "stdout",
          "text": [
            "[0. 0. 0. 1. 0. 1. 1. 1. 0. 1.]\n",
            "[0. 1. 1. 1. 1. 0. 0. 0. 0. 1.]\n"
          ]
        }
      ]
    },
    {
      "cell_type": "markdown",
      "source": [
        "- 너무 아쉬운 75% 정확도.."
      ],
      "metadata": {
        "id": "haefa8fyJsqu"
      },
      "id": "haefa8fyJsqu"
    },
    {
      "cell_type": "code",
      "source": [
        "# png를 제외한 쿨톤 46 +46 최고 25개 75%\n",
        "print(validation_accuracies)"
      ],
      "metadata": {
        "colab": {
          "base_uri": "https://localhost:8080/"
        },
        "id": "lLmZnaRG1-AX",
        "outputId": "d1d6198d-9a66-4a3b-edeb-cd48f1880e09"
      },
      "id": "lLmZnaRG1-AX",
      "execution_count": 73,
      "outputs": [
        {
          "output_type": "stream",
          "name": "stdout",
          "text": [
            "[(5, 0.3125), (10, 0.625), (20, 0.5625), (25, 0.75), (30, 0.625)]\n"
          ]
        }
      ]
    },
    {
      "cell_type": "markdown",
      "source": [
        "-> 결론적으로 일반적인 knn을 사용하면 k가 10개일때와 30일 때 70%의 정확도를 보였으며 일반적으로 40~70%의 정확도를 보여준다."
      ],
      "metadata": {
        "id": "itLX0_E_2rVI"
      },
      "id": "itLX0_E_2rVI"
    },
    {
      "cell_type": "markdown",
      "id": "343815b0",
      "metadata": {
        "id": "343815b0"
      },
      "source": [
        "## (5) skin detection 된 값으로 평균값을 넣으면 다를까?"
      ]
    },
    {
      "cell_type": "code",
      "execution_count": 36,
      "id": "7d0d425a",
      "metadata": {
        "id": "7d0d425a"
      },
      "outputs": [],
      "source": [
        "def Skin_Detection(img_path):\n",
        "\n",
        "  #Open a simple image\n",
        "  img=cv2.imread(img_path)\n",
        "\n",
        "  #converting from gbr to YCbCr color space\n",
        "  img_YCrCb = cv2.cvtColor(img, cv2.COLOR_BGR2YCrCb)\n",
        "  #skin color range for hsv color space\n",
        "  YCrCb_mask = cv2.inRange(img_YCrCb, (0, 135, 85), (255,180,135))\n",
        "  YCrCb_mask = cv2.morphologyEx(YCrCb_mask, cv2.MORPH_OPEN, np.ones((3,3), np.uint8))\n",
        "\n",
        "  YCrCb_result = cv2.bitwise_not(YCrCb_mask)\n",
        "  YCrCb_skin_detected = cv2.bitwise_and(img, img, mask=YCrCb_mask)\n",
        "\n",
        "  return img_YCrCb, YCrCb_mask"
      ]
    },
    {
      "cell_type": "code",
      "source": [
        "# skin 좌표 추출, YCrCb 픽셀값 추출\n",
        "def coordinate_extraction(mask, img):\n",
        "  skin = np.argwhere(mask == 255) # mask의 픽셀값이 255인 skin부분의 좌표 추출\n",
        "\n",
        "  pixel_values = [] # YCbCr 픽셀값 저장을 위한 리스트\n",
        "\n",
        "  for index in skin:\n",
        "    y, x = index  #일반적으로 생각하는 가로 x, 세로 y로 표현하기 위해 위치 바꿈\n",
        "    #print(f\"x: {x}, y: {y}\") # skin 범위 좌표값 출력(스압주의)\n",
        "    pixel_value = img[y, x]\n",
        "    pixel_values.append(pixel_value)\n",
        "\n",
        "  for coord, pixel_value in zip(skin, pixel_values): # skin부분의 좌표값과 픽셀값 출력을 위한 함수\n",
        "    x, y = coord\n",
        "    #print(f\"Coordinate: ({x}, {y}), Pixel Value: {pixel_value}\")\n",
        "\n",
        "  return pixel_values"
      ],
      "metadata": {
        "id": "pu0GoPEDrVLO"
      },
      "id": "pu0GoPEDrVLO",
      "execution_count": 37,
      "outputs": []
    },
    {
      "cell_type": "code",
      "source": [
        "# 픽셀의 평균값 구하기\n",
        "def pixel_means(pixel_values):\n",
        "  # 열 별로 원소들을 더하기\n",
        "  column_sums = np.sum(pixel_values, axis=0)\n",
        "\n",
        "  # pixel_values를 NumPy 배열로 변환\n",
        "  pixel_values = np.array(pixel_values)\n",
        "\n",
        "  # 열 별로 평균 계산하기\n",
        "  column_means = column_sums / pixel_values.shape[0]\n",
        "\n",
        "  return column_means"
      ],
      "metadata": {
        "id": "XzDhygJkrVZF"
      },
      "id": "XzDhygJkrVZF",
      "execution_count": 38,
      "outputs": []
    },
    {
      "cell_type": "code",
      "source": [
        "def get_dict(dir_path):\n",
        "  file_list = os.listdir(dir_path)\n",
        "\n",
        "  img_list = []\n",
        "  result_list = []\n",
        "\n",
        "  for file in file_list:\n",
        "    img_path = os.path.join(dir_path, file)\n",
        "    if os.path.isdir(img_path):  # 만약 디렉토리인 경우, 무시하고 다음 파일로 넘어감\n",
        "      continue\n",
        "    file_name = file\n",
        "    file_name = os.path.splitext(file_name)[0] # 파일 이름과 확장자 분리\n",
        "    img_YCrCb,YCrCb_mask = Skin_Detection(img_path)\n",
        "    img_list.append([img_YCrCb, YCrCb_mask]) # 그림 show()를 위한 용도\n",
        "\n",
        "    # YCrCb\n",
        "    YCrCb_pixel_values = coordinate_extraction(YCrCb_mask, img_YCrCb)\n",
        "    YCrCb_pixel_means = pixel_means(YCrCb_pixel_values)\n",
        "    #print(YCrCb_pixel_means)\n",
        "\n",
        "    result_list.append(YCrCb_pixel_means)\n",
        "\n",
        "  return result_list"
      ],
      "metadata": {
        "id": "2CoUiVyZrcTO"
      },
      "id": "2CoUiVyZrcTO",
      "execution_count": 42,
      "outputs": []
    },
    {
      "cell_type": "code",
      "source": [
        "path = \"/content/drive/MyDrive/four_seasons/사계절_연예인 이미지 데이터셋/prototype/쿨톤_jpg\"  # 디렉토리 경로\n",
        "path2 = \"/content/drive/MyDrive/four_seasons/사계절_연예인 이미지 데이터셋/prototype/웜톤_jpg\"  # 디렉토리 경로"
      ],
      "metadata": {
        "id": "blRR2Xbqw1yP"
      },
      "id": "blRR2Xbqw1yP",
      "execution_count": 43,
      "outputs": []
    },
    {
      "cell_type": "code",
      "source": [
        "cool_result  = get_dict(path) # 1분"
      ],
      "metadata": {
        "id": "WXyqRpTircZI"
      },
      "id": "WXyqRpTircZI",
      "execution_count": 44,
      "outputs": []
    },
    {
      "cell_type": "code",
      "source": [
        "warm_result  = get_dict(path2) # 1분"
      ],
      "metadata": {
        "id": "aaHc865EyluV"
      },
      "id": "aaHc865EyluV",
      "execution_count": 45,
      "outputs": []
    },
    {
      "cell_type": "code",
      "source": [
        "images = np.concatenate((cool_result, warm_result), axis=0)\n",
        "#print(images) #스압 조큼 있음"
      ],
      "metadata": {
        "id": "sjTnM15mrk1J"
      },
      "id": "sjTnM15mrk1J",
      "execution_count": 47,
      "outputs": []
    },
    {
      "cell_type": "code",
      "source": [
        "# labels에 대한 코드\n",
        "num = len(images)\n",
        "labels = np.zeros(num)\n",
        "\n",
        "# 처음 50개의 요소를 1로 변경\n",
        "labels[length:] = 1\n",
        "\n",
        "# 0이 쿨톤 1이 웜톤\n",
        "print(len(images))\n",
        "print(labels)"
      ],
      "metadata": {
        "colab": {
          "base_uri": "https://localhost:8080/"
        },
        "id": "KzsR-mo_sOu8",
        "outputId": "c72a4520-0f5e-4e57-eb4e-b9f3b005ddf5"
      },
      "id": "KzsR-mo_sOu8",
      "execution_count": 48,
      "outputs": [
        {
          "output_type": "stream",
          "name": "stdout",
          "text": [
            "100\n",
            "[0. 0. 0. 0. 0. 0. 0. 0. 0. 0. 0. 0. 0. 0. 0. 0. 0. 0. 0. 0. 0. 0. 0. 0.\n",
            " 0. 0. 0. 0. 0. 0. 0. 0. 0. 0. 0. 0. 0. 0. 0. 0. 0. 0. 0. 0. 0. 0. 0. 0.\n",
            " 0. 0. 1. 1. 1. 1. 1. 1. 1. 1. 1. 1. 1. 1. 1. 1. 1. 1. 1. 1. 1. 1. 1. 1.\n",
            " 1. 1. 1. 1. 1. 1. 1. 1. 1. 1. 1. 1. 1. 1. 1. 1. 1. 1. 1. 1. 1. 1. 1. 1.\n",
            " 1. 1. 1. 1.]\n"
          ]
        }
      ]
    },
    {
      "cell_type": "code",
      "source": [
        "train_ratio = 0.7  # 훈련 세트 비율\n",
        "val_ratio = 0.2    # 검증 세트 비율\n",
        "train_data, train_labels, val_data, val_labels, test_data, test_labels = split_data(images, labels, train_ratio, val_ratio)\n",
        "print(\"train: \", train_data.shape)\n",
        "print(\"val: \", val_data.shape)\n",
        "print(\"test: \", test_data.shape)"
      ],
      "metadata": {
        "colab": {
          "base_uri": "https://localhost:8080/"
        },
        "id": "sUADwaoczKva",
        "outputId": "92f08862-11c4-4008-bd45-4852be4c0b00"
      },
      "id": "sUADwaoczKva",
      "execution_count": 74,
      "outputs": [
        {
          "output_type": "stream",
          "name": "stdout",
          "text": [
            "총 데이터 갯수:  100\n",
            "총 라벨 갯수:  100\n",
            "train:  (70, 3)\n",
            "val:  (20, 3)\n",
            "test:  (10, 3)\n"
          ]
        }
      ]
    },
    {
      "cell_type": "code",
      "source": [
        "# 검증 셋에서 가장 잘 동작하는 hyperparameter 들을 찾는다.\n",
        "validation_accuracies = []\n",
        "for k in [5, 10, 20, 25, 30]:\n",
        "\n",
        "    # 특정 k 값을 정해서 검증 데이터에 대해 평가할 때 사용한다.\n",
        "    nn = NearestNeighbor()\n",
        "    nn.train(train_data, train_labels)\n",
        "    # 여기서는 k를 input으로 받을 수 있도록 변형된 NearestNeighbor 클래스가 있다고 가정하자.\n",
        "    Yval_predict = nn.predict(val_data, k = k)\n",
        "    acc = np.mean(Yval_predict == val_labels)\n",
        "    print('accuracy: %f' % (acc,))\n",
        "\n",
        "    # 검증 셋에 대한 정확도를 저장해 놓는다.\n",
        "    validation_accuracies.append((k, acc))"
      ],
      "metadata": {
        "colab": {
          "base_uri": "https://localhost:8080/"
        },
        "id": "XD6I2mwWzS7k",
        "outputId": "339aea1b-9d86-4b59-8b01-c1d7708adb52"
      },
      "id": "XD6I2mwWzS7k",
      "execution_count": 75,
      "outputs": [
        {
          "output_type": "stream",
          "name": "stdout",
          "text": [
            "accuracy: 0.450000\n",
            "accuracy: 0.550000\n",
            "accuracy: 0.550000\n",
            "accuracy: 0.500000\n",
            "accuracy: 0.500000\n"
          ]
        }
      ]
    },
    {
      "cell_type": "code",
      "source": [
        "# 이제 본격적인 최고 25개 85% / 정확도 45%~85%정도 나오는듯\n",
        "print(validation_accuracies)"
      ],
      "metadata": {
        "colab": {
          "base_uri": "https://localhost:8080/"
        },
        "id": "CJLP-O7ozY5S",
        "outputId": "918c6996-928e-44bd-f774-475fc1eab94f"
      },
      "id": "CJLP-O7ozY5S",
      "execution_count": 55,
      "outputs": [
        {
          "output_type": "stream",
          "name": "stdout",
          "text": [
            "[(5, 0.55), (10, 0.75), (20, 0.8), (25, 0.85), (30, 0.55)]\n"
          ]
        }
      ]
    },
    {
      "cell_type": "code",
      "source": [
        "Ytest_predict = nn.predict(test_data, k = k)\n",
        "print(Ytest_predict)\n",
        "print(test_labels)"
      ],
      "metadata": {
        "colab": {
          "base_uri": "https://localhost:8080/"
        },
        "id": "Hekn2dEkzdVH",
        "outputId": "921462d5-9373-4eea-b3a1-96ebdcc5ff99"
      },
      "id": "Hekn2dEkzdVH",
      "execution_count": 52,
      "outputs": [
        {
          "output_type": "stream",
          "name": "stdout",
          "text": [
            "[0. 0. 0. 0. 0. 0. 1. 0. 0. 0.]\n",
            "[1. 0. 0. 1. 1. 1. 1. 1. 0. 1.]\n"
          ]
        }
      ]
    },
    {
      "cell_type": "markdown",
      "source": [
        "-> 결론적으로 skin detection을 통하여 추출한 피부 픽셀들의 평균으로 확인하였을 때는 k가 25일 때 85%의 정확도까지 나왔으며 일반적으로 45%~85%사이의 값이 나온다."
      ],
      "metadata": {
        "id": "dFDq7BwO26um"
      },
      "id": "dFDq7BwO26um"
    },
    {
      "cell_type": "markdown",
      "source": [
        "## (6) segmentation으로 해보기"
      ],
      "metadata": {
        "id": "EPz6CCZx0XMW"
      },
      "id": "EPz6CCZx0XMW"
    },
    {
      "cell_type": "code",
      "source": [],
      "metadata": {
        "id": "8OfGpMUkzoKh"
      },
      "id": "8OfGpMUkzoKh",
      "execution_count": null,
      "outputs": []
    }
  ],
  "metadata": {
    "kernelspec": {
      "display_name": "Python 3 (ipykernel)",
      "language": "python",
      "name": "python3"
    },
    "language_info": {
      "codemirror_mode": {
        "name": "ipython",
        "version": 3
      },
      "file_extension": ".py",
      "mimetype": "text/x-python",
      "name": "python",
      "nbconvert_exporter": "python",
      "pygments_lexer": "ipython3",
      "version": "3.9.7"
    },
    "colab": {
      "provenance": []
    }
  },
  "nbformat": 4,
  "nbformat_minor": 5
}
