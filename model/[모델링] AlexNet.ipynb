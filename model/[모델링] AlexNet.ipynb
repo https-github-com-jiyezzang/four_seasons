{
 "cells": [
  {
   "cell_type": "markdown",
   "id": "147370f2",
   "metadata": {},
   "source": [
    "# AlexNet\n",
    "## warm_1: 490장, cool_1: 186장 \n",
    "## 총 676장\n",
    "\n",
    "## train data, validation data 6:4 비율"
   ]
  },
  {
   "cell_type": "code",
   "execution_count": 3,
   "id": "549b49d0",
   "metadata": {},
   "outputs": [
    {
     "name": "stdout",
     "output_type": "stream",
     "text": [
      "PIL 라이브러리 import 완료!\n"
     ]
    }
   ],
   "source": [
    "from PIL import Image\n",
    "import numpy as np\n",
    "import glob\n",
    "import os\n",
    "\n",
    "print(\"PIL 라이브러리 import 완료!\")"
   ]
  },
  {
   "cell_type": "markdown",
   "id": "b592c2b5",
   "metadata": {},
   "source": [
    "## Step 1. 데이터 불러오고, 웜톤 0, 쿨톤 1로 레이블링"
   ]
  },
  {
   "cell_type": "code",
   "execution_count": 4,
   "id": "53c03ab4",
   "metadata": {},
   "outputs": [
    {
     "name": "stdout",
     "output_type": "stream",
     "text": [
      "학습데이터(x_train)의 이미지 개수는 676 입니다.\n",
      "x_train shape: (676, 224, 224, 3)\n",
      "y_train shape: (676,)\n"
     ]
    }
   ],
   "source": [
    "def load_data(img_path, number_of_data=676):  # 웜톤 490 + 쿨톤 186\n",
    "    # 웜톤 : 0, 쿨톤 : 1\n",
    "    img_size=224\n",
    "    color=3\n",
    "    #이미지 데이터와 라벨(웜톤 : 0, 쿨톤 : 1) 데이터를 담을 행렬(matrix) 영역을 생성합니다.\n",
    "    imgs=np.zeros(number_of_data*img_size*img_size*color,dtype=np.int32).reshape(number_of_data,img_size,img_size,color)\n",
    "    labels=np.zeros(number_of_data,dtype=np.int32)\n",
    "\n",
    "    idx=0\n",
    "    warm_files = list(glob.iglob(img_path + '/warm_1/*.jpg')) + list(glob.iglob(img_path + '/warm_1/*.JPG'))\n",
    "    for file in warm_files:\n",
    "        img = np.array(Image.open(file),dtype=np.int32)\n",
    "        imgs[idx,:,:,:]=img    # 데이터 영역에 이미지 행렬을 복사\n",
    "        labels[idx]=0   # 웜톤 : 0\n",
    "        idx=idx+1\n",
    "\n",
    "    cool_files = list(glob.iglob(img_path + '/cool_1/*.jpg')) + list(glob.iglob(img_path + '/cool_1/*.JPG'))\n",
    "    for file in cool_files:\n",
    "        img = np.array(Image.open(file),dtype=np.int32)\n",
    "        imgs[idx,:,:,:]=img    # 데이터 영역에 이미지 행렬을 복사\n",
    "        labels[idx]=1   # 쿨톤 : 1\n",
    "        idx=idx+1  \n",
    "    \n",
    "    print(\"학습데이터(x_train)의 이미지 개수는\", idx,\"입니다.\")\n",
    "    return imgs, labels\n",
    "\n",
    "image_dir_path = os.getenv(\"HOME\") + \"/aiffel/aiffelthon\"\n",
    "(x_train, y_train)=load_data(image_dir_path)\n",
    "\n",
    "print(\"x_train shape: {}\".format(x_train.shape))\n",
    "print(\"y_train shape: {}\".format(y_train.shape))"
   ]
  },
  {
   "cell_type": "markdown",
   "id": "2ba30919",
   "metadata": {},
   "source": [
    "## Step 2. train data, validation data 나누기, 정규화"
   ]
  },
  {
   "cell_type": "code",
   "execution_count": 5,
   "id": "72910e05",
   "metadata": {},
   "outputs": [],
   "source": [
    "import tensorflow as tf\n",
    "from tensorflow import keras"
   ]
  },
  {
   "cell_type": "code",
   "execution_count": 6,
   "id": "485e817d",
   "metadata": {},
   "outputs": [],
   "source": [
    "from sklearn.model_selection import train_test_split\n",
    "\n",
    "# x_train과 y_train을 훈련 세트와 검증 세트로 분할\n",
    "x_train, x_val, y_train, y_val = train_test_split(x_train, y_train, test_size=0.4, random_state=42)"
   ]
  },
  {
   "cell_type": "code",
   "execution_count": 7,
   "id": "0ef7a600",
   "metadata": {},
   "outputs": [
    {
     "data": {
      "text/plain": [
       "dtype('int32')"
      ]
     },
     "execution_count": 7,
     "metadata": {},
     "output_type": "execute_result"
    }
   ],
   "source": [
    "x_train.dtype"
   ]
  },
  {
   "cell_type": "code",
   "execution_count": 8,
   "id": "04dbe961",
   "metadata": {},
   "outputs": [],
   "source": [
    "x_train = x_train.astype('float32')\n",
    "x_val = x_val.astype('float32')"
   ]
  },
  {
   "cell_type": "code",
   "execution_count": 9,
   "id": "6015e00f",
   "metadata": {},
   "outputs": [],
   "source": [
    "x_train /= 255\n",
    "x_val /= 255"
   ]
  },
  {
   "cell_type": "markdown",
   "id": "b09b2042",
   "metadata": {},
   "source": [
    "## Step 3. AlexNet 모델 쌓기"
   ]
  },
  {
   "cell_type": "code",
   "execution_count": 10,
   "id": "4b2acb0a",
   "metadata": {},
   "outputs": [],
   "source": [
    "from tensorflow.keras.models import Sequential\n",
    "from tensorflow.keras.layers import Dense, Activation, Dropout, Flatten, Conv2D, MaxPooling2D, BatchNormalization"
   ]
  },
  {
   "cell_type": "code",
   "execution_count": 15,
   "id": "ca09e339",
   "metadata": {},
   "outputs": [],
   "source": [
    "# AlexNet 모델 생성\n",
    "model = Sequential()\n",
    "\n",
    "# 1st Convolutional Layer\n",
    "model.add(Conv2D(filters=96, input_shape=(224,224,3), kernel_size=(11,11), strides=(4,4), padding='valid'))\n",
    "model.add(Activation('relu'))\n",
    "# Max Pooling\n",
    "model.add(MaxPooling2D(pool_size=(2,2), strides=(2,2), padding='valid'))\n",
    "\n",
    "# 2nd Convolutional Layer\n",
    "model.add(Conv2D(filters=256, kernel_size=(11,11), strides=(1,1), padding='valid'))\n",
    "model.add(Activation('relu'))\n",
    "# Max Pooling\n",
    "model.add(MaxPooling2D(pool_size=(2,2), strides=(2,2), padding='valid'))\n",
    "\n",
    "# 3rd Convolutional Layer\n",
    "model.add(Conv2D(filters=384, kernel_size=(3,3), strides=(1,1), padding='valid'))\n",
    "model.add(Activation('relu'))\n",
    "\n",
    "# 4th Convolutional Layer\n",
    "model.add(Conv2D(filters=384, kernel_size=(3,3), strides=(1,1), padding='valid'))\n",
    "model.add(Activation('relu'))\n",
    "\n",
    "# 5th Convolutional Layer\n",
    "model.add(Conv2D(filters=256, kernel_size=(3,3), strides=(1,1), padding='valid'))\n",
    "model.add(Activation('relu'))\n",
    "# Max Pooling\n",
    "model.add(MaxPooling2D(pool_size=(2,2), strides=(2,2), padding='valid'))\n",
    "\n",
    "# Passing it to a Fully Connected layer\n",
    "model.add(Flatten())\n",
    "# 1st Fully Connected Layer\n",
    "model.add(Dense(4096, input_shape=(224*224*3,)))\n",
    "model.add(Activation('relu'))\n",
    "# Add Dropout to prevent overfitting\n",
    "model.add(Dropout(0.4))\n",
    "\n",
    "# 2nd Fully Connected Layer\n",
    "model.add(Dense(4096))\n",
    "model.add(Activation('relu'))\n",
    "# Add Dropout\n",
    "model.add(Dropout(0.4))\n",
    "\n",
    "# 3rd Fully Connected Layer\n",
    "model.add(Dense(1000))\n",
    "model.add(Activation('relu'))\n",
    "# Add Dropout\n",
    "model.add(Dropout(0.4))\n",
    "\n",
    "# Output Layer\n",
    "model.add(Dense(1))\n",
    "model.add(Activation('sigmoid'))"
   ]
  },
  {
   "cell_type": "code",
   "execution_count": 16,
   "id": "e8f40495",
   "metadata": {},
   "outputs": [
    {
     "name": "stdout",
     "output_type": "stream",
     "text": [
      "Model: \"sequential_2\"\n",
      "_________________________________________________________________\n",
      "Layer (type)                 Output Shape              Param #   \n",
      "=================================================================\n",
      "conv2d_10 (Conv2D)           (None, 54, 54, 96)        34944     \n",
      "_________________________________________________________________\n",
      "activation_18 (Activation)   (None, 54, 54, 96)        0         \n",
      "_________________________________________________________________\n",
      "max_pooling2d_6 (MaxPooling2 (None, 27, 27, 96)        0         \n",
      "_________________________________________________________________\n",
      "conv2d_11 (Conv2D)           (None, 17, 17, 256)       2973952   \n",
      "_________________________________________________________________\n",
      "activation_19 (Activation)   (None, 17, 17, 256)       0         \n",
      "_________________________________________________________________\n",
      "max_pooling2d_7 (MaxPooling2 (None, 8, 8, 256)         0         \n",
      "_________________________________________________________________\n",
      "conv2d_12 (Conv2D)           (None, 6, 6, 384)         885120    \n",
      "_________________________________________________________________\n",
      "activation_20 (Activation)   (None, 6, 6, 384)         0         \n",
      "_________________________________________________________________\n",
      "conv2d_13 (Conv2D)           (None, 4, 4, 384)         1327488   \n",
      "_________________________________________________________________\n",
      "activation_21 (Activation)   (None, 4, 4, 384)         0         \n",
      "_________________________________________________________________\n",
      "conv2d_14 (Conv2D)           (None, 2, 2, 256)         884992    \n",
      "_________________________________________________________________\n",
      "activation_22 (Activation)   (None, 2, 2, 256)         0         \n",
      "_________________________________________________________________\n",
      "max_pooling2d_8 (MaxPooling2 (None, 1, 1, 256)         0         \n",
      "_________________________________________________________________\n",
      "flatten_2 (Flatten)          (None, 256)               0         \n",
      "_________________________________________________________________\n",
      "dense_8 (Dense)              (None, 4096)              1052672   \n",
      "_________________________________________________________________\n",
      "activation_23 (Activation)   (None, 4096)              0         \n",
      "_________________________________________________________________\n",
      "dropout_6 (Dropout)          (None, 4096)              0         \n",
      "_________________________________________________________________\n",
      "dense_9 (Dense)              (None, 4096)              16781312  \n",
      "_________________________________________________________________\n",
      "activation_24 (Activation)   (None, 4096)              0         \n",
      "_________________________________________________________________\n",
      "dropout_7 (Dropout)          (None, 4096)              0         \n",
      "_________________________________________________________________\n",
      "dense_10 (Dense)             (None, 1000)              4097000   \n",
      "_________________________________________________________________\n",
      "activation_25 (Activation)   (None, 1000)              0         \n",
      "_________________________________________________________________\n",
      "dropout_8 (Dropout)          (None, 1000)              0         \n",
      "_________________________________________________________________\n",
      "dense_11 (Dense)             (None, 1)                 1001      \n",
      "_________________________________________________________________\n",
      "activation_26 (Activation)   (None, 1)                 0         \n",
      "=================================================================\n",
      "Total params: 28,038,481\n",
      "Trainable params: 28,038,481\n",
      "Non-trainable params: 0\n",
      "_________________________________________________________________\n"
     ]
    }
   ],
   "source": [
    "model.summary()"
   ]
  },
  {
   "cell_type": "code",
   "execution_count": 17,
   "id": "d36f95b2",
   "metadata": {},
   "outputs": [],
   "source": [
    "# Compile the model\n",
    "model.compile(loss=keras.losses.binary_crossentropy, optimizer='adam', metrics=[\"accuracy\"])"
   ]
  },
  {
   "cell_type": "markdown",
   "id": "53ea399d",
   "metadata": {},
   "source": [
    "### 시도 1. epochs=10, batch_size=32"
   ]
  },
  {
   "cell_type": "code",
   "execution_count": 23,
   "id": "f554834d",
   "metadata": {},
   "outputs": [
    {
     "name": "stdout",
     "output_type": "stream",
     "text": [
      "Epoch 1/10\n",
      "13/13 [==============================] - 1s 81ms/step - loss: 0.6039 - accuracy: 0.7086 - val_loss: 0.5666 - val_accuracy: 0.7491\n",
      "Epoch 2/10\n",
      "13/13 [==============================] - 1s 40ms/step - loss: 0.6040 - accuracy: 0.7086 - val_loss: 0.5653 - val_accuracy: 0.7491\n",
      "Epoch 3/10\n",
      "13/13 [==============================] - 1s 41ms/step - loss: 0.6074 - accuracy: 0.7086 - val_loss: 0.5701 - val_accuracy: 0.7491\n",
      "Epoch 4/10\n",
      "13/13 [==============================] - 1s 40ms/step - loss: 0.6040 - accuracy: 0.7086 - val_loss: 0.5695 - val_accuracy: 0.7491\n",
      "Epoch 5/10\n",
      "13/13 [==============================] - 1s 42ms/step - loss: 0.6064 - accuracy: 0.7086 - val_loss: 0.5683 - val_accuracy: 0.7491\n",
      "Epoch 6/10\n",
      "13/13 [==============================] - 1s 41ms/step - loss: 0.6050 - accuracy: 0.7086 - val_loss: 0.5647 - val_accuracy: 0.7491\n",
      "Epoch 7/10\n",
      "13/13 [==============================] - 1s 41ms/step - loss: 0.6051 - accuracy: 0.7086 - val_loss: 0.5710 - val_accuracy: 0.7491\n",
      "Epoch 8/10\n",
      "13/13 [==============================] - 1s 41ms/step - loss: 0.6089 - accuracy: 0.7086 - val_loss: 0.5706 - val_accuracy: 0.7491\n",
      "Epoch 9/10\n",
      "13/13 [==============================] - 1s 42ms/step - loss: 0.6110 - accuracy: 0.7086 - val_loss: 0.5688 - val_accuracy: 0.7491\n",
      "Epoch 10/10\n",
      "13/13 [==============================] - 1s 41ms/step - loss: 0.6027 - accuracy: 0.7086 - val_loss: 0.5679 - val_accuracy: 0.7491\n"
     ]
    }
   ],
   "source": [
    "hist = model.fit(x=x_train, y=y_train, epochs=10, batch_size=32, validation_data=(x_val, y_val), verbose=1)"
   ]
  },
  {
   "cell_type": "code",
   "execution_count": 24,
   "id": "12bfbde6",
   "metadata": {},
   "outputs": [
    {
     "name": "stdout",
     "output_type": "stream",
     "text": [
      "9/9 [==============================] - 0s 16ms/step - loss: 0.5679 - accuracy: 0.7491\n",
      "Test loss 0.5679, accuracy 74.91%\n"
     ]
    }
   ],
   "source": [
    "test_score=model.evaluate(x_val, y_val)\n",
    "print(\"Test loss {:.4f}, accuracy {:.2f}%\".format(test_score[0], test_score[1]*100))"
   ]
  },
  {
   "cell_type": "markdown",
   "id": "aadd25a0",
   "metadata": {},
   "source": [
    "### 시도 2. epochs=20, batch_size=32"
   ]
  },
  {
   "cell_type": "code",
   "execution_count": 25,
   "id": "6f3ee25f",
   "metadata": {},
   "outputs": [
    {
     "name": "stdout",
     "output_type": "stream",
     "text": [
      "Epoch 1/20\n",
      "13/13 [==============================] - 1s 76ms/step - loss: 0.6097 - accuracy: 0.7086 - val_loss: 0.5709 - val_accuracy: 0.7491\n",
      "Epoch 2/20\n",
      "13/13 [==============================] - 1s 41ms/step - loss: 0.6095 - accuracy: 0.7086 - val_loss: 0.5717 - val_accuracy: 0.7491\n",
      "Epoch 3/20\n",
      "13/13 [==============================] - 1s 41ms/step - loss: 0.6063 - accuracy: 0.7086 - val_loss: 0.5668 - val_accuracy: 0.7491\n",
      "Epoch 4/20\n",
      "13/13 [==============================] - 1s 41ms/step - loss: 0.6092 - accuracy: 0.7086 - val_loss: 0.5671 - val_accuracy: 0.7491\n",
      "Epoch 5/20\n",
      "13/13 [==============================] - 1s 41ms/step - loss: 0.6074 - accuracy: 0.7086 - val_loss: 0.5686 - val_accuracy: 0.7491\n",
      "Epoch 6/20\n",
      "13/13 [==============================] - 1s 44ms/step - loss: 0.6093 - accuracy: 0.7086 - val_loss: 0.5722 - val_accuracy: 0.7491\n",
      "Epoch 7/20\n",
      "13/13 [==============================] - 1s 42ms/step - loss: 0.6071 - accuracy: 0.7086 - val_loss: 0.5668 - val_accuracy: 0.7491\n",
      "Epoch 8/20\n",
      "13/13 [==============================] - 1s 41ms/step - loss: 0.6034 - accuracy: 0.7086 - val_loss: 0.5647 - val_accuracy: 0.7491\n",
      "Epoch 9/20\n",
      "13/13 [==============================] - 1s 41ms/step - loss: 0.6110 - accuracy: 0.7086 - val_loss: 0.5728 - val_accuracy: 0.7491\n",
      "Epoch 10/20\n",
      "13/13 [==============================] - 1s 43ms/step - loss: 0.6044 - accuracy: 0.7086 - val_loss: 0.5661 - val_accuracy: 0.7491\n",
      "Epoch 11/20\n",
      "13/13 [==============================] - 1s 42ms/step - loss: 0.6068 - accuracy: 0.7086 - val_loss: 0.5697 - val_accuracy: 0.7491\n",
      "Epoch 12/20\n",
      "13/13 [==============================] - 1s 41ms/step - loss: 0.6066 - accuracy: 0.7086 - val_loss: 0.5662 - val_accuracy: 0.7491\n",
      "Epoch 13/20\n",
      "13/13 [==============================] - 1s 42ms/step - loss: 0.6049 - accuracy: 0.7086 - val_loss: 0.5722 - val_accuracy: 0.7491\n",
      "Epoch 14/20\n",
      "13/13 [==============================] - 1s 41ms/step - loss: 0.5989 - accuracy: 0.7086 - val_loss: 0.5671 - val_accuracy: 0.7491\n",
      "Epoch 15/20\n",
      "13/13 [==============================] - 1s 41ms/step - loss: 0.6045 - accuracy: 0.7086 - val_loss: 0.5662 - val_accuracy: 0.7491\n",
      "Epoch 16/20\n",
      "13/13 [==============================] - 1s 41ms/step - loss: 0.6071 - accuracy: 0.7086 - val_loss: 0.5658 - val_accuracy: 0.7491\n",
      "Epoch 17/20\n",
      "13/13 [==============================] - 1s 40ms/step - loss: 0.6031 - accuracy: 0.7086 - val_loss: 0.5715 - val_accuracy: 0.7491\n",
      "Epoch 18/20\n",
      "13/13 [==============================] - 1s 40ms/step - loss: 0.6098 - accuracy: 0.7086 - val_loss: 0.5689 - val_accuracy: 0.7491\n",
      "Epoch 19/20\n",
      "13/13 [==============================] - 1s 41ms/step - loss: 0.6057 - accuracy: 0.7086 - val_loss: 0.5660 - val_accuracy: 0.7491\n",
      "Epoch 20/20\n",
      "13/13 [==============================] - 1s 42ms/step - loss: 0.6106 - accuracy: 0.7086 - val_loss: 0.5689 - val_accuracy: 0.7491\n"
     ]
    }
   ],
   "source": [
    "hist = model.fit(x=x_train, y=y_train, epochs=20, batch_size=32, validation_data=(x_val, y_val), verbose=1)"
   ]
  },
  {
   "cell_type": "code",
   "execution_count": 26,
   "id": "64499596",
   "metadata": {},
   "outputs": [
    {
     "name": "stdout",
     "output_type": "stream",
     "text": [
      "9/9 [==============================] - 0s 16ms/step - loss: 0.5689 - accuracy: 0.7491\n",
      "Test loss 0.5689, accuracy 74.91%\n"
     ]
    }
   ],
   "source": [
    "test_score=model.evaluate(x_val, y_val)\n",
    "print(\"Test loss {:.4f}, accuracy {:.2f}%\".format(test_score[0], test_score[1]*100))"
   ]
  },
  {
   "cell_type": "markdown",
   "id": "62237b2a",
   "metadata": {},
   "source": [
    "### 시도 3. early_stopping 적용, epochs=50, batch_size=32"
   ]
  },
  {
   "cell_type": "code",
   "execution_count": 28,
   "id": "37669dad",
   "metadata": {},
   "outputs": [
    {
     "name": "stdout",
     "output_type": "stream",
     "text": [
      "Epoch 1/50\n",
      "13/13 [==============================] - 1s 81ms/step - loss: 0.6031 - accuracy: 0.7086 - val_loss: 0.5682 - val_accuracy: 0.7491\n",
      "Epoch 2/50\n",
      "13/13 [==============================] - 1s 42ms/step - loss: 0.6091 - accuracy: 0.7086 - val_loss: 0.5679 - val_accuracy: 0.7491\n",
      "Epoch 3/50\n",
      "13/13 [==============================] - 1s 42ms/step - loss: 0.6013 - accuracy: 0.7086 - val_loss: 0.5651 - val_accuracy: 0.7491\n",
      "Epoch 4/50\n",
      "13/13 [==============================] - 1s 42ms/step - loss: 0.6074 - accuracy: 0.7086 - val_loss: 0.5674 - val_accuracy: 0.7491\n",
      "Epoch 5/50\n",
      "13/13 [==============================] - 1s 41ms/step - loss: 0.6039 - accuracy: 0.7086 - val_loss: 0.5686 - val_accuracy: 0.7491\n",
      "Epoch 6/50\n",
      "13/13 [==============================] - 1s 42ms/step - loss: 0.6039 - accuracy: 0.7086 - val_loss: 0.5700 - val_accuracy: 0.7491\n"
     ]
    }
   ],
   "source": [
    "from keras.callbacks import EarlyStopping\n",
    "\n",
    "# EarlyStopping 객체를 생성합니다.\n",
    "# 'val_loss'를 모니터링하고, 3 epoch 동안 성능 향상이 없으면 학습을 중단합니다.\n",
    "early_stopping = EarlyStopping(monitor='val_loss', patience=3)\n",
    "\n",
    "# fit 함수를 호출할 때 callbacks 매개변수에 early_stopping을 전달합니다.\n",
    "hist = model.fit(x=x_train, y=y_train, epochs=50, batch_size=32, validation_data=(x_val, y_val), verbose=1, callbacks=[early_stopping])\n"
   ]
  },
  {
   "cell_type": "code",
   "execution_count": 29,
   "id": "993254cc",
   "metadata": {},
   "outputs": [
    {
     "name": "stdout",
     "output_type": "stream",
     "text": [
      "9/9 [==============================] - 0s 16ms/step - loss: 0.5700 - accuracy: 0.7491\n",
      "Test loss 0.5700, accuracy 74.91%\n"
     ]
    }
   ],
   "source": [
    "test_score=model.evaluate(x_val, y_val)\n",
    "print(\"Test loss {:.4f}, accuracy {:.2f}%\".format(test_score[0], test_score[1]*100))"
   ]
  },
  {
   "cell_type": "markdown",
   "id": "08361ae0",
   "metadata": {},
   "source": [
    "### 시도 4. early_stopping 적용, epochs=50, batch_size=64"
   ]
  },
  {
   "cell_type": "code",
   "execution_count": 30,
   "id": "348c651e",
   "metadata": {},
   "outputs": [
    {
     "name": "stdout",
     "output_type": "stream",
     "text": [
      "Epoch 1/50\n",
      "7/7 [==============================] - 1s 134ms/step - loss: 0.6047 - accuracy: 0.7086 - val_loss: 0.5678 - val_accuracy: 0.7491\n",
      "Epoch 2/50\n",
      "7/7 [==============================] - 0s 70ms/step - loss: 0.6038 - accuracy: 0.7086 - val_loss: 0.5659 - val_accuracy: 0.7491\n",
      "Epoch 3/50\n",
      "7/7 [==============================] - 0s 69ms/step - loss: 0.6019 - accuracy: 0.7086 - val_loss: 0.5651 - val_accuracy: 0.7491\n",
      "Epoch 4/50\n",
      "7/7 [==============================] - 0s 69ms/step - loss: 0.6035 - accuracy: 0.7086 - val_loss: 0.5670 - val_accuracy: 0.7491\n",
      "Epoch 5/50\n",
      "7/7 [==============================] - 0s 68ms/step - loss: 0.6041 - accuracy: 0.7086 - val_loss: 0.5683 - val_accuracy: 0.7491\n",
      "Epoch 6/50\n",
      "7/7 [==============================] - 0s 67ms/step - loss: 0.6058 - accuracy: 0.7086 - val_loss: 0.5678 - val_accuracy: 0.7491\n"
     ]
    }
   ],
   "source": [
    "from keras.callbacks import EarlyStopping\n",
    "\n",
    "# EarlyStopping 객체를 생성합니다.\n",
    "# 'val_loss'를 모니터링하고, 3 epoch 동안 성능 향상이 없으면 학습을 중단합니다.\n",
    "early_stopping = EarlyStopping(monitor='val_loss', patience=3)\n",
    "\n",
    "# fit 함수를 호출할 때 callbacks 매개변수에 early_stopping을 전달합니다.\n",
    "hist = model.fit(x=x_train, y=y_train, epochs=50, batch_size=64, validation_data=(x_val, y_val), verbose=1, callbacks=[early_stopping])\n"
   ]
  },
  {
   "cell_type": "code",
   "execution_count": 31,
   "id": "312f2c7e",
   "metadata": {},
   "outputs": [
    {
     "name": "stdout",
     "output_type": "stream",
     "text": [
      "9/9 [==============================] - 0s 16ms/step - loss: 0.5678 - accuracy: 0.7491\n",
      "Test loss 0.5678, accuracy 74.91%\n"
     ]
    }
   ],
   "source": [
    "test_score=model.evaluate(x_val, y_val)\n",
    "print(\"Test loss {:.4f}, accuracy {:.2f}%\".format(test_score[0], test_score[1]*100))"
   ]
  },
  {
   "cell_type": "markdown",
   "id": "0c7c4913",
   "metadata": {},
   "source": [
    "## Step 4. 한 줄 정리"
   ]
  },
  {
   "cell_type": "markdown",
   "id": "3f98e547",
   "metadata": {},
   "source": [
    "시도 1. epochs=10, batch_size=32\n",
    "loss: 0.5679 - accuracy: 0.7491\n",
    "\n",
    "시도 2. epochs=20, batch_size=32\n",
    "loss: 0.5689 - accuracy: 0.7491\n",
    "\n",
    "시도 3. early_stopping 적용, epochs=50, batch_size=32\n",
    "loss: 0.5700 - accuracy: 0.7491\n",
    "\n",
    "**시도 4. early_stopping 적용, epochs=50, batch_size=64\n",
    "loss: 0.5678 - accuracy: 0.7491**"
   ]
  }
 ],
 "metadata": {
  "kernelspec": {
   "display_name": "Python 3 (ipykernel)",
   "language": "python",
   "name": "python3"
  },
  "language_info": {
   "codemirror_mode": {
    "name": "ipython",
    "version": 3
   },
   "file_extension": ".py",
   "mimetype": "text/x-python",
   "name": "python",
   "nbconvert_exporter": "python",
   "pygments_lexer": "ipython3",
   "version": "3.9.7"
  }
 },
 "nbformat": 4,
 "nbformat_minor": 5
}
