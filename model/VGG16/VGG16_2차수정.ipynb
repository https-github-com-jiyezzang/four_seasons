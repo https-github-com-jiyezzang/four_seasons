{
 "cells": [
  {
   "cell_type": "markdown",
   "metadata": {
    "id": "8AVfKtODAaL6"
   },
   "source": [
    "# 프로젝트: 퍼스널 컬러 진단 - VGG16\n",
    "\n",
    "## 목차\n",
    "1. VGG16 아키텍처 체험(학습X, 예측O(class만 ImageNet을 빌려옴))  \n",
    "참고 링크: https://han-py.tistory.com/213  \n",
    "2. VGG16 아키텍처에 퍼스널컬러(웜/쿨) 적용하기 (학습O, 예측O)  \n",
    "참고 링크:https://m.blog.naver.com/PostView.naver?isHttpsRedirect=true&blogId=dnjswns2280&logNo=221738517884 \n",
    "3. ImageNet으로 사전 학습된 VGG16에 fine tuning해서 퍼스널컬러(웜/쿨) 적용하기(학습O, 예측O)  \n",
    "참고 링크: 추후 추가\n",
    "4. VGGFace2 데이터셋으로 사전 학습된 VGG16 fine tuning해서 퍼스널컬러(웜/쿨) 적용하기  \n",
    "참고 링크: 추후 추가"
   ]
  },
  {
   "cell_type": "code",
   "execution_count": null,
   "metadata": {},
   "outputs": [],
   "source": [
    "!pip install gdown"
   ]
  },
  {
   "cell_type": "code",
   "execution_count": null,
   "metadata": {},
   "outputs": [],
   "source": [
    "!gdown https://drive.google.com/uc?id=1kdmLChi8dmZQdFaCgoTgALokONW_fvdb -O /aiffel/aiffel/project/first-repository/data/four_seasons"
   ]
  },
  {
   "cell_type": "code",
   "execution_count": null,
   "metadata": {},
   "outputs": [],
   "source": [
    "!pip install --upgrade --no-cache-dir gdown"
   ]
  },
  {
   "cell_type": "markdown",
   "metadata": {
    "id": "ZwsAoPOlKD1W"
   },
   "source": [
    "# 1. VGG16 아키텍처 체험"
   ]
  },
  {
   "cell_type": "markdown",
   "metadata": {},
   "source": [
    "추가 설명:\n",
    "이 파트의 핵심 부분은  \n",
    "model = vgg16.VGG16()  \n",
    "yhat = model.predict(image)  \n",
    "label = vgg16.decode_predictions(yhat)  \n",
    "이 세 코드이다. 이미지를 넣으면 이미 학습된 model에 대해 예측값만 가져오는 것이다.  \n",
    "\n",
    "1. vgg16.VGG16() 코드는 ImageNet으로 사전 학습된 VGG16 모델을 불러오는 것이다. 이 모델은 이미 이미지넷 데이터셋으로 사전에 학습되어 다양한 객체 및 동물의 이미지를 인식하는 능력을 갖추고 있다.  \n",
    "\n",
    "2. model.predict(image) 코드는 불러온 VGG16 모델을 사용하여 입력 이미지에 대한 예측을 수행하는 것이다. 이때 image는 모델에 입력으로 주어질 이미지 데이터를 의미한다. 모델은 주어진 이미지에 대해 예측 확률을 반환한다.  \n",
    "\n",
    "3. vgg16.decode_predictions(yhat) 코드는 VGG16 모델의 예측 결과를 해석하는 함수다. yhat은 model.predict()를 통해 얻은 예측 확률 배열이다. 이 확률 배열을 vgg16.decode_predictions 함수를 사용하여 인간이 이해하기 쉬운 형태로 변환한다.  \n",
    "\n",
    "따라서 위 코드는 이미 사전 학습된 VGG16 모델을 불러와서 새로운 이미지에 대한 예측을 수행하고, 예측 결과를 해석하여 가장 확률이 높은 상위 K개의 클래스를 확인하는 데 사용된다. 실제로 모델을 새로 학습하지 않더라도 사전 학습된 모델을 활용하여 이미지를 분류할 수 있다. 이렇게 사전 학습된 모델을 이용하는 것을 Transfer Learning이라고 한다."
   ]
  },
  {
   "cell_type": "code",
   "execution_count": 84,
   "metadata": {
    "executionInfo": {
     "elapsed": 9532,
     "status": "ok",
     "timestamp": 1690339355811,
     "user": {
      "displayName": "장수빈",
      "userId": "11804786027693854134"
     },
     "user_tz": -540
    },
    "id": "UDiaXdEWAPhU"
   },
   "outputs": [],
   "source": [
    "import tensorflow as tf\n",
    "import numpy as np\n",
    "import cv2\n",
    "import os\n",
    "import glob\n",
    "from PIL import Image"
   ]
  },
  {
   "cell_type": "code",
   "execution_count": 85,
   "metadata": {
    "executionInfo": {
     "elapsed": 347,
     "status": "ok",
     "timestamp": 1690339431885,
     "user": {
      "displayName": "장수빈",
      "userId": "11804786027693854134"
     },
     "user_tz": -540
    },
    "id": "Jzu62BvtCHZ1"
   },
   "outputs": [],
   "source": [
    "from tensorflow.keras.preprocessing.image import load_img, img_to_array # 오류 발생시 tensorflow 재설치하고 런타임 재연결 추천\n",
    "from tensorflow.keras.applications import vgg16\n",
    "from IPython.display import display # 이미지 출력 함수"
   ]
  },
  {
   "cell_type": "code",
   "execution_count": 86,
   "metadata": {},
   "outputs": [
    {
     "name": "stdout",
     "output_type": "stream",
     "text": [
      "Model: \"vgg16\"\n",
      "_________________________________________________________________\n",
      "Layer (type)                 Output Shape              Param #   \n",
      "=================================================================\n",
      "input_12 (InputLayer)        [(None, None, None, 3)]   0         \n",
      "_________________________________________________________________\n",
      "block1_conv1 (Conv2D)        (None, None, None, 64)    1792      \n",
      "_________________________________________________________________\n",
      "block1_conv2 (Conv2D)        (None, None, None, 64)    36928     \n",
      "_________________________________________________________________\n",
      "block1_pool (MaxPooling2D)   (None, None, None, 64)    0         \n",
      "_________________________________________________________________\n",
      "block2_conv1 (Conv2D)        (None, None, None, 128)   73856     \n",
      "_________________________________________________________________\n",
      "block2_conv2 (Conv2D)        (None, None, None, 128)   147584    \n",
      "_________________________________________________________________\n",
      "block2_pool (MaxPooling2D)   (None, None, None, 128)   0         \n",
      "_________________________________________________________________\n",
      "block3_conv1 (Conv2D)        (None, None, None, 256)   295168    \n",
      "_________________________________________________________________\n",
      "block3_conv2 (Conv2D)        (None, None, None, 256)   590080    \n",
      "_________________________________________________________________\n",
      "block3_conv3 (Conv2D)        (None, None, None, 256)   590080    \n",
      "_________________________________________________________________\n",
      "block3_pool (MaxPooling2D)   (None, None, None, 256)   0         \n",
      "_________________________________________________________________\n",
      "block4_conv1 (Conv2D)        (None, None, None, 512)   1180160   \n",
      "_________________________________________________________________\n",
      "block4_conv2 (Conv2D)        (None, None, None, 512)   2359808   \n",
      "_________________________________________________________________\n",
      "block4_conv3 (Conv2D)        (None, None, None, 512)   2359808   \n",
      "_________________________________________________________________\n",
      "block4_pool (MaxPooling2D)   (None, None, None, 512)   0         \n",
      "_________________________________________________________________\n",
      "block5_conv1 (Conv2D)        (None, None, None, 512)   2359808   \n",
      "_________________________________________________________________\n",
      "block5_conv2 (Conv2D)        (None, None, None, 512)   2359808   \n",
      "_________________________________________________________________\n",
      "block5_conv3 (Conv2D)        (None, None, None, 512)   2359808   \n",
      "_________________________________________________________________\n",
      "block5_pool (MaxPooling2D)   (None, None, None, 512)   0         \n",
      "=================================================================\n",
      "Total params: 14,714,688\n",
      "Trainable params: 14,714,688\n",
      "Non-trainable params: 0\n",
      "_________________________________________________________________\n"
     ]
    }
   ],
   "source": [
    "# VGG16 모델 불러오기\n",
    "model = vgg16.VGG16(include_top=False, weights='imagenet')\n",
    "\n",
    "# 모델의 모양을 보여준다.\n",
    "model.summary()"
   ]
  },
  {
   "cell_type": "code",
   "execution_count": 87,
   "metadata": {
    "colab": {
     "base_uri": "https://localhost:8080/"
    },
    "executionInfo": {
     "elapsed": 8331,
     "status": "ok",
     "timestamp": 1690339419786,
     "user": {
      "displayName": "장수빈",
      "userId": "11804786027693854134"
     },
     "user_tz": -540
    },
    "id": "fZ5brIx5AKPd",
    "outputId": "d539b697-97da-4b36-b2d6-ed81d3c5e57b"
   },
   "outputs": [
    {
     "name": "stdout",
     "output_type": "stream",
     "text": [
      "Model: \"vgg16\"\n",
      "_________________________________________________________________\n",
      "Layer (type)                 Output Shape              Param #   \n",
      "=================================================================\n",
      "input_13 (InputLayer)        [(None, 224, 224, 3)]     0         \n",
      "_________________________________________________________________\n",
      "block1_conv1 (Conv2D)        (None, 224, 224, 64)      1792      \n",
      "_________________________________________________________________\n",
      "block1_conv2 (Conv2D)        (None, 224, 224, 64)      36928     \n",
      "_________________________________________________________________\n",
      "block1_pool (MaxPooling2D)   (None, 112, 112, 64)      0         \n",
      "_________________________________________________________________\n",
      "block2_conv1 (Conv2D)        (None, 112, 112, 128)     73856     \n",
      "_________________________________________________________________\n",
      "block2_conv2 (Conv2D)        (None, 112, 112, 128)     147584    \n",
      "_________________________________________________________________\n",
      "block2_pool (MaxPooling2D)   (None, 56, 56, 128)       0         \n",
      "_________________________________________________________________\n",
      "block3_conv1 (Conv2D)        (None, 56, 56, 256)       295168    \n",
      "_________________________________________________________________\n",
      "block3_conv2 (Conv2D)        (None, 56, 56, 256)       590080    \n",
      "_________________________________________________________________\n",
      "block3_conv3 (Conv2D)        (None, 56, 56, 256)       590080    \n",
      "_________________________________________________________________\n",
      "block3_pool (MaxPooling2D)   (None, 28, 28, 256)       0         \n",
      "_________________________________________________________________\n",
      "block4_conv1 (Conv2D)        (None, 28, 28, 512)       1180160   \n",
      "_________________________________________________________________\n",
      "block4_conv2 (Conv2D)        (None, 28, 28, 512)       2359808   \n",
      "_________________________________________________________________\n",
      "block4_conv3 (Conv2D)        (None, 28, 28, 512)       2359808   \n",
      "_________________________________________________________________\n",
      "block4_pool (MaxPooling2D)   (None, 14, 14, 512)       0         \n",
      "_________________________________________________________________\n",
      "block5_conv1 (Conv2D)        (None, 14, 14, 512)       2359808   \n",
      "_________________________________________________________________\n",
      "block5_conv2 (Conv2D)        (None, 14, 14, 512)       2359808   \n",
      "_________________________________________________________________\n",
      "block5_conv3 (Conv2D)        (None, 14, 14, 512)       2359808   \n",
      "_________________________________________________________________\n",
      "block5_pool (MaxPooling2D)   (None, 7, 7, 512)         0         \n",
      "_________________________________________________________________\n",
      "flatten (Flatten)            (None, 25088)             0         \n",
      "_________________________________________________________________\n",
      "fc1 (Dense)                  (None, 4096)              102764544 \n",
      "_________________________________________________________________\n",
      "fc2 (Dense)                  (None, 4096)              16781312  \n",
      "_________________________________________________________________\n",
      "predictions (Dense)          (None, 1000)              4097000   \n",
      "=================================================================\n",
      "Total params: 138,357,544\n",
      "Trainable params: 138,357,544\n",
      "Non-trainable params: 0\n",
      "_________________________________________________________________\n"
     ]
    }
   ],
   "source": [
    "# VGG16 모델 불러오기\n",
    "model = vgg16.VGG16()\n",
    "\n",
    "# 모델의 모양을 보여준다.\n",
    "model.summary()"
   ]
  },
  {
   "cell_type": "code",
   "execution_count": 88,
   "metadata": {
    "executionInfo": {
     "elapsed": 4,
     "status": "ok",
     "timestamp": 1690339845207,
     "user": {
      "displayName": "장수빈",
      "userId": "11804786027693854134"
     },
     "user_tz": -540
    },
    "id": "PyHz3zAcBBh0"
   },
   "outputs": [],
   "source": [
    "def predict_vgg16(model, filename) :\n",
    "\n",
    "    # 이미지 파일을 읽고 화면에 표시\n",
    "    image = load_img(filename)\n",
    "    # image = PIL.JpegImagePlugin.JpegImageFile image mode=RGB size=688x550\n",
    "    display(image)\n",
    "\n",
    "\n",
    "    # 모델 사이즈로 이미지 파일을 읽기\n",
    "    image = load_img(filename, target_size=(224, 224))\n",
    "    # image = PIL.Image.Image image mode=RGB size=224x224\n",
    "\n",
    "\n",
    "    # 이미지 데이터를 numpy로 변환\n",
    "    image = img_to_array(image)\n",
    "    # image.shape = (224, 224, 3)\n",
    "\n",
    "    # vgg16.preprocess_input()을 호출하기 위해 차원을 조정\n",
    "    # 보통 모델을 여러 이미지를 한번에 호출.\n",
    "    # 맨 앞의 1 : 이미지 갯수가 1개라는 것.\n",
    "    # 두번째 224 : 가로\n",
    "    # 세번째 224 : 세로\n",
    "    # 네번째 3 : R, G, B 3개\n",
    "    image = image.reshape((1, 224, 224, 3))\n",
    "\n",
    "    # VGG16 모델 호출을 위해 데이터 전처리.\n",
    "    # -255 ~ 255 사이 값으로 정규화한다.\n",
    "    # 그리고 RGB를 BGR순으로 바꾼다.\n",
    "    image = vgg16.preprocess_input(image)\n",
    "\n",
    "\n",
    "    # 이미지를 모델에 적용\n",
    "    yhat = model.predict(image)\n",
    "    # yhat = [[2.03485320e-06 4.21382174e-06 1.45730738e-07 1.04057870e-06\n",
    "    #          6.61934010e-08 2.63145339e-04 4.49358195e-05 2.03222541e-08\n",
    "    #          ... ]] # 1000개 클래스에 대한 결과값.\n",
    "    #\n",
    "\n",
    "\n",
    "    # 모델 적용된 결과를 파싱\n",
    "    label = vgg16.decode_predictions(yhat)\n",
    "    # label = [[('n02655020', 'puffer', 0.9612253), ... ]]\n",
    "\n",
    "    # 가장 확률이 높은 결과를 획득\n",
    "    label = label[0][0]\n",
    "    # label = ('n02655020', 'puffer', 0.9612253)\n",
    "\n",
    "    # 라벨과 라벨을 예측한 확률을 출력\n",
    "    print('%s (%.2f%%)' % (label[1], label[2]*100))"
   ]
  },
  {
   "cell_type": "code",
   "execution_count": 89,
   "metadata": {
    "colab": {
     "base_uri": "https://localhost:8080/"
    },
    "executionInfo": {
     "elapsed": 23153,
     "status": "ok",
     "timestamp": 1690339378960,
     "user": {
      "displayName": "장수빈",
      "userId": "11804786027693854134"
     },
     "user_tz": -540
    },
    "id": "04bCBy2WAS0X",
    "outputId": "cb9ad60d-4ace-4743-cc94-00a520ffafc3"
   },
   "outputs": [],
   "source": [
    "# from google.colab import drive\n",
    "# drive.mount('/content/drive')"
   ]
  },
  {
   "cell_type": "code",
   "execution_count": 90,
   "metadata": {
    "executionInfo": {
     "elapsed": 525,
     "status": "ok",
     "timestamp": 1690340676979,
     "user": {
      "displayName": "장수빈",
      "userId": "11804786027693854134"
     },
     "user_tz": -540
    },
    "id": "rU8qBsXAHAGz"
   },
   "outputs": [],
   "source": [
    "# 사진 개별 경로\n",
    "files = [\n",
    "    \"/aiffel/aiffel/project/first-repository/data/four_seasons/TEST/박은빈.jpg\"\n",
    "]"
   ]
  },
  {
   "cell_type": "code",
   "execution_count": 91,
   "metadata": {
    "colab": {
     "base_uri": "https://localhost:8080/",
     "height": 236
    },
    "executionInfo": {
     "elapsed": 3746,
     "status": "ok",
     "timestamp": 1690340680679,
     "user": {
      "displayName": "장수빈",
      "userId": "11804786027693854134"
     },
     "user_tz": -540
    },
    "id": "DgSvxOaBBoCs",
    "outputId": "fe36c715-4cc1-4900-8ff3-452e6bef69ea"
   },
   "outputs": [
    {
     "data": {
      "image/png": "[encoded data removed]",
      "text/plain": [
       "<PIL.JpegImagePlugin.JpegImageFile image mode=RGB size=183x275 at 0x7F94082D8460>"
      ]
     },
     "metadata": {},
     "output_type": "display_data"
    },
    {
     "name": "stdout",
     "output_type": "stream",
     "text": [
      "wig (14.63%)\n"
     ]
    }
   ],
   "source": [
    "# 각 사진마다 예측된 라벨과 예측한 확률 확인하기\n",
    "for file in files :\n",
    "    predict_vgg16(model, file)"
   ]
  },
  {
   "cell_type": "markdown",
   "metadata": {
    "id": "tcNgW3nCANSQ"
   },
   "source": [
    "# 2. VGG16에 아키텍처에 퍼스널컬러(웜/쿨) 적용하기\n",
    "- 제대로 학습되는 것이 아님 좀 더 수정이 필요함"
   ]
  },
  {
   "cell_type": "markdown",
   "metadata": {
    "id": "QKkxomUDLD7B"
   },
   "source": [
    "## (1) 라이브러리 및 데이터 불러오기"
   ]
  },
  {
   "cell_type": "code",
   "execution_count": 135,
   "metadata": {
    "executionInfo": {
     "elapsed": 8847,
     "status": "ok",
     "timestamp": 1690358071355,
     "user": {
      "displayName": "장수빈",
      "userId": "11804786027693854134"
     },
     "user_tz": -540
    },
    "id": "1ryUcA_jHSbt"
   },
   "outputs": [],
   "source": [
    "import tensorflow as tf\n",
    "from tensorflow.keras import layers, models\n",
    "from tensorflow.keras.applications import vgg16\n",
    "\n",
    "import numpy as np\n",
    "import cv2\n",
    "import os\n",
    "import glob\n",
    "from PIL import Image"
   ]
  },
  {
   "cell_type": "code",
   "execution_count": 136,
   "metadata": {
    "colab": {
     "base_uri": "https://localhost:8080/"
    },
    "executionInfo": {
     "elapsed": 22101,
     "status": "ok",
     "timestamp": 1690358093447,
     "user": {
      "displayName": "장수빈",
      "userId": "11804786027693854134"
     },
     "user_tz": -540
    },
    "id": "wdt8vj5FHShw",
    "outputId": "526394e2-d273-4cd8-f9ed-bb537694f46f",
    "scrolled": true
   },
   "outputs": [],
   "source": [
    "#from google.colab import drive\n",
    "#drive.mount('/content/drive')"
   ]
  },
  {
   "cell_type": "code",
   "execution_count": 137,
   "metadata": {
    "executionInfo": {
     "elapsed": 16,
     "status": "ok",
     "timestamp": 1690358093448,
     "user": {
      "displayName": "장수빈",
      "userId": "11804786027693854134"
     },
     "user_tz": -540
    },
    "id": "heINaLWoJy2y"
   },
   "outputs": [],
   "source": [
    "# 파일 불러오는 함수\n",
    "def load_images_from_directory(directory_path):\n",
    "    image_paths = glob.glob(directory_path + '/*.jpg')  # 디렉토리 내의 모든 jpg 파일 경로 찾기\n",
    "    image_paths.extend(glob.glob(directory_path + '/*.jpeg'))  # 디렉토리 내의 모든 jpeg 파일 경로 추가\n",
    "\n",
    "    images = []\n",
    "    for image_path in image_paths:\n",
    "        image = Image.open(image_path)\n",
    "        image_np = np.array(image)\n",
    "        images.append(image_np)\n",
    "\n",
    "    return images"
   ]
  },
  {
   "cell_type": "code",
   "execution_count": 138,
   "metadata": {
    "colab": {
     "base_uri": "https://localhost:8080/"
    },
    "executionInfo": {
     "elapsed": 4617,
     "status": "ok",
     "timestamp": 1690361115986,
     "user": {
      "displayName": "장수빈",
      "userId": "11804786027693854134"
     },
     "user_tz": -540
    },
    "id": "QHhobsDKHSlU",
    "outputId": "baf0e3ac-e044-4fba-df8e-25c472a8437e"
   },
   "outputs": [
    {
     "name": "stdout",
     "output_type": "stream",
     "text": [
      "50\n",
      "50\n",
      "100\n"
     ]
    }
   ],
   "source": [
    "# 모든 이미지 불러오기\n",
    "directory_path = \"/aiffel/aiffel/project/first-repository/data/four_seasons/warm_tone\"  # 디렉토리 경로\n",
    "directory_path2 = \"/aiffel/aiffel/project/first-repository/data/four_seasons/cool_tone\"  # 디렉토리 경로\n",
    "images = load_images_from_directory(directory_path)\n",
    "images2 = load_images_from_directory(directory_path2)\n",
    "\n",
    "length = len(images)\n",
    "print(length)\n",
    "print(len(images2))\n",
    "\n",
    "# 이미지 리스트 합치기\n",
    "images = np.concatenate((images, images2), axis=0)\n",
    "print(len(images))"
   ]
  },
  {
   "cell_type": "markdown",
   "metadata": {
    "id": "JuqZO6xjLPEW"
   },
   "source": [
    "## (2) 데이터 전처리"
   ]
  },
  {
   "cell_type": "code",
   "execution_count": 139,
   "metadata": {
    "colab": {
     "base_uri": "https://localhost:8080/"
    },
    "executionInfo": {
     "elapsed": 23,
     "status": "ok",
     "timestamp": 1690361115987,
     "user": {
      "displayName": "장수빈",
      "userId": "11804786027693854134"
     },
     "user_tz": -540
    },
    "id": "nduCOt1YHSoj",
    "outputId": "b9c21304-a6c6-4641-f3da-3cdc44046328"
   },
   "outputs": [
    {
     "name": "stdout",
     "output_type": "stream",
     "text": [
      "(100, 224, 224, 3)\n"
     ]
    }
   ],
   "source": [
    "def preprocess_image(image):\n",
    "    # 이미지 크기 조절\n",
    "    image = tf.image.resize(image, (224, 224))\n",
    "    # 이미지를 [0, 1] 범위로 정규화\n",
    "    image = image / 255.0\n",
    "    return image\n",
    "\n",
    "images = np.array([preprocess_image(image) for image in images])\n",
    "print(images.shape)"
   ]
  },
  {
   "cell_type": "code",
   "execution_count": 140,
   "metadata": {
    "colab": {
     "base_uri": "https://localhost:8080/"
    },
    "executionInfo": {
     "elapsed": 15,
     "status": "ok",
     "timestamp": 1690361118318,
     "user": {
      "displayName": "장수빈",
      "userId": "11804786027693854134"
     },
     "user_tz": -540
    },
    "id": "N2coAcsEHSrR",
    "outputId": "b8ce40fa-f22a-405f-99ec-5a2d616f2f00"
   },
   "outputs": [
    {
     "name": "stdout",
     "output_type": "stream",
     "text": [
      "100\n",
      "(100,)\n",
      "[0. 0. 0. 0. 0. 0. 0. 0. 0. 0. 0. 0. 0. 0. 0. 0. 0. 0. 0. 0. 0. 0. 0. 0.\n",
      " 0. 0. 0. 0. 0. 0. 0. 0. 0. 0. 0. 0. 0. 0. 0. 0. 0. 0. 0. 0. 0. 0. 0. 0.\n",
      " 0. 0. 1. 1. 1. 1. 1. 1. 1. 1. 1. 1. 1. 1. 1. 1. 1. 1. 1. 1. 1. 1. 1. 1.\n",
      " 1. 1. 1. 1. 1. 1. 1. 1. 1. 1. 1. 1. 1. 1. 1. 1. 1. 1. 1. 1. 1. 1. 1. 1.\n",
      " 1. 1. 1. 1.]\n"
     ]
    }
   ],
   "source": [
    "# labels에 대한 코드\n",
    "num = len(images)\n",
    "labels = np.zeros(num)\n",
    "\n",
    "# 뒤쪽의 50개의 요소를 1로 변경\n",
    "labels[length:] = 1\n",
    "\n",
    "# 0이 웜톤 1이 쿨톤\n",
    "print(len(images))\n",
    "print(labels.shape)\n",
    "print(labels)"
   ]
  },
  {
   "cell_type": "markdown",
   "metadata": {
    "id": "dbzMvdvQLR45"
   },
   "source": [
    "## (3) train, val 분리하기"
   ]
  },
  {
   "cell_type": "code",
   "execution_count": 141,
   "metadata": {
    "colab": {
     "base_uri": "https://localhost:8080/"
    },
    "executionInfo": {
     "elapsed": 55,
     "status": "ok",
     "timestamp": 1690361121698,
     "user": {
      "displayName": "장수빈",
      "userId": "11804786027693854134"
     },
     "user_tz": -540
    },
    "id": "oyOgLqgEIidF",
    "outputId": "18cf4f86-ac22-45b3-de2a-e03edc83a971"
   },
   "outputs": [
    {
     "name": "stdout",
     "output_type": "stream",
     "text": [
      "x_train:  (70, 224, 224, 3)\n",
      "y_train:  (70,)\n",
      "x_val:  (30, 224, 224, 3)\n",
      "y_val:  (30,)\n"
     ]
    }
   ],
   "source": [
    "from sklearn.model_selection import train_test_split\n",
    "\n",
    "x_train, x_val, y_train, y_val = train_test_split(images,\n",
    "                                                  labels,\n",
    "                                                  test_size=0.3,\n",
    "                                                  random_state=33)\n",
    "\n",
    "print(\"x_train: \", x_train.shape)\n",
    "print(\"y_train: \", y_train.shape)\n",
    "print(\"x_val: \", x_val.shape)\n",
    "print(\"y_val: \", y_val.shape)"
   ]
  },
  {
   "cell_type": "code",
   "execution_count": 142,
   "metadata": {
    "executionInfo": {
     "elapsed": 3,
     "status": "ok",
     "timestamp": 1690361122476,
     "user": {
      "displayName": "장수빈",
      "userId": "11804786027693854134"
     },
     "user_tz": -540
    },
    "id": "60cskZPQIif3"
   },
   "outputs": [],
   "source": [
    "# 데이터를 텐서로 변환\n",
    "x_train = tf.convert_to_tensor(x_train, dtype=tf.float32)\n",
    "x_val = tf.convert_to_tensor(x_val, dtype=tf.float32)\n",
    "y_train = tf.convert_to_tensor(y_train, dtype=tf.int32)\n",
    "y_val = tf.convert_to_tensor(y_val, dtype=tf.int32)"
   ]
  },
  {
   "cell_type": "markdown",
   "metadata": {
    "id": "7dzDlNR0LViM"
   },
   "source": [
    "## (4) 모델 정의 및 컴파일"
   ]
  },
  {
   "cell_type": "code",
   "execution_count": 143,
   "metadata": {
    "executionInfo": {
     "elapsed": 4571,
     "status": "ok",
     "timestamp": 1690361256475,
     "user": {
      "displayName": "장수빈",
      "userId": "11804786027693854134"
     },
     "user_tz": -540
    },
    "id": "QK2JsubkIiiP"
   },
   "outputs": [],
   "source": [
    "# VGG16 모델 불러오기\n",
    "vgg16_model = vgg16.VGG16() # weights='imagenet', include_top=False, input_shape=(224, 224, 3)\n",
    "\n",
    "# 추가하기\n",
    "model = models.Sequential()\n",
    "model.add(vgg16_model)\n",
    "model.add(layers.Dense(564, activation='relu'))\n",
    "model.add(layers.Dense(32, activation='relu'))\n",
    "model.add(layers.Dense(2, activation='softmax'))"
   ]
  },
  {
   "cell_type": "code",
   "execution_count": 144,
   "metadata": {
    "executionInfo": {
     "elapsed": 16,
     "status": "ok",
     "timestamp": 1690361256476,
     "user": {
      "displayName": "장수빈",
      "userId": "11804786027693854134"
     },
     "user_tz": -540
    },
    "id": "7TeFqbJ-Iiky"
   },
   "outputs": [],
   "source": [
    "# 모델 컴파일\n",
    "model.compile(optimizer='adam',\n",
    "              loss='sparse_categorical_crossentropy', #categorical_crossentropy , sparse_categorical_crossentropy\n",
    "              metrics=['accuracy'])"
   ]
  },
  {
   "cell_type": "code",
   "execution_count": 145,
   "metadata": {},
   "outputs": [
    {
     "name": "stdout",
     "output_type": "stream",
     "text": [
      "Model: \"sequential_16\"\n",
      "_________________________________________________________________\n",
      "Layer (type)                 Output Shape              Param #   \n",
      "=================================================================\n",
      "vgg16 (Functional)           (None, 1000)              138357544 \n",
      "_________________________________________________________________\n",
      "dense_34 (Dense)             (None, 564)               564564    \n",
      "_________________________________________________________________\n",
      "dense_35 (Dense)             (None, 32)                18080     \n",
      "_________________________________________________________________\n",
      "dense_36 (Dense)             (None, 2)                 66        \n",
      "=================================================================\n",
      "Total params: 138,940,254\n",
      "Trainable params: 138,940,254\n",
      "Non-trainable params: 0\n",
      "_________________________________________________________________\n"
     ]
    }
   ],
   "source": [
    "model.summary()"
   ]
  },
  {
   "cell_type": "markdown",
   "metadata": {
    "id": "cgKOImX7LZSh"
   },
   "source": [
    "## (5) 모델 학습하기"
   ]
  },
  {
   "cell_type": "code",
   "execution_count": 151,
   "metadata": {
    "colab": {
     "base_uri": "https://localhost:8080/"
    },
    "executionInfo": {
     "elapsed": 423314,
     "status": "ok",
     "timestamp": 1690361687293,
     "user": {
      "displayName": "장수빈",
      "userId": "11804786027693854134"
     },
     "user_tz": -540
    },
    "id": "PJRmMrcwASla",
    "outputId": "a8cb0384-ec19-4008-d07d-aeefd60ffed6"
   },
   "outputs": [
    {
     "name": "stdout",
     "output_type": "stream",
     "text": [
      "Epoch 1/3\n",
      "3/3 [==============================] - 1s 331ms/step - loss: 0.6875 - accuracy: 0.5571 - val_loss: 0.7460 - val_accuracy: 0.3667\n",
      "Epoch 2/3\n",
      "3/3 [==============================] - 1s 321ms/step - loss: 0.6870 - accuracy: 0.5571 - val_loss: 0.7369 - val_accuracy: 0.3667\n",
      "Epoch 3/3\n",
      "3/3 [==============================] - 1s 323ms/step - loss: 0.6866 - accuracy: 0.5571 - val_loss: 0.7271 - val_accuracy: 0.3667\n"
     ]
    }
   ],
   "source": [
    "# epochs = 2일때 7분걸림 -> LMS 1분...도 안걸림 ㄷㄷ\n",
    "history = model.fit(x_train, y_train,\n",
    "                    batch_size=32,\n",
    "                    epochs=3,\n",
    "                    validation_data=(x_val, y_val))"
   ]
  },
  {
   "cell_type": "markdown",
   "metadata": {
    "id": "eMj_vDU5LgcK"
   },
   "source": [
    "## (6) 예측하기"
   ]
  },
  {
   "cell_type": "code",
   "execution_count": 152,
   "metadata": {
    "colab": {
     "base_uri": "https://localhost:8080/"
    },
    "executionInfo": {
     "elapsed": 20168,
     "status": "ok",
     "timestamp": 1690361718870,
     "user": {
      "displayName": "장수빈",
      "userId": "11804786027693854134"
     },
     "user_tz": -540
    },
    "id": "WUB92j00ATI6",
    "outputId": "03de6b37-0106-4470-f848-af73a7869137"
   },
   "outputs": [],
   "source": [
    "pred = model.predict(x_val)\n",
    "pred_class = np.argmax(pred, axis=1)\n",
    "y_val = np.array(y_val)"
   ]
  },
  {
   "cell_type": "code",
   "execution_count": 153,
   "metadata": {},
   "outputs": [
    {
     "name": "stdout",
     "output_type": "stream",
     "text": [
      "[[0.5529555 0.4470445]\n",
      " [0.5529555 0.4470445]\n",
      " [0.5529555 0.4470445]\n",
      " [0.5529555 0.4470445]\n",
      " [0.5529555 0.4470445]\n",
      " [0.5529555 0.4470445]\n",
      " [0.5529555 0.4470445]\n",
      " [0.5529555 0.4470445]\n",
      " [0.5529555 0.4470445]\n",
      " [0.5529555 0.4470445]\n",
      " [0.5529555 0.4470445]\n",
      " [0.5529555 0.4470445]\n",
      " [0.5529555 0.4470445]\n",
      " [0.5529555 0.4470445]\n",
      " [0.5529555 0.4470445]\n",
      " [0.5529555 0.4470445]\n",
      " [0.5529555 0.4470445]\n",
      " [0.5529555 0.4470445]\n",
      " [0.5529555 0.4470445]\n",
      " [0.5529555 0.4470445]\n",
      " [0.5529555 0.4470445]\n",
      " [0.5529555 0.4470445]\n",
      " [0.5529555 0.4470445]\n",
      " [0.5529555 0.4470445]\n",
      " [0.5529555 0.4470445]\n",
      " [0.5529555 0.4470445]\n",
      " [0.5529555 0.4470445]\n",
      " [0.5529555 0.4470445]\n",
      " [0.5529555 0.4470445]\n",
      " [0.5529555 0.4470445]]\n"
     ]
    }
   ],
   "source": [
    "print(pred)"
   ]
  },
  {
   "cell_type": "code",
   "execution_count": 154,
   "metadata": {
    "colab": {
     "base_uri": "https://localhost:8080/"
    },
    "executionInfo": {
     "elapsed": 32,
     "status": "ok",
     "timestamp": 1690361718871,
     "user": {
      "displayName": "장수빈",
      "userId": "11804786027693854134"
     },
     "user_tz": -540
    },
    "id": "Wtr35C-CATKt",
    "outputId": "8dd8d144-26b0-4f7c-b53a-bd76f51974c7"
   },
   "outputs": [
    {
     "name": "stdout",
     "output_type": "stream",
     "text": [
      "[0 0 0 0 0 0 0 0 0 0 0 0 0 0 0 0 0 0 0 0 0 0 0 0 0 0 0 0 0 0]\n",
      "[1 1 1 1 1 1 0 1 0 1 1 1 1 1 0 0 0 0 1 1 1 1 0 1 0 0 0 0 1 1]\n"
     ]
    }
   ],
   "source": [
    "print(pred_class)\n",
    "print(y_val)"
   ]
  },
  {
   "cell_type": "code",
   "execution_count": 155,
   "metadata": {
    "colab": {
     "base_uri": "https://localhost:8080/"
    },
    "executionInfo": {
     "elapsed": 30,
     "status": "ok",
     "timestamp": 1690361718872,
     "user": {
      "displayName": "장수빈",
      "userId": "11804786027693854134"
     },
     "user_tz": -540
    },
    "id": "1Ui06FtGATM_",
    "outputId": "a5dfb3ad-2402-415d-bc4e-9411a0a7afbc"
   },
   "outputs": [
    {
     "name": "stdout",
     "output_type": "stream",
     "text": [
      "accuracy: 0.366667\n"
     ]
    }
   ],
   "source": [
    "acc = np.mean(pred_class == y_val)\n",
    "print('accuracy: %f' % (acc,))"
   ]
  },
  {
   "cell_type": "markdown",
   "metadata": {
    "id": "z-sJuwJKLjJ4"
   },
   "source": [
    "## (7) TEST"
   ]
  },
  {
   "cell_type": "code",
   "execution_count": 156,
   "metadata": {
    "executionInfo": {
     "elapsed": 7,
     "status": "ok",
     "timestamp": 1690361728334,
     "user": {
      "displayName": "장수빈",
      "userId": "11804786027693854134"
     },
     "user_tz": -540
    },
    "id": "8cNAWpvBATPM"
   },
   "outputs": [],
   "source": [
    "class_name = [\"웜톤\", \"쿨톤\"]"
   ]
  },
  {
   "cell_type": "code",
   "execution_count": 157,
   "metadata": {
    "colab": {
     "base_uri": "https://localhost:8080/"
    },
    "executionInfo": {
     "elapsed": 1361,
     "status": "ok",
     "timestamp": 1690361729690,
     "user": {
      "displayName": "장수빈",
      "userId": "11804786027693854134"
     },
     "user_tz": -540
    },
    "id": "lG_fD_tAATRn",
    "outputId": "330b5d35-d89e-409b-e816-bab63c4a5480"
   },
   "outputs": [
    {
     "name": "stdout",
     "output_type": "stream",
     "text": [
      "(246, 204, 3)\n",
      "변환된 배열 크기: (1, 246, 204, 3)\n",
      "(1, 224, 224, 3)\n",
      "당신은 웜톤 입니다~!\n",
      "웜톤일 확률:  [0.553]\n",
      "쿨톤일 확률:  [0.447]\n"
     ]
    }
   ],
   "source": [
    "# test 불러오기 (낱개 버전)\n",
    "test_path = \"/aiffel/aiffel/project/first-repository/data/four_seasons/TEST/손예진.jpg\"\n",
    "x_test = Image.open(test_path)\n",
    "x_test = np.array(x_test)\n",
    "print(x_test.shape)\n",
    "\n",
    "# 배열의 크기 변환\n",
    "x_test = x_test.reshape((1, x_test.shape[0], x_test.shape[1], 3))\n",
    "print(\"변환된 배열 크기:\", x_test.shape)\n",
    "\n",
    "# 전처리(resize, 정규화)\n",
    "x_test = preprocess_image(x_test)\n",
    "print(x_test.shape)\n",
    "\n",
    "# 만약 앱구현과 연결된다면 저장된 모델을 다시 돌릴 필요없이 저장된 최적의 모델을 사용하도록 수정해야함\n",
    "# test\n",
    "pred = model.predict(x_test)\n",
    "pred_class = np.argmax(pred, axis=1)\n",
    "print(\"당신은\", class_name[int(pred_class)], \"입니다~!\")\n",
    "print(\"웜톤일 확률: \", np.round(pred[:, 0], 3))\n",
    "print(\"쿨톤일 확률: \", np.round(pred[:, 1], 3))"
   ]
  },
  {
   "cell_type": "code",
   "execution_count": 159,
   "metadata": {
    "id": "a4hWOcheATT1"
   },
   "outputs": [],
   "source": [
    "# 쿨톤 기준 확률 적기\n",
    "# 537\n",
    "# 545\n",
    "# 543\n",
    "# 519 봄웜 박은빈 가을웜 강혜원\n",
    "# 501\n",
    "# 0.48 드디러 웜톤을 맞췄다. 근데 왜 값이 완전이 일치하지...? 이번엔 전부 0으로 나왔구나...\n",
    "# 0.447"
   ]
  },
  {
   "cell_type": "markdown",
   "metadata": {},
   "source": [
    "# 3. ImageNet으로 사전 학습된 VGG16에 fine tuning해서 퍼스널컬러(웜/쿨) 적용하기"
   ]
  },
  {
   "cell_type": "markdown",
   "metadata": {},
   "source": [
    "- 아직 더 조사하고 시도해보아야함 하지만 시도해볼 가치가 있을지 모르겠음 왜냐면 ImageNet은 얼굴뿐만 아니라 동물들 물건들 자동차 등등 여러 데이터에 대해 학습한 것이기 때문에 오히려 간단하게 만든 CNN이 더 결과가 잘 나오는 것 같음"
   ]
  },
  {
   "cell_type": "code",
   "execution_count": null,
   "metadata": {},
   "outputs": [],
   "source": []
  },
  {
   "cell_type": "code",
   "execution_count": null,
   "metadata": {},
   "outputs": [],
   "source": []
  },
  {
   "cell_type": "code",
   "execution_count": null,
   "metadata": {},
   "outputs": [],
   "source": []
  },
  {
   "cell_type": "markdown",
   "metadata": {},
   "source": [
    "# 4. VGGFace2 데이터셋으로 사전 학습된 VGG16 fine tuning해서 퍼스널컬러(웜/쿨) 적용하기"
   ]
  },
  {
   "cell_type": "markdown",
   "metadata": {},
   "source": [
    "- "
   ]
  },
  {
   "cell_type": "code",
   "execution_count": 163,
   "metadata": {},
   "outputs": [
    {
     "name": "stdout",
     "output_type": "stream",
     "text": [
      "Requirement already satisfied: keras_vggface in /opt/conda/lib/python3.9/site-packages (0.6)\n",
      "Requirement already satisfied: pillow in /opt/conda/lib/python3.9/site-packages (from keras_vggface) (8.3.2)\n",
      "Requirement already satisfied: h5py in /opt/conda/lib/python3.9/site-packages (from keras_vggface) (3.1.0)\n",
      "Requirement already satisfied: keras in /opt/conda/lib/python3.9/site-packages (from keras_vggface) (2.6.0)\n",
      "Requirement already satisfied: numpy>=1.9.1 in /opt/conda/lib/python3.9/site-packages (from keras_vggface) (1.21.4)\n",
      "Requirement already satisfied: six>=1.9.0 in /opt/conda/lib/python3.9/site-packages (from keras_vggface) (1.16.0)\n",
      "Requirement already satisfied: pyyaml in /opt/conda/lib/python3.9/site-packages (from keras_vggface) (6.0)\n",
      "Requirement already satisfied: scipy>=0.14 in /opt/conda/lib/python3.9/site-packages (from keras_vggface) (1.7.1)\n",
      "\u001b[33mWARNING: Running pip as the 'root' user can result in broken permissions and conflicting behaviour with the system package manager. It is recommended to use a virtual environment instead: https://pip.pypa.io/warnings/venv\u001b[0m\n"
     ]
    }
   ],
   "source": [
    "!pip install keras_vggface"
   ]
  },
  {
   "cell_type": "code",
   "execution_count": 164,
   "metadata": {},
   "outputs": [
    {
     "ename": "ModuleNotFoundError",
     "evalue": "No module named 'keras.engine.topology'",
     "output_type": "error",
     "traceback": [
      "\u001b[0;31m---------------------------------------------------------------------------\u001b[0m",
      "\u001b[0;31mModuleNotFoundError\u001b[0m                       Traceback (most recent call last)",
      "\u001b[0;32m/tmp/ipykernel_2624/3810806862.py\u001b[0m in \u001b[0;36m<module>\u001b[0;34m\u001b[0m\n\u001b[0;32m----> 1\u001b[0;31m \u001b[0;32mfrom\u001b[0m \u001b[0mkeras_vggface\u001b[0m\u001b[0;34m.\u001b[0m\u001b[0mvggface\u001b[0m \u001b[0;32mimport\u001b[0m \u001b[0mVGGFace\u001b[0m\u001b[0;34m\u001b[0m\u001b[0;34m\u001b[0m\u001b[0m\n\u001b[0m\u001b[1;32m      2\u001b[0m \u001b[0;34m\u001b[0m\u001b[0m\n\u001b[1;32m      3\u001b[0m \u001b[0;31m# VGGFace2 데이터셋으로 사전 학습된 VGGFace 모델 불러오기\u001b[0m\u001b[0;34m\u001b[0m\u001b[0;34m\u001b[0m\u001b[0m\n\u001b[1;32m      4\u001b[0m \u001b[0mmodel\u001b[0m \u001b[0;34m=\u001b[0m \u001b[0mVGGFace\u001b[0m\u001b[0;34m(\u001b[0m\u001b[0mmodel\u001b[0m\u001b[0;34m=\u001b[0m\u001b[0;34m'vgg16'\u001b[0m\u001b[0;34m,\u001b[0m \u001b[0mweights\u001b[0m\u001b[0;34m=\u001b[0m\u001b[0;34m'vggface2'\u001b[0m\u001b[0;34m)\u001b[0m\u001b[0;34m\u001b[0m\u001b[0;34m\u001b[0m\u001b[0m\n\u001b[1;32m      5\u001b[0m \u001b[0;34m\u001b[0m\u001b[0m\n",
      "\u001b[0;32m/opt/conda/lib/python3.9/site-packages/keras_vggface/__init__.py\u001b[0m in \u001b[0;36m<module>\u001b[0;34m\u001b[0m\n\u001b[0;32m----> 1\u001b[0;31m \u001b[0;32mfrom\u001b[0m \u001b[0mkeras_vggface\u001b[0m\u001b[0;34m.\u001b[0m\u001b[0mvggface\u001b[0m \u001b[0;32mimport\u001b[0m \u001b[0mVGGFace\u001b[0m\u001b[0;34m\u001b[0m\u001b[0;34m\u001b[0m\u001b[0m\n\u001b[0m\u001b[1;32m      2\u001b[0m \u001b[0;32mfrom\u001b[0m \u001b[0mkeras_vggface\u001b[0m\u001b[0;34m.\u001b[0m\u001b[0mversion\u001b[0m \u001b[0;32mimport\u001b[0m \u001b[0m__version__\u001b[0m\u001b[0;34m\u001b[0m\u001b[0;34m\u001b[0m\u001b[0m\n",
      "\u001b[0;32m/opt/conda/lib/python3.9/site-packages/keras_vggface/vggface.py\u001b[0m in \u001b[0;36m<module>\u001b[0;34m\u001b[0m\n\u001b[1;32m      7\u001b[0m '''\n\u001b[1;32m      8\u001b[0m \u001b[0;32mfrom\u001b[0m \u001b[0m__future__\u001b[0m \u001b[0;32mimport\u001b[0m \u001b[0mprint_function\u001b[0m\u001b[0;34m\u001b[0m\u001b[0;34m\u001b[0m\u001b[0m\n\u001b[0;32m----> 9\u001b[0;31m \u001b[0;32mfrom\u001b[0m \u001b[0mkeras_vggface\u001b[0m\u001b[0;34m.\u001b[0m\u001b[0mmodels\u001b[0m \u001b[0;32mimport\u001b[0m \u001b[0mRESNET50\u001b[0m\u001b[0;34m,\u001b[0m \u001b[0mVGG16\u001b[0m\u001b[0;34m,\u001b[0m \u001b[0mSENET50\u001b[0m\u001b[0;34m\u001b[0m\u001b[0;34m\u001b[0m\u001b[0m\n\u001b[0m\u001b[1;32m     10\u001b[0m \u001b[0;34m\u001b[0m\u001b[0m\n\u001b[1;32m     11\u001b[0m \u001b[0;34m\u001b[0m\u001b[0m\n",
      "\u001b[0;32m/opt/conda/lib/python3.9/site-packages/keras_vggface/models.py\u001b[0m in \u001b[0;36m<module>\u001b[0;34m\u001b[0m\n\u001b[1;32m     18\u001b[0m \u001b[0;32mfrom\u001b[0m \u001b[0mkeras\u001b[0m \u001b[0;32mimport\u001b[0m \u001b[0mbackend\u001b[0m \u001b[0;32mas\u001b[0m \u001b[0mK\u001b[0m\u001b[0;34m\u001b[0m\u001b[0;34m\u001b[0m\u001b[0m\n\u001b[1;32m     19\u001b[0m \u001b[0;32mfrom\u001b[0m \u001b[0mkeras_vggface\u001b[0m \u001b[0;32mimport\u001b[0m \u001b[0mutils\u001b[0m\u001b[0;34m\u001b[0m\u001b[0;34m\u001b[0m\u001b[0m\n\u001b[0;32m---> 20\u001b[0;31m \u001b[0;32mfrom\u001b[0m \u001b[0mkeras\u001b[0m\u001b[0;34m.\u001b[0m\u001b[0mengine\u001b[0m\u001b[0;34m.\u001b[0m\u001b[0mtopology\u001b[0m \u001b[0;32mimport\u001b[0m \u001b[0mget_source_inputs\u001b[0m\u001b[0;34m\u001b[0m\u001b[0;34m\u001b[0m\u001b[0m\n\u001b[0m\u001b[1;32m     21\u001b[0m \u001b[0;32mimport\u001b[0m \u001b[0mwarnings\u001b[0m\u001b[0;34m\u001b[0m\u001b[0;34m\u001b[0m\u001b[0m\n\u001b[1;32m     22\u001b[0m \u001b[0;32mfrom\u001b[0m \u001b[0mkeras\u001b[0m\u001b[0;34m.\u001b[0m\u001b[0mmodels\u001b[0m \u001b[0;32mimport\u001b[0m \u001b[0mModel\u001b[0m\u001b[0;34m\u001b[0m\u001b[0;34m\u001b[0m\u001b[0m\n",
      "\u001b[0;31mModuleNotFoundError\u001b[0m: No module named 'keras.engine.topology'"
     ]
    }
   ],
   "source": [
    "from keras_vggface.vggface import VGGFace\n",
    "\n",
    "# VGGFace2 데이터셋으로 사전 학습된 VGGFace 모델 불러오기\n",
    "model = VGGFace(model='vgg16', weights='vggface2')\n",
    "\n",
    "# 모델 구조 및 가중치 확인\n",
    "model.summary()"
   ]
  },
  {
   "cell_type": "code",
   "execution_count": null,
   "metadata": {},
   "outputs": [],
   "source": []
  }
 ],
 "metadata": {
  "colab": {
   "authorship_tag": "ABX9TyNwglgcePeCxDirb6VuAD1F",
   "collapsed_sections": [
    "ZwsAoPOlKD1W",
    "ETU0Hu45KHYb"
   ],
   "provenance": []
  },
  "kernelspec": {
   "display_name": "Python 3 (ipykernel)",
   "language": "python",
   "name": "python3"
  },
  "language_info": {
   "codemirror_mode": {
    "name": "ipython",
    "version": 3
   },
   "file_extension": ".py",
   "mimetype": "text/x-python",
   "name": "python",
   "nbconvert_exporter": "python",
   "pygments_lexer": "ipython3",
   "version": "3.9.7"
  }
 },
 "nbformat": 4,
 "nbformat_minor": 1
}
