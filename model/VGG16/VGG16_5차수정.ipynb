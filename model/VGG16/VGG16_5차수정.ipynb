{
 "cells": [
  {
   "cell_type": "markdown",
   "metadata": {
    "id": "8AVfKtODAaL6"
   },
   "source": [
    "# 프로젝트: 퍼스널 컬러 진단 - VGG16\n",
    "\n",
    "## 데이터\n",
    "1. 유명인 웜톤 100장, 쿨톤 100장  \n",
    "2. 일반인 웜톤 490장, 쿨톤 186장  \n",
    "\n",
    "## 목표: VGG16 아키텍처에 퍼스널컬러 적용하기  \n",
    "참고 링크:https://eremo2002.tistory.com/55   \n",
    "\n",
    "## 모델 환경\n",
    "1. VGG16의 마지막 Dense layer 부분은 추가 수정함  \n",
    "2. 이진 분류이지만 웜/쿨 확률 출력을 위하여 softmax(마지막 layer 2개) 사용  \n",
    "3. 2번에 따라서 컴파일은 optimazir = adam, loss = sparse_categorical_corssentropy, metrics = accuracy  "
   ]
  },
  {
   "cell_type": "markdown",
   "metadata": {
    "id": "QKkxomUDLD7B"
   },
   "source": [
    "## (1) 라이브러리 및 데이터 불러오기"
   ]
  },
  {
   "cell_type": "code",
   "execution_count": 1,
   "metadata": {
    "executionInfo": {
     "elapsed": 8847,
     "status": "ok",
     "timestamp": 1690358071355,
     "user": {
      "displayName": "장수빈",
      "userId": "11804786027693854134"
     },
     "user_tz": -540
    },
    "id": "1ryUcA_jHSbt"
   },
   "outputs": [],
   "source": [
    "import tensorflow as tf\n",
    "from tensorflow.keras import layers, models\n",
    "from tensorflow.keras.applications import vgg16\n",
    "\n",
    "import numpy as np\n",
    "import cv2\n",
    "import os\n",
    "import glob\n",
    "from PIL import Image"
   ]
  },
  {
   "cell_type": "code",
   "execution_count": 2,
   "metadata": {
    "executionInfo": {
     "elapsed": 16,
     "status": "ok",
     "timestamp": 1690358093448,
     "user": {
      "displayName": "장수빈",
      "userId": "11804786027693854134"
     },
     "user_tz": -540
    },
    "id": "heINaLWoJy2y"
   },
   "outputs": [],
   "source": [
    "# 파일 불러오는 함수\n",
    "def load_images_from_directory(directory_path):\n",
    "    image_paths = glob.glob(directory_path + '/*.jpg')  # 디렉토리 내의 모든 jpg 파일 경로 찾기\n",
    "    image_paths.extend(glob.glob(directory_path + '/*.jpeg'))  # 디렉토리 내의 모든 jpeg 파일 경로 추가\n",
    "    image_paths.extend(glob.glob(directory_path + '/*.JPG'))  # 디렉토리 내의 모든 JPG 파일 경로 찾기\n",
    "\n",
    "    images = []\n",
    "    i = 0\n",
    "    for image_path in image_paths:\n",
    "        if i == 180: # 웜쿨 비율 맞추기 + 계속 커널 끊기는 현상 막기 위해 최대 각각 180장만 가져옴\n",
    "            break\n",
    "        image = Image.open(image_path)\n",
    "        image_np = np.array(image)\n",
    "        images.append(image_np)\n",
    "        i += 1\n",
    "\n",
    "    return images"
   ]
  },
  {
   "cell_type": "code",
   "execution_count": 3,
   "metadata": {
    "colab": {
     "base_uri": "https://localhost:8080/"
    },
    "executionInfo": {
     "elapsed": 4617,
     "status": "ok",
     "timestamp": 1690361115986,
     "user": {
      "displayName": "장수빈",
      "userId": "11804786027693854134"
     },
     "user_tz": -540
    },
    "id": "QHhobsDKHSlU",
    "outputId": "baf0e3ac-e044-4fba-df8e-25c472a8437e"
   },
   "outputs": [
    {
     "name": "stdout",
     "output_type": "stream",
     "text": [
      "180\n",
      "180\n",
      "360\n"
     ]
    },
    {
     "name": "stderr",
     "output_type": "stream",
     "text": [
      "<__array_function__ internals>:5: VisibleDeprecationWarning: Creating an ndarray from ragged nested sequences (which is a list-or-tuple of lists-or-tuples-or ndarrays with different lengths or shapes) is deprecated. If you meant to do this, you must specify 'dtype=object' when creating the ndarray.\n"
     ]
    }
   ],
   "source": [
    "# 모든 이미지 불러오기\n",
    "directory_path1 = \"/aiffel//aiffel/project/first-repository/data/four_seasons/train_warm_1\"  # 디렉토리 경로\n",
    "directory_path2 = \"/aiffel/aiffel/project/first-repository/data/four_seasons/train_cool_1/cool_1\"  # 디렉토리 경로\n",
    "images1 = load_images_from_directory(directory_path1)\n",
    "images2 = load_images_from_directory(directory_path2)\n",
    "\n",
    "length = len(images1)\n",
    "print(length)\n",
    "print(len(images2))\n",
    "\n",
    "# 이미지 리스트 합치기\n",
    "images = np.concatenate((images1, images2), axis=0)\n",
    "print(len(images))"
   ]
  },
  {
   "cell_type": "markdown",
   "metadata": {
    "id": "JuqZO6xjLPEW"
   },
   "source": [
    "## (2) 데이터 전처리"
   ]
  },
  {
   "cell_type": "code",
   "execution_count": 4,
   "metadata": {
    "colab": {
     "base_uri": "https://localhost:8080/"
    },
    "executionInfo": {
     "elapsed": 23,
     "status": "ok",
     "timestamp": 1690361115987,
     "user": {
      "displayName": "장수빈",
      "userId": "11804786027693854134"
     },
     "user_tz": -540
    },
    "id": "nduCOt1YHSoj",
    "outputId": "b9c21304-a6c6-4641-f3da-3cdc44046328"
   },
   "outputs": [
    {
     "name": "stdout",
     "output_type": "stream",
     "text": [
      "(360, 224, 224, 3)\n"
     ]
    }
   ],
   "source": [
    "def preprocess_image(image):\n",
    "    # 이미지 크기 조절\n",
    "    image = tf.image.resize(image, (224, 224))\n",
    "    # 이미지를 [0, 1] 범위로 정규화\n",
    "    image = image / 255.0\n",
    "    return image\n",
    "\n",
    "images = np.array([preprocess_image(image) for image in images])\n",
    "print(images.shape)"
   ]
  },
  {
   "cell_type": "code",
   "execution_count": 5,
   "metadata": {
    "colab": {
     "base_uri": "https://localhost:8080/"
    },
    "executionInfo": {
     "elapsed": 15,
     "status": "ok",
     "timestamp": 1690361118318,
     "user": {
      "displayName": "장수빈",
      "userId": "11804786027693854134"
     },
     "user_tz": -540
    },
    "id": "N2coAcsEHSrR",
    "outputId": "b8ce40fa-f22a-405f-99ec-5a2d616f2f00",
    "scrolled": false
   },
   "outputs": [
    {
     "name": "stdout",
     "output_type": "stream",
     "text": [
      "360\n",
      "(360,)\n",
      "[0. 0. 0. 0. 0. 0. 0. 0. 0. 0. 0. 0. 0. 0. 0. 0. 0. 0. 0. 0. 0. 0. 0. 0.\n",
      " 0. 0. 0. 0. 0. 0. 0. 0. 0. 0. 0. 0. 0. 0. 0. 0. 0. 0. 0. 0. 0. 0. 0. 0.\n",
      " 0. 0. 0. 0. 0. 0. 0. 0. 0. 0. 0. 0. 0. 0. 0. 0. 0. 0. 0. 0. 0. 0. 0. 0.\n",
      " 0. 0. 0. 0. 0. 0. 0. 0. 0. 0. 0. 0. 0. 0. 0. 0. 0. 0. 0. 0. 0. 0. 0. 0.\n",
      " 0. 0. 0. 0. 0. 0. 0. 0. 0. 0. 0. 0. 0. 0. 0. 0. 0. 0. 0. 0. 0. 0. 0. 0.\n",
      " 0. 0. 0. 0. 0. 0. 0. 0. 0. 0. 0. 0. 0. 0. 0. 0. 0. 0. 0. 0. 0. 0. 0. 0.\n",
      " 0. 0. 0. 0. 0. 0. 0. 0. 0. 0. 0. 0. 0. 0. 0. 0. 0. 0. 0. 0. 0. 0. 0. 0.\n",
      " 0. 0. 0. 0. 0. 0. 0. 0. 0. 0. 0. 0. 1. 1. 1. 1. 1. 1. 1. 1. 1. 1. 1. 1.\n",
      " 1. 1. 1. 1. 1. 1. 1. 1. 1. 1. 1. 1. 1. 1. 1. 1. 1. 1. 1. 1. 1. 1. 1. 1.\n",
      " 1. 1. 1. 1. 1. 1. 1. 1. 1. 1. 1. 1. 1. 1. 1. 1. 1. 1. 1. 1. 1. 1. 1. 1.\n",
      " 1. 1. 1. 1. 1. 1. 1. 1. 1. 1. 1. 1. 1. 1. 1. 1. 1. 1. 1. 1. 1. 1. 1. 1.\n",
      " 1. 1. 1. 1. 1. 1. 1. 1. 1. 1. 1. 1. 1. 1. 1. 1. 1. 1. 1. 1. 1. 1. 1. 1.\n",
      " 1. 1. 1. 1. 1. 1. 1. 1. 1. 1. 1. 1. 1. 1. 1. 1. 1. 1. 1. 1. 1. 1. 1. 1.\n",
      " 1. 1. 1. 1. 1. 1. 1. 1. 1. 1. 1. 1. 1. 1. 1. 1. 1. 1. 1. 1. 1. 1. 1. 1.\n",
      " 1. 1. 1. 1. 1. 1. 1. 1. 1. 1. 1. 1. 1. 1. 1. 1. 1. 1. 1. 1. 1. 1. 1. 1.]\n"
     ]
    }
   ],
   "source": [
    "from tensorflow.keras.utils import to_categorical\n",
    "\n",
    "# labels에 대한 코드\n",
    "num = len(images)\n",
    "labels = np.zeros(num)\n",
    "\n",
    "# 뒤쪽의 50개의 요소를 1로 변경\n",
    "labels[length:] = 1\n",
    "\n",
    "# labels = to_categorical(labels, num_classes=2)\n",
    "\n",
    "# 0이 웜톤 1이 쿨톤\n",
    "print(len(images))\n",
    "print(labels.shape)\n",
    "print(labels)"
   ]
  },
  {
   "cell_type": "markdown",
   "metadata": {
    "id": "dbzMvdvQLR45"
   },
   "source": [
    "## (3) train, val 분리하기"
   ]
  },
  {
   "cell_type": "code",
   "execution_count": 94,
   "metadata": {
    "colab": {
     "base_uri": "https://localhost:8080/"
    },
    "executionInfo": {
     "elapsed": 55,
     "status": "ok",
     "timestamp": 1690361121698,
     "user": {
      "displayName": "장수빈",
      "userId": "11804786027693854134"
     },
     "user_tz": -540
    },
    "id": "oyOgLqgEIidF",
    "outputId": "18cf4f86-ac22-45b3-de2a-e03edc83a971"
   },
   "outputs": [
    {
     "name": "stdout",
     "output_type": "stream",
     "text": [
      "x_train:  (252, 224, 224, 3)\n",
      "y_train:  (252,)\n",
      "x_val:  (108, 224, 224, 3)\n",
      "y_val:  (108,)\n"
     ]
    }
   ],
   "source": [
    "from sklearn.model_selection import train_test_split\n",
    "\n",
    "x_train, x_val, y_train, y_val = train_test_split(images,\n",
    "                                                  labels,\n",
    "                                                  test_size=0.3,\n",
    "                                                  random_state=18)\n",
    "\n",
    "print(\"x_train: \", x_train.shape)\n",
    "print(\"y_train: \", y_train.shape)\n",
    "print(\"x_val: \", x_val.shape)\n",
    "print(\"y_val: \", y_val.shape)"
   ]
  },
  {
   "cell_type": "code",
   "execution_count": 95,
   "metadata": {},
   "outputs": [],
   "source": [
    "from keras.preprocessing.image import ImageDataGenerator\n",
    "\n",
    "# 이미지 증강을 위한 ImageDataGenerator 생성\n",
    "datagen = ImageDataGenerator(\n",
    "    rotation_range=20,\n",
    "    width_shift_range=0.2,\n",
    "    height_shift_range=0.2,\n",
    "    zoom_range=0.2,\n",
    "    horizontal_flip=True,\n",
    "    fill_mode='nearest'\n",
    ")\n",
    "\n",
    "# 이미지 증강 적용하여 증강된 이미지를 배치로 생성\n",
    "augmented_images = datagen.flow(images, batch_size=32)"
   ]
  },
  {
   "cell_type": "code",
   "execution_count": 96,
   "metadata": {
    "executionInfo": {
     "elapsed": 3,
     "status": "ok",
     "timestamp": 1690361122476,
     "user": {
      "displayName": "장수빈",
      "userId": "11804786027693854134"
     },
     "user_tz": -540
    },
    "id": "60cskZPQIif3"
   },
   "outputs": [],
   "source": [
    "# 데이터를 텐서로 변환\n",
    "# x_train = tf.convert_to_tensor(x_train, dtype=tf.float32)\n",
    "# x_val = tf.convert_to_tensor(x_val, dtype=tf.float32)\n",
    "# y_train = tf.convert_to_tensor(y_train, dtype=tf.int32)\n",
    "# y_val = tf.convert_to_tensor(y_val, dtype=tf.int32)"
   ]
  },
  {
   "cell_type": "markdown",
   "metadata": {
    "id": "7dzDlNR0LViM"
   },
   "source": [
    "## (4) 모델 정의 및 컴파일"
   ]
  },
  {
   "cell_type": "code",
   "execution_count": 97,
   "metadata": {
    "executionInfo": {
     "elapsed": 4571,
     "status": "ok",
     "timestamp": 1690361256475,
     "user": {
      "displayName": "장수빈",
      "userId": "11804786027693854134"
     },
     "user_tz": -540
    },
    "id": "QK2JsubkIiiP",
    "scrolled": false
   },
   "outputs": [
    {
     "name": "stdout",
     "output_type": "stream",
     "text": [
      "Model: \"model_8\"\n",
      "_________________________________________________________________\n",
      "Layer (type)                 Output Shape              Param #   \n",
      "=================================================================\n",
      "input (InputLayer)           [(None, 224, 224, 3)]     0         \n",
      "_________________________________________________________________\n",
      "conv2d_104 (Conv2D)          (None, 224, 224, 64)      1792      \n",
      "_________________________________________________________________\n",
      "conv2d_105 (Conv2D)          (None, 224, 224, 64)      36928     \n",
      "_________________________________________________________________\n",
      "max_pooling2d_40 (MaxPooling (None, 112, 112, 64)      0         \n",
      "_________________________________________________________________\n",
      "conv2d_106 (Conv2D)          (None, 112, 112, 128)     73856     \n",
      "_________________________________________________________________\n",
      "conv2d_107 (Conv2D)          (None, 112, 112, 128)     147584    \n",
      "_________________________________________________________________\n",
      "max_pooling2d_41 (MaxPooling (None, 56, 56, 128)       0         \n",
      "_________________________________________________________________\n",
      "conv2d_108 (Conv2D)          (None, 56, 56, 256)       295168    \n",
      "_________________________________________________________________\n",
      "conv2d_109 (Conv2D)          (None, 56, 56, 256)       590080    \n",
      "_________________________________________________________________\n",
      "conv2d_110 (Conv2D)          (None, 56, 56, 256)       590080    \n",
      "_________________________________________________________________\n",
      "max_pooling2d_42 (MaxPooling (None, 28, 28, 256)       0         \n",
      "_________________________________________________________________\n",
      "conv2d_111 (Conv2D)          (None, 28, 28, 512)       1180160   \n",
      "_________________________________________________________________\n",
      "conv2d_112 (Conv2D)          (None, 28, 28, 512)       2359808   \n",
      "_________________________________________________________________\n",
      "conv2d_113 (Conv2D)          (None, 28, 28, 512)       2359808   \n",
      "_________________________________________________________________\n",
      "max_pooling2d_43 (MaxPooling (None, 14, 14, 512)       0         \n",
      "_________________________________________________________________\n",
      "conv2d_114 (Conv2D)          (None, 14, 14, 512)       2359808   \n",
      "_________________________________________________________________\n",
      "conv2d_115 (Conv2D)          (None, 14, 14, 512)       2359808   \n",
      "_________________________________________________________________\n",
      "conv2d_116 (Conv2D)          (None, 14, 14, 512)       2359808   \n",
      "_________________________________________________________________\n",
      "max_pooling2d_44 (MaxPooling (None, 7, 7, 512)         0         \n",
      "_________________________________________________________________\n",
      "flatten_8 (Flatten)          (None, 25088)             0         \n",
      "_________________________________________________________________\n",
      "dense_40 (Dense)             (None, 1024)              25691136  \n",
      "_________________________________________________________________\n",
      "dense_41 (Dense)             (None, 512)               524800    \n",
      "_________________________________________________________________\n",
      "dense_42 (Dense)             (None, 64)                32832     \n",
      "_________________________________________________________________\n",
      "dense_43 (Dense)             (None, 32)                2080      \n",
      "_________________________________________________________________\n",
      "dense_44 (Dense)             (None, 2)                 66        \n",
      "=================================================================\n",
      "Total params: 40,965,602\n",
      "Trainable params: 40,965,602\n",
      "Non-trainable params: 0\n",
      "_________________________________________________________________\n"
     ]
    }
   ],
   "source": [
    "from keras.models import Model\n",
    "from keras import Input\n",
    "from keras import optimizers, initializers, regularizers, metrics\n",
    "\n",
    "dim1 = 32\n",
    "dim2 = 64\n",
    "\n",
    "input_tensor = Input(shape=(224, 224, 3), dtype='float32', name='input')\n",
    " \n",
    "x = layers.Conv2D(64, (3, 3), activation='relu', padding='same', kernel_initializer='he_normal', kernel_regularizer=regularizers.l2(0.01))(input_tensor)\n",
    "x = layers.Conv2D(64, (3, 3), activation='relu', padding='same', kernel_initializer='he_normal', kernel_regularizer=regularizers.l2(0.01))(x)\n",
    "x = layers.MaxPooling2D((2,2))(x)\n",
    " \n",
    "x = layers.Conv2D(128, (3, 3), activation='relu', padding='same', kernel_initializer='he_normal', kernel_regularizer=regularizers.l2(0.01))(x)\n",
    "x = layers.Conv2D(128, (3, 3), activation='relu', padding='same', kernel_initializer='he_normal', kernel_regularizer=regularizers.l2(0.01))(x)\n",
    "x = layers.MaxPooling2D((2,2))(x)\n",
    " \n",
    "x = layers.Conv2D(256, (3, 3), activation='relu', padding='same', kernel_initializer='he_normal', kernel_regularizer=regularizers.l2(0.01))(x)\n",
    "x = layers.Conv2D(256, (3, 3), activation='relu', padding='same', kernel_initializer='he_normal', kernel_regularizer=regularizers.l2(0.01))(x)\n",
    "x = layers.Conv2D(256, (3, 3), activation='relu', padding='same', kernel_initializer='he_normal', kernel_regularizer=regularizers.l2(0.01))(x)\n",
    "x = layers.MaxPooling2D((2,2))(x)\n",
    " \n",
    "x = layers.Conv2D(512, (3, 3), activation='relu', padding='same', kernel_initializer='he_normal', kernel_regularizer=regularizers.l2(0.01))(x)\n",
    "x = layers.Conv2D(512, (3, 3), activation='relu', padding='same', kernel_initializer='he_normal', kernel_regularizer=regularizers.l2(0.01))(x)\n",
    "x = layers.Conv2D(512, (3, 3), activation='relu', padding='same', kernel_initializer='he_normal', kernel_regularizer=regularizers.l2(0.01))(x)\n",
    "x = layers.MaxPooling2D((2,2))(x)\n",
    " \n",
    "x = layers.Conv2D(512, (3, 3), activation='relu', padding='same', kernel_initializer='he_normal', kernel_regularizer=regularizers.l2(0.01))(x)\n",
    "x = layers.Conv2D(512, (3, 3), activation='relu', padding='same', kernel_initializer='he_normal', kernel_regularizer=regularizers.l2(0.01))(x)\n",
    "x = layers.Conv2D(512, (3, 3), activation='relu', padding='same', kernel_initializer='he_normal', kernel_regularizer=regularizers.l2(0.01))(x)\n",
    "x = layers.MaxPooling2D((2,2))(x)\n",
    " \n",
    "x = layers.Flatten()(x)\n",
    "x = layers.Dense(1024, activation='relu')(x)\n",
    "x = layers.Dense(512, activation='relu')(x)\n",
    "x = layers.Dense(64, activation='relu')(x)\n",
    "x = layers.Dense(32, activation='relu')(x)\n",
    "output_tensor = layers.Dense(2, activation='softmax')(x)\n",
    " \n",
    "model = Model(input_tensor, output_tensor)\n",
    "model.summary()"
   ]
  },
  {
   "cell_type": "code",
   "execution_count": 98,
   "metadata": {
    "executionInfo": {
     "elapsed": 16,
     "status": "ok",
     "timestamp": 1690361256476,
     "user": {
      "displayName": "장수빈",
      "userId": "11804786027693854134"
     },
     "user_tz": -540
    },
    "id": "7TeFqbJ-Iiky"
   },
   "outputs": [
    {
     "name": "stderr",
     "output_type": "stream",
     "text": [
      "/opt/conda/lib/python3.9/site-packages/keras/optimizer_v2/optimizer_v2.py:355: UserWarning: The `lr` argument is deprecated, use `learning_rate` instead.\n",
      "  warnings.warn(\n"
     ]
    }
   ],
   "source": [
    "learning_rate = 0.000001\n",
    "adam = tf.keras.optimizers.Adam(lr=learning_rate)\n",
    "\n",
    "# 모델 컴파일\n",
    "model.compile(optimizer= adam,\n",
    "              loss='sparse_categorical_crossentropy', \n",
    "              metrics=['accuracy'])"
   ]
  },
  {
   "cell_type": "markdown",
   "metadata": {
    "id": "cgKOImX7LZSh"
   },
   "source": [
    "## (5) 모델 학습하기"
   ]
  },
  {
   "cell_type": "code",
   "execution_count": 99,
   "metadata": {
    "colab": {
     "base_uri": "https://localhost:8080/"
    },
    "executionInfo": {
     "elapsed": 423314,
     "status": "ok",
     "timestamp": 1690361687293,
     "user": {
      "displayName": "장수빈",
      "userId": "11804786027693854134"
     },
     "user_tz": -540
    },
    "id": "PJRmMrcwASla",
    "outputId": "a8cb0384-ec19-4008-d07d-aeefd60ffed6"
   },
   "outputs": [
    {
     "name": "stdout",
     "output_type": "stream",
     "text": [
      "Epoch 1/30\n",
      "16/16 [==============================] - 5s 256ms/step - loss: 85.1418 - accuracy: 0.5833 - val_loss: 85.0739 - val_accuracy: 0.6759\n",
      "Epoch 2/30\n",
      "16/16 [==============================] - 4s 231ms/step - loss: 85.0408 - accuracy: 0.7103 - val_loss: 84.9863 - val_accuracy: 0.8241\n",
      "Epoch 3/30\n",
      "16/16 [==============================] - 4s 231ms/step - loss: 84.9491 - accuracy: 0.7976 - val_loss: 84.9106 - val_accuracy: 0.8241\n",
      "Epoch 4/30\n",
      "16/16 [==============================] - 4s 233ms/step - loss: 84.8689 - accuracy: 0.8254 - val_loss: 84.8365 - val_accuracy: 0.8056\n",
      "Epoch 5/30\n",
      "16/16 [==============================] - 4s 235ms/step - loss: 84.7869 - accuracy: 0.8413 - val_loss: 84.7639 - val_accuracy: 0.8241\n",
      "Epoch 6/30\n",
      "16/16 [==============================] - 4s 235ms/step - loss: 84.7101 - accuracy: 0.8532 - val_loss: 84.6906 - val_accuracy: 0.8241\n",
      "Epoch 7/30\n",
      "16/16 [==============================] - 4s 235ms/step - loss: 84.6504 - accuracy: 0.8095 - val_loss: 84.6269 - val_accuracy: 0.8148\n",
      "Epoch 8/30\n",
      "16/16 [==============================] - 4s 236ms/step - loss: 84.5611 - accuracy: 0.8571 - val_loss: 84.5489 - val_accuracy: 0.8241\n",
      "Epoch 9/30\n",
      "16/16 [==============================] - 4s 238ms/step - loss: 84.4923 - accuracy: 0.8492 - val_loss: 84.4812 - val_accuracy: 0.8148\n",
      "Epoch 10/30\n",
      "16/16 [==============================] - 4s 238ms/step - loss: 84.4264 - accuracy: 0.8452 - val_loss: 84.4120 - val_accuracy: 0.8426\n",
      "Epoch 11/30\n",
      "16/16 [==============================] - 4s 239ms/step - loss: 84.3449 - accuracy: 0.8770 - val_loss: 84.3468 - val_accuracy: 0.8611\n",
      "Epoch 12/30\n",
      "16/16 [==============================] - 4s 239ms/step - loss: 84.2798 - accuracy: 0.8611 - val_loss: 84.3202 - val_accuracy: 0.7870\n",
      "Epoch 13/30\n",
      "16/16 [==============================] - 4s 240ms/step - loss: 84.2412 - accuracy: 0.8294 - val_loss: 84.2229 - val_accuracy: 0.8519\n",
      "Epoch 14/30\n",
      "16/16 [==============================] - 4s 239ms/step - loss: 84.1476 - accuracy: 0.8690 - val_loss: 84.1713 - val_accuracy: 0.8333\n",
      "Epoch 15/30\n",
      "16/16 [==============================] - 4s 240ms/step - loss: 84.0788 - accuracy: 0.8929 - val_loss: 84.1194 - val_accuracy: 0.8148\n",
      "Epoch 16/30\n",
      "16/16 [==============================] - 4s 239ms/step - loss: 84.0247 - accuracy: 0.8968 - val_loss: 84.0467 - val_accuracy: 0.8426\n",
      "Epoch 17/30\n",
      "16/16 [==============================] - 4s 238ms/step - loss: 83.9402 - accuracy: 0.9008 - val_loss: 84.0593 - val_accuracy: 0.7407\n",
      "Epoch 18/30\n",
      "16/16 [==============================] - 4s 238ms/step - loss: 83.9086 - accuracy: 0.8690 - val_loss: 83.9257 - val_accuracy: 0.8426\n",
      "Epoch 19/30\n",
      "16/16 [==============================] - 4s 237ms/step - loss: 83.8252 - accuracy: 0.8889 - val_loss: 83.8634 - val_accuracy: 0.8704\n",
      "Epoch 20/30\n",
      "16/16 [==============================] - 4s 236ms/step - loss: 83.7573 - accuracy: 0.9048 - val_loss: 83.8059 - val_accuracy: 0.8519\n",
      "Epoch 21/30\n",
      "16/16 [==============================] - 4s 237ms/step - loss: 83.7046 - accuracy: 0.9008 - val_loss: 83.7495 - val_accuracy: 0.8519\n",
      "Epoch 22/30\n",
      "16/16 [==============================] - 4s 236ms/step - loss: 83.6310 - accuracy: 0.9087 - val_loss: 83.6906 - val_accuracy: 0.8889\n",
      "Epoch 23/30\n",
      "16/16 [==============================] - 4s 237ms/step - loss: 83.5733 - accuracy: 0.9167 - val_loss: 83.6537 - val_accuracy: 0.8333\n",
      "Epoch 24/30\n",
      "16/16 [==============================] - 4s 237ms/step - loss: 83.5151 - accuracy: 0.9087 - val_loss: 83.5795 - val_accuracy: 0.8889\n",
      "Epoch 25/30\n",
      "16/16 [==============================] - 4s 237ms/step - loss: 83.4473 - accuracy: 0.9127 - val_loss: 83.5206 - val_accuracy: 0.8889\n",
      "Epoch 26/30\n",
      "16/16 [==============================] - 4s 238ms/step - loss: 83.3867 - accuracy: 0.9206 - val_loss: 83.4782 - val_accuracy: 0.8611\n",
      "Epoch 27/30\n",
      "16/16 [==============================] - 4s 238ms/step - loss: 83.3335 - accuracy: 0.9286 - val_loss: 83.4158 - val_accuracy: 0.8889\n",
      "Epoch 28/30\n",
      "16/16 [==============================] - 4s 238ms/step - loss: 83.2682 - accuracy: 0.9206 - val_loss: 83.3488 - val_accuracy: 0.8704\n",
      "Epoch 29/30\n",
      "16/16 [==============================] - 4s 239ms/step - loss: 83.2068 - accuracy: 0.9286 - val_loss: 83.2980 - val_accuracy: 0.8981\n",
      "Epoch 30/30\n",
      "16/16 [==============================] - 4s 239ms/step - loss: 83.1439 - accuracy: 0.9206 - val_loss: 83.2347 - val_accuracy: 0.8796\n"
     ]
    }
   ],
   "source": [
    "history = model.fit(x_train, y_train,\n",
    "                    batch_size=16,\n",
    "                    epochs=30,\n",
    "                    validation_data=(x_val, y_val))"
   ]
  },
  {
   "cell_type": "markdown",
   "metadata": {
    "id": "eMj_vDU5LgcK"
   },
   "source": [
    "## (6) 예측하기"
   ]
  },
  {
   "cell_type": "code",
   "execution_count": 100,
   "metadata": {
    "colab": {
     "base_uri": "https://localhost:8080/"
    },
    "executionInfo": {
     "elapsed": 20168,
     "status": "ok",
     "timestamp": 1690361718870,
     "user": {
      "displayName": "장수빈",
      "userId": "11804786027693854134"
     },
     "user_tz": -540
    },
    "id": "WUB92j00ATI6",
    "outputId": "03de6b37-0106-4470-f848-af73a7869137"
   },
   "outputs": [],
   "source": [
    "pred = model.predict(x_val)\n",
    "pred_class = np.argmax(pred, axis=1)\n",
    "# y_val = np.argmax(y_val, axis=1)"
   ]
  },
  {
   "cell_type": "code",
   "execution_count": 101,
   "metadata": {
    "colab": {
     "base_uri": "https://localhost:8080/"
    },
    "executionInfo": {
     "elapsed": 32,
     "status": "ok",
     "timestamp": 1690361718871,
     "user": {
      "displayName": "장수빈",
      "userId": "11804786027693854134"
     },
     "user_tz": -540
    },
    "id": "Wtr35C-CATKt",
    "outputId": "8dd8d144-26b0-4f7c-b53a-bd76f51974c7"
   },
   "outputs": [
    {
     "name": "stdout",
     "output_type": "stream",
     "text": [
      "[0 0 1 1 1 1 1 0 1 1 0 0 1 0 1 1 1 0 0 0 1 1 1 0 1 1 1 0 0 1 1 1 1 0 1 1 0\n",
      " 0 0 1 0 0 0 1 1 0 0 1 0 1 0 1 0 0 1 0 1 1 0 1 0 1 0 0 1 0 1 1 1 0 1 0 1 0\n",
      " 1 1 1 0 1 0 1 1 0 0 0 0 1 0 1 1 1 0 0 0 1 1 1 0 1 0 1 1 1 1 1 0 0 1]\n",
      "[1. 0. 1. 1. 1. 1. 1. 0. 1. 0. 0. 0. 1. 0. 1. 1. 0. 0. 0. 0. 1. 1. 1. 0.\n",
      " 1. 1. 0. 1. 0. 1. 1. 1. 1. 0. 1. 1. 0. 0. 0. 1. 0. 0. 1. 1. 1. 0. 0. 1.\n",
      " 0. 1. 1. 1. 0. 0. 0. 1. 0. 1. 0. 1. 0. 1. 0. 0. 1. 0. 1. 1. 1. 0. 1. 0.\n",
      " 1. 0. 0. 1. 1. 0. 1. 0. 1. 1. 0. 0. 0. 0. 0. 0. 1. 1. 1. 0. 0. 0. 1. 0.\n",
      " 1. 0. 1. 0. 1. 1. 1. 1. 1. 0. 0. 1.]\n",
      "[[0.57171196 0.42828807]\n",
      " [0.7138979  0.28610212]\n",
      " [0.13241805 0.8675819 ]\n",
      " [0.10607146 0.8939286 ]\n",
      " [0.37784716 0.6221528 ]\n",
      " [0.12198911 0.87801087]\n",
      " [0.21669327 0.7833067 ]\n",
      " [0.91477036 0.08522967]\n",
      " [0.16907574 0.83092433]\n",
      " [0.18096013 0.8190399 ]\n",
      " [0.9605629  0.03943713]\n",
      " [0.7962335  0.20376647]\n",
      " [0.14363924 0.8563608 ]\n",
      " [0.83577836 0.16422161]\n",
      " [0.0787793  0.9212207 ]\n",
      " [0.21048567 0.78951436]\n",
      " [0.472923   0.527077  ]\n",
      " [0.80126625 0.19873376]\n",
      " [0.65653676 0.34346327]\n",
      " [0.53598887 0.46401113]\n",
      " [0.40684882 0.5931512 ]\n",
      " [0.14396328 0.8560367 ]\n",
      " [0.17267919 0.8273208 ]\n",
      " [0.54084045 0.45915955]\n",
      " [0.2577322  0.7422678 ]\n",
      " [0.19288138 0.8071186 ]\n",
      " [0.4711209  0.5288791 ]\n",
      " [0.64033896 0.35966104]\n",
      " [0.8593936  0.14060642]\n",
      " [0.08081627 0.9191838 ]\n",
      " [0.08731779 0.9126822 ]\n",
      " [0.17364556 0.82635444]\n",
      " [0.19990306 0.800097  ]\n",
      " [0.76308286 0.23691717]\n",
      " [0.26639637 0.73360366]\n",
      " [0.40026793 0.5997321 ]\n",
      " [0.63290226 0.3670978 ]\n",
      " [0.9596605  0.04033949]\n",
      " [0.679992   0.32000795]\n",
      " [0.06653401 0.933466  ]\n",
      " [0.75682765 0.2431723 ]\n",
      " [0.877537   0.12246294]\n",
      " [0.7503912  0.24960881]\n",
      " [0.199599   0.800401  ]\n",
      " [0.08646812 0.9135319 ]\n",
      " [0.81914467 0.1808554 ]\n",
      " [0.6684147  0.33158532]\n",
      " [0.12742725 0.8725727 ]\n",
      " [0.83898985 0.16101013]\n",
      " [0.04768154 0.9523185 ]\n",
      " [0.63568544 0.36431453]\n",
      " [0.20643201 0.793568  ]\n",
      " [0.96716845 0.03283154]\n",
      " [0.9680015  0.0319985 ]\n",
      " [0.1337977  0.8662023 ]\n",
      " [0.93087894 0.06912113]\n",
      " [0.25474814 0.74525183]\n",
      " [0.39533967 0.60466033]\n",
      " [0.8765941  0.1234059 ]\n",
      " [0.03504308 0.96495694]\n",
      " [0.6227204  0.37727955]\n",
      " [0.18086895 0.819131  ]\n",
      " [0.89909166 0.10090835]\n",
      " [0.8213998  0.17860015]\n",
      " [0.07850546 0.92149454]\n",
      " [0.93566155 0.06433845]\n",
      " [0.23646225 0.7635377 ]\n",
      " [0.43111214 0.5688879 ]\n",
      " [0.43111864 0.5688814 ]\n",
      " [0.9803185  0.0196815 ]\n",
      " [0.08339731 0.9166026 ]\n",
      " [0.6482027  0.35179722]\n",
      " [0.18030295 0.8196971 ]\n",
      " [0.7412533  0.25874674]\n",
      " [0.1992408  0.80075914]\n",
      " [0.13691832 0.86308163]\n",
      " [0.09164454 0.9083554 ]\n",
      " [0.803918   0.19608194]\n",
      " [0.31027666 0.6897233 ]\n",
      " [0.75585645 0.24414362]\n",
      " [0.10463509 0.89536494]\n",
      " [0.31118554 0.6888144 ]\n",
      " [0.9622558  0.03774421]\n",
      " [0.8893314  0.11066863]\n",
      " [0.83887917 0.1611208 ]\n",
      " [0.59283465 0.40716532]\n",
      " [0.46879613 0.53120387]\n",
      " [0.80735874 0.1926413 ]\n",
      " [0.19958316 0.8004169 ]\n",
      " [0.31988493 0.6801151 ]\n",
      " [0.14830376 0.8516962 ]\n",
      " [0.9219303  0.07806968]\n",
      " [0.87867516 0.12132489]\n",
      " [0.58218306 0.41781697]\n",
      " [0.3456247  0.6543753 ]\n",
      " [0.35000557 0.6499944 ]\n",
      " [0.38116816 0.6188318 ]\n",
      " [0.8812995  0.11870049]\n",
      " [0.07593449 0.9240655 ]\n",
      " [0.95967364 0.04032633]\n",
      " [0.06464627 0.93535376]\n",
      " [0.22610995 0.77389   ]\n",
      " [0.11726592 0.8827341 ]\n",
      " [0.14469141 0.85530853]\n",
      " [0.06338823 0.9366118 ]\n",
      " [0.94133955 0.05866049]\n",
      " [0.93880934 0.0611906 ]\n",
      " [0.39539626 0.6046037 ]]\n"
     ]
    }
   ],
   "source": [
    "print(pred_class)\n",
    "print(y_val)\n",
    "print(pred)"
   ]
  },
  {
   "cell_type": "code",
   "execution_count": 102,
   "metadata": {
    "colab": {
     "base_uri": "https://localhost:8080/"
    },
    "executionInfo": {
     "elapsed": 30,
     "status": "ok",
     "timestamp": 1690361718872,
     "user": {
      "displayName": "장수빈",
      "userId": "11804786027693854134"
     },
     "user_tz": -540
    },
    "id": "1Ui06FtGATM_",
    "outputId": "a5dfb3ad-2402-415d-bc4e-9411a0a7afbc"
   },
   "outputs": [
    {
     "name": "stdout",
     "output_type": "stream",
     "text": [
      "accuracy: 0.879630\n"
     ]
    }
   ],
   "source": [
    "acc = np.mean(pred_class == y_val)\n",
    "print('accuracy: %f' % (acc,))"
   ]
  },
  {
   "cell_type": "code",
   "execution_count": 103,
   "metadata": {},
   "outputs": [
    {
     "data": {
      "image/png": "[encoded data removed]",
      "text/plain": [
       "<Figure size 432x288 with 1 Axes>"
      ]
     },
     "metadata": {
      "needs_background": "light"
     },
     "output_type": "display_data"
    },
    {
     "data": {
      "image/png": "[encoded data removed]",
      "text/plain": [
       "<Figure size 432x288 with 1 Axes>"
      ]
     },
     "metadata": {
      "needs_background": "light"
     },
     "output_type": "display_data"
    }
   ],
   "source": [
    "import matplotlib.pyplot as plt\n",
    "\n",
    "# 정확도 시각화\n",
    "plt.plot(history.history['accuracy'])\n",
    "plt.plot(history.history['val_accuracy'])\n",
    "plt.title('Model accuracy')\n",
    "plt.xlabel('Epoch')\n",
    "plt.ylabel('Accuracy')\n",
    "plt.legend(['Train', 'Validation'], loc='upper left')\n",
    "plt.show()\n",
    "\n",
    "# 손실값 시각화\n",
    "plt.plot(history.history['loss'])\n",
    "plt.plot(history.history['val_loss'])\n",
    "plt.title('Model loss')\n",
    "plt.xlabel('Epoch')\n",
    "plt.ylabel('Loss')\n",
    "plt.legend(['Train', 'Validation'], loc='upper left')\n",
    "plt.show()"
   ]
  },
  {
   "cell_type": "code",
   "execution_count": 104,
   "metadata": {},
   "outputs": [
    {
     "data": {
      "image/png": "[encoded data removed]",
      "text/plain": [
       "<Figure size 360x360 with 2 Axes>"
      ]
     },
     "metadata": {
      "needs_background": "light"
     },
     "output_type": "display_data"
    }
   ],
   "source": [
    "from sklearn.metrics import confusion_matrix\n",
    "import seaborn as sns\n",
    "import matplotlib.pyplot as plt\n",
    "\n",
    "# confusion matrix 생성\n",
    "cm = confusion_matrix(y_val, pred_class)\n",
    "\n",
    "# confusion matrix 출력\n",
    "plt.figure(figsize=(5,5))\n",
    "sns.heatmap(cm, annot=True, fmt=\"d\")\n",
    "plt.title('Confusion matrix')\n",
    "plt.ylabel('Actual label')\n",
    "plt.xlabel('Predicted label')\n",
    "plt.show()"
   ]
  },
  {
   "cell_type": "markdown",
   "metadata": {},
   "source": [
    "- 아키텍처를 간소화시키고 learning_rate를 조절하니 값이 다양하게 나오고 정확도가 0.3 -> 0.6까지 올랐다  \n",
    "- 유명인 100장 시도  \n",
    "1차 시도: 0.63(77)  \n",
    "2차 시도: 40(99)  \n",
    "3차 시도: 0.37(33)  \n",
    "4차 시도: 0.53(316)  \n",
    "- 데이터를 바꾸니까 0.6 -> 0.9까지 올랐다  \n",
    "- 알반인 200장 시도  \n",
    "1차 시도: 0.92(316)  \n",
    "2차 시도: 0.65(99)  \n",
    "3차 시도: 0.82(1004)  \n",
    "4차 시도: 0.75(42)  \n",
    "- 다시 VGG16의 본래 아키텍처로 다시 시도 (learning rate는 그대로 1e-6)  \n",
    "1차 시도: 0.52(42)  \n",
    "2차 시도: 0.35(55)  \n",
    "3차 시도: 0.47(1004)  \n",
    "4차 시도: 0.45(316)  \n",
    " -> 다시 기울기를 잃는 모습을 확인할 수 있다 그러므로 깊이를 축소시키는게 답이었다  \n",
    " -> 원핫인코딩으로 바꾸고 이진분류 손실함수로 바꾸고 softmax를 sigmoid로 바꾸었지만 기존의 아키텍처로는 예측값이 계속 0 혹은 1로만 나오는 것을 알 수 있다.  \n",
    " \n",
    "- 음?? 데이터 수만 늘렸을 뿐인데 갑자기 0과 1이 골고루 출력되는 현상을 발견하였다."
   ]
  },
  {
   "cell_type": "markdown",
   "metadata": {
    "id": "z-sJuwJKLjJ4"
   },
   "source": [
    "## (7) TEST"
   ]
  },
  {
   "cell_type": "code",
   "execution_count": 33,
   "metadata": {
    "executionInfo": {
     "elapsed": 7,
     "status": "ok",
     "timestamp": 1690361728334,
     "user": {
      "displayName": "장수빈",
      "userId": "11804786027693854134"
     },
     "user_tz": -540
    },
    "id": "8cNAWpvBATPM"
   },
   "outputs": [],
   "source": [
    "class_name = [\"웜톤\", \"쿨톤\"]"
   ]
  },
  {
   "cell_type": "code",
   "execution_count": 53,
   "metadata": {
    "colab": {
     "base_uri": "https://localhost:8080/"
    },
    "executionInfo": {
     "elapsed": 1361,
     "status": "ok",
     "timestamp": 1690361729690,
     "user": {
      "displayName": "장수빈",
      "userId": "11804786027693854134"
     },
     "user_tz": -540
    },
    "id": "lG_fD_tAATRn",
    "outputId": "330b5d35-d89e-409b-e816-bab63c4a5480"
   },
   "outputs": [
    {
     "name": "stdout",
     "output_type": "stream",
     "text": [
      "(275, 183, 3)\n",
      "변환된 배열 크기: (1, 275, 183, 3)\n",
      "(1, 224, 224, 3)\n",
      "당신은 쿨톤 입니다~!\n",
      "웜톤일 확률:  [0.005]\n",
      "쿨톤일 확률:  [0.995]\n"
     ]
    }
   ],
   "source": [
    "# test 불러오기 (낱개 버전)\n",
    "test_path = \"/aiffel/aiffel/project/first-repository/data/four_seasons/TEST/박은빈.jpg\"\n",
    "x_test = Image.open(test_path)\n",
    "x_test = np.array(x_test)\n",
    "print(x_test.shape)\n",
    "\n",
    "# 배열의 크기 변환\n",
    "x_test = x_test.reshape((1, x_test.shape[0], x_test.shape[1], 3))\n",
    "print(\"변환된 배열 크기:\", x_test.shape)\n",
    "\n",
    "# 전처리(resize, 정규화)\n",
    "x_test = preprocess_image(x_test)\n",
    "print(x_test.shape)\n",
    "\n",
    "# 만약 앱구현과 연결된다면 저장된 모델을 다시 돌릴 필요없이 저장된 최적의 모델을 사용하도록 수정해야함\n",
    "# test\n",
    "pred = model.predict(x_test)\n",
    "pred_class = np.argmax(pred, axis=1)\n",
    "print(\"당신은\", class_name[int(pred_class)], \"입니다~!\")\n",
    "print(\"웜톤일 확률: \", np.round(pred[:, 0], 3))\n",
    "print(\"쿨톤일 확률: \", np.round(pred[:, 1], 3))"
   ]
  },
  {
   "cell_type": "code",
   "execution_count": 159,
   "metadata": {
    "id": "a4hWOcheATT1"
   },
   "outputs": [],
   "source": [
    "# 박은빈 쿨톤, 강혜원 웜톤 맞춤!!"
   ]
  }
 ],
 "metadata": {
  "colab": {
   "authorship_tag": "ABX9TyNwglgcePeCxDirb6VuAD1F",
   "collapsed_sections": [
    "ZwsAoPOlKD1W",
    "ETU0Hu45KHYb"
   ],
   "provenance": []
  },
  "kernelspec": {
   "display_name": "Python 3 (ipykernel)",
   "language": "python",
   "name": "python3"
  },
  "language_info": {
   "codemirror_mode": {
    "name": "ipython",
    "version": 3
   },
   "file_extension": ".py",
   "mimetype": "text/x-python",
   "name": "python",
   "nbconvert_exporter": "python",
   "pygments_lexer": "ipython3",
   "version": "3.9.7"
  }
 },
 "nbformat": 4,
 "nbformat_minor": 1
}
