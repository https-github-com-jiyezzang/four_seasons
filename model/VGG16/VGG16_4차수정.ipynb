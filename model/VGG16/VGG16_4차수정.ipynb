{
 "cells": [
  {
   "cell_type": "markdown",
   "metadata": {
    "id": "8AVfKtODAaL6"
   },
   "source": [
    "# 프로젝트: 퍼스널 컬러 진단 - VGG16\n",
    "\n",
    "## 데이터\n",
    "1. 유명인 웜톤 100장, 쿨톤 100장  \n",
    "2. 일반인 웜톤 490장, 쿨톤 186장  \n",
    "\n",
    "## 목표: VGG16 아키텍처에 퍼스널컬러(웜/쿨) 적용하기  \n",
    "참고 링크:https://eremo2002.tistory.com/55     "
   ]
  },
  {
   "cell_type": "markdown",
   "metadata": {
    "id": "QKkxomUDLD7B"
   },
   "source": [
    "## (1) 라이브러리 및 데이터 불러오기"
   ]
  },
  {
   "cell_type": "code",
   "execution_count": 1,
   "metadata": {
    "executionInfo": {
     "elapsed": 8847,
     "status": "ok",
     "timestamp": 1690358071355,
     "user": {
      "displayName": "장수빈",
      "userId": "11804786027693854134"
     },
     "user_tz": -540
    },
    "id": "1ryUcA_jHSbt"
   },
   "outputs": [],
   "source": [
    "import tensorflow as tf\n",
    "from tensorflow.keras import layers, models\n",
    "from tensorflow.keras.applications import vgg16\n",
    "\n",
    "import numpy as np\n",
    "import cv2\n",
    "import os\n",
    "import glob\n",
    "from PIL import Image"
   ]
  },
  {
   "cell_type": "code",
   "execution_count": 2,
   "metadata": {
    "executionInfo": {
     "elapsed": 16,
     "status": "ok",
     "timestamp": 1690358093448,
     "user": {
      "displayName": "장수빈",
      "userId": "11804786027693854134"
     },
     "user_tz": -540
    },
    "id": "heINaLWoJy2y"
   },
   "outputs": [],
   "source": [
    "# 파일 불러오는 함수\n",
    "def load_images_from_directory(directory_path):\n",
    "    image_paths = glob.glob(directory_path + '/*.jpg')  # 디렉토리 내의 모든 jpg 파일 경로 찾기\n",
    "    image_paths.extend(glob.glob(directory_path + '/*.jpeg'))  # 디렉토리 내의 모든 jpeg 파일 경로 추가\n",
    "    image_paths = glob.glob(directory_path + '/*.JPG')  # 디렉토리 내의 모든 JPG 파일 경로 찾기\n",
    "\n",
    "    images = []\n",
    "    i = 0\n",
    "    for image_path in image_paths:\n",
    "        if i == 100:\n",
    "            break\n",
    "        image = Image.open(image_path)\n",
    "        image_np = np.array(image)\n",
    "        images.append(image_np)\n",
    "        i += 1\n",
    "\n",
    "    return images"
   ]
  },
  {
   "cell_type": "code",
   "execution_count": 3,
   "metadata": {
    "colab": {
     "base_uri": "https://localhost:8080/"
    },
    "executionInfo": {
     "elapsed": 4617,
     "status": "ok",
     "timestamp": 1690361115986,
     "user": {
      "displayName": "장수빈",
      "userId": "11804786027693854134"
     },
     "user_tz": -540
    },
    "id": "QHhobsDKHSlU",
    "outputId": "baf0e3ac-e044-4fba-df8e-25c472a8437e"
   },
   "outputs": [
    {
     "name": "stdout",
     "output_type": "stream",
     "text": [
      "100\n",
      "100\n",
      "200\n"
     ]
    },
    {
     "name": "stderr",
     "output_type": "stream",
     "text": [
      "<__array_function__ internals>:5: VisibleDeprecationWarning: Creating an ndarray from ragged nested sequences (which is a list-or-tuple of lists-or-tuples-or ndarrays with different lengths or shapes) is deprecated. If you meant to do this, you must specify 'dtype=object' when creating the ndarray.\n"
     ]
    }
   ],
   "source": [
    "# 모든 이미지 불러오기\n",
    "directory_path = \"/aiffel//aiffel/project/first-repository/data/four_seasons/train_warm_1\"  # 디렉토리 경로\n",
    "directory_path2 = \"/aiffel/aiffel/project/first-repository/data/four_seasons/train_cool_1/cool_1\"  # 디렉토리 경로\n",
    "images = load_images_from_directory(directory_path)\n",
    "images2 = load_images_from_directory(directory_path2)\n",
    "\n",
    "length = len(images)\n",
    "print(length)\n",
    "print(len(images2))\n",
    "\n",
    "# 이미지 리스트 합치기\n",
    "images = np.concatenate((images, images2), axis=0)\n",
    "print(len(images))"
   ]
  },
  {
   "cell_type": "markdown",
   "metadata": {
    "id": "JuqZO6xjLPEW"
   },
   "source": [
    "## (2) 데이터 전처리"
   ]
  },
  {
   "cell_type": "code",
   "execution_count": 4,
   "metadata": {
    "colab": {
     "base_uri": "https://localhost:8080/"
    },
    "executionInfo": {
     "elapsed": 23,
     "status": "ok",
     "timestamp": 1690361115987,
     "user": {
      "displayName": "장수빈",
      "userId": "11804786027693854134"
     },
     "user_tz": -540
    },
    "id": "nduCOt1YHSoj",
    "outputId": "b9c21304-a6c6-4641-f3da-3cdc44046328"
   },
   "outputs": [
    {
     "name": "stdout",
     "output_type": "stream",
     "text": [
      "(200, 224, 224, 3)\n"
     ]
    }
   ],
   "source": [
    "def preprocess_image(image):\n",
    "    # 이미지 크기 조절\n",
    "    image = tf.image.resize(image, (224, 224))\n",
    "    # 이미지를 [0, 1] 범위로 정규화\n",
    "    image = image / 255.0\n",
    "    return image\n",
    "\n",
    "images = np.array([preprocess_image(image) for image in images])\n",
    "print(images.shape)"
   ]
  },
  {
   "cell_type": "code",
   "execution_count": 5,
   "metadata": {
    "colab": {
     "base_uri": "https://localhost:8080/"
    },
    "executionInfo": {
     "elapsed": 15,
     "status": "ok",
     "timestamp": 1690361118318,
     "user": {
      "displayName": "장수빈",
      "userId": "11804786027693854134"
     },
     "user_tz": -540
    },
    "id": "N2coAcsEHSrR",
    "outputId": "b8ce40fa-f22a-405f-99ec-5a2d616f2f00"
   },
   "outputs": [
    {
     "name": "stdout",
     "output_type": "stream",
     "text": [
      "200\n",
      "(200,)\n",
      "[0. 0. 0. 0. 0. 0. 0. 0. 0. 0. 0. 0. 0. 0. 0. 0. 0. 0. 0. 0. 0. 0. 0. 0.\n",
      " 0. 0. 0. 0. 0. 0. 0. 0. 0. 0. 0. 0. 0. 0. 0. 0. 0. 0. 0. 0. 0. 0. 0. 0.\n",
      " 0. 0. 0. 0. 0. 0. 0. 0. 0. 0. 0. 0. 0. 0. 0. 0. 0. 0. 0. 0. 0. 0. 0. 0.\n",
      " 0. 0. 0. 0. 0. 0. 0. 0. 0. 0. 0. 0. 0. 0. 0. 0. 0. 0. 0. 0. 0. 0. 0. 0.\n",
      " 0. 0. 0. 0. 1. 1. 1. 1. 1. 1. 1. 1. 1. 1. 1. 1. 1. 1. 1. 1. 1. 1. 1. 1.\n",
      " 1. 1. 1. 1. 1. 1. 1. 1. 1. 1. 1. 1. 1. 1. 1. 1. 1. 1. 1. 1. 1. 1. 1. 1.\n",
      " 1. 1. 1. 1. 1. 1. 1. 1. 1. 1. 1. 1. 1. 1. 1. 1. 1. 1. 1. 1. 1. 1. 1. 1.\n",
      " 1. 1. 1. 1. 1. 1. 1. 1. 1. 1. 1. 1. 1. 1. 1. 1. 1. 1. 1. 1. 1. 1. 1. 1.\n",
      " 1. 1. 1. 1. 1. 1. 1. 1.]\n"
     ]
    }
   ],
   "source": [
    "# labels에 대한 코드\n",
    "num = len(images)\n",
    "labels = np.zeros(num)\n",
    "\n",
    "# 뒤쪽의 50개의 요소를 1로 변경\n",
    "labels[length:] = 1\n",
    "\n",
    "# 0이 웜톤 1이 쿨톤\n",
    "print(len(images))\n",
    "print(labels.shape)\n",
    "print(labels)"
   ]
  },
  {
   "cell_type": "markdown",
   "metadata": {
    "id": "dbzMvdvQLR45"
   },
   "source": [
    "## (3) train, val 분리하기"
   ]
  },
  {
   "cell_type": "code",
   "execution_count": 52,
   "metadata": {
    "colab": {
     "base_uri": "https://localhost:8080/"
    },
    "executionInfo": {
     "elapsed": 55,
     "status": "ok",
     "timestamp": 1690361121698,
     "user": {
      "displayName": "장수빈",
      "userId": "11804786027693854134"
     },
     "user_tz": -540
    },
    "id": "oyOgLqgEIidF",
    "outputId": "18cf4f86-ac22-45b3-de2a-e03edc83a971"
   },
   "outputs": [
    {
     "name": "stdout",
     "output_type": "stream",
     "text": [
      "x_train:  (140, 224, 224, 3)\n",
      "y_train:  (140,)\n",
      "x_val:  (60, 224, 224, 3)\n",
      "y_val:  (60,)\n"
     ]
    }
   ],
   "source": [
    "from sklearn.model_selection import train_test_split\n",
    "\n",
    "x_train, x_val, y_train, y_val = train_test_split(images,\n",
    "                                                  labels,\n",
    "                                                  test_size=0.3,\n",
    "                                                  random_state=316)\n",
    "\n",
    "print(\"x_train: \", x_train.shape)\n",
    "print(\"y_train: \", y_train.shape)\n",
    "print(\"x_val: \", x_val.shape)\n",
    "print(\"y_val: \", y_val.shape)"
   ]
  },
  {
   "cell_type": "code",
   "execution_count": 53,
   "metadata": {
    "executionInfo": {
     "elapsed": 3,
     "status": "ok",
     "timestamp": 1690361122476,
     "user": {
      "displayName": "장수빈",
      "userId": "11804786027693854134"
     },
     "user_tz": -540
    },
    "id": "60cskZPQIif3"
   },
   "outputs": [],
   "source": [
    "# 데이터를 텐서로 변환\n",
    "x_train = tf.convert_to_tensor(x_train, dtype=tf.float32)\n",
    "x_val = tf.convert_to_tensor(x_val, dtype=tf.float32)\n",
    "y_train = tf.convert_to_tensor(y_train, dtype=tf.int32)\n",
    "y_val = tf.convert_to_tensor(y_val, dtype=tf.int32)"
   ]
  },
  {
   "cell_type": "markdown",
   "metadata": {
    "id": "7dzDlNR0LViM"
   },
   "source": [
    "## (4) 모델 정의 및 컴파일"
   ]
  },
  {
   "cell_type": "code",
   "execution_count": 54,
   "metadata": {
    "executionInfo": {
     "elapsed": 4571,
     "status": "ok",
     "timestamp": 1690361256475,
     "user": {
      "displayName": "장수빈",
      "userId": "11804786027693854134"
     },
     "user_tz": -540
    },
    "id": "QK2JsubkIiiP",
    "scrolled": false
   },
   "outputs": [
    {
     "name": "stdout",
     "output_type": "stream",
     "text": [
      "Model: \"model_6\"\n",
      "_________________________________________________________________\n",
      "Layer (type)                 Output Shape              Param #   \n",
      "=================================================================\n",
      "input (InputLayer)           [(None, 224, 224, 3)]     0         \n",
      "_________________________________________________________________\n",
      "conv2d_78 (Conv2D)           (None, 224, 224, 64)      1792      \n",
      "_________________________________________________________________\n",
      "conv2d_79 (Conv2D)           (None, 224, 224, 64)      36928     \n",
      "_________________________________________________________________\n",
      "max_pooling2d_30 (MaxPooling (None, 112, 112, 64)      0         \n",
      "_________________________________________________________________\n",
      "conv2d_80 (Conv2D)           (None, 112, 112, 128)     73856     \n",
      "_________________________________________________________________\n",
      "conv2d_81 (Conv2D)           (None, 112, 112, 128)     147584    \n",
      "_________________________________________________________________\n",
      "max_pooling2d_31 (MaxPooling (None, 56, 56, 128)       0         \n",
      "_________________________________________________________________\n",
      "conv2d_82 (Conv2D)           (None, 56, 56, 256)       295168    \n",
      "_________________________________________________________________\n",
      "conv2d_83 (Conv2D)           (None, 56, 56, 256)       590080    \n",
      "_________________________________________________________________\n",
      "conv2d_84 (Conv2D)           (None, 56, 56, 256)       590080    \n",
      "_________________________________________________________________\n",
      "max_pooling2d_32 (MaxPooling (None, 28, 28, 256)       0         \n",
      "_________________________________________________________________\n",
      "conv2d_85 (Conv2D)           (None, 28, 28, 512)       1180160   \n",
      "_________________________________________________________________\n",
      "conv2d_86 (Conv2D)           (None, 28, 28, 512)       2359808   \n",
      "_________________________________________________________________\n",
      "conv2d_87 (Conv2D)           (None, 28, 28, 512)       2359808   \n",
      "_________________________________________________________________\n",
      "max_pooling2d_33 (MaxPooling (None, 14, 14, 512)       0         \n",
      "_________________________________________________________________\n",
      "conv2d_88 (Conv2D)           (None, 14, 14, 512)       2359808   \n",
      "_________________________________________________________________\n",
      "conv2d_89 (Conv2D)           (None, 14, 14, 512)       2359808   \n",
      "_________________________________________________________________\n",
      "conv2d_90 (Conv2D)           (None, 14, 14, 512)       2359808   \n",
      "_________________________________________________________________\n",
      "max_pooling2d_34 (MaxPooling (None, 7, 7, 512)         0         \n",
      "_________________________________________________________________\n",
      "flatten_6 (Flatten)          (None, 25088)             0         \n",
      "_________________________________________________________________\n",
      "dense_30 (Dense)             (None, 1024)              25691136  \n",
      "_________________________________________________________________\n",
      "dense_31 (Dense)             (None, 512)               524800    \n",
      "_________________________________________________________________\n",
      "dense_32 (Dense)             (None, 64)                32832     \n",
      "_________________________________________________________________\n",
      "dense_33 (Dense)             (None, 32)                2080      \n",
      "_________________________________________________________________\n",
      "dense_34 (Dense)             (None, 2)                 66        \n",
      "=================================================================\n",
      "Total params: 40,965,602\n",
      "Trainable params: 40,965,602\n",
      "Non-trainable params: 0\n",
      "_________________________________________________________________\n"
     ]
    }
   ],
   "source": [
    "from keras.models import Model\n",
    "from keras import Input\n",
    "from keras import optimizers, initializers, regularizers, metrics\n",
    "\n",
    "dim1 = 32\n",
    "dim2 = 64\n",
    "\n",
    "input_tensor = Input(shape=(224, 224, 3), dtype='float32', name='input')\n",
    " \n",
    "x = layers.Conv2D(64, (3, 3), activation='relu', padding='same', kernel_initializer='he_normal', kernel_regularizer=regularizers.l2(0.01))(input_tensor)\n",
    "x = layers.Conv2D(64, (3, 3), activation='relu', padding='same', kernel_initializer='he_normal', kernel_regularizer=regularizers.l2(0.01))(x)\n",
    "x = layers.MaxPooling2D((2,2))(x)\n",
    " \n",
    "x = layers.Conv2D(128, (3, 3), activation='relu', padding='same', kernel_initializer='he_normal', kernel_regularizer=regularizers.l2(0.01))(x)\n",
    "x = layers.Conv2D(128, (3, 3), activation='relu', padding='same', kernel_initializer='he_normal', kernel_regularizer=regularizers.l2(0.01))(x)\n",
    "x = layers.MaxPooling2D((2,2))(x)\n",
    " \n",
    "x = layers.Conv2D(256, (3, 3), activation='relu', padding='same', kernel_initializer='he_normal', kernel_regularizer=regularizers.l2(0.01))(x)\n",
    "x = layers.Conv2D(256, (3, 3), activation='relu', padding='same', kernel_initializer='he_normal', kernel_regularizer=regularizers.l2(0.01))(x)\n",
    "x = layers.Conv2D(256, (3, 3), activation='relu', padding='same', kernel_initializer='he_normal', kernel_regularizer=regularizers.l2(0.01))(x)\n",
    "x = layers.MaxPooling2D((2,2))(x)\n",
    " \n",
    "x = layers.Conv2D(512, (3, 3), activation='relu', padding='same', kernel_initializer='he_normal', kernel_regularizer=regularizers.l2(0.01))(x)\n",
    "x = layers.Conv2D(512, (3, 3), activation='relu', padding='same', kernel_initializer='he_normal', kernel_regularizer=regularizers.l2(0.01))(x)\n",
    "x = layers.Conv2D(512, (3, 3), activation='relu', padding='same', kernel_initializer='he_normal', kernel_regularizer=regularizers.l2(0.01))(x)\n",
    "x = layers.MaxPooling2D((2,2))(x)\n",
    " \n",
    "x = layers.Conv2D(512, (3, 3), activation='relu', padding='same', kernel_initializer='he_normal', kernel_regularizer=regularizers.l2(0.01))(x)\n",
    "x = layers.Conv2D(512, (3, 3), activation='relu', padding='same', kernel_initializer='he_normal', kernel_regularizer=regularizers.l2(0.01))(x)\n",
    "x = layers.Conv2D(512, (3, 3), activation='relu', padding='same', kernel_initializer='he_normal', kernel_regularizer=regularizers.l2(0.01))(x)\n",
    "x = layers.MaxPooling2D((2,2))(x)\n",
    " \n",
    "x = layers.Flatten()(x)\n",
    "x = layers.Dense(1024, kernel_initializer='he_normal')(x)\n",
    "x = layers.Dense(512, kernel_initializer='he_normal')(x)\n",
    "x = layers.Dense(64, kernel_initializer='he_normal')(x)\n",
    "x = layers.Dense(32, kernel_initializer='he_normal')(x)\n",
    "output_tensor = layers.Dense(2, activation='softmax')(x)\n",
    " \n",
    "model = Model(input_tensor, output_tensor)\n",
    "model.summary()"
   ]
  },
  {
   "cell_type": "code",
   "execution_count": 55,
   "metadata": {
    "executionInfo": {
     "elapsed": 16,
     "status": "ok",
     "timestamp": 1690361256476,
     "user": {
      "displayName": "장수빈",
      "userId": "11804786027693854134"
     },
     "user_tz": -540
    },
    "id": "7TeFqbJ-Iiky"
   },
   "outputs": [],
   "source": [
    "from keras.callbacks import ReduceLROnPlateau\n",
    "\n",
    "# 콜백 생성\n",
    "reduce_lr = ReduceLROnPlateau(monitor='val_loss', factor=0.1, patience=3, min_lr=0.0000001)\n",
    "\n",
    "# 모델 컴파일\n",
    "model.compile(optimizer='adam',\n",
    "              loss='sparse_categorical_crossentropy', #categorical_crossentropy , sparse_categorical_crossentropy\n",
    "              metrics=['accuracy'])"
   ]
  },
  {
   "cell_type": "markdown",
   "metadata": {
    "id": "cgKOImX7LZSh"
   },
   "source": [
    "## (5) 모델 학습하기"
   ]
  },
  {
   "cell_type": "code",
   "execution_count": 56,
   "metadata": {
    "colab": {
     "base_uri": "https://localhost:8080/"
    },
    "executionInfo": {
     "elapsed": 423314,
     "status": "ok",
     "timestamp": 1690361687293,
     "user": {
      "displayName": "장수빈",
      "userId": "11804786027693854134"
     },
     "user_tz": -540
    },
    "id": "PJRmMrcwASla",
    "outputId": "a8cb0384-ec19-4008-d07d-aeefd60ffed6"
   },
   "outputs": [
    {
     "name": "stdout",
     "output_type": "stream",
     "text": [
      "Epoch 1/10\n",
      "9/9 [==============================] - 4s 274ms/step - loss: 3948.4365 - accuracy: 0.4857 - val_loss: 76.0497 - val_accuracy: 0.5500\n",
      "Epoch 2/10\n",
      "9/9 [==============================] - 2s 240ms/step - loss: 73.2245 - accuracy: 0.5357 - val_loss: 69.6962 - val_accuracy: 0.4500\n",
      "Epoch 3/10\n",
      "9/9 [==============================] - 2s 239ms/step - loss: 67.4456 - accuracy: 0.6071 - val_loss: 64.7619 - val_accuracy: 0.5500\n",
      "Epoch 4/10\n",
      "9/9 [==============================] - 2s 243ms/step - loss: 63.0677 - accuracy: 0.4643 - val_loss: 61.0144 - val_accuracy: 0.4500\n",
      "Epoch 5/10\n",
      "9/9 [==============================] - 2s 243ms/step - loss: 59.6875 - accuracy: 0.5214 - val_loss: 58.0934 - val_accuracy: 0.4500\n",
      "Epoch 6/10\n",
      "9/9 [==============================] - 2s 237ms/step - loss: 57.0359 - accuracy: 0.5214 - val_loss: 55.7560 - val_accuracy: 0.4500\n",
      "Epoch 7/10\n",
      "9/9 [==============================] - 2s 233ms/step - loss: 54.8863 - accuracy: 0.5214 - val_loss: 53.8174 - val_accuracy: 0.4500\n",
      "Epoch 8/10\n",
      "9/9 [==============================] - 2s 232ms/step - loss: 53.0864 - accuracy: 0.5214 - val_loss: 52.1765 - val_accuracy: 0.4500\n",
      "Epoch 9/10\n",
      "9/9 [==============================] - 2s 244ms/step - loss: 51.5353 - accuracy: 0.5214 - val_loss: 50.7404 - val_accuracy: 0.4500\n",
      "Epoch 10/10\n",
      "9/9 [==============================] - 2s 243ms/step - loss: 50.1845 - accuracy: 0.4214 - val_loss: 49.4770 - val_accuracy: 0.4500\n"
     ]
    }
   ],
   "source": [
    "history = model.fit(x_train, y_train,\n",
    "                    batch_size=16,\n",
    "                    epochs=10,\n",
    "                    validation_data=(x_val, y_val), \n",
    "                    callbacks=[reduce_lr])"
   ]
  },
  {
   "cell_type": "markdown",
   "metadata": {
    "id": "eMj_vDU5LgcK"
   },
   "source": [
    "## (6) 예측하기"
   ]
  },
  {
   "cell_type": "code",
   "execution_count": 57,
   "metadata": {
    "colab": {
     "base_uri": "https://localhost:8080/"
    },
    "executionInfo": {
     "elapsed": 20168,
     "status": "ok",
     "timestamp": 1690361718870,
     "user": {
      "displayName": "장수빈",
      "userId": "11804786027693854134"
     },
     "user_tz": -540
    },
    "id": "WUB92j00ATI6",
    "outputId": "03de6b37-0106-4470-f848-af73a7869137"
   },
   "outputs": [],
   "source": [
    "pred = model.predict(x_val)\n",
    "pred_class = np.argmax(pred, axis=1)\n",
    "y_val = np.array(y_val)"
   ]
  },
  {
   "cell_type": "code",
   "execution_count": 58,
   "metadata": {
    "colab": {
     "base_uri": "https://localhost:8080/"
    },
    "executionInfo": {
     "elapsed": 32,
     "status": "ok",
     "timestamp": 1690361718871,
     "user": {
      "displayName": "장수빈",
      "userId": "11804786027693854134"
     },
     "user_tz": -540
    },
    "id": "Wtr35C-CATKt",
    "outputId": "8dd8d144-26b0-4f7c-b53a-bd76f51974c7"
   },
   "outputs": [
    {
     "name": "stdout",
     "output_type": "stream",
     "text": [
      "[1 1 1 1 1 1 1 1 1 1 1 1 1 1 1 1 1 1 1 1 1 1 1 1 1 1 1 1 1 1 1 1 1 1 1 1 1\n",
      " 1 1 1 1 1 1 1 1 1 1 1 1 1 1 1 1 1 1 1 1 1 1 1]\n",
      "[0 1 0 1 1 0 0 1 0 1 0 1 1 1 1 0 1 0 1 1 0 0 1 0 0 0 1 0 0 0 0 0 0 1 1 0 0\n",
      " 0 0 1 0 1 0 0 1 0 0 1 1 0 0 0 1 1 0 1 1 1 0 1]\n"
     ]
    }
   ],
   "source": [
    "print(pred_class)\n",
    "print(y_val)"
   ]
  },
  {
   "cell_type": "code",
   "execution_count": 59,
   "metadata": {
    "colab": {
     "base_uri": "https://localhost:8080/"
    },
    "executionInfo": {
     "elapsed": 30,
     "status": "ok",
     "timestamp": 1690361718872,
     "user": {
      "displayName": "장수빈",
      "userId": "11804786027693854134"
     },
     "user_tz": -540
    },
    "id": "1Ui06FtGATM_",
    "outputId": "a5dfb3ad-2402-415d-bc4e-9411a0a7afbc"
   },
   "outputs": [
    {
     "name": "stdout",
     "output_type": "stream",
     "text": [
      "accuracy: 0.450000\n"
     ]
    }
   ],
   "source": [
    "acc = np.mean(pred_class == y_val)\n",
    "print('accuracy: %f' % (acc,))"
   ]
  },
  {
   "cell_type": "markdown",
   "metadata": {},
   "source": [
    "- 아키텍처를 간소화시키고 learning_rate를 조절하니 값이 다양하게 나오고 정확도가 0.3 -> 0.6까지 올랐다  \n",
    "- 유명인 100장 시도  \n",
    "1차 시도: 0.63(77)  \n",
    "2차 시도: 40(99)  \n",
    "3차 시도: 0.37(33)  \n",
    "4차 시도: 0.53(316)  \n",
    "- 데이터를 바꾸니까 0.6 -> 0.9까지 올랐다  \n",
    "- 알반인 200장 시도  \n",
    "1차 시도: 0.92(316)  \n",
    "2차 시도: 0.65(99)  \n",
    "3차 시도: 0.82(1004)  \n",
    "4차 시도: 0.75(42)  \n",
    "- 다시 VGG16의 본래 아키텍처로 다시 시도 (learning rate는 그대로 1e-6)  \n",
    "1차 시도: 0.52(42)  \n",
    "2차 시도: 0.35(55)  \n",
    "3차 시도: 0.47(1004)  \n",
    "4차 시도: 0.45(316)  \n",
    " -> 다시 기울기를 잃는 모습을 확인할 수 있다 그러므로 깊이를 축소시키는게 답이었다  "
   ]
  },
  {
   "cell_type": "markdown",
   "metadata": {
    "id": "z-sJuwJKLjJ4"
   },
   "source": [
    "## (7) TEST"
   ]
  },
  {
   "cell_type": "code",
   "execution_count": 18,
   "metadata": {
    "executionInfo": {
     "elapsed": 7,
     "status": "ok",
     "timestamp": 1690361728334,
     "user": {
      "displayName": "장수빈",
      "userId": "11804786027693854134"
     },
     "user_tz": -540
    },
    "id": "8cNAWpvBATPM"
   },
   "outputs": [],
   "source": [
    "class_name = [\"웜톤\", \"쿨톤\"]"
   ]
  },
  {
   "cell_type": "code",
   "execution_count": 23,
   "metadata": {
    "colab": {
     "base_uri": "https://localhost:8080/"
    },
    "executionInfo": {
     "elapsed": 1361,
     "status": "ok",
     "timestamp": 1690361729690,
     "user": {
      "displayName": "장수빈",
      "userId": "11804786027693854134"
     },
     "user_tz": -540
    },
    "id": "lG_fD_tAATRn",
    "outputId": "330b5d35-d89e-409b-e816-bab63c4a5480"
   },
   "outputs": [
    {
     "name": "stdout",
     "output_type": "stream",
     "text": [
      "(275, 183, 3)\n",
      "변환된 배열 크기: (1, 275, 183, 3)\n",
      "(1, 224, 224, 3)\n",
      "당신은 쿨톤 입니다~!\n",
      "웜톤일 확률:  [0.488]\n",
      "쿨톤일 확률:  [0.512]\n"
     ]
    }
   ],
   "source": [
    "# test 불러오기 (낱개 버전)\n",
    "test_path = \"/aiffel/aiffel/project/first-repository/data/four_seasons/TEST/박은빈.jpg\"\n",
    "x_test = Image.open(test_path)\n",
    "x_test = np.array(x_test)\n",
    "print(x_test.shape)\n",
    "\n",
    "# 배열의 크기 변환\n",
    "x_test = x_test.reshape((1, x_test.shape[0], x_test.shape[1], 3))\n",
    "print(\"변환된 배열 크기:\", x_test.shape)\n",
    "\n",
    "# 전처리(resize, 정규화)\n",
    "x_test = preprocess_image(x_test)\n",
    "print(x_test.shape)\n",
    "\n",
    "# 만약 앱구현과 연결된다면 저장된 모델을 다시 돌릴 필요없이 저장된 최적의 모델을 사용하도록 수정해야함\n",
    "# test\n",
    "pred = model.predict(x_test)\n",
    "pred_class = np.argmax(pred, axis=1)\n",
    "print(\"당신은\", class_name[int(pred_class)], \"입니다~!\")\n",
    "print(\"웜톤일 확률: \", np.round(pred[:, 0], 3))\n",
    "print(\"쿨톤일 확률: \", np.round(pred[:, 1], 3))"
   ]
  },
  {
   "cell_type": "code",
   "execution_count": 159,
   "metadata": {
    "id": "a4hWOcheATT1"
   },
   "outputs": [],
   "source": [
    "# 박은빈 쿨톤, 강혜원 웜톤 맞춤!!"
   ]
  }
 ],
 "metadata": {
  "colab": {
   "authorship_tag": "ABX9TyNwglgcePeCxDirb6VuAD1F",
   "collapsed_sections": [
    "ZwsAoPOlKD1W",
    "ETU0Hu45KHYb"
   ],
   "provenance": []
  },
  "kernelspec": {
   "display_name": "Python 3 (ipykernel)",
   "language": "python",
   "name": "python3"
  },
  "language_info": {
   "codemirror_mode": {
    "name": "ipython",
    "version": 3
   },
   "file_extension": ".py",
   "mimetype": "text/x-python",
   "name": "python",
   "nbconvert_exporter": "python",
   "pygments_lexer": "ipython3",
   "version": "3.9.7"
  }
 },
 "nbformat": 4,
 "nbformat_minor": 1
}
