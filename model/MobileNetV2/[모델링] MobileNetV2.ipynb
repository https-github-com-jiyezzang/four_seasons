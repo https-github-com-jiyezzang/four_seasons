{
 "cells": [
  {
   "cell_type": "markdown",
   "id": "34930515",
   "metadata": {},
   "source": [
    "# MobileNetV2"
   ]
  },
  {
   "cell_type": "code",
   "execution_count": 1,
   "id": "96b0fbfa",
   "metadata": {},
   "outputs": [
    {
     "name": "stdout",
     "output_type": "stream",
     "text": [
      "PIL 라이브러리 import 완료!\n"
     ]
    }
   ],
   "source": [
    "from PIL import Image\n",
    "import numpy as np\n",
    "import glob\n",
    "import os\n",
    "\n",
    "print(\"PIL 라이브러리 import 완료!\")"
   ]
  },
  {
   "cell_type": "markdown",
   "id": "25cd306a",
   "metadata": {},
   "source": [
    "# case 1\n",
    "warm_1(05번) 490장 + cool_1 186장 \"총 676장\"        \n",
    "6:4 random state = 42       \n",
    "dense layer 1, sigmoid, binary_crossentropy   \n",
    "데이터 증강 0, epochs = 30, batch_size=32    "
   ]
  },
  {
   "cell_type": "markdown",
   "id": "a02817b4",
   "metadata": {},
   "source": [
    "## 데이터 불러오고, 웜톤 0, 쿨톤 1로 레이블링"
   ]
  },
  {
   "cell_type": "code",
   "execution_count": 103,
   "id": "266652f8",
   "metadata": {},
   "outputs": [
    {
     "name": "stdout",
     "output_type": "stream",
     "text": [
      "학습데이터(x_train)의 이미지 개수는 676 입니다.\n",
      "x_train shape: (676, 224, 224, 3)\n",
      "y_train shape: (676,)\n"
     ]
    }
   ],
   "source": [
    "def load_data(img_path, number_of_data=676):  # 웜톤 490 + 쿨톤 186\n",
    "    # 웜톤 : 0, 쿨톤 : 1\n",
    "    img_size=224\n",
    "    color=3\n",
    "    #이미지 데이터와 라벨(웜톤 : 0, 쿨톤 : 1) 데이터를 담을 행렬(matrix) 영역을 생성합니다.\n",
    "    imgs=np.zeros(number_of_data*img_size*img_size*color,dtype=np.int32).reshape(number_of_data,img_size,img_size,color)\n",
    "    labels=np.zeros(number_of_data,dtype=np.int32)\n",
    "\n",
    "    idx=0\n",
    "    warm_files = list(glob.iglob(img_path + '/warm_1/*.jpg')) + list(glob.iglob(img_path + '/warm_1/*.JPG'))\n",
    "    for file in warm_files:\n",
    "        img = np.array(Image.open(file),dtype=np.int32)\n",
    "        imgs[idx,:,:,:]=img    # 데이터 영역에 이미지 행렬을 복사\n",
    "        labels[idx]=0   # 웜톤 : 0\n",
    "        idx=idx+1\n",
    "\n",
    "    cool_files = list(glob.iglob(img_path + '/cool_1/*.jpg')) + list(glob.iglob(img_path + '/cool_1/*.JPG'))\n",
    "    for file in cool_files:\n",
    "        img = np.array(Image.open(file),dtype=np.int32)\n",
    "        imgs[idx,:,:,:]=img    # 데이터 영역에 이미지 행렬을 복사\n",
    "        labels[idx]=1   # 쿨톤 : 1\n",
    "        idx=idx+1  \n",
    "    \n",
    "    print(\"학습데이터(x_train)의 이미지 개수는\", idx,\"입니다.\")\n",
    "    return imgs, labels\n",
    "\n",
    "image_dir_path = os.getenv(\"HOME\") + \"/aiffel/aiffelthon\"\n",
    "(x_train, y_train)=load_data(image_dir_path)\n",
    "\n",
    "print(\"x_train shape: {}\".format(x_train.shape))\n",
    "print(\"y_train shape: {}\".format(y_train.shape))"
   ]
  },
  {
   "cell_type": "markdown",
   "id": "067cc663",
   "metadata": {},
   "source": [
    "## train data, validation data 나누기, 정규화"
   ]
  },
  {
   "cell_type": "code",
   "execution_count": 13,
   "id": "b6247877",
   "metadata": {},
   "outputs": [],
   "source": [
    "import tensorflow as tf\n",
    "from tensorflow import keras\n",
    "from sklearn.model_selection import train_test_split"
   ]
  },
  {
   "cell_type": "code",
   "execution_count": 104,
   "id": "efae75ed",
   "metadata": {},
   "outputs": [],
   "source": [
    "# x_train과 y_train을 훈련 세트와 검증 세트로 분할\n",
    "x_train, x_val, y_train, y_val = train_test_split(x_train, y_train, test_size=0.4, random_state=42)"
   ]
  },
  {
   "cell_type": "code",
   "execution_count": 105,
   "id": "872d55b4",
   "metadata": {},
   "outputs": [
    {
     "data": {
      "text/plain": [
       "dtype('int32')"
      ]
     },
     "execution_count": 105,
     "metadata": {},
     "output_type": "execute_result"
    }
   ],
   "source": [
    "x_train.dtype"
   ]
  },
  {
   "cell_type": "code",
   "execution_count": 106,
   "id": "5bbdecd2",
   "metadata": {},
   "outputs": [],
   "source": [
    "x_train = x_train.astype('float32')\n",
    "x_val = x_val.astype('float32')"
   ]
  },
  {
   "cell_type": "code",
   "execution_count": 107,
   "id": "bc2c32aa",
   "metadata": {},
   "outputs": [
    {
     "name": "stdout",
     "output_type": "stream",
     "text": [
      "x_train shape: (405, 224, 224, 3)\n",
      "y_train shape: (405,)\n",
      "x_val shape: (271, 224, 224, 3)\n",
      "y_val shape: (271,)\n"
     ]
    }
   ],
   "source": [
    "print(\"x_train shape: {}\".format(x_train.shape))\n",
    "print(\"y_train shape: {}\".format(y_train.shape))\n",
    "print(\"x_val shape: {}\".format(x_val.shape))\n",
    "print(\"y_val shape: {}\".format(y_val.shape))"
   ]
  },
  {
   "cell_type": "code",
   "execution_count": 88,
   "id": "71c9d441",
   "metadata": {},
   "outputs": [
    {
     "data": {
      "text/plain": [
       "numpy.ndarray"
      ]
     },
     "execution_count": 88,
     "metadata": {},
     "output_type": "execute_result"
    }
   ],
   "source": [
    "type(x_val)"
   ]
  },
  {
   "cell_type": "markdown",
   "id": "f6b5e4c8",
   "metadata": {},
   "source": [
    "## 데이터 증강"
   ]
  },
  {
   "cell_type": "code",
   "execution_count": 108,
   "id": "d1d42446",
   "metadata": {},
   "outputs": [],
   "source": [
    "from tensorflow.keras.preprocessing.image import ImageDataGenerator\n",
    "\n",
    "# 데이터 증강을 위한 ImageDataGenerator 인스턴스 생성\n",
    "datagen = ImageDataGenerator(\n",
    "    rescale=1./255,        # 이미지 픽셀 값을 [0,1] 범위로 스케일링\n",
    "    rotation_range=20,     # 0-20도 범위에서 랜덤하게 이미지를 회전\n",
    "    width_shift_range=0.2, # 이미지를 수평으로 랜덤하게 이동 (전체 너비의 20% 내에서)\n",
    "    height_shift_range=0.2,# 이미지를 수직으로 랜덤하게 이동 (전체 높이의 20% 내에서)\n",
    "    horizontal_flip=True   # 이미지를 랜덤하게 수평으로 뒤집기\n",
    ")\n",
    "\n",
    "# ImageDataGenerator를 학습 데이터에 적용\n",
    "datagen.fit(x_train)"
   ]
  },
  {
   "cell_type": "code",
   "execution_count": null,
   "id": "2e9f0012",
   "metadata": {},
   "outputs": [],
   "source": [
    "# 상하반전 vertical_flip는 false가 디폴트라고 함"
   ]
  },
  {
   "cell_type": "code",
   "execution_count": null,
   "id": "80c6ef8a",
   "metadata": {},
   "outputs": [],
   "source": [
    "# 이렇게 생성된 datagen은 데이터 증강이 적용된 이미지를 배치 단위로 생성할 수 있습니다. \n",
    "# 이를 학습 과정에 사용하려면, fit 메소드 대신 fit_generator 메소드를 사용하고, datagen.flow를 입력으로 제공하면 됩니다:"
   ]
  },
  {
   "cell_type": "code",
   "execution_count": null,
   "id": "0b31ec84",
   "metadata": {},
   "outputs": [],
   "source": [
    "# ImageDataGenerator를 사용하면, 데이터 증강이 적용된 이미지는 자동으로 텐서로 변환됩니다. \n",
    "# ImageDataGenerator의 flow 메소드는 데이터 증강이 적용된 이미지를 배치 단위로 생성하며, 이때 각 배치는 텐서 형태로 반환됩니다. \n",
    "# 따라서, ImageDataGenerator를 사용하여 데이터 증강을 적용한 후에는 별도로 텐서로 변환할 필요가 없습니다.\n",
    "\n",
    "# 또한, ImageDataGenerator의 rescale 매개변수를 사용하여 이미지 픽셀 값을 [0,1] 범위로 스케일링하는 것도 가능합니다. \n",
    "# 이는 모델에 입력되는 데이터의 스케일을 일정하게 유지하여, 모델의 학습을 안정화하는 데 도움이 됩니다.\n",
    "\n",
    "# 따라서, 데이터 증강 후에는 별도로 텐서로 변환하지 않아도 됩니다. \n",
    "# ImageDataGenerator를 사용하면, 데이터 증강과 텐서 변환, 스케일링 등의 전처리 과정이 한 번에 처리됩니다."
   ]
  },
  {
   "cell_type": "markdown",
   "id": "48fb79bf",
   "metadata": {},
   "source": [
    "## MobileNetV2 모델 쌓기"
   ]
  },
  {
   "cell_type": "code",
   "execution_count": 19,
   "id": "2f1e5d7a",
   "metadata": {},
   "outputs": [],
   "source": [
    "from tensorflow.keras.applications import MobileNetV2\n",
    "from tensorflow.keras.models import Sequential\n",
    "from tensorflow.keras.layers import Dense, Flatten\n",
    "from tensorflow.keras.optimizers import Adam"
   ]
  },
  {
   "cell_type": "code",
   "execution_count": 109,
   "id": "78a9e74f",
   "metadata": {},
   "outputs": [],
   "source": [
    "# MobileNetV2 모델 불러오기\n",
    "base_model = MobileNetV2(weights='imagenet', include_top=False, input_shape=(224, 224, 3))\n",
    "\n",
    "# 새로운 모델 생성\n",
    "model = Sequential()\n",
    "model.add(base_model)  # MobileNetV2를 기본 모델로 추가\n",
    "model.add(Flatten())   # 피처를 1D 벡터로 평탄화\n",
    "model.add(Dense(1, activation='sigmoid'))  # 출력 레이어 추가"
   ]
  },
  {
   "cell_type": "code",
   "execution_count": 110,
   "id": "fb07824b",
   "metadata": {},
   "outputs": [
    {
     "name": "stdout",
     "output_type": "stream",
     "text": [
      "Model: \"sequential_6\"\n",
      "_________________________________________________________________\n",
      "Layer (type)                 Output Shape              Param #   \n",
      "=================================================================\n",
      "mobilenetv2_1.00_224 (Functi (None, 7, 7, 1280)        2257984   \n",
      "_________________________________________________________________\n",
      "flatten_6 (Flatten)          (None, 62720)             0         \n",
      "_________________________________________________________________\n",
      "dense_6 (Dense)              (None, 1)                 62721     \n",
      "=================================================================\n",
      "Total params: 2,320,705\n",
      "Trainable params: 2,286,593\n",
      "Non-trainable params: 34,112\n",
      "_________________________________________________________________\n"
     ]
    }
   ],
   "source": [
    "model.summary()"
   ]
  },
  {
   "cell_type": "code",
   "execution_count": 111,
   "id": "5172e899",
   "metadata": {},
   "outputs": [],
   "source": [
    "# 모델 컴파일\n",
    "model.compile(optimizer=Adam(), \n",
    "              loss='binary_crossentropy', \n",
    "              metrics=['accuracy'])\n",
    "\n",
    "\n",
    "# 학습 데이터에 데이터 증강 적용\n",
    "train_generator = datagen.flow(x_train, y_train, batch_size=32)"
   ]
  },
  {
   "cell_type": "code",
   "execution_count": null,
   "id": "ccdc2c1c",
   "metadata": {},
   "outputs": [],
   "source": [
    "# ImageDataGenerator를 사용하면, 각 에포크마다 원본 학습 데이터에 새로운 데이터 증강이 적용됩니다. \n",
    "# 그러나 이는 원본 데이터를 변형하여 새로운 데이터를 생성하는 것이지, 원본 데이터의 총량을 증가시키는 것은 아닙니다.\n",
    "\n",
    "# 즉, 한 에포크 동안 학습에 사용되는 데이터의 총량은 여전히 len(x_train)입니다. \n",
    "# 다만, 각 에포크마다 데이터 증강을 통해 생성된 데이터가 다르므로, 모델은 매 에포크마다 다양한 형태의 데이터를 보게 됩니다.\n",
    "\n",
    "# 따라서, 데이터 증강이 적용되더라도 한 에포크마다 학습에 사용되는 데이터의 총량은 변하지 않습니다. \n",
    "# 다만, 각 에포크마다 학습에 사용되는 데이터의 형태는 다르게 됩니다."
   ]
  },
  {
   "cell_type": "code",
   "execution_count": 112,
   "id": "7264e720",
   "metadata": {},
   "outputs": [
    {
     "name": "stdout",
     "output_type": "stream",
     "text": [
      "Epoch 1/30\n",
      "13/13 [==============================] - 10s 413ms/step - loss: 1.2794 - accuracy: 0.7753 - val_loss: 4.6892 - val_accuracy: 0.7491\n",
      "Epoch 2/30\n",
      "13/13 [==============================] - 5s 338ms/step - loss: 0.4218 - accuracy: 0.8444 - val_loss: 13.7493 - val_accuracy: 0.7491\n",
      "Epoch 3/30\n",
      "13/13 [==============================] - 5s 336ms/step - loss: 0.2243 - accuracy: 0.9086 - val_loss: 16.2348 - val_accuracy: 0.7491\n",
      "Epoch 4/30\n",
      "13/13 [==============================] - 4s 329ms/step - loss: 0.1879 - accuracy: 0.9210 - val_loss: 17.2272 - val_accuracy: 0.7491\n",
      "Epoch 5/30\n",
      "13/13 [==============================] - 5s 337ms/step - loss: 0.1653 - accuracy: 0.9457 - val_loss: 14.6541 - val_accuracy: 0.7491\n",
      "Epoch 6/30\n",
      "13/13 [==============================] - 5s 342ms/step - loss: 0.1102 - accuracy: 0.9506 - val_loss: 15.1257 - val_accuracy: 0.7491\n",
      "Epoch 7/30\n",
      "13/13 [==============================] - 5s 356ms/step - loss: 0.0836 - accuracy: 0.9605 - val_loss: 17.5663 - val_accuracy: 0.7491\n",
      "Epoch 8/30\n",
      "13/13 [==============================] - 5s 332ms/step - loss: 0.0787 - accuracy: 0.9704 - val_loss: 15.5113 - val_accuracy: 0.7491\n",
      "Epoch 9/30\n",
      "13/13 [==============================] - 5s 344ms/step - loss: 0.0670 - accuracy: 0.9827 - val_loss: 15.6372 - val_accuracy: 0.7491\n",
      "Epoch 10/30\n",
      "13/13 [==============================] - 4s 332ms/step - loss: 0.0528 - accuracy: 0.9778 - val_loss: 18.4044 - val_accuracy: 0.7491\n",
      "Epoch 11/30\n",
      "13/13 [==============================] - 5s 336ms/step - loss: 0.0767 - accuracy: 0.9778 - val_loss: 17.9885 - val_accuracy: 0.7491\n",
      "Epoch 12/30\n",
      "13/13 [==============================] - 5s 332ms/step - loss: 0.1714 - accuracy: 0.9383 - val_loss: 20.4679 - val_accuracy: 0.7491\n",
      "Epoch 13/30\n",
      "13/13 [==============================] - 5s 341ms/step - loss: 0.0758 - accuracy: 0.9704 - val_loss: 12.4142 - val_accuracy: 0.7491\n",
      "Epoch 14/30\n",
      "13/13 [==============================] - 5s 334ms/step - loss: 0.1365 - accuracy: 0.9580 - val_loss: 15.0284 - val_accuracy: 0.7491\n",
      "Epoch 15/30\n",
      "13/13 [==============================] - 4s 329ms/step - loss: 0.1018 - accuracy: 0.9654 - val_loss: 12.5353 - val_accuracy: 0.7491\n",
      "Epoch 16/30\n",
      "13/13 [==============================] - 5s 339ms/step - loss: 0.1225 - accuracy: 0.9556 - val_loss: 11.6617 - val_accuracy: 0.7491\n",
      "Epoch 17/30\n",
      "13/13 [==============================] - 5s 333ms/step - loss: 0.1327 - accuracy: 0.9605 - val_loss: 13.0538 - val_accuracy: 0.7491\n",
      "Epoch 18/30\n",
      "13/13 [==============================] - 5s 333ms/step - loss: 0.1113 - accuracy: 0.9556 - val_loss: 13.5737 - val_accuracy: 0.7491\n",
      "Epoch 19/30\n",
      "13/13 [==============================] - 5s 339ms/step - loss: 0.0462 - accuracy: 0.9802 - val_loss: 14.1412 - val_accuracy: 0.7491\n",
      "Epoch 20/30\n",
      "13/13 [==============================] - 5s 333ms/step - loss: 0.0451 - accuracy: 0.9827 - val_loss: 12.1529 - val_accuracy: 0.7491\n",
      "Epoch 21/30\n",
      "13/13 [==============================] - 5s 347ms/step - loss: 0.1626 - accuracy: 0.9136 - val_loss: 2.8784 - val_accuracy: 0.7565\n",
      "Epoch 22/30\n",
      "13/13 [==============================] - 5s 335ms/step - loss: 0.1177 - accuracy: 0.9580 - val_loss: 3.8808 - val_accuracy: 0.7528\n",
      "Epoch 23/30\n",
      "13/13 [==============================] - 5s 340ms/step - loss: 0.0376 - accuracy: 0.9951 - val_loss: 4.6712 - val_accuracy: 0.7491\n",
      "Epoch 24/30\n",
      "13/13 [==============================] - 5s 338ms/step - loss: 0.0499 - accuracy: 0.9778 - val_loss: 4.3821 - val_accuracy: 0.7491\n",
      "Epoch 25/30\n",
      "13/13 [==============================] - 5s 337ms/step - loss: 0.0641 - accuracy: 0.9728 - val_loss: 2.3684 - val_accuracy: 0.7675\n",
      "Epoch 26/30\n",
      "13/13 [==============================] - 4s 329ms/step - loss: 0.0678 - accuracy: 0.9778 - val_loss: 1.1255 - val_accuracy: 0.8007\n",
      "Epoch 27/30\n",
      "13/13 [==============================] - 5s 338ms/step - loss: 0.0652 - accuracy: 0.9679 - val_loss: 2.4584 - val_accuracy: 0.7528\n",
      "Epoch 28/30\n",
      "13/13 [==============================] - 5s 348ms/step - loss: 0.0329 - accuracy: 0.9926 - val_loss: 3.7033 - val_accuracy: 0.7491\n",
      "Epoch 29/30\n",
      "13/13 [==============================] - 5s 333ms/step - loss: 0.0182 - accuracy: 0.9951 - val_loss: 2.8521 - val_accuracy: 0.7565\n",
      "Epoch 30/30\n",
      "13/13 [==============================] - 4s 326ms/step - loss: 0.0285 - accuracy: 0.9901 - val_loss: 1.0410 - val_accuracy: 0.8081\n"
     ]
    }
   ],
   "source": [
    "hist = model.fit(train_generator, epochs=30, validation_data=(x_val, y_val))"
   ]
  },
  {
   "cell_type": "markdown",
   "id": "67839656",
   "metadata": {},
   "source": [
    "## loss, accuracy 시각화"
   ]
  },
  {
   "cell_type": "code",
   "execution_count": 113,
   "id": "bb47af5b",
   "metadata": {},
   "outputs": [
    {
     "data": {
      "text/plain": [
       "dict_keys(['loss', 'accuracy', 'val_loss', 'val_accuracy'])"
      ]
     },
     "execution_count": 113,
     "metadata": {},
     "output_type": "execute_result"
    }
   ],
   "source": [
    "hist.history.keys()"
   ]
  },
  {
   "cell_type": "code",
   "execution_count": 114,
   "id": "825495c2",
   "metadata": {},
   "outputs": [
    {
     "data": {
      "text/plain": [
       "<matplotlib.legend.Legend at 0x7f7bec038d90>"
      ]
     },
     "execution_count": 114,
     "metadata": {},
     "output_type": "execute_result"
    },
    {
     "data": {
      "image/png": "[encoded data removed]",
      "text/plain": [
       "<Figure size 864x360 with 2 Axes>"
      ]
     },
     "metadata": {
      "needs_background": "light"
     },
     "output_type": "display_data"
    }
   ],
   "source": [
    "history_dict = hist.history\n",
    "\n",
    "loss = history_dict['loss']\n",
    "val_loss = history_dict['val_loss']\n",
    "\n",
    "epochs = range(1, len(loss) + 1)\n",
    "fig = plt.figure(figsize=(12, 5))\n",
    "\n",
    "ax1 = fig.add_subplot(1, 2, 1)\n",
    "ax1.plot(epochs, loss, color='blue', label='train_loss')\n",
    "ax1.plot(epochs, val_loss, color='red', label='val_loss')\n",
    "ax1.set_title('Train and Validation Loss')\n",
    "ax1.set_xlabel('Epochs')\n",
    "ax1.set_ylabel('Loss')\n",
    "ax1.grid()\n",
    "ax1.legend()\n",
    "\n",
    "accuracy = history_dict['accuracy']\n",
    "val_accuracy = history_dict['val_accuracy']\n",
    "\n",
    "ax2 = fig.add_subplot(1, 2, 2)\n",
    "ax2.plot(epochs, accuracy, color='blue', label='train_accuracy')\n",
    "ax2.plot(epochs, val_accuracy, color='red', label='val_accuracy')\n",
    "ax2.set_title('Train and Validation Accuracy')\n",
    "ax2.set_xlabel('Epochs')\n",
    "ax2.set_ylabel('Accuracy')\n",
    "ax2.grid()\n",
    "ax2.legend()"
   ]
  },
  {
   "cell_type": "markdown",
   "id": "10854e73",
   "metadata": {},
   "source": [
    "### 그래프를 봐서는.. epochs을 조금 더 늘려봐야 하나?"
   ]
  },
  {
   "cell_type": "markdown",
   "id": "94d56fa1",
   "metadata": {},
   "source": [
    "## confusion_matrix 출력"
   ]
  },
  {
   "cell_type": "code",
   "execution_count": 115,
   "id": "a6ab4c8b",
   "metadata": {},
   "outputs": [
    {
     "data": {
      "image/png": "[encoded data removed]",
      "text/plain": [
       "<Figure size 360x360 with 2 Axes>"
      ]
     },
     "metadata": {
      "needs_background": "light"
     },
     "output_type": "display_data"
    }
   ],
   "source": [
    "from sklearn.metrics import confusion_matrix\n",
    "import seaborn as sns\n",
    "import matplotlib.pyplot as plt\n",
    "\n",
    "# 검증 데이터셋에 대한 예측 생성\n",
    "y_pred = model.predict(x_val)\n",
    "y_pred = np.round(y_pred).astype(int)\n",
    "\n",
    "# confusion matrix 생성\n",
    "cm = confusion_matrix(y_val, y_pred)\n",
    "\n",
    "# confusion matrix 출력\n",
    "plt.figure(figsize=(5,5))\n",
    "sns.heatmap(cm, annot=True, fmt=\"d\")\n",
    "plt.title('Confusion matrix')\n",
    "plt.ylabel('Actual label')\n",
    "plt.xlabel('Predicted label')\n",
    "plt.show()"
   ]
  },
  {
   "cell_type": "markdown",
   "id": "3ae7b46c",
   "metadata": {},
   "source": [
    "### 다 더하면 271인데.. \n",
    "### 웜톤은 잘 분류하는 것 같은데, 쿨톤을 웜톤으로 잘못 분류하고 있다고 해석하면 될까?"
   ]
  },
  {
   "cell_type": "markdown",
   "id": "c3c8b917",
   "metadata": {},
   "source": [
    "## validation data에 대해 모델 평가"
   ]
  },
  {
   "cell_type": "code",
   "execution_count": 116,
   "id": "9630497b",
   "metadata": {},
   "outputs": [
    {
     "data": {
      "text/plain": [
       "array([[0],\n",
       "       [0],\n",
       "       [0],\n",
       "       [0],\n",
       "       [0],\n",
       "       [0],\n",
       "       [0],\n",
       "       [1],\n",
       "       [0],\n",
       "       [0],\n",
       "       [0],\n",
       "       [1],\n",
       "       [0],\n",
       "       [0],\n",
       "       [0],\n",
       "       [0],\n",
       "       [0],\n",
       "       [1],\n",
       "       [0],\n",
       "       [0],\n",
       "       [0],\n",
       "       [0],\n",
       "       [0],\n",
       "       [0],\n",
       "       [0],\n",
       "       [0],\n",
       "       [0],\n",
       "       [0],\n",
       "       [0],\n",
       "       [1],\n",
       "       [0],\n",
       "       [0],\n",
       "       [0],\n",
       "       [0],\n",
       "       [1],\n",
       "       [0],\n",
       "       [0],\n",
       "       [0],\n",
       "       [0],\n",
       "       [0],\n",
       "       [0],\n",
       "       [0],\n",
       "       [0],\n",
       "       [0],\n",
       "       [0],\n",
       "       [0],\n",
       "       [0],\n",
       "       [0],\n",
       "       [0],\n",
       "       [0],\n",
       "       [1],\n",
       "       [0],\n",
       "       [0],\n",
       "       [0],\n",
       "       [0],\n",
       "       [0],\n",
       "       [1],\n",
       "       [0],\n",
       "       [0],\n",
       "       [1],\n",
       "       [0],\n",
       "       [0],\n",
       "       [0],\n",
       "       [0],\n",
       "       [0],\n",
       "       [0],\n",
       "       [0],\n",
       "       [0],\n",
       "       [1],\n",
       "       [0],\n",
       "       [0],\n",
       "       [0],\n",
       "       [0],\n",
       "       [0],\n",
       "       [0],\n",
       "       [0],\n",
       "       [0],\n",
       "       [0],\n",
       "       [0],\n",
       "       [0],\n",
       "       [0],\n",
       "       [0],\n",
       "       [1],\n",
       "       [0],\n",
       "       [1],\n",
       "       [0],\n",
       "       [0],\n",
       "       [0],\n",
       "       [0],\n",
       "       [0],\n",
       "       [0],\n",
       "       [0],\n",
       "       [0],\n",
       "       [0],\n",
       "       [0],\n",
       "       [0],\n",
       "       [0],\n",
       "       [0],\n",
       "       [0],\n",
       "       [0],\n",
       "       [1],\n",
       "       [0],\n",
       "       [0],\n",
       "       [0],\n",
       "       [0],\n",
       "       [0],\n",
       "       [0],\n",
       "       [0],\n",
       "       [1],\n",
       "       [0],\n",
       "       [0],\n",
       "       [0],\n",
       "       [0],\n",
       "       [0],\n",
       "       [0],\n",
       "       [0],\n",
       "       [0],\n",
       "       [0],\n",
       "       [1],\n",
       "       [0],\n",
       "       [0],\n",
       "       [0],\n",
       "       [0],\n",
       "       [0],\n",
       "       [0],\n",
       "       [0],\n",
       "       [0],\n",
       "       [0],\n",
       "       [0],\n",
       "       [0],\n",
       "       [0],\n",
       "       [1],\n",
       "       [0],\n",
       "       [0],\n",
       "       [0],\n",
       "       [0],\n",
       "       [0],\n",
       "       [0],\n",
       "       [0],\n",
       "       [0],\n",
       "       [1],\n",
       "       [0],\n",
       "       [0],\n",
       "       [0],\n",
       "       [0],\n",
       "       [0],\n",
       "       [1],\n",
       "       [0],\n",
       "       [0],\n",
       "       [0],\n",
       "       [1],\n",
       "       [1],\n",
       "       [0],\n",
       "       [0],\n",
       "       [0],\n",
       "       [0],\n",
       "       [0],\n",
       "       [0],\n",
       "       [0],\n",
       "       [0],\n",
       "       [1],\n",
       "       [0],\n",
       "       [0],\n",
       "       [0],\n",
       "       [0],\n",
       "       [0],\n",
       "       [0],\n",
       "       [0],\n",
       "       [0],\n",
       "       [0],\n",
       "       [0],\n",
       "       [0],\n",
       "       [0],\n",
       "       [0],\n",
       "       [0],\n",
       "       [0],\n",
       "       [0],\n",
       "       [0],\n",
       "       [0],\n",
       "       [0],\n",
       "       [1],\n",
       "       [1],\n",
       "       [1],\n",
       "       [0],\n",
       "       [0],\n",
       "       [0],\n",
       "       [0],\n",
       "       [0],\n",
       "       [0],\n",
       "       [0],\n",
       "       [0],\n",
       "       [0],\n",
       "       [0],\n",
       "       [0],\n",
       "       [0],\n",
       "       [0],\n",
       "       [1],\n",
       "       [0],\n",
       "       [0],\n",
       "       [0],\n",
       "       [1],\n",
       "       [0],\n",
       "       [0],\n",
       "       [0],\n",
       "       [0],\n",
       "       [0],\n",
       "       [0],\n",
       "       [0],\n",
       "       [0],\n",
       "       [1],\n",
       "       [0],\n",
       "       [0],\n",
       "       [0],\n",
       "       [0],\n",
       "       [0],\n",
       "       [0],\n",
       "       [0],\n",
       "       [0],\n",
       "       [0],\n",
       "       [0],\n",
       "       [0],\n",
       "       [0],\n",
       "       [0],\n",
       "       [0],\n",
       "       [0],\n",
       "       [0],\n",
       "       [0],\n",
       "       [0],\n",
       "       [0],\n",
       "       [0],\n",
       "       [0],\n",
       "       [0],\n",
       "       [0],\n",
       "       [0],\n",
       "       [0],\n",
       "       [0],\n",
       "       [1],\n",
       "       [0],\n",
       "       [0],\n",
       "       [0],\n",
       "       [0],\n",
       "       [0],\n",
       "       [1],\n",
       "       [0],\n",
       "       [0],\n",
       "       [0],\n",
       "       [0],\n",
       "       [0],\n",
       "       [0],\n",
       "       [0],\n",
       "       [0],\n",
       "       [0],\n",
       "       [0],\n",
       "       [1],\n",
       "       [0],\n",
       "       [1],\n",
       "       [0],\n",
       "       [0],\n",
       "       [0],\n",
       "       [1],\n",
       "       [0],\n",
       "       [1],\n",
       "       [1],\n",
       "       [0],\n",
       "       [0],\n",
       "       [1],\n",
       "       [0],\n",
       "       [0],\n",
       "       [0],\n",
       "       [0],\n",
       "       [0]])"
      ]
     },
     "execution_count": 116,
     "metadata": {},
     "output_type": "execute_result"
    }
   ],
   "source": [
    "y_pred"
   ]
  },
  {
   "cell_type": "code",
   "execution_count": 117,
   "id": "94ca6eff",
   "metadata": {},
   "outputs": [
    {
     "data": {
      "text/plain": [
       "(271, 1)"
      ]
     },
     "execution_count": 117,
     "metadata": {},
     "output_type": "execute_result"
    }
   ],
   "source": [
    "y_pred.shape"
   ]
  },
  {
   "cell_type": "code",
   "execution_count": 118,
   "id": "573a3d43",
   "metadata": {},
   "outputs": [
    {
     "name": "stdout",
     "output_type": "stream",
     "text": [
      "9/9 [==============================] - 0s 41ms/step - loss: 1.0410 - accuracy: 0.8081\n",
      "Test loss 1.0410, accuracy 80.81%\n"
     ]
    }
   ],
   "source": [
    "test_score=model.evaluate(x_val, y_val)\n",
    "print(\"Test loss {:.4f}, accuracy {:.2f}%\".format(test_score[0], test_score[1]*100))"
   ]
  },
  {
   "cell_type": "code",
   "execution_count": null,
   "id": "73c88cc9",
   "metadata": {},
   "outputs": [],
   "source": [
    "# model.evaluate: 이 메서드는 모델의 성능을 평가하는 데 사용됩니다. \n",
    "#     주어진 입력 데이터에 대해 모델의 손실(loss)과 메트릭(metric) 값을 계산합니다. \n",
    "#     예를 들어, 분류 문제에서는 정확도(accuracy)를, 회귀 문제에서는 평균 제곱 오차(mean squared error)를 계산할 수 있습니다. \n",
    "#     이 메서드는 손실과 메트릭의 값이 얼마나 좋은지(즉, 모델의 성능이 얼마나 좋은지)를 알려줍니다.\n",
    "\n",
    "# model.predict: 이 메서드는 주어진 입력에 대한 모델의 출력(예측)을 계산합니다. \n",
    "#     이 메서드는 모델이 학습한 패턴을 기반으로 새로운 데이터에 대한 예측을 생성하는 데 사용됩니다. \n",
    "#     예를 들어, 이미지 분류 모델에서는 새로운 이미지가 주어졌을 때 각 클래스에 속할 확률을 출력하고, \n",
    "#     회귀 모델에서는 새로운 입력에 대한 연속적인 출력 값을 생성합니다.\n",
    "\n",
    "# 따라서, model.evaluate는 모델의 성능을 평가하고, model.predict는 새로운 데이터에 대한 예측을 생성하는 데 사용됩니다."
   ]
  },
  {
   "cell_type": "code",
   "execution_count": 120,
   "id": "a7deed89",
   "metadata": {},
   "outputs": [],
   "source": [
    "# y_pred = model.predict(x_val)\n",
    "# y_pred = np.round(y_pred).astype(int)\n",
    "# 위 confusion matrix에서 사용함\n",
    "y_val = np.array(y_val)"
   ]
  },
  {
   "cell_type": "code",
   "execution_count": null,
   "id": "2d8428ce",
   "metadata": {},
   "outputs": [],
   "source": [
    "# np.round(y_pred).astype(int)를 사용하여 이미 이진 분류 예측을 0 또는 1로 변환했다면, \n",
    "# np.argmax(y_pred, axis=1)는 필요하지 않습니다. \n",
    "# np.argmax는 다중 클래스 분류 문제에서 각 클래스에 대한 확률을 예측한 후, 가장 확률이 높은 클래스를 선택할 때 사용됩니다. \n",
    "# 이진 분류 문제에서는 np.round를 사용하여 예측을 반올림하면 충분합니다."
   ]
  },
  {
   "cell_type": "code",
   "execution_count": 121,
   "id": "2cec7785",
   "metadata": {},
   "outputs": [
    {
     "name": "stdout",
     "output_type": "stream",
     "text": [
      "[[0]\n",
      " [0]\n",
      " [0]\n",
      " [0]\n",
      " [0]\n",
      " [0]\n",
      " [0]\n",
      " [1]\n",
      " [0]\n",
      " [0]\n",
      " [0]\n",
      " [1]\n",
      " [0]\n",
      " [0]\n",
      " [0]\n",
      " [0]\n",
      " [0]\n",
      " [1]\n",
      " [0]\n",
      " [0]\n",
      " [0]\n",
      " [0]\n",
      " [0]\n",
      " [0]\n",
      " [0]\n",
      " [0]\n",
      " [0]\n",
      " [0]\n",
      " [0]\n",
      " [1]\n",
      " [0]\n",
      " [0]\n",
      " [0]\n",
      " [0]\n",
      " [1]\n",
      " [0]\n",
      " [0]\n",
      " [0]\n",
      " [0]\n",
      " [0]\n",
      " [0]\n",
      " [0]\n",
      " [0]\n",
      " [0]\n",
      " [0]\n",
      " [0]\n",
      " [0]\n",
      " [0]\n",
      " [0]\n",
      " [0]\n",
      " [1]\n",
      " [0]\n",
      " [0]\n",
      " [0]\n",
      " [0]\n",
      " [0]\n",
      " [1]\n",
      " [0]\n",
      " [0]\n",
      " [1]\n",
      " [0]\n",
      " [0]\n",
      " [0]\n",
      " [0]\n",
      " [0]\n",
      " [0]\n",
      " [0]\n",
      " [0]\n",
      " [1]\n",
      " [0]\n",
      " [0]\n",
      " [0]\n",
      " [0]\n",
      " [0]\n",
      " [0]\n",
      " [0]\n",
      " [0]\n",
      " [0]\n",
      " [0]\n",
      " [0]\n",
      " [0]\n",
      " [0]\n",
      " [1]\n",
      " [0]\n",
      " [1]\n",
      " [0]\n",
      " [0]\n",
      " [0]\n",
      " [0]\n",
      " [0]\n",
      " [0]\n",
      " [0]\n",
      " [0]\n",
      " [0]\n",
      " [0]\n",
      " [0]\n",
      " [0]\n",
      " [0]\n",
      " [0]\n",
      " [0]\n",
      " [1]\n",
      " [0]\n",
      " [0]\n",
      " [0]\n",
      " [0]\n",
      " [0]\n",
      " [0]\n",
      " [0]\n",
      " [1]\n",
      " [0]\n",
      " [0]\n",
      " [0]\n",
      " [0]\n",
      " [0]\n",
      " [0]\n",
      " [0]\n",
      " [0]\n",
      " [0]\n",
      " [1]\n",
      " [0]\n",
      " [0]\n",
      " [0]\n",
      " [0]\n",
      " [0]\n",
      " [0]\n",
      " [0]\n",
      " [0]\n",
      " [0]\n",
      " [0]\n",
      " [0]\n",
      " [0]\n",
      " [1]\n",
      " [0]\n",
      " [0]\n",
      " [0]\n",
      " [0]\n",
      " [0]\n",
      " [0]\n",
      " [0]\n",
      " [0]\n",
      " [1]\n",
      " [0]\n",
      " [0]\n",
      " [0]\n",
      " [0]\n",
      " [0]\n",
      " [1]\n",
      " [0]\n",
      " [0]\n",
      " [0]\n",
      " [1]\n",
      " [1]\n",
      " [0]\n",
      " [0]\n",
      " [0]\n",
      " [0]\n",
      " [0]\n",
      " [0]\n",
      " [0]\n",
      " [0]\n",
      " [1]\n",
      " [0]\n",
      " [0]\n",
      " [0]\n",
      " [0]\n",
      " [0]\n",
      " [0]\n",
      " [0]\n",
      " [0]\n",
      " [0]\n",
      " [0]\n",
      " [0]\n",
      " [0]\n",
      " [0]\n",
      " [0]\n",
      " [0]\n",
      " [0]\n",
      " [0]\n",
      " [0]\n",
      " [0]\n",
      " [1]\n",
      " [1]\n",
      " [1]\n",
      " [0]\n",
      " [0]\n",
      " [0]\n",
      " [0]\n",
      " [0]\n",
      " [0]\n",
      " [0]\n",
      " [0]\n",
      " [0]\n",
      " [0]\n",
      " [0]\n",
      " [0]\n",
      " [0]\n",
      " [1]\n",
      " [0]\n",
      " [0]\n",
      " [0]\n",
      " [1]\n",
      " [0]\n",
      " [0]\n",
      " [0]\n",
      " [0]\n",
      " [0]\n",
      " [0]\n",
      " [0]\n",
      " [0]\n",
      " [1]\n",
      " [0]\n",
      " [0]\n",
      " [0]\n",
      " [0]\n",
      " [0]\n",
      " [0]\n",
      " [0]\n",
      " [0]\n",
      " [0]\n",
      " [0]\n",
      " [0]\n",
      " [0]\n",
      " [0]\n",
      " [0]\n",
      " [0]\n",
      " [0]\n",
      " [0]\n",
      " [0]\n",
      " [0]\n",
      " [0]\n",
      " [0]\n",
      " [0]\n",
      " [0]\n",
      " [0]\n",
      " [0]\n",
      " [0]\n",
      " [1]\n",
      " [0]\n",
      " [0]\n",
      " [0]\n",
      " [0]\n",
      " [0]\n",
      " [1]\n",
      " [0]\n",
      " [0]\n",
      " [0]\n",
      " [0]\n",
      " [0]\n",
      " [0]\n",
      " [0]\n",
      " [0]\n",
      " [0]\n",
      " [0]\n",
      " [1]\n",
      " [0]\n",
      " [1]\n",
      " [0]\n",
      " [0]\n",
      " [0]\n",
      " [1]\n",
      " [0]\n",
      " [1]\n",
      " [1]\n",
      " [0]\n",
      " [0]\n",
      " [1]\n",
      " [0]\n",
      " [0]\n",
      " [0]\n",
      " [0]\n",
      " [0]]\n",
      "[1 0 0 1 1 0 1 0 1 0 0 1 0 0 0 0 0 1 0 0 0 0 0 0 0 0 1 1 0 1 1 0 0 1 0 0 0\n",
      " 0 1 0 1 0 1 0 0 0 0 0 1 0 0 1 0 0 0 0 0 0 0 1 0 0 0 0 0 0 0 0 1 0 0 0 0 0\n",
      " 0 0 0 0 0 0 0 0 1 0 1 1 0 0 0 1 0 0 0 0 0 0 0 0 1 0 1 0 0 0 0 0 0 0 1 1 1\n",
      " 0 0 0 0 0 0 0 1 0 0 0 1 0 0 0 0 0 1 0 0 0 0 1 0 0 0 0 1 0 1 0 0 0 0 0 1 1\n",
      " 1 1 1 1 0 0 0 0 0 1 0 0 1 1 1 0 0 0 1 0 0 1 0 0 0 0 0 1 0 1 0 0 1 0 1 0 0\n",
      " 0 0 0 1 0 0 0 1 0 0 0 1 0 0 0 0 0 0 0 0 1 0 0 0 0 0 0 1 0 0 0 0 0 1 0 0 0\n",
      " 0 0 1 1 0 0 0 0 1 0 0 0 0 0 0 0 0 1 0 0 1 0 0 0 0 0 0 0 0 0 0 1 0 1 0 0 0\n",
      " 1 0 1 1 0 0 1 0 0 1 0 0]\n"
     ]
    }
   ],
   "source": [
    "print(y_pred)\n",
    "print(y_val)"
   ]
  },
  {
   "cell_type": "code",
   "execution_count": null,
   "id": "f195d212",
   "metadata": {},
   "outputs": [],
   "source": [
    "# y_pred와 y_val이 모두 1차원 배열로 변환되어야 합니다. 현재 y_pred는 2차원 배열로 보입니다. \n",
    "# np.squeeze 함수를 사용하여 불필요한 차원을 제거할 수 있습니다. 이 함수는 배열에서 1차원을 제거합니다."
   ]
  },
  {
   "cell_type": "code",
   "execution_count": 122,
   "id": "6473cb84",
   "metadata": {},
   "outputs": [
    {
     "name": "stdout",
     "output_type": "stream",
     "text": [
      "[0 0 0 0 0 0 0 1 0 0 0 1 0 0 0 0 0 1 0 0 0 0 0 0 0 0 0 0 0 1 0 0 0 0 1 0 0\n",
      " 0 0 0 0 0 0 0 0 0 0 0 0 0 1 0 0 0 0 0 1 0 0 1 0 0 0 0 0 0 0 0 1 0 0 0 0 0\n",
      " 0 0 0 0 0 0 0 0 1 0 1 0 0 0 0 0 0 0 0 0 0 0 0 0 0 0 1 0 0 0 0 0 0 0 1 0 0\n",
      " 0 0 0 0 0 0 0 1 0 0 0 0 0 0 0 0 0 0 0 0 1 0 0 0 0 0 0 0 0 1 0 0 0 0 0 1 0\n",
      " 0 0 1 1 0 0 0 0 0 0 0 0 1 0 0 0 0 0 0 0 0 0 0 0 0 0 0 0 0 0 0 0 1 1 1 0 0\n",
      " 0 0 0 0 0 0 0 0 0 0 0 1 0 0 0 1 0 0 0 0 0 0 0 0 1 0 0 0 0 0 0 0 0 0 0 0 0\n",
      " 0 0 0 0 0 0 0 0 0 0 0 0 0 0 1 0 0 0 0 0 1 0 0 0 0 0 0 0 0 0 0 1 0 1 0 0 0\n",
      " 1 0 1 1 0 0 1 0 0 0 0 0]\n",
      "[1 0 0 1 1 0 1 0 1 0 0 1 0 0 0 0 0 1 0 0 0 0 0 0 0 0 1 1 0 1 1 0 0 1 0 0 0\n",
      " 0 1 0 1 0 1 0 0 0 0 0 1 0 0 1 0 0 0 0 0 0 0 1 0 0 0 0 0 0 0 0 1 0 0 0 0 0\n",
      " 0 0 0 0 0 0 0 0 1 0 1 1 0 0 0 1 0 0 0 0 0 0 0 0 1 0 1 0 0 0 0 0 0 0 1 1 1\n",
      " 0 0 0 0 0 0 0 1 0 0 0 1 0 0 0 0 0 1 0 0 0 0 1 0 0 0 0 1 0 1 0 0 0 0 0 1 1\n",
      " 1 1 1 1 0 0 0 0 0 1 0 0 1 1 1 0 0 0 1 0 0 1 0 0 0 0 0 1 0 1 0 0 1 0 1 0 0\n",
      " 0 0 0 1 0 0 0 1 0 0 0 1 0 0 0 0 0 0 0 0 1 0 0 0 0 0 0 1 0 0 0 0 0 1 0 0 0\n",
      " 0 0 1 1 0 0 0 0 1 0 0 0 0 0 0 0 0 1 0 0 1 0 0 0 0 0 0 0 0 0 0 1 0 1 0 0 0\n",
      " 1 0 1 1 0 0 1 0 0 1 0 0]\n"
     ]
    }
   ],
   "source": [
    "y_pred = np.squeeze(y_pred)\n",
    "y_val = np.squeeze(y_val)\n",
    "\n",
    "print(y_pred)\n",
    "print(y_val)"
   ]
  },
  {
   "cell_type": "markdown",
   "id": "e4eb400f",
   "metadata": {},
   "source": [
    "## classification_report"
   ]
  },
  {
   "cell_type": "code",
   "execution_count": 123,
   "id": "480c4197",
   "metadata": {},
   "outputs": [
    {
     "name": "stdout",
     "output_type": "stream",
     "text": [
      "              precision    recall  f1-score   support\n",
      "\n",
      "           0       0.82      0.96      0.88       203\n",
      "           1       0.74      0.37      0.49        68\n",
      "\n",
      "    accuracy                           0.81       271\n",
      "   macro avg       0.78      0.66      0.69       271\n",
      "weighted avg       0.80      0.81      0.78       271\n",
      "\n"
     ]
    }
   ],
   "source": [
    "from sklearn.metrics import classification_report\n",
    "\n",
    "print(classification_report(y_val, y_pred))"
   ]
  },
  {
   "cell_type": "markdown",
   "id": "8e57ecb9",
   "metadata": {},
   "source": [
    "# case 2\n",
    "warm_1(05번) 490장 + cool_1 186장 \"총 676장\"           \n",
    "6:4 random state = 42            \n",
    "dense layer 2, softmax, categorical_crossentropy, y_train y_val -> 원핫인코딩       \n",
    "데이터 증강 0, epochs = 50, batch_size=32     "
   ]
  },
  {
   "cell_type": "markdown",
   "id": "d32dfe5b",
   "metadata": {},
   "source": [
    "## 224*224로 resize (case 1은 안 한 것 같아...)"
   ]
  },
  {
   "cell_type": "code",
   "execution_count": 176,
   "id": "c09c4dee",
   "metadata": {},
   "outputs": [
    {
     "name": "stdout",
     "output_type": "stream",
     "text": [
      "490  images to be resized.\n",
      "490  images resized.\n",
      "웜톤 이미지 resize 완료!\n"
     ]
    }
   ],
   "source": [
    "def resize_images(img_path):\n",
    "#     images=glob.glob(img_path + \"/*.jpg\")  \n",
    "    images = glob.glob(img_path + \"/*.jpg\") + glob.glob(img_path + \"/*.JPG\")\n",
    "    print(len(images), \" images to be resized.\")\n",
    "\n",
    "    # 파일마다 모두 224x224 사이즈로 바꾸어 저장\n",
    "    target_size=(224,224)\n",
    "    for img in images:\n",
    "        old_img=Image.open(img)\n",
    "        new_img=old_img.resize(target_size,Image.ANTIALIAS)\n",
    "        new_img.save(img, \"JPEG\")\n",
    "    \n",
    "    print(len(images), \" images resized.\")\n",
    "\n",
    "# 쿨톤 이미지가 저장된 디렉토리 아래의 모든 jpg 파일을 읽어들여서\n",
    "image_dir_path = os.getenv(\"HOME\") + \"/aiffel/aiffelthon/warm_1\"\n",
    "resize_images(image_dir_path)\n",
    "\n",
    "print(\"웜톤 이미지 resize 완료!\")"
   ]
  },
  {
   "cell_type": "code",
   "execution_count": 177,
   "id": "7c7c75a9",
   "metadata": {},
   "outputs": [
    {
     "name": "stdout",
     "output_type": "stream",
     "text": [
      "186  images to be resized.\n",
      "186  images resized.\n",
      "쿨톤 이미지 resize 완료!\n"
     ]
    }
   ],
   "source": [
    "# 쿨톤 이미지가 저장된 디렉토리 아래의 모든 jpg 파일을 읽어들여서\n",
    "image_dir_path = os.getenv(\"HOME\") + \"/aiffel/aiffelthon/cool_1\"\n",
    "resize_images(image_dir_path)\n",
    "\n",
    "print(\"쿨톤 이미지 resize 완료!\")"
   ]
  },
  {
   "cell_type": "markdown",
   "id": "4b852e58",
   "metadata": {},
   "source": [
    "## 데이터 불러오고 웜톤 0 쿨톤 1로 레이블링"
   ]
  },
  {
   "cell_type": "code",
   "execution_count": 178,
   "id": "e24ef7c5",
   "metadata": {},
   "outputs": [
    {
     "name": "stdout",
     "output_type": "stream",
     "text": [
      "학습데이터(x_train)의 이미지 개수는 676 입니다.\n",
      "x_train shape: (676, 224, 224, 3)\n",
      "y_train shape: (676,)\n"
     ]
    }
   ],
   "source": [
    "def load_data(img_path, number_of_data=676):  # 웜톤 490 + 쿨톤 186\n",
    "    # 웜톤 : 0, 쿨톤 : 1\n",
    "    img_size=224\n",
    "    color=3\n",
    "    #이미지 데이터와 라벨(웜톤 : 0, 쿨톤 : 1) 데이터를 담을 행렬(matrix) 영역을 생성합니다.\n",
    "    imgs=np.zeros(number_of_data*img_size*img_size*color,dtype=np.int32).reshape(number_of_data,img_size,img_size,color)\n",
    "    labels=np.zeros(number_of_data,dtype=np.int32)\n",
    "\n",
    "    idx=0\n",
    "    warm_files = list(glob.iglob(img_path + '/warm_1/*.jpg')) + list(glob.iglob(img_path + '/warm_1/*.JPG'))\n",
    "    for file in warm_files:\n",
    "        img = np.array(Image.open(file),dtype=np.int32)\n",
    "        imgs[idx,:,:,:]=img    # 데이터 영역에 이미지 행렬을 복사\n",
    "        labels[idx]=0   # 웜톤 : 0\n",
    "        idx=idx+1\n",
    "\n",
    "    cool_files = list(glob.iglob(img_path + '/cool_1/*.jpg')) + list(glob.iglob(img_path + '/cool_1/*.JPG'))\n",
    "    for file in cool_files:\n",
    "        img = np.array(Image.open(file),dtype=np.int32)\n",
    "        imgs[idx,:,:,:]=img    # 데이터 영역에 이미지 행렬을 복사\n",
    "        labels[idx]=1   # 쿨톤 : 1\n",
    "        idx=idx+1  \n",
    "    \n",
    "    print(\"학습데이터(x_train)의 이미지 개수는\", idx,\"입니다.\")\n",
    "    return imgs, labels\n",
    "\n",
    "image_dir_path = os.getenv(\"HOME\") + \"/aiffel/aiffelthon\"\n",
    "(x_train, y_train)=load_data(image_dir_path)\n",
    "\n",
    "print(\"x_train shape: {}\".format(x_train.shape))\n",
    "print(\"y_train shape: {}\".format(y_train.shape))"
   ]
  },
  {
   "cell_type": "markdown",
   "id": "064ef9d4",
   "metadata": {},
   "source": [
    "## train data, validation data 나누기, 정규화"
   ]
  },
  {
   "cell_type": "code",
   "execution_count": 179,
   "id": "23070522",
   "metadata": {},
   "outputs": [],
   "source": [
    "# x_train과 y_train을 훈련 세트와 검증 세트로 분할\n",
    "x_train, x_val, y_train, y_val = train_test_split(x_train, y_train, test_size=0.4, random_state=42)"
   ]
  },
  {
   "cell_type": "code",
   "execution_count": 180,
   "id": "891b7f9a",
   "metadata": {},
   "outputs": [
    {
     "data": {
      "text/plain": [
       "dtype('int32')"
      ]
     },
     "execution_count": 180,
     "metadata": {},
     "output_type": "execute_result"
    }
   ],
   "source": [
    "x_train.dtype"
   ]
  },
  {
   "cell_type": "code",
   "execution_count": 181,
   "id": "5b7cdf22",
   "metadata": {},
   "outputs": [],
   "source": [
    "x_train = x_train.astype('float32')\n",
    "x_val = x_val.astype('float32')"
   ]
  },
  {
   "cell_type": "code",
   "execution_count": 182,
   "id": "0ee3d30e",
   "metadata": {},
   "outputs": [
    {
     "name": "stdout",
     "output_type": "stream",
     "text": [
      "x_train shape: (405, 224, 224, 3)\n",
      "y_train shape: (405,)\n",
      "x_val shape: (271, 224, 224, 3)\n",
      "y_val shape: (271,)\n"
     ]
    }
   ],
   "source": [
    "print(\"x_train shape: {}\".format(x_train.shape))\n",
    "print(\"y_train shape: {}\".format(y_train.shape))\n",
    "print(\"x_val shape: {}\".format(x_val.shape))\n",
    "print(\"y_val shape: {}\".format(y_val.shape))"
   ]
  },
  {
   "cell_type": "markdown",
   "id": "d13eb229",
   "metadata": {},
   "source": [
    "## 데이터 증강"
   ]
  },
  {
   "cell_type": "code",
   "execution_count": 184,
   "id": "96bf084f",
   "metadata": {},
   "outputs": [],
   "source": [
    "from tensorflow.keras.preprocessing.image import ImageDataGenerator\n",
    "\n",
    "# 데이터 증강을 위한 ImageDataGenerator 인스턴스 생성\n",
    "datagen = ImageDataGenerator(\n",
    "    rescale=1./255,        # 이미지 픽셀 값을 [0,1] 범위로 스케일링\n",
    "    rotation_range=20,     # 0-20도 범위에서 랜덤하게 이미지를 회전\n",
    "    width_shift_range=0.2, # 이미지를 수평으로 랜덤하게 이동 (전체 너비의 20% 내에서)\n",
    "    height_shift_range=0.2,# 이미지를 수직으로 랜덤하게 이동 (전체 높이의 20% 내에서)\n",
    "    horizontal_flip=True   # 이미지를 랜덤하게 수평으로 뒤집기\n",
    ")\n",
    "\n",
    "# ImageDataGenerator를 학습 데이터에 적용\n",
    "datagen.fit(x_train)"
   ]
  },
  {
   "cell_type": "markdown",
   "id": "a9171e9d",
   "metadata": {},
   "source": [
    "## MobileNetV2 모델 쌓기"
   ]
  },
  {
   "cell_type": "code",
   "execution_count": 185,
   "id": "bbb44329",
   "metadata": {},
   "outputs": [],
   "source": [
    "from tensorflow.keras.applications import MobileNetV2\n",
    "from tensorflow.keras.models import Sequential\n",
    "from tensorflow.keras.layers import Dense, Flatten\n",
    "from tensorflow.keras.optimizers import Adam"
   ]
  },
  {
   "cell_type": "code",
   "execution_count": 186,
   "id": "f71f106e",
   "metadata": {},
   "outputs": [],
   "source": [
    "# MobileNetV2 모델 불러오기\n",
    "base_model = MobileNetV2(weights='imagenet', include_top=False, input_shape=(224, 224, 3))\n",
    "\n",
    "# 새로운 모델 생성\n",
    "model = Sequential()\n",
    "model.add(base_model)  # MobileNetV2를 기본 모델로 추가\n",
    "model.add(Flatten())   # 피처를 1D 벡터로 평탄화\n",
    "model.add(Dense(2, activation='softmax'))  # 출력 레이어 추가"
   ]
  },
  {
   "cell_type": "code",
   "execution_count": 187,
   "id": "b52c87c1",
   "metadata": {},
   "outputs": [
    {
     "name": "stdout",
     "output_type": "stream",
     "text": [
      "Model: \"sequential_10\"\n",
      "_________________________________________________________________\n",
      "Layer (type)                 Output Shape              Param #   \n",
      "=================================================================\n",
      "mobilenetv2_1.00_224 (Functi (None, 7, 7, 1280)        2257984   \n",
      "_________________________________________________________________\n",
      "flatten_10 (Flatten)         (None, 62720)             0         \n",
      "_________________________________________________________________\n",
      "dense_10 (Dense)             (None, 2)                 125442    \n",
      "=================================================================\n",
      "Total params: 2,383,426\n",
      "Trainable params: 2,349,314\n",
      "Non-trainable params: 34,112\n",
      "_________________________________________________________________\n"
     ]
    }
   ],
   "source": [
    "model.summary()"
   ]
  },
  {
   "cell_type": "markdown",
   "id": "7b391138",
   "metadata": {},
   "source": [
    "## 소프트맥스를 쓰려면 레이블이 원핫인코딩이 되어야한다!!"
   ]
  },
  {
   "cell_type": "code",
   "execution_count": 188,
   "id": "fd2e7dc5",
   "metadata": {},
   "outputs": [],
   "source": [
    "from tensorflow.keras.utils import to_categorical\n",
    "\n",
    "# 레이블을 원-핫 인코딩 형태로 변환\n",
    "y_train = to_categorical(y_train)\n",
    "y_val = to_categorical(y_val)"
   ]
  },
  {
   "cell_type": "code",
   "execution_count": 189,
   "id": "38a07bc3",
   "metadata": {},
   "outputs": [],
   "source": [
    "# 모델 컴파일\n",
    "model.compile(optimizer=Adam(), \n",
    "              loss='categorical_crossentropy', \n",
    "              metrics=['accuracy'])\n",
    "\n",
    "\n",
    "# 학습 데이터에 데이터 증강 적용\n",
    "train_generator = datagen.flow(x_train, y_train, batch_size=32)"
   ]
  },
  {
   "cell_type": "code",
   "execution_count": 190,
   "id": "6431d9c8",
   "metadata": {},
   "outputs": [
    {
     "name": "stdout",
     "output_type": "stream",
     "text": [
      "Epoch 1/50\n",
      "13/13 [==============================] - 9s 429ms/step - loss: 1.7563 - accuracy: 0.7136 - val_loss: 41.5492 - val_accuracy: 0.7491\n",
      "Epoch 2/50\n",
      "13/13 [==============================] - 5s 337ms/step - loss: 0.6525 - accuracy: 0.8074 - val_loss: 68.3413 - val_accuracy: 0.7491\n",
      "Epoch 3/50\n",
      "13/13 [==============================] - 5s 348ms/step - loss: 0.6829 - accuracy: 0.8568 - val_loss: 0.5915 - val_accuracy: 0.7343\n",
      "Epoch 4/50\n",
      "13/13 [==============================] - 4s 327ms/step - loss: 0.3823 - accuracy: 0.8864 - val_loss: 49.7326 - val_accuracy: 0.7491\n",
      "Epoch 5/50\n",
      "13/13 [==============================] - 5s 352ms/step - loss: 0.2035 - accuracy: 0.9210 - val_loss: 69.2678 - val_accuracy: 0.7491\n",
      "Epoch 6/50\n",
      "13/13 [==============================] - 5s 336ms/step - loss: 0.5431 - accuracy: 0.8864 - val_loss: 38.0897 - val_accuracy: 0.7491\n",
      "Epoch 7/50\n",
      "13/13 [==============================] - 5s 353ms/step - loss: 0.3498 - accuracy: 0.9012 - val_loss: 111.3742 - val_accuracy: 0.7491\n",
      "Epoch 8/50\n",
      "13/13 [==============================] - 5s 353ms/step - loss: 0.1495 - accuracy: 0.9481 - val_loss: 131.8538 - val_accuracy: 0.7491\n",
      "Epoch 9/50\n",
      "13/13 [==============================] - 5s 340ms/step - loss: 0.2091 - accuracy: 0.9210 - val_loss: 136.2232 - val_accuracy: 0.7491\n",
      "Epoch 10/50\n",
      "13/13 [==============================] - 5s 357ms/step - loss: 0.1602 - accuracy: 0.9407 - val_loss: 137.7962 - val_accuracy: 0.7491\n",
      "Epoch 11/50\n",
      "13/13 [==============================] - 5s 343ms/step - loss: 0.0831 - accuracy: 0.9605 - val_loss: 138.0763 - val_accuracy: 0.7491\n",
      "Epoch 12/50\n",
      "13/13 [==============================] - 5s 345ms/step - loss: 0.0752 - accuracy: 0.9753 - val_loss: 138.3163 - val_accuracy: 0.7491\n",
      "Epoch 13/50\n",
      "13/13 [==============================] - 5s 352ms/step - loss: 0.0819 - accuracy: 0.9753 - val_loss: 138.9590 - val_accuracy: 0.7491\n",
      "Epoch 14/50\n",
      "13/13 [==============================] - 5s 344ms/step - loss: 0.0841 - accuracy: 0.9630 - val_loss: 141.5553 - val_accuracy: 0.7491\n",
      "Epoch 15/50\n",
      "13/13 [==============================] - 4s 344ms/step - loss: 0.0546 - accuracy: 0.9827 - val_loss: 140.2642 - val_accuracy: 0.7491\n",
      "Epoch 16/50\n",
      "13/13 [==============================] - 5s 346ms/step - loss: 0.0699 - accuracy: 0.9704 - val_loss: 132.2000 - val_accuracy: 0.7491\n",
      "Epoch 17/50\n",
      "13/13 [==============================] - 4s 334ms/step - loss: 0.0841 - accuracy: 0.9679 - val_loss: 59.0952 - val_accuracy: 0.7491\n",
      "Epoch 18/50\n",
      "13/13 [==============================] - 5s 343ms/step - loss: 0.0922 - accuracy: 0.9654 - val_loss: 31.7296 - val_accuracy: 0.7491\n",
      "Epoch 19/50\n",
      "13/13 [==============================] - 4s 331ms/step - loss: 0.0493 - accuracy: 0.9802 - val_loss: 26.7715 - val_accuracy: 0.7491\n",
      "Epoch 20/50\n",
      "13/13 [==============================] - 5s 356ms/step - loss: 0.0412 - accuracy: 0.9852 - val_loss: 30.1773 - val_accuracy: 0.7491\n",
      "Epoch 21/50\n",
      "13/13 [==============================] - 5s 336ms/step - loss: 0.0635 - accuracy: 0.9753 - val_loss: 22.9235 - val_accuracy: 0.7491\n",
      "Epoch 22/50\n",
      "13/13 [==============================] - 5s 340ms/step - loss: 0.0692 - accuracy: 0.9704 - val_loss: 18.5847 - val_accuracy: 0.7491\n",
      "Epoch 23/50\n",
      "13/13 [==============================] - 5s 337ms/step - loss: 0.0470 - accuracy: 0.9827 - val_loss: 17.7334 - val_accuracy: 0.7491\n",
      "Epoch 24/50\n",
      "13/13 [==============================] - 5s 345ms/step - loss: 0.0338 - accuracy: 0.9877 - val_loss: 16.7593 - val_accuracy: 0.7491\n",
      "Epoch 25/50\n",
      "13/13 [==============================] - 5s 333ms/step - loss: 0.0233 - accuracy: 0.9926 - val_loss: 15.0088 - val_accuracy: 0.7491\n",
      "Epoch 26/50\n",
      "13/13 [==============================] - 5s 348ms/step - loss: 0.0320 - accuracy: 0.9877 - val_loss: 10.7998 - val_accuracy: 0.7491\n",
      "Epoch 27/50\n",
      "13/13 [==============================] - 5s 336ms/step - loss: 0.1338 - accuracy: 0.9728 - val_loss: 15.4508 - val_accuracy: 0.7491\n",
      "Epoch 28/50\n",
      "13/13 [==============================] - 5s 357ms/step - loss: 0.0545 - accuracy: 0.9753 - val_loss: 14.2628 - val_accuracy: 0.7491\n",
      "Epoch 29/50\n",
      "13/13 [==============================] - 5s 337ms/step - loss: 0.0358 - accuracy: 0.9852 - val_loss: 11.5384 - val_accuracy: 0.7491\n",
      "Epoch 30/50\n",
      "13/13 [==============================] - 4s 331ms/step - loss: 0.1969 - accuracy: 0.9506 - val_loss: 13.0997 - val_accuracy: 0.7491\n",
      "Epoch 31/50\n",
      "13/13 [==============================] - 5s 349ms/step - loss: 0.1046 - accuracy: 0.9778 - val_loss: 14.6165 - val_accuracy: 0.7491\n",
      "Epoch 32/50\n",
      "13/13 [==============================] - 5s 332ms/step - loss: 0.0694 - accuracy: 0.9802 - val_loss: 12.8563 - val_accuracy: 0.7491\n",
      "Epoch 33/50\n",
      "13/13 [==============================] - 5s 343ms/step - loss: 0.0210 - accuracy: 0.9926 - val_loss: 10.5122 - val_accuracy: 0.7491\n",
      "Epoch 34/50\n",
      "13/13 [==============================] - 4s 340ms/step - loss: 0.0320 - accuracy: 0.9901 - val_loss: 11.0370 - val_accuracy: 0.7491\n",
      "Epoch 35/50\n",
      "13/13 [==============================] - 5s 336ms/step - loss: 0.0322 - accuracy: 0.9901 - val_loss: 8.8630 - val_accuracy: 0.7491\n",
      "Epoch 36/50\n",
      "13/13 [==============================] - 4s 331ms/step - loss: 0.0271 - accuracy: 0.9951 - val_loss: 11.8758 - val_accuracy: 0.7491\n",
      "Epoch 37/50\n",
      "13/13 [==============================] - 5s 338ms/step - loss: 0.0671 - accuracy: 0.9778 - val_loss: 10.5615 - val_accuracy: 0.7491\n",
      "Epoch 38/50\n",
      "13/13 [==============================] - 5s 355ms/step - loss: 0.0460 - accuracy: 0.9877 - val_loss: 9.3016 - val_accuracy: 0.7491\n",
      "Epoch 39/50\n",
      "13/13 [==============================] - 5s 336ms/step - loss: 0.0209 - accuracy: 0.9926 - val_loss: 8.2177 - val_accuracy: 0.7491\n",
      "Epoch 40/50\n",
      "13/13 [==============================] - 5s 334ms/step - loss: 0.0186 - accuracy: 0.9926 - val_loss: 7.4034 - val_accuracy: 0.7491\n",
      "Epoch 41/50\n",
      "13/13 [==============================] - 4s 346ms/step - loss: 0.0206 - accuracy: 0.9926 - val_loss: 5.5893 - val_accuracy: 0.7491\n",
      "Epoch 42/50\n",
      "13/13 [==============================] - 5s 335ms/step - loss: 0.0653 - accuracy: 0.9827 - val_loss: 4.5840 - val_accuracy: 0.7491\n",
      "Epoch 43/50\n",
      "13/13 [==============================] - 5s 341ms/step - loss: 0.0911 - accuracy: 0.9802 - val_loss: 4.6914 - val_accuracy: 0.7491\n",
      "Epoch 44/50\n",
      "13/13 [==============================] - 5s 335ms/step - loss: 0.0364 - accuracy: 0.9827 - val_loss: 3.9586 - val_accuracy: 0.7491\n",
      "Epoch 45/50\n",
      "13/13 [==============================] - 4s 330ms/step - loss: 0.0230 - accuracy: 0.9951 - val_loss: 3.9429 - val_accuracy: 0.7491\n",
      "Epoch 46/50\n",
      "13/13 [==============================] - 5s 335ms/step - loss: 0.0107 - accuracy: 0.9975 - val_loss: 3.3155 - val_accuracy: 0.7491\n",
      "Epoch 47/50\n",
      "13/13 [==============================] - 4s 332ms/step - loss: 0.0081 - accuracy: 0.9951 - val_loss: 3.0769 - val_accuracy: 0.7491\n",
      "Epoch 48/50\n",
      "13/13 [==============================] - 5s 349ms/step - loss: 0.0252 - accuracy: 0.9877 - val_loss: 2.3080 - val_accuracy: 0.7491\n",
      "Epoch 49/50\n",
      "13/13 [==============================] - 5s 336ms/step - loss: 0.0534 - accuracy: 0.9753 - val_loss: 1.7569 - val_accuracy: 0.7491\n",
      "Epoch 50/50\n",
      "13/13 [==============================] - 5s 336ms/step - loss: 0.0298 - accuracy: 0.9877 - val_loss: 2.5657 - val_accuracy: 0.7491\n"
     ]
    }
   ],
   "source": [
    "hist = model.fit(train_generator, epochs=50, validation_data=(x_val, y_val))"
   ]
  },
  {
   "cell_type": "markdown",
   "id": "cf63ff41",
   "metadata": {},
   "source": [
    "## loss, accuracy 시각화"
   ]
  },
  {
   "cell_type": "code",
   "execution_count": 191,
   "id": "0106c7a4",
   "metadata": {},
   "outputs": [
    {
     "data": {
      "text/plain": [
       "dict_keys(['loss', 'accuracy', 'val_loss', 'val_accuracy'])"
      ]
     },
     "execution_count": 191,
     "metadata": {},
     "output_type": "execute_result"
    }
   ],
   "source": [
    "hist.history.keys()"
   ]
  },
  {
   "cell_type": "code",
   "execution_count": 192,
   "id": "818a70cb",
   "metadata": {},
   "outputs": [
    {
     "data": {
      "text/plain": [
       "<matplotlib.legend.Legend at 0x7f7bce2a31f0>"
      ]
     },
     "execution_count": 192,
     "metadata": {},
     "output_type": "execute_result"
    },
    {
     "data": {
      "image/png": "[encoded data removed]",
      "text/plain": [
       "<Figure size 864x360 with 2 Axes>"
      ]
     },
     "metadata": {
      "needs_background": "light"
     },
     "output_type": "display_data"
    }
   ],
   "source": [
    "history_dict = hist.history\n",
    "\n",
    "loss = history_dict['loss']\n",
    "val_loss = history_dict['val_loss']\n",
    "\n",
    "epochs = range(1, len(loss) + 1)\n",
    "fig = plt.figure(figsize=(12, 5))\n",
    "\n",
    "ax1 = fig.add_subplot(1, 2, 1)\n",
    "ax1.plot(epochs, loss, color='blue', label='train_loss')\n",
    "ax1.plot(epochs, val_loss, color='red', label='val_loss')\n",
    "ax1.set_title('Train and Validation Loss')\n",
    "ax1.set_xlabel('Epochs')\n",
    "ax1.set_ylabel('Loss')\n",
    "ax1.grid()\n",
    "ax1.legend()\n",
    "\n",
    "accuracy = history_dict['accuracy']\n",
    "val_accuracy = history_dict['val_accuracy']\n",
    "\n",
    "ax2 = fig.add_subplot(1, 2, 2)\n",
    "ax2.plot(epochs, accuracy, color='blue', label='train_accuracy')\n",
    "ax2.plot(epochs, val_accuracy, color='red', label='val_accuracy')\n",
    "ax2.set_title('Train and Validation Accuracy')\n",
    "ax2.set_xlabel('Epochs')\n",
    "ax2.set_ylabel('Accuracy')\n",
    "ax2.grid()\n",
    "ax2.legend()"
   ]
  },
  {
   "cell_type": "markdown",
   "id": "6327d826",
   "metadata": {},
   "source": [
    "## confusion_matrix"
   ]
  },
  {
   "cell_type": "code",
   "execution_count": 195,
   "id": "b156bb3d",
   "metadata": {},
   "outputs": [
    {
     "data": {
      "text/plain": [
       "(271,)"
      ]
     },
     "execution_count": 195,
     "metadata": {},
     "output_type": "execute_result"
    }
   ],
   "source": [
    "y_pred.shape"
   ]
  },
  {
   "cell_type": "code",
   "execution_count": 197,
   "id": "b7c526db",
   "metadata": {},
   "outputs": [
    {
     "data": {
      "text/plain": [
       "(271, 2)"
      ]
     },
     "execution_count": 197,
     "metadata": {},
     "output_type": "execute_result"
    }
   ],
   "source": [
    "y_val.shape"
   ]
  },
  {
   "cell_type": "code",
   "execution_count": 198,
   "id": "d52fcac2",
   "metadata": {},
   "outputs": [
    {
     "data": {
      "image/png": "[encoded data removed]",
      "text/plain": [
       "<Figure size 360x360 with 2 Axes>"
      ]
     },
     "metadata": {
      "needs_background": "light"
     },
     "output_type": "display_data"
    }
   ],
   "source": [
    "# 검증 데이터셋에 대한 예측 생성\n",
    "y_pred = model.predict(x_val)\n",
    "y_pred = np.argmax(y_pred, axis=1)\n",
    "\n",
    "# y_val을 원-핫 인코딩에서 정수 레이블로 변환\n",
    "y_val_label = np.argmax(y_val, axis=1)\n",
    "\n",
    "# confusion matrix 생성\n",
    "cm = confusion_matrix(y_val_label, y_pred)\n",
    "\n",
    "# confusion matrix 출력\n",
    "plt.figure(figsize=(5,5))\n",
    "sns.heatmap(cm, annot=True, fmt=\"d\")\n",
    "plt.title('Confusion matrix')\n",
    "plt.ylabel('Actual label')\n",
    "plt.xlabel('Predicted label')\n",
    "plt.show()"
   ]
  },
  {
   "cell_type": "markdown",
   "id": "a646d463",
   "metadata": {},
   "source": [
    "## validation data에 대해서 모델 평가"
   ]
  },
  {
   "cell_type": "code",
   "execution_count": 199,
   "id": "18e069ad",
   "metadata": {},
   "outputs": [
    {
     "name": "stdout",
     "output_type": "stream",
     "text": [
      "9/9 [==============================] - 0s 42ms/step - loss: 2.5657 - accuracy: 0.7491\n",
      "Test loss 2.5657, accuracy 74.91%\n"
     ]
    }
   ],
   "source": [
    "test_score=model.evaluate(x_val, y_val)\n",
    "print(\"Test loss {:.4f}, accuracy {:.2f}%\".format(test_score[0], test_score[1]*100))"
   ]
  },
  {
   "cell_type": "code",
   "execution_count": null,
   "id": "c5f06dc5",
   "metadata": {},
   "outputs": [],
   "source": [
    "# 일반적으로 model.evaluate는 테스트 데이터셋에 대한 성능을 평가하는 데 사용됩니다. \n",
    "# 검증 데이터셋은 model.fit의 validation_data 인자를 통해 이미 사용되었기 때문에, \n",
    "# 모델이 새로운 데이터에 대해 얼마나 잘 일반화되는지 평가하기 위해 별도의 테스트 데이터셋을 사용하는 것이 좋습니다.\n",
    "\n",
    "# 따라서 가능하다면, model.evaluate를 호출할 때는 검증 데이터셋 대신 테스트 데이터셋을 사용하는 것이 좋습니다."
   ]
  },
  {
   "cell_type": "code",
   "execution_count": null,
   "id": "38b5437f",
   "metadata": {},
   "outputs": [],
   "source": [
    "# 그럼 model.evaluate에 검증 데이터셋을 써도 괜찮아? \n",
    "# 아니면 model.evaluate에 사용할 테스트 데이터셋을 여러개 만드는 것이 더 나아?\n",
    "\n",
    "# model.evaluate 함수는 모델의 성능을 평가하는 데 사용됩니다. \n",
    "# 이 함수를 사용할 때 어떤 데이터셋을 사용할지는 주로 실험의 목적과 데이터셋의 특성에 따라 달라집니다.\n",
    "\n",
    "# 검증 데이터셋을 사용하는 경우: 모델 학습 도중에 검증 데이터셋을 사용하여 모델의 성능을 평가하고, \n",
    "#     과적합을 감지하는 등의 목적으로 사용할 수 있습니다. \n",
    "#     이 경우, model.evaluate 함수를 사용하여 검증 데이터셋에 대한 모델의 성능을 계속 모니터링할 수 있습니다.\n",
    "\n",
    "# 테스트 데이터셋을 사용하는 경우: 모델 학습이 완료된 후에는 테스트 데이터셋을 사용하여 모델의 최종 성능을 평가하는 것이 일반적입니다. \n",
    "#     이는 모델이 학습 도중에 \"보지 못한\" 데이터에 대해 얼마나 잘 일반화되는지를 평가하는 것이기 때문에, \n",
    "#     이 경우에는 model.evaluate 함수를 사용하여 테스트 데이터셋에 대한 모델의 성능을 평가합니다.\n",
    "\n",
    "# 따라서, model.evaluate에 사용할 데이터셋을 선택할 때는 실험의 목적과 단계를 고려해야 합니다. \n",
    "# 일반적으로, 검증 데이터셋은 모델 학습 도중에 성능을 평가하고 모델을 조정하는 데 사용되며, \n",
    "# 테스트 데이터셋은 모델 학습이 완료된 후에 최종적으로 모델 성능을 평가하는 데 사용됩니다.\n",
    "\n",
    "# 테스트 데이터셋을 여러 개 만드는 것은 일반적으로 권장되지 않습니다. 이는 데이터를 불필요하게 분할하고, \n",
    "# 사용 가능한 학습 데이터를 줄이며, 결과적으로 모델 성능에 부정적인 영향을 미칠 수 있습니다. \n",
    "# 대신, 테스트 데이터셋은 가능한 한 다양한 케이스를 포함하도록 선택하거나 구성하는 것이 중요합니다."
   ]
  },
  {
   "cell_type": "code",
   "execution_count": 201,
   "id": "a078b476",
   "metadata": {},
   "outputs": [
    {
     "name": "stdout",
     "output_type": "stream",
     "text": [
      "[0 0 0 0 0 0 0 0 0 0 0 0 0 0 0 0 0 0 0 0 0 0 0 0 0 0 0 0 0 0 0 0 0 0 0 0 0\n",
      " 0 0 0 0 0 0 0 0 0 0 0 0 0 0 0 0 0 0 0 0 0 0 0 0 0 0 0 0 0 0 0 0 0 0 0 0 0\n",
      " 0 0 0 0 0 0 0 0 0 0 0 0 0 0 0 0 0 0 0 0 0 0 0 0 0 0 0 0 0 0 0 0 0 0 0 0 0\n",
      " 0 0 0 0 0 0 0 0 0 0 0 0 0 0 0 0 0 0 0 0 0 0 0 0 0 0 0 0 0 0 0 0 0 0 0 0 0\n",
      " 0 0 0 0 0 0 0 0 0 0 0 0 0 0 0 0 0 0 0 0 0 0 0 0 0 0 0 0 0 0 0 0 0 0 0 0 0\n",
      " 0 0 0 0 0 0 0 0 0 0 0 0 0 0 0 0 0 0 0 0 0 0 0 0 0 0 0 0 0 0 0 0 0 0 0 0 0\n",
      " 0 0 0 0 0 0 0 0 0 0 0 0 0 0 0 0 0 0 0 0 0 0 0 0 0 0 0 0 0 0 0 0 0 0 0 0 0\n",
      " 0 0 0 0 0 0 0 0 0 0 0 0]\n",
      "[1 0 0 1 1 0 1 0 1 0 0 1 0 0 0 0 0 1 0 0 0 0 0 0 0 0 1 1 0 1 1 0 0 1 0 0 0\n",
      " 0 1 0 1 0 1 0 0 0 0 0 1 0 0 1 0 0 0 0 0 0 0 1 0 0 0 0 0 0 0 0 1 0 0 0 0 0\n",
      " 0 0 0 0 0 0 0 0 1 0 1 1 0 0 0 1 0 0 0 0 0 0 0 0 1 0 1 0 0 0 0 0 0 0 1 1 1\n",
      " 0 0 0 0 0 0 0 1 0 0 0 1 0 0 0 0 0 1 0 0 0 0 1 0 0 0 0 1 0 1 0 0 0 0 0 1 1\n",
      " 1 1 1 1 0 0 0 0 0 1 0 0 1 1 1 0 0 0 1 0 0 1 0 0 0 0 0 1 0 1 0 0 1 0 1 0 0\n",
      " 0 0 0 1 0 0 0 1 0 0 0 1 0 0 0 0 0 0 0 0 1 0 0 0 0 0 0 1 0 0 0 0 0 1 0 0 0\n",
      " 0 0 1 1 0 0 0 0 1 0 0 0 0 0 0 0 0 1 0 0 1 0 0 0 0 0 0 0 0 0 0 1 0 1 0 0 0\n",
      " 1 0 1 1 0 0 1 0 0 1 0 0]\n"
     ]
    }
   ],
   "source": [
    "# y_val_label = np.argmax(y_val, axis=1)\n",
    "\n",
    "print(y_pred)\n",
    "print(y_val_label)"
   ]
  },
  {
   "cell_type": "markdown",
   "id": "42b2fc0d",
   "metadata": {},
   "source": [
    "## classification_report"
   ]
  },
  {
   "cell_type": "code",
   "execution_count": 203,
   "id": "0e863141",
   "metadata": {},
   "outputs": [
    {
     "name": "stdout",
     "output_type": "stream",
     "text": [
      "              precision    recall  f1-score   support\n",
      "\n",
      "           0       0.75      1.00      0.86       203\n",
      "           1       0.00      0.00      0.00        68\n",
      "\n",
      "    accuracy                           0.75       271\n",
      "   macro avg       0.37      0.50      0.43       271\n",
      "weighted avg       0.56      0.75      0.64       271\n",
      "\n"
     ]
    },
    {
     "name": "stderr",
     "output_type": "stream",
     "text": [
      "/opt/conda/lib/python3.9/site-packages/sklearn/metrics/_classification.py:1308: UndefinedMetricWarning: Precision and F-score are ill-defined and being set to 0.0 in labels with no predicted samples. Use `zero_division` parameter to control this behavior.\n",
      "  _warn_prf(average, modifier, msg_start, len(result))\n",
      "/opt/conda/lib/python3.9/site-packages/sklearn/metrics/_classification.py:1308: UndefinedMetricWarning: Precision and F-score are ill-defined and being set to 0.0 in labels with no predicted samples. Use `zero_division` parameter to control this behavior.\n",
      "  _warn_prf(average, modifier, msg_start, len(result))\n",
      "/opt/conda/lib/python3.9/site-packages/sklearn/metrics/_classification.py:1308: UndefinedMetricWarning: Precision and F-score are ill-defined and being set to 0.0 in labels with no predicted samples. Use `zero_division` parameter to control this behavior.\n",
      "  _warn_prf(average, modifier, msg_start, len(result))\n"
     ]
    }
   ],
   "source": [
    "from sklearn.metrics import classification_report\n",
    "\n",
    "print(classification_report(y_val_label, y_pred))"
   ]
  },
  {
   "cell_type": "markdown",
   "id": "418c5262",
   "metadata": {},
   "source": [
    "# case 3. 362장(웜) + 362장(쿨) 적용\n",
    "### 문제 웜톤 데이터를 어떻게 362만 가지고 올 것인가\n",
    "\n",
    "\n",
    "warm 폴더에는 1881개의 파일이 있음, 다 다운받아 그 중에서 랜덤으로 176개를 가지고 오려고 하기엔     \n",
    "시간이 너무 오래 걸릴 것 같아 우선 내림차순 정렬시 위에서부터 176개를 선택해 다운받음   \n",
    "\n",
    "\n",
    "warm_1 05번  + cool, cool_1 01 02 03 04 적용      \n",
    "warm_1(05번) 362장 + cool_1 186장 + cool 176장 \"총 724장\"      \n",
    "224*224 resize       \n",
    "\n",
    "6:4 random state = 42      \n",
    "dense layer 2, softmax, categorical_crossentropy, y_train y_val -> 원핫인코딩      \n",
    "데이터 증강 0, epochs = 10, batch_size=32      "
   ]
  },
  {
   "cell_type": "code",
   "execution_count": 61,
   "id": "ce3579c8",
   "metadata": {},
   "outputs": [
    {
     "name": "stdout",
     "output_type": "stream",
     "text": [
      "학습데이터(x_train)의 이미지 개수는 724 입니다.\n",
      "x_train shape: (724, 224, 224, 3)\n",
      "y_train shape: (724,)\n"
     ]
    }
   ],
   "source": [
    "from PIL import Image\n",
    "\n",
    "def load_data(img_path, number_of_data=724):  # warm_1 362 + cool_1 186 + cool 176\n",
    "    # 웜톤 : 0, 쿨톤 : 1\n",
    "    img_size=224\n",
    "    color=3\n",
    "    #이미지 데이터와 라벨(웜톤 : 0, 쿨톤 : 1) 데이터를 담을 행렬(matrix) 영역을 생성합니다.\n",
    "    imgs=np.zeros(number_of_data*img_size*img_size*color,dtype=np.int32).reshape(number_of_data,img_size,img_size,color)\n",
    "    labels=np.zeros(number_of_data,dtype=np.int32)\n",
    "\n",
    "    idx=0\n",
    "    warm_files = list(glob.iglob(img_path + '/warm_1/*.jpg')) + list(glob.iglob(img_path + '/warm_1/*.JPG'))     \n",
    "    # 리스트에서 무작위로 362개 선택\n",
    "    warm_files = random.sample(warm_files, 362)\n",
    "    for file in warm_files:\n",
    "        img = Image.open(file)  # 이미지 열기\n",
    "        img = img.resize((img_size, img_size))  # 이미지 크기 조정\n",
    "        img = np.array(img, dtype=np.int32)\n",
    "        imgs[idx,:,:,:]=img    # 데이터 영역에 이미지 행렬을 복사\n",
    "        labels[idx]=0   # 웜톤 : 0\n",
    "        idx=idx+1\n",
    "\n",
    "    cool_files = (list(glob.iglob(img_path + '/cool_1/*.jpg')) + \n",
    "              list(glob.iglob(img_path + '/cool_1/*.JPG')) +\n",
    "              list(glob.iglob(img_path + '/cool/*.jpg')) + \n",
    "              list(glob.iglob(img_path + '/cool/*.JPG')))\n",
    "    for file in cool_files:\n",
    "        img = Image.open(file)  # 이미지 열기\n",
    "        img = img.resize((img_size, img_size))  # 이미지 크기 조정\n",
    "        img = np.array(img, dtype=np.int32)\n",
    "        imgs[idx,:,:,:]=img    # 데이터 영역에 이미지 행렬을 복사\n",
    "        labels[idx]=1   # 쿨톤 : 1\n",
    "        idx=idx+1  \n",
    "    \n",
    "    print(\"학습데이터(x_train)의 이미지 개수는\", idx,\"입니다.\")\n",
    "    return imgs, labels\n",
    "\n",
    "image_dir_path = os.getenv(\"HOME\") + \"/aiffel/aiffelthon\"\n",
    "(x_train, y_train)=load_data(image_dir_path)\n",
    "\n",
    "print(\"x_train shape: {}\".format(x_train.shape))\n",
    "print(\"y_train shape: {}\".format(y_train.shape))"
   ]
  },
  {
   "cell_type": "markdown",
   "id": "16285eca",
   "metadata": {},
   "source": [
    "## train data, validation data 나누기, 정규화"
   ]
  },
  {
   "cell_type": "code",
   "execution_count": 62,
   "id": "d67316f3",
   "metadata": {},
   "outputs": [],
   "source": [
    "# x_train과 y_train을 훈련 세트와 검증 세트로 분할\n",
    "x_train, x_val, y_train, y_val = train_test_split(x_train, y_train, test_size=0.4, random_state=42)"
   ]
  },
  {
   "cell_type": "code",
   "execution_count": 63,
   "id": "c746998d",
   "metadata": {},
   "outputs": [],
   "source": [
    "x_train = x_train.astype('float32')\n",
    "x_val = x_val.astype('float32')"
   ]
  },
  {
   "cell_type": "code",
   "execution_count": 64,
   "id": "2b180102",
   "metadata": {},
   "outputs": [
    {
     "name": "stdout",
     "output_type": "stream",
     "text": [
      "x_train shape: (434, 224, 224, 3)\n",
      "y_train shape: (434,)\n",
      "x_val shape: (290, 224, 224, 3)\n",
      "y_val shape: (290,)\n"
     ]
    }
   ],
   "source": [
    "print(\"x_train shape: {}\".format(x_train.shape))\n",
    "print(\"y_train shape: {}\".format(y_train.shape))\n",
    "print(\"x_val shape: {}\".format(x_val.shape))\n",
    "print(\"y_val shape: {}\".format(y_val.shape))"
   ]
  },
  {
   "cell_type": "markdown",
   "id": "651024c5",
   "metadata": {},
   "source": [
    "## 데이터 증강"
   ]
  },
  {
   "cell_type": "code",
   "execution_count": 65,
   "id": "f1119e7d",
   "metadata": {},
   "outputs": [],
   "source": [
    "from tensorflow.keras.preprocessing.image import ImageDataGenerator\n",
    "\n",
    "# 데이터 증강을 위한 ImageDataGenerator 인스턴스 생성\n",
    "datagen = ImageDataGenerator(\n",
    "    rescale=1./255,        # 이미지 픽셀 값을 [0,1] 범위로 스케일링\n",
    "    rotation_range=20,     # 0-20도 범위에서 랜덤하게 이미지를 회전\n",
    "    width_shift_range=0.2, # 이미지를 수평으로 랜덤하게 이동 (전체 너비의 20% 내에서)\n",
    "    height_shift_range=0.2,# 이미지를 수직으로 랜덤하게 이동 (전체 높이의 20% 내에서)\n",
    "    horizontal_flip=True   # 이미지를 랜덤하게 수평으로 뒤집기\n",
    ")\n",
    "\n",
    "# ImageDataGenerator를 학습 데이터에 적용\n",
    "datagen.fit(x_train)"
   ]
  },
  {
   "cell_type": "markdown",
   "id": "be62686a",
   "metadata": {},
   "source": [
    "## MobileNetV2 모델 쌓기 "
   ]
  },
  {
   "cell_type": "code",
   "execution_count": 66,
   "id": "62283e1c",
   "metadata": {},
   "outputs": [],
   "source": [
    "# MobileNetV2 모델 불러오기\n",
    "base_model = MobileNetV2(weights='imagenet', include_top=False, input_shape=(224, 224, 3))\n",
    "\n",
    "# 새로운 모델 생성\n",
    "model = Sequential()\n",
    "model.add(base_model)  # MobileNetV2를 기본 모델로 추가\n",
    "model.add(Flatten())   # 피처를 1D 벡터로 평탄화\n",
    "model.add(Dense(2, activation='softmax'))  # 출력 레이어 추가"
   ]
  },
  {
   "cell_type": "code",
   "execution_count": 67,
   "id": "f2b732d4",
   "metadata": {},
   "outputs": [
    {
     "name": "stdout",
     "output_type": "stream",
     "text": [
      "Model: \"sequential_3\"\n",
      "_________________________________________________________________\n",
      "Layer (type)                 Output Shape              Param #   \n",
      "=================================================================\n",
      "mobilenetv2_1.00_224 (Functi (None, 7, 7, 1280)        2257984   \n",
      "_________________________________________________________________\n",
      "flatten_3 (Flatten)          (None, 62720)             0         \n",
      "_________________________________________________________________\n",
      "dense_3 (Dense)              (None, 2)                 125442    \n",
      "=================================================================\n",
      "Total params: 2,383,426\n",
      "Trainable params: 2,349,314\n",
      "Non-trainable params: 34,112\n",
      "_________________________________________________________________\n"
     ]
    }
   ],
   "source": [
    "model.summary()"
   ]
  },
  {
   "cell_type": "code",
   "execution_count": 70,
   "id": "94877b07",
   "metadata": {},
   "outputs": [
    {
     "data": {
      "text/plain": [
       "array([0, 1, 1, 0, 1, 1, 0, 0, 0, 1, 0, 0, 1, 0, 1, 1, 1, 1, 0, 1, 0, 0,\n",
       "       1, 0, 0, 1, 1, 1, 0, 0, 0, 0, 0, 0, 1, 0, 1, 0, 0, 1, 0, 0, 0, 1,\n",
       "       0, 1, 0, 1, 1, 1, 0, 1, 0, 1, 0, 0, 1, 0, 1, 1, 0, 1, 0, 0, 0, 1,\n",
       "       0, 0, 0, 0, 0, 0, 1, 0, 0, 1, 0, 0, 1, 1, 1, 0, 1, 1, 1, 0, 1, 1,\n",
       "       0, 0, 0, 0, 1, 1, 0, 0, 1, 1, 1, 1, 1, 0, 0, 0, 1, 0, 0, 0, 0, 0,\n",
       "       1, 0, 1, 1, 0, 0, 0, 1, 1, 0, 0, 1, 1, 0, 0, 0, 0, 0, 1, 0, 0, 1,\n",
       "       0, 0, 0, 1, 1, 0, 0, 1, 1, 0, 1, 1, 0, 1, 0, 1, 1, 1, 1, 0, 0, 0,\n",
       "       1, 0, 0, 0, 1, 0, 0, 0, 0, 1, 0, 0, 1, 1, 0, 0, 0, 0, 0, 1, 1, 1,\n",
       "       0, 0, 1, 1, 0, 0, 0, 0, 1, 0, 0, 0, 1, 0, 0, 1, 1, 1, 0, 1, 0, 1,\n",
       "       1, 1, 1, 0, 1, 1, 0, 1, 1, 1, 0, 0, 0, 1, 0, 1, 1, 1, 1, 0, 0, 1,\n",
       "       0, 0, 1, 0, 1, 1, 0, 0, 0, 1, 0, 1, 1, 1, 1, 1, 0, 0, 0, 0, 0, 0,\n",
       "       0, 1, 0, 0, 0, 1, 0, 0, 1, 1, 1, 1, 0, 1, 1, 1, 0, 0, 0, 1, 0, 1,\n",
       "       1, 1, 1, 1, 0, 1, 0, 0, 0, 0, 1, 1, 1, 1, 0, 1, 0, 1, 0, 1, 0, 0,\n",
       "       1, 1, 0, 0], dtype=int32)"
      ]
     },
     "execution_count": 70,
     "metadata": {},
     "output_type": "execute_result"
    }
   ],
   "source": [
    "y_val"
   ]
  },
  {
   "cell_type": "code",
   "execution_count": 71,
   "id": "1be03912",
   "metadata": {},
   "outputs": [],
   "source": [
    "from tensorflow.keras.utils import to_categorical\n",
    "\n",
    "# 레이블을 원-핫 인코딩 형태로 변환\n",
    "y_train = to_categorical(y_train)\n",
    "y_val = to_categorical(y_val)"
   ]
  },
  {
   "cell_type": "code",
   "execution_count": 72,
   "id": "170a0f16",
   "metadata": {},
   "outputs": [
    {
     "data": {
      "text/plain": [
       "array([[1., 0.],\n",
       "       [0., 1.],\n",
       "       [0., 1.],\n",
       "       [1., 0.],\n",
       "       [0., 1.],\n",
       "       [0., 1.],\n",
       "       [1., 0.],\n",
       "       [1., 0.],\n",
       "       [1., 0.],\n",
       "       [0., 1.],\n",
       "       [1., 0.],\n",
       "       [1., 0.],\n",
       "       [0., 1.],\n",
       "       [1., 0.],\n",
       "       [0., 1.],\n",
       "       [0., 1.],\n",
       "       [0., 1.],\n",
       "       [0., 1.],\n",
       "       [1., 0.],\n",
       "       [0., 1.],\n",
       "       [1., 0.],\n",
       "       [1., 0.],\n",
       "       [0., 1.],\n",
       "       [1., 0.],\n",
       "       [1., 0.],\n",
       "       [0., 1.],\n",
       "       [0., 1.],\n",
       "       [0., 1.],\n",
       "       [1., 0.],\n",
       "       [1., 0.],\n",
       "       [1., 0.],\n",
       "       [1., 0.],\n",
       "       [1., 0.],\n",
       "       [1., 0.],\n",
       "       [0., 1.],\n",
       "       [1., 0.],\n",
       "       [0., 1.],\n",
       "       [1., 0.],\n",
       "       [1., 0.],\n",
       "       [0., 1.],\n",
       "       [1., 0.],\n",
       "       [1., 0.],\n",
       "       [1., 0.],\n",
       "       [0., 1.],\n",
       "       [1., 0.],\n",
       "       [0., 1.],\n",
       "       [1., 0.],\n",
       "       [0., 1.],\n",
       "       [0., 1.],\n",
       "       [0., 1.],\n",
       "       [1., 0.],\n",
       "       [0., 1.],\n",
       "       [1., 0.],\n",
       "       [0., 1.],\n",
       "       [1., 0.],\n",
       "       [1., 0.],\n",
       "       [0., 1.],\n",
       "       [1., 0.],\n",
       "       [0., 1.],\n",
       "       [0., 1.],\n",
       "       [1., 0.],\n",
       "       [0., 1.],\n",
       "       [1., 0.],\n",
       "       [1., 0.],\n",
       "       [1., 0.],\n",
       "       [0., 1.],\n",
       "       [1., 0.],\n",
       "       [1., 0.],\n",
       "       [1., 0.],\n",
       "       [1., 0.],\n",
       "       [1., 0.],\n",
       "       [1., 0.],\n",
       "       [0., 1.],\n",
       "       [1., 0.],\n",
       "       [1., 0.],\n",
       "       [0., 1.],\n",
       "       [1., 0.],\n",
       "       [1., 0.],\n",
       "       [0., 1.],\n",
       "       [0., 1.],\n",
       "       [0., 1.],\n",
       "       [1., 0.],\n",
       "       [0., 1.],\n",
       "       [0., 1.],\n",
       "       [0., 1.],\n",
       "       [1., 0.],\n",
       "       [0., 1.],\n",
       "       [0., 1.],\n",
       "       [1., 0.],\n",
       "       [1., 0.],\n",
       "       [1., 0.],\n",
       "       [1., 0.],\n",
       "       [0., 1.],\n",
       "       [0., 1.],\n",
       "       [1., 0.],\n",
       "       [1., 0.],\n",
       "       [0., 1.],\n",
       "       [0., 1.],\n",
       "       [0., 1.],\n",
       "       [0., 1.],\n",
       "       [0., 1.],\n",
       "       [1., 0.],\n",
       "       [1., 0.],\n",
       "       [1., 0.],\n",
       "       [0., 1.],\n",
       "       [1., 0.],\n",
       "       [1., 0.],\n",
       "       [1., 0.],\n",
       "       [1., 0.],\n",
       "       [1., 0.],\n",
       "       [0., 1.],\n",
       "       [1., 0.],\n",
       "       [0., 1.],\n",
       "       [0., 1.],\n",
       "       [1., 0.],\n",
       "       [1., 0.],\n",
       "       [1., 0.],\n",
       "       [0., 1.],\n",
       "       [0., 1.],\n",
       "       [1., 0.],\n",
       "       [1., 0.],\n",
       "       [0., 1.],\n",
       "       [0., 1.],\n",
       "       [1., 0.],\n",
       "       [1., 0.],\n",
       "       [1., 0.],\n",
       "       [1., 0.],\n",
       "       [1., 0.],\n",
       "       [0., 1.],\n",
       "       [1., 0.],\n",
       "       [1., 0.],\n",
       "       [0., 1.],\n",
       "       [1., 0.],\n",
       "       [1., 0.],\n",
       "       [1., 0.],\n",
       "       [0., 1.],\n",
       "       [0., 1.],\n",
       "       [1., 0.],\n",
       "       [1., 0.],\n",
       "       [0., 1.],\n",
       "       [0., 1.],\n",
       "       [1., 0.],\n",
       "       [0., 1.],\n",
       "       [0., 1.],\n",
       "       [1., 0.],\n",
       "       [0., 1.],\n",
       "       [1., 0.],\n",
       "       [0., 1.],\n",
       "       [0., 1.],\n",
       "       [0., 1.],\n",
       "       [0., 1.],\n",
       "       [1., 0.],\n",
       "       [1., 0.],\n",
       "       [1., 0.],\n",
       "       [0., 1.],\n",
       "       [1., 0.],\n",
       "       [1., 0.],\n",
       "       [1., 0.],\n",
       "       [0., 1.],\n",
       "       [1., 0.],\n",
       "       [1., 0.],\n",
       "       [1., 0.],\n",
       "       [1., 0.],\n",
       "       [0., 1.],\n",
       "       [1., 0.],\n",
       "       [1., 0.],\n",
       "       [0., 1.],\n",
       "       [0., 1.],\n",
       "       [1., 0.],\n",
       "       [1., 0.],\n",
       "       [1., 0.],\n",
       "       [1., 0.],\n",
       "       [1., 0.],\n",
       "       [0., 1.],\n",
       "       [0., 1.],\n",
       "       [0., 1.],\n",
       "       [1., 0.],\n",
       "       [1., 0.],\n",
       "       [0., 1.],\n",
       "       [0., 1.],\n",
       "       [1., 0.],\n",
       "       [1., 0.],\n",
       "       [1., 0.],\n",
       "       [1., 0.],\n",
       "       [0., 1.],\n",
       "       [1., 0.],\n",
       "       [1., 0.],\n",
       "       [1., 0.],\n",
       "       [0., 1.],\n",
       "       [1., 0.],\n",
       "       [1., 0.],\n",
       "       [0., 1.],\n",
       "       [0., 1.],\n",
       "       [0., 1.],\n",
       "       [1., 0.],\n",
       "       [0., 1.],\n",
       "       [1., 0.],\n",
       "       [0., 1.],\n",
       "       [0., 1.],\n",
       "       [0., 1.],\n",
       "       [0., 1.],\n",
       "       [1., 0.],\n",
       "       [0., 1.],\n",
       "       [0., 1.],\n",
       "       [1., 0.],\n",
       "       [0., 1.],\n",
       "       [0., 1.],\n",
       "       [0., 1.],\n",
       "       [1., 0.],\n",
       "       [1., 0.],\n",
       "       [1., 0.],\n",
       "       [0., 1.],\n",
       "       [1., 0.],\n",
       "       [0., 1.],\n",
       "       [0., 1.],\n",
       "       [0., 1.],\n",
       "       [0., 1.],\n",
       "       [1., 0.],\n",
       "       [1., 0.],\n",
       "       [0., 1.],\n",
       "       [1., 0.],\n",
       "       [1., 0.],\n",
       "       [0., 1.],\n",
       "       [1., 0.],\n",
       "       [0., 1.],\n",
       "       [0., 1.],\n",
       "       [1., 0.],\n",
       "       [1., 0.],\n",
       "       [1., 0.],\n",
       "       [0., 1.],\n",
       "       [1., 0.],\n",
       "       [0., 1.],\n",
       "       [0., 1.],\n",
       "       [0., 1.],\n",
       "       [0., 1.],\n",
       "       [0., 1.],\n",
       "       [1., 0.],\n",
       "       [1., 0.],\n",
       "       [1., 0.],\n",
       "       [1., 0.],\n",
       "       [1., 0.],\n",
       "       [1., 0.],\n",
       "       [1., 0.],\n",
       "       [0., 1.],\n",
       "       [1., 0.],\n",
       "       [1., 0.],\n",
       "       [1., 0.],\n",
       "       [0., 1.],\n",
       "       [1., 0.],\n",
       "       [1., 0.],\n",
       "       [0., 1.],\n",
       "       [0., 1.],\n",
       "       [0., 1.],\n",
       "       [0., 1.],\n",
       "       [1., 0.],\n",
       "       [0., 1.],\n",
       "       [0., 1.],\n",
       "       [0., 1.],\n",
       "       [1., 0.],\n",
       "       [1., 0.],\n",
       "       [1., 0.],\n",
       "       [0., 1.],\n",
       "       [1., 0.],\n",
       "       [0., 1.],\n",
       "       [0., 1.],\n",
       "       [0., 1.],\n",
       "       [0., 1.],\n",
       "       [0., 1.],\n",
       "       [1., 0.],\n",
       "       [0., 1.],\n",
       "       [1., 0.],\n",
       "       [1., 0.],\n",
       "       [1., 0.],\n",
       "       [1., 0.],\n",
       "       [0., 1.],\n",
       "       [0., 1.],\n",
       "       [0., 1.],\n",
       "       [0., 1.],\n",
       "       [1., 0.],\n",
       "       [0., 1.],\n",
       "       [1., 0.],\n",
       "       [0., 1.],\n",
       "       [1., 0.],\n",
       "       [0., 1.],\n",
       "       [1., 0.],\n",
       "       [1., 0.],\n",
       "       [0., 1.],\n",
       "       [0., 1.],\n",
       "       [1., 0.],\n",
       "       [1., 0.]], dtype=float32)"
      ]
     },
     "execution_count": 72,
     "metadata": {},
     "output_type": "execute_result"
    }
   ],
   "source": [
    "y_val"
   ]
  },
  {
   "cell_type": "code",
   "execution_count": 73,
   "id": "8e07cdba",
   "metadata": {},
   "outputs": [
    {
     "name": "stdout",
     "output_type": "stream",
     "text": [
      "Epoch 1/10\n",
      "14/14 [==============================] - 11s 486ms/step - loss: 2.1349 - accuracy: 0.6889 - val_loss: 26.5241 - val_accuracy: 0.4586\n",
      "Epoch 2/10\n",
      "14/14 [==============================] - 5s 329ms/step - loss: 0.6399 - accuracy: 0.8502 - val_loss: 14.4185 - val_accuracy: 0.4586\n",
      "Epoch 3/10\n",
      "14/14 [==============================] - 5s 363ms/step - loss: 0.7166 - accuracy: 0.8779 - val_loss: 21.5731 - val_accuracy: 0.4586\n",
      "Epoch 4/10\n",
      "14/14 [==============================] - 5s 337ms/step - loss: 0.2765 - accuracy: 0.8894 - val_loss: 31.5332 - val_accuracy: 0.4586\n",
      "Epoch 5/10\n",
      "14/14 [==============================] - 5s 328ms/step - loss: 0.1440 - accuracy: 0.9493 - val_loss: 10.5757 - val_accuracy: 0.5517\n",
      "Epoch 6/10\n",
      "14/14 [==============================] - 5s 329ms/step - loss: 0.4359 - accuracy: 0.8963 - val_loss: 36.7481 - val_accuracy: 0.4586\n",
      "Epoch 7/10\n",
      "14/14 [==============================] - 5s 366ms/step - loss: 0.5128 - accuracy: 0.8664 - val_loss: 45.1090 - val_accuracy: 0.5414\n",
      "Epoch 8/10\n",
      "14/14 [==============================] - 5s 338ms/step - loss: 0.2477 - accuracy: 0.9078 - val_loss: 38.5846 - val_accuracy: 0.4552\n",
      "Epoch 9/10\n",
      "14/14 [==============================] - 5s 346ms/step - loss: 0.1541 - accuracy: 0.9309 - val_loss: 48.0861 - val_accuracy: 0.4586\n",
      "Epoch 10/10\n",
      "14/14 [==============================] - 5s 344ms/step - loss: 0.1587 - accuracy: 0.9378 - val_loss: 47.9078 - val_accuracy: 0.4586\n"
     ]
    },
    {
     "data": {
      "text/plain": [
       "<keras.callbacks.History at 0x7f7bd46cbdc0>"
      ]
     },
     "execution_count": 73,
     "metadata": {},
     "output_type": "execute_result"
    }
   ],
   "source": [
    "# 모델 컴파일\n",
    "model.compile(optimizer=Adam(), loss='categorical_crossentropy', metrics=['accuracy'])\n",
    "\n",
    "# 학습 데이터에 데이터 증강 적용\n",
    "train_generator = datagen.flow(x_train, y_train, batch_size=32)\n",
    "\n",
    "# 모델 학습\n",
    "model.fit(train_generator, epochs=10, validation_data=(x_val, y_val))"
   ]
  },
  {
   "cell_type": "markdown",
   "id": "14fdb4c9",
   "metadata": {},
   "source": [
    "## validation data에 대해 모델 평가"
   ]
  },
  {
   "cell_type": "code",
   "execution_count": 74,
   "id": "32da54dc",
   "metadata": {},
   "outputs": [
    {
     "name": "stdout",
     "output_type": "stream",
     "text": [
      "10/10 [==============================] - 0s 41ms/step - loss: 47.9078 - accuracy: 0.4586\n",
      "Test loss 47.9078, accuracy 45.86%\n"
     ]
    }
   ],
   "source": [
    "test_score=model.evaluate(x_val, y_val)\n",
    "print(\"Test loss {:.4f}, accuracy {:.2f}%\".format(test_score[0], test_score[1]*100))"
   ]
  },
  {
   "cell_type": "markdown",
   "id": "8e6c6b51",
   "metadata": {},
   "source": [
    "## 새로운 연예인 이미지로 확률이 어떻게 나오는지 확인"
   ]
  },
  {
   "cell_type": "code",
   "execution_count": 75,
   "id": "686a9687",
   "metadata": {},
   "outputs": [],
   "source": [
    "def load_and_preprocess_image(img_path):\n",
    "    # 이미지 불러오기\n",
    "    img = image.load_img(img_path, target_size=(224, 224))\n",
    "    # 이미지를 배열로 변환\n",
    "    img_array = image.img_to_array(img)\n",
    "    # 이미지 전처리 (스케일링 등)\n",
    "    img_array = preprocess_input(img_array)\n",
    "    return img_array"
   ]
  },
  {
   "cell_type": "code",
   "execution_count": 79,
   "id": "a6db88d6",
   "metadata": {},
   "outputs": [
    {
     "name": "stdout",
     "output_type": "stream",
     "text": [
      "[[0. 1.]]\n",
      "[[  0. 100.]]\n"
     ]
    }
   ],
   "source": [
    "# 새로운 이미지 불러오기 (예: 'new_image.jpg')\n",
    "new_image = load_and_preprocess_image('서현진.jpg')\n",
    "\n",
    "# 이미지를 모델의 입력 형태에 맞게 변환\n",
    "new_image = np.expand_dims(new_image, axis=0)\n",
    "\n",
    "# 이미지에 대한 예측 수행\n",
    "predictions = model.predict(new_image)\n",
    "\n",
    "# 예측 결과 출력\n",
    "print(predictions)\n",
    "\n",
    "# 확률을 퍼센트로 변환\n",
    "predictions_percent = predictions * 100\n",
    "\n",
    "# 예측 결과 출력\n",
    "print(predictions_percent)"
   ]
  },
  {
   "cell_type": "markdown",
   "id": "b1eadffd",
   "metadata": {},
   "source": [
    "# 한 줄 정리"
   ]
  },
  {
   "cell_type": "code",
   "execution_count": 204,
   "id": "a9f0a38f",
   "metadata": {},
   "outputs": [
    {
     "name": "stdout",
     "output_type": "stream",
     "text": [
      "Requirement already satisfied: IPython in /opt/conda/lib/python3.9/site-packages (7.28.0)\n",
      "Requirement already satisfied: setuptools>=18.5 in /opt/conda/lib/python3.9/site-packages (from IPython) (59.4.0)\n",
      "Requirement already satisfied: matplotlib-inline in /opt/conda/lib/python3.9/site-packages (from IPython) (0.1.3)\n",
      "Requirement already satisfied: backcall in /opt/conda/lib/python3.9/site-packages (from IPython) (0.2.0)\n",
      "Requirement already satisfied: pickleshare in /opt/conda/lib/python3.9/site-packages (from IPython) (0.7.5)\n",
      "Requirement already satisfied: pygments in /opt/conda/lib/python3.9/site-packages (from IPython) (2.10.0)\n",
      "Requirement already satisfied: jedi>=0.16 in /opt/conda/lib/python3.9/site-packages (from IPython) (0.18.1)\n",
      "Requirement already satisfied: traitlets>=4.2 in /opt/conda/lib/python3.9/site-packages (from IPython) (5.1.1)\n",
      "Requirement already satisfied: prompt-toolkit!=3.0.0,!=3.0.1,<3.1.0,>=2.0.0 in /opt/conda/lib/python3.9/site-packages (from IPython) (3.0.22)\n",
      "Requirement already satisfied: pexpect>4.3 in /opt/conda/lib/python3.9/site-packages (from IPython) (4.8.0)\n",
      "Requirement already satisfied: decorator in /opt/conda/lib/python3.9/site-packages (from IPython) (4.4.2)\n",
      "Requirement already satisfied: parso<0.9.0,>=0.8.0 in /opt/conda/lib/python3.9/site-packages (from jedi>=0.16->IPython) (0.8.3)\n",
      "Requirement already satisfied: ptyprocess>=0.5 in /opt/conda/lib/python3.9/site-packages (from pexpect>4.3->IPython) (0.7.0)\n",
      "Requirement already satisfied: wcwidth in /opt/conda/lib/python3.9/site-packages (from prompt-toolkit!=3.0.0,!=3.0.1,<3.1.0,>=2.0.0->IPython) (0.2.5)\n",
      "\u001b[33mWARNING: Running pip as the 'root' user can result in broken permissions and conflicting behaviour with the system package manager. It is recommended to use a virtual environment instead: https://pip.pypa.io/warnings/venv\u001b[0m\n"
     ]
    }
   ],
   "source": [
    "!pip install IPython # 주피터에 이미지를 넣기 위해 패키지 설치 \n",
    "from IPython.display import Image"
   ]
  },
  {
   "cell_type": "markdown",
   "id": "ba20830c",
   "metadata": {},
   "source": [
    "case 1.          \n",
    "\n",
    "05번만 적용      \n",
    "warm_1(05번) 490장 + cool_1 186장 \"총 676장\"     \n",
    "6:4 random state = 42      \n",
    "dense layer 1, sigmoid, binary_crossentropy     \n",
    "데이터 증강 0, epochs = 30, batch_size=32      \n",
    "confusion matrix, cla      \n",
    "\n",
    "**loss: 1.0410 - accuracy: 0.8081**      \n",
    "\n",
    "             precision    recall  f1-score   support     \n",
    "\n",
    "           0       0.82      0.96      0.88       203     \n",
    "           1       0.74      0.37      0.49        68     \n",
    "\n",
    "    accuracy                           0.81       271     \n",
    "   macro avg       0.78      0.66      0.69       271     \n",
    "weighted avg       0.80      0.81      0.78       271     \n",
    "\n",
    "-----------------------------------------------------------------------\n",
    "\n",
    "case 2.     \n",
    " \n",
    "05번만 적용      \n",
    "warm_1(05번) 490장 + cool_1 186장 \"총 676장\"      \n",
    "6:4 random state = 42      \n",
    "dense layer 2, softmax, categorical_crossentropy, y_train y_val -> 원핫인코딩     \n",
    "데이터 증강 0, epochs = 50, batch_size=32       \n",
    "\n",
    "**loss: 2.5657 - accuracy: 0.7491**      \n",
    "\n",
    "              precision    recall  f1-score   support      \n",
    "\n",
    "           0       0.75      1.00      0.86       203      \n",
    "           1       0.00      0.00      0.00        68       \n",
    "\n",
    "    accuracy                           0.75       271      \n",
    "   macro avg       0.37      0.50      0.43       271       \n",
    "weighted avg       0.56      0.75      0.64       271      \n",
    "\n",
    "-----------------------------------------------------------------------\n",
    "\n",
    "case 3.      \n",
    "\n",
    "warm_1(05번)에서 무작위 352장 + cool_1(05번) 186장 + cool(01~04번) 176장 = \"총 724장\"      \n",
    "6:4 random state = 42       \n",
    "dense layer 2, softmax, categorical_crossentropy      \n",
    "데이터 증강 0, epochs = 10, batch_size=32       \n",
    "\n",
    "**loss: 47.9078 - accuracy: 0.4586**      "
   ]
  },
  {
   "cell_type": "markdown",
   "id": "a4535896",
   "metadata": {},
   "source": [
    "# 그림과 함께 정리"
   ]
  },
  {
   "cell_type": "markdown",
   "id": "c0f81abc",
   "metadata": {},
   "source": [
    "## case 1         \n",
    "\n",
    "05번만 적용      \n",
    "warm_1(05번) 490장 + cool_1 186장 \"총 676장\"     \n",
    "6:4 random state = 42      \n",
    "dense layer 1, sigmoid, binary_crossentropy     \n",
    "데이터 증강 0, epochs = 30, batch_size=32      \n",
    "confusion matrix, cla      \n",
    "\n",
    "**loss: 1.0410 - accuracy: 0.8081**      \n",
    "\n",
    "             precision    recall  f1-score   support     \n",
    "\n",
    "           0       0.82      0.96      0.88       203     \n",
    "           1       0.74      0.37      0.49        68     \n",
    "\n",
    "    accuracy                           0.81       271     \n",
    "   macro avg       0.78      0.66      0.69       271     \n",
    "weighted avg       0.80      0.81      0.78       271   "
   ]
  },
  {
   "cell_type": "code",
   "execution_count": 205,
   "id": "a5285e13",
   "metadata": {},
   "outputs": [
    {
     "data": {
      "image/png": "[encoded data removed]",
      "text/plain": [
       "<IPython.core.display.Image object>"
      ]
     },
     "execution_count": 205,
     "metadata": {},
     "output_type": "execute_result"
    }
   ],
   "source": [
    "Image(\"07.PNG\")"
   ]
  },
  {
   "cell_type": "code",
   "execution_count": 206,
   "id": "0b7b22f6",
   "metadata": {},
   "outputs": [
    {
     "data": {
      "image/png": "[encoded data removed]",
      "text/plain": [
       "<IPython.core.display.Image object>"
      ]
     },
     "execution_count": 206,
     "metadata": {},
     "output_type": "execute_result"
    }
   ],
   "source": [
    "Image(\"08.PNG\")"
   ]
  },
  {
   "cell_type": "markdown",
   "id": "1b6b9680",
   "metadata": {},
   "source": [
    "## case 2.     \n",
    " \n",
    "05번만 적용      \n",
    "warm_1(05번) 490장 + cool_1 186장 \"총 676장\"      \n",
    "6:4 random state = 42      \n",
    "dense layer 2, softmax, categorical_crossentropy, y_train y_val -> 원핫인코딩     \n",
    "데이터 증강 0, epochs = 50, batch_size=32       \n",
    "\n",
    "**loss: 2.5657 - accuracy: 0.7491**      \n",
    "\n",
    "              precision    recall  f1-score   support      \n",
    "\n",
    "           0       0.75      1.00      0.86       203      \n",
    "           1       0.00      0.00      0.00        68       \n",
    "\n",
    "    accuracy                           0.75       271      \n",
    "   macro avg       0.37      0.50      0.43       271       \n",
    "weighted avg       0.56      0.75      0.64       271   "
   ]
  },
  {
   "cell_type": "code",
   "execution_count": 207,
   "id": "f9a00648",
   "metadata": {},
   "outputs": [
    {
     "data": {
      "image/png": "[encoded data removed]",
      "text/plain": [
       "<IPython.core.display.Image object>"
      ]
     },
     "execution_count": 207,
     "metadata": {},
     "output_type": "execute_result"
    }
   ],
   "source": [
    "Image(\"09.PNG\")"
   ]
  },
  {
   "cell_type": "code",
   "execution_count": 208,
   "id": "61f15c69",
   "metadata": {},
   "outputs": [
    {
     "data": {
      "image/png": "[encoded data removed]",
      "text/plain": [
       "<IPython.core.display.Image object>"
      ]
     },
     "execution_count": 208,
     "metadata": {},
     "output_type": "execute_result"
    }
   ],
   "source": [
    "Image(\"10.PNG\")"
   ]
  }
 ],
 "metadata": {
  "kernelspec": {
   "display_name": "Python 3 (ipykernel)",
   "language": "python",
   "name": "python3"
  },
  "language_info": {
   "codemirror_mode": {
    "name": "ipython",
    "version": 3
   },
   "file_extension": ".py",
   "mimetype": "text/x-python",
   "name": "python",
   "nbconvert_exporter": "python",
   "pygments_lexer": "ipython3",
   "version": "3.9.7"
  }
 },
 "nbformat": 4,
 "nbformat_minor": 5
}
