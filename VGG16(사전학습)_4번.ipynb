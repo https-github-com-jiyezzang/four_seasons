{
 "cells": [
  {
   "cell_type": "markdown",
   "id": "dbb0fc5c",
   "metadata": {},
   "source": [
    "# 사전학습된 VGG16"
   ]
  },
  {
   "cell_type": "markdown",
   "id": "4a5ed973",
   "metadata": {},
   "source": [
    "# 4번_분홍초록 전체 데이터"
   ]
  },
  {
   "cell_type": "code",
   "execution_count": 1,
   "id": "5f75ef0a",
   "metadata": {},
   "outputs": [],
   "source": [
    "# 1-1-1"
   ]
  },
  {
   "cell_type": "markdown",
   "id": "d03a97d2",
   "metadata": {},
   "source": [
    "## batch_size=16, epochs=30, learning rate=0.0001(네번째자리)"
   ]
  },
  {
   "cell_type": "markdown",
   "id": "909e986b",
   "metadata": {},
   "source": [
    "## (1) 라이브러리 및 데이터 불러오기"
   ]
  },
  {
   "cell_type": "code",
   "execution_count": 2,
   "id": "c0a9478e",
   "metadata": {},
   "outputs": [],
   "source": [
    "import tensorflow as tf\n",
    "from tensorflow.keras import layers, models\n",
    "from tensorflow.keras.applications import vgg16\n",
    "import matplotlib.pyplot as plt\n",
    "from sklearn.metrics import confusion_matrix\n",
    "import seaborn as sns\n",
    "\n",
    "import numpy as np\n",
    "import cv2\n",
    "import os\n",
    "import glob\n",
    "from PIL import Image\n",
    "import random"
   ]
  },
  {
   "cell_type": "code",
   "execution_count": 3,
   "id": "8850825a",
   "metadata": {},
   "outputs": [],
   "source": [
    "import random"
   ]
  },
  {
   "cell_type": "code",
   "execution_count": 48,
   "id": "9e8ba61f",
   "metadata": {},
   "outputs": [
    {
     "name": "stdout",
     "output_type": "stream",
     "text": [
      "학습데이터(x_train)의 이미지 개수는 978 입니다.\n",
      "x_train shape: (978, 224, 224, 3)\n",
      "y_train shape: (978,)\n"
     ]
    }
   ],
   "source": [
    "# 1번: warm_1 238 + cool_1 238 = 476\n",
    "# 2번: warm_1 238 + warm_2 336 + cool_1 238 + cool_2 336 = 1148\n",
    "# 3번: warm_1 740 + cool_1 238 = 978\n",
    "# 4번: warm_1 740 + cool_1 238 + warm_2 2307 + cool_2 336 = 3621\n",
    "\n",
    "def load_data(img_path, number_of_data=978):  \n",
    "    # 웜톤 : 0, 쿨톤 : 1\n",
    "    img_size=224\n",
    "    color=3\n",
    "    #이미지 데이터와 라벨(웜톤 : 0, 쿨톤 : 1) 데이터를 담을 행렬(matrix) 영역을 생성합니다.\n",
    "    imgs=np.zeros(number_of_data*img_size*img_size*color,dtype=np.int32).reshape(number_of_data,img_size,img_size,color)\n",
    "    labels=np.zeros(number_of_data,dtype=np.int32)\n",
    "\n",
    "    idx=0    \n",
    "    \n",
    "    warm1_files = list(glob.iglob(img_path + '/warm_1/*.jpg')) + list(glob.iglob(img_path + '/warm_1/*.JPG'))\n",
    "#     warm2_files = list(glob.iglob(img_path + '/warm_2/*.jpg')) + list(glob.iglob(img_path + '/warm_2/*.JPG'))\n",
    "\n",
    "    # 각 디렉토리에서 무작위로 선택\n",
    "    warm1_files = random.sample(warm1_files, 740)\n",
    "#     warm2_files = random.sample(warm2_files, 336)\n",
    "\n",
    "    # 두 리스트를 합침\n",
    "    warm_files = warm1_files \n",
    "#     + warm2_files\n",
    "\n",
    "    for file in warm_files:\n",
    "        img = Image.open(file)  # 이미지 열기\n",
    "        img = img.resize((img_size, img_size))  # 이미지 크기 조정\n",
    "        img = np.array(img, dtype=np.int32)\n",
    "        imgs[idx,:,:,:]=img    # 데이터 영역에 이미지 행렬을 복사\n",
    "        labels[idx]=0   # 웜톤 : 0\n",
    "        idx=idx+1\n",
    "\n",
    "                \n",
    "    cool_files = (list(glob.iglob(img_path + '/cool_1/*.jpg')) + list(glob.iglob(img_path + '/cool_1/*.JPG')))\n",
    "#               + list(glob.iglob(img_path + '/cool_2/*.jpg')) + list(glob.iglob(img_path + '/cool_2/*.JPG')))\n",
    "    \n",
    "    for file in cool_files:\n",
    "        img = Image.open(file)  # 이미지 열기\n",
    "        img = img.resize((img_size, img_size))  # 이미지 크기 조정\n",
    "        img = np.array(img, dtype=np.int32)\n",
    "        imgs[idx,:,:,:]=img    # 데이터 영역에 이미지 행렬을 복사\n",
    "        labels[idx]=1   # 쿨톤 : 1\n",
    "        idx=idx+1  \n",
    "    \n",
    "    print(\"학습데이터(x_train)의 이미지 개수는\", idx,\"입니다.\")\n",
    "    return imgs, labels\n",
    "\n",
    "image_dir_path = os.getenv(\"HOME\") + \"/aiffel/project/first-repository/data/DataSet_final/content/drive/MyDrive/사계절_연예인 이미지 데이터셋/train data\"\n",
    "(x_train, y_train)=load_data(image_dir_path)\n",
    "\n",
    "print(\"x_train shape: {}\".format(x_train.shape))\n",
    "print(\"y_train shape: {}\".format(y_train.shape))"
   ]
  },
  {
   "cell_type": "markdown",
   "id": "a29f67e4",
   "metadata": {},
   "source": [
    "## (2) 정규화"
   ]
  },
  {
   "cell_type": "code",
   "execution_count": 49,
   "id": "45c593b0",
   "metadata": {},
   "outputs": [],
   "source": [
    "x_train = x_train / 255.0"
   ]
  },
  {
   "cell_type": "markdown",
   "id": "c2b189b4",
   "metadata": {},
   "source": [
    "## (3) train, val 분리하기"
   ]
  },
  {
   "cell_type": "code",
   "execution_count": 50,
   "id": "e39cc1d6",
   "metadata": {},
   "outputs": [
    {
     "name": "stdout",
     "output_type": "stream",
     "text": [
      "x_train:  (684, 224, 224, 3)\n",
      "y_train:  (684,)\n",
      "x_val:  (294, 224, 224, 3)\n",
      "y_val:  (294,)\n"
     ]
    }
   ],
   "source": [
    "from sklearn.model_selection import train_test_split\n",
    "\n",
    "x_train, x_val, y_train, y_val = train_test_split(x_train,\n",
    "                                                  y_train,\n",
    "                                                  test_size=0.3,\n",
    "                                                  random_state=43)\n",
    "\n",
    "print(\"x_train: \", x_train.shape)\n",
    "print(\"y_train: \", y_train.shape)\n",
    "print(\"x_val: \", x_val.shape)\n",
    "print(\"y_val: \", y_val.shape)"
   ]
  },
  {
   "cell_type": "markdown",
   "id": "1dc575fc",
   "metadata": {},
   "source": [
    "## (4) 모델 정의 및 컴파일"
   ]
  },
  {
   "cell_type": "code",
   "execution_count": 51,
   "id": "a6f4ec53",
   "metadata": {},
   "outputs": [],
   "source": [
    "from tensorflow.keras.models import Sequential\n",
    "from tensorflow.keras.layers import Dense, Flatten\n",
    "from tensorflow.keras.optimizers import Adam"
   ]
  },
  {
   "cell_type": "code",
   "execution_count": 52,
   "id": "10b1bca9",
   "metadata": {
    "scrolled": true
   },
   "outputs": [
    {
     "name": "stdout",
     "output_type": "stream",
     "text": [
      "Model: \"model_3\"\n",
      "_________________________________________________________________\n",
      "Layer (type)                 Output Shape              Param #   \n",
      "=================================================================\n",
      "input_4 (InputLayer)         [(None, 224, 224, 3)]     0         \n",
      "_________________________________________________________________\n",
      "block1_conv1 (Conv2D)        (None, 224, 224, 64)      1792      \n",
      "_________________________________________________________________\n",
      "block1_conv2 (Conv2D)        (None, 224, 224, 64)      36928     \n",
      "_________________________________________________________________\n",
      "block1_pool (MaxPooling2D)   (None, 112, 112, 64)      0         \n",
      "_________________________________________________________________\n",
      "block2_conv1 (Conv2D)        (None, 112, 112, 128)     73856     \n",
      "_________________________________________________________________\n",
      "block2_conv2 (Conv2D)        (None, 112, 112, 128)     147584    \n",
      "_________________________________________________________________\n",
      "block2_pool (MaxPooling2D)   (None, 56, 56, 128)       0         \n",
      "_________________________________________________________________\n",
      "block3_conv1 (Conv2D)        (None, 56, 56, 256)       295168    \n",
      "_________________________________________________________________\n",
      "block3_conv2 (Conv2D)        (None, 56, 56, 256)       590080    \n",
      "_________________________________________________________________\n",
      "block3_conv3 (Conv2D)        (None, 56, 56, 256)       590080    \n",
      "_________________________________________________________________\n",
      "block3_pool (MaxPooling2D)   (None, 28, 28, 256)       0         \n",
      "_________________________________________________________________\n",
      "block4_conv1 (Conv2D)        (None, 28, 28, 512)       1180160   \n",
      "_________________________________________________________________\n",
      "block4_conv2 (Conv2D)        (None, 28, 28, 512)       2359808   \n",
      "_________________________________________________________________\n",
      "block4_conv3 (Conv2D)        (None, 28, 28, 512)       2359808   \n",
      "_________________________________________________________________\n",
      "block4_pool (MaxPooling2D)   (None, 14, 14, 512)       0         \n",
      "_________________________________________________________________\n",
      "block5_conv1 (Conv2D)        (None, 14, 14, 512)       2359808   \n",
      "_________________________________________________________________\n",
      "block5_conv2 (Conv2D)        (None, 14, 14, 512)       2359808   \n",
      "_________________________________________________________________\n",
      "block5_conv3 (Conv2D)        (None, 14, 14, 512)       2359808   \n",
      "_________________________________________________________________\n",
      "block5_pool (MaxPooling2D)   (None, 7, 7, 512)         0         \n",
      "_________________________________________________________________\n",
      "flatten_3 (Flatten)          (None, 25088)             0         \n",
      "_________________________________________________________________\n",
      "dense_12 (Dense)             (None, 512)               12845568  \n",
      "_________________________________________________________________\n",
      "dense_13 (Dense)             (None, 64)                32832     \n",
      "_________________________________________________________________\n",
      "dense_14 (Dense)             (None, 32)                2080      \n",
      "_________________________________________________________________\n",
      "dense_15 (Dense)             (None, 2)                 66        \n",
      "=================================================================\n",
      "Total params: 27,595,234\n",
      "Trainable params: 27,595,234\n",
      "Non-trainable params: 0\n",
      "_________________________________________________________________\n"
     ]
    }
   ],
   "source": [
    "from tensorflow.keras.applications import VGG16\n",
    "\n",
    "# VGG16 모델 가져오기\n",
    "vgg_model = VGG16(weights = 'imagenet', include_top=False, input_shape=(224, 224, 3))\n",
    "\n",
    "x = Flatten()(vgg_model.output) \n",
    "x = Dense(512, activation='relu')(x)\n",
    "x = Dense(64, activation='relu')(x)\n",
    "x = Dense(32, activation='relu')(x)\n",
    "output = Dense(2, activation='softmax')(x)\n",
    "\n",
    "# 새로운 모델 정의\n",
    "model = tf.keras.models.Model(inputs=vgg_model.input, outputs=output)\n",
    "model.summary()"
   ]
  },
  {
   "cell_type": "code",
   "execution_count": 53,
   "id": "0cb5d592",
   "metadata": {},
   "outputs": [],
   "source": [
    "learning_rate = 0.0001\n",
    "\n",
    "adam = tf.keras.optimizers.Adam(learning_rate=learning_rate)\n",
    "early_stopping_callback = tf.keras.callbacks.EarlyStopping(\n",
    "    monitor='val_loss',\n",
    "    patience=10,\n",
    "    verbose=1,\n",
    "    restore_best_weights=True,\n",
    ")\n",
    "\n",
    "model_checkpoint_callback = tf.keras.callbacks.ModelCheckpoint(\n",
    "    './check/VGG16(사전학습)/3번/1-1/model_{epoch:02d}.h5',\n",
    "    monitor='val_loss',\n",
    "    verbose=1,\n",
    "    save_best_only=True,\n",
    "    save_weights_only=False,\n",
    "    mode='min',\n",
    "    save_freq='epoch',    \n",
    ")\n",
    "# 모델 컴파일\n",
    "model.compile(optimizer= adam,\n",
    "              loss='sparse_categorical_crossentropy', \n",
    "              metrics=['accuracy'])"
   ]
  },
  {
   "cell_type": "markdown",
   "id": "f95454fd",
   "metadata": {},
   "source": [
    "## (5) 모델 학습하기"
   ]
  },
  {
   "cell_type": "code",
   "execution_count": 54,
   "id": "63276086",
   "metadata": {
    "scrolled": true
   },
   "outputs": [
    {
     "name": "stdout",
     "output_type": "stream",
     "text": [
      "Epoch 1/50\n",
      "43/43 [==============================] - 19s 427ms/step - loss: 0.5485 - accuracy: 0.7471 - val_loss: 0.6647 - val_accuracy: 0.5612\n",
      "\n",
      "Epoch 00001: val_loss improved from inf to 0.66470, saving model to ./check/VGG16(사전학습)/3번/1-1/model_01.h5\n",
      "Epoch 2/50\n",
      "43/43 [==============================] - 11s 255ms/step - loss: 0.3972 - accuracy: 0.8187 - val_loss: 0.3012 - val_accuracy: 0.8844\n",
      "\n",
      "Epoch 00002: val_loss improved from 0.66470 to 0.30121, saving model to ./check/VGG16(사전학습)/3번/1-1/model_02.h5\n",
      "Epoch 3/50\n",
      "43/43 [==============================] - 11s 246ms/step - loss: 0.3964 - accuracy: 0.8246 - val_loss: 0.5219 - val_accuracy: 0.7857\n",
      "\n",
      "Epoch 00003: val_loss did not improve from 0.30121\n",
      "Epoch 4/50\n",
      "43/43 [==============================] - 10s 242ms/step - loss: 0.3452 - accuracy: 0.8392 - val_loss: 0.4053 - val_accuracy: 0.8299\n",
      "\n",
      "Epoch 00004: val_loss did not improve from 0.30121\n",
      "Epoch 5/50\n",
      "43/43 [==============================] - 10s 242ms/step - loss: 0.2973 - accuracy: 0.8670 - val_loss: 0.2768 - val_accuracy: 0.8741\n",
      "\n",
      "Epoch 00005: val_loss improved from 0.30121 to 0.27684, saving model to ./check/VGG16(사전학습)/3번/1-1/model_05.h5\n",
      "Epoch 6/50\n",
      "43/43 [==============================] - 10s 241ms/step - loss: 0.3211 - accuracy: 0.8553 - val_loss: 0.5503 - val_accuracy: 0.8265\n",
      "\n",
      "Epoch 00006: val_loss did not improve from 0.27684\n",
      "Epoch 7/50\n",
      "43/43 [==============================] - 10s 242ms/step - loss: 0.3130 - accuracy: 0.8670 - val_loss: 0.4142 - val_accuracy: 0.7449\n",
      "\n",
      "Epoch 00007: val_loss did not improve from 0.27684\n",
      "Epoch 8/50\n",
      "43/43 [==============================] - 10s 244ms/step - loss: 0.2893 - accuracy: 0.8728 - val_loss: 0.3303 - val_accuracy: 0.8095\n",
      "\n",
      "Epoch 00008: val_loss did not improve from 0.27684\n",
      "Epoch 9/50\n",
      "43/43 [==============================] - 10s 245ms/step - loss: 0.2263 - accuracy: 0.9050 - val_loss: 0.1935 - val_accuracy: 0.9286\n",
      "\n",
      "Epoch 00009: val_loss improved from 0.27684 to 0.19352, saving model to ./check/VGG16(사전학습)/3번/1-1/model_09.h5\n",
      "Epoch 10/50\n",
      "43/43 [==============================] - 11s 246ms/step - loss: 0.1612 - accuracy: 0.9459 - val_loss: 0.2448 - val_accuracy: 0.9082\n",
      "\n",
      "Epoch 00010: val_loss did not improve from 0.19352\n",
      "Epoch 11/50\n",
      "43/43 [==============================] - 10s 244ms/step - loss: 0.2121 - accuracy: 0.8977 - val_loss: 0.2662 - val_accuracy: 0.8980\n",
      "\n",
      "Epoch 00011: val_loss did not improve from 0.19352\n",
      "Epoch 12/50\n",
      "43/43 [==============================] - 10s 244ms/step - loss: 0.1442 - accuracy: 0.9386 - val_loss: 0.2633 - val_accuracy: 0.8980\n",
      "\n",
      "Epoch 00012: val_loss did not improve from 0.19352\n",
      "Epoch 13/50\n",
      "43/43 [==============================] - 10s 243ms/step - loss: 0.1313 - accuracy: 0.9503 - val_loss: 0.3500 - val_accuracy: 0.8878\n",
      "\n",
      "Epoch 00013: val_loss did not improve from 0.19352\n",
      "Epoch 14/50\n",
      "43/43 [==============================] - 10s 243ms/step - loss: 0.1004 - accuracy: 0.9620 - val_loss: 0.2461 - val_accuracy: 0.9286\n",
      "\n",
      "Epoch 00014: val_loss did not improve from 0.19352\n",
      "Epoch 15/50\n",
      "43/43 [==============================] - 10s 243ms/step - loss: 0.0854 - accuracy: 0.9664 - val_loss: 0.3735 - val_accuracy: 0.9218\n",
      "\n",
      "Epoch 00015: val_loss did not improve from 0.19352\n",
      "Epoch 16/50\n",
      "43/43 [==============================] - 10s 243ms/step - loss: 0.0643 - accuracy: 0.9810 - val_loss: 0.3401 - val_accuracy: 0.9014\n",
      "\n",
      "Epoch 00016: val_loss did not improve from 0.19352\n",
      "Epoch 17/50\n",
      "43/43 [==============================] - 10s 243ms/step - loss: 0.0740 - accuracy: 0.9722 - val_loss: 0.3216 - val_accuracy: 0.9184\n",
      "\n",
      "Epoch 00017: val_loss did not improve from 0.19352\n",
      "Epoch 18/50\n",
      "43/43 [==============================] - 10s 243ms/step - loss: 0.0416 - accuracy: 0.9795 - val_loss: 0.3528 - val_accuracy: 0.9014\n",
      "\n",
      "Epoch 00018: val_loss did not improve from 0.19352\n",
      "Epoch 19/50\n",
      "43/43 [==============================] - 10s 243ms/step - loss: 0.0502 - accuracy: 0.9781 - val_loss: 0.7760 - val_accuracy: 0.8095\n",
      "\n",
      "Epoch 00019: val_loss did not improve from 0.19352\n",
      "Restoring model weights from the end of the best epoch.\n",
      "Epoch 00019: early stopping\n"
     ]
    }
   ],
   "source": [
    "history = model.fit(x_train, y_train, batch_size=16, epochs=50, validation_data=(x_val, y_val),callbacks=[model_checkpoint_callback, early_stopping_callback])"
   ]
  },
  {
   "cell_type": "markdown",
   "id": "83a8af77",
   "metadata": {},
   "source": [
    "## (6) 예측하기"
   ]
  },
  {
   "cell_type": "code",
   "execution_count": 56,
   "id": "117f6e80",
   "metadata": {},
   "outputs": [
    {
     "data": {
      "image/png": "[encoded data removed]",
      "text/plain": [
       "<Figure size 432x288 with 1 Axes>"
      ]
     },
     "metadata": {
      "needs_background": "light"
     },
     "output_type": "display_data"
    },
    {
     "data": {
      "image/png": "[encoded data removed]",
      "text/plain": [
       "<Figure size 432x288 with 1 Axes>"
      ]
     },
     "metadata": {
      "needs_background": "light"
     },
     "output_type": "display_data"
    }
   ],
   "source": [
    "import matplotlib.pyplot as plt\n",
    "\n",
    "# 정확도 시각화\n",
    "plt.plot(history.history['accuracy'])\n",
    "plt.plot(history.history['val_accuracy'])\n",
    "plt.title('Model accuracy')\n",
    "plt.xlabel('Epochs')\n",
    "plt.ylabel('Accuracy')\n",
    "plt.legend(['Train', 'Validation'], loc='upper left')\n",
    "plt.show()\n",
    "\n",
    "# 손실값 시각화\n",
    "plt.plot(history.history['loss'])\n",
    "plt.plot(history.history['val_loss'])\n",
    "plt.title('Model loss')\n",
    "plt.xlabel('Epochs')\n",
    "plt.ylabel('Loss')\n",
    "plt.legend(['Train', 'Validation'], loc='upper left')\n",
    "plt.show()"
   ]
  },
  {
   "cell_type": "code",
   "execution_count": 57,
   "id": "977ef1a0",
   "metadata": {},
   "outputs": [],
   "source": [
    "# checkpoint로 저장한 모델 불러올 때\n",
    "from tensorflow.keras.models import load_model\n",
    "\n",
    "# 체크포인트 파일의 경로를 지정합니다.\n",
    "checkpoint_filepath = './check/VGG16(사전학습)/3번/1-1/model_09.h5'\n",
    "\n",
    "# 체크포인트에 저장된 모델을 로드합니다.\n",
    "model = load_model(checkpoint_filepath)\n",
    "\n",
    "pred = model.predict(x_val)\n",
    "pred_class = np.argmax(pred, axis=1)"
   ]
  },
  {
   "cell_type": "code",
   "execution_count": 58,
   "id": "d36384a0",
   "metadata": {
    "scrolled": false
   },
   "outputs": [
    {
     "name": "stdout",
     "output_type": "stream",
     "text": [
      "[0 0 1 0 0 0 0 0 0 0 0 0 0 0 0 0 1 0 1 0 0 0 0 0 1 0 1 0 1 0 1 0 1 0 1 0 0\n",
      " 0 0 0 0 1 1 0 0 0 1 0 0 0 0 0 0 0 0 0 0 0 0 0 0 1 0 0 0 1 1 0 1 1 1 0 1 0\n",
      " 1 1 0 1 0 0 0 1 0 0 0 0 0 0 0 0 0 0 0 0 1 0 0 0 0 0 0 0 0 1 1 0 0 1 0 1 0\n",
      " 0 1 0 1 1 0 0 0 0 0 0 0 0 0 0 1 0 0 1 0 0 0 0 1 0 1 0 0 1 0 0 1 0 0 1 0 0\n",
      " 0 0 1 0 0 1 0 0 1 0 0 0 1 0 0 1 0 1 1 1 0 0 0 1 0 0 0 0 0 0 0 0 1 0 0 0 0\n",
      " 0 1 0 0 0 0 1 0 0 1 0 1 0 0 0 0 0 1 0 0 0 0 0 1 0 0 0 0 0 1 1 1 0 0 0 0 0\n",
      " 0 0 1 0 1 0 0 1 1 0 0 0 0 0 1 1 0 0 0 0 0 0 0 0 0 0 1 0 1 0 0 0 1 0 0 0 0\n",
      " 0 0 0 0 1 0 0 1 0 0 0 1 0 0 1 1 0 1 0 0 1 0 0 1 0 1 0 0 0 0 1 0 1 0 1]\n",
      "[1 0 1 1 0 0 0 0 0 0 0 0 0 0 0 0 0 0 1 0 0 0 0 0 1 0 1 0 0 0 1 0 1 1 1 0 0\n",
      " 0 1 0 0 1 1 0 0 0 1 0 0 0 1 0 0 0 0 0 0 0 0 0 0 1 0 0 0 1 1 0 1 1 1 0 1 0\n",
      " 0 1 0 1 0 0 0 1 0 0 0 0 1 0 0 0 0 0 0 0 1 0 0 0 0 1 0 0 0 1 1 0 0 0 0 1 0\n",
      " 0 1 0 1 1 0 0 1 0 0 0 0 0 0 0 1 0 0 1 0 0 0 0 1 0 1 0 0 1 0 0 1 0 0 1 0 0\n",
      " 0 0 1 1 0 1 0 0 1 0 0 0 1 0 1 1 0 0 1 1 0 0 0 1 0 0 0 0 0 0 0 0 1 0 0 0 0\n",
      " 0 1 0 0 0 0 0 0 0 0 0 1 0 0 0 0 0 1 0 0 0 0 0 1 0 0 0 0 0 1 1 1 0 0 0 0 0\n",
      " 0 0 1 0 1 0 0 1 1 0 1 0 0 0 0 1 0 0 0 0 0 0 0 0 0 0 1 0 1 1 0 0 1 0 0 0 0\n",
      " 0 0 0 0 1 0 0 1 0 0 0 1 0 0 0 1 0 1 0 0 1 0 0 1 0 1 0 0 0 0 1 0 1 0 1]\n",
      "[[8.14275920e-01 1.85724020e-01]\n",
      " [9.96789098e-01 3.21088592e-03]\n",
      " [3.99035513e-01 6.00964427e-01]\n",
      " [8.31595838e-01 1.68404132e-01]\n",
      " [9.94152606e-01 5.84733719e-03]\n",
      " [9.63725269e-01 3.62747237e-02]\n",
      " [7.16869712e-01 2.83130288e-01]\n",
      " [9.92926776e-01 7.07320264e-03]\n",
      " [9.99793231e-01 2.06771336e-04]\n",
      " [9.92833614e-01 7.16640102e-03]\n",
      " [9.81011868e-01 1.89881846e-02]\n",
      " [9.15167987e-01 8.48320723e-02]\n",
      " [9.99709308e-01 2.90628755e-04]\n",
      " [9.98931944e-01 1.06804329e-03]\n",
      " [9.99643683e-01 3.56324279e-04]\n",
      " [9.96795833e-01 3.20418715e-03]\n",
      " [4.28944290e-01 5.71055710e-01]\n",
      " [9.98752832e-01 1.24719448e-03]\n",
      " [4.08615798e-01 5.91384172e-01]\n",
      " [9.42049801e-01 5.79501465e-02]\n",
      " [9.97981250e-01 2.01877556e-03]\n",
      " [9.99280274e-01 7.19777832e-04]\n",
      " [9.93446410e-01 6.55353582e-03]\n",
      " [9.94597316e-01 5.40271681e-03]\n",
      " [2.55446613e-01 7.44553387e-01]\n",
      " [9.97034192e-01 2.96575576e-03]\n",
      " [2.02349365e-01 7.97650635e-01]\n",
      " [9.96569991e-01 3.42999492e-03]\n",
      " [3.20250601e-01 6.79749429e-01]\n",
      " [9.99249160e-01 7.50833657e-04]\n",
      " [1.58144653e-01 8.41855347e-01]\n",
      " [9.86756444e-01 1.32435830e-02]\n",
      " [1.65921658e-01 8.34078372e-01]\n",
      " [5.76279759e-01 4.23720300e-01]\n",
      " [6.10737614e-02 9.38926220e-01]\n",
      " [9.98603284e-01 1.39667094e-03]\n",
      " [9.83398080e-01 1.66019425e-02]\n",
      " [9.99399781e-01 6.00225700e-04]\n",
      " [9.44254339e-01 5.57456948e-02]\n",
      " [9.87558126e-01 1.24418698e-02]\n",
      " [9.96230185e-01 3.76978796e-03]\n",
      " [1.06144518e-01 8.93855512e-01]\n",
      " [1.04624733e-01 8.95375252e-01]\n",
      " [9.55635786e-01 4.43642810e-02]\n",
      " [9.98078108e-01 1.92191463e-03]\n",
      " [9.96137321e-01 3.86262010e-03]\n",
      " [1.49496734e-01 8.50503266e-01]\n",
      " [9.94439840e-01 5.56023233e-03]\n",
      " [9.96305704e-01 3.69432522e-03]\n",
      " [9.98820364e-01 1.17958628e-03]\n",
      " [9.90523398e-01 9.47656855e-03]\n",
      " [9.97626960e-01 2.37305881e-03]\n",
      " [9.99887347e-01 1.12679234e-04]\n",
      " [9.95323360e-01 4.67662606e-03]\n",
      " [9.98982012e-01 1.01795536e-03]\n",
      " [9.88125086e-01 1.18749226e-02]\n",
      " [9.62731957e-01 3.72680873e-02]\n",
      " [9.96654987e-01 3.34502687e-03]\n",
      " [9.96359408e-01 3.64064006e-03]\n",
      " [9.97664213e-01 2.33584479e-03]\n",
      " [9.99301314e-01 6.98664400e-04]\n",
      " [2.02871740e-01 7.97128260e-01]\n",
      " [9.93860722e-01 6.13920623e-03]\n",
      " [9.97875333e-01 2.12461920e-03]\n",
      " [9.90787685e-01 9.21232160e-03]\n",
      " [2.76173949e-02 9.72382665e-01]\n",
      " [1.92872677e-02 9.80712771e-01]\n",
      " [9.96175051e-01 3.82493786e-03]\n",
      " [4.70509641e-02 9.52948987e-01]\n",
      " [1.83655843e-01 8.16344142e-01]\n",
      " [1.28219754e-01 8.71780276e-01]\n",
      " [9.99692202e-01 3.07828479e-04]\n",
      " [6.48302436e-02 9.35169697e-01]\n",
      " [9.98652935e-01 1.34701713e-03]\n",
      " [1.49613321e-01 8.50386679e-01]\n",
      " [2.11220488e-01 7.88779557e-01]\n",
      " [9.86314058e-01 1.36859566e-02]\n",
      " [3.96367870e-02 9.60363150e-01]\n",
      " [9.91140544e-01 8.85950215e-03]\n",
      " [9.95755851e-01 4.24417015e-03]\n",
      " [9.99576867e-01 4.23093268e-04]\n",
      " [4.94235754e-02 9.50576425e-01]\n",
      " [9.95189786e-01 4.81020659e-03]\n",
      " [9.99669433e-01 3.30588315e-04]\n",
      " [8.86439085e-01 1.13560885e-01]\n",
      " [9.97323096e-01 2.67696730e-03]\n",
      " [9.04134035e-01 9.58659574e-02]\n",
      " [9.99711096e-01 2.88886717e-04]\n",
      " [9.33469832e-01 6.65302053e-02]\n",
      " [9.95169580e-01 4.83041862e-03]\n",
      " [9.98046160e-01 1.95386307e-03]\n",
      " [9.97883618e-01 2.11637001e-03]\n",
      " [9.97580409e-01 2.41954718e-03]\n",
      " [9.97974932e-01 2.02505174e-03]\n",
      " [4.93952371e-02 9.50604796e-01]\n",
      " [9.99935269e-01 6.46804765e-05]\n",
      " [9.62519109e-01 3.74809206e-02]\n",
      " [9.99483228e-01 5.16759930e-04]\n",
      " [9.97399092e-01 2.60086847e-03]\n",
      " [8.90395284e-01 1.09604776e-01]\n",
      " [9.99666810e-01 3.33171396e-04]\n",
      " [9.95956004e-01 4.04395768e-03]\n",
      " [9.98386979e-01 1.61305990e-03]\n",
      " [1.61591277e-01 8.38408709e-01]\n",
      " [3.16051580e-02 9.68394816e-01]\n",
      " [5.14854252e-01 4.85145748e-01]\n",
      " [9.93148625e-01 6.85138535e-03]\n",
      " [1.79634988e-01 8.20365012e-01]\n",
      " [9.98333752e-01 1.66631350e-03]\n",
      " [1.81824312e-01 8.18175673e-01]\n",
      " [9.98138428e-01 1.86156353e-03]\n",
      " [9.94966328e-01 5.03369654e-03]\n",
      " [9.23290029e-02 9.07670975e-01]\n",
      " [5.69329619e-01 4.30670381e-01]\n",
      " [8.17295387e-02 9.18270469e-01]\n",
      " [3.01813394e-01 6.98186636e-01]\n",
      " [9.99468505e-01 5.31538797e-04]\n",
      " [9.99368370e-01 6.31698815e-04]\n",
      " [5.62165916e-01 4.37834144e-01]\n",
      " [6.78874433e-01 3.21125627e-01]\n",
      " [9.89189267e-01 1.08107151e-02]\n",
      " [9.95447814e-01 4.55211429e-03]\n",
      " [9.92173553e-01 7.82643072e-03]\n",
      " [9.99881983e-01 1.17992982e-04]\n",
      " [8.40318322e-01 1.59681633e-01]\n",
      " [9.93706763e-01 6.29328005e-03]\n",
      " [1.01105966e-01 8.98894072e-01]\n",
      " [9.86602664e-01 1.33973807e-02]\n",
      " [9.89990354e-01 1.00096287e-02]\n",
      " [1.98711321e-01 8.01288664e-01]\n",
      " [5.27058125e-01 4.72941816e-01]\n",
      " [9.99139667e-01 8.60338099e-04]\n",
      " [9.32760894e-01 6.72390983e-02]\n",
      " [9.98765826e-01 1.23421173e-03]\n",
      " [3.45284551e-01 6.54715478e-01]\n",
      " [9.96056676e-01 3.94334225e-03]\n",
      " [3.51292677e-02 9.64870691e-01]\n",
      " [9.97416973e-01 2.58307182e-03]\n",
      " [9.97791409e-01 2.20856862e-03]\n",
      " [2.58223154e-02 9.74177659e-01]\n",
      " [9.99631286e-01 3.68748151e-04]\n",
      " [9.82348502e-01 1.76514238e-02]\n",
      " [2.10266352e-01 7.89733708e-01]\n",
      " [9.99275744e-01 7.24228157e-04]\n",
      " [9.99237180e-01 7.62868789e-04]\n",
      " [9.41880643e-02 9.05811906e-01]\n",
      " [9.98760223e-01 1.23975880e-03]\n",
      " [9.94523764e-01 5.47624286e-03]\n",
      " [9.99400496e-01 5.99551597e-04]\n",
      " [9.99215245e-01 7.84751261e-04]\n",
      " [1.29922599e-01 8.70077431e-01]\n",
      " [8.36140752e-01 1.63859278e-01]\n",
      " [9.93973792e-01 6.02624286e-03]\n",
      " [2.00513989e-01 7.99485981e-01]\n",
      " [9.99320626e-01 6.79445860e-04]\n",
      " [9.78095174e-01 2.19048243e-02]\n",
      " [3.39597240e-02 9.66040313e-01]\n",
      " [9.92415667e-01 7.58429337e-03]\n",
      " [8.64259303e-01 1.35740638e-01]\n",
      " [9.98507321e-01 1.49262825e-03]\n",
      " [5.45570292e-02 9.45442975e-01]\n",
      " [9.58758771e-01 4.12412062e-02]\n",
      " [8.14275920e-01 1.85724020e-01]\n",
      " [1.31001815e-01 8.68998170e-01]\n",
      " [9.92197216e-01 7.80281052e-03]\n",
      " [6.42771348e-02 9.35722888e-01]\n",
      " [5.48957624e-02 9.45104241e-01]\n",
      " [8.80641118e-02 9.11935866e-01]\n",
      " [9.95561719e-01 4.43833927e-03]\n",
      " [9.68013644e-01 3.19862887e-02]\n",
      " [9.98454094e-01 1.54593226e-03]\n",
      " [2.47949902e-02 9.75205004e-01]\n",
      " [9.92544949e-01 7.45497458e-03]\n",
      " [9.11445200e-01 8.85548219e-02]\n",
      " [9.21489656e-01 7.85102919e-02]\n",
      " [9.94400561e-01 5.59940329e-03]\n",
      " [9.99746621e-01 2.53374194e-04]\n",
      " [9.82917011e-01 1.70829631e-02]\n",
      " [9.81221497e-01 1.87784415e-02]\n",
      " [9.99061048e-01 9.39002261e-04]\n",
      " [7.83858970e-02 9.21614110e-01]\n",
      " [9.98892844e-01 1.10713427e-03]\n",
      " [5.98328054e-01 4.01672006e-01]\n",
      " [9.99839187e-01 1.60846597e-04]\n",
      " [8.88114274e-01 1.11885674e-01]\n",
      " [9.96298134e-01 3.70186404e-03]\n",
      " [2.64982097e-02 9.73501742e-01]\n",
      " [9.71238375e-01 2.87616141e-02]\n",
      " [7.16647565e-01 2.83352375e-01]\n",
      " [9.90438163e-01 9.56190191e-03]\n",
      " [9.96238351e-01 3.76160908e-03]\n",
      " [4.98362422e-01 5.01637638e-01]\n",
      " [9.97112393e-01 2.88763898e-03]\n",
      " [9.90795851e-01 9.20414180e-03]\n",
      " [4.27094102e-01 5.72905958e-01]\n",
      " [9.99642134e-01 3.57803336e-04]\n",
      " [1.43325580e-02 9.85667527e-01]\n",
      " [9.52613711e-01 4.73862290e-02]\n",
      " [9.98827636e-01 1.17231987e-03]\n",
      " [9.98904824e-01 1.09518657e-03]\n",
      " [9.99685168e-01 3.14831850e-04]\n",
      " [9.51643705e-01 4.83562462e-02]\n",
      " [1.40500264e-02 9.85949934e-01]\n",
      " [9.75624323e-01 2.43757479e-02]\n",
      " [9.96281922e-01 3.71807511e-03]\n",
      " [7.48121917e-01 2.51878113e-01]\n",
      " [9.98162210e-01 1.83782470e-03]\n",
      " [5.41212440e-01 4.58787501e-01]\n",
      " [1.29922599e-01 8.70077431e-01]\n",
      " [8.23629081e-01 1.76370904e-01]\n",
      " [9.86831665e-01 1.31683433e-02]\n",
      " [9.98214602e-01 1.78547809e-03]\n",
      " [9.98622060e-01 1.37791038e-03]\n",
      " [9.98477280e-01 1.52274349e-03]\n",
      " [8.18476826e-02 9.18152332e-01]\n",
      " [4.90149885e-01 5.09850144e-01]\n",
      " [7.25998590e-03 9.92739975e-01]\n",
      " [6.22548640e-01 3.77451390e-01]\n",
      " [9.95252728e-01 4.74723615e-03]\n",
      " [9.99471486e-01 5.28560020e-04]\n",
      " [9.98029292e-01 1.97072304e-03]\n",
      " [9.96631086e-01 3.36893322e-03]\n",
      " [9.98717546e-01 1.28251547e-03]\n",
      " [9.88332093e-01 1.16679259e-02]\n",
      " [1.05432048e-01 8.94567966e-01]\n",
      " [9.99243021e-01 7.56993890e-04]\n",
      " [1.39203638e-01 8.60796392e-01]\n",
      " [9.43362653e-01 5.66374063e-02]\n",
      " [6.37384653e-01 3.62615377e-01]\n",
      " [1.83655843e-01 8.16344142e-01]\n",
      " [3.18285406e-01 6.81714535e-01]\n",
      " [9.99917984e-01 8.20536443e-05]\n",
      " [9.44466174e-01 5.55337667e-02]\n",
      " [9.94044483e-01 5.95552148e-03]\n",
      " [9.98987854e-01 1.01218920e-03]\n",
      " [9.62950885e-01 3.70491333e-02]\n",
      " [1.27693504e-01 8.72306526e-01]\n",
      " [1.10030241e-01 8.89969707e-01]\n",
      " [9.82448399e-01 1.75516140e-02]\n",
      " [9.89064693e-01 1.09352591e-02]\n",
      " [9.97248471e-01 2.75147380e-03]\n",
      " [9.94932473e-01 5.06753009e-03]\n",
      " [9.97226059e-01 2.77394406e-03]\n",
      " [9.99160647e-01 8.39367160e-04]\n",
      " [8.95269692e-01 1.04730330e-01]\n",
      " [9.77695405e-01 2.23045573e-02]\n",
      " [9.99169469e-01 8.30606790e-04]\n",
      " [9.52152550e-01 4.78473864e-02]\n",
      " [1.46370847e-02 9.85362887e-01]\n",
      " [8.43973696e-01 1.56026348e-01]\n",
      " [1.68823395e-02 9.83117700e-01]\n",
      " [6.93318605e-01 3.06681395e-01]\n",
      " [9.92450535e-01 7.54939811e-03]\n",
      " [9.97532248e-01 2.46769423e-03]\n",
      " [6.03964478e-02 9.39603567e-01]\n",
      " [9.35526073e-01 6.44739345e-02]\n",
      " [9.96969640e-01 3.03041865e-03]\n",
      " [9.99233127e-01 7.66920391e-04]\n",
      " [9.99398112e-01 6.01884094e-04]\n",
      " [9.85854924e-01 1.41450977e-02]\n",
      " [9.96097028e-01 3.90299293e-03]\n",
      " [9.98901606e-01 1.09843083e-03]\n",
      " [8.91184568e-01 1.08815409e-01]\n",
      " [4.55124974e-02 9.54487503e-01]\n",
      " [9.96538162e-01 3.46179749e-03]\n",
      " [9.97966528e-01 2.03347439e-03]\n",
      " [4.51199383e-01 5.48800647e-01]\n",
      " [9.55156446e-01 4.48436067e-02]\n",
      " [9.96438265e-01 3.56178125e-03]\n",
      " [9.97537017e-01 2.46294984e-03]\n",
      " [7.93415383e-02 9.20658469e-01]\n",
      " [8.95407319e-01 1.04592711e-01]\n",
      " [9.83803809e-01 1.61961783e-02]\n",
      " [4.33496237e-01 5.66503763e-01]\n",
      " [2.79781193e-01 7.20218778e-01]\n",
      " [9.99365032e-01 6.35026896e-04]\n",
      " [8.82029608e-02 9.11796987e-01]\n",
      " [9.97968137e-01 2.03183689e-03]\n",
      " [9.98290479e-01 1.70953723e-03]\n",
      " [3.99631888e-01 6.00368083e-01]\n",
      " [9.98843908e-01 1.15605001e-03]\n",
      " [9.96830523e-01 3.16946185e-03]\n",
      " [1.09754212e-01 8.90245795e-01]\n",
      " [9.96705115e-01 3.29492847e-03]\n",
      " [2.54794601e-02 9.74520624e-01]\n",
      " [9.64106083e-01 3.58939655e-02]\n",
      " [9.69177008e-01 3.08230296e-02]\n",
      " [9.94787693e-01 5.21233678e-03]\n",
      " [9.99146342e-01 8.53680016e-04]\n",
      " [2.10108995e-01 7.89891005e-01]\n",
      " [9.93480802e-01 6.51917793e-03]\n",
      " [7.59817958e-02 9.24018204e-01]\n",
      " [9.95413125e-01 4.58693272e-03]\n",
      " [2.93533742e-01 7.06466258e-01]]\n"
     ]
    }
   ],
   "source": [
    "print(pred_class)\n",
    "print(y_val)\n",
    "print(pred)"
   ]
  },
  {
   "cell_type": "code",
   "execution_count": 59,
   "id": "1d05cbe8",
   "metadata": {},
   "outputs": [
    {
     "name": "stdout",
     "output_type": "stream",
     "text": [
      "accuracy: 0.928571\n"
     ]
    }
   ],
   "source": [
    "acc = np.mean(pred_class == y_val)\n",
    "print('accuracy: %f' % (acc,))"
   ]
  },
  {
   "cell_type": "code",
   "execution_count": 60,
   "id": "dee8ebda",
   "metadata": {},
   "outputs": [
    {
     "data": {
      "image/png": "[encoded data removed]",
      "text/plain": [
       "<Figure size 360x360 with 2 Axes>"
      ]
     },
     "metadata": {
      "needs_background": "light"
     },
     "output_type": "display_data"
    }
   ],
   "source": [
    "from sklearn.metrics import confusion_matrix\n",
    "import seaborn as sns\n",
    "\n",
    "# confusion matrix 생성\n",
    "cm = confusion_matrix(y_val, pred_class)\n",
    "\n",
    "# confusion matrix 출력\n",
    "plt.figure(figsize=(5,5))\n",
    "sns.heatmap(cm, annot=True, fmt=\"d\")\n",
    "plt.title('Confusion matrix')\n",
    "plt.ylabel('Actual label')\n",
    "plt.xlabel('Predicted label')\n",
    "plt.show()"
   ]
  },
  {
   "cell_type": "markdown",
   "id": "09c98c6e",
   "metadata": {},
   "source": [
    "## loss, accuracy 시각화"
   ]
  },
  {
   "cell_type": "markdown",
   "id": "6e696b09",
   "metadata": {},
   "source": [
    "## confusion_matrix"
   ]
  },
  {
   "cell_type": "markdown",
   "id": "999e53fe",
   "metadata": {},
   "source": [
    "## classification_report"
   ]
  },
  {
   "cell_type": "code",
   "execution_count": 17,
   "id": "67e27aec",
   "metadata": {},
   "outputs": [
    {
     "name": "stdout",
     "output_type": "stream",
     "text": [
      "              precision    recall  f1-score   support\n",
      "\n",
      "           0       0.98      1.00      0.99       923\n",
      "           1       0.97      0.87      0.92       164\n",
      "\n",
      "    accuracy                           0.98      1087\n",
      "   macro avg       0.98      0.93      0.95      1087\n",
      "weighted avg       0.98      0.98      0.98      1087\n",
      "\n"
     ]
    }
   ],
   "source": [
    "from sklearn.metrics import classification_report\n",
    "\n",
    "print(classification_report(y_val, pred_class))"
   ]
  },
  {
   "cell_type": "code",
   "execution_count": null,
   "id": "13f8a6bc",
   "metadata": {},
   "outputs": [],
   "source": []
  },
  {
   "cell_type": "code",
   "execution_count": null,
   "id": "6ec22a40",
   "metadata": {},
   "outputs": [],
   "source": [
    "# 수정본~"
   ]
  },
  {
   "cell_type": "code",
   "execution_count": 11,
   "id": "e1a8b645",
   "metadata": {},
   "outputs": [
    {
     "name": "stdout",
     "output_type": "stream",
     "text": [
      "Downloading data from https://storage.googleapis.com/tensorflow/keras-applications/vgg16/vgg16_weights_tf_dim_ordering_tf_kernels_notop.h5\n",
      "58892288/58889256 [==============================] - 0s 0us/step\n",
      "58900480/58889256 [==============================] - 0s 0us/step\n",
      "Model: \"model\"\n",
      "_________________________________________________________________\n",
      "Layer (type)                 Output Shape              Param #   \n",
      "=================================================================\n",
      "input_1 (InputLayer)         [(None, 224, 224, 3)]     0         \n",
      "_________________________________________________________________\n",
      "block1_conv1 (Conv2D)        (None, 224, 224, 64)      1792      \n",
      "_________________________________________________________________\n",
      "block1_conv2 (Conv2D)        (None, 224, 224, 64)      36928     \n",
      "_________________________________________________________________\n",
      "block1_pool (MaxPooling2D)   (None, 112, 112, 64)      0         \n",
      "_________________________________________________________________\n",
      "block2_conv1 (Conv2D)        (None, 112, 112, 128)     73856     \n",
      "_________________________________________________________________\n",
      "block2_conv2 (Conv2D)        (None, 112, 112, 128)     147584    \n",
      "_________________________________________________________________\n",
      "block2_pool (MaxPooling2D)   (None, 56, 56, 128)       0         \n",
      "_________________________________________________________________\n",
      "block3_conv1 (Conv2D)        (None, 56, 56, 256)       295168    \n",
      "_________________________________________________________________\n",
      "block3_conv2 (Conv2D)        (None, 56, 56, 256)       590080    \n",
      "_________________________________________________________________\n",
      "block3_conv3 (Conv2D)        (None, 56, 56, 256)       590080    \n",
      "_________________________________________________________________\n",
      "block3_pool (MaxPooling2D)   (None, 28, 28, 256)       0         \n",
      "_________________________________________________________________\n",
      "block4_conv1 (Conv2D)        (None, 28, 28, 512)       1180160   \n",
      "_________________________________________________________________\n",
      "block4_conv2 (Conv2D)        (None, 28, 28, 512)       2359808   \n",
      "_________________________________________________________________\n",
      "block4_conv3 (Conv2D)        (None, 28, 28, 512)       2359808   \n",
      "_________________________________________________________________\n",
      "block4_pool (MaxPooling2D)   (None, 14, 14, 512)       0         \n",
      "_________________________________________________________________\n",
      "block5_conv1 (Conv2D)        (None, 14, 14, 512)       2359808   \n",
      "_________________________________________________________________\n",
      "block5_conv2 (Conv2D)        (None, 14, 14, 512)       2359808   \n",
      "_________________________________________________________________\n",
      "block5_conv3 (Conv2D)        (None, 14, 14, 512)       2359808   \n",
      "_________________________________________________________________\n",
      "block5_pool (MaxPooling2D)   (None, 7, 7, 512)         0         \n",
      "_________________________________________________________________\n",
      "flatten (Flatten)            (None, 25088)             0         \n",
      "_________________________________________________________________\n",
      "dense (Dense)                (None, 1024)              25691136  \n",
      "_________________________________________________________________\n",
      "dense_1 (Dense)              (None, 514)               526850    \n",
      "_________________________________________________________________\n",
      "dense_2 (Dense)              (None, 64)                32960     \n",
      "_________________________________________________________________\n",
      "dense_3 (Dense)              (None, 32)                2080      \n",
      "_________________________________________________________________\n",
      "dense_4 (Dense)              (None, 2)                 66        \n",
      "=================================================================\n",
      "Total params: 40,967,780\n",
      "Trainable params: 40,967,780\n",
      "Non-trainable params: 0\n",
      "_________________________________________________________________\n"
     ]
    }
   ],
   "source": [
    "from tensorflow.keras.applications import VGG16\n",
    "\n",
    "# VGG16 모델 가져오기\n",
    "vgg_model = VGG16(weights = 'imagenet', include_top=False, input_shape=(224, 224, 3))\n",
    "\n",
    "x = Flatten()(vgg_model.output) \n",
    "x = Dense(1024, activation='relu')(x)\n",
    "x = Dense(514, activation='relu')(x)\n",
    "x = Dense(64, activation='relu')(x)\n",
    "x = Dense(32, activation='relu')(x)\n",
    "output = Dense(2, activation='softmax')(x)\n",
    "\n",
    "# 새로운 모델 정의\n",
    "model = tf.keras.models.Model(inputs=vgg_model.input, outputs=output)\n",
    "model.summary()"
   ]
  },
  {
   "cell_type": "code",
   "execution_count": 12,
   "id": "b6278dba",
   "metadata": {},
   "outputs": [],
   "source": [
    "learning_rate = 0.0001\n",
    "\n",
    "adam = tf.keras.optimizers.Adam(learning_rate=learning_rate)\n",
    "early_stopping_callback = tf.keras.callbacks.EarlyStopping(\n",
    "    monitor='val_loss',\n",
    "    patience=10,\n",
    "    verbose=1,\n",
    "    restore_best_weights=True,\n",
    ")\n",
    "\n",
    "model_checkpoint_callback = tf.keras.callbacks.ModelCheckpoint(\n",
    "    './check/VGG16(사전학습)/4번/2-1/model_{epoch:02d}.h5',\n",
    "    monitor='val_loss',\n",
    "    verbose=1,\n",
    "    save_best_only=True,\n",
    "    save_weights_only=False,\n",
    "    mode='min',\n",
    "    save_freq='epoch',    \n",
    ")\n",
    "# 모델 컴파일\n",
    "model.compile(optimizer= adam,\n",
    "              loss='sparse_categorical_crossentropy', \n",
    "              metrics=['accuracy'])"
   ]
  },
  {
   "cell_type": "code",
   "execution_count": 13,
   "id": "4dc34f41",
   "metadata": {
    "scrolled": true
   },
   "outputs": [
    {
     "name": "stdout",
     "output_type": "stream",
     "text": [
      "Epoch 1/50\n",
      "80/80 [==============================] - 46s 504ms/step - loss: 0.4310 - accuracy: 0.8382 - val_loss: 0.3663 - val_accuracy: 0.8491\n",
      "\n",
      "Epoch 00001: val_loss improved from inf to 0.36629, saving model to ./check/VGG16(사전학습)/4번/2-1/model_01.h5\n",
      "Epoch 2/50\n",
      "80/80 [==============================] - 36s 456ms/step - loss: 0.3317 - accuracy: 0.8658 - val_loss: 0.3939 - val_accuracy: 0.8638\n",
      "\n",
      "Epoch 00002: val_loss did not improve from 0.36629\n",
      "Epoch 3/50\n",
      "80/80 [==============================] - 37s 462ms/step - loss: 0.2728 - accuracy: 0.8938 - val_loss: 0.2486 - val_accuracy: 0.9108\n",
      "\n",
      "Epoch 00003: val_loss improved from 0.36629 to 0.24859, saving model to ./check/VGG16(사전학습)/4번/2-1/model_03.h5\n",
      "Epoch 4/50\n",
      "80/80 [==============================] - 37s 458ms/step - loss: 0.2284 - accuracy: 0.9104 - val_loss: 0.1869 - val_accuracy: 0.9264\n",
      "\n",
      "Epoch 00004: val_loss improved from 0.24859 to 0.18693, saving model to ./check/VGG16(사전학습)/4번/2-1/model_04.h5\n",
      "Epoch 5/50\n",
      "80/80 [==============================] - 37s 463ms/step - loss: 0.1827 - accuracy: 0.9159 - val_loss: 0.1334 - val_accuracy: 0.9420\n",
      "\n",
      "Epoch 00005: val_loss improved from 0.18693 to 0.13337, saving model to ./check/VGG16(사전학습)/4번/2-1/model_05.h5\n",
      "Epoch 6/50\n",
      "80/80 [==============================] - 37s 458ms/step - loss: 0.1538 - accuracy: 0.9353 - val_loss: 0.2117 - val_accuracy: 0.9089\n",
      "\n",
      "Epoch 00006: val_loss did not improve from 0.13337\n",
      "Epoch 7/50\n",
      "80/80 [==============================] - 37s 459ms/step - loss: 0.1430 - accuracy: 0.9373 - val_loss: 0.1519 - val_accuracy: 0.9411\n",
      "\n",
      "Epoch 00007: val_loss did not improve from 0.13337\n",
      "Epoch 8/50\n",
      "80/80 [==============================] - 37s 460ms/step - loss: 0.1162 - accuracy: 0.9499 - val_loss: 0.1364 - val_accuracy: 0.9466\n",
      "\n",
      "Epoch 00008: val_loss did not improve from 0.13337\n",
      "Epoch 9/50\n",
      "80/80 [==============================] - 37s 460ms/step - loss: 0.0947 - accuracy: 0.9601 - val_loss: 0.3819 - val_accuracy: 0.9043\n",
      "\n",
      "Epoch 00009: val_loss did not improve from 0.13337\n",
      "Epoch 10/50\n",
      "80/80 [==============================] - 37s 459ms/step - loss: 0.1304 - accuracy: 0.9491 - val_loss: 0.1553 - val_accuracy: 0.9494\n",
      "\n",
      "Epoch 00010: val_loss did not improve from 0.13337\n",
      "Epoch 11/50\n",
      "80/80 [==============================] - 37s 459ms/step - loss: 0.0797 - accuracy: 0.9661 - val_loss: 0.2541 - val_accuracy: 0.9393\n",
      "\n",
      "Epoch 00011: val_loss did not improve from 0.13337\n",
      "Epoch 12/50\n",
      "80/80 [==============================] - 37s 459ms/step - loss: 0.1027 - accuracy: 0.9590 - val_loss: 0.1544 - val_accuracy: 0.9356\n",
      "\n",
      "Epoch 00012: val_loss did not improve from 0.13337\n",
      "Epoch 13/50\n",
      "80/80 [==============================] - 37s 459ms/step - loss: 0.0805 - accuracy: 0.9692 - val_loss: 0.2028 - val_accuracy: 0.9292\n",
      "\n",
      "Epoch 00013: val_loss did not improve from 0.13337\n",
      "Epoch 14/50\n",
      "80/80 [==============================] - 37s 459ms/step - loss: 0.0589 - accuracy: 0.9783 - val_loss: 0.1819 - val_accuracy: 0.9457\n",
      "\n",
      "Epoch 00014: val_loss did not improve from 0.13337\n",
      "Epoch 15/50\n",
      "80/80 [==============================] - 37s 459ms/step - loss: 0.0555 - accuracy: 0.9807 - val_loss: 0.3333 - val_accuracy: 0.9282\n",
      "\n",
      "Epoch 00015: val_loss did not improve from 0.13337\n",
      "Restoring model weights from the end of the best epoch.\n",
      "Epoch 00015: early stopping\n"
     ]
    }
   ],
   "source": [
    "history = model.fit(x_train, y_train, batch_size=32, epochs=50, validation_data=(x_val, y_val),callbacks=[model_checkpoint_callback, early_stopping_callback])"
   ]
  },
  {
   "cell_type": "code",
   "execution_count": 14,
   "id": "1674c092",
   "metadata": {},
   "outputs": [
    {
     "data": {
      "image/png": "[encoded data removed]",
      "text/plain": [
       "<Figure size 432x288 with 1 Axes>"
      ]
     },
     "metadata": {
      "needs_background": "light"
     },
     "output_type": "display_data"
    },
    {
     "data": {
      "image/png": "[encoded data removed]",
      "text/plain": [
       "<Figure size 432x288 with 1 Axes>"
      ]
     },
     "metadata": {
      "needs_background": "light"
     },
     "output_type": "display_data"
    }
   ],
   "source": [
    "import matplotlib.pyplot as plt\n",
    "\n",
    "# 정확도 시각화\n",
    "plt.plot(history.history['accuracy'])\n",
    "plt.plot(history.history['val_accuracy'])\n",
    "plt.title('Model accuracy')\n",
    "plt.xlabel('Epochs')\n",
    "plt.ylabel('Accuracy')\n",
    "plt.legend(['Train', 'Validation'], loc='upper left')\n",
    "plt.show()\n",
    "\n",
    "# 손실값 시각화\n",
    "plt.plot(history.history['loss'])\n",
    "plt.plot(history.history['val_loss'])\n",
    "plt.title('Model loss')\n",
    "plt.xlabel('Epochs')\n",
    "plt.ylabel('Loss')\n",
    "plt.legend(['Train', 'Validation'], loc='upper left')\n",
    "plt.show()"
   ]
  },
  {
   "cell_type": "code",
   "execution_count": 15,
   "id": "3fe33b3e",
   "metadata": {},
   "outputs": [
    {
     "data": {
      "image/png": "[encoded data removed]",
      "text/plain": [
       "<Figure size 360x360 with 2 Axes>"
      ]
     },
     "metadata": {
      "needs_background": "light"
     },
     "output_type": "display_data"
    }
   ],
   "source": [
    "from sklearn.metrics import confusion_matrix\n",
    "import seaborn as sns\n",
    "\n",
    "# confusion matrix 생성\n",
    "cm = confusion_matrix(y_val, pred_class)\n",
    "\n",
    "# confusion matrix 출력\n",
    "plt.figure(figsize=(5,5))\n",
    "sns.heatmap(cm, annot=True, fmt=\"d\")\n",
    "plt.title('Confusion matrix')\n",
    "plt.ylabel('Actual label')\n",
    "plt.xlabel('Predicted label')\n",
    "plt.show()"
   ]
  },
  {
   "cell_type": "code",
   "execution_count": 8,
   "id": "436b6007",
   "metadata": {},
   "outputs": [],
   "source": [
    "# checkpoint로 저장한 모델 불러올 때\n",
    "from tensorflow.keras.models import load_model\n",
    "\n",
    "# 체크포인트 파일의 경로를 지정합니다.\n",
    "checkpoint_filepath = './check/VGG16(사전학습)/4번/2-1/model_10.h5'\n",
    "\n",
    "# 체크포인트에 저장된 모델을 로드합니다.\n",
    "model = load_model(checkpoint_filepath)\n",
    "\n",
    "pred = model.predict(x_val)\n",
    "pred_class = np.argmax(pred, axis=1)"
   ]
  },
  {
   "cell_type": "code",
   "execution_count": 9,
   "id": "d356507d",
   "metadata": {},
   "outputs": [
    {
     "name": "stdout",
     "output_type": "stream",
     "text": [
      "[0 0 0 ... 1 0 0]\n",
      "[0 0 0 ... 1 0 0]\n",
      "[[9.4225872e-01 5.7741262e-02]\n",
      " [9.9996221e-01 3.7784397e-05]\n",
      " [9.9945134e-01 5.4864498e-04]\n",
      " ...\n",
      " [2.4507712e-03 9.9754924e-01]\n",
      " [9.9998701e-01 1.3023649e-05]\n",
      " [7.5484198e-01 2.4515802e-01]]\n",
      "accuracy: 0.959522\n"
     ]
    }
   ],
   "source": [
    "print(pred_class)\n",
    "print(y_val)\n",
    "print(pred)\n",
    "\n",
    "acc = np.mean(pred_class == y_val)\n",
    "print('accuracy: %f' % (acc,))"
   ]
  },
  {
   "cell_type": "code",
   "execution_count": 8,
   "id": "53b1e033",
   "metadata": {
    "scrolled": true
   },
   "outputs": [
    {
     "name": "stdout",
     "output_type": "stream",
     "text": [
      "Model: \"model\"\n",
      "_________________________________________________________________\n",
      "Layer (type)                 Output Shape              Param #   \n",
      "=================================================================\n",
      "input_1 (InputLayer)         [(None, 224, 224, 3)]     0         \n",
      "_________________________________________________________________\n",
      "block1_conv1 (Conv2D)        (None, 224, 224, 64)      1792      \n",
      "_________________________________________________________________\n",
      "block1_conv2 (Conv2D)        (None, 224, 224, 64)      36928     \n",
      "_________________________________________________________________\n",
      "block1_pool (MaxPooling2D)   (None, 112, 112, 64)      0         \n",
      "_________________________________________________________________\n",
      "block2_conv1 (Conv2D)        (None, 112, 112, 128)     73856     \n",
      "_________________________________________________________________\n",
      "block2_conv2 (Conv2D)        (None, 112, 112, 128)     147584    \n",
      "_________________________________________________________________\n",
      "block2_pool (MaxPooling2D)   (None, 56, 56, 128)       0         \n",
      "_________________________________________________________________\n",
      "block3_conv1 (Conv2D)        (None, 56, 56, 256)       295168    \n",
      "_________________________________________________________________\n",
      "block3_conv2 (Conv2D)        (None, 56, 56, 256)       590080    \n",
      "_________________________________________________________________\n",
      "block3_conv3 (Conv2D)        (None, 56, 56, 256)       590080    \n",
      "_________________________________________________________________\n",
      "block3_pool (MaxPooling2D)   (None, 28, 28, 256)       0         \n",
      "_________________________________________________________________\n",
      "block4_conv1 (Conv2D)        (None, 28, 28, 512)       1180160   \n",
      "_________________________________________________________________\n",
      "block4_conv2 (Conv2D)        (None, 28, 28, 512)       2359808   \n",
      "_________________________________________________________________\n",
      "block4_conv3 (Conv2D)        (None, 28, 28, 512)       2359808   \n",
      "_________________________________________________________________\n",
      "block4_pool (MaxPooling2D)   (None, 14, 14, 512)       0         \n",
      "_________________________________________________________________\n",
      "block5_conv1 (Conv2D)        (None, 14, 14, 512)       2359808   \n",
      "_________________________________________________________________\n",
      "block5_conv2 (Conv2D)        (None, 14, 14, 512)       2359808   \n",
      "_________________________________________________________________\n",
      "block5_conv3 (Conv2D)        (None, 14, 14, 512)       2359808   \n",
      "_________________________________________________________________\n",
      "block5_pool (MaxPooling2D)   (None, 7, 7, 512)         0         \n",
      "_________________________________________________________________\n",
      "flatten (Flatten)            (None, 25088)             0         \n",
      "_________________________________________________________________\n",
      "dense (Dense)                (None, 1024)              25691136  \n",
      "_________________________________________________________________\n",
      "dense_1 (Dense)              (None, 514)               526850    \n",
      "_________________________________________________________________\n",
      "dense_2 (Dense)              (None, 64)                32960     \n",
      "_________________________________________________________________\n",
      "dense_3 (Dense)              (None, 32)                2080      \n",
      "_________________________________________________________________\n",
      "dense_4 (Dense)              (None, 2)                 66        \n",
      "=================================================================\n",
      "Total params: 40,967,780\n",
      "Trainable params: 40,967,780\n",
      "Non-trainable params: 0\n",
      "_________________________________________________________________\n"
     ]
    }
   ],
   "source": [
    "from tensorflow.keras.applications import VGG16\n",
    "\n",
    "# VGG16 모델 가져오기\n",
    "vgg_model = VGG16(weights = 'imagenet', include_top=False, input_shape=(224, 224, 3))\n",
    "\n",
    "x = Flatten()(vgg_model.output) \n",
    "x = Dense(1024, activation='relu')(x)\n",
    "x = Dense(514, activation='relu')(x)\n",
    "x = Dense(64, activation='relu')(x)\n",
    "x = Dense(32, activation='relu')(x)\n",
    "output = Dense(2, activation='softmax')(x)\n",
    "\n",
    "# 새로운 모델 정의\n",
    "model = tf.keras.models.Model(inputs=vgg_model.input, outputs=output)\n",
    "model.summary()"
   ]
  },
  {
   "cell_type": "code",
   "execution_count": 9,
   "id": "7c436fac",
   "metadata": {},
   "outputs": [],
   "source": [
    "learning_rate = 0.0001\n",
    "\n",
    "adam = tf.keras.optimizers.Adam(learning_rate=learning_rate)\n",
    "early_stopping_callback = tf.keras.callbacks.EarlyStopping(\n",
    "    monitor='val_loss',\n",
    "    patience=10,\n",
    "    verbose=1,\n",
    "    restore_best_weights=True,\n",
    ")\n",
    "\n",
    "model_checkpoint_callback = tf.keras.callbacks.ModelCheckpoint(\n",
    "    './check/VGG16(사전학습)/4번/3-1/model_{epoch:02d}.h5',\n",
    "    monitor='val_loss',\n",
    "    verbose=1,\n",
    "    save_best_only=True,\n",
    "    save_weights_only=False,\n",
    "    mode='min',\n",
    "    save_freq='epoch',    \n",
    ")\n",
    "# 모델 컴파일\n",
    "model.compile(optimizer= adam,\n",
    "              loss='sparse_categorical_crossentropy', \n",
    "              metrics=['accuracy'])"
   ]
  },
  {
   "cell_type": "code",
   "execution_count": 10,
   "id": "9bcad685",
   "metadata": {
    "scrolled": true
   },
   "outputs": [
    {
     "name": "stdout",
     "output_type": "stream",
     "text": [
      "Epoch 1/50\n",
      "40/40 [==============================] - 79s 1s/step - loss: 0.4616 - accuracy: 0.8382 - val_loss: 0.4238 - val_accuracy: 0.8491\n",
      "\n",
      "Epoch 00001: val_loss improved from inf to 0.42379, saving model to ./check/VGG16(사전학습)/4번/3-1/model_01.h5\n",
      "Epoch 2/50\n",
      "40/40 [==============================] - 36s 893ms/step - loss: 0.4444 - accuracy: 0.8382 - val_loss: 0.4216 - val_accuracy: 0.8491\n",
      "\n",
      "Epoch 00002: val_loss improved from 0.42379 to 0.42155, saving model to ./check/VGG16(사전학습)/4번/3-1/model_02.h5\n",
      "Epoch 3/50\n",
      "40/40 [==============================] - 37s 917ms/step - loss: 0.4203 - accuracy: 0.8382 - val_loss: 0.3981 - val_accuracy: 0.8491\n",
      "\n",
      "Epoch 00003: val_loss improved from 0.42155 to 0.39805, saving model to ./check/VGG16(사전학습)/4번/3-1/model_03.h5\n",
      "Epoch 4/50\n",
      "40/40 [==============================] - 36s 912ms/step - loss: 0.3084 - accuracy: 0.8706 - val_loss: 0.1959 - val_accuracy: 0.9163\n",
      "\n",
      "Epoch 00004: val_loss improved from 0.39805 to 0.19588, saving model to ./check/VGG16(사전학습)/4번/3-1/model_04.h5\n",
      "Epoch 5/50\n",
      "40/40 [==============================] - 37s 920ms/step - loss: 0.2209 - accuracy: 0.8998 - val_loss: 0.2621 - val_accuracy: 0.9025\n",
      "\n",
      "Epoch 00005: val_loss did not improve from 0.19588\n",
      "Epoch 6/50\n",
      "40/40 [==============================] - 37s 918ms/step - loss: 0.1600 - accuracy: 0.9301 - val_loss: 0.2549 - val_accuracy: 0.9126\n",
      "\n",
      "Epoch 00006: val_loss did not improve from 0.19588\n",
      "Epoch 7/50\n",
      "40/40 [==============================] - 37s 919ms/step - loss: 0.1630 - accuracy: 0.9329 - val_loss: 0.1532 - val_accuracy: 0.9365\n",
      "\n",
      "Epoch 00007: val_loss improved from 0.19588 to 0.15317, saving model to ./check/VGG16(사전학습)/4번/3-1/model_07.h5\n",
      "Epoch 8/50\n",
      "40/40 [==============================] - 37s 920ms/step - loss: 0.1329 - accuracy: 0.9451 - val_loss: 0.1310 - val_accuracy: 0.9457\n",
      "\n",
      "Epoch 00008: val_loss improved from 0.15317 to 0.13096, saving model to ./check/VGG16(사전학습)/4번/3-1/model_08.h5\n",
      "Epoch 9/50\n",
      "40/40 [==============================] - 37s 919ms/step - loss: 0.1070 - accuracy: 0.9554 - val_loss: 0.1265 - val_accuracy: 0.9457\n",
      "\n",
      "Epoch 00009: val_loss improved from 0.13096 to 0.12651, saving model to ./check/VGG16(사전학습)/4번/3-1/model_09.h5\n",
      "Epoch 10/50\n",
      "40/40 [==============================] - 37s 919ms/step - loss: 0.1022 - accuracy: 0.9574 - val_loss: 0.1187 - val_accuracy: 0.9485\n",
      "\n",
      "Epoch 00010: val_loss improved from 0.12651 to 0.11873, saving model to ./check/VGG16(사전학습)/4번/3-1/model_10.h5\n",
      "Epoch 11/50\n",
      "40/40 [==============================] - 37s 921ms/step - loss: 0.0810 - accuracy: 0.9676 - val_loss: 0.1402 - val_accuracy: 0.9457\n",
      "\n",
      "Epoch 00011: val_loss did not improve from 0.11873\n",
      "Epoch 12/50\n",
      "40/40 [==============================] - 37s 919ms/step - loss: 0.0853 - accuracy: 0.9653 - val_loss: 0.1355 - val_accuracy: 0.9457\n",
      "\n",
      "Epoch 00012: val_loss did not improve from 0.11873\n",
      "Epoch 13/50\n",
      "40/40 [==============================] - 37s 920ms/step - loss: 0.0703 - accuracy: 0.9692 - val_loss: 0.1229 - val_accuracy: 0.9540\n",
      "\n",
      "Epoch 00013: val_loss did not improve from 0.11873\n",
      "Epoch 14/50\n",
      "40/40 [==============================] - 37s 919ms/step - loss: 0.0754 - accuracy: 0.9657 - val_loss: 0.1698 - val_accuracy: 0.9264\n",
      "\n",
      "Epoch 00014: val_loss did not improve from 0.11873\n",
      "Epoch 15/50\n",
      "40/40 [==============================] - 37s 919ms/step - loss: 0.0989 - accuracy: 0.9558 - val_loss: 0.1326 - val_accuracy: 0.9503\n",
      "\n",
      "Epoch 00015: val_loss did not improve from 0.11873\n",
      "Epoch 16/50\n",
      "40/40 [==============================] - 37s 920ms/step - loss: 0.0484 - accuracy: 0.9803 - val_loss: 0.1605 - val_accuracy: 0.9558\n",
      "\n",
      "Epoch 00016: val_loss did not improve from 0.11873\n",
      "Epoch 17/50\n",
      "40/40 [==============================] - 37s 920ms/step - loss: 0.0432 - accuracy: 0.9846 - val_loss: 0.1142 - val_accuracy: 0.9614\n",
      "\n",
      "Epoch 00017: val_loss improved from 0.11873 to 0.11421, saving model to ./check/VGG16(사전학습)/4번/3-1/model_17.h5\n",
      "Epoch 18/50\n",
      "40/40 [==============================] - 37s 920ms/step - loss: 0.0659 - accuracy: 0.9696 - val_loss: 0.1396 - val_accuracy: 0.9512\n",
      "\n",
      "Epoch 00018: val_loss did not improve from 0.11421\n",
      "Epoch 19/50\n",
      "40/40 [==============================] - 37s 921ms/step - loss: 0.0331 - accuracy: 0.9913 - val_loss: 0.2707 - val_accuracy: 0.9476\n",
      "\n",
      "Epoch 00019: val_loss did not improve from 0.11421\n",
      "Epoch 20/50\n",
      "40/40 [==============================] - 37s 920ms/step - loss: 0.0901 - accuracy: 0.9676 - val_loss: 0.1412 - val_accuracy: 0.9531\n",
      "\n",
      "Epoch 00020: val_loss did not improve from 0.11421\n",
      "Epoch 21/50\n",
      "40/40 [==============================] - 37s 919ms/step - loss: 0.0513 - accuracy: 0.9842 - val_loss: 0.1437 - val_accuracy: 0.9558\n",
      "\n",
      "Epoch 00021: val_loss did not improve from 0.11421\n",
      "Epoch 22/50\n",
      "40/40 [==============================] - 37s 920ms/step - loss: 0.0201 - accuracy: 0.9917 - val_loss: 0.1656 - val_accuracy: 0.9393\n",
      "\n",
      "Epoch 00022: val_loss did not improve from 0.11421\n",
      "Epoch 23/50\n",
      "40/40 [==============================] - 37s 918ms/step - loss: 0.0433 - accuracy: 0.9866 - val_loss: 0.1880 - val_accuracy: 0.9301\n",
      "\n",
      "Epoch 00023: val_loss did not improve from 0.11421\n",
      "Epoch 24/50\n",
      "40/40 [==============================] - 37s 918ms/step - loss: 0.0649 - accuracy: 0.9751 - val_loss: 0.1452 - val_accuracy: 0.9540\n",
      "\n",
      "Epoch 00024: val_loss did not improve from 0.11421\n",
      "Epoch 25/50\n",
      "40/40 [==============================] - 37s 920ms/step - loss: 0.0064 - accuracy: 0.9984 - val_loss: 0.2341 - val_accuracy: 0.9586\n",
      "\n",
      "Epoch 00025: val_loss did not improve from 0.11421\n",
      "Epoch 26/50\n",
      "40/40 [==============================] - 37s 918ms/step - loss: 0.1038 - accuracy: 0.9641 - val_loss: 0.1597 - val_accuracy: 0.9466\n",
      "\n",
      "Epoch 00026: val_loss did not improve from 0.11421\n",
      "Epoch 27/50\n",
      "40/40 [==============================] - 37s 918ms/step - loss: 0.0521 - accuracy: 0.9759 - val_loss: 0.2212 - val_accuracy: 0.9476\n",
      "\n",
      "Epoch 00027: val_loss did not improve from 0.11421\n",
      "Restoring model weights from the end of the best epoch.\n",
      "Epoch 00027: early stopping\n"
     ]
    }
   ],
   "source": [
    "history = model.fit(x_train, y_train, batch_size=64, epochs=50, validation_data=(x_val, y_val),callbacks=[model_checkpoint_callback, early_stopping_callback])"
   ]
  },
  {
   "cell_type": "code",
   "execution_count": 11,
   "id": "0acd0390",
   "metadata": {},
   "outputs": [
    {
     "data": {
      "image/png": "[encoded data removed]",
      "text/plain": [
       "<Figure size 432x288 with 1 Axes>"
      ]
     },
     "metadata": {
      "needs_background": "light"
     },
     "output_type": "display_data"
    },
    {
     "data": {
      "image/png": "[encoded data removed]",
      "text/plain": [
       "<Figure size 432x288 with 1 Axes>"
      ]
     },
     "metadata": {
      "needs_background": "light"
     },
     "output_type": "display_data"
    }
   ],
   "source": [
    "import matplotlib.pyplot as plt\n",
    "\n",
    "# 정확도 시각화\n",
    "plt.plot(history.history['accuracy'])\n",
    "plt.plot(history.history['val_accuracy'])\n",
    "plt.title('Model accuracy')\n",
    "plt.xlabel('Epochs')\n",
    "plt.ylabel('Accuracy')\n",
    "plt.legend(['Train', 'Validation'], loc='upper left')\n",
    "plt.show()\n",
    "\n",
    "# 손실값 시각화\n",
    "plt.plot(history.history['loss'])\n",
    "plt.plot(history.history['val_loss'])\n",
    "plt.title('Model loss')\n",
    "plt.xlabel('Epochs')\n",
    "plt.ylabel('Loss')\n",
    "plt.legend(['Train', 'Validation'], loc='upper left')\n",
    "plt.show()"
   ]
  },
  {
   "cell_type": "code",
   "execution_count": 15,
   "id": "10953b1d",
   "metadata": {},
   "outputs": [],
   "source": [
    "# checkpoint로 저장한 모델 불러올 때\n",
    "from tensorflow.keras.models import load_model\n",
    "\n",
    "# 체크포인트 파일의 경로를 지정합니다.\n",
    "checkpoint_filepath = './check/VGG16(사전학습)/4번/3-1/model_17.h5'\n",
    "\n",
    "# 체크포인트에 저장된 모델을 로드합니다.\n",
    "model = load_model(checkpoint_filepath)\n",
    "\n",
    "pred = model.predict(x_val)\n",
    "pred_class = np.argmax(pred, axis=1)"
   ]
  },
  {
   "cell_type": "code",
   "execution_count": 16,
   "id": "fa11bc74",
   "metadata": {},
   "outputs": [
    {
     "name": "stdout",
     "output_type": "stream",
     "text": [
      "[0 0 0 ... 1 1 0]\n",
      "[0 0 0 ... 1 0 0]\n",
      "[[9.9999523e-01 4.7500030e-06]\n",
      " [9.9999881e-01 1.2384352e-06]\n",
      " [7.6634592e-01 2.3365411e-01]\n",
      " ...\n",
      " [3.6737425e-04 9.9963260e-01]\n",
      " [4.8224840e-01 5.1775163e-01]\n",
      " [9.9999928e-01 7.4979948e-07]]\n",
      "accuracy: 0.961362\n"
     ]
    }
   ],
   "source": [
    "print(pred_class)\n",
    "print(y_val)\n",
    "print(pred)\n",
    "\n",
    "acc = np.mean(pred_class == y_val)\n",
    "print('accuracy: %f' % (acc,))"
   ]
  },
  {
   "cell_type": "code",
   "execution_count": 17,
   "id": "1156bd30",
   "metadata": {},
   "outputs": [
    {
     "data": {
      "image/png": "[encoded data removed]",
      "text/plain": [
       "<Figure size 360x360 with 2 Axes>"
      ]
     },
     "metadata": {
      "needs_background": "light"
     },
     "output_type": "display_data"
    }
   ],
   "source": [
    "from sklearn.metrics import confusion_matrix\n",
    "import seaborn as sns\n",
    "\n",
    "# confusion matrix 생성\n",
    "cm = confusion_matrix(y_val, pred_class)\n",
    "\n",
    "# confusion matrix 출력\n",
    "plt.figure(figsize=(5,5))\n",
    "sns.heatmap(cm, annot=True, fmt=\"d\")\n",
    "plt.title('Confusion matrix')\n",
    "plt.ylabel('Actual label')\n",
    "plt.xlabel('Predicted label')\n",
    "plt.show()"
   ]
  },
  {
   "cell_type": "code",
   "execution_count": null,
   "id": "e9875387",
   "metadata": {},
   "outputs": [],
   "source": []
  },
  {
   "cell_type": "code",
   "execution_count": null,
   "id": "ac921087",
   "metadata": {},
   "outputs": [],
   "source": []
  },
  {
   "cell_type": "code",
   "execution_count": null,
   "id": "592f76e8",
   "metadata": {},
   "outputs": [],
   "source": []
  },
  {
   "cell_type": "code",
   "execution_count": null,
   "id": "cc4b5444",
   "metadata": {},
   "outputs": [],
   "source": []
  },
  {
   "cell_type": "code",
   "execution_count": null,
   "id": "85f20838",
   "metadata": {},
   "outputs": [],
   "source": []
  },
  {
   "cell_type": "code",
   "execution_count": null,
   "id": "323dcdc2",
   "metadata": {},
   "outputs": [],
   "source": []
  },
  {
   "cell_type": "code",
   "execution_count": null,
   "id": "6ee3d637",
   "metadata": {},
   "outputs": [],
   "source": []
  },
  {
   "cell_type": "code",
   "execution_count": null,
   "id": "aa8dd831",
   "metadata": {},
   "outputs": [],
   "source": []
  },
  {
   "cell_type": "code",
   "execution_count": null,
   "id": "60625f29",
   "metadata": {},
   "outputs": [],
   "source": []
  },
  {
   "cell_type": "code",
   "execution_count": null,
   "id": "86af7710",
   "metadata": {},
   "outputs": [],
   "source": []
  },
  {
   "cell_type": "code",
   "execution_count": null,
   "id": "d9edd6bd",
   "metadata": {},
   "outputs": [],
   "source": []
  },
  {
   "cell_type": "code",
   "execution_count": null,
   "id": "18053962",
   "metadata": {},
   "outputs": [],
   "source": []
  },
  {
   "cell_type": "code",
   "execution_count": null,
   "id": "c271af29",
   "metadata": {},
   "outputs": [],
   "source": []
  },
  {
   "cell_type": "code",
   "execution_count": null,
   "id": "033b5b93",
   "metadata": {},
   "outputs": [],
   "source": []
  },
  {
   "cell_type": "code",
   "execution_count": null,
   "id": "837703dd",
   "metadata": {},
   "outputs": [],
   "source": []
  },
  {
   "cell_type": "code",
   "execution_count": null,
   "id": "f10e9332",
   "metadata": {},
   "outputs": [],
   "source": []
  },
  {
   "cell_type": "code",
   "execution_count": null,
   "id": "e51e2199",
   "metadata": {},
   "outputs": [],
   "source": []
  },
  {
   "cell_type": "code",
   "execution_count": null,
   "id": "71877ae3",
   "metadata": {},
   "outputs": [],
   "source": []
  },
  {
   "cell_type": "code",
   "execution_count": null,
   "id": "05d7272a",
   "metadata": {},
   "outputs": [],
   "source": []
  },
  {
   "cell_type": "code",
   "execution_count": null,
   "id": "c1d3bb1a",
   "metadata": {},
   "outputs": [],
   "source": []
  },
  {
   "cell_type": "code",
   "execution_count": null,
   "id": "6972341d",
   "metadata": {},
   "outputs": [],
   "source": []
  },
  {
   "cell_type": "code",
   "execution_count": null,
   "id": "c64a0048",
   "metadata": {},
   "outputs": [],
   "source": []
  },
  {
   "cell_type": "code",
   "execution_count": null,
   "id": "bfbc8426",
   "metadata": {},
   "outputs": [],
   "source": [
    "# 1-1-2"
   ]
  },
  {
   "cell_type": "markdown",
   "id": "a3de52e8",
   "metadata": {},
   "source": [
    "## 정규화, random_state=42, batch_size=16, epochs=50, learning rate=0.0001(네번째자리),"
   ]
  },
  {
   "cell_type": "markdown",
   "id": "c97076ec",
   "metadata": {},
   "source": [
    "## 데이터 바로 사용해도 되는지 확인"
   ]
  },
  {
   "cell_type": "code",
   "execution_count": 17,
   "id": "557a44de",
   "metadata": {
    "scrolled": true
   },
   "outputs": [
    {
     "name": "stdout",
     "output_type": "stream",
     "text": [
      "x_train:  (2534, 224, 224, 3)\n",
      "y_train:  (2534,)\n",
      "x_val:  (1087, 224, 224, 3)\n",
      "y_val:  (1087,)\n"
     ]
    }
   ],
   "source": [
    "print(\"x_train: \", x_train.shape)\n",
    "print(\"y_train: \", y_train.shape)\n",
    "print(\"x_val: \", x_val.shape)\n",
    "print(\"y_val: \", y_val.shape)"
   ]
  },
  {
   "cell_type": "markdown",
   "id": "8cda7646",
   "metadata": {},
   "source": [
    "## (4) 모델 정의 및 컴파일"
   ]
  },
  {
   "cell_type": "code",
   "execution_count": 18,
   "id": "6e2af128",
   "metadata": {},
   "outputs": [
    {
     "name": "stdout",
     "output_type": "stream",
     "text": [
      "Model: \"model_1\"\n",
      "_________________________________________________________________\n",
      "Layer (type)                 Output Shape              Param #   \n",
      "=================================================================\n",
      "input_2 (InputLayer)         [(None, 224, 224, 3)]     0         \n",
      "_________________________________________________________________\n",
      "block1_conv1 (Conv2D)        (None, 224, 224, 64)      1792      \n",
      "_________________________________________________________________\n",
      "block1_conv2 (Conv2D)        (None, 224, 224, 64)      36928     \n",
      "_________________________________________________________________\n",
      "block1_pool (MaxPooling2D)   (None, 112, 112, 64)      0         \n",
      "_________________________________________________________________\n",
      "block2_conv1 (Conv2D)        (None, 112, 112, 128)     73856     \n",
      "_________________________________________________________________\n",
      "block2_conv2 (Conv2D)        (None, 112, 112, 128)     147584    \n",
      "_________________________________________________________________\n",
      "block2_pool (MaxPooling2D)   (None, 56, 56, 128)       0         \n",
      "_________________________________________________________________\n",
      "block3_conv1 (Conv2D)        (None, 56, 56, 256)       295168    \n",
      "_________________________________________________________________\n",
      "block3_conv2 (Conv2D)        (None, 56, 56, 256)       590080    \n",
      "_________________________________________________________________\n",
      "block3_conv3 (Conv2D)        (None, 56, 56, 256)       590080    \n",
      "_________________________________________________________________\n",
      "block3_pool (MaxPooling2D)   (None, 28, 28, 256)       0         \n",
      "_________________________________________________________________\n",
      "block4_conv1 (Conv2D)        (None, 28, 28, 512)       1180160   \n",
      "_________________________________________________________________\n",
      "block4_conv2 (Conv2D)        (None, 28, 28, 512)       2359808   \n",
      "_________________________________________________________________\n",
      "block4_conv3 (Conv2D)        (None, 28, 28, 512)       2359808   \n",
      "_________________________________________________________________\n",
      "block4_pool (MaxPooling2D)   (None, 14, 14, 512)       0         \n",
      "_________________________________________________________________\n",
      "block5_conv1 (Conv2D)        (None, 14, 14, 512)       2359808   \n",
      "_________________________________________________________________\n",
      "block5_conv2 (Conv2D)        (None, 14, 14, 512)       2359808   \n",
      "_________________________________________________________________\n",
      "block5_conv3 (Conv2D)        (None, 14, 14, 512)       2359808   \n",
      "_________________________________________________________________\n",
      "block5_pool (MaxPooling2D)   (None, 7, 7, 512)         0         \n",
      "_________________________________________________________________\n",
      "flatten_1 (Flatten)          (None, 25088)             0         \n",
      "_________________________________________________________________\n",
      "dense_5 (Dense)              (None, 1024)              25691136  \n",
      "_________________________________________________________________\n",
      "dense_6 (Dense)              (None, 514)               526850    \n",
      "_________________________________________________________________\n",
      "dense_7 (Dense)              (None, 64)                32960     \n",
      "_________________________________________________________________\n",
      "dense_8 (Dense)              (None, 32)                2080      \n",
      "_________________________________________________________________\n",
      "dense_9 (Dense)              (None, 2)                 66        \n",
      "=================================================================\n",
      "Total params: 40,967,780\n",
      "Trainable params: 40,967,780\n",
      "Non-trainable params: 0\n",
      "_________________________________________________________________\n"
     ]
    }
   ],
   "source": [
    "from tensorflow.keras.applications import VGG16\n",
    "\n",
    "# VGG16 모델 가져오기\n",
    "vgg_model = VGG16(weights = 'imagenet', include_top=False, input_shape=(224, 224, 3))\n",
    "\n",
    "x = Flatten()(vgg_model.output) \n",
    "x = Dense(1024, activation='relu')(x)\n",
    "x = Dense(514, activation='relu')(x)\n",
    "x = Dense(64, activation='relu')(x)\n",
    "x = Dense(32, activation='relu')(x)\n",
    "output = Dense(2, activation='softmax')(x)\n",
    "\n",
    "# 새로운 모델 정의\n",
    "model = tf.keras.models.Model(inputs=vgg_model.input, outputs=output)\n",
    "model.summary()"
   ]
  },
  {
   "cell_type": "code",
   "execution_count": 19,
   "id": "4d7e464b",
   "metadata": {},
   "outputs": [],
   "source": [
    "learning_rate = 0.0001\n",
    "adam = tf.keras.optimizers.Adam(learning_rate=learning_rate)\n",
    "\n",
    "# 모델 컴파일\n",
    "model.compile(optimizer= adam,\n",
    "              loss='sparse_categorical_crossentropy', \n",
    "              metrics=['accuracy'])"
   ]
  },
  {
   "cell_type": "markdown",
   "id": "689ae100",
   "metadata": {},
   "source": [
    "## (5) 모델 학습하기"
   ]
  },
  {
   "cell_type": "code",
   "execution_count": null,
   "id": "9534def0",
   "metadata": {},
   "outputs": [],
   "source": [
    "history = model.fit(x_train, y_train, batch_size=16, epochs=50, validation_data=(x_val, y_val))"
   ]
  },
  {
   "cell_type": "markdown",
   "id": "cf77565c",
   "metadata": {},
   "source": [
    "## (6) 예측하기"
   ]
  },
  {
   "cell_type": "code",
   "execution_count": null,
   "id": "82fe3970",
   "metadata": {},
   "outputs": [],
   "source": [
    "pred = model.predict(x_val)\n",
    "pred_class = np.argmax(pred, axis=1)"
   ]
  },
  {
   "cell_type": "code",
   "execution_count": null,
   "id": "f0f9fe07",
   "metadata": {},
   "outputs": [],
   "source": [
    "print(pred_class)\n",
    "print(y_val)\n",
    "print(pred)"
   ]
  },
  {
   "cell_type": "code",
   "execution_count": null,
   "id": "fc89e2cb",
   "metadata": {},
   "outputs": [],
   "source": [
    "acc = np.mean(pred_class == y_val)\n",
    "print('accuracy: %f' % (acc,))"
   ]
  },
  {
   "cell_type": "markdown",
   "id": "eca5605a",
   "metadata": {},
   "source": [
    "## loss, accuracy 시각화"
   ]
  },
  {
   "cell_type": "code",
   "execution_count": null,
   "id": "506fa999",
   "metadata": {},
   "outputs": [],
   "source": [
    "# 정확도 시각화\n",
    "plt.plot(history.history['accuracy'])\n",
    "plt.plot(history.history['val_accuracy'])\n",
    "plt.title('Model accuracy')\n",
    "plt.xlabel('Epochs')\n",
    "plt.ylabel('Accuracy')\n",
    "plt.legend(['Train', 'Validation'], loc='upper left')\n",
    "plt.show()\n",
    "\n",
    "# 손실값 시각화\n",
    "plt.plot(history.history['loss'])\n",
    "plt.plot(history.history['val_loss'])\n",
    "plt.title('Model loss')\n",
    "plt.xlabel('Epochs')\n",
    "plt.ylabel('Loss')\n",
    "plt.legend(['Train', 'Validation'], loc='upper left')\n",
    "plt.show()"
   ]
  },
  {
   "cell_type": "markdown",
   "id": "d2cf42ef",
   "metadata": {},
   "source": [
    "## confusion_matrix"
   ]
  },
  {
   "cell_type": "code",
   "execution_count": null,
   "id": "833b30e5",
   "metadata": {},
   "outputs": [],
   "source": [
    "# confusion matrix 생성\n",
    "cm = confusion_matrix(y_val, pred_class)\n",
    "\n",
    "# confusion matrix 출력\n",
    "plt.figure(figsize=(5,5))\n",
    "sns.heatmap(cm, annot=True, fmt=\"d\")\n",
    "plt.title('Confusion matrix')\n",
    "plt.ylabel('Actual label')\n",
    "plt.xlabel('Predicted label')\n",
    "plt.show()"
   ]
  },
  {
   "cell_type": "markdown",
   "id": "d705007a",
   "metadata": {},
   "source": [
    "## classification_report"
   ]
  },
  {
   "cell_type": "code",
   "execution_count": null,
   "id": "45a5630b",
   "metadata": {},
   "outputs": [],
   "source": [
    "print(classification_report(y_val, pred_class))"
   ]
  },
  {
   "cell_type": "code",
   "execution_count": null,
   "id": "acfbe883",
   "metadata": {},
   "outputs": [],
   "source": []
  },
  {
   "cell_type": "code",
   "execution_count": null,
   "id": "179c2707",
   "metadata": {},
   "outputs": [],
   "source": []
  },
  {
   "cell_type": "code",
   "execution_count": null,
   "id": "3397ab44",
   "metadata": {},
   "outputs": [],
   "source": [
    "## 1-2-1"
   ]
  },
  {
   "cell_type": "markdown",
   "id": "1a830fbb",
   "metadata": {},
   "source": [
    "## 정규화, random_state=42, batch_size=16, epochs=30, learning rate=0.00001(다섯번째자리),"
   ]
  },
  {
   "cell_type": "markdown",
   "id": "a747bdef",
   "metadata": {},
   "source": [
    "## 데이터 바로 사용해도 되는지 확인"
   ]
  },
  {
   "cell_type": "code",
   "execution_count": 20,
   "id": "8f4864bf",
   "metadata": {
    "scrolled": true
   },
   "outputs": [
    {
     "name": "stdout",
     "output_type": "stream",
     "text": [
      "x_train:  (2534, 224, 224, 3)\n",
      "y_train:  (2534,)\n",
      "x_val:  (1087, 224, 224, 3)\n",
      "y_val:  (1087,)\n"
     ]
    }
   ],
   "source": [
    "print(\"x_train: \", x_train.shape)\n",
    "print(\"y_train: \", y_train.shape)\n",
    "print(\"x_val: \", x_val.shape)\n",
    "print(\"y_val: \", y_val.shape)"
   ]
  },
  {
   "cell_type": "markdown",
   "id": "1cb2759a",
   "metadata": {},
   "source": [
    "## (4) 모델 정의 및 컴파일"
   ]
  },
  {
   "cell_type": "code",
   "execution_count": 21,
   "id": "bb152914",
   "metadata": {},
   "outputs": [
    {
     "name": "stdout",
     "output_type": "stream",
     "text": [
      "Model: \"model_2\"\n",
      "_________________________________________________________________\n",
      "Layer (type)                 Output Shape              Param #   \n",
      "=================================================================\n",
      "input_3 (InputLayer)         [(None, 224, 224, 3)]     0         \n",
      "_________________________________________________________________\n",
      "block1_conv1 (Conv2D)        (None, 224, 224, 64)      1792      \n",
      "_________________________________________________________________\n",
      "block1_conv2 (Conv2D)        (None, 224, 224, 64)      36928     \n",
      "_________________________________________________________________\n",
      "block1_pool (MaxPooling2D)   (None, 112, 112, 64)      0         \n",
      "_________________________________________________________________\n",
      "block2_conv1 (Conv2D)        (None, 112, 112, 128)     73856     \n",
      "_________________________________________________________________\n",
      "block2_conv2 (Conv2D)        (None, 112, 112, 128)     147584    \n",
      "_________________________________________________________________\n",
      "block2_pool (MaxPooling2D)   (None, 56, 56, 128)       0         \n",
      "_________________________________________________________________\n",
      "block3_conv1 (Conv2D)        (None, 56, 56, 256)       295168    \n",
      "_________________________________________________________________\n",
      "block3_conv2 (Conv2D)        (None, 56, 56, 256)       590080    \n",
      "_________________________________________________________________\n",
      "block3_conv3 (Conv2D)        (None, 56, 56, 256)       590080    \n",
      "_________________________________________________________________\n",
      "block3_pool (MaxPooling2D)   (None, 28, 28, 256)       0         \n",
      "_________________________________________________________________\n",
      "block4_conv1 (Conv2D)        (None, 28, 28, 512)       1180160   \n",
      "_________________________________________________________________\n",
      "block4_conv2 (Conv2D)        (None, 28, 28, 512)       2359808   \n",
      "_________________________________________________________________\n",
      "block4_conv3 (Conv2D)        (None, 28, 28, 512)       2359808   \n",
      "_________________________________________________________________\n",
      "block4_pool (MaxPooling2D)   (None, 14, 14, 512)       0         \n",
      "_________________________________________________________________\n",
      "block5_conv1 (Conv2D)        (None, 14, 14, 512)       2359808   \n",
      "_________________________________________________________________\n",
      "block5_conv2 (Conv2D)        (None, 14, 14, 512)       2359808   \n",
      "_________________________________________________________________\n",
      "block5_conv3 (Conv2D)        (None, 14, 14, 512)       2359808   \n",
      "_________________________________________________________________\n",
      "block5_pool (MaxPooling2D)   (None, 7, 7, 512)         0         \n",
      "_________________________________________________________________\n",
      "flatten_2 (Flatten)          (None, 25088)             0         \n",
      "_________________________________________________________________\n",
      "dense_10 (Dense)             (None, 1024)              25691136  \n",
      "_________________________________________________________________\n",
      "dense_11 (Dense)             (None, 514)               526850    \n",
      "_________________________________________________________________\n",
      "dense_12 (Dense)             (None, 64)                32960     \n",
      "_________________________________________________________________\n",
      "dense_13 (Dense)             (None, 32)                2080      \n",
      "_________________________________________________________________\n",
      "dense_14 (Dense)             (None, 2)                 66        \n",
      "=================================================================\n",
      "Total params: 40,967,780\n",
      "Trainable params: 40,967,780\n",
      "Non-trainable params: 0\n",
      "_________________________________________________________________\n"
     ]
    }
   ],
   "source": [
    "from tensorflow.keras.applications import VGG16\n",
    "\n",
    "# VGG16 모델 가져오기\n",
    "vgg_model = VGG16(weights = 'imagenet', include_top=False, input_shape=(224, 224, 3))\n",
    "\n",
    "x = Flatten()(vgg_model.output) \n",
    "x = Dense(1024, activation='relu')(x)\n",
    "x = Dense(514, activation='relu')(x)\n",
    "x = Dense(64, activation='relu')(x)\n",
    "x = Dense(32, activation='relu')(x)\n",
    "output = Dense(2, activation='softmax')(x)\n",
    "\n",
    "# 새로운 모델 정의\n",
    "model = tf.keras.models.Model(inputs=vgg_model.input, outputs=output)\n",
    "model.summary()"
   ]
  },
  {
   "cell_type": "code",
   "execution_count": 22,
   "id": "935d82e2",
   "metadata": {},
   "outputs": [],
   "source": [
    "learning_rate = 0.00001\n",
    "adam = tf.keras.optimizers.Adam(learning_rate=learning_rate)\n",
    "\n",
    "# 모델 컴파일\n",
    "model.compile(optimizer= adam,\n",
    "              loss='sparse_categorical_crossentropy', \n",
    "              metrics=['accuracy'])"
   ]
  },
  {
   "cell_type": "markdown",
   "id": "ab7e7f58",
   "metadata": {},
   "source": [
    "## (5) 모델 학습하기"
   ]
  },
  {
   "cell_type": "code",
   "execution_count": 23,
   "id": "a53bdf76",
   "metadata": {},
   "outputs": [
    {
     "name": "stdout",
     "output_type": "stream",
     "text": [
      "Epoch 1/30\n",
      "159/159 [==============================] - 42s 258ms/step - loss: 0.3740 - accuracy: 0.8508 - val_loss: 0.3190 - val_accuracy: 0.8730\n",
      "Epoch 2/30\n",
      "159/159 [==============================] - 38s 240ms/step - loss: 0.2442 - accuracy: 0.9061 - val_loss: 0.2255 - val_accuracy: 0.9071\n",
      "Epoch 3/30\n",
      "159/159 [==============================] - 39s 243ms/step - loss: 0.1565 - accuracy: 0.9424 - val_loss: 0.2767 - val_accuracy: 0.9006\n",
      "Epoch 4/30\n",
      "159/159 [==============================] - 39s 243ms/step - loss: 0.1058 - accuracy: 0.9566 - val_loss: 0.3439 - val_accuracy: 0.9062\n",
      "Epoch 5/30\n",
      "159/159 [==============================] - 39s 243ms/step - loss: 0.0427 - accuracy: 0.9866 - val_loss: 0.2608 - val_accuracy: 0.9126\n",
      "Epoch 6/30\n",
      "159/159 [==============================] - 39s 243ms/step - loss: 0.0155 - accuracy: 0.9957 - val_loss: 0.4225 - val_accuracy: 0.9154\n",
      "Epoch 7/30\n",
      "159/159 [==============================] - 39s 242ms/step - loss: 0.0093 - accuracy: 0.9968 - val_loss: 0.3300 - val_accuracy: 0.9172\n",
      "Epoch 8/30\n",
      "159/159 [==============================] - 39s 243ms/step - loss: 0.0053 - accuracy: 0.9992 - val_loss: 0.3200 - val_accuracy: 0.9144\n",
      "Epoch 9/30\n",
      "159/159 [==============================] - 39s 244ms/step - loss: 7.9136e-04 - accuracy: 1.0000 - val_loss: 0.3850 - val_accuracy: 0.9135\n",
      "Epoch 10/30\n",
      "159/159 [==============================] - 39s 243ms/step - loss: 2.5620e-04 - accuracy: 1.0000 - val_loss: 0.3926 - val_accuracy: 0.9181\n",
      "Epoch 11/30\n",
      "159/159 [==============================] - 39s 243ms/step - loss: 1.1876e-04 - accuracy: 1.0000 - val_loss: 0.4125 - val_accuracy: 0.9181\n",
      "Epoch 12/30\n",
      "159/159 [==============================] - 39s 243ms/step - loss: 8.6332e-05 - accuracy: 1.0000 - val_loss: 0.4194 - val_accuracy: 0.9200\n",
      "Epoch 13/30\n",
      "159/159 [==============================] - 39s 243ms/step - loss: 6.7511e-05 - accuracy: 1.0000 - val_loss: 0.4376 - val_accuracy: 0.9181\n",
      "Epoch 14/30\n",
      "159/159 [==============================] - 39s 243ms/step - loss: 5.3564e-05 - accuracy: 1.0000 - val_loss: 0.4551 - val_accuracy: 0.9163\n",
      "Epoch 15/30\n",
      "159/159 [==============================] - 39s 243ms/step - loss: 4.2994e-05 - accuracy: 1.0000 - val_loss: 0.4649 - val_accuracy: 0.9181\n",
      "Epoch 16/30\n",
      "159/159 [==============================] - 39s 243ms/step - loss: 3.5132e-05 - accuracy: 1.0000 - val_loss: 0.4658 - val_accuracy: 0.9209\n",
      "Epoch 17/30\n",
      "159/159 [==============================] - 39s 243ms/step - loss: 2.8220e-05 - accuracy: 1.0000 - val_loss: 0.4786 - val_accuracy: 0.9200\n",
      "Epoch 18/30\n",
      "159/159 [==============================] - 39s 243ms/step - loss: 2.3511e-05 - accuracy: 1.0000 - val_loss: 0.4871 - val_accuracy: 0.9200\n",
      "Epoch 19/30\n",
      "159/159 [==============================] - 39s 243ms/step - loss: 1.9460e-05 - accuracy: 1.0000 - val_loss: 0.4980 - val_accuracy: 0.9172\n",
      "Epoch 20/30\n",
      "159/159 [==============================] - 39s 243ms/step - loss: 1.6308e-05 - accuracy: 1.0000 - val_loss: 0.4992 - val_accuracy: 0.9209\n",
      "Epoch 21/30\n",
      "159/159 [==============================] - 39s 243ms/step - loss: 1.3537e-05 - accuracy: 1.0000 - val_loss: 0.5175 - val_accuracy: 0.9181\n",
      "Epoch 22/30\n",
      "159/159 [==============================] - 39s 243ms/step - loss: 1.1515e-05 - accuracy: 1.0000 - val_loss: 0.5150 - val_accuracy: 0.9218\n",
      "Epoch 23/30\n",
      "159/159 [==============================] - 39s 243ms/step - loss: 9.5799e-06 - accuracy: 1.0000 - val_loss: 0.5188 - val_accuracy: 0.9227\n",
      "Epoch 24/30\n",
      "159/159 [==============================] - 39s 243ms/step - loss: 8.0743e-06 - accuracy: 1.0000 - val_loss: 0.5275 - val_accuracy: 0.9218\n",
      "Epoch 25/30\n",
      "159/159 [==============================] - 39s 243ms/step - loss: 6.7802e-06 - accuracy: 1.0000 - val_loss: 0.5395 - val_accuracy: 0.9209\n",
      "Epoch 26/30\n",
      "159/159 [==============================] - 39s 243ms/step - loss: 5.8364e-06 - accuracy: 1.0000 - val_loss: 0.5515 - val_accuracy: 0.9209\n",
      "Epoch 27/30\n",
      "159/159 [==============================] - 39s 243ms/step - loss: 4.9340e-06 - accuracy: 1.0000 - val_loss: 0.5532 - val_accuracy: 0.9218\n",
      "Epoch 28/30\n",
      "159/159 [==============================] - 39s 243ms/step - loss: 4.2539e-06 - accuracy: 1.0000 - val_loss: 0.5658 - val_accuracy: 0.9209\n",
      "Epoch 29/30\n",
      "159/159 [==============================] - 39s 243ms/step - loss: 3.6001e-06 - accuracy: 1.0000 - val_loss: 0.5762 - val_accuracy: 0.9227\n",
      "Epoch 30/30\n",
      "159/159 [==============================] - 39s 243ms/step - loss: 3.1654e-06 - accuracy: 1.0000 - val_loss: 0.5687 - val_accuracy: 0.9218\n"
     ]
    }
   ],
   "source": [
    "history = model.fit(x_train, y_train, batch_size=16, epochs=30, validation_data=(x_val, y_val))"
   ]
  },
  {
   "cell_type": "markdown",
   "id": "fd3c59ac",
   "metadata": {},
   "source": [
    "## (6) 예측하기"
   ]
  },
  {
   "cell_type": "code",
   "execution_count": 24,
   "id": "aa46a04d",
   "metadata": {},
   "outputs": [],
   "source": [
    "pred = model.predict(x_val)\n",
    "pred_class = np.argmax(pred, axis=1)"
   ]
  },
  {
   "cell_type": "code",
   "execution_count": 25,
   "id": "2d785b3d",
   "metadata": {},
   "outputs": [
    {
     "name": "stdout",
     "output_type": "stream",
     "text": [
      "[0 0 0 ... 1 0 0]\n",
      "[0 0 0 ... 1 0 0]\n",
      "[[1.0000000e+00 1.1776606e-12]\n",
      " [1.0000000e+00 2.8025795e-08]\n",
      " [1.0000000e+00 1.5480486e-10]\n",
      " ...\n",
      " [3.1154377e-07 9.9999964e-01]\n",
      " [1.0000000e+00 5.7148479e-17]\n",
      " [7.0063084e-01 2.9936919e-01]]\n"
     ]
    }
   ],
   "source": [
    "print(pred_class)\n",
    "print(y_val)\n",
    "print(pred)"
   ]
  },
  {
   "cell_type": "code",
   "execution_count": 26,
   "id": "16349cc4",
   "metadata": {},
   "outputs": [
    {
     "name": "stdout",
     "output_type": "stream",
     "text": [
      "accuracy: 0.921803\n"
     ]
    }
   ],
   "source": [
    "acc = np.mean(pred_class == y_val)\n",
    "print('accuracy: %f' % (acc,))"
   ]
  },
  {
   "cell_type": "markdown",
   "id": "c0e68d8c",
   "metadata": {},
   "source": [
    "## loss, accuracy 시각화"
   ]
  },
  {
   "cell_type": "code",
   "execution_count": 27,
   "id": "011311b2",
   "metadata": {},
   "outputs": [
    {
     "data": {
      "image/png": "[encoded data removed]",
      "text/plain": [
       "<Figure size 432x288 with 1 Axes>"
      ]
     },
     "metadata": {
      "needs_background": "light"
     },
     "output_type": "display_data"
    },
    {
     "data": {
      "image/png": "[encoded data removed]",
      "text/plain": [
       "<Figure size 432x288 with 1 Axes>"
      ]
     },
     "metadata": {
      "needs_background": "light"
     },
     "output_type": "display_data"
    }
   ],
   "source": [
    "# 정확도 시각화\n",
    "plt.plot(history.history['accuracy'])\n",
    "plt.plot(history.history['val_accuracy'])\n",
    "plt.title('Model accuracy')\n",
    "plt.xlabel('Epochs')\n",
    "plt.ylabel('Accuracy')\n",
    "plt.legend(['Train', 'Validation'], loc='upper left')\n",
    "plt.show()\n",
    "\n",
    "# 손실값 시각화\n",
    "plt.plot(history.history['loss'])\n",
    "plt.plot(history.history['val_loss'])\n",
    "plt.title('Model loss')\n",
    "plt.xlabel('Epochs')\n",
    "plt.ylabel('Loss')\n",
    "plt.legend(['Train', 'Validation'], loc='upper left')\n",
    "plt.show()"
   ]
  },
  {
   "cell_type": "markdown",
   "id": "f1defdc3",
   "metadata": {},
   "source": [
    "## confusion_matrix"
   ]
  },
  {
   "cell_type": "code",
   "execution_count": 28,
   "id": "051ba31e",
   "metadata": {},
   "outputs": [
    {
     "data": {
      "image/png": "[encoded data removed]",
      "text/plain": [
       "<Figure size 360x360 with 2 Axes>"
      ]
     },
     "metadata": {
      "needs_background": "light"
     },
     "output_type": "display_data"
    }
   ],
   "source": [
    "# confusion matrix 생성\n",
    "cm = confusion_matrix(y_val, pred_class)\n",
    "\n",
    "# confusion matrix 출력\n",
    "plt.figure(figsize=(5,5))\n",
    "sns.heatmap(cm, annot=True, fmt=\"d\")\n",
    "plt.title('Confusion matrix')\n",
    "plt.ylabel('Actual label')\n",
    "plt.xlabel('Predicted label')\n",
    "plt.show()"
   ]
  },
  {
   "cell_type": "markdown",
   "id": "1c509911",
   "metadata": {},
   "source": [
    "## classification_report"
   ]
  },
  {
   "cell_type": "code",
   "execution_count": null,
   "id": "22025a01",
   "metadata": {},
   "outputs": [],
   "source": [
    "print(classification_report(y_val, pred_class))"
   ]
  },
  {
   "cell_type": "code",
   "execution_count": null,
   "id": "b8ddbcce",
   "metadata": {},
   "outputs": [],
   "source": []
  },
  {
   "cell_type": "code",
   "execution_count": null,
   "id": "bbe23b67",
   "metadata": {},
   "outputs": [],
   "source": []
  },
  {
   "cell_type": "code",
   "execution_count": null,
   "id": "75d2d4b5",
   "metadata": {},
   "outputs": [],
   "source": [
    "# 1-2-2"
   ]
  },
  {
   "cell_type": "markdown",
   "id": "37c3348f",
   "metadata": {},
   "source": [
    "## 정규화, random_state=42, batch_size=16, epochs=50, learning rate=0.00001(다섯번째자리),"
   ]
  },
  {
   "cell_type": "markdown",
   "id": "7dacbbdf",
   "metadata": {},
   "source": [
    "## 데이터 바로 사용해도 되는지 확인"
   ]
  },
  {
   "cell_type": "code",
   "execution_count": null,
   "id": "ad4e9c14",
   "metadata": {
    "scrolled": true
   },
   "outputs": [],
   "source": [
    "print(\"x_train: \", x_train.shape)\n",
    "print(\"y_train: \", y_train.shape)\n",
    "print(\"x_val: \", x_val.shape)\n",
    "print(\"y_val: \", y_val.shape)"
   ]
  },
  {
   "cell_type": "markdown",
   "id": "10bbf5d7",
   "metadata": {},
   "source": [
    "## (4) 모델 정의 및 컴파일"
   ]
  },
  {
   "cell_type": "code",
   "execution_count": null,
   "id": "6491453e",
   "metadata": {},
   "outputs": [],
   "source": [
    "from tensorflow.keras.applications import VGG16\n",
    "\n",
    "# VGG16 모델 가져오기\n",
    "vgg_model = VGG16(weights = 'imagenet', include_top=False, input_shape=(224, 224, 3))\n",
    "\n",
    "x = Flatten()(vgg_model.output) \n",
    "x = Dense(1024, activation='relu')(x)\n",
    "x = Dense(514, activation='relu')(x)\n",
    "x = Dense(64, activation='relu')(x)\n",
    "x = Dense(32, activation='relu')(x)\n",
    "output = Dense(2, activation='softmax')(x)\n",
    "\n",
    "# 새로운 모델 정의\n",
    "model = tf.keras.models.Model(inputs=vgg_model.input, outputs=output)\n",
    "model.summary()"
   ]
  },
  {
   "cell_type": "code",
   "execution_count": null,
   "id": "56c75696",
   "metadata": {},
   "outputs": [],
   "source": [
    "learning_rate = 0.00001\n",
    "adam = tf.keras.optimizers.Adam(learning_rate=learning_rate)\n",
    "\n",
    "# 모델 컴파일\n",
    "model.compile(optimizer= adam,\n",
    "              loss='sparse_categorical_crossentropy', \n",
    "              metrics=['accuracy'])"
   ]
  },
  {
   "cell_type": "markdown",
   "id": "b7eb59e9",
   "metadata": {},
   "source": [
    "## (5) 모델 학습하기"
   ]
  },
  {
   "cell_type": "code",
   "execution_count": null,
   "id": "68cbd196",
   "metadata": {},
   "outputs": [],
   "source": [
    "history = model.fit(x_train, y_train, batch_size=16, epochs=50, validation_data=(x_val, y_val))"
   ]
  },
  {
   "cell_type": "markdown",
   "id": "d8afd907",
   "metadata": {},
   "source": [
    "## (6) 예측하기"
   ]
  },
  {
   "cell_type": "code",
   "execution_count": null,
   "id": "757f4fa2",
   "metadata": {},
   "outputs": [],
   "source": [
    "pred = model.predict(x_val)\n",
    "pred_class = np.argmax(pred, axis=1)"
   ]
  },
  {
   "cell_type": "code",
   "execution_count": null,
   "id": "dd4b93f1",
   "metadata": {},
   "outputs": [],
   "source": [
    "print(pred_class)\n",
    "print(y_val)\n",
    "print(pred)"
   ]
  },
  {
   "cell_type": "code",
   "execution_count": null,
   "id": "b33bcef8",
   "metadata": {},
   "outputs": [],
   "source": [
    "acc = np.mean(pred_class == y_val)\n",
    "print('accuracy: %f' % (acc,))"
   ]
  },
  {
   "cell_type": "markdown",
   "id": "16f40da8",
   "metadata": {},
   "source": [
    "## loss, accuracy 시각화"
   ]
  },
  {
   "cell_type": "code",
   "execution_count": null,
   "id": "586e5a12",
   "metadata": {},
   "outputs": [],
   "source": [
    "# 정확도 시각화\n",
    "plt.plot(history.history['accuracy'])\n",
    "plt.plot(history.history['val_accuracy'])\n",
    "plt.title('Model accuracy')\n",
    "plt.xlabel('Epochs')\n",
    "plt.ylabel('Accuracy')\n",
    "plt.legend(['Train', 'Validation'], loc='upper left')\n",
    "plt.show()\n",
    "\n",
    "# 손실값 시각화\n",
    "plt.plot(history.history['loss'])\n",
    "plt.plot(history.history['val_loss'])\n",
    "plt.title('Model loss')\n",
    "plt.xlabel('Epochs')\n",
    "plt.ylabel('Loss')\n",
    "plt.legend(['Train', 'Validation'], loc='upper left')\n",
    "plt.show()"
   ]
  },
  {
   "cell_type": "markdown",
   "id": "c084f20c",
   "metadata": {},
   "source": [
    "## confusion_matrix"
   ]
  },
  {
   "cell_type": "code",
   "execution_count": null,
   "id": "2e06b2e4",
   "metadata": {},
   "outputs": [],
   "source": [
    "# confusion matrix 생성\n",
    "cm = confusion_matrix(y_val, pred_class)\n",
    "\n",
    "# confusion matrix 출력\n",
    "plt.figure(figsize=(5,5))\n",
    "sns.heatmap(cm, annot=True, fmt=\"d\")\n",
    "plt.title('Confusion matrix')\n",
    "plt.ylabel('Actual label')\n",
    "plt.xlabel('Predicted label')\n",
    "plt.show()"
   ]
  },
  {
   "cell_type": "markdown",
   "id": "ae1d77ca",
   "metadata": {},
   "source": [
    "## classification_report"
   ]
  },
  {
   "cell_type": "code",
   "execution_count": null,
   "id": "8a18cecf",
   "metadata": {},
   "outputs": [],
   "source": [
    "print(classification_report(y_val, pred_class))"
   ]
  },
  {
   "cell_type": "code",
   "execution_count": null,
   "id": "aeb97bdf",
   "metadata": {},
   "outputs": [],
   "source": []
  },
  {
   "cell_type": "code",
   "execution_count": null,
   "id": "551e632b",
   "metadata": {},
   "outputs": [],
   "source": [
    "# 1-3-1"
   ]
  },
  {
   "cell_type": "markdown",
   "id": "dc03bfad",
   "metadata": {},
   "source": [
    "## 정규화, random_state=42, batch_size=16, epochs=30, learning rate=0.000001(여섯번째자리),"
   ]
  },
  {
   "cell_type": "markdown",
   "id": "472cb918",
   "metadata": {},
   "source": [
    "## 데이터 바로 사용해도 되는지 확인"
   ]
  },
  {
   "cell_type": "code",
   "execution_count": 29,
   "id": "d1ede1f4",
   "metadata": {
    "scrolled": true
   },
   "outputs": [
    {
     "name": "stdout",
     "output_type": "stream",
     "text": [
      "x_train:  (2534, 224, 224, 3)\n",
      "y_train:  (2534,)\n",
      "x_val:  (1087, 224, 224, 3)\n",
      "y_val:  (1087,)\n"
     ]
    }
   ],
   "source": [
    "print(\"x_train: \", x_train.shape)\n",
    "print(\"y_train: \", y_train.shape)\n",
    "print(\"x_val: \", x_val.shape)\n",
    "print(\"y_val: \", y_val.shape)"
   ]
  },
  {
   "cell_type": "markdown",
   "id": "bdb546b3",
   "metadata": {},
   "source": [
    "## (4) 모델 정의 및 컴파일"
   ]
  },
  {
   "cell_type": "code",
   "execution_count": 30,
   "id": "bb811e94",
   "metadata": {},
   "outputs": [
    {
     "name": "stdout",
     "output_type": "stream",
     "text": [
      "Model: \"model_3\"\n",
      "_________________________________________________________________\n",
      "Layer (type)                 Output Shape              Param #   \n",
      "=================================================================\n",
      "input_4 (InputLayer)         [(None, 224, 224, 3)]     0         \n",
      "_________________________________________________________________\n",
      "block1_conv1 (Conv2D)        (None, 224, 224, 64)      1792      \n",
      "_________________________________________________________________\n",
      "block1_conv2 (Conv2D)        (None, 224, 224, 64)      36928     \n",
      "_________________________________________________________________\n",
      "block1_pool (MaxPooling2D)   (None, 112, 112, 64)      0         \n",
      "_________________________________________________________________\n",
      "block2_conv1 (Conv2D)        (None, 112, 112, 128)     73856     \n",
      "_________________________________________________________________\n",
      "block2_conv2 (Conv2D)        (None, 112, 112, 128)     147584    \n",
      "_________________________________________________________________\n",
      "block2_pool (MaxPooling2D)   (None, 56, 56, 128)       0         \n",
      "_________________________________________________________________\n",
      "block3_conv1 (Conv2D)        (None, 56, 56, 256)       295168    \n",
      "_________________________________________________________________\n",
      "block3_conv2 (Conv2D)        (None, 56, 56, 256)       590080    \n",
      "_________________________________________________________________\n",
      "block3_conv3 (Conv2D)        (None, 56, 56, 256)       590080    \n",
      "_________________________________________________________________\n",
      "block3_pool (MaxPooling2D)   (None, 28, 28, 256)       0         \n",
      "_________________________________________________________________\n",
      "block4_conv1 (Conv2D)        (None, 28, 28, 512)       1180160   \n",
      "_________________________________________________________________\n",
      "block4_conv2 (Conv2D)        (None, 28, 28, 512)       2359808   \n",
      "_________________________________________________________________\n",
      "block4_conv3 (Conv2D)        (None, 28, 28, 512)       2359808   \n",
      "_________________________________________________________________\n",
      "block4_pool (MaxPooling2D)   (None, 14, 14, 512)       0         \n",
      "_________________________________________________________________\n",
      "block5_conv1 (Conv2D)        (None, 14, 14, 512)       2359808   \n",
      "_________________________________________________________________\n",
      "block5_conv2 (Conv2D)        (None, 14, 14, 512)       2359808   \n",
      "_________________________________________________________________\n",
      "block5_conv3 (Conv2D)        (None, 14, 14, 512)       2359808   \n",
      "_________________________________________________________________\n",
      "block5_pool (MaxPooling2D)   (None, 7, 7, 512)         0         \n",
      "_________________________________________________________________\n",
      "flatten_3 (Flatten)          (None, 25088)             0         \n",
      "_________________________________________________________________\n",
      "dense_15 (Dense)             (None, 1024)              25691136  \n",
      "_________________________________________________________________\n",
      "dense_16 (Dense)             (None, 514)               526850    \n",
      "_________________________________________________________________\n",
      "dense_17 (Dense)             (None, 64)                32960     \n",
      "_________________________________________________________________\n",
      "dense_18 (Dense)             (None, 32)                2080      \n",
      "_________________________________________________________________\n",
      "dense_19 (Dense)             (None, 2)                 66        \n",
      "=================================================================\n",
      "Total params: 40,967,780\n",
      "Trainable params: 40,967,780\n",
      "Non-trainable params: 0\n",
      "_________________________________________________________________\n"
     ]
    }
   ],
   "source": [
    "from tensorflow.keras.applications import VGG16\n",
    "\n",
    "# VGG16 모델 가져오기\n",
    "vgg_model = VGG16(weights = 'imagenet', include_top=False, input_shape=(224, 224, 3))\n",
    "\n",
    "x = Flatten()(vgg_model.output) \n",
    "x = Dense(1024, activation='relu')(x)\n",
    "x = Dense(514, activation='relu')(x)\n",
    "x = Dense(64, activation='relu')(x)\n",
    "x = Dense(32, activation='relu')(x)\n",
    "output = Dense(2, activation='softmax')(x)\n",
    "\n",
    "# 새로운 모델 정의\n",
    "model = tf.keras.models.Model(inputs=vgg_model.input, outputs=output)\n",
    "model.summary()"
   ]
  },
  {
   "cell_type": "code",
   "execution_count": 31,
   "id": "a511d0ae",
   "metadata": {},
   "outputs": [],
   "source": [
    "learning_rate = 0.000001\n",
    "adam = tf.keras.optimizers.Adam(learning_rate=learning_rate)\n",
    "\n",
    "# 모델 컴파일\n",
    "model.compile(optimizer= adam,\n",
    "              loss='sparse_categorical_crossentropy', \n",
    "              metrics=['accuracy'])"
   ]
  },
  {
   "cell_type": "markdown",
   "id": "abedc6aa",
   "metadata": {},
   "source": [
    "## (5) 모델 학습하기"
   ]
  },
  {
   "cell_type": "code",
   "execution_count": 32,
   "id": "c1beb7aa",
   "metadata": {},
   "outputs": [
    {
     "name": "stdout",
     "output_type": "stream",
     "text": [
      "Epoch 1/30\n",
      "159/159 [==============================] - 44s 258ms/step - loss: 0.4325 - accuracy: 0.8382 - val_loss: 0.3851 - val_accuracy: 0.8491\n",
      "Epoch 2/30\n",
      "159/159 [==============================] - 38s 242ms/step - loss: 0.3630 - accuracy: 0.8390 - val_loss: 0.3387 - val_accuracy: 0.8546\n",
      "Epoch 3/30\n",
      "159/159 [==============================] - 39s 244ms/step - loss: 0.2995 - accuracy: 0.8737 - val_loss: 0.3047 - val_accuracy: 0.8749\n",
      "Epoch 4/30\n",
      "159/159 [==============================] - 39s 243ms/step - loss: 0.2479 - accuracy: 0.9049 - val_loss: 0.2764 - val_accuracy: 0.8960\n",
      "Epoch 5/30\n",
      "159/159 [==============================] - 39s 243ms/step - loss: 0.2083 - accuracy: 0.9242 - val_loss: 0.2587 - val_accuracy: 0.8988\n",
      "Epoch 6/30\n",
      "159/159 [==============================] - 39s 243ms/step - loss: 0.1757 - accuracy: 0.9376 - val_loss: 0.2546 - val_accuracy: 0.8951\n",
      "Epoch 7/30\n",
      "159/159 [==============================] - 39s 243ms/step - loss: 0.1446 - accuracy: 0.9550 - val_loss: 0.2364 - val_accuracy: 0.9052\n",
      "Epoch 8/30\n",
      "159/159 [==============================] - 39s 243ms/step - loss: 0.1193 - accuracy: 0.9645 - val_loss: 0.2317 - val_accuracy: 0.9080\n",
      "Epoch 9/30\n",
      "159/159 [==============================] - 39s 243ms/step - loss: 0.0978 - accuracy: 0.9771 - val_loss: 0.2259 - val_accuracy: 0.9135\n",
      "Epoch 10/30\n",
      "159/159 [==============================] - 39s 243ms/step - loss: 0.0791 - accuracy: 0.9834 - val_loss: 0.2406 - val_accuracy: 0.9154\n",
      "Epoch 11/30\n",
      "159/159 [==============================] - 39s 243ms/step - loss: 0.0609 - accuracy: 0.9897 - val_loss: 0.2262 - val_accuracy: 0.9181\n",
      "Epoch 12/30\n",
      "159/159 [==============================] - 39s 243ms/step - loss: 0.0467 - accuracy: 0.9937 - val_loss: 0.2365 - val_accuracy: 0.9200\n",
      "Epoch 13/30\n",
      "159/159 [==============================] - 39s 243ms/step - loss: 0.0350 - accuracy: 0.9964 - val_loss: 0.2340 - val_accuracy: 0.9200\n",
      "Epoch 14/30\n",
      "159/159 [==============================] - 39s 243ms/step - loss: 0.0269 - accuracy: 0.9988 - val_loss: 0.2356 - val_accuracy: 0.9080\n",
      "Epoch 15/30\n",
      "159/159 [==============================] - 39s 243ms/step - loss: 0.0200 - accuracy: 0.9996 - val_loss: 0.2501 - val_accuracy: 0.9135\n",
      "Epoch 16/30\n",
      "159/159 [==============================] - 39s 243ms/step - loss: 0.0148 - accuracy: 0.9996 - val_loss: 0.2856 - val_accuracy: 0.9200\n",
      "Epoch 17/30\n",
      "159/159 [==============================] - 39s 243ms/step - loss: 0.0115 - accuracy: 1.0000 - val_loss: 0.2838 - val_accuracy: 0.9181\n",
      "Epoch 18/30\n",
      "159/159 [==============================] - 39s 243ms/step - loss: 0.0091 - accuracy: 1.0000 - val_loss: 0.3014 - val_accuracy: 0.9190\n",
      "Epoch 19/30\n",
      "159/159 [==============================] - 39s 243ms/step - loss: 0.0063 - accuracy: 1.0000 - val_loss: 0.2776 - val_accuracy: 0.9163\n",
      "Epoch 20/30\n",
      "159/159 [==============================] - 39s 244ms/step - loss: 0.0050 - accuracy: 1.0000 - val_loss: 0.2956 - val_accuracy: 0.9154\n",
      "Epoch 21/30\n",
      "159/159 [==============================] - 39s 244ms/step - loss: 0.0039 - accuracy: 1.0000 - val_loss: 0.3013 - val_accuracy: 0.9172\n",
      "Epoch 22/30\n",
      "159/159 [==============================] - 39s 244ms/step - loss: 0.0030 - accuracy: 1.0000 - val_loss: 0.3283 - val_accuracy: 0.9181\n",
      "Epoch 23/30\n",
      "159/159 [==============================] - 39s 243ms/step - loss: 0.0025 - accuracy: 1.0000 - val_loss: 0.3282 - val_accuracy: 0.9172\n",
      "Epoch 24/30\n",
      "159/159 [==============================] - 39s 243ms/step - loss: 0.0021 - accuracy: 1.0000 - val_loss: 0.3287 - val_accuracy: 0.9190\n",
      "Epoch 25/30\n",
      "159/159 [==============================] - 39s 243ms/step - loss: 0.0018 - accuracy: 1.0000 - val_loss: 0.3164 - val_accuracy: 0.9135\n",
      "Epoch 26/30\n",
      "159/159 [==============================] - 39s 243ms/step - loss: 0.0015 - accuracy: 1.0000 - val_loss: 0.3417 - val_accuracy: 0.9172\n",
      "Epoch 27/30\n",
      "159/159 [==============================] - 39s 243ms/step - loss: 0.0012 - accuracy: 1.0000 - val_loss: 0.3500 - val_accuracy: 0.9181\n",
      "Epoch 28/30\n",
      "159/159 [==============================] - 39s 243ms/step - loss: 9.5926e-04 - accuracy: 1.0000 - val_loss: 0.3617 - val_accuracy: 0.9172\n",
      "Epoch 29/30\n",
      "159/159 [==============================] - 39s 243ms/step - loss: 8.3035e-04 - accuracy: 1.0000 - val_loss: 0.3649 - val_accuracy: 0.9181\n",
      "Epoch 30/30\n",
      "159/159 [==============================] - 39s 244ms/step - loss: 7.0600e-04 - accuracy: 1.0000 - val_loss: 0.3703 - val_accuracy: 0.9181\n"
     ]
    }
   ],
   "source": [
    "history = model.fit(x_train, y_train, batch_size=16, epochs=30, validation_data=(x_val, y_val))"
   ]
  },
  {
   "cell_type": "markdown",
   "id": "1c8011da",
   "metadata": {},
   "source": [
    "## (6) 예측하기"
   ]
  },
  {
   "cell_type": "code",
   "execution_count": null,
   "id": "6a28d4b3",
   "metadata": {},
   "outputs": [],
   "source": [
    "pred = model.predict(x_val)\n",
    "pred_class = np.argmax(pred, axis=1)"
   ]
  },
  {
   "cell_type": "code",
   "execution_count": null,
   "id": "6a3373e8",
   "metadata": {},
   "outputs": [],
   "source": [
    "print(pred_class)\n",
    "print(y_val)\n",
    "print(pred)"
   ]
  },
  {
   "cell_type": "code",
   "execution_count": null,
   "id": "9aa76039",
   "metadata": {},
   "outputs": [],
   "source": [
    "acc = np.mean(pred_class == y_val)\n",
    "print('accuracy: %f' % (acc,))"
   ]
  },
  {
   "cell_type": "markdown",
   "id": "995ea0cf",
   "metadata": {},
   "source": [
    "## loss, accuracy 시각화"
   ]
  },
  {
   "cell_type": "code",
   "execution_count": null,
   "id": "b54a3766",
   "metadata": {},
   "outputs": [],
   "source": [
    "# 정확도 시각화\n",
    "plt.plot(history.history['accuracy'])\n",
    "plt.plot(history.history['val_accuracy'])\n",
    "plt.title('Model accuracy')\n",
    "plt.xlabel('Epochs')\n",
    "plt.ylabel('Accuracy')\n",
    "plt.legend(['Train', 'Validation'], loc='upper left')\n",
    "plt.show()\n",
    "\n",
    "# 손실값 시각화\n",
    "plt.plot(history.history['loss'])\n",
    "plt.plot(history.history['val_loss'])\n",
    "plt.title('Model loss')\n",
    "plt.xlabel('Epochs')\n",
    "plt.ylabel('Loss')\n",
    "plt.legend(['Train', 'Validation'], loc='upper left')\n",
    "plt.show()"
   ]
  },
  {
   "cell_type": "markdown",
   "id": "069ba302",
   "metadata": {},
   "source": [
    "## confusion_matrix"
   ]
  },
  {
   "cell_type": "code",
   "execution_count": null,
   "id": "4f74abc6",
   "metadata": {},
   "outputs": [],
   "source": [
    "# confusion matrix 생성\n",
    "cm = confusion_matrix(y_val, pred_class)\n",
    "\n",
    "# confusion matrix 출력\n",
    "plt.figure(figsize=(5,5))\n",
    "sns.heatmap(cm, annot=True, fmt=\"d\")\n",
    "plt.title('Confusion matrix')\n",
    "plt.ylabel('Actual label')\n",
    "plt.xlabel('Predicted label')\n",
    "plt.show()"
   ]
  },
  {
   "cell_type": "markdown",
   "id": "34f7346a",
   "metadata": {},
   "source": [
    "## classification_report"
   ]
  },
  {
   "cell_type": "code",
   "execution_count": null,
   "id": "66762d16",
   "metadata": {},
   "outputs": [],
   "source": [
    "print(classification_report(y_val, pred_class))"
   ]
  },
  {
   "cell_type": "code",
   "execution_count": null,
   "id": "9a7431c2",
   "metadata": {},
   "outputs": [],
   "source": []
  },
  {
   "cell_type": "code",
   "execution_count": null,
   "id": "a8d7aa4d",
   "metadata": {},
   "outputs": [],
   "source": []
  },
  {
   "cell_type": "code",
   "execution_count": null,
   "id": "9a500862",
   "metadata": {},
   "outputs": [],
   "source": [
    "# 1-3-2"
   ]
  },
  {
   "cell_type": "markdown",
   "id": "0f6c9983",
   "metadata": {},
   "source": [
    "## 정규화, random_state=42, batch_size=16, epochs=50, learning rate=0.000001(여섯번째자리),"
   ]
  },
  {
   "cell_type": "markdown",
   "id": "05abe5b2",
   "metadata": {},
   "source": [
    "## 데이터 바로 사용해도 되는지 확인"
   ]
  },
  {
   "cell_type": "code",
   "execution_count": null,
   "id": "b092c9f2",
   "metadata": {
    "scrolled": true
   },
   "outputs": [],
   "source": [
    "print(\"x_train: \", x_train.shape)\n",
    "print(\"y_train: \", y_train.shape)\n",
    "print(\"x_val: \", x_val.shape)\n",
    "print(\"y_val: \", y_val.shape)"
   ]
  },
  {
   "cell_type": "markdown",
   "id": "52de61fa",
   "metadata": {},
   "source": [
    "## (4) 모델 정의 및 컴파일"
   ]
  },
  {
   "cell_type": "code",
   "execution_count": null,
   "id": "54b7098f",
   "metadata": {},
   "outputs": [],
   "source": [
    "from tensorflow.keras.applications import VGG16\n",
    "\n",
    "# VGG16 모델 가져오기\n",
    "vgg_model = VGG16(weights = 'imagenet', include_top=False, input_shape=(224, 224, 3))\n",
    "\n",
    "x = Flatten()(vgg_model.output) \n",
    "x = Dense(1024, activation='relu')(x)\n",
    "x = Dense(514, activation='relu')(x)\n",
    "x = Dense(64, activation='relu')(x)\n",
    "x = Dense(32, activation='relu')(x)\n",
    "output = Dense(2, activation='softmax')(x)\n",
    "\n",
    "# 새로운 모델 정의\n",
    "model = tf.keras.models.Model(inputs=vgg_model.input, outputs=output)\n",
    "model.summary()"
   ]
  },
  {
   "cell_type": "code",
   "execution_count": null,
   "id": "91849ea1",
   "metadata": {},
   "outputs": [],
   "source": [
    "learning_rate = 0.000001\n",
    "adam = tf.keras.optimizers.Adam(learning_rate=learning_rate)\n",
    "\n",
    "# 모델 컴파일\n",
    "model.compile(optimizer= adam,\n",
    "              loss='sparse_categorical_crossentropy', \n",
    "              metrics=['accuracy'])"
   ]
  },
  {
   "cell_type": "markdown",
   "id": "5325f355",
   "metadata": {},
   "source": [
    "## (5) 모델 학습하기"
   ]
  },
  {
   "cell_type": "code",
   "execution_count": null,
   "id": "9c92568a",
   "metadata": {},
   "outputs": [],
   "source": [
    "history = model.fit(x_train, y_train, batch_size=16, epochs=50, validation_data=(x_val, y_val))"
   ]
  },
  {
   "cell_type": "markdown",
   "id": "b93911bb",
   "metadata": {},
   "source": [
    "## (6) 예측하기"
   ]
  },
  {
   "cell_type": "code",
   "execution_count": null,
   "id": "f953115a",
   "metadata": {},
   "outputs": [],
   "source": [
    "pred = model.predict(x_val)\n",
    "pred_class = np.argmax(pred, axis=1)"
   ]
  },
  {
   "cell_type": "code",
   "execution_count": null,
   "id": "934e762d",
   "metadata": {},
   "outputs": [],
   "source": [
    "print(pred_class)\n",
    "print(y_val)\n",
    "print(pred)"
   ]
  },
  {
   "cell_type": "code",
   "execution_count": null,
   "id": "d714436d",
   "metadata": {},
   "outputs": [],
   "source": [
    "acc = np.mean(pred_class == y_val)\n",
    "print('accuracy: %f' % (acc,))"
   ]
  },
  {
   "cell_type": "markdown",
   "id": "fb6a9ebe",
   "metadata": {},
   "source": [
    "## loss, accuracy 시각화"
   ]
  },
  {
   "cell_type": "code",
   "execution_count": null,
   "id": "208bcf48",
   "metadata": {},
   "outputs": [],
   "source": [
    "# 정확도 시각화\n",
    "plt.plot(history.history['accuracy'])\n",
    "plt.plot(history.history['val_accuracy'])\n",
    "plt.title('Model accuracy')\n",
    "plt.xlabel('Epochs')\n",
    "plt.ylabel('Accuracy')\n",
    "plt.legend(['Train', 'Validation'], loc='upper left')\n",
    "plt.show()\n",
    "\n",
    "# 손실값 시각화\n",
    "plt.plot(history.history['loss'])\n",
    "plt.plot(history.history['val_loss'])\n",
    "plt.title('Model loss')\n",
    "plt.xlabel('Epochs')\n",
    "plt.ylabel('Loss')\n",
    "plt.legend(['Train', 'Validation'], loc='upper left')\n",
    "plt.show()"
   ]
  },
  {
   "cell_type": "markdown",
   "id": "060257aa",
   "metadata": {},
   "source": [
    "## confusion_matrix"
   ]
  },
  {
   "cell_type": "code",
   "execution_count": null,
   "id": "7af3211e",
   "metadata": {},
   "outputs": [],
   "source": [
    "# confusion matrix 생성\n",
    "cm = confusion_matrix(y_val, pred_class)\n",
    "\n",
    "# confusion matrix 출력\n",
    "plt.figure(figsize=(5,5))\n",
    "sns.heatmap(cm, annot=True, fmt=\"d\")\n",
    "plt.title('Confusion matrix')\n",
    "plt.ylabel('Actual label')\n",
    "plt.xlabel('Predicted label')\n",
    "plt.show()"
   ]
  },
  {
   "cell_type": "markdown",
   "id": "b6a80c95",
   "metadata": {},
   "source": [
    "## classification_report"
   ]
  },
  {
   "cell_type": "code",
   "execution_count": null,
   "id": "9973cb92",
   "metadata": {},
   "outputs": [],
   "source": [
    "print(classification_report(y_val, pred_class))"
   ]
  },
  {
   "cell_type": "code",
   "execution_count": null,
   "id": "2de234c0",
   "metadata": {},
   "outputs": [],
   "source": []
  },
  {
   "cell_type": "code",
   "execution_count": null,
   "id": "cca3e01b",
   "metadata": {},
   "outputs": [],
   "source": []
  },
  {
   "cell_type": "code",
   "execution_count": null,
   "id": "9dfa5ec9",
   "metadata": {},
   "outputs": [],
   "source": [
    "# 2-1-1"
   ]
  },
  {
   "cell_type": "markdown",
   "id": "3e3b8798",
   "metadata": {},
   "source": [
    "## 정규화, random_state=42, batch_size=32, epochs=30, learning rate=0.0001(네번째자리),"
   ]
  },
  {
   "cell_type": "markdown",
   "id": "d4788f56",
   "metadata": {},
   "source": [
    "## 데이터 바로 사용해도 되는지 확인"
   ]
  },
  {
   "cell_type": "code",
   "execution_count": 9,
   "id": "e5562974",
   "metadata": {
    "scrolled": true
   },
   "outputs": [
    {
     "name": "stdout",
     "output_type": "stream",
     "text": [
      "x_train:  (2534, 224, 224, 3)\n",
      "y_train:  (2534,)\n",
      "x_val:  (1087, 224, 224, 3)\n",
      "y_val:  (1087,)\n"
     ]
    }
   ],
   "source": [
    "print(\"x_train: \", x_train.shape)\n",
    "print(\"y_train: \", y_train.shape)\n",
    "print(\"x_val: \", x_val.shape)\n",
    "print(\"y_val: \", y_val.shape)"
   ]
  },
  {
   "cell_type": "markdown",
   "id": "9ba514d9",
   "metadata": {},
   "source": [
    "## (4) 모델 정의 및 컴파일"
   ]
  },
  {
   "cell_type": "code",
   "execution_count": 10,
   "id": "49e013af",
   "metadata": {},
   "outputs": [
    {
     "name": "stdout",
     "output_type": "stream",
     "text": [
      "Model: \"model\"\n",
      "_________________________________________________________________\n",
      "Layer (type)                 Output Shape              Param #   \n",
      "=================================================================\n",
      "input_2 (InputLayer)         [(None, 224, 224, 3)]     0         \n",
      "_________________________________________________________________\n",
      "block1_conv1 (Conv2D)        (None, 224, 224, 64)      1792      \n",
      "_________________________________________________________________\n",
      "block1_conv2 (Conv2D)        (None, 224, 224, 64)      36928     \n",
      "_________________________________________________________________\n",
      "block1_pool (MaxPooling2D)   (None, 112, 112, 64)      0         \n",
      "_________________________________________________________________\n",
      "block2_conv1 (Conv2D)        (None, 112, 112, 128)     73856     \n",
      "_________________________________________________________________\n",
      "block2_conv2 (Conv2D)        (None, 112, 112, 128)     147584    \n",
      "_________________________________________________________________\n",
      "block2_pool (MaxPooling2D)   (None, 56, 56, 128)       0         \n",
      "_________________________________________________________________\n",
      "block3_conv1 (Conv2D)        (None, 56, 56, 256)       295168    \n",
      "_________________________________________________________________\n",
      "block3_conv2 (Conv2D)        (None, 56, 56, 256)       590080    \n",
      "_________________________________________________________________\n",
      "block3_conv3 (Conv2D)        (None, 56, 56, 256)       590080    \n",
      "_________________________________________________________________\n",
      "block3_pool (MaxPooling2D)   (None, 28, 28, 256)       0         \n",
      "_________________________________________________________________\n",
      "block4_conv1 (Conv2D)        (None, 28, 28, 512)       1180160   \n",
      "_________________________________________________________________\n",
      "block4_conv2 (Conv2D)        (None, 28, 28, 512)       2359808   \n",
      "_________________________________________________________________\n",
      "block4_conv3 (Conv2D)        (None, 28, 28, 512)       2359808   \n",
      "_________________________________________________________________\n",
      "block4_pool (MaxPooling2D)   (None, 14, 14, 512)       0         \n",
      "_________________________________________________________________\n",
      "block5_conv1 (Conv2D)        (None, 14, 14, 512)       2359808   \n",
      "_________________________________________________________________\n",
      "block5_conv2 (Conv2D)        (None, 14, 14, 512)       2359808   \n",
      "_________________________________________________________________\n",
      "block5_conv3 (Conv2D)        (None, 14, 14, 512)       2359808   \n",
      "_________________________________________________________________\n",
      "block5_pool (MaxPooling2D)   (None, 7, 7, 512)         0         \n",
      "_________________________________________________________________\n",
      "flatten (Flatten)            (None, 25088)             0         \n",
      "_________________________________________________________________\n",
      "dense (Dense)                (None, 1024)              25691136  \n",
      "_________________________________________________________________\n",
      "dense_1 (Dense)              (None, 514)               526850    \n",
      "_________________________________________________________________\n",
      "dense_2 (Dense)              (None, 64)                32960     \n",
      "_________________________________________________________________\n",
      "dense_3 (Dense)              (None, 32)                2080      \n",
      "_________________________________________________________________\n",
      "dense_4 (Dense)              (None, 2)                 66        \n",
      "=================================================================\n",
      "Total params: 40,967,780\n",
      "Trainable params: 40,967,780\n",
      "Non-trainable params: 0\n",
      "_________________________________________________________________\n"
     ]
    }
   ],
   "source": [
    "from tensorflow.keras.applications import VGG16\n",
    "\n",
    "# VGG16 모델 가져오기\n",
    "vgg_model = VGG16(weights = 'imagenet', include_top=False, input_shape=(224, 224, 3))\n",
    "\n",
    "x = Flatten()(vgg_model.output) \n",
    "x = Dense(1024, activation='relu')(x)\n",
    "x = Dense(514, activation='relu')(x)\n",
    "x = Dense(64, activation='relu')(x)\n",
    "x = Dense(32, activation='relu')(x)\n",
    "output = Dense(2, activation='softmax')(x)\n",
    "\n",
    "# 새로운 모델 정의\n",
    "model = tf.keras.models.Model(inputs=vgg_model.input, outputs=output)\n",
    "model.summary()"
   ]
  },
  {
   "cell_type": "code",
   "execution_count": 11,
   "id": "81c06966",
   "metadata": {},
   "outputs": [],
   "source": [
    "learning_rate = 0.0001\n",
    "adam = tf.keras.optimizers.Adam(learning_rate=learning_rate)\n",
    "\n",
    "# early stopping\n",
    "from keras.callbacks import EarlyStopping\n",
    "\n",
    "\n",
    "# EarlyStopping 객체를 생성합니다.\n",
    "# 'val_loss'를 모니터링하고, 3 epoch 동안 성능 향상이 없으면 학습을 중단합니다.\n",
    "early_stopping = EarlyStopping(monitor='val_loss', patience=3)\n",
    "\n",
    "\n",
    "# 모델 컴파일\n",
    "model.compile(optimizer= adam,\n",
    "              loss='sparse_categorical_crossentropy', \n",
    "              metrics=['accuracy'])\n",
    "# 여기부터 실행"
   ]
  },
  {
   "cell_type": "markdown",
   "id": "677b7f03",
   "metadata": {},
   "source": [
    "## (5) 모델 학습하기"
   ]
  },
  {
   "cell_type": "code",
   "execution_count": 12,
   "id": "6739c837",
   "metadata": {},
   "outputs": [
    {
     "name": "stdout",
     "output_type": "stream",
     "text": [
      "Epoch 1/30\n",
      "80/80 [==============================] - 98s 582ms/step - loss: 0.4509 - accuracy: 0.8339 - val_loss: 0.4373 - val_accuracy: 0.8491\n",
      "Epoch 2/30\n",
      "80/80 [==============================] - 36s 456ms/step - loss: 0.4307 - accuracy: 0.8382 - val_loss: 0.4274 - val_accuracy: 0.8491\n",
      "Epoch 3/30\n",
      "80/80 [==============================] - 37s 459ms/step - loss: 0.4488 - accuracy: 0.8382 - val_loss: 0.4292 - val_accuracy: 0.8491\n",
      "Epoch 4/30\n",
      "80/80 [==============================] - 36s 455ms/step - loss: 0.4475 - accuracy: 0.8382 - val_loss: 0.4316 - val_accuracy: 0.8491\n",
      "Epoch 5/30\n",
      "80/80 [==============================] - 36s 457ms/step - loss: 0.4331 - accuracy: 0.8382 - val_loss: 0.4011 - val_accuracy: 0.8482\n",
      "Epoch 6/30\n",
      "80/80 [==============================] - 36s 457ms/step - loss: 0.3169 - accuracy: 0.8678 - val_loss: 0.2778 - val_accuracy: 0.8868\n",
      "Epoch 7/30\n",
      "80/80 [==============================] - 37s 459ms/step - loss: 0.2422 - accuracy: 0.8994 - val_loss: 0.2224 - val_accuracy: 0.9071\n",
      "Epoch 8/30\n",
      "80/80 [==============================] - 37s 459ms/step - loss: 0.1783 - accuracy: 0.9250 - val_loss: 0.1795 - val_accuracy: 0.9365\n",
      "Epoch 9/30\n",
      "80/80 [==============================] - 37s 457ms/step - loss: 0.1521 - accuracy: 0.9345 - val_loss: 0.1610 - val_accuracy: 0.9273\n",
      "Epoch 10/30\n",
      "80/80 [==============================] - 37s 458ms/step - loss: 0.1089 - accuracy: 0.9570 - val_loss: 0.1382 - val_accuracy: 0.9384\n",
      "Epoch 11/30\n",
      "80/80 [==============================] - 37s 457ms/step - loss: 0.1739 - accuracy: 0.9258 - val_loss: 0.1385 - val_accuracy: 0.9512\n",
      "Epoch 12/30\n",
      "80/80 [==============================] - 36s 457ms/step - loss: 0.1255 - accuracy: 0.9519 - val_loss: 0.2497 - val_accuracy: 0.9025\n",
      "Epoch 13/30\n",
      "80/80 [==============================] - 36s 456ms/step - loss: 0.1158 - accuracy: 0.9546 - val_loss: 0.2471 - val_accuracy: 0.8859\n"
     ]
    }
   ],
   "source": [
    "history = model.fit(x_train, y_train, batch_size=32, epochs=30, validation_data=(x_val, y_val), callbacks=[early_stopping])"
   ]
  },
  {
   "cell_type": "markdown",
   "id": "13e3a3ca",
   "metadata": {},
   "source": [
    "## (6) 예측하기"
   ]
  },
  {
   "cell_type": "code",
   "execution_count": 13,
   "id": "b0ea05b0",
   "metadata": {},
   "outputs": [],
   "source": [
    "pred = model.predict(x_val)\n",
    "pred_class = np.argmax(pred, axis=1)"
   ]
  },
  {
   "cell_type": "code",
   "execution_count": 14,
   "id": "64f9c773",
   "metadata": {},
   "outputs": [
    {
     "name": "stdout",
     "output_type": "stream",
     "text": [
      "[0 0 0 ... 1 0 0]\n",
      "[0 0 0 ... 1 0 0]\n",
      "[[9.4095528e-01 5.9044667e-02]\n",
      " [9.9994969e-01 5.0335122e-05]\n",
      " [9.9999642e-01 3.5953631e-06]\n",
      " ...\n",
      " [1.2102814e-02 9.8789716e-01]\n",
      " [9.7987980e-01 2.0120228e-02]\n",
      " [9.9932134e-01 6.7867542e-04]]\n"
     ]
    }
   ],
   "source": [
    "print(pred_class)\n",
    "print(y_val)\n",
    "print(pred)"
   ]
  },
  {
   "cell_type": "code",
   "execution_count": 15,
   "id": "839f0e3e",
   "metadata": {},
   "outputs": [
    {
     "name": "stdout",
     "output_type": "stream",
     "text": [
      "accuracy: 0.885925\n"
     ]
    }
   ],
   "source": [
    "acc = np.mean(pred_class == y_val)\n",
    "print('accuracy: %f' % (acc,))"
   ]
  },
  {
   "cell_type": "markdown",
   "id": "fddcaad9",
   "metadata": {},
   "source": [
    "## loss, accuracy 시각화"
   ]
  },
  {
   "cell_type": "code",
   "execution_count": 18,
   "id": "dd15d065",
   "metadata": {},
   "outputs": [
    {
     "data": {
      "image/png": "[encoded data removed]",
      "text/plain": [
       "<Figure size 432x288 with 1 Axes>"
      ]
     },
     "metadata": {
      "needs_background": "light"
     },
     "output_type": "display_data"
    },
    {
     "data": {
      "image/png": "[encoded data removed]",
      "text/plain": [
       "<Figure size 432x288 with 1 Axes>"
      ]
     },
     "metadata": {
      "needs_background": "light"
     },
     "output_type": "display_data"
    }
   ],
   "source": [
    "\n",
    "\n",
    "# 정확도 시각화\n",
    "plt.plot(history.history['accuracy'])\n",
    "plt.plot(history.history['val_accuracy'])\n",
    "plt.title('Model accuracy')\n",
    "plt.xlabel('Epochs')\n",
    "plt.ylabel('Accuracy')\n",
    "plt.legend(['Train', 'Validation'], loc='upper left')\n",
    "plt.show()\n",
    "\n",
    "# 손실값 시각화\n",
    "plt.plot(history.history['loss'])\n",
    "plt.plot(history.history['val_loss'])\n",
    "plt.title('Model loss')\n",
    "plt.xlabel('Epochs')\n",
    "plt.ylabel('Loss')\n",
    "plt.legend(['Train', 'Validation'], loc='upper left')\n",
    "plt.show()"
   ]
  },
  {
   "cell_type": "markdown",
   "id": "458c026c",
   "metadata": {},
   "source": [
    "## confusion_matrix"
   ]
  },
  {
   "cell_type": "code",
   "execution_count": 22,
   "id": "c5ee647a",
   "metadata": {},
   "outputs": [
    {
     "data": {
      "image/png": "[encoded data removed]",
      "text/plain": [
       "<Figure size 360x360 with 2 Axes>"
      ]
     },
     "metadata": {
      "needs_background": "light"
     },
     "output_type": "display_data"
    }
   ],
   "source": [
    "# confusion matrix 생성\n",
    "cm = confusion_matrix(y_val, pred_class)\n",
    "\n",
    "# confusion matrix 출력\n",
    "plt.figure(figsize=(5,5))\n",
    "sns.heatmap(cm, annot=True, fmt=\"d\")\n",
    "plt.title('Confusion matrix')\n",
    "plt.ylabel('Actual label')\n",
    "plt.xlabel('Predicted label')\n",
    "plt.show()"
   ]
  },
  {
   "cell_type": "markdown",
   "id": "5fcaed1f",
   "metadata": {},
   "source": [
    "## classification_report"
   ]
  },
  {
   "cell_type": "code",
   "execution_count": null,
   "id": "22398a89",
   "metadata": {},
   "outputs": [],
   "source": [
    "print(classification_report(y_val, pred_class))"
   ]
  },
  {
   "cell_type": "code",
   "execution_count": null,
   "id": "24bd1833",
   "metadata": {},
   "outputs": [],
   "source": []
  },
  {
   "cell_type": "code",
   "execution_count": null,
   "id": "6757b177",
   "metadata": {},
   "outputs": [],
   "source": []
  },
  {
   "cell_type": "code",
   "execution_count": null,
   "id": "914c9343",
   "metadata": {},
   "outputs": [],
   "source": [
    "# 2-1-2"
   ]
  },
  {
   "cell_type": "markdown",
   "id": "1b1a1d1f",
   "metadata": {},
   "source": [
    "## 정규화, random_state=42, batch_size=32, epochs=50, learning rate=0.0001(네번째자리),"
   ]
  },
  {
   "cell_type": "markdown",
   "id": "f4e3f219",
   "metadata": {},
   "source": [
    "## 데이터 바로 사용해도 되는지 확인"
   ]
  },
  {
   "cell_type": "code",
   "execution_count": null,
   "id": "81ac6ad9",
   "metadata": {
    "scrolled": true
   },
   "outputs": [],
   "source": [
    "print(\"x_train: \", x_train.shape)\n",
    "print(\"y_train: \", y_train.shape)\n",
    "print(\"x_val: \", x_val.shape)\n",
    "print(\"y_val: \", y_val.shape)"
   ]
  },
  {
   "cell_type": "markdown",
   "id": "8f54d957",
   "metadata": {},
   "source": [
    "## (4) 모델 정의 및 컴파일"
   ]
  },
  {
   "cell_type": "code",
   "execution_count": null,
   "id": "04ac96e6",
   "metadata": {},
   "outputs": [],
   "source": [
    "from tensorflow.keras.applications import VGG16\n",
    "\n",
    "# VGG16 모델 가져오기\n",
    "vgg_model = VGG16(weights = 'imagenet', include_top=False, input_shape=(224, 224, 3))\n",
    "\n",
    "x = Flatten()(vgg_model.output) \n",
    "x = Dense(1024, activation='relu')(x)\n",
    "x = Dense(514, activation='relu')(x)\n",
    "x = Dense(64, activation='relu')(x)\n",
    "x = Dense(32, activation='relu')(x)\n",
    "output = Dense(2, activation='softmax')(x)\n",
    "\n",
    "# 새로운 모델 정의\n",
    "model = tf.keras.models.Model(inputs=vgg_model.input, outputs=output)\n",
    "model.summary()"
   ]
  },
  {
   "cell_type": "code",
   "execution_count": null,
   "id": "c61528cb",
   "metadata": {},
   "outputs": [],
   "source": [
    "learning_rate = 0.0001\n",
    "adam = tf.keras.optimizers.Adam(learning_rate=learning_rate)\n",
    "\n",
    "# 모델 컴파일\n",
    "model.compile(optimizer= adam,\n",
    "              loss='sparse_categorical_crossentropy', \n",
    "              metrics=['accuracy'])"
   ]
  },
  {
   "cell_type": "markdown",
   "id": "8148efcf",
   "metadata": {},
   "source": [
    "## (5) 모델 학습하기"
   ]
  },
  {
   "cell_type": "code",
   "execution_count": null,
   "id": "aebde910",
   "metadata": {},
   "outputs": [],
   "source": [
    "history = model.fit(x_train, y_train, batch_size=32, epochs=50, validation_data=(x_val, y_val))"
   ]
  },
  {
   "cell_type": "markdown",
   "id": "609e0ad2",
   "metadata": {},
   "source": [
    "## (6) 예측하기"
   ]
  },
  {
   "cell_type": "code",
   "execution_count": null,
   "id": "4ed5f426",
   "metadata": {},
   "outputs": [],
   "source": [
    "pred = model.predict(x_val)\n",
    "pred_class = np.argmax(pred, axis=1)"
   ]
  },
  {
   "cell_type": "code",
   "execution_count": null,
   "id": "ee45d808",
   "metadata": {},
   "outputs": [],
   "source": [
    "print(pred_class)\n",
    "print(y_val)\n",
    "print(pred)"
   ]
  },
  {
   "cell_type": "code",
   "execution_count": null,
   "id": "9f267345",
   "metadata": {},
   "outputs": [],
   "source": [
    "acc = np.mean(pred_class == y_val)\n",
    "print('accuracy: %f' % (acc,))"
   ]
  },
  {
   "cell_type": "markdown",
   "id": "e88dfad8",
   "metadata": {},
   "source": [
    "## loss, accuracy 시각화"
   ]
  },
  {
   "cell_type": "code",
   "execution_count": null,
   "id": "6d6044fa",
   "metadata": {},
   "outputs": [],
   "source": [
    "# 정확도 시각화\n",
    "plt.plot(history.history['accuracy'])\n",
    "plt.plot(history.history['val_accuracy'])\n",
    "plt.title('Model accuracy')\n",
    "plt.xlabel('Epochs')\n",
    "plt.ylabel('Accuracy')\n",
    "plt.legend(['Train', 'Validation'], loc='upper left')\n",
    "plt.show()\n",
    "\n",
    "# 손실값 시각화\n",
    "plt.plot(history.history['loss'])\n",
    "plt.plot(history.history['val_loss'])\n",
    "plt.title('Model loss')\n",
    "plt.xlabel('Epochs')\n",
    "plt.ylabel('Loss')\n",
    "plt.legend(['Train', 'Validation'], loc='upper left')\n",
    "plt.show()"
   ]
  },
  {
   "cell_type": "markdown",
   "id": "3a557d7b",
   "metadata": {},
   "source": [
    "## confusion_matrix"
   ]
  },
  {
   "cell_type": "code",
   "execution_count": null,
   "id": "2d050e66",
   "metadata": {},
   "outputs": [],
   "source": [
    "# confusion matrix 생성\n",
    "cm = confusion_matrix(y_val, pred_class)\n",
    "\n",
    "# confusion matrix 출력\n",
    "plt.figure(figsize=(5,5))\n",
    "sns.heatmap(cm, annot=True, fmt=\"d\")\n",
    "plt.title('Confusion matrix')\n",
    "plt.ylabel('Actual label')\n",
    "plt.xlabel('Predicted label')\n",
    "plt.show()"
   ]
  },
  {
   "cell_type": "markdown",
   "id": "82534ceb",
   "metadata": {},
   "source": [
    "## classification_report"
   ]
  },
  {
   "cell_type": "code",
   "execution_count": null,
   "id": "b8713a3a",
   "metadata": {},
   "outputs": [],
   "source": [
    "print(classification_report(y_val, pred_class))"
   ]
  },
  {
   "cell_type": "code",
   "execution_count": null,
   "id": "6e7a526c",
   "metadata": {},
   "outputs": [],
   "source": []
  },
  {
   "cell_type": "code",
   "execution_count": null,
   "id": "0f054e9f",
   "metadata": {},
   "outputs": [],
   "source": []
  },
  {
   "cell_type": "code",
   "execution_count": null,
   "id": "5f01dd99",
   "metadata": {},
   "outputs": [],
   "source": [
    "# 2-2-1"
   ]
  },
  {
   "cell_type": "markdown",
   "id": "71aa0889",
   "metadata": {},
   "source": [
    "## 정규화, random_state=42, batch_size=32, epochs=30, learning rate=0.00001(다섯번째자리),"
   ]
  },
  {
   "cell_type": "markdown",
   "id": "93479698",
   "metadata": {},
   "source": [
    "## 데이터 바로 사용해도 되는지 확인"
   ]
  },
  {
   "cell_type": "code",
   "execution_count": null,
   "id": "ecc5be88",
   "metadata": {
    "scrolled": true
   },
   "outputs": [],
   "source": [
    "print(\"x_train: \", x_train.shape)\n",
    "print(\"y_train: \", y_train.shape)\n",
    "print(\"x_val: \", x_val.shape)\n",
    "print(\"y_val: \", y_val.shape)"
   ]
  },
  {
   "cell_type": "markdown",
   "id": "deaeae2a",
   "metadata": {},
   "source": [
    "## (4) 모델 정의 및 컴파일"
   ]
  },
  {
   "cell_type": "code",
   "execution_count": null,
   "id": "0eb6e950",
   "metadata": {},
   "outputs": [],
   "source": [
    "from tensorflow.keras.applications import VGG16\n",
    "\n",
    "# VGG16 모델 가져오기\n",
    "vgg_model = VGG16(weights = 'imagenet', include_top=False, input_shape=(224, 224, 3))\n",
    "\n",
    "x = Flatten()(vgg_model.output) \n",
    "x = Dense(1024, activation='relu')(x)\n",
    "x = Dense(514, activation='relu')(x)\n",
    "x = Dense(64, activation='relu')(x)\n",
    "x = Dense(32, activation='relu')(x)\n",
    "output = Dense(2, activation='softmax')(x)\n",
    "\n",
    "# 새로운 모델 정의\n",
    "model = tf.keras.models.Model(inputs=vgg_model.input, outputs=output)\n",
    "model.summary()"
   ]
  },
  {
   "cell_type": "code",
   "execution_count": null,
   "id": "4440b3ae",
   "metadata": {},
   "outputs": [],
   "source": [
    "learning_rate = 0.00001\n",
    "adam = tf.keras.optimizers.Adam(learning_rate=learning_rate)\n",
    "\n",
    "# 모델 컴파일\n",
    "model.compile(optimizer= adam,\n",
    "              loss='sparse_categorical_crossentropy', \n",
    "              metrics=['accuracy'])"
   ]
  },
  {
   "cell_type": "markdown",
   "id": "6d2478b5",
   "metadata": {},
   "source": [
    "## (5) 모델 학습하기"
   ]
  },
  {
   "cell_type": "code",
   "execution_count": null,
   "id": "06c0b8a9",
   "metadata": {},
   "outputs": [],
   "source": [
    "history = model.fit(x_train, y_train, batch_size=32, epochs=30, validation_data=(x_val, y_val))"
   ]
  },
  {
   "cell_type": "markdown",
   "id": "1f87e5c8",
   "metadata": {},
   "source": [
    "## (6) 예측하기"
   ]
  },
  {
   "cell_type": "code",
   "execution_count": null,
   "id": "9a78f010",
   "metadata": {},
   "outputs": [],
   "source": [
    "pred = model.predict(x_val)\n",
    "pred_class = np.argmax(pred, axis=1)"
   ]
  },
  {
   "cell_type": "code",
   "execution_count": null,
   "id": "a4617e65",
   "metadata": {},
   "outputs": [],
   "source": [
    "print(pred_class)\n",
    "print(y_val)\n",
    "print(pred)"
   ]
  },
  {
   "cell_type": "code",
   "execution_count": null,
   "id": "c67f1b0a",
   "metadata": {},
   "outputs": [],
   "source": [
    "acc = np.mean(pred_class == y_val)\n",
    "print('accuracy: %f' % (acc,))"
   ]
  },
  {
   "cell_type": "markdown",
   "id": "8b9d57c1",
   "metadata": {},
   "source": [
    "## loss, accuracy 시각화"
   ]
  },
  {
   "cell_type": "code",
   "execution_count": null,
   "id": "cea2a338",
   "metadata": {},
   "outputs": [],
   "source": [
    "# 정확도 시각화\n",
    "plt.plot(history.history['accuracy'])\n",
    "plt.plot(history.history['val_accuracy'])\n",
    "plt.title('Model accuracy')\n",
    "plt.xlabel('Epochs')\n",
    "plt.ylabel('Accuracy')\n",
    "plt.legend(['Train', 'Validation'], loc='upper left')\n",
    "plt.show()\n",
    "\n",
    "# 손실값 시각화\n",
    "plt.plot(history.history['loss'])\n",
    "plt.plot(history.history['val_loss'])\n",
    "plt.title('Model loss')\n",
    "plt.xlabel('Epochs')\n",
    "plt.ylabel('Loss')\n",
    "plt.legend(['Train', 'Validation'], loc='upper left')\n",
    "plt.show()"
   ]
  },
  {
   "cell_type": "markdown",
   "id": "7ad00463",
   "metadata": {},
   "source": [
    "## confusion_matrix"
   ]
  },
  {
   "cell_type": "code",
   "execution_count": null,
   "id": "475635fa",
   "metadata": {},
   "outputs": [],
   "source": [
    "# confusion matrix 생성\n",
    "cm = confusion_matrix(y_val, pred_class)\n",
    "\n",
    "# confusion matrix 출력\n",
    "plt.figure(figsize=(5,5))\n",
    "sns.heatmap(cm, annot=True, fmt=\"d\")\n",
    "plt.title('Confusion matrix')\n",
    "plt.ylabel('Actual label')\n",
    "plt.xlabel('Predicted label')\n",
    "plt.show()"
   ]
  },
  {
   "cell_type": "markdown",
   "id": "a7fda173",
   "metadata": {},
   "source": [
    "## classification_report"
   ]
  },
  {
   "cell_type": "code",
   "execution_count": null,
   "id": "44a53dc3",
   "metadata": {},
   "outputs": [],
   "source": [
    "print(classification_report(y_val, pred_class))"
   ]
  },
  {
   "cell_type": "code",
   "execution_count": null,
   "id": "09c72d04",
   "metadata": {},
   "outputs": [],
   "source": []
  },
  {
   "cell_type": "code",
   "execution_count": null,
   "id": "be7ac209",
   "metadata": {},
   "outputs": [],
   "source": []
  },
  {
   "cell_type": "code",
   "execution_count": null,
   "id": "4e36e62c",
   "metadata": {},
   "outputs": [],
   "source": [
    "# 2-2-2"
   ]
  },
  {
   "cell_type": "markdown",
   "id": "21b6415d",
   "metadata": {},
   "source": [
    "## 정규화, random_state=42, batch_size=32, epochs=50, learning rate=0.00001(다섯번째자리),"
   ]
  },
  {
   "cell_type": "markdown",
   "id": "1a5d019c",
   "metadata": {},
   "source": [
    "## 데이터 바로 사용해도 되는지 확인"
   ]
  },
  {
   "cell_type": "code",
   "execution_count": null,
   "id": "4b3c4209",
   "metadata": {
    "scrolled": true
   },
   "outputs": [],
   "source": [
    "print(\"x_train: \", x_train.shape)\n",
    "print(\"y_train: \", y_train.shape)\n",
    "print(\"x_val: \", x_val.shape)\n",
    "print(\"y_val: \", y_val.shape)"
   ]
  },
  {
   "cell_type": "markdown",
   "id": "b6d56a3f",
   "metadata": {},
   "source": [
    "## (4) 모델 정의 및 컴파일"
   ]
  },
  {
   "cell_type": "code",
   "execution_count": null,
   "id": "cfa0fc9c",
   "metadata": {},
   "outputs": [],
   "source": [
    "from tensorflow.keras.applications import VGG16\n",
    "\n",
    "# VGG16 모델 가져오기\n",
    "vgg_model = VGG16(weights = 'imagenet', include_top=False, input_shape=(224, 224, 3))\n",
    "\n",
    "x = Flatten()(vgg_model.output) \n",
    "x = Dense(1024, activation='relu')(x)\n",
    "x = Dense(514, activation='relu')(x)\n",
    "x = Dense(64, activation='relu')(x)\n",
    "x = Dense(32, activation='relu')(x)\n",
    "output = Dense(2, activation='softmax')(x)\n",
    "\n",
    "# 새로운 모델 정의\n",
    "model = tf.keras.models.Model(inputs=vgg_model.input, outputs=output)\n",
    "model.summary()"
   ]
  },
  {
   "cell_type": "code",
   "execution_count": null,
   "id": "20da7e31",
   "metadata": {},
   "outputs": [],
   "source": [
    "learning_rate = 0.00001\n",
    "adam = tf.keras.optimizers.Adam(learning_rate=learning_rate)\n",
    "\n",
    "# 모델 컴파일\n",
    "model.compile(optimizer= adam,\n",
    "              loss='sparse_categorical_crossentropy', \n",
    "              metrics=['accuracy'])"
   ]
  },
  {
   "cell_type": "markdown",
   "id": "99183b75",
   "metadata": {},
   "source": [
    "## (5) 모델 학습하기"
   ]
  },
  {
   "cell_type": "code",
   "execution_count": null,
   "id": "6432d740",
   "metadata": {},
   "outputs": [],
   "source": [
    "history = model.fit(x_train, y_train, batch_size=32, epochs=50, validation_data=(x_val, y_val))"
   ]
  },
  {
   "cell_type": "markdown",
   "id": "7e28b15c",
   "metadata": {},
   "source": [
    "## (6) 예측하기"
   ]
  },
  {
   "cell_type": "code",
   "execution_count": null,
   "id": "25e97600",
   "metadata": {},
   "outputs": [],
   "source": [
    "pred = model.predict(x_val)\n",
    "pred_class = np.argmax(pred, axis=1)"
   ]
  },
  {
   "cell_type": "code",
   "execution_count": null,
   "id": "a713ed94",
   "metadata": {},
   "outputs": [],
   "source": [
    "print(pred_class)\n",
    "print(y_val)\n",
    "print(pred)"
   ]
  },
  {
   "cell_type": "code",
   "execution_count": null,
   "id": "a1d3a642",
   "metadata": {},
   "outputs": [],
   "source": [
    "acc = np.mean(pred_class == y_val)\n",
    "print('accuracy: %f' % (acc,))"
   ]
  },
  {
   "cell_type": "markdown",
   "id": "bb9fefce",
   "metadata": {},
   "source": [
    "## loss, accuracy 시각화"
   ]
  },
  {
   "cell_type": "code",
   "execution_count": null,
   "id": "bebe85eb",
   "metadata": {},
   "outputs": [],
   "source": [
    "# 정확도 시각화\n",
    "plt.plot(history.history['accuracy'])\n",
    "plt.plot(history.history['val_accuracy'])\n",
    "plt.title('Model accuracy')\n",
    "plt.xlabel('Epochs')\n",
    "plt.ylabel('Accuracy')\n",
    "plt.legend(['Train', 'Validation'], loc='upper left')\n",
    "plt.show()\n",
    "\n",
    "# 손실값 시각화\n",
    "plt.plot(history.history['loss'])\n",
    "plt.plot(history.history['val_loss'])\n",
    "plt.title('Model loss')\n",
    "plt.xlabel('Epochs')\n",
    "plt.ylabel('Loss')\n",
    "plt.legend(['Train', 'Validation'], loc='upper left')\n",
    "plt.show()"
   ]
  },
  {
   "cell_type": "markdown",
   "id": "02d20af9",
   "metadata": {},
   "source": [
    "## confusion_matrix"
   ]
  },
  {
   "cell_type": "code",
   "execution_count": null,
   "id": "fc9e1e72",
   "metadata": {},
   "outputs": [],
   "source": [
    "# confusion matrix 생성\n",
    "cm = confusion_matrix(y_val, pred_class)\n",
    "\n",
    "# confusion matrix 출력\n",
    "plt.figure(figsize=(5,5))\n",
    "sns.heatmap(cm, annot=True, fmt=\"d\")\n",
    "plt.title('Confusion matrix')\n",
    "plt.ylabel('Actual label')\n",
    "plt.xlabel('Predicted label')\n",
    "plt.show()"
   ]
  },
  {
   "cell_type": "markdown",
   "id": "d6f29df1",
   "metadata": {},
   "source": [
    "## classification_report"
   ]
  },
  {
   "cell_type": "code",
   "execution_count": null,
   "id": "24a4cba1",
   "metadata": {},
   "outputs": [],
   "source": [
    "print(classification_report(y_val, pred_class))"
   ]
  },
  {
   "cell_type": "code",
   "execution_count": null,
   "id": "50737ade",
   "metadata": {},
   "outputs": [],
   "source": []
  },
  {
   "cell_type": "code",
   "execution_count": null,
   "id": "aa0ebe2b",
   "metadata": {},
   "outputs": [],
   "source": []
  },
  {
   "cell_type": "code",
   "execution_count": null,
   "id": "bcbd149d",
   "metadata": {},
   "outputs": [],
   "source": [
    "## 2-3-1"
   ]
  },
  {
   "cell_type": "markdown",
   "id": "7ca2f7c4",
   "metadata": {},
   "source": [
    "## 정규화, random_state=42, batch_size=32, epochs=30, learning rate=0.000001(여섯번째자리),"
   ]
  },
  {
   "cell_type": "markdown",
   "id": "fc330dd7",
   "metadata": {},
   "source": [
    "## 데이터 바로 사용해도 되는지 확인"
   ]
  },
  {
   "cell_type": "code",
   "execution_count": null,
   "id": "b8426c0c",
   "metadata": {
    "scrolled": true
   },
   "outputs": [],
   "source": [
    "print(\"x_train: \", x_train.shape)\n",
    "print(\"y_train: \", y_train.shape)\n",
    "print(\"x_val: \", x_val.shape)\n",
    "print(\"y_val: \", y_val.shape)"
   ]
  },
  {
   "cell_type": "markdown",
   "id": "31fea2a3",
   "metadata": {},
   "source": [
    "## (4) 모델 정의 및 컴파일"
   ]
  },
  {
   "cell_type": "code",
   "execution_count": null,
   "id": "98a23a81",
   "metadata": {},
   "outputs": [],
   "source": [
    "from tensorflow.keras.applications import VGG16\n",
    "\n",
    "# VGG16 모델 가져오기\n",
    "vgg_model = VGG16(weights = 'imagenet', include_top=False, input_shape=(224, 224, 3))\n",
    "\n",
    "x = Flatten()(vgg_model.output) \n",
    "x = Dense(1024, activation='relu')(x)\n",
    "x = Dense(514, activation='relu')(x)\n",
    "x = Dense(64, activation='relu')(x)\n",
    "x = Dense(32, activation='relu')(x)\n",
    "output = Dense(2, activation='softmax')(x)\n",
    "\n",
    "# 새로운 모델 정의\n",
    "model = tf.keras.models.Model(inputs=vgg_model.input, outputs=output)\n",
    "model.summary()"
   ]
  },
  {
   "cell_type": "code",
   "execution_count": null,
   "id": "8bb8b0c9",
   "metadata": {},
   "outputs": [],
   "source": [
    "learning_rate = 0.000001\n",
    "adam = tf.keras.optimizers.Adam(learning_rate=learning_rate)\n",
    "\n",
    "# 모델 컴파일\n",
    "model.compile(optimizer= adam,\n",
    "              loss='sparse_categorical_crossentropy', \n",
    "              metrics=['accuracy'])"
   ]
  },
  {
   "cell_type": "markdown",
   "id": "776fedc5",
   "metadata": {},
   "source": [
    "## (5) 모델 학습하기"
   ]
  },
  {
   "cell_type": "code",
   "execution_count": null,
   "id": "fc03a031",
   "metadata": {},
   "outputs": [],
   "source": [
    "history = model.fit(x_train, y_train, batch_size=32, epochs=30, validation_data=(x_val, y_val))"
   ]
  },
  {
   "cell_type": "markdown",
   "id": "3bb7328c",
   "metadata": {},
   "source": [
    "## (6) 예측하기"
   ]
  },
  {
   "cell_type": "code",
   "execution_count": null,
   "id": "e68376c1",
   "metadata": {},
   "outputs": [],
   "source": [
    "pred = model.predict(x_val)\n",
    "pred_class = np.argmax(pred, axis=1)"
   ]
  },
  {
   "cell_type": "code",
   "execution_count": null,
   "id": "f45eb3bf",
   "metadata": {},
   "outputs": [],
   "source": [
    "print(pred_class)\n",
    "print(y_val)\n",
    "print(pred)"
   ]
  },
  {
   "cell_type": "code",
   "execution_count": null,
   "id": "2d3bccb5",
   "metadata": {},
   "outputs": [],
   "source": [
    "acc = np.mean(pred_class == y_val)\n",
    "print('accuracy: %f' % (acc,))"
   ]
  },
  {
   "cell_type": "markdown",
   "id": "952ae391",
   "metadata": {},
   "source": [
    "## loss, accuracy 시각화"
   ]
  },
  {
   "cell_type": "code",
   "execution_count": null,
   "id": "fa0ddea0",
   "metadata": {},
   "outputs": [],
   "source": [
    "# 정확도 시각화\n",
    "plt.plot(history.history['accuracy'])\n",
    "plt.plot(history.history['val_accuracy'])\n",
    "plt.title('Model accuracy')\n",
    "plt.xlabel('Epochs')\n",
    "plt.ylabel('Accuracy')\n",
    "plt.legend(['Train', 'Validation'], loc='upper left')\n",
    "plt.show()\n",
    "\n",
    "# 손실값 시각화\n",
    "plt.plot(history.history['loss'])\n",
    "plt.plot(history.history['val_loss'])\n",
    "plt.title('Model loss')\n",
    "plt.xlabel('Epochs')\n",
    "plt.ylabel('Loss')\n",
    "plt.legend(['Train', 'Validation'], loc='upper left')\n",
    "plt.show()"
   ]
  },
  {
   "cell_type": "markdown",
   "id": "9819a799",
   "metadata": {},
   "source": [
    "## confusion_matrix"
   ]
  },
  {
   "cell_type": "code",
   "execution_count": null,
   "id": "7bc76ec2",
   "metadata": {},
   "outputs": [],
   "source": [
    "# confusion matrix 생성\n",
    "cm = confusion_matrix(y_val, pred_class)\n",
    "\n",
    "# confusion matrix 출력\n",
    "plt.figure(figsize=(5,5))\n",
    "sns.heatmap(cm, annot=True, fmt=\"d\")\n",
    "plt.title('Confusion matrix')\n",
    "plt.ylabel('Actual label')\n",
    "plt.xlabel('Predicted label')\n",
    "plt.show()"
   ]
  },
  {
   "cell_type": "markdown",
   "id": "70d4e875",
   "metadata": {},
   "source": [
    "## classification_report"
   ]
  },
  {
   "cell_type": "code",
   "execution_count": null,
   "id": "b78ac774",
   "metadata": {},
   "outputs": [],
   "source": [
    "print(classification_report(y_val, pred_class))"
   ]
  },
  {
   "cell_type": "code",
   "execution_count": null,
   "id": "0789c3b8",
   "metadata": {},
   "outputs": [],
   "source": []
  },
  {
   "cell_type": "code",
   "execution_count": null,
   "id": "028ef084",
   "metadata": {},
   "outputs": [],
   "source": []
  },
  {
   "cell_type": "code",
   "execution_count": null,
   "id": "a177f3f1",
   "metadata": {},
   "outputs": [],
   "source": [
    "# 2-3-2"
   ]
  },
  {
   "cell_type": "markdown",
   "id": "02588c8f",
   "metadata": {},
   "source": [
    "## 정규화, random_state=42, batch_size=32, epochs=50, learning rate=0.000001(여섯번째자리),"
   ]
  },
  {
   "cell_type": "markdown",
   "id": "ade7538b",
   "metadata": {},
   "source": [
    "## 데이터 바로 사용해도 되는지 확인"
   ]
  },
  {
   "cell_type": "code",
   "execution_count": null,
   "id": "c6bc1a53",
   "metadata": {
    "scrolled": true
   },
   "outputs": [],
   "source": [
    "print(\"x_train: \", x_train.shape)\n",
    "print(\"y_train: \", y_train.shape)\n",
    "print(\"x_val: \", x_val.shape)\n",
    "print(\"y_val: \", y_val.shape)"
   ]
  },
  {
   "cell_type": "markdown",
   "id": "08bbafb6",
   "metadata": {},
   "source": [
    "## (4) 모델 정의 및 컴파일"
   ]
  },
  {
   "cell_type": "code",
   "execution_count": null,
   "id": "a7cd5097",
   "metadata": {},
   "outputs": [],
   "source": [
    "from tensorflow.keras.applications import VGG16\n",
    "\n",
    "# VGG16 모델 가져오기\n",
    "vgg_model = VGG16(weights = 'imagenet', include_top=False, input_shape=(224, 224, 3))\n",
    "\n",
    "x = Flatten()(vgg_model.output) \n",
    "x = Dense(1024, activation='relu')(x)\n",
    "x = Dense(514, activation='relu')(x)\n",
    "x = Dense(64, activation='relu')(x)\n",
    "x = Dense(32, activation='relu')(x)\n",
    "output = Dense(2, activation='softmax')(x)\n",
    "\n",
    "# 새로운 모델 정의\n",
    "model = tf.keras.models.Model(inputs=vgg_model.input, outputs=output)\n",
    "model.summary()"
   ]
  },
  {
   "cell_type": "code",
   "execution_count": null,
   "id": "3abb253e",
   "metadata": {},
   "outputs": [],
   "source": [
    "learning_rate = 0.000001\n",
    "adam = tf.keras.optimizers.Adam(learning_rate=learning_rate)\n",
    "\n",
    "# 모델 컴파일\n",
    "model.compile(optimizer= adam,\n",
    "              loss='sparse_categorical_crossentropy', \n",
    "              metrics=['accuracy'])"
   ]
  },
  {
   "cell_type": "markdown",
   "id": "100f9783",
   "metadata": {},
   "source": [
    "## (5) 모델 학습하기"
   ]
  },
  {
   "cell_type": "code",
   "execution_count": null,
   "id": "75e3ead7",
   "metadata": {},
   "outputs": [],
   "source": [
    "history = model.fit(x_train, y_train, batch_size=32, epochs=50, validation_data=(x_val, y_val))"
   ]
  },
  {
   "cell_type": "markdown",
   "id": "926c0d33",
   "metadata": {},
   "source": [
    "## (6) 예측하기"
   ]
  },
  {
   "cell_type": "code",
   "execution_count": null,
   "id": "12c84272",
   "metadata": {},
   "outputs": [],
   "source": [
    "pred = model.predict(x_val)\n",
    "pred_class = np.argmax(pred, axis=1)"
   ]
  },
  {
   "cell_type": "code",
   "execution_count": null,
   "id": "f0602190",
   "metadata": {},
   "outputs": [],
   "source": [
    "print(pred_class)\n",
    "print(y_val)\n",
    "print(pred)"
   ]
  },
  {
   "cell_type": "code",
   "execution_count": null,
   "id": "6f8be9cc",
   "metadata": {},
   "outputs": [],
   "source": [
    "acc = np.mean(pred_class == y_val)\n",
    "print('accuracy: %f' % (acc,))"
   ]
  },
  {
   "cell_type": "markdown",
   "id": "831201f8",
   "metadata": {},
   "source": [
    "## loss, accuracy 시각화"
   ]
  },
  {
   "cell_type": "code",
   "execution_count": null,
   "id": "f6adebf8",
   "metadata": {},
   "outputs": [],
   "source": [
    "# 정확도 시각화\n",
    "plt.plot(history.history['accuracy'])\n",
    "plt.plot(history.history['val_accuracy'])\n",
    "plt.title('Model accuracy')\n",
    "plt.xlabel('Epochs')\n",
    "plt.ylabel('Accuracy')\n",
    "plt.legend(['Train', 'Validation'], loc='upper left')\n",
    "plt.show()\n",
    "\n",
    "# 손실값 시각화\n",
    "plt.plot(history.history['loss'])\n",
    "plt.plot(history.history['val_loss'])\n",
    "plt.title('Model loss')\n",
    "plt.xlabel('Epochs')\n",
    "plt.ylabel('Loss')\n",
    "plt.legend(['Train', 'Validation'], loc='upper left')\n",
    "plt.show()"
   ]
  },
  {
   "cell_type": "markdown",
   "id": "9a24eea6",
   "metadata": {},
   "source": [
    "## confusion_matrix"
   ]
  },
  {
   "cell_type": "code",
   "execution_count": null,
   "id": "28c62037",
   "metadata": {},
   "outputs": [],
   "source": [
    "# confusion matrix 생성\n",
    "cm = confusion_matrix(y_val, pred_class)\n",
    "\n",
    "# confusion matrix 출력\n",
    "plt.figure(figsize=(5,5))\n",
    "sns.heatmap(cm, annot=True, fmt=\"d\")\n",
    "plt.title('Confusion matrix')\n",
    "plt.ylabel('Actual label')\n",
    "plt.xlabel('Predicted label')\n",
    "plt.show()"
   ]
  },
  {
   "cell_type": "markdown",
   "id": "4df91a52",
   "metadata": {},
   "source": [
    "## classification_report"
   ]
  },
  {
   "cell_type": "code",
   "execution_count": null,
   "id": "c929b385",
   "metadata": {},
   "outputs": [],
   "source": [
    "print(classification_report(y_val, pred_class))"
   ]
  },
  {
   "cell_type": "code",
   "execution_count": null,
   "id": "46f2f42e",
   "metadata": {},
   "outputs": [],
   "source": []
  },
  {
   "cell_type": "code",
   "execution_count": null,
   "id": "9d1c336a",
   "metadata": {},
   "outputs": [],
   "source": []
  },
  {
   "cell_type": "code",
   "execution_count": null,
   "id": "99c95ca2",
   "metadata": {},
   "outputs": [],
   "source": [
    "# 3-1-1"
   ]
  },
  {
   "cell_type": "markdown",
   "id": "e415dfbf",
   "metadata": {},
   "source": [
    "## 정규화, random_state=42, batch_size=64, epochs=30, learning rate=0.0001(네번째자리),"
   ]
  },
  {
   "cell_type": "markdown",
   "id": "7ead578a",
   "metadata": {},
   "source": [
    "## 데이터 바로 사용해도 되는지 확인"
   ]
  },
  {
   "cell_type": "code",
   "execution_count": null,
   "id": "06c193fd",
   "metadata": {
    "scrolled": true
   },
   "outputs": [],
   "source": [
    "print(\"x_train: \", x_train.shape)\n",
    "print(\"y_train: \", y_train.shape)\n",
    "print(\"x_val: \", x_val.shape)\n",
    "print(\"y_val: \", y_val.shape)"
   ]
  },
  {
   "cell_type": "markdown",
   "id": "2e0f79b9",
   "metadata": {},
   "source": [
    "## (4) 모델 정의 및 컴파일"
   ]
  },
  {
   "cell_type": "code",
   "execution_count": 23,
   "id": "36916f1b",
   "metadata": {},
   "outputs": [
    {
     "name": "stdout",
     "output_type": "stream",
     "text": [
      "Model: \"model_1\"\n",
      "_________________________________________________________________\n",
      "Layer (type)                 Output Shape              Param #   \n",
      "=================================================================\n",
      "input_3 (InputLayer)         [(None, 224, 224, 3)]     0         \n",
      "_________________________________________________________________\n",
      "block1_conv1 (Conv2D)        (None, 224, 224, 64)      1792      \n",
      "_________________________________________________________________\n",
      "block1_conv2 (Conv2D)        (None, 224, 224, 64)      36928     \n",
      "_________________________________________________________________\n",
      "block1_pool (MaxPooling2D)   (None, 112, 112, 64)      0         \n",
      "_________________________________________________________________\n",
      "block2_conv1 (Conv2D)        (None, 112, 112, 128)     73856     \n",
      "_________________________________________________________________\n",
      "block2_conv2 (Conv2D)        (None, 112, 112, 128)     147584    \n",
      "_________________________________________________________________\n",
      "block2_pool (MaxPooling2D)   (None, 56, 56, 128)       0         \n",
      "_________________________________________________________________\n",
      "block3_conv1 (Conv2D)        (None, 56, 56, 256)       295168    \n",
      "_________________________________________________________________\n",
      "block3_conv2 (Conv2D)        (None, 56, 56, 256)       590080    \n",
      "_________________________________________________________________\n",
      "block3_conv3 (Conv2D)        (None, 56, 56, 256)       590080    \n",
      "_________________________________________________________________\n",
      "block3_pool (MaxPooling2D)   (None, 28, 28, 256)       0         \n",
      "_________________________________________________________________\n",
      "block4_conv1 (Conv2D)        (None, 28, 28, 512)       1180160   \n",
      "_________________________________________________________________\n",
      "block4_conv2 (Conv2D)        (None, 28, 28, 512)       2359808   \n",
      "_________________________________________________________________\n",
      "block4_conv3 (Conv2D)        (None, 28, 28, 512)       2359808   \n",
      "_________________________________________________________________\n",
      "block4_pool (MaxPooling2D)   (None, 14, 14, 512)       0         \n",
      "_________________________________________________________________\n",
      "block5_conv1 (Conv2D)        (None, 14, 14, 512)       2359808   \n",
      "_________________________________________________________________\n",
      "block5_conv2 (Conv2D)        (None, 14, 14, 512)       2359808   \n",
      "_________________________________________________________________\n",
      "block5_conv3 (Conv2D)        (None, 14, 14, 512)       2359808   \n",
      "_________________________________________________________________\n",
      "block5_pool (MaxPooling2D)   (None, 7, 7, 512)         0         \n",
      "_________________________________________________________________\n",
      "flatten_1 (Flatten)          (None, 25088)             0         \n",
      "_________________________________________________________________\n",
      "dense_5 (Dense)              (None, 1024)              25691136  \n",
      "_________________________________________________________________\n",
      "dense_6 (Dense)              (None, 514)               526850    \n",
      "_________________________________________________________________\n",
      "dense_7 (Dense)              (None, 64)                32960     \n",
      "_________________________________________________________________\n",
      "dense_8 (Dense)              (None, 32)                2080      \n",
      "_________________________________________________________________\n",
      "dense_9 (Dense)              (None, 2)                 66        \n",
      "=================================================================\n",
      "Total params: 40,967,780\n",
      "Trainable params: 40,967,780\n",
      "Non-trainable params: 0\n",
      "_________________________________________________________________\n"
     ]
    }
   ],
   "source": [
    "from tensorflow.keras.applications import VGG16\n",
    "\n",
    "# VGG16 모델 가져오기\n",
    "vgg_model = VGG16(weights = 'imagenet', include_top=False, input_shape=(224, 224, 3))\n",
    "\n",
    "x = Flatten()(vgg_model.output) \n",
    "x = Dense(1024, activation='relu')(x)\n",
    "x = Dense(514, activation='relu')(x)\n",
    "x = Dense(64, activation='relu')(x)\n",
    "x = Dense(32, activation='relu')(x)\n",
    "output = Dense(2, activation='softmax')(x)\n",
    "\n",
    "# 새로운 모델 정의\n",
    "model = tf.keras.models.Model(inputs=vgg_model.input, outputs=output)\n",
    "model.summary()"
   ]
  },
  {
   "cell_type": "code",
   "execution_count": 24,
   "id": "14f74dc2",
   "metadata": {},
   "outputs": [],
   "source": [
    "learning_rate = 0.0001\n",
    "adam = tf.keras.optimizers.Adam(learning_rate=learning_rate)\n",
    "\n",
    "# 모델 컴파일\n",
    "model.compile(optimizer= adam,\n",
    "              loss='sparse_categorical_crossentropy', \n",
    "              metrics=['accuracy'])"
   ]
  },
  {
   "cell_type": "markdown",
   "id": "17f98117",
   "metadata": {},
   "source": [
    "## (5) 모델 학습하기"
   ]
  },
  {
   "cell_type": "code",
   "execution_count": 25,
   "id": "2cbac351",
   "metadata": {},
   "outputs": [
    {
     "name": "stdout",
     "output_type": "stream",
     "text": [
      "Epoch 1/30\n",
      "40/40 [==============================] - 81s 2s/step - loss: 0.4527 - accuracy: 0.8228 - val_loss: 0.3280 - val_accuracy: 0.8703\n",
      "Epoch 2/30\n",
      "40/40 [==============================] - 36s 908ms/step - loss: 0.3075 - accuracy: 0.8745 - val_loss: 0.3525 - val_accuracy: 0.8712\n",
      "Epoch 3/30\n",
      "40/40 [==============================] - 36s 905ms/step - loss: 0.2374 - accuracy: 0.9069 - val_loss: 0.2294 - val_accuracy: 0.8997\n",
      "Epoch 4/30\n",
      "40/40 [==============================] - 36s 909ms/step - loss: 0.1978 - accuracy: 0.9238 - val_loss: 0.1906 - val_accuracy: 0.9273\n",
      "Epoch 5/30\n",
      "40/40 [==============================] - 36s 909ms/step - loss: 0.1472 - accuracy: 0.9369 - val_loss: 0.1759 - val_accuracy: 0.9273\n",
      "Epoch 6/30\n",
      "40/40 [==============================] - 36s 910ms/step - loss: 0.1516 - accuracy: 0.9298 - val_loss: 0.1540 - val_accuracy: 0.9393\n",
      "Epoch 7/30\n",
      "40/40 [==============================] - 36s 908ms/step - loss: 0.1332 - accuracy: 0.9428 - val_loss: 0.1367 - val_accuracy: 0.9411\n",
      "Epoch 8/30\n",
      "40/40 [==============================] - 36s 909ms/step - loss: 0.1384 - accuracy: 0.9428 - val_loss: 0.2621 - val_accuracy: 0.9126\n",
      "Epoch 9/30\n",
      "40/40 [==============================] - 36s 908ms/step - loss: 0.1242 - accuracy: 0.9483 - val_loss: 0.1798 - val_accuracy: 0.9181\n",
      "Epoch 10/30\n",
      "40/40 [==============================] - 36s 909ms/step - loss: 0.0759 - accuracy: 0.9720 - val_loss: 0.1441 - val_accuracy: 0.9457\n",
      "Epoch 11/30\n",
      "40/40 [==============================] - 36s 911ms/step - loss: 0.0819 - accuracy: 0.9672 - val_loss: 0.1695 - val_accuracy: 0.9328\n",
      "Epoch 12/30\n",
      "40/40 [==============================] - 36s 910ms/step - loss: 0.0846 - accuracy: 0.9696 - val_loss: 0.3754 - val_accuracy: 0.8602\n",
      "Epoch 13/30\n",
      "40/40 [==============================] - 36s 909ms/step - loss: 0.0738 - accuracy: 0.9736 - val_loss: 0.2074 - val_accuracy: 0.9365\n",
      "Epoch 14/30\n",
      "40/40 [==============================] - 36s 907ms/step - loss: 0.0535 - accuracy: 0.9854 - val_loss: 0.2457 - val_accuracy: 0.9117\n",
      "Epoch 15/30\n",
      "40/40 [==============================] - 36s 910ms/step - loss: 0.0641 - accuracy: 0.9732 - val_loss: 0.3738 - val_accuracy: 0.8740\n",
      "Epoch 16/30\n",
      "40/40 [==============================] - 36s 911ms/step - loss: 0.0869 - accuracy: 0.9653 - val_loss: 0.2114 - val_accuracy: 0.9466\n",
      "Epoch 17/30\n",
      "40/40 [==============================] - 36s 909ms/step - loss: 0.0214 - accuracy: 0.9917 - val_loss: 0.2837 - val_accuracy: 0.9144\n",
      "Epoch 18/30\n",
      "40/40 [==============================] - 36s 909ms/step - loss: 0.0330 - accuracy: 0.9850 - val_loss: 0.2876 - val_accuracy: 0.9384\n",
      "Epoch 19/30\n",
      "40/40 [==============================] - 36s 912ms/step - loss: 0.0221 - accuracy: 0.9921 - val_loss: 0.2617 - val_accuracy: 0.9356\n",
      "Epoch 20/30\n",
      "40/40 [==============================] - 36s 913ms/step - loss: 0.0271 - accuracy: 0.9890 - val_loss: 0.1786 - val_accuracy: 0.9393\n",
      "Epoch 21/30\n",
      "40/40 [==============================] - 36s 910ms/step - loss: 0.0341 - accuracy: 0.9866 - val_loss: 0.2541 - val_accuracy: 0.9255\n",
      "Epoch 22/30\n",
      "40/40 [==============================] - 36s 910ms/step - loss: 0.0189 - accuracy: 0.9933 - val_loss: 0.1988 - val_accuracy: 0.9448\n",
      "Epoch 23/30\n",
      "40/40 [==============================] - 36s 909ms/step - loss: 0.0067 - accuracy: 0.9980 - val_loss: 0.3119 - val_accuracy: 0.9448\n",
      "Epoch 24/30\n",
      "40/40 [==============================] - 36s 909ms/step - loss: 0.0538 - accuracy: 0.9818 - val_loss: 0.1606 - val_accuracy: 0.9310\n",
      "Epoch 25/30\n",
      "40/40 [==============================] - 36s 909ms/step - loss: 0.0068 - accuracy: 0.9980 - val_loss: 0.2727 - val_accuracy: 0.9384\n",
      "Epoch 26/30\n",
      "40/40 [==============================] - 36s 910ms/step - loss: 4.0611e-04 - accuracy: 1.0000 - val_loss: 0.3331 - val_accuracy: 0.9420\n",
      "Epoch 27/30\n",
      "40/40 [==============================] - 36s 911ms/step - loss: 1.0015e-04 - accuracy: 1.0000 - val_loss: 0.3500 - val_accuracy: 0.9411\n",
      "Epoch 28/30\n",
      "40/40 [==============================] - 36s 911ms/step - loss: 4.1431e-05 - accuracy: 1.0000 - val_loss: 0.3669 - val_accuracy: 0.9402\n",
      "Epoch 29/30\n",
      "40/40 [==============================] - 36s 909ms/step - loss: 2.4990e-05 - accuracy: 1.0000 - val_loss: 0.3871 - val_accuracy: 0.9402\n",
      "Epoch 30/30\n",
      "40/40 [==============================] - 36s 910ms/step - loss: 1.4881e-05 - accuracy: 1.0000 - val_loss: 0.4113 - val_accuracy: 0.9411\n"
     ]
    }
   ],
   "source": [
    "history = model.fit(x_train, y_train, batch_size=64, epochs=30, validation_data=(x_val, y_val))"
   ]
  },
  {
   "cell_type": "markdown",
   "id": "c0b9fbdc",
   "metadata": {},
   "source": [
    "## (6) 예측하기"
   ]
  },
  {
   "cell_type": "code",
   "execution_count": 26,
   "id": "df7367b4",
   "metadata": {},
   "outputs": [],
   "source": [
    "pred = model.predict(x_val)\n",
    "pred_class = np.argmax(pred, axis=1)"
   ]
  },
  {
   "cell_type": "code",
   "execution_count": 27,
   "id": "3e8621ea",
   "metadata": {},
   "outputs": [
    {
     "name": "stdout",
     "output_type": "stream",
     "text": [
      "[0 0 0 ... 1 0 0]\n",
      "[0 0 0 ... 1 0 0]\n",
      "[[9.9999905e-01 1.0026068e-06]\n",
      " [1.0000000e+00 1.4181794e-13]\n",
      " [1.0000000e+00 2.9841552e-12]\n",
      " ...\n",
      " [6.5334343e-10 1.0000000e+00]\n",
      " [1.0000000e+00 2.3576474e-11]\n",
      " [1.0000000e+00 5.8893797e-09]]\n"
     ]
    }
   ],
   "source": [
    "print(pred_class)\n",
    "print(y_val)\n",
    "print(pred)"
   ]
  },
  {
   "cell_type": "code",
   "execution_count": null,
   "id": "f9b570f9",
   "metadata": {},
   "outputs": [],
   "source": [
    "acc = np.mean(pred_class == y_val)\n",
    "print('accuracy: %f' % (acc,))"
   ]
  },
  {
   "cell_type": "markdown",
   "id": "45219702",
   "metadata": {},
   "source": [
    "## loss, accuracy 시각화"
   ]
  },
  {
   "cell_type": "code",
   "execution_count": 29,
   "id": "1322db77",
   "metadata": {},
   "outputs": [
    {
     "data": {
      "image/png": "[encoded data removed]",
      "text/plain": [
       "<Figure size 432x288 with 1 Axes>"
      ]
     },
     "metadata": {
      "needs_background": "light"
     },
     "output_type": "display_data"
    },
    {
     "data": {
      "image/png": "[encoded data removed]",
      "text/plain": [
       "<Figure size 432x288 with 1 Axes>"
      ]
     },
     "metadata": {
      "needs_background": "light"
     },
     "output_type": "display_data"
    }
   ],
   "source": [
    "# 정확도 시각화\n",
    "plt.plot(history.history['accuracy'])\n",
    "plt.plot(history.history['val_accuracy'])\n",
    "plt.title('Model accuracy')\n",
    "plt.xlabel('Epochs')\n",
    "plt.ylabel('Accuracy')\n",
    "plt.legend(['Train', 'Validation'], loc='upper left')\n",
    "plt.show()\n",
    "\n",
    "# 손실값 시각화\n",
    "plt.plot(history.history['loss'])\n",
    "plt.plot(history.history['val_loss'])\n",
    "plt.title('Model loss')\n",
    "plt.xlabel('Epochs')\n",
    "plt.ylabel('Loss')\n",
    "plt.legend(['Train', 'Validation'], loc='upper left')\n",
    "plt.show()"
   ]
  },
  {
   "cell_type": "markdown",
   "id": "4d0ce42d",
   "metadata": {},
   "source": [
    "## confusion_matrix"
   ]
  },
  {
   "cell_type": "code",
   "execution_count": 30,
   "id": "555960dc",
   "metadata": {},
   "outputs": [
    {
     "data": {
      "image/png": "[encoded data removed]",
      "text/plain": [
       "<Figure size 360x360 with 2 Axes>"
      ]
     },
     "metadata": {
      "needs_background": "light"
     },
     "output_type": "display_data"
    }
   ],
   "source": [
    "# confusion matrix 생성\n",
    "cm = confusion_matrix(y_val, pred_class)\n",
    "\n",
    "# confusion matrix 출력\n",
    "plt.figure(figsize=(5,5))\n",
    "sns.heatmap(cm, annot=True, fmt=\"d\")\n",
    "plt.title('Confusion matrix')\n",
    "plt.ylabel('Actual label')\n",
    "plt.xlabel('Predicted label')\n",
    "plt.show()"
   ]
  },
  {
   "cell_type": "markdown",
   "id": "b4c6a6e3",
   "metadata": {},
   "source": [
    "## classification_report"
   ]
  },
  {
   "cell_type": "code",
   "execution_count": 32,
   "id": "a63b6990",
   "metadata": {},
   "outputs": [
    {
     "name": "stdout",
     "output_type": "stream",
     "text": [
      "              precision    recall  f1-score   support\n",
      "\n",
      "           0       0.96      0.97      0.97       923\n",
      "           1       0.81      0.80      0.80       164\n",
      "\n",
      "    accuracy                           0.94      1087\n",
      "   macro avg       0.89      0.88      0.88      1087\n",
      "weighted avg       0.94      0.94      0.94      1087\n",
      "\n"
     ]
    }
   ],
   "source": [
    "from sklearn.metrics import classification_report\n",
    "\n",
    "print(classification_report(y_val, pred_class))"
   ]
  },
  {
   "cell_type": "code",
   "execution_count": null,
   "id": "e4fd4759",
   "metadata": {},
   "outputs": [],
   "source": []
  },
  {
   "cell_type": "code",
   "execution_count": null,
   "id": "3dffaf37",
   "metadata": {},
   "outputs": [],
   "source": []
  },
  {
   "cell_type": "code",
   "execution_count": null,
   "id": "1dcce8c6",
   "metadata": {},
   "outputs": [],
   "source": [
    "# 3-1-2"
   ]
  },
  {
   "cell_type": "markdown",
   "id": "07ce3f2f",
   "metadata": {},
   "source": [
    "## 정규화, random_state=42, batch_size=64, epochs=50, learning rate=0.0001(네번째자리),"
   ]
  },
  {
   "cell_type": "markdown",
   "id": "7010666e",
   "metadata": {},
   "source": [
    "## 데이터 바로 사용해도 되는지 확인"
   ]
  },
  {
   "cell_type": "code",
   "execution_count": null,
   "id": "4ec983f8",
   "metadata": {
    "scrolled": true
   },
   "outputs": [],
   "source": [
    "print(\"x_train: \", x_train.shape)\n",
    "print(\"y_train: \", y_train.shape)\n",
    "print(\"x_val: \", x_val.shape)\n",
    "print(\"y_val: \", y_val.shape)"
   ]
  },
  {
   "cell_type": "markdown",
   "id": "21741ba3",
   "metadata": {},
   "source": [
    "## (4) 모델 정의 및 컴파일"
   ]
  },
  {
   "cell_type": "code",
   "execution_count": null,
   "id": "f6c2312c",
   "metadata": {},
   "outputs": [],
   "source": [
    "from tensorflow.keras.applications import VGG16\n",
    "\n",
    "# VGG16 모델 가져오기\n",
    "vgg_model = VGG16(weights = 'imagenet', include_top=False, input_shape=(224, 224, 3))\n",
    "\n",
    "x = Flatten()(vgg_model.output) \n",
    "x = Dense(1024, activation='relu')(x)\n",
    "x = Dense(514, activation='relu')(x)\n",
    "x = Dense(64, activation='relu')(x)\n",
    "x = Dense(32, activation='relu')(x)\n",
    "output = Dense(2, activation='softmax')(x)\n",
    "\n",
    "# 새로운 모델 정의\n",
    "model = tf.keras.models.Model(inputs=vgg_model.input, outputs=output)\n",
    "model.summary()"
   ]
  },
  {
   "cell_type": "code",
   "execution_count": null,
   "id": "a72570ad",
   "metadata": {},
   "outputs": [],
   "source": [
    "learning_rate = 0.0001\n",
    "adam = tf.keras.optimizers.Adam(learning_rate=learning_rate)\n",
    "\n",
    "# 모델 컴파일\n",
    "model.compile(optimizer= adam,\n",
    "              loss='sparse_categorical_crossentropy', \n",
    "              metrics=['accuracy'])"
   ]
  },
  {
   "cell_type": "markdown",
   "id": "a19ed582",
   "metadata": {},
   "source": [
    "## (5) 모델 학습하기"
   ]
  },
  {
   "cell_type": "code",
   "execution_count": null,
   "id": "2b635f25",
   "metadata": {},
   "outputs": [],
   "source": [
    "history = model.fit(x_train, y_train, batch_size=64, epochs=50, validation_data=(x_val, y_val))"
   ]
  },
  {
   "cell_type": "markdown",
   "id": "d10e9118",
   "metadata": {},
   "source": [
    "## (6) 예측하기"
   ]
  },
  {
   "cell_type": "code",
   "execution_count": null,
   "id": "e931583d",
   "metadata": {},
   "outputs": [],
   "source": [
    "pred = model.predict(x_val)\n",
    "pred_class = np.argmax(pred, axis=1)"
   ]
  },
  {
   "cell_type": "code",
   "execution_count": null,
   "id": "847845a3",
   "metadata": {},
   "outputs": [],
   "source": [
    "print(pred_class)\n",
    "print(y_val)\n",
    "print(pred)"
   ]
  },
  {
   "cell_type": "code",
   "execution_count": null,
   "id": "f524607c",
   "metadata": {},
   "outputs": [],
   "source": [
    "acc = np.mean(pred_class == y_val)\n",
    "print('accuracy: %f' % (acc,))"
   ]
  },
  {
   "cell_type": "markdown",
   "id": "44099739",
   "metadata": {},
   "source": [
    "## loss, accuracy 시각화"
   ]
  },
  {
   "cell_type": "code",
   "execution_count": null,
   "id": "24b4b3a6",
   "metadata": {},
   "outputs": [],
   "source": [
    "# 정확도 시각화\n",
    "plt.plot(history.history['accuracy'])\n",
    "plt.plot(history.history['val_accuracy'])\n",
    "plt.title('Model accuracy')\n",
    "plt.xlabel('Epochs')\n",
    "plt.ylabel('Accuracy')\n",
    "plt.legend(['Train', 'Validation'], loc='upper left')\n",
    "plt.show()\n",
    "\n",
    "# 손실값 시각화\n",
    "plt.plot(history.history['loss'])\n",
    "plt.plot(history.history['val_loss'])\n",
    "plt.title('Model loss')\n",
    "plt.xlabel('Epochs')\n",
    "plt.ylabel('Loss')\n",
    "plt.legend(['Train', 'Validation'], loc='upper left')\n",
    "plt.show()"
   ]
  },
  {
   "cell_type": "markdown",
   "id": "c739334f",
   "metadata": {},
   "source": [
    "## confusion_matrix"
   ]
  },
  {
   "cell_type": "code",
   "execution_count": null,
   "id": "9129f492",
   "metadata": {},
   "outputs": [],
   "source": [
    "# confusion matrix 생성\n",
    "cm = confusion_matrix(y_val, pred_class)\n",
    "\n",
    "# confusion matrix 출력\n",
    "plt.figure(figsize=(5,5))\n",
    "sns.heatmap(cm, annot=True, fmt=\"d\")\n",
    "plt.title('Confusion matrix')\n",
    "plt.ylabel('Actual label')\n",
    "plt.xlabel('Predicted label')\n",
    "plt.show()"
   ]
  },
  {
   "cell_type": "markdown",
   "id": "e730496b",
   "metadata": {},
   "source": [
    "## classification_report"
   ]
  },
  {
   "cell_type": "code",
   "execution_count": null,
   "id": "5dc3d5eb",
   "metadata": {},
   "outputs": [],
   "source": [
    "print(classification_report(y_val, pred_class))"
   ]
  },
  {
   "cell_type": "code",
   "execution_count": null,
   "id": "01a99d3d",
   "metadata": {},
   "outputs": [],
   "source": []
  },
  {
   "cell_type": "code",
   "execution_count": null,
   "id": "507296ed",
   "metadata": {},
   "outputs": [],
   "source": []
  },
  {
   "cell_type": "code",
   "execution_count": null,
   "id": "e6e9c9c4",
   "metadata": {},
   "outputs": [],
   "source": [
    "# 3-2-1"
   ]
  },
  {
   "cell_type": "markdown",
   "id": "72715da7",
   "metadata": {},
   "source": [
    "## 정규화, random_state=42, batch_size=64, epochs=30, learning rate=0.00001(다섯번째자리),"
   ]
  },
  {
   "cell_type": "markdown",
   "id": "788bf015",
   "metadata": {},
   "source": [
    "## 데이터 바로 사용해도 되는지 확인"
   ]
  },
  {
   "cell_type": "code",
   "execution_count": null,
   "id": "ff0b7b84",
   "metadata": {
    "scrolled": true
   },
   "outputs": [],
   "source": [
    "print(\"x_train: \", x_train.shape)\n",
    "print(\"y_train: \", y_train.shape)\n",
    "print(\"x_val: \", x_val.shape)\n",
    "print(\"y_val: \", y_val.shape)"
   ]
  },
  {
   "cell_type": "markdown",
   "id": "0e89a795",
   "metadata": {},
   "source": [
    "## (4) 모델 정의 및 컴파일"
   ]
  },
  {
   "cell_type": "code",
   "execution_count": null,
   "id": "c873a110",
   "metadata": {},
   "outputs": [],
   "source": [
    "from tensorflow.keras.applications import VGG16\n",
    "\n",
    "# VGG16 모델 가져오기\n",
    "vgg_model = VGG16(weights = 'imagenet', include_top=False, input_shape=(224, 224, 3))\n",
    "\n",
    "x = Flatten()(vgg_model.output) \n",
    "x = Dense(1024, activation='relu')(x)\n",
    "x = Dense(514, activation='relu')(x)\n",
    "x = Dense(64, activation='relu')(x)\n",
    "x = Dense(32, activation='relu')(x)\n",
    "output = Dense(2, activation='softmax')(x)\n",
    "\n",
    "# 새로운 모델 정의\n",
    "model = tf.keras.models.Model(inputs=vgg_model.input, outputs=output)\n",
    "model.summary()"
   ]
  },
  {
   "cell_type": "code",
   "execution_count": null,
   "id": "a72c3303",
   "metadata": {},
   "outputs": [],
   "source": [
    "learning_rate = 0.00001\n",
    "adam = tf.keras.optimizers.Adam(learning_rate=learning_rate)\n",
    "\n",
    "# 모델 컴파일\n",
    "model.compile(optimizer= adam,\n",
    "              loss='sparse_categorical_crossentropy', \n",
    "              metrics=['accuracy'])"
   ]
  },
  {
   "cell_type": "markdown",
   "id": "070a9cc7",
   "metadata": {},
   "source": [
    "## (5) 모델 학습하기"
   ]
  },
  {
   "cell_type": "code",
   "execution_count": null,
   "id": "151c0dc0",
   "metadata": {},
   "outputs": [],
   "source": [
    "history = model.fit(x_train, y_train, batch_size=64, epochs=30, validation_data=(x_val, y_val))"
   ]
  },
  {
   "cell_type": "markdown",
   "id": "385dfb1e",
   "metadata": {},
   "source": [
    "## (6) 예측하기"
   ]
  },
  {
   "cell_type": "code",
   "execution_count": null,
   "id": "16caae79",
   "metadata": {},
   "outputs": [],
   "source": [
    "pred = model.predict(x_val)\n",
    "pred_class = np.argmax(pred, axis=1)"
   ]
  },
  {
   "cell_type": "code",
   "execution_count": null,
   "id": "24639556",
   "metadata": {},
   "outputs": [],
   "source": [
    "print(pred_class)\n",
    "print(y_val)\n",
    "print(pred)"
   ]
  },
  {
   "cell_type": "code",
   "execution_count": null,
   "id": "031b8181",
   "metadata": {},
   "outputs": [],
   "source": [
    "acc = np.mean(pred_class == y_val)\n",
    "print('accuracy: %f' % (acc,))"
   ]
  },
  {
   "cell_type": "markdown",
   "id": "6787ec39",
   "metadata": {},
   "source": [
    "## loss, accuracy 시각화"
   ]
  },
  {
   "cell_type": "code",
   "execution_count": null,
   "id": "5e2a92f9",
   "metadata": {},
   "outputs": [],
   "source": [
    "# 정확도 시각화\n",
    "plt.plot(history.history['accuracy'])\n",
    "plt.plot(history.history['val_accuracy'])\n",
    "plt.title('Model accuracy')\n",
    "plt.xlabel('Epochs')\n",
    "plt.ylabel('Accuracy')\n",
    "plt.legend(['Train', 'Validation'], loc='upper left')\n",
    "plt.show()\n",
    "\n",
    "# 손실값 시각화\n",
    "plt.plot(history.history['loss'])\n",
    "plt.plot(history.history['val_loss'])\n",
    "plt.title('Model loss')\n",
    "plt.xlabel('Epochs')\n",
    "plt.ylabel('Loss')\n",
    "plt.legend(['Train', 'Validation'], loc='upper left')\n",
    "plt.show()"
   ]
  },
  {
   "cell_type": "markdown",
   "id": "eea826e4",
   "metadata": {},
   "source": [
    "## confusion_matrix"
   ]
  },
  {
   "cell_type": "code",
   "execution_count": null,
   "id": "713649ef",
   "metadata": {},
   "outputs": [],
   "source": [
    "# confusion matrix 생성\n",
    "cm = confusion_matrix(y_val, pred_class)\n",
    "\n",
    "# confusion matrix 출력\n",
    "plt.figure(figsize=(5,5))\n",
    "sns.heatmap(cm, annot=True, fmt=\"d\")\n",
    "plt.title('Confusion matrix')\n",
    "plt.ylabel('Actual label')\n",
    "plt.xlabel('Predicted label')\n",
    "plt.show()"
   ]
  },
  {
   "cell_type": "markdown",
   "id": "0ba6f540",
   "metadata": {},
   "source": [
    "## classification_report"
   ]
  },
  {
   "cell_type": "code",
   "execution_count": null,
   "id": "88dd4ae6",
   "metadata": {},
   "outputs": [],
   "source": [
    "print(classification_report(y_val, pred_class))"
   ]
  },
  {
   "cell_type": "code",
   "execution_count": null,
   "id": "26776cea",
   "metadata": {},
   "outputs": [],
   "source": []
  },
  {
   "cell_type": "code",
   "execution_count": null,
   "id": "a9609dfd",
   "metadata": {},
   "outputs": [],
   "source": []
  },
  {
   "cell_type": "code",
   "execution_count": null,
   "id": "f393f630",
   "metadata": {},
   "outputs": [],
   "source": [
    "# 3-2-2"
   ]
  },
  {
   "cell_type": "markdown",
   "id": "34768c78",
   "metadata": {},
   "source": [
    "## 정규화, random_state=42, batch_size=64, epochs=50, learning rate=0.00001(다섯번째자리),"
   ]
  },
  {
   "cell_type": "markdown",
   "id": "2fbb04f2",
   "metadata": {},
   "source": [
    "## 데이터 바로 사용해도 되는지 확인"
   ]
  },
  {
   "cell_type": "code",
   "execution_count": null,
   "id": "018c7e2f",
   "metadata": {
    "scrolled": true
   },
   "outputs": [],
   "source": [
    "print(\"x_train: \", x_train.shape)\n",
    "print(\"y_train: \", y_train.shape)\n",
    "print(\"x_val: \", x_val.shape)\n",
    "print(\"y_val: \", y_val.shape)"
   ]
  },
  {
   "cell_type": "markdown",
   "id": "55cd59e3",
   "metadata": {},
   "source": [
    "## (4) 모델 정의 및 컴파일"
   ]
  },
  {
   "cell_type": "code",
   "execution_count": null,
   "id": "ab90aa20",
   "metadata": {},
   "outputs": [],
   "source": [
    "from tensorflow.keras.applications import VGG16\n",
    "\n",
    "# VGG16 모델 가져오기\n",
    "vgg_model = VGG16(weights = 'imagenet', include_top=False, input_shape=(224, 224, 3))\n",
    "\n",
    "x = Flatten()(vgg_model.output) \n",
    "x = Dense(1024, activation='relu')(x)\n",
    "x = Dense(514, activation='relu')(x)\n",
    "x = Dense(64, activation='relu')(x)\n",
    "x = Dense(32, activation='relu')(x)\n",
    "output = Dense(2, activation='softmax')(x)\n",
    "\n",
    "# 새로운 모델 정의\n",
    "model = tf.keras.models.Model(inputs=vgg_model.input, outputs=output)\n",
    "model.summary()"
   ]
  },
  {
   "cell_type": "code",
   "execution_count": null,
   "id": "ce0554fb",
   "metadata": {},
   "outputs": [],
   "source": [
    "learning_rate = 0.00001\n",
    "adam = tf.keras.optimizers.Adam(learning_rate=learning_rate)\n",
    "\n",
    "# 모델 컴파일\n",
    "model.compile(optimizer= adam,\n",
    "              loss='sparse_categorical_crossentropy', \n",
    "              metrics=['accuracy'])"
   ]
  },
  {
   "cell_type": "markdown",
   "id": "e6e53dc8",
   "metadata": {},
   "source": [
    "## (5) 모델 학습하기"
   ]
  },
  {
   "cell_type": "code",
   "execution_count": null,
   "id": "8e78d64e",
   "metadata": {},
   "outputs": [],
   "source": [
    "history = model.fit(x_train, y_train, batch_size=64, epochs=50, validation_data=(x_val, y_val))"
   ]
  },
  {
   "cell_type": "markdown",
   "id": "c6914700",
   "metadata": {},
   "source": [
    "## (6) 예측하기"
   ]
  },
  {
   "cell_type": "code",
   "execution_count": null,
   "id": "2b15e70a",
   "metadata": {},
   "outputs": [],
   "source": [
    "pred = model.predict(x_val)\n",
    "pred_class = np.argmax(pred, axis=1)"
   ]
  },
  {
   "cell_type": "code",
   "execution_count": null,
   "id": "8bcbf0c5",
   "metadata": {},
   "outputs": [],
   "source": [
    "print(pred_class)\n",
    "print(y_val)\n",
    "print(pred)"
   ]
  },
  {
   "cell_type": "code",
   "execution_count": null,
   "id": "4c732c41",
   "metadata": {},
   "outputs": [],
   "source": [
    "acc = np.mean(pred_class == y_val)\n",
    "print('accuracy: %f' % (acc,))"
   ]
  },
  {
   "cell_type": "markdown",
   "id": "95516c01",
   "metadata": {},
   "source": [
    "## loss, accuracy 시각화"
   ]
  },
  {
   "cell_type": "code",
   "execution_count": null,
   "id": "91c0df8b",
   "metadata": {},
   "outputs": [],
   "source": [
    "# 정확도 시각화\n",
    "plt.plot(history.history['accuracy'])\n",
    "plt.plot(history.history['val_accuracy'])\n",
    "plt.title('Model accuracy')\n",
    "plt.xlabel('Epochs')\n",
    "plt.ylabel('Accuracy')\n",
    "plt.legend(['Train', 'Validation'], loc='upper left')\n",
    "plt.show()\n",
    "\n",
    "# 손실값 시각화\n",
    "plt.plot(history.history['loss'])\n",
    "plt.plot(history.history['val_loss'])\n",
    "plt.title('Model loss')\n",
    "plt.xlabel('Epochs')\n",
    "plt.ylabel('Loss')\n",
    "plt.legend(['Train', 'Validation'], loc='upper left')\n",
    "plt.show()"
   ]
  },
  {
   "cell_type": "markdown",
   "id": "f52d5fc2",
   "metadata": {},
   "source": [
    "## confusion_matrix"
   ]
  },
  {
   "cell_type": "code",
   "execution_count": null,
   "id": "5a579703",
   "metadata": {},
   "outputs": [],
   "source": [
    "# confusion matrix 생성\n",
    "cm = confusion_matrix(y_val, pred_class)\n",
    "\n",
    "# confusion matrix 출력\n",
    "plt.figure(figsize=(5,5))\n",
    "sns.heatmap(cm, annot=True, fmt=\"d\")\n",
    "plt.title('Confusion matrix')\n",
    "plt.ylabel('Actual label')\n",
    "plt.xlabel('Predicted label')\n",
    "plt.show()"
   ]
  },
  {
   "cell_type": "markdown",
   "id": "b90afaa8",
   "metadata": {},
   "source": [
    "## classification_report"
   ]
  },
  {
   "cell_type": "code",
   "execution_count": null,
   "id": "533cc2ad",
   "metadata": {},
   "outputs": [],
   "source": [
    "print(classification_report(y_val, pred_class))"
   ]
  },
  {
   "cell_type": "code",
   "execution_count": null,
   "id": "4d041794",
   "metadata": {},
   "outputs": [],
   "source": []
  },
  {
   "cell_type": "code",
   "execution_count": null,
   "id": "244c1fe2",
   "metadata": {},
   "outputs": [],
   "source": []
  },
  {
   "cell_type": "code",
   "execution_count": null,
   "id": "cd58dc4f",
   "metadata": {},
   "outputs": [],
   "source": [
    "# 3-3-1"
   ]
  },
  {
   "cell_type": "markdown",
   "id": "5d4084a1",
   "metadata": {},
   "source": [
    "## 정규화, random_state=42, batch_size=64, epochs=30, learning rate=0.000001(여섯번째자리),"
   ]
  },
  {
   "cell_type": "markdown",
   "id": "54aeb1ec",
   "metadata": {},
   "source": [
    "## 데이터 바로 사용해도 되는지 확인"
   ]
  },
  {
   "cell_type": "code",
   "execution_count": null,
   "id": "d637e783",
   "metadata": {
    "scrolled": true
   },
   "outputs": [],
   "source": [
    "print(\"x_train: \", x_train.shape)\n",
    "print(\"y_train: \", y_train.shape)\n",
    "print(\"x_val: \", x_val.shape)\n",
    "print(\"y_val: \", y_val.shape)"
   ]
  },
  {
   "cell_type": "markdown",
   "id": "137435d1",
   "metadata": {},
   "source": [
    "## (4) 모델 정의 및 컴파일"
   ]
  },
  {
   "cell_type": "code",
   "execution_count": null,
   "id": "f94e6427",
   "metadata": {},
   "outputs": [],
   "source": [
    "from tensorflow.keras.applications import VGG16\n",
    "\n",
    "# VGG16 모델 가져오기\n",
    "vgg_model = VGG16(weights = 'imagenet', include_top=False, input_shape=(224, 224, 3))\n",
    "\n",
    "x = Flatten()(vgg_model.output) \n",
    "x = Dense(1024, activation='relu')(x)\n",
    "x = Dense(514, activation='relu')(x)\n",
    "x = Dense(64, activation='relu')(x)\n",
    "x = Dense(32, activation='relu')(x)\n",
    "output = Dense(2, activation='softmax')(x)\n",
    "\n",
    "# 새로운 모델 정의\n",
    "model = tf.keras.models.Model(inputs=vgg_model.input, outputs=output)\n",
    "model.summary()"
   ]
  },
  {
   "cell_type": "code",
   "execution_count": null,
   "id": "56c7d236",
   "metadata": {},
   "outputs": [],
   "source": [
    "learning_rate = 0.000001\n",
    "adam = tf.keras.optimizers.Adam(learning_rate=learning_rate)\n",
    "\n",
    "# 모델 컴파일\n",
    "model.compile(optimizer= adam,\n",
    "              loss='sparse_categorical_crossentropy', \n",
    "              metrics=['accuracy'])"
   ]
  },
  {
   "cell_type": "markdown",
   "id": "efd7c236",
   "metadata": {},
   "source": [
    "## (5) 모델 학습하기"
   ]
  },
  {
   "cell_type": "code",
   "execution_count": null,
   "id": "c33189bc",
   "metadata": {},
   "outputs": [],
   "source": [
    "history = model.fit(x_train, y_train, batch_size=64, epochs=30, validation_data=(x_val, y_val))"
   ]
  },
  {
   "cell_type": "markdown",
   "id": "c4743611",
   "metadata": {},
   "source": [
    "## (6) 예측하기"
   ]
  },
  {
   "cell_type": "code",
   "execution_count": null,
   "id": "4d31ba5d",
   "metadata": {},
   "outputs": [],
   "source": [
    "pred = model.predict(x_val)\n",
    "pred_class = np.argmax(pred, axis=1)"
   ]
  },
  {
   "cell_type": "code",
   "execution_count": null,
   "id": "bbbef8d7",
   "metadata": {},
   "outputs": [],
   "source": [
    "print(pred_class)\n",
    "print(y_val)\n",
    "print(pred)"
   ]
  },
  {
   "cell_type": "code",
   "execution_count": null,
   "id": "589c9f98",
   "metadata": {},
   "outputs": [],
   "source": [
    "acc = np.mean(pred_class == y_val)\n",
    "print('accuracy: %f' % (acc,))"
   ]
  },
  {
   "cell_type": "markdown",
   "id": "454a594b",
   "metadata": {},
   "source": [
    "## loss, accuracy 시각화"
   ]
  },
  {
   "cell_type": "code",
   "execution_count": null,
   "id": "287d46b1",
   "metadata": {},
   "outputs": [],
   "source": [
    "# 정확도 시각화\n",
    "plt.plot(history.history['accuracy'])\n",
    "plt.plot(history.history['val_accuracy'])\n",
    "plt.title('Model accuracy')\n",
    "plt.xlabel('Epochs')\n",
    "plt.ylabel('Accuracy')\n",
    "plt.legend(['Train', 'Validation'], loc='upper left')\n",
    "plt.show()\n",
    "\n",
    "# 손실값 시각화\n",
    "plt.plot(history.history['loss'])\n",
    "plt.plot(history.history['val_loss'])\n",
    "plt.title('Model loss')\n",
    "plt.xlabel('Epochs')\n",
    "plt.ylabel('Loss')\n",
    "plt.legend(['Train', 'Validation'], loc='upper left')\n",
    "plt.show()"
   ]
  },
  {
   "cell_type": "markdown",
   "id": "7f967b8a",
   "metadata": {},
   "source": [
    "## confusion_matrix"
   ]
  },
  {
   "cell_type": "code",
   "execution_count": null,
   "id": "f2c4dcd7",
   "metadata": {},
   "outputs": [],
   "source": [
    "# confusion matrix 생성\n",
    "cm = confusion_matrix(y_val, pred_class)\n",
    "\n",
    "# confusion matrix 출력\n",
    "plt.figure(figsize=(5,5))\n",
    "sns.heatmap(cm, annot=True, fmt=\"d\")\n",
    "plt.title('Confusion matrix')\n",
    "plt.ylabel('Actual label')\n",
    "plt.xlabel('Predicted label')\n",
    "plt.show()"
   ]
  },
  {
   "cell_type": "markdown",
   "id": "00cb50fe",
   "metadata": {},
   "source": [
    "## classification_report"
   ]
  },
  {
   "cell_type": "code",
   "execution_count": null,
   "id": "8129609a",
   "metadata": {},
   "outputs": [],
   "source": [
    "print(classification_report(y_val, pred_class))"
   ]
  },
  {
   "cell_type": "code",
   "execution_count": null,
   "id": "002a2184",
   "metadata": {},
   "outputs": [],
   "source": []
  },
  {
   "cell_type": "code",
   "execution_count": null,
   "id": "8233fb4a",
   "metadata": {},
   "outputs": [],
   "source": []
  },
  {
   "cell_type": "code",
   "execution_count": null,
   "id": "b0b4e6a0",
   "metadata": {},
   "outputs": [],
   "source": [
    "# 3-3-2"
   ]
  },
  {
   "cell_type": "markdown",
   "id": "4a2d71d2",
   "metadata": {},
   "source": [
    "## 정규화, random_state=42, batch_size=64, epochs=50, learning rate=0.000001(여섯번째자리),"
   ]
  },
  {
   "cell_type": "markdown",
   "id": "8b3a720f",
   "metadata": {},
   "source": [
    "## 데이터 바로 사용해도 되는지 확인"
   ]
  },
  {
   "cell_type": "code",
   "execution_count": null,
   "id": "46d10f2a",
   "metadata": {
    "scrolled": true
   },
   "outputs": [],
   "source": [
    "print(\"x_train: \", x_train.shape)\n",
    "print(\"y_train: \", y_train.shape)\n",
    "print(\"x_val: \", x_val.shape)\n",
    "print(\"y_val: \", y_val.shape)"
   ]
  },
  {
   "cell_type": "markdown",
   "id": "56c1c3dc",
   "metadata": {},
   "source": [
    "## (4) 모델 정의 및 컴파일"
   ]
  },
  {
   "cell_type": "code",
   "execution_count": null,
   "id": "3a103ae7",
   "metadata": {},
   "outputs": [],
   "source": [
    "from tensorflow.keras.applications import VGG16\n",
    "\n",
    "# VGG16 모델 가져오기\n",
    "vgg_model = VGG16(weights = 'imagenet', include_top=False, input_shape=(224, 224, 3))\n",
    "\n",
    "x = Flatten()(vgg_model.output) \n",
    "x = Dense(1024, activation='relu')(x)\n",
    "x = Dense(514, activation='relu')(x)\n",
    "x = Dense(64, activation='relu')(x)\n",
    "x = Dense(32, activation='relu')(x)\n",
    "output = Dense(2, activation='softmax')(x)\n",
    "\n",
    "# 새로운 모델 정의\n",
    "model = tf.keras.models.Model(inputs=vgg_model.input, outputs=output)\n",
    "model.summary()"
   ]
  },
  {
   "cell_type": "code",
   "execution_count": null,
   "id": "53b7f726",
   "metadata": {},
   "outputs": [],
   "source": [
    "learning_rate = 0.000001\n",
    "adam = tf.keras.optimizers.Adam(learning_rate=learning_rate)\n",
    "\n",
    "# 모델 컴파일\n",
    "model.compile(optimizer= adam,\n",
    "              loss='sparse_categorical_crossentropy', \n",
    "              metrics=['accuracy'])"
   ]
  },
  {
   "cell_type": "markdown",
   "id": "01f9d233",
   "metadata": {},
   "source": [
    "## (5) 모델 학습하기"
   ]
  },
  {
   "cell_type": "code",
   "execution_count": null,
   "id": "e4b1a683",
   "metadata": {},
   "outputs": [],
   "source": [
    "history = model.fit(x_train, y_train, batch_size=64, epochs=50, validation_data=(x_val, y_val))"
   ]
  },
  {
   "cell_type": "markdown",
   "id": "9e81ebeb",
   "metadata": {},
   "source": [
    "## (6) 예측하기"
   ]
  },
  {
   "cell_type": "code",
   "execution_count": null,
   "id": "f001fcb3",
   "metadata": {},
   "outputs": [],
   "source": [
    "pred = model.predict(x_val)\n",
    "pred_class = np.argmax(pred, axis=1)"
   ]
  },
  {
   "cell_type": "code",
   "execution_count": null,
   "id": "bed1a96d",
   "metadata": {},
   "outputs": [],
   "source": [
    "print(pred_class)\n",
    "print(y_val)\n",
    "print(pred)"
   ]
  },
  {
   "cell_type": "code",
   "execution_count": null,
   "id": "8519ff5a",
   "metadata": {},
   "outputs": [],
   "source": [
    "acc = np.mean(pred_class == y_val)\n",
    "print('accuracy: %f' % (acc,))"
   ]
  },
  {
   "cell_type": "markdown",
   "id": "7e4697e3",
   "metadata": {},
   "source": [
    "## loss, accuracy 시각화"
   ]
  },
  {
   "cell_type": "code",
   "execution_count": null,
   "id": "c9cef0b5",
   "metadata": {},
   "outputs": [],
   "source": [
    "# 정확도 시각화\n",
    "plt.plot(history.history['accuracy'])\n",
    "plt.plot(history.history['val_accuracy'])\n",
    "plt.title('Model accuracy')\n",
    "plt.xlabel('Epochs')\n",
    "plt.ylabel('Accuracy')\n",
    "plt.legend(['Train', 'Validation'], loc='upper left')\n",
    "plt.show()\n",
    "\n",
    "# 손실값 시각화\n",
    "plt.plot(history.history['loss'])\n",
    "plt.plot(history.history['val_loss'])\n",
    "plt.title('Model loss')\n",
    "plt.xlabel('Epochs')\n",
    "plt.ylabel('Loss')\n",
    "plt.legend(['Train', 'Validation'], loc='upper left')\n",
    "plt.show()"
   ]
  },
  {
   "cell_type": "markdown",
   "id": "ec676321",
   "metadata": {},
   "source": [
    "## confusion_matrix"
   ]
  },
  {
   "cell_type": "code",
   "execution_count": null,
   "id": "af271555",
   "metadata": {},
   "outputs": [],
   "source": [
    "# confusion matrix 생성\n",
    "cm = confusion_matrix(y_val, pred_class)\n",
    "\n",
    "# confusion matrix 출력\n",
    "plt.figure(figsize=(5,5))\n",
    "sns.heatmap(cm, annot=True, fmt=\"d\")\n",
    "plt.title('Confusion matrix')\n",
    "plt.ylabel('Actual label')\n",
    "plt.xlabel('Predicted label')\n",
    "plt.show()"
   ]
  },
  {
   "cell_type": "markdown",
   "id": "90209d96",
   "metadata": {},
   "source": [
    "## classification_report"
   ]
  },
  {
   "cell_type": "code",
   "execution_count": null,
   "id": "35427c2f",
   "metadata": {},
   "outputs": [],
   "source": [
    "print(classification_report(y_val, pred_class))"
   ]
  },
  {
   "cell_type": "code",
   "execution_count": null,
   "id": "b10d2708",
   "metadata": {},
   "outputs": [],
   "source": []
  },
  {
   "cell_type": "code",
   "execution_count": null,
   "id": "fa45a92e",
   "metadata": {},
   "outputs": [],
   "source": []
  },
  {
   "cell_type": "code",
   "execution_count": null,
   "id": "85753126",
   "metadata": {},
   "outputs": [],
   "source": [
    "# from keras.callbacks import EarlyStopping, ModelCheckpoint\n",
    "\n",
    "# # EarlyStopping과 ModelCheckpoint 객체를 생성합니다.\n",
    "# early_stopping = EarlyStopping(monitor='val_loss', patience=3)\n",
    "# model_checkpoint = ModelCheckpoint('best_model.h5', monitor='val_loss', save_best_only=True)\n",
    "\n",
    "# # fit 함수를 호출할 때 callbacks 매개변수에 early_stopping과 model_checkpoint를 전달합니다.\n",
    "# hist = model.fit(train_generator, epochs=30, validation_data=(x_val, y_val), callbacks=[early_stopping, model_checkpoint])"
   ]
  }
 ],
 "metadata": {
  "kernelspec": {
   "display_name": "Python 3 (ipykernel)",
   "language": "python",
   "name": "python3"
  },
  "language_info": {
   "codemirror_mode": {
    "name": "ipython",
    "version": 3
   },
   "file_extension": ".py",
   "mimetype": "text/x-python",
   "name": "python",
   "nbconvert_exporter": "python",
   "pygments_lexer": "ipython3",
   "version": "3.9.7"
  }
 },
 "nbformat": 4,
 "nbformat_minor": 5
}
