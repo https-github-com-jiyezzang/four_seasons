{
 "cells": [
  {
   "cell_type": "code",
   "execution_count": 1,
   "metadata": {},
   "outputs": [
    {
     "name": "stdout",
     "output_type": "stream",
     "text": [
      "Requirement already satisfied: scikit-image in c:\\program files\\python39\\lib\\site-packages (0.21.0)\n",
      "Requirement already satisfied: scipy>=1.8 in c:\\users\\jiye_\\appdata\\roaming\\python\\python39\\site-packages (from scikit-image) (1.10.1)\n",
      "Requirement already satisfied: tifffile>=2022.8.12 in c:\\program files\\python39\\lib\\site-packages (from scikit-image) (2023.7.18)\n",
      "Requirement already satisfied: lazy_loader>=0.2 in c:\\program files\\python39\\lib\\site-packages (from scikit-image) (0.3)\n",
      "Requirement already satisfied: imageio>=2.27 in c:\\program files\\python39\\lib\\site-packages (from scikit-image) (2.31.1)\n",
      "Requirement already satisfied: networkx>=2.8 in c:\\program files\\python39\\lib\\site-packages (from scikit-image) (3.1)\n",
      "Requirement already satisfied: packaging>=21 in c:\\users\\jiye_\\appdata\\roaming\\python\\python39\\site-packages (from scikit-image) (23.0)\n",
      "Requirement already satisfied: PyWavelets>=1.1.1 in c:\\program files\\python39\\lib\\site-packages (from scikit-image) (1.4.1)\n",
      "Requirement already satisfied: pillow>=9.0.1 in c:\\users\\jiye_\\appdata\\roaming\\python\\python39\\site-packages (from scikit-image) (9.4.0)\n",
      "Requirement already satisfied: numpy>=1.21.1 in c:\\program files\\python39\\lib\\site-packages (from scikit-image) (1.25.1)\n",
      "Note: you may need to restart the kernel to use updated packages.\n"
     ]
    },
    {
     "name": "stderr",
     "output_type": "stream",
     "text": [
      "WARNING: Ignoring invalid distribution -ywin32 (c:\\users\\jiye_\\appdata\\roaming\\python\\python39\\site-packages)\n",
      "WARNING: Ignoring invalid distribution -umpy (c:\\users\\jiye_\\appdata\\roaming\\python\\python39\\site-packages)\n",
      "WARNING: Ignoring invalid distribution -ywin32 (c:\\users\\jiye_\\appdata\\roaming\\python\\python39\\site-packages)\n",
      "WARNING: Ignoring invalid distribution -umpy (c:\\users\\jiye_\\appdata\\roaming\\python\\python39\\site-packages)\n",
      "WARNING: Ignoring invalid distribution -ywin32 (c:\\users\\jiye_\\appdata\\roaming\\python\\python39\\site-packages)\n",
      "WARNING: Ignoring invalid distribution -umpy (c:\\users\\jiye_\\appdata\\roaming\\python\\python39\\site-packages)\n",
      "WARNING: Ignoring invalid distribution -ywin32 (c:\\users\\jiye_\\appdata\\roaming\\python\\python39\\site-packages)\n",
      "WARNING: Ignoring invalid distribution -umpy (c:\\users\\jiye_\\appdata\\roaming\\python\\python39\\site-packages)\n",
      "WARNING: Ignoring invalid distribution -ywin32 (c:\\users\\jiye_\\appdata\\roaming\\python\\python39\\site-packages)\n",
      "WARNING: Ignoring invalid distribution -umpy (c:\\users\\jiye_\\appdata\\roaming\\python\\python39\\site-packages)\n",
      "WARNING: Ignoring invalid distribution -ywin32 (c:\\users\\jiye_\\appdata\\roaming\\python\\python39\\site-packages)\n",
      "WARNING: Ignoring invalid distribution -umpy (c:\\users\\jiye_\\appdata\\roaming\\python\\python39\\site-packages)\n",
      "WARNING: You are using pip version 22.0.4; however, version 23.2.1 is available.\n",
      "You should consider upgrading via the 'c:\\Program Files\\Python39\\python.exe -m pip install --upgrade pip' command.\n"
     ]
    }
   ],
   "source": [
    "pip install scikit-image"
   ]
  },
  {
   "cell_type": "code",
   "execution_count": 2,
   "metadata": {},
   "outputs": [
    {
     "name": "stdout",
     "output_type": "stream",
     "text": [
      "Requirement already satisfied: numpy in c:\\program files\\python39\\lib\\site-packages (1.25.1)\n",
      "Note: you may need to restart the kernel to use updated packages.\n"
     ]
    },
    {
     "name": "stderr",
     "output_type": "stream",
     "text": [
      "WARNING: Ignoring invalid distribution -ywin32 (c:\\users\\jiye_\\appdata\\roaming\\python\\python39\\site-packages)\n",
      "WARNING: Ignoring invalid distribution -umpy (c:\\users\\jiye_\\appdata\\roaming\\python\\python39\\site-packages)\n",
      "WARNING: Ignoring invalid distribution -ywin32 (c:\\users\\jiye_\\appdata\\roaming\\python\\python39\\site-packages)\n",
      "WARNING: Ignoring invalid distribution -umpy (c:\\users\\jiye_\\appdata\\roaming\\python\\python39\\site-packages)\n",
      "WARNING: Ignoring invalid distribution -ywin32 (c:\\users\\jiye_\\appdata\\roaming\\python\\python39\\site-packages)\n",
      "WARNING: Ignoring invalid distribution -umpy (c:\\users\\jiye_\\appdata\\roaming\\python\\python39\\site-packages)\n",
      "WARNING: Ignoring invalid distribution -ywin32 (c:\\users\\jiye_\\appdata\\roaming\\python\\python39\\site-packages)\n",
      "WARNING: Ignoring invalid distribution -umpy (c:\\users\\jiye_\\appdata\\roaming\\python\\python39\\site-packages)\n",
      "WARNING: Ignoring invalid distribution -ywin32 (c:\\users\\jiye_\\appdata\\roaming\\python\\python39\\site-packages)\n",
      "WARNING: Ignoring invalid distribution -umpy (c:\\users\\jiye_\\appdata\\roaming\\python\\python39\\site-packages)\n",
      "WARNING: Ignoring invalid distribution -ywin32 (c:\\users\\jiye_\\appdata\\roaming\\python\\python39\\site-packages)\n",
      "WARNING: Ignoring invalid distribution -umpy (c:\\users\\jiye_\\appdata\\roaming\\python\\python39\\site-packages)\n",
      "WARNING: You are using pip version 22.0.4; however, version 23.2.1 is available.\n",
      "You should consider upgrading via the 'c:\\Program Files\\Python39\\python.exe -m pip install --upgrade pip' command.\n"
     ]
    }
   ],
   "source": [
    "pip install numpy"
   ]
  },
  {
   "cell_type": "code",
   "execution_count": 3,
   "metadata": {},
   "outputs": [
    {
     "name": "stdout",
     "output_type": "stream",
     "text": [
      "Requirement already satisfied: flask in c:\\program files\\python39\\lib\\site-packages (2.3.2)\n",
      "Requirement already satisfied: click>=8.1.3 in c:\\program files\\python39\\lib\\site-packages (from flask) (8.1.6)\n",
      "Requirement already satisfied: importlib-metadata>=3.6.0 in c:\\users\\jiye_\\appdata\\roaming\\python\\python39\\site-packages (from flask) (6.0.0)\n",
      "Requirement already satisfied: Jinja2>=3.1.2 in c:\\program files\\python39\\lib\\site-packages (from flask) (3.1.2)\n",
      "Requirement already satisfied: blinker>=1.6.2 in c:\\program files\\python39\\lib\\site-packages (from flask) (1.6.2)\n",
      "Requirement already satisfied: itsdangerous>=2.1.2 in c:\\program files\\python39\\lib\\site-packages (from flask) (2.1.2)\n",
      "Requirement already satisfied: Werkzeug>=2.3.3 in c:\\program files\\python39\\lib\\site-packages (from flask) (2.3.6)\n",
      "Requirement already satisfied: colorama in c:\\users\\jiye_\\appdata\\roaming\\python\\python39\\site-packages (from click>=8.1.3->flask) (0.4.6)\n",
      "Requirement already satisfied: zipp>=0.5 in c:\\users\\jiye_\\appdata\\roaming\\python\\python39\\site-packages (from importlib-metadata>=3.6.0->flask) (3.15.0)\n",
      "Requirement already satisfied: MarkupSafe>=2.0 in c:\\program files\\python39\\lib\\site-packages (from Jinja2>=3.1.2->flask) (2.1.3)\n",
      "Note: you may need to restart the kernel to use updated packages.\n"
     ]
    },
    {
     "name": "stderr",
     "output_type": "stream",
     "text": [
      "WARNING: Ignoring invalid distribution -ywin32 (c:\\users\\jiye_\\appdata\\roaming\\python\\python39\\site-packages)\n",
      "WARNING: Ignoring invalid distribution -umpy (c:\\users\\jiye_\\appdata\\roaming\\python\\python39\\site-packages)\n",
      "WARNING: Ignoring invalid distribution -ywin32 (c:\\users\\jiye_\\appdata\\roaming\\python\\python39\\site-packages)\n",
      "WARNING: Ignoring invalid distribution -umpy (c:\\users\\jiye_\\appdata\\roaming\\python\\python39\\site-packages)\n",
      "WARNING: Ignoring invalid distribution -ywin32 (c:\\users\\jiye_\\appdata\\roaming\\python\\python39\\site-packages)\n",
      "WARNING: Ignoring invalid distribution -umpy (c:\\users\\jiye_\\appdata\\roaming\\python\\python39\\site-packages)\n",
      "WARNING: Ignoring invalid distribution -ywin32 (c:\\users\\jiye_\\appdata\\roaming\\python\\python39\\site-packages)\n",
      "WARNING: Ignoring invalid distribution -umpy (c:\\users\\jiye_\\appdata\\roaming\\python\\python39\\site-packages)\n",
      "WARNING: Ignoring invalid distribution -ywin32 (c:\\users\\jiye_\\appdata\\roaming\\python\\python39\\site-packages)\n",
      "WARNING: Ignoring invalid distribution -umpy (c:\\users\\jiye_\\appdata\\roaming\\python\\python39\\site-packages)\n",
      "WARNING: Ignoring invalid distribution -ywin32 (c:\\users\\jiye_\\appdata\\roaming\\python\\python39\\site-packages)\n",
      "WARNING: Ignoring invalid distribution -umpy (c:\\users\\jiye_\\appdata\\roaming\\python\\python39\\site-packages)\n",
      "WARNING: You are using pip version 22.0.4; however, version 23.2.1 is available.\n",
      "You should consider upgrading via the 'c:\\Program Files\\Python39\\python.exe -m pip install --upgrade pip' command.\n"
     ]
    }
   ],
   "source": [
    "pip install flask"
   ]
  },
  {
   "cell_type": "code",
   "execution_count": 4,
   "metadata": {},
   "outputs": [
    {
     "name": "stdout",
     "output_type": "stream",
     "text": [
      " * Serving Flask app '__main__'\n",
      " * Debug mode: off\n"
     ]
    },
    {
     "name": "stderr",
     "output_type": "stream",
     "text": [
      "WARNING: This is a development server. Do not use it in a production deployment. Use a production WSGI server instead.\n",
      " * Running on http://127.0.0.1:5000\n",
      "Press CTRL+C to quit\n"
     ]
    }
   ],
   "source": [
    "from flask import Flask, request, jsonify\n",
    "import numpy as np\n",
    "from sklearn.neighbors import KNeighborsClassifier\n",
    "import colorsys\n",
    "from skimage.color import rgb2lab\n",
    "\n",
    "app = Flask(__name__)\n",
    "\n",
    "warm_tone = [255, 255, 0]  # 노란색\n",
    "cool_tone = [0, 0, 255]  # 파란색\n",
    "\n",
    "def zero_shot_classification(color_vector):\n",
    "    warm_similarity = np.dot(color_vector, warm_tone) / (np.linalg.norm(color_vector) * np.linalg.norm(warm_tone))\n",
    "    cool_similarity = np.dot(color_vector, cool_tone) / (np.linalg.norm(color_vector) * np.linalg.norm(cool_tone))\n",
    "\n",
    "    if warm_similarity > cool_similarity:\n",
    "        return \"웜톤\"\n",
    "    else:\n",
    "        return \"쿨톤\"\n",
    "\n",
    "def classify_image(image):\n",
    "    image = np.array(image)\n",
    "    image = image / 255.0  # 이미지를 0~1 범위로 정규화\n",
    "    height, width, _ = image.shape\n",
    "    colors = np.reshape(image, (height * width, 3))  # 이미지의 모든 픽셀을 1차원 벡터로 변환\n",
    "\n",
    "    color_labels = []\n",
    "    for color in colors:\n",
    "        color_label = zero_shot_classification(color)\n",
    "        color_labels.append(color_label)\n",
    "\n",
    "    warm_tone_count = color_labels.count('웜톤')\n",
    "    cool_tone_count = color_labels.count('쿨톤')\n",
    "\n",
    "    warm_tone_ratio = warm_tone_count / len(color_labels) * 100\n",
    "    cool_tone_ratio = cool_tone_count / len(color_labels) * 100\n",
    "\n",
    "    return f\"웜톤: {warm_tone_ratio:.2f}%\\n쿨톤: {cool_tone_ratio:.2f}%\"\n",
    "\n",
    "@app.route('/process_personal_color', methods=['POST'])\n",
    "def process_personal_color():\n",
    "    try:\n",
    "        file = request.files['image']\n",
    "        img = cv2.imdecode(np.frombuffer(file.read(), np.uint8), cv2.IMREAD_COLOR)\n",
    "        result = classify_image(img)\n",
    "\n",
    "        return jsonify({\"result\": result})\n",
    "    except Exception as e:\n",
    "        return jsonify({\"error\": str(e)})\n",
    "\n",
    "if __name__ == '__main__':\n",
    "    app.run()\n"
   ]
  }
 ],
 "metadata": {
  "kernelspec": {
   "display_name": "Python 3",
   "language": "python",
   "name": "python3"
  },
  "language_info": {
   "codemirror_mode": {
    "name": "ipython",
    "version": 3
   },
   "file_extension": ".py",
   "mimetype": "text/x-python",
   "name": "python",
   "nbconvert_exporter": "python",
   "pygments_lexer": "ipython3",
   "version": "3.9.13"
  },
  "orig_nbformat": 4
 },
 "nbformat": 4,
 "nbformat_minor": 2
}
