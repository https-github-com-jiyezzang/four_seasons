{
 "cells": [
  {
   "cell_type": "markdown",
   "id": "c7bbe507",
   "metadata": {},
   "source": [
    "# LeNet\n",
    "## LMS에 웜톤 쿨톤압축파일 업로드, unzip한 후 적용\n",
    "참고한 노드: exploration 가위바위보 노드"
   ]
  },
  {
   "cell_type": "code",
   "execution_count": 29,
   "id": "65fe1fd1",
   "metadata": {},
   "outputs": [
    {
     "name": "stdout",
     "output_type": "stream",
     "text": [
      "PIL 라이브러리 import 완료!\n"
     ]
    }
   ],
   "source": [
    "from PIL import Image\n",
    "import glob\n",
    "import os\n",
    "\n",
    "print(\"PIL 라이브러리 import 완료!\")"
   ]
  },
  {
   "cell_type": "markdown",
   "id": "1cfd1722",
   "metadata": {},
   "source": [
    "## Step 1. 파일들 불러와 224*224로 resize"
   ]
  },
  {
   "cell_type": "code",
   "execution_count": 31,
   "id": "b33b8571",
   "metadata": {},
   "outputs": [
    {
     "name": "stdout",
     "output_type": "stream",
     "text": [
      "490  images to be resized.\n",
      "490  images resized.\n",
      "웜톤 이미지 resize 완료!\n"
     ]
    }
   ],
   "source": [
    "def resize_images(img_path):\n",
    "#     images=glob.glob(img_path + \"/*.jpg\")  \n",
    "    images = glob.glob(img_path + \"/*.jpg\") + glob.glob(img_path + \"/*.JPG\")\n",
    "    print(len(images), \" images to be resized.\")\n",
    "\n",
    "    # 파일마다 모두 224x224 사이즈로 바꾸어 저장\n",
    "    target_size=(224,224)\n",
    "    for img in images:\n",
    "        old_img=Image.open(img)\n",
    "        new_img=old_img.resize(target_size,Image.ANTIALIAS)\n",
    "        new_img.save(img, \"JPEG\")\n",
    "    \n",
    "    print(len(images), \" images resized.\")\n",
    "\n",
    "# 쿨톤 이미지가 저장된 디렉토리 아래의 모든 jpg 파일을 읽어들여서\n",
    "image_dir_path = os.getenv(\"HOME\") + \"/aiffel/aiffelthon/warm_1\"\n",
    "resize_images(image_dir_path)\n",
    "\n",
    "print(\"웜톤 이미지 resize 완료!\")"
   ]
  },
  {
   "cell_type": "code",
   "execution_count": 32,
   "id": "9e1a1a3e",
   "metadata": {},
   "outputs": [
    {
     "name": "stdout",
     "output_type": "stream",
     "text": [
      "186  images to be resized.\n",
      "186  images resized.\n",
      "쿨톤 이미지 resize 완료!\n"
     ]
    }
   ],
   "source": [
    "# 쿨톤 이미지가 저장된 디렉토리 아래의 모든 jpg 파일을 읽어들여서\n",
    "image_dir_path = os.getenv(\"HOME\") + \"/aiffel/aiffelthon/cool_1\"\n",
    "resize_images(image_dir_path)\n",
    "\n",
    "print(\"쿨톤 이미지 resize 완료!\")"
   ]
  },
  {
   "cell_type": "markdown",
   "id": "0be51764",
   "metadata": {},
   "source": [
    "## Step 2. 웜톤 0, 쿨톤 1로 레이블링"
   ]
  },
  {
   "cell_type": "code",
   "execution_count": 39,
   "id": "509e4160",
   "metadata": {},
   "outputs": [
    {
     "name": "stdout",
     "output_type": "stream",
     "text": [
      "학습데이터(x_train)의 이미지 개수는 676 입니다.\n",
      "x_train shape: (676, 224, 224, 3)\n",
      "y_train shape: (676,)\n"
     ]
    }
   ],
   "source": [
    "def load_data(img_path, number_of_data=676):  # 웜톤 490 + 쿨톤 186\n",
    "    # 웜톤 : 0, 쿨톤 : 1\n",
    "    img_size=224\n",
    "    color=3\n",
    "    #이미지 데이터와 라벨(웜톤 : 0, 쿨톤 : 1) 데이터를 담을 행렬(matrix) 영역을 생성합니다.\n",
    "    imgs=np.zeros(number_of_data*img_size*img_size*color,dtype=np.int32).reshape(number_of_data,img_size,img_size,color)\n",
    "    labels=np.zeros(number_of_data,dtype=np.int32)\n",
    "\n",
    "    idx=0\n",
    "    warm_files = list(glob.iglob(img_path + '/warm_1/*.jpg')) + list(glob.iglob(img_path + '/warm_1/*.JPG'))\n",
    "    for file in warm_files:\n",
    "        img = np.array(Image.open(file),dtype=np.int32)\n",
    "        imgs[idx,:,:,:]=img    # 데이터 영역에 이미지 행렬을 복사\n",
    "        labels[idx]=0   # 웜톤 : 0\n",
    "        idx=idx+1\n",
    "\n",
    "    cool_files = list(glob.iglob(img_path + '/cool_1/*.jpg')) + list(glob.iglob(img_path + '/cool_1/*.JPG'))\n",
    "    for file in cool_files:\n",
    "        img = np.array(Image.open(file),dtype=np.int32)\n",
    "        imgs[idx,:,:,:]=img    # 데이터 영역에 이미지 행렬을 복사\n",
    "        labels[idx]=1   # 쿨톤 : 1\n",
    "        idx=idx+1  \n",
    "    \n",
    "    print(\"학습데이터(x_train)의 이미지 개수는\", idx,\"입니다.\")\n",
    "    return imgs, labels\n",
    "\n",
    "image_dir_path = os.getenv(\"HOME\") + \"/aiffel/aiffelthon\"\n",
    "(x_train, y_train)=load_data(image_dir_path)\n",
    "\n",
    "print(\"x_train shape: {}\".format(x_train.shape))\n",
    "print(\"y_train shape: {}\".format(y_train.shape))"
   ]
  },
  {
   "cell_type": "code",
   "execution_count": 40,
   "id": "1dcb9f39",
   "metadata": {},
   "outputs": [
    {
     "data": {
      "text/plain": [
       "array([[[192, 190, 191],\n",
       "        [195, 193, 194],\n",
       "        [197, 195, 196],\n",
       "        ...,\n",
       "        [180, 170, 168],\n",
       "        [180, 170, 168],\n",
       "        [180, 170, 168]],\n",
       "\n",
       "       [[193, 191, 192],\n",
       "        [194, 192, 193],\n",
       "        [196, 194, 195],\n",
       "        ...,\n",
       "        [181, 171, 169],\n",
       "        [181, 171, 169],\n",
       "        [181, 171, 169]],\n",
       "\n",
       "       [[195, 193, 194],\n",
       "        [192, 190, 191],\n",
       "        [190, 188, 189],\n",
       "        ...,\n",
       "        [182, 172, 170],\n",
       "        [182, 172, 170],\n",
       "        [182, 172, 170]],\n",
       "\n",
       "       ...,\n",
       "\n",
       "       [[184, 179, 173],\n",
       "        [195, 190, 184],\n",
       "        [207, 202, 196],\n",
       "        ...,\n",
       "        [231, 222, 213],\n",
       "        [239, 230, 221],\n",
       "        [222, 213, 204]],\n",
       "\n",
       "       [[218, 213, 207],\n",
       "        [209, 204, 198],\n",
       "        [202, 197, 191],\n",
       "        ...,\n",
       "        [207, 198, 189],\n",
       "        [228, 219, 210],\n",
       "        [223, 214, 205]],\n",
       "\n",
       "       [[200, 195, 189],\n",
       "        [228, 223, 217],\n",
       "        [213, 208, 202],\n",
       "        ...,\n",
       "        [222, 213, 204],\n",
       "        [222, 213, 204],\n",
       "        [213, 204, 195]]], dtype=int32)"
      ]
     },
     "execution_count": 40,
     "metadata": {},
     "output_type": "execute_result"
    }
   ],
   "source": [
    "x_train[0]"
   ]
  },
  {
   "cell_type": "code",
   "execution_count": 42,
   "id": "8c86ab48",
   "metadata": {},
   "outputs": [
    {
     "data": {
      "text/plain": [
       "array([0, 0, 0, 0, 0, 0, 0, 0, 0, 0, 0, 0, 0, 0, 0, 0, 0, 0, 0, 0, 0, 0,\n",
       "       0, 0, 0, 0, 0, 0, 0, 0, 0, 0, 0, 0, 0, 0, 0, 0, 0, 0, 0, 0, 0, 0,\n",
       "       0, 0, 0, 0, 0, 0, 0, 0, 0, 0, 0, 0, 0, 0, 0, 0, 0, 0, 0, 0, 0, 0,\n",
       "       0, 0, 0, 0, 0, 0, 0, 0, 0, 0, 0, 0, 0, 0, 0, 0, 0, 0, 0, 0, 0, 0,\n",
       "       0, 0, 0, 0, 0, 0, 0, 0, 0, 0, 0, 0, 0, 0, 0, 0, 0, 0, 0, 0, 0, 0,\n",
       "       0, 0, 0, 0, 0, 0, 0, 0, 0, 0, 0, 0, 0, 0, 0, 0, 0, 0, 0, 0, 0, 0,\n",
       "       0, 0, 0, 0, 0, 0, 0, 0, 0, 0, 0, 0, 0, 0, 0, 0, 0, 0, 0, 0, 0, 0,\n",
       "       0, 0, 0, 0, 0, 0, 0, 0, 0, 0, 0, 0, 0, 0, 0, 0, 0, 0, 0, 0, 0, 0,\n",
       "       0, 0, 0, 0, 0, 0, 0, 0, 0, 0, 0, 0, 0, 0, 0, 0, 0, 0, 0, 0, 0, 0,\n",
       "       0, 0, 0, 0, 0, 0, 0, 0, 0, 0, 0, 0, 0, 0, 0, 0, 0, 0, 0, 0, 0, 0,\n",
       "       0, 0, 0, 0, 0, 0, 0, 0, 0, 0, 0, 0, 0, 0, 0, 0, 0, 0, 0, 0, 0, 0,\n",
       "       0, 0, 0, 0, 0, 0, 0, 0, 0, 0, 0, 0, 0, 0, 0, 0, 0, 0, 0, 0, 0, 0,\n",
       "       0, 0, 0, 0, 0, 0, 0, 0, 0, 0, 0, 0, 0, 0, 0, 0, 0, 0, 0, 0, 0, 0,\n",
       "       0, 0, 0, 0, 0, 0, 0, 0, 0, 0, 0, 0, 0, 0, 0, 0, 0, 0, 0, 0, 0, 0,\n",
       "       0, 0, 0, 0, 0, 0, 0, 0, 0, 0, 0, 0, 0, 0, 0, 0, 0, 0, 0, 0, 0, 0,\n",
       "       0, 0, 0, 0, 0, 0, 0, 0, 0, 0, 0, 0, 0, 0, 0, 0, 0, 0, 0, 0, 0, 0,\n",
       "       0, 0, 0, 0, 0, 0, 0, 0, 0, 0, 0, 0, 0, 0, 0, 0, 0, 0, 0, 0, 0, 0,\n",
       "       0, 0, 0, 0, 0, 0, 0, 0, 0, 0, 0, 0, 0, 0, 0, 0, 0, 0, 0, 0, 0, 0,\n",
       "       0, 0, 0, 0, 0, 0, 0, 0, 0, 0, 0, 0, 0, 0, 0, 0, 0, 0, 0, 0, 0, 0,\n",
       "       0, 0, 0, 0, 0, 0, 0, 0, 0, 0, 0, 0, 0, 0, 0, 0, 0, 0, 0, 0, 0, 0,\n",
       "       0, 0, 0, 0, 0, 0, 0, 0, 0, 0, 0, 0, 0, 0, 0, 0, 0, 0, 0, 0, 0, 0,\n",
       "       0, 0, 0, 0, 0, 0, 0, 0, 0, 0, 0, 0, 0, 0, 0, 0, 0, 0, 0, 0, 0, 0,\n",
       "       0, 0, 0, 0, 0, 0, 1, 1, 1, 1, 1, 1, 1, 1, 1, 1, 1, 1, 1, 1, 1, 1,\n",
       "       1, 1, 1, 1, 1, 1, 1, 1, 1, 1, 1, 1, 1, 1, 1, 1, 1, 1, 1, 1, 1, 1,\n",
       "       1, 1, 1, 1, 1, 1, 1, 1, 1, 1, 1, 1, 1, 1, 1, 1, 1, 1, 1, 1, 1, 1,\n",
       "       1, 1, 1, 1, 1, 1, 1, 1, 1, 1, 1, 1, 1, 1, 1, 1, 1, 1, 1, 1, 1, 1,\n",
       "       1, 1, 1, 1, 1, 1, 1, 1, 1, 1, 1, 1, 1, 1, 1, 1, 1, 1, 1, 1, 1, 1,\n",
       "       1, 1, 1, 1, 1, 1, 1, 1, 1, 1, 1, 1, 1, 1, 1, 1, 1, 1, 1, 1, 1, 1,\n",
       "       1, 1, 1, 1, 1, 1, 1, 1, 1, 1, 1, 1, 1, 1, 1, 1, 1, 1, 1, 1, 1, 1,\n",
       "       1, 1, 1, 1, 1, 1, 1, 1, 1, 1, 1, 1, 1, 1, 1, 1, 1, 1, 1, 1, 1, 1,\n",
       "       1, 1, 1, 1, 1, 1, 1, 1, 1, 1, 1, 1, 1, 1, 1, 1], dtype=int32)"
      ]
     },
     "execution_count": 42,
     "metadata": {},
     "output_type": "execute_result"
    }
   ],
   "source": [
    "y_train"
   ]
  },
  {
   "cell_type": "code",
   "execution_count": 45,
   "id": "5f729274",
   "metadata": {
    "scrolled": true
   },
   "outputs": [
    {
     "name": "stdout",
     "output_type": "stream",
     "text": [
      "라벨:  0\n"
     ]
    },
    {
     "data": {
      "image/png": "[encoded data removed]",
      "text/plain": [
       "<Figure size 432x288 with 1 Axes>"
      ]
     },
     "metadata": {
      "needs_background": "light"
     },
     "output_type": "display_data"
    }
   ],
   "source": [
    "import matplotlib.pyplot as plt\n",
    "\n",
    "plt.imshow(x_train[0])\n",
    "print('라벨: ', y_train[0])"
   ]
  },
  {
   "cell_type": "markdown",
   "id": "896871ed",
   "metadata": {},
   "source": [
    "## Step 3. train data, validation data 나누기, 정규화"
   ]
  },
  {
   "cell_type": "code",
   "execution_count": 46,
   "id": "c5cdc79d",
   "metadata": {},
   "outputs": [],
   "source": [
    "import tensorflow as tf\n",
    "from tensorflow import keras\n",
    "import numpy as np"
   ]
  },
  {
   "cell_type": "code",
   "execution_count": 47,
   "id": "af1e201d",
   "metadata": {},
   "outputs": [
    {
     "data": {
      "text/plain": [
       "(676, 224, 224, 3)"
      ]
     },
     "execution_count": 47,
     "metadata": {},
     "output_type": "execute_result"
    }
   ],
   "source": [
    "x_train.shape"
   ]
  },
  {
   "cell_type": "code",
   "execution_count": 48,
   "id": "9844ae3e",
   "metadata": {},
   "outputs": [
    {
     "data": {
      "text/plain": [
       "(676,)"
      ]
     },
     "execution_count": 48,
     "metadata": {},
     "output_type": "execute_result"
    }
   ],
   "source": [
    "y_train.shape"
   ]
  },
  {
   "cell_type": "code",
   "execution_count": 49,
   "id": "37bdffc9",
   "metadata": {},
   "outputs": [],
   "source": [
    "from sklearn.model_selection import train_test_split\n",
    "\n",
    "# x_train과 y_train을 훈련 세트와 검증 세트로 분할\n",
    "x_train, x_val, y_train, y_val = train_test_split(x_train, y_train, test_size=0.4, random_state=42)"
   ]
  },
  {
   "cell_type": "code",
   "execution_count": 50,
   "id": "586688ca",
   "metadata": {},
   "outputs": [
    {
     "data": {
      "text/plain": [
       "(405, 224, 224, 3)"
      ]
     },
     "execution_count": 50,
     "metadata": {},
     "output_type": "execute_result"
    }
   ],
   "source": [
    "x_train.shape"
   ]
  },
  {
   "cell_type": "code",
   "execution_count": 51,
   "id": "3735c633",
   "metadata": {},
   "outputs": [
    {
     "data": {
      "text/plain": [
       "(271, 224, 224, 3)"
      ]
     },
     "execution_count": 51,
     "metadata": {},
     "output_type": "execute_result"
    }
   ],
   "source": [
    "x_val.shape"
   ]
  },
  {
   "cell_type": "code",
   "execution_count": 52,
   "id": "18789f5b",
   "metadata": {},
   "outputs": [
    {
     "data": {
      "text/plain": [
       "(405,)"
      ]
     },
     "execution_count": 52,
     "metadata": {},
     "output_type": "execute_result"
    }
   ],
   "source": [
    "y_train.shape"
   ]
  },
  {
   "cell_type": "code",
   "execution_count": 53,
   "id": "1cac108b",
   "metadata": {},
   "outputs": [
    {
     "data": {
      "text/plain": [
       "(271,)"
      ]
     },
     "execution_count": 53,
     "metadata": {},
     "output_type": "execute_result"
    }
   ],
   "source": [
    "y_val.shape"
   ]
  },
  {
   "cell_type": "code",
   "execution_count": 56,
   "id": "0e3e1a00",
   "metadata": {},
   "outputs": [
    {
     "data": {
      "text/plain": [
       "dtype('int32')"
      ]
     },
     "execution_count": 56,
     "metadata": {},
     "output_type": "execute_result"
    }
   ],
   "source": [
    "x_train.dtype"
   ]
  },
  {
   "cell_type": "code",
   "execution_count": 57,
   "id": "fe18a40a",
   "metadata": {},
   "outputs": [],
   "source": [
    "x_train = x_train.astype('float32')\n",
    "x_val = x_val.astype('float32')"
   ]
  },
  {
   "cell_type": "code",
   "execution_count": 58,
   "id": "52471cc1",
   "metadata": {},
   "outputs": [],
   "source": [
    "x_train /= 255\n",
    "x_val /= 255"
   ]
  },
  {
   "cell_type": "code",
   "execution_count": 59,
   "id": "626fe5f1",
   "metadata": {},
   "outputs": [
    {
     "data": {
      "text/plain": [
       "array([[[0.83137256, 0.78039217, 0.7058824 ],\n",
       "        [0.8392157 , 0.7882353 , 0.7137255 ],\n",
       "        [0.84705883, 0.79607844, 0.72156864],\n",
       "        ...,\n",
       "        [0.80784315, 0.7490196 , 0.6666667 ],\n",
       "        [0.8       , 0.7411765 , 0.65882355],\n",
       "        [0.78431374, 0.7254902 , 0.6431373 ]],\n",
       "\n",
       "       [[0.83137256, 0.78039217, 0.7058824 ],\n",
       "        [0.8392157 , 0.7882353 , 0.7137255 ],\n",
       "        [0.84705883, 0.79607844, 0.72156864],\n",
       "        ...,\n",
       "        [0.80784315, 0.7490196 , 0.6666667 ],\n",
       "        [0.8       , 0.7411765 , 0.65882355],\n",
       "        [0.7882353 , 0.7294118 , 0.64705884]],\n",
       "\n",
       "       [[0.827451  , 0.7764706 , 0.7019608 ],\n",
       "        [0.8392157 , 0.7882353 , 0.7137255 ],\n",
       "        [0.84705883, 0.79607844, 0.72156864],\n",
       "        ...,\n",
       "        [0.80784315, 0.7490196 , 0.6666667 ],\n",
       "        [0.8       , 0.7411765 , 0.65882355],\n",
       "        [0.7882353 , 0.7294118 , 0.64705884]],\n",
       "\n",
       "       ...,\n",
       "\n",
       "       [[0.08235294, 0.08627451, 0.09411765],\n",
       "        [0.08235294, 0.08627451, 0.09411765],\n",
       "        [0.07843138, 0.08235294, 0.09019608],\n",
       "        ...,\n",
       "        [0.5647059 , 0.5058824 , 0.39215687],\n",
       "        [0.5803922 , 0.5176471 , 0.3882353 ],\n",
       "        [0.6117647 , 0.5372549 , 0.40784314]],\n",
       "\n",
       "       [[0.08627451, 0.09019608, 0.09803922],\n",
       "        [0.08235294, 0.08627451, 0.09411765],\n",
       "        [0.08235294, 0.08627451, 0.09411765],\n",
       "        ...,\n",
       "        [0.5686275 , 0.50980395, 0.39607844],\n",
       "        [0.56078434, 0.49803922, 0.36862746],\n",
       "        [0.60784316, 0.53333336, 0.40392157]],\n",
       "\n",
       "       [[0.09019608, 0.09411765, 0.10196079],\n",
       "        [0.08627451, 0.09019608, 0.09803922],\n",
       "        [0.08235294, 0.08627451, 0.09411765],\n",
       "        ...,\n",
       "        [0.5686275 , 0.50980395, 0.39607844],\n",
       "        [0.54901963, 0.4862745 , 0.35686275],\n",
       "        [0.60784316, 0.53333336, 0.40392157]]], dtype=float32)"
      ]
     },
     "execution_count": 59,
     "metadata": {},
     "output_type": "execute_result"
    }
   ],
   "source": [
    "x_val[0]"
   ]
  },
  {
   "cell_type": "code",
   "execution_count": 60,
   "id": "dafb1ef9",
   "metadata": {},
   "outputs": [
    {
     "data": {
      "text/plain": [
       "(405, 224, 224, 3)"
      ]
     },
     "execution_count": 60,
     "metadata": {},
     "output_type": "execute_result"
    }
   ],
   "source": [
    "x_train.shape"
   ]
  },
  {
   "cell_type": "markdown",
   "id": "3f118ebe",
   "metadata": {},
   "source": [
    "## Step 4. LeNet 모델 쌓기"
   ]
  },
  {
   "cell_type": "code",
   "execution_count": null,
   "id": "c31eee11",
   "metadata": {},
   "outputs": [],
   "source": [
    "# LeNet 기본 모델\n",
    "# 출처: https://www.datasciencecentral.com/lenet-5-a-classic-cnn-architecture/\n",
    "\n",
    "model = Sequential()\n",
    "model.add(layers.Conv2D(6, kernel_size=(5,5), strides=(1,1), activation='tanh', input_shape=(224,224,3), padding=\"same\"))\n",
    "model.add(layers.AveragePooling2D(pool_size=(2,2), strides=(1,1), padding='valid'))\n",
    "model.add(layers.Conv2D(16, kernel_size=(5,5), strides=(1,1), activation='tanh', padding='valid'))\n",
    "model.add(layers.AveragePooling2D(pool_size=(2,2), strides=(2,2), padding='valid'))\n",
    "model.add(layers.Conv2D(120, kernel_size=(5,5), strides=(1,1), activation='tanh', padding='valid'))\n",
    "model.add(layers.Flatten())\n",
    "model.add(layers.Dense(84, activation='tanh'))\n",
    "model.add(layers.Dense(10, activation='softmax'))"
   ]
  },
  {
   "cell_type": "code",
   "execution_count": 82,
   "id": "91acda76",
   "metadata": {},
   "outputs": [],
   "source": [
    "model.summary()"
   ]
  },
  {
   "cell_type": "code",
   "execution_count": null,
   "id": "d2a4b5ee",
   "metadata": {},
   "outputs": [],
   "source": [
    "model.compile(loss=keras.losses.categorical_crossentropy, optimizer='SGD', metrics=[\"accuracy\"])"
   ]
  },
  {
   "cell_type": "markdown",
   "id": "4f1680a6",
   "metadata": {},
   "source": [
    "### 예시는 mnist 10개 클래스 분류라.. 웜톤 쿨톤 이진 분류에 맞게 수정"
   ]
  },
  {
   "cell_type": "code",
   "execution_count": 85,
   "id": "a5d8e892",
   "metadata": {},
   "outputs": [],
   "source": [
    "model = Sequential()\n",
    "model.add(layers.Conv2D(6, kernel_size=(5,5), strides=(1,1), activation='tanh', input_shape=(224,224,3), padding=\"same\"))\n",
    "model.add(layers.AveragePooling2D(pool_size=(2,2), strides=(1,1), padding='valid'))\n",
    "model.add(layers.Conv2D(16, kernel_size=(5,5), strides=(1,1), activation='tanh', padding='valid'))\n",
    "model.add(layers.AveragePooling2D(pool_size=(2,2), strides=(2,2), padding='valid'))\n",
    "model.add(layers.Conv2D(120, kernel_size=(5,5), strides=(1,1), activation='tanh', padding='valid'))\n",
    "model.add(layers.Flatten())\n",
    "model.add(layers.Dense(84, activation='tanh'))\n",
    "model.add(layers.Dense(1, activation='sigmoid'))\n",
    "# 마지막 레이어의 뉴런수 1개, 활성화함수는 시그모이드로 변경"
   ]
  },
  {
   "cell_type": "code",
   "execution_count": 86,
   "id": "fad48d3e",
   "metadata": {},
   "outputs": [
    {
     "name": "stdout",
     "output_type": "stream",
     "text": [
      "Model: \"sequential_3\"\n",
      "_________________________________________________________________\n",
      "Layer (type)                 Output Shape              Param #   \n",
      "=================================================================\n",
      "conv2d_10 (Conv2D)           (None, 224, 224, 6)       456       \n",
      "_________________________________________________________________\n",
      "average_pooling2d_6 (Average (None, 223, 223, 6)       0         \n",
      "_________________________________________________________________\n",
      "conv2d_11 (Conv2D)           (None, 219, 219, 16)      2416      \n",
      "_________________________________________________________________\n",
      "average_pooling2d_7 (Average (None, 109, 109, 16)      0         \n",
      "_________________________________________________________________\n",
      "conv2d_12 (Conv2D)           (None, 105, 105, 120)     48120     \n",
      "_________________________________________________________________\n",
      "flatten_3 (Flatten)          (None, 1323000)           0         \n",
      "_________________________________________________________________\n",
      "dense_6 (Dense)              (None, 84)                111132084 \n",
      "_________________________________________________________________\n",
      "dense_7 (Dense)              (None, 1)                 85        \n",
      "=================================================================\n",
      "Total params: 111,183,161\n",
      "Trainable params: 111,183,161\n",
      "Non-trainable params: 0\n",
      "_________________________________________________________________\n"
     ]
    }
   ],
   "source": [
    "model.summary()"
   ]
  },
  {
   "cell_type": "code",
   "execution_count": 87,
   "id": "4db60f5d",
   "metadata": {},
   "outputs": [],
   "source": [
    "# 손실함수 binary_crossentropy로 수정함\n",
    "model.compile(loss=keras.losses.binary_crossentropy, optimizer='SGD', metrics=[\"accuracy\"])"
   ]
  },
  {
   "cell_type": "markdown",
   "id": "7b1d2524",
   "metadata": {},
   "source": [
    "## 시도 1. epochs = 10, batch_size=128"
   ]
  },
  {
   "cell_type": "code",
   "execution_count": 88,
   "id": "288ff6fb",
   "metadata": {},
   "outputs": [
    {
     "name": "stdout",
     "output_type": "stream",
     "text": [
      "Epoch 1/10\n",
      "4/4 [==============================] - 7s 732ms/step - loss: 2.5659 - accuracy: 0.7086 - val_loss: 2.5322 - val_accuracy: 0.7491\n",
      "Epoch 2/10\n",
      "4/4 [==============================] - 1s 314ms/step - loss: 2.7844 - accuracy: 0.7086 - val_loss: 2.1779 - val_accuracy: 0.7491\n",
      "Epoch 3/10\n",
      "4/4 [==============================] - 1s 319ms/step - loss: 2.4293 - accuracy: 0.7086 - val_loss: 1.8892 - val_accuracy: 0.7491\n",
      "Epoch 4/10\n",
      "4/4 [==============================] - 1s 311ms/step - loss: 2.1118 - accuracy: 0.7086 - val_loss: 1.6222 - val_accuracy: 0.7491\n",
      "Epoch 5/10\n",
      "4/4 [==============================] - 1s 314ms/step - loss: 1.8063 - accuracy: 0.7086 - val_loss: 1.3784 - val_accuracy: 0.7491\n",
      "Epoch 6/10\n",
      "4/4 [==============================] - 1s 313ms/step - loss: 1.5182 - accuracy: 0.7086 - val_loss: 1.1128 - val_accuracy: 0.7491\n",
      "Epoch 7/10\n",
      "4/4 [==============================] - 1s 324ms/step - loss: 1.2193 - accuracy: 0.7086 - val_loss: 0.8994 - val_accuracy: 0.7491\n",
      "Epoch 8/10\n",
      "4/4 [==============================] - 1s 315ms/step - loss: 0.9773 - accuracy: 0.7086 - val_loss: 0.7154 - val_accuracy: 0.7491\n",
      "Epoch 9/10\n",
      "4/4 [==============================] - 1s 314ms/step - loss: 0.7781 - accuracy: 0.7086 - val_loss: 0.6184 - val_accuracy: 0.7491\n",
      "Epoch 10/10\n",
      "4/4 [==============================] - 1s 314ms/step - loss: 0.6753 - accuracy: 0.7086 - val_loss: 0.5844 - val_accuracy: 0.7491\n"
     ]
    }
   ],
   "source": [
    "hist = model.fit(x=x_train, y=y_train, epochs=10, batch_size=128, validation_data=(x_val, y_val), verbose=1)"
   ]
  },
  {
   "cell_type": "code",
   "execution_count": 89,
   "id": "b815e57d",
   "metadata": {},
   "outputs": [
    {
     "name": "stdout",
     "output_type": "stream",
     "text": [
      "9/9 [==============================] - 1s 29ms/step - loss: 0.5844 - accuracy: 0.7491\n",
      "Test loss 0.5844, accuracy 74.91%\n"
     ]
    }
   ],
   "source": [
    "test_score=model.evaluate(x_val, y_val)\n",
    "print(\"Test loss {:.4f}, accuracy {:.2f}%\".format(test_score[0], test_score[1]*100))"
   ]
  },
  {
   "cell_type": "markdown",
   "id": "2f4f620f",
   "metadata": {},
   "source": [
    "## 시도 2. epochs = 30, batch_size=128"
   ]
  },
  {
   "cell_type": "code",
   "execution_count": 90,
   "id": "421c32b1",
   "metadata": {},
   "outputs": [
    {
     "name": "stdout",
     "output_type": "stream",
     "text": [
      "Epoch 1/30\n",
      "4/4 [==============================] - 2s 428ms/step - loss: 0.6375 - accuracy: 0.7086 - val_loss: 0.5646 - val_accuracy: 0.7491\n",
      "Epoch 2/30\n",
      "4/4 [==============================] - 1s 311ms/step - loss: 0.6111 - accuracy: 0.7086 - val_loss: 0.5639 - val_accuracy: 0.7491\n",
      "Epoch 3/30\n",
      "4/4 [==============================] - 1s 313ms/step - loss: 0.6045 - accuracy: 0.7086 - val_loss: 0.5653 - val_accuracy: 0.7491\n",
      "Epoch 4/30\n",
      "4/4 [==============================] - 1s 311ms/step - loss: 0.6038 - accuracy: 0.7086 - val_loss: 0.5652 - val_accuracy: 0.7491\n",
      "Epoch 5/30\n",
      "4/4 [==============================] - 1s 313ms/step - loss: 0.6040 - accuracy: 0.7086 - val_loss: 0.5664 - val_accuracy: 0.7491\n",
      "Epoch 6/30\n",
      "4/4 [==============================] - 1s 311ms/step - loss: 0.6041 - accuracy: 0.7086 - val_loss: 0.5713 - val_accuracy: 0.7491\n",
      "Epoch 7/30\n",
      "4/4 [==============================] - 1s 311ms/step - loss: 0.6043 - accuracy: 0.7086 - val_loss: 0.5754 - val_accuracy: 0.7491\n",
      "Epoch 8/30\n",
      "4/4 [==============================] - 1s 311ms/step - loss: 0.6053 - accuracy: 0.7086 - val_loss: 0.5648 - val_accuracy: 0.7491\n",
      "Epoch 9/30\n",
      "4/4 [==============================] - 1s 310ms/step - loss: 0.6057 - accuracy: 0.7086 - val_loss: 0.5657 - val_accuracy: 0.7491\n",
      "Epoch 10/30\n",
      "4/4 [==============================] - 1s 314ms/step - loss: 0.6042 - accuracy: 0.7086 - val_loss: 0.5677 - val_accuracy: 0.7491\n",
      "Epoch 11/30\n",
      "4/4 [==============================] - 1s 317ms/step - loss: 0.6043 - accuracy: 0.7086 - val_loss: 0.5729 - val_accuracy: 0.7491\n",
      "Epoch 12/30\n",
      "4/4 [==============================] - 1s 313ms/step - loss: 0.6051 - accuracy: 0.7086 - val_loss: 0.5682 - val_accuracy: 0.7491\n",
      "Epoch 13/30\n",
      "4/4 [==============================] - 1s 314ms/step - loss: 0.6038 - accuracy: 0.7086 - val_loss: 0.5679 - val_accuracy: 0.7491\n",
      "Epoch 14/30\n",
      "4/4 [==============================] - 1s 315ms/step - loss: 0.6048 - accuracy: 0.7086 - val_loss: 0.5674 - val_accuracy: 0.7491\n",
      "Epoch 15/30\n",
      "4/4 [==============================] - 1s 316ms/step - loss: 0.6036 - accuracy: 0.7086 - val_loss: 0.5669 - val_accuracy: 0.7491\n",
      "Epoch 16/30\n",
      "4/4 [==============================] - 1s 312ms/step - loss: 0.6039 - accuracy: 0.7086 - val_loss: 0.5727 - val_accuracy: 0.7491\n",
      "Epoch 17/30\n",
      "4/4 [==============================] - 1s 313ms/step - loss: 0.6041 - accuracy: 0.7086 - val_loss: 0.5663 - val_accuracy: 0.7491\n",
      "Epoch 18/30\n",
      "4/4 [==============================] - 1s 317ms/step - loss: 0.6037 - accuracy: 0.7086 - val_loss: 0.5680 - val_accuracy: 0.7491\n",
      "Epoch 19/30\n",
      "4/4 [==============================] - 1s 314ms/step - loss: 0.6034 - accuracy: 0.7086 - val_loss: 0.5676 - val_accuracy: 0.7491\n",
      "Epoch 20/30\n",
      "4/4 [==============================] - 1s 317ms/step - loss: 0.6034 - accuracy: 0.7086 - val_loss: 0.5687 - val_accuracy: 0.7491\n",
      "Epoch 21/30\n",
      "4/4 [==============================] - 1s 312ms/step - loss: 0.6043 - accuracy: 0.7086 - val_loss: 0.5650 - val_accuracy: 0.7491\n",
      "Epoch 22/30\n",
      "4/4 [==============================] - 1s 316ms/step - loss: 0.6042 - accuracy: 0.7086 - val_loss: 0.5661 - val_accuracy: 0.7491\n",
      "Epoch 23/30\n",
      "4/4 [==============================] - 1s 317ms/step - loss: 0.6045 - accuracy: 0.7086 - val_loss: 0.5657 - val_accuracy: 0.7491\n",
      "Epoch 24/30\n",
      "4/4 [==============================] - 1s 316ms/step - loss: 0.6042 - accuracy: 0.7086 - val_loss: 0.5654 - val_accuracy: 0.7491\n",
      "Epoch 25/30\n",
      "4/4 [==============================] - 1s 317ms/step - loss: 0.6037 - accuracy: 0.7086 - val_loss: 0.5651 - val_accuracy: 0.7491\n",
      "Epoch 26/30\n",
      "4/4 [==============================] - 1s 315ms/step - loss: 0.6045 - accuracy: 0.7086 - val_loss: 0.5635 - val_accuracy: 0.7491\n",
      "Epoch 27/30\n",
      "4/4 [==============================] - 1s 319ms/step - loss: 0.6078 - accuracy: 0.7086 - val_loss: 0.5679 - val_accuracy: 0.7491\n",
      "Epoch 28/30\n",
      "4/4 [==============================] - 1s 314ms/step - loss: 0.6060 - accuracy: 0.7086 - val_loss: 0.5682 - val_accuracy: 0.7491\n",
      "Epoch 29/30\n",
      "4/4 [==============================] - 1s 317ms/step - loss: 0.6039 - accuracy: 0.7086 - val_loss: 0.5648 - val_accuracy: 0.7491\n",
      "Epoch 30/30\n",
      "4/4 [==============================] - 1s 316ms/step - loss: 0.6038 - accuracy: 0.7086 - val_loss: 0.5689 - val_accuracy: 0.7491\n"
     ]
    }
   ],
   "source": [
    "hist = model.fit(x=x_train, y=y_train, epochs=30, batch_size=128, validation_data=(x_val, y_val), verbose=1)"
   ]
  },
  {
   "cell_type": "code",
   "execution_count": 91,
   "id": "567a4c37",
   "metadata": {},
   "outputs": [
    {
     "name": "stdout",
     "output_type": "stream",
     "text": [
      "9/9 [==============================] - 0s 35ms/step - loss: 0.5689 - accuracy: 0.7491\n",
      "Test loss 0.5689, accuracy 74.91%\n"
     ]
    }
   ],
   "source": [
    "test_score=model.evaluate(x_val, y_val)\n",
    "print(\"Test loss {:.4f}, accuracy {:.2f}%\".format(test_score[0], test_score[1]*100))"
   ]
  },
  {
   "cell_type": "markdown",
   "id": "ca2d570c",
   "metadata": {},
   "source": [
    "## 시도 3. epochs = 30, batch_size=64"
   ]
  },
  {
   "cell_type": "code",
   "execution_count": 92,
   "id": "0e9234ec",
   "metadata": {},
   "outputs": [
    {
     "name": "stdout",
     "output_type": "stream",
     "text": [
      "Epoch 1/30\n",
      "7/7 [==============================] - 3s 243ms/step - loss: 0.6040 - accuracy: 0.7086 - val_loss: 0.5692 - val_accuracy: 0.7491\n",
      "Epoch 2/30\n",
      "7/7 [==============================] - 1s 191ms/step - loss: 0.6046 - accuracy: 0.7086 - val_loss: 0.5757 - val_accuracy: 0.7491\n",
      "Epoch 3/30\n",
      "7/7 [==============================] - 1s 180ms/step - loss: 0.6063 - accuracy: 0.7086 - val_loss: 0.5654 - val_accuracy: 0.7491\n",
      "Epoch 4/30\n",
      "7/7 [==============================] - 1s 182ms/step - loss: 0.6040 - accuracy: 0.7086 - val_loss: 0.5667 - val_accuracy: 0.7491\n",
      "Epoch 5/30\n",
      "7/7 [==============================] - 1s 183ms/step - loss: 0.6039 - accuracy: 0.7086 - val_loss: 0.5708 - val_accuracy: 0.7491\n",
      "Epoch 6/30\n",
      "7/7 [==============================] - 1s 182ms/step - loss: 0.6041 - accuracy: 0.7086 - val_loss: 0.5663 - val_accuracy: 0.7491\n",
      "Epoch 7/30\n",
      "7/7 [==============================] - 1s 182ms/step - loss: 0.6037 - accuracy: 0.7086 - val_loss: 0.5677 - val_accuracy: 0.7491\n",
      "Epoch 8/30\n",
      "7/7 [==============================] - 1s 179ms/step - loss: 0.6041 - accuracy: 0.7086 - val_loss: 0.5673 - val_accuracy: 0.7491\n",
      "Epoch 9/30\n",
      "7/7 [==============================] - 1s 183ms/step - loss: 0.6049 - accuracy: 0.7086 - val_loss: 0.5682 - val_accuracy: 0.7491\n",
      "Epoch 10/30\n",
      "7/7 [==============================] - 1s 182ms/step - loss: 0.6035 - accuracy: 0.7086 - val_loss: 0.5723 - val_accuracy: 0.7491\n",
      "Epoch 11/30\n",
      "7/7 [==============================] - 1s 182ms/step - loss: 0.6037 - accuracy: 0.7086 - val_loss: 0.5695 - val_accuracy: 0.7491\n",
      "Epoch 12/30\n",
      "7/7 [==============================] - 1s 184ms/step - loss: 0.6038 - accuracy: 0.7086 - val_loss: 0.5623 - val_accuracy: 0.7491\n",
      "Epoch 13/30\n",
      "7/7 [==============================] - 1s 182ms/step - loss: 0.6053 - accuracy: 0.7086 - val_loss: 0.5625 - val_accuracy: 0.7491\n",
      "Epoch 14/30\n",
      "7/7 [==============================] - 1s 184ms/step - loss: 0.6070 - accuracy: 0.7086 - val_loss: 0.5650 - val_accuracy: 0.7491\n",
      "Epoch 15/30\n",
      "7/7 [==============================] - 1s 184ms/step - loss: 0.6064 - accuracy: 0.7086 - val_loss: 0.5672 - val_accuracy: 0.7491\n",
      "Epoch 16/30\n",
      "7/7 [==============================] - 1s 182ms/step - loss: 0.5999 - accuracy: 0.7086 - val_loss: 0.5629 - val_accuracy: 0.7491\n",
      "Epoch 17/30\n",
      "7/7 [==============================] - 1s 180ms/step - loss: 0.6036 - accuracy: 0.7086 - val_loss: 0.5652 - val_accuracy: 0.7491\n",
      "Epoch 18/30\n",
      "7/7 [==============================] - 1s 184ms/step - loss: 0.5992 - accuracy: 0.7086 - val_loss: 0.5626 - val_accuracy: 0.7491\n",
      "Epoch 19/30\n",
      "7/7 [==============================] - 1s 181ms/step - loss: 0.6006 - accuracy: 0.7086 - val_loss: 0.5665 - val_accuracy: 0.7491\n",
      "Epoch 20/30\n",
      "7/7 [==============================] - 1s 182ms/step - loss: 0.6031 - accuracy: 0.7086 - val_loss: 0.5682 - val_accuracy: 0.7491\n",
      "Epoch 21/30\n",
      "7/7 [==============================] - 1s 183ms/step - loss: 0.6046 - accuracy: 0.7086 - val_loss: 0.5687 - val_accuracy: 0.7491\n",
      "Epoch 22/30\n",
      "7/7 [==============================] - 1s 177ms/step - loss: 0.5999 - accuracy: 0.7086 - val_loss: 0.5609 - val_accuracy: 0.7491\n",
      "Epoch 23/30\n",
      "7/7 [==============================] - 1s 183ms/step - loss: 0.5966 - accuracy: 0.7086 - val_loss: 0.5702 - val_accuracy: 0.7491\n",
      "Epoch 24/30\n",
      "7/7 [==============================] - 1s 183ms/step - loss: 0.6017 - accuracy: 0.7086 - val_loss: 0.5635 - val_accuracy: 0.7491\n",
      "Epoch 25/30\n",
      "7/7 [==============================] - 1s 183ms/step - loss: 0.5976 - accuracy: 0.7086 - val_loss: 0.5631 - val_accuracy: 0.7491\n",
      "Epoch 26/30\n",
      "7/7 [==============================] - 1s 182ms/step - loss: 0.5919 - accuracy: 0.7086 - val_loss: 0.5533 - val_accuracy: 0.7491\n",
      "Epoch 27/30\n",
      "7/7 [==============================] - 1s 183ms/step - loss: 0.5983 - accuracy: 0.7086 - val_loss: 0.5537 - val_accuracy: 0.7491\n",
      "Epoch 28/30\n",
      "7/7 [==============================] - 1s 183ms/step - loss: 0.5846 - accuracy: 0.7086 - val_loss: 0.5609 - val_accuracy: 0.7491\n",
      "Epoch 29/30\n",
      "7/7 [==============================] - 1s 184ms/step - loss: 0.5567 - accuracy: 0.7086 - val_loss: 0.5205 - val_accuracy: 0.7491\n",
      "Epoch 30/30\n",
      "7/7 [==============================] - 1s 183ms/step - loss: 0.5798 - accuracy: 0.7086 - val_loss: 0.5815 - val_accuracy: 0.7491\n"
     ]
    }
   ],
   "source": [
    "hist = model.fit(x=x_train, y=y_train, epochs=30, batch_size=64, validation_data=(x_val, y_val), verbose=1)"
   ]
  },
  {
   "cell_type": "code",
   "execution_count": 89,
   "id": "e51b51ac",
   "metadata": {},
   "outputs": [
    {
     "name": "stdout",
     "output_type": "stream",
     "text": [
      "9/9 [==============================] - 1s 29ms/step - loss: 0.5844 - accuracy: 0.7491\n",
      "Test loss 0.5844, accuracy 74.91%\n"
     ]
    }
   ],
   "source": [
    "test_score=model.evaluate(x_val, y_val)\n",
    "print(\"Test loss {:.4f}, accuracy {:.2f}%\".format(test_score[0], test_score[1]*100))"
   ]
  },
  {
   "cell_type": "markdown",
   "id": "d5742e63",
   "metadata": {},
   "source": [
    "## Step 5. 한 줄 정리"
   ]
  },
  {
   "cell_type": "markdown",
   "id": "27af19df",
   "metadata": {},
   "source": [
    "시도 1. epochs = 10, batch_size=128\n",
    "loss: 0.5844 - accuracy: 0.7491\n",
    "        \n",
    "**시도 2. epochs = 30, batch_size=128\n",
    "loss: 0.5689 - accuracy: 0.7491**\n",
    "\n",
    "시도 3. epochs = 30, batch_size=64\n",
    "loss: 0.5844 - accuracy: 0.7491"
   ]
  }
 ],
 "metadata": {
  "kernelspec": {
   "display_name": "Python 3 (ipykernel)",
   "language": "python",
   "name": "python3"
  },
  "language_info": {
   "codemirror_mode": {
    "name": "ipython",
    "version": 3
   },
   "file_extension": ".py",
   "mimetype": "text/x-python",
   "name": "python",
   "nbconvert_exporter": "python",
   "pygments_lexer": "ipython3",
   "version": "3.9.7"
  }
 },
 "nbformat": 4,
 "nbformat_minor": 5
}
